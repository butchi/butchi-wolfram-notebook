{
 "cells": [
  {
   "cell_type": "code",
   "execution_count": 2,
   "metadata": {
    "vscode": {
     "languageId": "wolfram"
    }
   },
   "outputs": [],
   "source": [
    "integerComplex[0] := 0\n",
    "integerComplex[n_?Positive] := FromDigits[IntegerDigits[n, 2], 1 + I]\n",
    "integerComplex[n_?Negative] := -FromDigits[IntegerDigits[-n - 1, 2], 1 + I] + I"
   ]
  },
  {
   "cell_type": "code",
   "execution_count": 5,
   "metadata": {
    "vscode": {
     "languageId": "wolfram"
    }
   },
   "outputs": [],
   "source": [
    "divide[c_] := (c - Sow[Boole[!Divisible[c, 1 + I]]]) / (1 + I)\n",
    "complexInteger[c_] := With[\n",
    "    {res = Reap[FixedPoint[divide, c]]},\n",
    "    If[\n",
    "        First[res] == 0,\n",
    "        FromDigits[Reverse[Most[res[[2, 1]]]], 2],\n",
    "        -FromDigits[1 - Reverse[Most[res[[2, 1]]]], 2] - 1\n",
    "    ]\n",
    "]"
   ]
  },
  {
   "cell_type": "code",
   "execution_count": 7,
   "metadata": {
    "vscode": {
     "languageId": "wolfram"
    }
   },
   "outputs": [
    {
     "data": {
      "text/html": [
       "<div><pre style=\"&#102;&#111;&#110;&#116;&#45;&#102;&#97;&#109;&#105;&#108;&#121;&#58;&#32;&#34;&#67;&#111;&#117;&#114;&#105;&#101;&#114;&#32;&#78;&#101;&#119;&#34;&#44;&#67;&#111;&#117;&#114;&#105;&#101;&#114;&#44;&#109;&#111;&#110;&#111;&#115;&#112;&#97;&#99;&#101;&#59;\">&#123;&#45;&#57;&#57;&#44;&#32;&#45;&#57;&#56;&#44;&#32;&#45;&#57;&#55;&#44;&#32;&#45;&#57;&#54;&#44;&#32;&#45;&#57;&#53;&#44;&#32;&#45;&#57;&#52;&#44;&#32;&#45;&#57;&#51;&#44;&#32;&#45;&#57;&#50;&#44;&#32;&#45;&#57;&#49;&#44;&#32;&#45;&#57;&#48;&#44;&#32;&#45;&#56;&#57;&#44;&#32;&#45;&#56;&#56;&#44;&#32;&#45;&#56;&#55;&#44;&#32;&#45;&#56;&#54;&#44;&#32;&#45;&#56;&#53;&#44;&#32;&#45;&#56;&#52;&#44;&#32;&#45;&#56;&#51;&#44;&#32;&#10;&#32;&#10;&#62;&#32;&#32;&#32;&#45;&#56;&#50;&#44;&#32;&#45;&#56;&#49;&#44;&#32;&#45;&#56;&#48;&#44;&#32;&#45;&#55;&#57;&#44;&#32;&#45;&#55;&#56;&#44;&#32;&#45;&#55;&#55;&#44;&#32;&#45;&#55;&#54;&#44;&#32;&#45;&#55;&#53;&#44;&#32;&#45;&#55;&#52;&#44;&#32;&#45;&#55;&#51;&#44;&#32;&#45;&#55;&#50;&#44;&#32;&#45;&#55;&#49;&#44;&#32;&#45;&#55;&#48;&#44;&#32;&#45;&#54;&#57;&#44;&#32;&#45;&#54;&#56;&#44;&#32;&#45;&#54;&#55;&#44;&#32;&#45;&#54;&#54;&#44;&#32;&#10;&#32;&#10;&#62;&#32;&#32;&#32;&#45;&#54;&#53;&#44;&#32;&#45;&#54;&#52;&#44;&#32;&#45;&#54;&#51;&#44;&#32;&#45;&#54;&#50;&#44;&#32;&#45;&#54;&#49;&#44;&#32;&#45;&#54;&#48;&#44;&#32;&#45;&#53;&#57;&#44;&#32;&#45;&#53;&#56;&#44;&#32;&#45;&#53;&#55;&#44;&#32;&#45;&#53;&#54;&#44;&#32;&#45;&#53;&#53;&#44;&#32;&#45;&#53;&#52;&#44;&#32;&#45;&#53;&#51;&#44;&#32;&#45;&#53;&#50;&#44;&#32;&#45;&#53;&#49;&#44;&#32;&#45;&#53;&#48;&#44;&#32;&#45;&#52;&#57;&#44;&#32;&#10;&#32;&#10;&#62;&#32;&#32;&#32;&#45;&#52;&#56;&#44;&#32;&#45;&#52;&#55;&#44;&#32;&#45;&#52;&#54;&#44;&#32;&#45;&#52;&#53;&#44;&#32;&#45;&#52;&#52;&#44;&#32;&#45;&#52;&#51;&#44;&#32;&#45;&#52;&#50;&#44;&#32;&#45;&#52;&#49;&#44;&#32;&#45;&#52;&#48;&#44;&#32;&#45;&#51;&#57;&#44;&#32;&#45;&#51;&#56;&#44;&#32;&#45;&#51;&#55;&#44;&#32;&#45;&#51;&#54;&#44;&#32;&#45;&#51;&#53;&#44;&#32;&#45;&#51;&#52;&#44;&#32;&#45;&#51;&#51;&#44;&#32;&#45;&#51;&#50;&#44;&#32;&#10;&#32;&#10;&#62;&#32;&#32;&#32;&#45;&#51;&#49;&#44;&#32;&#45;&#51;&#48;&#44;&#32;&#45;&#50;&#57;&#44;&#32;&#45;&#50;&#56;&#44;&#32;&#45;&#50;&#55;&#44;&#32;&#45;&#50;&#54;&#44;&#32;&#45;&#50;&#53;&#44;&#32;&#45;&#50;&#52;&#44;&#32;&#45;&#50;&#51;&#44;&#32;&#45;&#50;&#50;&#44;&#32;&#45;&#50;&#49;&#44;&#32;&#45;&#50;&#48;&#44;&#32;&#45;&#49;&#57;&#44;&#32;&#45;&#49;&#56;&#44;&#32;&#45;&#49;&#55;&#44;&#32;&#45;&#49;&#54;&#44;&#32;&#45;&#49;&#53;&#44;&#32;&#10;&#32;&#10;&#62;&#32;&#32;&#32;&#45;&#49;&#52;&#44;&#32;&#45;&#49;&#51;&#44;&#32;&#45;&#49;&#50;&#44;&#32;&#45;&#49;&#49;&#44;&#32;&#45;&#49;&#48;&#44;&#32;&#45;&#57;&#44;&#32;&#45;&#56;&#44;&#32;&#45;&#55;&#44;&#32;&#45;&#54;&#44;&#32;&#45;&#53;&#44;&#32;&#45;&#52;&#44;&#32;&#45;&#51;&#44;&#32;&#45;&#50;&#44;&#32;&#45;&#49;&#44;&#32;&#48;&#44;&#32;&#49;&#44;&#32;&#50;&#44;&#32;&#51;&#44;&#32;&#52;&#44;&#32;&#53;&#44;&#32;&#54;&#44;&#32;&#55;&#44;&#32;&#10;&#32;&#10;&#62;&#32;&#32;&#32;&#56;&#44;&#32;&#57;&#44;&#32;&#49;&#48;&#44;&#32;&#49;&#49;&#44;&#32;&#49;&#50;&#44;&#32;&#49;&#51;&#44;&#32;&#49;&#52;&#44;&#32;&#49;&#53;&#44;&#32;&#49;&#54;&#44;&#32;&#49;&#55;&#44;&#32;&#49;&#56;&#44;&#32;&#49;&#57;&#44;&#32;&#50;&#48;&#44;&#32;&#50;&#49;&#44;&#32;&#50;&#50;&#44;&#32;&#50;&#51;&#44;&#32;&#50;&#52;&#44;&#32;&#50;&#53;&#44;&#32;&#50;&#54;&#44;&#32;&#50;&#55;&#44;&#32;&#50;&#56;&#44;&#32;&#10;&#32;&#10;&#62;&#32;&#32;&#32;&#50;&#57;&#44;&#32;&#51;&#48;&#44;&#32;&#51;&#49;&#44;&#32;&#51;&#50;&#44;&#32;&#51;&#51;&#44;&#32;&#51;&#52;&#44;&#32;&#51;&#53;&#44;&#32;&#51;&#54;&#44;&#32;&#51;&#55;&#44;&#32;&#51;&#56;&#44;&#32;&#51;&#57;&#44;&#32;&#52;&#48;&#44;&#32;&#52;&#49;&#44;&#32;&#52;&#50;&#44;&#32;&#52;&#51;&#44;&#32;&#52;&#52;&#44;&#32;&#52;&#53;&#44;&#32;&#52;&#54;&#44;&#32;&#52;&#55;&#44;&#32;&#52;&#56;&#44;&#32;&#52;&#57;&#44;&#32;&#10;&#32;&#10;&#62;&#32;&#32;&#32;&#53;&#48;&#44;&#32;&#53;&#49;&#44;&#32;&#53;&#50;&#44;&#32;&#53;&#51;&#44;&#32;&#53;&#52;&#44;&#32;&#53;&#53;&#44;&#32;&#53;&#54;&#44;&#32;&#53;&#55;&#44;&#32;&#53;&#56;&#44;&#32;&#53;&#57;&#44;&#32;&#54;&#48;&#44;&#32;&#54;&#49;&#44;&#32;&#54;&#50;&#44;&#32;&#54;&#51;&#44;&#32;&#54;&#52;&#44;&#32;&#54;&#53;&#44;&#32;&#54;&#54;&#44;&#32;&#54;&#55;&#44;&#32;&#54;&#56;&#44;&#32;&#54;&#57;&#44;&#32;&#55;&#48;&#44;&#32;&#10;&#32;&#10;&#62;&#32;&#32;&#32;&#55;&#49;&#44;&#32;&#55;&#50;&#44;&#32;&#55;&#51;&#44;&#32;&#55;&#52;&#44;&#32;&#55;&#53;&#44;&#32;&#55;&#54;&#44;&#32;&#55;&#55;&#44;&#32;&#55;&#56;&#44;&#32;&#55;&#57;&#44;&#32;&#56;&#48;&#44;&#32;&#56;&#49;&#44;&#32;&#56;&#50;&#44;&#32;&#56;&#51;&#44;&#32;&#56;&#52;&#44;&#32;&#56;&#53;&#44;&#32;&#56;&#54;&#44;&#32;&#56;&#55;&#44;&#32;&#56;&#56;&#44;&#32;&#56;&#57;&#44;&#32;&#57;&#48;&#44;&#32;&#57;&#49;&#44;&#32;&#10;&#32;&#10;&#62;&#32;&#32;&#32;&#57;&#50;&#44;&#32;&#57;&#51;&#44;&#32;&#57;&#52;&#44;&#32;&#57;&#53;&#44;&#32;&#57;&#54;&#44;&#32;&#57;&#55;&#44;&#32;&#57;&#56;&#44;&#32;&#57;&#57;&#125;</pre></div>"
      ],
      "text/plain": [
       "{-99, -98, -97, -96, -95, -94, -93, -92, -91, -90, -89, -88, -87, -86, -85, -84, -83, \n",
       " \n",
       ">   -82, -81, -80, -79, -78, -77, -76, -75, -74, -73, -72, -71, -70, -69, -68, -67, -66, \n",
       " \n",
       ">   -65, -64, -63, -62, -61, -60, -59, -58, -57, -56, -55, -54, -53, -52, -51, -50, -49, \n",
       " \n",
       ">   -48, -47, -46, -45, -44, -43, -42, -41, -40, -39, -38, -37, -36, -35, -34, -33, -32, \n",
       " \n",
       ">   -31, -30, -29, -28, -27, -26, -25, -24, -23, -22, -21, -20, -19, -18, -17, -16, -15, \n",
       " \n",
       ">   -14, -13, -12, -11, -10, -9, -8, -7, -6, -5, -4, -3, -2, -1, 0, 1, 2, 3, 4, 5, 6, 7, \n",
       " \n",
       ">   8, 9, 10, 11, 12, 13, 14, 15, 16, 17, 18, 19, 20, 21, 22, 23, 24, 25, 26, 27, 28, \n",
       " \n",
       ">   29, 30, 31, 32, 33, 34, 35, 36, 37, 38, 39, 40, 41, 42, 43, 44, 45, 46, 47, 48, 49, \n",
       " \n",
       ">   50, 51, 52, 53, 54, 55, 56, 57, 58, 59, 60, 61, 62, 63, 64, 65, 66, 67, 68, 69, 70, \n",
       " \n",
       ">   71, 72, 73, 74, 75, 76, 77, 78, 79, 80, 81, 82, 83, 84, 85, 86, 87, 88, 89, 90, 91, \n",
       " \n",
       ">   92, 93, 94, 95, 96, 97, 98, 99}"
      ]
     },
     "execution_count": 7,
     "metadata": {
      "text/html": [],
      "text/plain": []
     },
     "output_type": "execute_result"
    }
   ],
   "source": [
    "Table[complexInteger[integerComplex[i]], {i, -99, 99}]"
   ]
  },
  {
   "cell_type": "code",
   "execution_count": 28,
   "metadata": {
    "vscode": {
     "languageId": "wolfram"
    }
   },
   "outputs": [
    {
     "data": {
      "text/html": [
       "<div><img alt=\"Output\" src=\"data:image/png;base64,iVBORw0KGgoAAAANSUhEUgAAAeAAAAHgCAIAAADytinCAAAAzHpUWHRSYXcgcHJvZmlsZSB0eXBlIGV4aWYAAHjabY/RDcMgDET/maIj2MacYRzSEKkbdPzaIVFF1ZPiexy2I9J4v470CAlT0mIVDSCXNm3SHSpNTWdqZz01buI1T/cFd/fyvcCYztuaG6ZL/VlEMiHHH5yzXgPXoiwz5z7P29UvvdZ1UaNFuIH/nzWboIBNvaqQGZpzTY5uKELFcOAJeCNjF9Kn+4CZj8GiI/cYDMmwtXskZA/2eEKOT3N357M2iUSc5UpYtshPjud8AJbxWuJdgidwAAAACXBIWXMAAA7EAAAOxAGVKw4bAAAAPHRFWHRTb2Z0d2FyZQBDcmVhdGVkIHdpdGggdGhlIFdvbGZyYW0gTGFuZ3VhZ2UgOiB3d3cud29sZnJhbS5jb21coqaFAAAAIXRFWHRDcmVhdGlvbiBUaW1lADIwMjQ6MDE6MDkgMjI6MjE6MDHwbIaKAAAgAElEQVR4nO3dUXLjutKsUfjGP8X2IK1BnvvQEQrutsmqBJFClfytp9M8Cuxi2iJLAAV//O9//xsAgHr+3+4CAAA/4wINAEVxgQaAorhAA0BRXKABoCgu0ABQFBdoACiKCzQAFPV/1//3x8dHOITpqy6Z//REAflhJfkaTOeVJyXgOC+JqQBHtgQrDStxvGu2B/u3huvX00EDQFFBB31t+91SqmH7DXN7J0Kw0rCSN27xHMNuL8CRraMAOmgAKCqYARn/vdIfX/w8/oLtlubuoj9WaOpKfiwgdF0hwZ4VEAordGd7M9jjcXewY7ap/7HCOsGOqMJSwZ6hgwaAorJPcdDiSQWEaPEktHgmvzNYdbQJq9KIpzhKecGv7EKNsiVYn0bZEqzJdLBMcQBAUbces3ulRnfLQSdiQ7AmBOtzJ1s6aAAoqu4c9K5lkzlblk3mEKzJrvWoObuW/edsWfafszZYOmgAKKriHDQtngktns+vbfHcugc7mIMGgLfUYw66vrIxfkewJgTr0yjbtcFWn+Kor9EvOsH6NMqWYE0cwTLFAQBFBVMcn5+fX19fE+M+Ho/n//7z58/348eDoedd9FjM5+fnxUFJWOHxdK4d8wwrvJmtO9jj8ZrBnlXoCHYo2R77vusKFwZ7PJ4PdhyydQd7VqEj2HE7W3ewI3GBpYMGgKKCOWhaPFo8Wrzxu1u87wfz3MGeVegIdtg+SV+ggwaAouI56OM/83dR6Taev4tKw+bvoqYC8sNK7Um+hkbBSjU0ClYatlGww3M12B6sVMOS82IOGgBayj4Hvb0TocUzFSAN2yjYQYvXKliphkbBSsN+F3+TMFyBkVYq8gsF+WGlFRhHAdKw+RUYaaXCdF759Y38grDpvKSlrfyCsOm8HMGeveDmeUkPiToKkIbNL3RLK+2m8wpvdUxxAEBRwRQHLR4tHi1eWIA0bNMWb+EnadN5SQ+JOi5H0nklp4nooAGgqAW72bEOIA3baIFl8Khiq2ClGhoFKw3bKNjBHDQA9HVru1FaPGnY7Z3I9mClGhoFKw3bKNjBo4q7g6WDBoCitO1Gw3XS/D0kXEqW2r18hc+D0vhhhXPPoud3KboZ7PG4O1jpPxFW6Aj2eFwa/7rChcGOk6do6gR7VqEj2HE7W3ew4+QSkXHdSmd3s+MKclYhV5CawZ5VyBXEHaz0n3A3amF/ubBRmwv2GlMcAFCUtptdnuNm4jN3l96lUbYEa0KwPi/Olt3sAKAly1/1bnTDpBMxIVifRtkS7E100ABQ1II56JctaC6xcKXYbe0jfW4Lnxt5gYXPjbgRrMnaB3KmMQcNAC3dmoOmxfPp3okQ7H1FWrwkPkk7LJ7iqK/gz+AMwfo0ypZgTYoEyxQHALS0bIqjviI3zKRG2RKsCcH6dMmWDhoAigrmoB+Ph2lz5DkLd9h5wS104Q47W4Ids6s97mwX7rDzgr5v4Q47BHu0cI/JLcH+PX5dJB00ABQVzEHXuWHS4vnQ4pm8R4s3UQCfpI/uVEgHDQBFxXPQF/+8YLqFmm7jpruoqQBHtgQrDStxvGu2ByvV0ChYadi8iwKua8s+Zrf9F50riDSshCtIo2ClYfMIVhpWcicEpjgAoKj4q97hCozpO/j5lQppBcb0Hfz8OoDpvPKkJSDHeUlMBTh25JAepqwT7IjetqbzkuTftqbzypOuh4/Hg696A0BLwRw0LV6IFo8W76zC92jxkgW4P0mvLcDxSXruo/w1OmgAKKrudqPvulDbaAVcqqFRsNKweQQrDSt54weNmIMGgJYqbjdKJyINm0ew0rCSN27xHMNuL6DLs+TabnamdYDQ3A/J9ERdvoDQdYUEe1ZAKKzQne3NYI/H3cGO2XuGabk1X0DousIiwV6/hikOACgqu5sdLZ5UQIgWT0KLZ/I7g1VHm7AqDTpoAChK281uu2r1XHvBJ4xVCNanUbYEa3IRLHPQANDSrcfsXqnR3XLQidgQrAnB+tzJlg4aAIqqOwe9a117zpZ17TkEa7LrgYE5u57LmrPluaw5arDXmVec4uAKYsIVxOeNryB7dQ92MMUBAG+pxxRHfWUbkO8I1oRgfRplqwbLY3YA0FL1Oej6GnUiBOvTKFuCNXEESwcNAEUFc9AfHx/XG/6fWbvDzvPFx2Kef+3lx4OShRvBHF8ZVngzW3ewx+M1gz2r0BHsULI9vvK6woXBjtmnMp4vdgd7VqEj2HE7W3ewf49fX4HpoAGgqGAOmhaPFo8Wb/zuFu/7wYnxzyq8GexZhY5gx+2rwUSF8RTH8Z/5H1KFP6uT/yGZCsgPK/32z+3hu2rM4QlWqqFRsNKwjYIdnqvB9mClGpacF1McANBS9jG77Z0ILZ6pAGnYRsEOWrxWwUo1NApWGvY7OmgAKCr+qne4AiOtVOQXCvLDSiswjgKkYfMrMNJKhem88usb+QVh03lJS1v5BWHTeTmCPXvBzfOSHhJ1FCANm1/ollbaTef19fXFV70BoKVgDpoWjxaPFi8sQBq2XYt3UfaPBYzobWs6L+khUcflSDqv5Dw+HTQAFLVgu1EWaqVhG62AD54lbxWsVEOjYKVhGwU7EnPQt3az4woiDbv9F317sFINjYKVhm0U7OBRxd3BMsUBAEVpu9mF0/DXox2FKxVSu5ev8Hnwn2+xXwsrnHsWPb8Jxs1gj8fdwQ4l27BCR7DH4/lgwwoXBjtOFmnrBHtWoSPYcTtbd7Dj5BKRwVe9AaCl7G52tHhnFdLi1Qz2rEJaPHewo9In6XACYOEn6blgr9FBA0BR2najeVJ7st30aW7RKFuCNSFYnxdnyxw0ALRk+avejW6YdCImBOvTKFuCvWnBFMdxhOfry/5gfqyw4A9mnFdYM9sfK6wZ7DipkGDv6x7sYIoDAJBxa4qDFs+neydCsPcVafGS+CTtQAcNAEUtnoOur+BN8gzB+jTKlmBNigTLHDQAtLRsDrq+IjfMpEbZEqwJwfp0yZYOGgCKCuagh3ircd9FwwcG8gW84BYaVpivYUuwY3Y53p1tWGGdYEdUIcFOCyusczWYrjCY4qjz8+AK4sMVxOSdriA0atPuVMgUBwAUFU9x/OfVu9sT023cdBc1FeDIlmClYSWOd832YKUaGgUrDZs3nQAdNAAUlX3MbnsnQosnDSuhxWsUrDRsHsFKw0ruhEAHDQBFxV/1DpfITZuk5JeSpSVy0yYp+YVa03nlSWv0jvOSmApwbJkkPUxZJ9gRvW1N5yXJv21N55UnXQ//ucB+RwcNAEUFc9C0eCFaPFq8swrfo8VLFuD+JL22AMcn6bmP8tfq7mb3rusAjRZYpBoaBSsNm0ew0rCSN17HZooDAFqquJsdnYg0bB7BSsNK3rjFcwy7vYAujyrSQQNAUdpudqZ1gNDcXdT0RF2+gNB1hQR7VkAorNCd7c1gj8fdwY7Zpt603JovIHRdYalgz9BBA0BR2e1GafGkAkK0eBJaPJPfGaw62oRVadBBA0BR2naj272gp1ioUbYE69MoW4I1mQ721mN2r9TohzH4RbchWBOC9bmTLVMcAFBU3SmOXcsmc7Ysm8whWJNd61Fzdi37z9my7D9nbbB00ABQVMU5aFo8E1o8n1/b4rl1D3YwBw0Ab6nHHHR9ZWP8jmBNCNanUbZrg6WDBoCiqs9B19eoEyFYn0bZEqyJZYvg60E/Pz+/vr4mxn08Hs///efPn+/HjwdDzx/SsZjPz8+Lg5KwwuPpXDvmGVZ4M1t3sMfjNYM9q9AR7FCyPV5WritcGOzxeD7YccjWHexZhY5gx+1s3cGOxAWWKQ4AKCqY4qDFo8WjxRu/u8X7fjDPHexZhY5gh+2T9AU6aAAoKp6DPv4zfxeVbuP5u6g0bP4uaiogP6zUnuRraBSsVEOjYKVhGwU7PFeD7cFKNSw5L+agAaCl7GN22zsRWjxTAdKwjYIdtHitgpVqaBSsNOx3dNAAUFT8Ve9wiVxaSs6v5OaHlZbIHQVIw+aXyKWlZNN55Reg80/smM5LevYg/8SO6bwcwZ694OZ5SU/xOwqQhs0/iSQ9CmU6r/CzSDDFwRWEKwhXkLAAadimV5CFjZrpvKSHRB2XI+m8ktNETHEAQFELdrNjHUAattECy+BRxVbBSjU0ClYatlGwI5EtHTQAFHVrNztaPGnY7Z3I9mClGhoFKw3bKNjBo4q7g6WDBoCitO1Gw3XS/D0kXEqW2r18hc+D0vhhhXPPoud3KboZ7PG4O1jpPxFW6Aj2eFwa/7rChcGOk6do6gR7VqEj2HE7W3ew4+QSkcFXvQGgpex2o7R4ZxXS4tUM9qxCWjx3sNJ/wv1JOpwAWPhJei7Ya9pudnmOWn3mfgl2aZQtwZoQrM+Ls2WKAwBasvzR2EY3TDoRE4L1aZQtwd5EBw0ARS2Yg37ZfPkSCxci3NY+0ue2cFnyBRYuS7oRrMna9d5pzEEDQEu35qBp8Xy6dyIEe1+RFi+JT9IOdNAAUNTiOej6Ct4kzxCsT6NsCdakSLDXc9DLpjjqK/LzSGqULcGaEKxPl2yZ4gCAooIpjsfjYdocec7CDRxecAtduIHDlmDH7GqPO9uFGzi8oO9buIEDwR4t3GNyS7B/j18XSQcNAEUFc9B1bpi0eD60eCbv0eJNFMAn6aM7FdJBA0BR8Rz0xT8vmG6hptu46S5qKsCRLcFKw0oc75rtwUo1NApWGjbvogDmoAGgpexz0Ns7EVo8aVgJLV6jYKVh8whWGlZyJ4T4m4ThCozpO/j5lQppBcb0Hfz8OoDpvPKkJSDHeUlMBTh25JAepqwT7IjetqbzkuTftqbzypOuh4/Hg93sAKClYIqDFi9Ei0eLd1bhe7R4yQLcn6TXFuD4JD33Uf4aHTQAFFV3N7t3XQdotMAi1dAoWGnYPIKVhpW88To2c9AA0FLF7UbpRKRh8whWGlbyxi2eY9jtBXR5VJEOGgCK0rYbNS3UhubuoqZHnvMFhK4rJNizAkJhhe5sbwZ7PO4Odsw29abnYfIFhK4rLBLs9Wuyu9lxBZEKCHEFkXAFMfmdwaqjTViVBlMcAFCUtpvddtXqufaCTxirEKxPo2wJ1uQi2OvM6aABoKhbj9m9UqO75aATsSFYE4L1uZMtHTQAFFV3DnrXuvacLevacwjWZNcDA3N2PZc1Z8tzWXPUYJmDBoCWKs5B0+KZ0OL5vHGLt1f3YMe9bHtMcdRX9vf7O4I1IVifRtmqwTLFAQAtVZ/iqK9RJ0KwPo2yJVgTR7B00ABQVDAH/fHxcb3h/5m1O+w8X3ws5vnXXn48KFm4EczxlWGFN7N1B3s8XjPYswodwQ4l2+MrrytcGOyYXfR7vtgd7FmFjmDH7Wzdwf49fn0FpoMGgKKCOWhaPFo8Wrzxu1u87wcnxj+r8GawZxU6gh23rwYTFdJBA0BR8Rz08Z/5u2iFv3uWv4uaCsgPK7Unc5usrxpzeIKVamgUrDRso2CH52qwPViphiXndX0Fzj5mt/0XnSuIqQBp2EbBDq4grYKVamgUrDTsd0xxAEBR8Ve9wxUYaaUiv1CQH1ZagXEUIA2bX4GRVipM55Vf38gvCJvOS1rayi8Im87LEezZC26el/SQqKMAadj8Qre00m46r6+vL77qDQAtBXPQtHi0eLR4YQHSsO1avIuyfyxgRG9b03lJD4k6LkfSeSXn8emgAaCoBduNslArDdtoBXzwqGKrYKUaGgUrDdso2MEcNAD0dWu7UVo8adjtncj2YKUaGgUrDdso2MGz5LuD1XazC6fhr0c7ClcqpKtJvsLnwX++JHktrHDuWfT8Jhg3gz0edwc7lGzDCh3BHo/ngw0rXBjsOFmkrRPsWYWOYMftbN3BjpNLRAa72QFAS9nd7GjxziqkxasZ7FmFtHjuYEelT9LhBMDCT9JzwV6jgwaAorTd7PKk9mS76dPcolG2BGtCsD4vzpY5aABoyfJXvRvdMOlETAjWp1G2BHsTHTQAFLVgDvo4wvP1Ze+cP1ZY8M45ziusme2PFdYMdpxUSLD3dQ92FJuDvjXFwRXEp/svOsHeV+QKkkSj5sAUBwAUtXiKo76CN8kzBOvTKFuCNSkSLI/ZAUBLy+ag6ytyw0xqlC3BmhCsT5ds6aABoKhgDnqItxr3XTR8YCBfwAtuoWGF+Rq2BDtml+Pd2YYV1gl2RBUS7LSwwjpXg+kK6aABoKhgDrrODZMWz4cWz+SdWjw+SU+7U2E8xfGfV+/+7Tf9lph+SKYCHNkSrDSsxPGu2R6sVEOjYKVh86YTYIoDAIrKPma3vROhxZOGldDiNQpWGjaPYKVhJXdCoIMGgKLir3qHKzCmTVLyKxXSCoxpk5T8OoDpvPKkJSDHeUlMBTi2TJIepqwT7IjetqbzkuTftqbzypOuh/9cYL+jgwaAooI5aFq8EC0eLd5Zhe/R4iULcH+SXluA45P03Ef5a3TQAFBU3e1G33WhttEKuFRDo2ClYfMIVhpW8sYPGl2/vuJudvyiS8PmEaw0rOSNryCOYbcX0OVRRaY4AKAobTc70zpAaO4uanqiLl9A6LpCgj0rIBRW6M72ZrDH4+5gx2xTb1puzRcQuq6wVLBn6KABoKjsbna0eFIBIVo8CS2eye8MVh1twqo06KABoChtu9HtXtBTLNQoW4L1aZQtwZpMB0sHDQBF3XoO+pUa3S0HnYgNwZoQrM+dbOtOcexaNpmzZdlkDsGa7FqPmrNr2X/OlmX/OWuDZYoDAIqqOMVBi2dCi+fza1s8t+7BjnvZ0kEDQFE95qDrKxvjdwRrQrA+jbJdGywdNAAUVX0Our5GnQjB+jTKlmBNHMHSQQNAUcEc9Ofn59fX18S4j8fj+b///Pnz/fjxYOh5Fz0W8/n5eXFQElZ4PJ1rxzzDCm9m6w72eLxmsGcVOoIdSrbHvu+6woXBHo/ngx2HbN3BnlXoCHbcztYd7EhcYIMpDq4gXEG4gozffQX5fjDPHexZhY5gh61Ru8AUBwAUFU9xHP+Zv4tKt/H8XVQaNn8XNRWQH1ZqT/I1NApWqqFRsNKwjYIdnqvB9mClGpac13WMdNAAUFT2MbvtnQgtnqkAadhGwQ5avFbBSjU0ClYa9js6aAAoKv6qd7hELi0l51dy88NKS+SOAqRh80vk0lKy6bzyC9D5J3ZM5yU9e5B/Ysd0Xo5gz15w87ykh0QdBUjD5p9Ekh6FMp1X+FmEDhoAigrmoGnxaPFo8cICpGGbtngLP0mbzkt6it9xOZLOKzmPv2A3O9YBpGEbLbAMHlVsFaxUQ6NgpWEbBTuY4gCAvm7tZkeLJw27vRPZHqxUQ6NgpWEbBTt4VHF3sHTQAFCUtptdOA2fv4eEKxVSu5ev8HlQGj+scO5Z9PwuRTeDPR53Byv9J8IKHcEej0vjX1e4MNhxskhbJ9izCh3BjtvZuoMdJ5eIDL7qDQAtZbcbpcU7q5AWr2awZxXS4rmDlf4T7k/S4QTAwk/Sc8Feo4MGgKK07UbzHDcTn7m79C6NsiVYE4L1eXG2t/6iypxGPw9+0U0I1qdRtgR7E1McAFDUgimOl82XL7FwIcJt7SN9bguXJV9g4bKkG8GarF3vncZjdgDQ0q05aFo8n+6dCMHeV6TFS+KTtAMdNAAUtXgOur6CN8kzBOvTKFuCNSkSLHPQANDSsjno+orcMJMaZUuwJgTr0yXbYIrj8XiYNkees3ADhxf8hBZu4LAl2DG72uPOduEGDi+4rCzcwIFgjxbuMbkl2L/Hr4tkigMAigqmOOrcMGnxfGjxTN6jxZsogE/SR3cqpIMGgKLiOeiLf14w3UJNt3HTXdRUgCNbgpWGlTjeNduDlWpoFKw0bN5FAcxBA0BL2cfstncitHjSsBJavEbBSsPmEaw0rOROCHTQAFBU/FXvcInctElKfilZWiI3bZKSX6g1nVeetEbvOC+JqQDHlknS0+51gh3R29Z0XpL829Z0XnnS9fDxeNz6iypcQUJcQbiCnFX4HleQZAHuRm1tAY5Gba5TvMYUBwAUVXc3u3ddB2i0wCLV0ChYadg8gpWGlbzxOja72QFASxV3s6MTkYbNI1hpWMkbt3iOYbcX0OVRRTpoAChK227UtFAbmruLmp6oyxcQuq6QYM8KCIUVurO9GezxuDvYMdvUm56HyRcQuq6wSLDXr6GDBoCistuN0uJJBYRo8SS0eCa/M1h1tAmr0tB2s9uuWj3XXnADW4VgfRplS7AmF8EyxQEALd16zO6VGt0tB52IDcGaEKzPnWzpoAGgqLpz0LuWTeZsWTaZQ7Amu9aj5uxa9p+zZdl/jhosc9AA0FLFOWhaPBNaPJ83bvH26h7sYA4aAN5Sjzno+so2IN8RrAnB+jTKVg32+vXVpzjqa/SLTrA+jbIlWBNHsExxAEBRwRTHx8fH9Yb/Z9Zu4PB88bGY5197+fGgZOE+A8dXhhXezNYd7PF4zWDPKnQEO5Rsj6+8rnBhsGN20e/5YnewZxU6gh23s3UH+/f49RWYDhoAigrmoGnxaPFo8cbvbvG+H5wY/6zCm8GeVegIdty+GkxUSAcNAEXFc9DHf+bvohX+7ln+LmoqID+s1J7M7eG7aszhCVaqoVGw0rCNgh2eq8H2YKUalpwXc9AA0FL2OejtnQgtnqkAadhGwQ5avFbBSjU0ClYa9rv4m4ThCoy0UpFfKMgPK63AOAqQhs2vwEgrFabzyq9v5BeETeclLW3lF4RN5+UI9uwFN89LekjUUYA0bH6hW1ppN53X19cXu9kBQEvBFActHi0eLV5YgDRsuxbvouwfCxjR29Z0XtJDoo7LkXReyWkiOmgAKGrBbnasA0jDNlpgGTyq2CpYqYZGwUrDNgp2MAcNAH3d2m6UFk8adnsnsj1YqYZGwUrDNgp28Kji7mDpoAGgKG270XCd9Hq0o3ApWWr38hU+D/7zLfZrYYVzz6Lndym6GezxuDvYoWQbVugI9ng8H2xY4cJgx8lTNHWCPavQEey4na072HFyici4Diq7mx1XkLMKuYLUDPasQq4g7mBHpUYt7C8XNmpzwV5jigMAitJ2s8uT2pPtpk9zi0bZEqwJwfq8OFt2swOAlix/1bvRDZNOxIRgfRplS7A30UEDQFEL5qCPIzxfX/bO+WOFBe+c47zCmtn+WGHNYMdJhQR7X/dgB3PQAICMW3PQtHg+3TsRgr2vSIuXxCdph8VTHPUV/BmcIVifRtkSrEmRYJniAICWlk1x1FfkhpnUKFuCNSFYny7Z0kEDQFHBHPQQbzXuu2i4HpUv4AW30LDCfA1bgh2zqz3ubMMK6wQ7ogoJdlpYYZ2rwXSFdNAAUFQwB13nhkmL50OLZ/JOLR6fpKfdqZAOGgCKiueg//Pq3e2J6TZuuouaCnBkS7DSsBLHu2Z7sFINjYKVhs2bTiD7mN32X3SuINKwEq4gjYKVhs0jWGlYyZ0QmOIAgKLir3qHKzCm7+DnVyqkFRjTd/Dz6wCm88qTloAc5yUxFeDYkUN6mLJOsCN625rOS5J/25rOK0+6Hv5zgf2ODhoAigrmoGnxQrR4tHhnFb5Hi5cswP1Jem0Bjk/Scx/lr9FBA0BRdbcbfdeF2kYr4FINjYKVhs0jWGlYyRs/aMQcNAC0VHG7UToRadg8gpWGlbxxi+cYdnsBXZ4l13azM60DhOZ+SKYn6vIFhK4rJNizAkJhhe5sbwZ7PO4OdszeM0zLrfkCQtcVlgr2DFMcAFBUdjc7WjypgBAtnoQWz+R3BquONmFVGnTQAFCUtpvddi/oKRZqlC3B+jTKlmBNpoOlgwaAom49ZvdKje6Wg07EhmBNCNbnTrZ00ABQVN056F3r2nO2rGvPIViTXQ8MzNn1XNacLc9lzVkbbMUpDq4gJlxBfH7tFcSte7CDKQ4AeEs9pjjqKxvjdwRrQrA+jbJdGywdNAAUVX0Our5GnQjB+jTKlmBNHMHSQQNAUcEc9Ofn59fX18S4j8fj+b///Pnz/fjxYOh5Fz0W8/n5eXFQElZ4PJ1rxzzDCm9m6w72eLxmsGcVOoIdSrbHvu+6woXBHo/ngx2HbN3BnlXoCHbcztYd7EhcYOmgAaCoYA6aFo8WjxZv/O4W7/vBPHewZxU6gh22T9IX4imO4z/zPyTptyT/Q5KGzf+QTAXkh5V++/M1NApWqqFRsNKwjYIdnqvB9mClGpacF1McANBS9jG77Z0ILZ6pAGnYRsEOWrxWwUo1NApWGvY7OmgAKCr+qne4AiOtVOQXCvLDSiswjgKkYfMrMNJKhem88usb+QVh03lJS1v5BWHTeTmCPXvBzfOSHhJ1FCANm1/ollbaTecVfhahgwaAooI5aFo8WjxavLAAadimLd7CT9Km85IeEnVcjqTzSs7j00EDQFELthtloVYattEK+OBZ8lbBSjU0ClYatlGwI5Htrd3suIJIw27/Rd8erFRDo2ClYRsFO3hUcXewTHEAQFHabnbhNHz+HhKuVEjtXr7C50Fp/LDCuWfR85tg3Az2eNwdrPSfCCt0BHs8Lo1/XeHCYMfJIm2dYM8qdAQ7bmfrDnacXCIy+Ko3ALSU3c2OFu+sQlq8msGeVUiL5w5W+k+4P0mHEwALP0nPBXuNDhoAitK2G81z3Ex85u7SuzTKlmBNCNbnxdkyBw0ALVn+qnejGyadiAnB+jTKlmBvWjDF8bL58iUWLkS4rX2kz23hsuQLLFyWdCNYk7XrvdOY4gCAlm5NcdDi+XTvRAj2viItXhKfpB3ooAGgqMVz0PUVvEmeIVifRtkSrEmRYJmDBoCWls1B11fkhpnUKFuCNSFYny7Z0kEDQFHBHPTj8TDtXj9n4Q47L7iFLtxhZ0uwY3Y53p3twh12XtD3Ldxhh2CPFm4CvCXYv8eviwymOOr8PLiC+HAFMXmPK8hEATRqR3cqZIoDAIqKpzgu/nnBdIh3unAAAAV1SURBVAs13cZNd1FTAY5sCVYaVuJ412wPVqqhUbDSsHkXBVzXRgcNAEVlH7Pb3onQ4knDSmjxGgUrDZtHsNKwkjsh0EEDQFHxV73DJXLTJin5pWRpidy0SUp+odZ0XnnSGr3jvCSmAhxbJkkPU9YJdkRvW9N5SfJvW9N55UnXw8fjwVe9AaClYA6aFi9Ei0eLd1bhe7R4yQLcn6TXFuD4JD33Uf5a3d3s3nUdoNECi1RDo2ClYfMIVhpW8sbr2ExxAEBLFXezoxORhs0jWGlYyRu3eI5htxfQ5VFFOmgAKErbzc60DhCau4uanqjLFxC6rpBgzwoIhRW6s70Z7PG4O9gx29SbllvzBYSuKywS7PVr6KABoKjsdqO0eFIBIVo8CS2eye8MVh1twqo06KABoChtu9HtqtVz7QWfMFYhWJ9G2RKsyUWw15nfeszulRr9MAa/6DYEa0KwPneyZYoDAIqqO8Wxa9lkzpZlkzkEa7JrPWrOrmX/OVuW/eeowfKYHQC0VHEOmhbPhBbP541bvL26BzuYgwaAt9RjDrq+sg3IdwRrQrA+jbJVg2UOGgBaqj4HXV+jToRgfRplS7AmjmCDKY6Pj4/rDf/PrN3A4fniYzHPv/by40HJwn0Gjq8MK7yZrTvY4/GawZ5V6Ah2KNkeX3ld4cJgx+yi3/PF7mDPKnQEO25n6w727/HrKzBTHABQVDDFQYtHi0eLN353i/f94MT4ZxXeDPasQkew4/bVYKJCOmgAKCqegz7+M38XrfB3z/J3UVMB+WGl9mRuD99VYw5PsFINjYKVhm0U7PBcDbYHK9Ww5LyYgwaAlrKP2W3vRGjxTAVIwzYKdtDitQpWqqFRsNKw39FBA0BR8Ve9wyVyaSk5v5KbH1ZaIncUIA2bXyKXlpJN55VfgM4/sWM6L+nZg/wTO6bzcgR79oKb5yU9xe8oQBo2/ySS9CiU6by+vr6um/FgioMrCFcQriBhAdKw7a4gF2X/WMCI3ram85IeEnVcjqTzSk4TMcUBAEUt2M2OdQBp2EYLLINHFVsFK9XQKFhp2EbBjsQUBx00ABR1azc7Wjxp2O2dyPZgpRoaBSsN2yjYwaOKu4OlgwaAorTtRsN10uvRjsKlZKndy1f4PPjPt9ivhRXOPYue36XoZrDH4+5gh5JtWKEj2OPxfLBhhQuDHSdP0dQJ9qxCR7DjdrbuYMfJJSKDr3oDQEvZ7UZp8c4qpMWrGexZhbR47mBHpU/S4QTAwk/Sc8Fe03azy5N++7ebPs0tGmVLsCYE6/PibJniAICWLH80ttENk07EhGB9GmVLsDfRQQNAUQvmoI8jPF9f9s75Y4UF75zjvMKa2f5YYc1gx0mFBHtf92AHc9AAgIxbc9C0eD7dOxGCva9Ii5fEJ2kHOmgAKGrxHHR9BW+SZwjWp1G2BGtSJNjrxJZNcdRX5OeR1ChbgjUhWJ8u2TLFAQBFBVMcQ7zVuO+i4XpUvoAX3ELDCvM1bAl2zK72uLMNK6wT7IgqJNhpYYV1rgbTFdJBA0BRwRx0nRsmLZ4PLZ7JO7V4fJKedqdCOmgAKCqeg/7Pq3e3J6bbuOkuairAkS3BSsNKHO+a7cFKNTQKVho2bzoBOmgAKCr7HPT2ToQWTxpWQovXKFhp2DyClYaV3Akh/iZhuAJj+g5+fqVCWoExfQc/vw5gOq88aQnIcV4SUwGOHTmkhynrBDuit63pvCT5t63pvPKk6+E/F9jvmOIAgKKCKQ5avBAtHi3eWYXv0eIlC3B/kl5bgOOT9NxH+Wt00ABQlPaYHQDgZeigAaAoLtAAUBQXaAAoigs0ABTFBRoAiuICDQBFcYEGgKK4QANAUVygAaCo/w+IW2kWVoHgjAAAAABJRU5ErkJggg==\"></div>"
      ],
      "text/plain": [
       "-Graphics-"
      ]
     },
     "execution_count": 28,
     "metadata": {
      "text/html": [],
      "text/plain": []
     },
     "output_type": "execute_result"
    }
   ],
   "source": [
    "ArrayPlot[Reverse[Table[Mod[Floor[complexInteger[Complex[x, y]] / 1024], 4], {y, -128, 127}, {x, -128, 127}]], Frame -> False]"
   ]
  },
  {
   "cell_type": "code",
   "execution_count": null,
   "metadata": {
    "vscode": {
     "languageId": "wolfram"
    }
   },
   "outputs": [],
   "source": []
  }
 ],
 "metadata": {
  "kernelspec": {
   "display_name": "Wolfram Language 13.3",
   "language": "Wolfram Language",
   "name": "wolframlanguage13.3"
  },
  "language_info": {
   "codemirror_mode": "mathematica",
   "file_extension": ".m",
   "mimetype": "application/vnd.wolfram.m",
   "name": "Wolfram Language",
   "pygments_lexer": "mathematica",
   "version": "12.0"
  }
 },
 "nbformat": 4,
 "nbformat_minor": 2
}
