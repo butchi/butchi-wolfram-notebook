{
 "cells": [
  {
   "cell_type": "markdown",
   "metadata": {},
   "source": [
    "# binary-tree-index-by-bit-operation.nb\n",
    "\n",
    "from binary-tree-index.nb\n",
    "\n",
    "created at 2021-10-21"
   ]
  },
  {
   "cell_type": "code",
   "execution_count": 1,
   "metadata": {
    "vscode": {
     "languageId": "wolfram"
    }
   },
   "outputs": [],
   "source": [
    "indexBinary[n_, len_] := FromDigits[PadRight[RotateLeft[IntegerDigits[n, 2]], len], 2]"
   ]
  },
  {
   "cell_type": "code",
   "execution_count": 2,
   "metadata": {
    "vscode": {
     "languageId": "wolfram"
    }
   },
   "outputs": [
    {
     "data": {
      "text/html": [
       "<div><pre style=\"&#102;&#111;&#110;&#116;&#45;&#102;&#97;&#109;&#105;&#108;&#121;&#58;&#32;&#34;&#67;&#111;&#117;&#114;&#105;&#101;&#114;&#32;&#78;&#101;&#119;&#34;&#44;&#67;&#111;&#117;&#114;&#105;&#101;&#114;&#44;&#109;&#111;&#110;&#111;&#115;&#112;&#97;&#99;&#101;&#59;\">&#123;&#123;&#49;&#44;&#32;&#49;&#50;&#56;&#125;&#44;&#32;&#123;&#50;&#44;&#32;&#54;&#52;&#125;&#44;&#32;&#123;&#51;&#44;&#32;&#49;&#57;&#50;&#125;&#44;&#32;&#123;&#52;&#44;&#32;&#51;&#50;&#125;&#44;&#32;&#123;&#53;&#44;&#32;&#57;&#54;&#125;&#44;&#32;&#123;&#54;&#44;&#32;&#49;&#54;&#48;&#125;&#44;&#32;&#123;&#55;&#44;&#32;&#50;&#50;&#52;&#125;&#44;&#32;&#123;&#56;&#44;&#32;&#49;&#54;&#125;&#44;&#32;&#123;&#57;&#44;&#32;&#52;&#56;&#125;&#44;&#32;&#10;&#32;&#10;&#62;&#32;&#32;&#32;&#123;&#49;&#48;&#44;&#32;&#56;&#48;&#125;&#44;&#32;&#123;&#49;&#49;&#44;&#32;&#49;&#49;&#50;&#125;&#44;&#32;&#123;&#49;&#50;&#44;&#32;&#49;&#52;&#52;&#125;&#44;&#32;&#123;&#49;&#51;&#44;&#32;&#49;&#55;&#54;&#125;&#44;&#32;&#123;&#49;&#52;&#44;&#32;&#50;&#48;&#56;&#125;&#44;&#32;&#123;&#49;&#53;&#44;&#32;&#50;&#52;&#48;&#125;&#44;&#32;&#123;&#49;&#54;&#44;&#32;&#56;&#125;&#44;&#32;&#123;&#49;&#55;&#44;&#32;&#50;&#52;&#125;&#44;&#32;&#10;&#32;&#10;&#62;&#32;&#32;&#32;&#123;&#49;&#56;&#44;&#32;&#52;&#48;&#125;&#44;&#32;&#123;&#49;&#57;&#44;&#32;&#53;&#54;&#125;&#44;&#32;&#123;&#50;&#48;&#44;&#32;&#55;&#50;&#125;&#44;&#32;&#123;&#50;&#49;&#44;&#32;&#56;&#56;&#125;&#44;&#32;&#123;&#50;&#50;&#44;&#32;&#49;&#48;&#52;&#125;&#44;&#32;&#123;&#50;&#51;&#44;&#32;&#49;&#50;&#48;&#125;&#44;&#32;&#123;&#50;&#52;&#44;&#32;&#49;&#51;&#54;&#125;&#44;&#32;&#123;&#50;&#53;&#44;&#32;&#49;&#53;&#50;&#125;&#44;&#32;&#10;&#32;&#10;&#62;&#32;&#32;&#32;&#123;&#50;&#54;&#44;&#32;&#49;&#54;&#56;&#125;&#44;&#32;&#123;&#50;&#55;&#44;&#32;&#49;&#56;&#52;&#125;&#44;&#32;&#123;&#50;&#56;&#44;&#32;&#50;&#48;&#48;&#125;&#44;&#32;&#123;&#50;&#57;&#44;&#32;&#50;&#49;&#54;&#125;&#44;&#32;&#123;&#51;&#48;&#44;&#32;&#50;&#51;&#50;&#125;&#44;&#32;&#123;&#51;&#49;&#44;&#32;&#50;&#52;&#56;&#125;&#44;&#32;&#123;&#51;&#50;&#44;&#32;&#52;&#125;&#44;&#32;&#123;&#51;&#51;&#44;&#32;&#49;&#50;&#125;&#44;&#32;&#10;&#32;&#10;&#62;&#32;&#32;&#32;&#123;&#51;&#52;&#44;&#32;&#50;&#48;&#125;&#44;&#32;&#123;&#51;&#53;&#44;&#32;&#50;&#56;&#125;&#44;&#32;&#123;&#51;&#54;&#44;&#32;&#51;&#54;&#125;&#44;&#32;&#123;&#51;&#55;&#44;&#32;&#52;&#52;&#125;&#44;&#32;&#123;&#51;&#56;&#44;&#32;&#53;&#50;&#125;&#44;&#32;&#123;&#51;&#57;&#44;&#32;&#54;&#48;&#125;&#44;&#32;&#123;&#52;&#48;&#44;&#32;&#54;&#56;&#125;&#44;&#32;&#123;&#52;&#49;&#44;&#32;&#55;&#54;&#125;&#44;&#32;&#10;&#32;&#10;&#62;&#32;&#32;&#32;&#123;&#52;&#50;&#44;&#32;&#56;&#52;&#125;&#44;&#32;&#123;&#52;&#51;&#44;&#32;&#57;&#50;&#125;&#44;&#32;&#123;&#52;&#52;&#44;&#32;&#49;&#48;&#48;&#125;&#44;&#32;&#123;&#52;&#53;&#44;&#32;&#49;&#48;&#56;&#125;&#44;&#32;&#123;&#52;&#54;&#44;&#32;&#49;&#49;&#54;&#125;&#44;&#32;&#123;&#52;&#55;&#44;&#32;&#49;&#50;&#52;&#125;&#44;&#32;&#123;&#52;&#56;&#44;&#32;&#49;&#51;&#50;&#125;&#44;&#32;&#10;&#32;&#10;&#62;&#32;&#32;&#32;&#123;&#52;&#57;&#44;&#32;&#49;&#52;&#48;&#125;&#44;&#32;&#123;&#53;&#48;&#44;&#32;&#49;&#52;&#56;&#125;&#44;&#32;&#123;&#53;&#49;&#44;&#32;&#49;&#53;&#54;&#125;&#44;&#32;&#123;&#53;&#50;&#44;&#32;&#49;&#54;&#52;&#125;&#44;&#32;&#123;&#53;&#51;&#44;&#32;&#49;&#55;&#50;&#125;&#44;&#32;&#123;&#53;&#52;&#44;&#32;&#49;&#56;&#48;&#125;&#44;&#32;&#123;&#53;&#53;&#44;&#32;&#49;&#56;&#56;&#125;&#44;&#32;&#10;&#32;&#10;&#62;&#32;&#32;&#32;&#123;&#53;&#54;&#44;&#32;&#49;&#57;&#54;&#125;&#44;&#32;&#123;&#53;&#55;&#44;&#32;&#50;&#48;&#52;&#125;&#44;&#32;&#123;&#53;&#56;&#44;&#32;&#50;&#49;&#50;&#125;&#44;&#32;&#123;&#53;&#57;&#44;&#32;&#50;&#50;&#48;&#125;&#44;&#32;&#123;&#54;&#48;&#44;&#32;&#50;&#50;&#56;&#125;&#44;&#32;&#123;&#54;&#49;&#44;&#32;&#50;&#51;&#54;&#125;&#44;&#32;&#123;&#54;&#50;&#44;&#32;&#50;&#52;&#52;&#125;&#44;&#32;&#10;&#32;&#10;&#62;&#32;&#32;&#32;&#123;&#54;&#51;&#44;&#32;&#50;&#53;&#50;&#125;&#44;&#32;&#123;&#54;&#52;&#44;&#32;&#50;&#125;&#44;&#32;&#123;&#54;&#53;&#44;&#32;&#54;&#125;&#44;&#32;&#123;&#54;&#54;&#44;&#32;&#49;&#48;&#125;&#44;&#32;&#123;&#54;&#55;&#44;&#32;&#49;&#52;&#125;&#44;&#32;&#123;&#54;&#56;&#44;&#32;&#49;&#56;&#125;&#44;&#32;&#123;&#54;&#57;&#44;&#32;&#50;&#50;&#125;&#44;&#32;&#123;&#55;&#48;&#44;&#32;&#50;&#54;&#125;&#44;&#32;&#10;&#32;&#10;&#62;&#32;&#32;&#32;&#123;&#55;&#49;&#44;&#32;&#51;&#48;&#125;&#44;&#32;&#123;&#55;&#50;&#44;&#32;&#51;&#52;&#125;&#44;&#32;&#123;&#55;&#51;&#44;&#32;&#51;&#56;&#125;&#44;&#32;&#123;&#55;&#52;&#44;&#32;&#52;&#50;&#125;&#44;&#32;&#123;&#55;&#53;&#44;&#32;&#52;&#54;&#125;&#44;&#32;&#123;&#55;&#54;&#44;&#32;&#53;&#48;&#125;&#44;&#32;&#123;&#55;&#55;&#44;&#32;&#53;&#52;&#125;&#44;&#32;&#123;&#55;&#56;&#44;&#32;&#53;&#56;&#125;&#44;&#32;&#10;&#32;&#10;&#62;&#32;&#32;&#32;&#123;&#55;&#57;&#44;&#32;&#54;&#50;&#125;&#44;&#32;&#123;&#56;&#48;&#44;&#32;&#54;&#54;&#125;&#44;&#32;&#123;&#56;&#49;&#44;&#32;&#55;&#48;&#125;&#44;&#32;&#123;&#56;&#50;&#44;&#32;&#55;&#52;&#125;&#44;&#32;&#123;&#56;&#51;&#44;&#32;&#55;&#56;&#125;&#44;&#32;&#123;&#56;&#52;&#44;&#32;&#56;&#50;&#125;&#44;&#32;&#123;&#56;&#53;&#44;&#32;&#56;&#54;&#125;&#44;&#32;&#123;&#56;&#54;&#44;&#32;&#57;&#48;&#125;&#44;&#32;&#10;&#32;&#10;&#62;&#32;&#32;&#32;&#123;&#56;&#55;&#44;&#32;&#57;&#52;&#125;&#44;&#32;&#123;&#56;&#56;&#44;&#32;&#57;&#56;&#125;&#44;&#32;&#123;&#56;&#57;&#44;&#32;&#49;&#48;&#50;&#125;&#44;&#32;&#123;&#57;&#48;&#44;&#32;&#49;&#48;&#54;&#125;&#44;&#32;&#123;&#57;&#49;&#44;&#32;&#49;&#49;&#48;&#125;&#44;&#32;&#123;&#57;&#50;&#44;&#32;&#49;&#49;&#52;&#125;&#44;&#32;&#123;&#57;&#51;&#44;&#32;&#49;&#49;&#56;&#125;&#44;&#32;&#10;&#32;&#10;&#62;&#32;&#32;&#32;&#123;&#57;&#52;&#44;&#32;&#49;&#50;&#50;&#125;&#44;&#32;&#123;&#57;&#53;&#44;&#32;&#49;&#50;&#54;&#125;&#44;&#32;&#123;&#57;&#54;&#44;&#32;&#49;&#51;&#48;&#125;&#44;&#32;&#123;&#57;&#55;&#44;&#32;&#49;&#51;&#52;&#125;&#44;&#32;&#123;&#57;&#56;&#44;&#32;&#49;&#51;&#56;&#125;&#44;&#32;&#123;&#57;&#57;&#44;&#32;&#49;&#52;&#50;&#125;&#44;&#32;&#123;&#49;&#48;&#48;&#44;&#32;&#49;&#52;&#54;&#125;&#44;&#32;&#10;&#32;&#10;&#62;&#32;&#32;&#32;&#123;&#49;&#48;&#49;&#44;&#32;&#49;&#53;&#48;&#125;&#44;&#32;&#123;&#49;&#48;&#50;&#44;&#32;&#49;&#53;&#52;&#125;&#44;&#32;&#123;&#49;&#48;&#51;&#44;&#32;&#49;&#53;&#56;&#125;&#44;&#32;&#123;&#49;&#48;&#52;&#44;&#32;&#49;&#54;&#50;&#125;&#44;&#32;&#123;&#49;&#48;&#53;&#44;&#32;&#49;&#54;&#54;&#125;&#44;&#32;&#123;&#49;&#48;&#54;&#44;&#32;&#49;&#55;&#48;&#125;&#44;&#32;&#123;&#49;&#48;&#55;&#44;&#32;&#49;&#55;&#52;&#125;&#44;&#32;&#10;&#32;&#10;&#62;&#32;&#32;&#32;&#123;&#49;&#48;&#56;&#44;&#32;&#49;&#55;&#56;&#125;&#44;&#32;&#123;&#49;&#48;&#57;&#44;&#32;&#49;&#56;&#50;&#125;&#44;&#32;&#123;&#49;&#49;&#48;&#44;&#32;&#49;&#56;&#54;&#125;&#44;&#32;&#123;&#49;&#49;&#49;&#44;&#32;&#49;&#57;&#48;&#125;&#44;&#32;&#123;&#49;&#49;&#50;&#44;&#32;&#49;&#57;&#52;&#125;&#44;&#32;&#123;&#49;&#49;&#51;&#44;&#32;&#49;&#57;&#56;&#125;&#44;&#32;&#123;&#49;&#49;&#52;&#44;&#32;&#50;&#48;&#50;&#125;&#44;&#32;&#10;&#32;&#10;&#62;&#32;&#32;&#32;&#123;&#49;&#49;&#53;&#44;&#32;&#50;&#48;&#54;&#125;&#44;&#32;&#123;&#49;&#49;&#54;&#44;&#32;&#50;&#49;&#48;&#125;&#44;&#32;&#123;&#49;&#49;&#55;&#44;&#32;&#50;&#49;&#52;&#125;&#44;&#32;&#123;&#49;&#49;&#56;&#44;&#32;&#50;&#49;&#56;&#125;&#44;&#32;&#123;&#49;&#49;&#57;&#44;&#32;&#50;&#50;&#50;&#125;&#44;&#32;&#123;&#49;&#50;&#48;&#44;&#32;&#50;&#50;&#54;&#125;&#44;&#32;&#123;&#49;&#50;&#49;&#44;&#32;&#50;&#51;&#48;&#125;&#44;&#32;&#10;&#32;&#10;&#62;&#32;&#32;&#32;&#123;&#49;&#50;&#50;&#44;&#32;&#50;&#51;&#52;&#125;&#44;&#32;&#123;&#49;&#50;&#51;&#44;&#32;&#50;&#51;&#56;&#125;&#44;&#32;&#123;&#49;&#50;&#52;&#44;&#32;&#50;&#52;&#50;&#125;&#44;&#32;&#123;&#49;&#50;&#53;&#44;&#32;&#50;&#52;&#54;&#125;&#44;&#32;&#123;&#49;&#50;&#54;&#44;&#32;&#50;&#53;&#48;&#125;&#44;&#32;&#123;&#49;&#50;&#55;&#44;&#32;&#50;&#53;&#52;&#125;&#44;&#32;&#123;&#49;&#50;&#56;&#44;&#32;&#49;&#125;&#44;&#32;&#10;&#32;&#10;&#62;&#32;&#32;&#32;&#123;&#49;&#50;&#57;&#44;&#32;&#51;&#125;&#44;&#32;&#123;&#49;&#51;&#48;&#44;&#32;&#53;&#125;&#44;&#32;&#123;&#49;&#51;&#49;&#44;&#32;&#55;&#125;&#44;&#32;&#123;&#49;&#51;&#50;&#44;&#32;&#57;&#125;&#44;&#32;&#123;&#49;&#51;&#51;&#44;&#32;&#49;&#49;&#125;&#44;&#32;&#123;&#49;&#51;&#52;&#44;&#32;&#49;&#51;&#125;&#44;&#32;&#123;&#49;&#51;&#53;&#44;&#32;&#49;&#53;&#125;&#44;&#32;&#123;&#49;&#51;&#54;&#44;&#32;&#49;&#55;&#125;&#44;&#32;&#10;&#32;&#10;&#62;&#32;&#32;&#32;&#123;&#49;&#51;&#55;&#44;&#32;&#49;&#57;&#125;&#44;&#32;&#123;&#49;&#51;&#56;&#44;&#32;&#50;&#49;&#125;&#44;&#32;&#123;&#49;&#51;&#57;&#44;&#32;&#50;&#51;&#125;&#44;&#32;&#123;&#49;&#52;&#48;&#44;&#32;&#50;&#53;&#125;&#44;&#32;&#123;&#49;&#52;&#49;&#44;&#32;&#50;&#55;&#125;&#44;&#32;&#123;&#49;&#52;&#50;&#44;&#32;&#50;&#57;&#125;&#44;&#32;&#123;&#49;&#52;&#51;&#44;&#32;&#51;&#49;&#125;&#44;&#32;&#10;&#32;&#10;&#62;&#32;&#32;&#32;&#123;&#49;&#52;&#52;&#44;&#32;&#51;&#51;&#125;&#44;&#32;&#123;&#49;&#52;&#53;&#44;&#32;&#51;&#53;&#125;&#44;&#32;&#123;&#49;&#52;&#54;&#44;&#32;&#51;&#55;&#125;&#44;&#32;&#123;&#49;&#52;&#55;&#44;&#32;&#51;&#57;&#125;&#44;&#32;&#123;&#49;&#52;&#56;&#44;&#32;&#52;&#49;&#125;&#44;&#32;&#123;&#49;&#52;&#57;&#44;&#32;&#52;&#51;&#125;&#44;&#32;&#123;&#49;&#53;&#48;&#44;&#32;&#52;&#53;&#125;&#44;&#32;&#10;&#32;&#10;&#62;&#32;&#32;&#32;&#123;&#49;&#53;&#49;&#44;&#32;&#52;&#55;&#125;&#44;&#32;&#123;&#49;&#53;&#50;&#44;&#32;&#52;&#57;&#125;&#44;&#32;&#123;&#49;&#53;&#51;&#44;&#32;&#53;&#49;&#125;&#44;&#32;&#123;&#49;&#53;&#52;&#44;&#32;&#53;&#51;&#125;&#44;&#32;&#123;&#49;&#53;&#53;&#44;&#32;&#53;&#53;&#125;&#44;&#32;&#123;&#49;&#53;&#54;&#44;&#32;&#53;&#55;&#125;&#44;&#32;&#123;&#49;&#53;&#55;&#44;&#32;&#53;&#57;&#125;&#44;&#32;&#10;&#32;&#10;&#62;&#32;&#32;&#32;&#123;&#49;&#53;&#56;&#44;&#32;&#54;&#49;&#125;&#44;&#32;&#123;&#49;&#53;&#57;&#44;&#32;&#54;&#51;&#125;&#44;&#32;&#123;&#49;&#54;&#48;&#44;&#32;&#54;&#53;&#125;&#44;&#32;&#123;&#49;&#54;&#49;&#44;&#32;&#54;&#55;&#125;&#44;&#32;&#123;&#49;&#54;&#50;&#44;&#32;&#54;&#57;&#125;&#44;&#32;&#123;&#49;&#54;&#51;&#44;&#32;&#55;&#49;&#125;&#44;&#32;&#123;&#49;&#54;&#52;&#44;&#32;&#55;&#51;&#125;&#44;&#32;&#10;&#32;&#10;&#62;&#32;&#32;&#32;&#123;&#49;&#54;&#53;&#44;&#32;&#55;&#53;&#125;&#44;&#32;&#123;&#49;&#54;&#54;&#44;&#32;&#55;&#55;&#125;&#44;&#32;&#123;&#49;&#54;&#55;&#44;&#32;&#55;&#57;&#125;&#44;&#32;&#123;&#49;&#54;&#56;&#44;&#32;&#56;&#49;&#125;&#44;&#32;&#123;&#49;&#54;&#57;&#44;&#32;&#56;&#51;&#125;&#44;&#32;&#123;&#49;&#55;&#48;&#44;&#32;&#56;&#53;&#125;&#44;&#32;&#123;&#49;&#55;&#49;&#44;&#32;&#56;&#55;&#125;&#44;&#32;&#10;&#32;&#10;&#62;&#32;&#32;&#32;&#123;&#49;&#55;&#50;&#44;&#32;&#56;&#57;&#125;&#44;&#32;&#123;&#49;&#55;&#51;&#44;&#32;&#57;&#49;&#125;&#44;&#32;&#123;&#49;&#55;&#52;&#44;&#32;&#57;&#51;&#125;&#44;&#32;&#123;&#49;&#55;&#53;&#44;&#32;&#57;&#53;&#125;&#44;&#32;&#123;&#49;&#55;&#54;&#44;&#32;&#57;&#55;&#125;&#44;&#32;&#123;&#49;&#55;&#55;&#44;&#32;&#57;&#57;&#125;&#44;&#32;&#123;&#49;&#55;&#56;&#44;&#32;&#49;&#48;&#49;&#125;&#44;&#32;&#10;&#32;&#10;&#62;&#32;&#32;&#32;&#123;&#49;&#55;&#57;&#44;&#32;&#49;&#48;&#51;&#125;&#44;&#32;&#123;&#49;&#56;&#48;&#44;&#32;&#49;&#48;&#53;&#125;&#44;&#32;&#123;&#49;&#56;&#49;&#44;&#32;&#49;&#48;&#55;&#125;&#44;&#32;&#123;&#49;&#56;&#50;&#44;&#32;&#49;&#48;&#57;&#125;&#44;&#32;&#123;&#49;&#56;&#51;&#44;&#32;&#49;&#49;&#49;&#125;&#44;&#32;&#123;&#49;&#56;&#52;&#44;&#32;&#49;&#49;&#51;&#125;&#44;&#32;&#123;&#49;&#56;&#53;&#44;&#32;&#49;&#49;&#53;&#125;&#44;&#32;&#10;&#32;&#10;&#62;&#32;&#32;&#32;&#123;&#49;&#56;&#54;&#44;&#32;&#49;&#49;&#55;&#125;&#44;&#32;&#123;&#49;&#56;&#55;&#44;&#32;&#49;&#49;&#57;&#125;&#44;&#32;&#123;&#49;&#56;&#56;&#44;&#32;&#49;&#50;&#49;&#125;&#44;&#32;&#123;&#49;&#56;&#57;&#44;&#32;&#49;&#50;&#51;&#125;&#44;&#32;&#123;&#49;&#57;&#48;&#44;&#32;&#49;&#50;&#53;&#125;&#44;&#32;&#123;&#49;&#57;&#49;&#44;&#32;&#49;&#50;&#55;&#125;&#44;&#32;&#123;&#49;&#57;&#50;&#44;&#32;&#49;&#50;&#57;&#125;&#44;&#32;&#10;&#32;&#10;&#62;&#32;&#32;&#32;&#123;&#49;&#57;&#51;&#44;&#32;&#49;&#51;&#49;&#125;&#44;&#32;&#123;&#49;&#57;&#52;&#44;&#32;&#49;&#51;&#51;&#125;&#44;&#32;&#123;&#49;&#57;&#53;&#44;&#32;&#49;&#51;&#53;&#125;&#44;&#32;&#123;&#49;&#57;&#54;&#44;&#32;&#49;&#51;&#55;&#125;&#44;&#32;&#123;&#49;&#57;&#55;&#44;&#32;&#49;&#51;&#57;&#125;&#44;&#32;&#123;&#49;&#57;&#56;&#44;&#32;&#49;&#52;&#49;&#125;&#44;&#32;&#123;&#49;&#57;&#57;&#44;&#32;&#49;&#52;&#51;&#125;&#44;&#32;&#10;&#32;&#10;&#62;&#32;&#32;&#32;&#123;&#50;&#48;&#48;&#44;&#32;&#49;&#52;&#53;&#125;&#44;&#32;&#123;&#50;&#48;&#49;&#44;&#32;&#49;&#52;&#55;&#125;&#44;&#32;&#123;&#50;&#48;&#50;&#44;&#32;&#49;&#52;&#57;&#125;&#44;&#32;&#123;&#50;&#48;&#51;&#44;&#32;&#49;&#53;&#49;&#125;&#44;&#32;&#123;&#50;&#48;&#52;&#44;&#32;&#49;&#53;&#51;&#125;&#44;&#32;&#123;&#50;&#48;&#53;&#44;&#32;&#49;&#53;&#53;&#125;&#44;&#32;&#123;&#50;&#48;&#54;&#44;&#32;&#49;&#53;&#55;&#125;&#44;&#32;&#10;&#32;&#10;&#62;&#32;&#32;&#32;&#123;&#50;&#48;&#55;&#44;&#32;&#49;&#53;&#57;&#125;&#44;&#32;&#123;&#50;&#48;&#56;&#44;&#32;&#49;&#54;&#49;&#125;&#44;&#32;&#123;&#50;&#48;&#57;&#44;&#32;&#49;&#54;&#51;&#125;&#44;&#32;&#123;&#50;&#49;&#48;&#44;&#32;&#49;&#54;&#53;&#125;&#44;&#32;&#123;&#50;&#49;&#49;&#44;&#32;&#49;&#54;&#55;&#125;&#44;&#32;&#123;&#50;&#49;&#50;&#44;&#32;&#49;&#54;&#57;&#125;&#44;&#32;&#123;&#50;&#49;&#51;&#44;&#32;&#49;&#55;&#49;&#125;&#44;&#32;&#10;&#32;&#10;&#62;&#32;&#32;&#32;&#123;&#50;&#49;&#52;&#44;&#32;&#49;&#55;&#51;&#125;&#44;&#32;&#123;&#50;&#49;&#53;&#44;&#32;&#49;&#55;&#53;&#125;&#44;&#32;&#123;&#50;&#49;&#54;&#44;&#32;&#49;&#55;&#55;&#125;&#44;&#32;&#123;&#50;&#49;&#55;&#44;&#32;&#49;&#55;&#57;&#125;&#44;&#32;&#123;&#50;&#49;&#56;&#44;&#32;&#49;&#56;&#49;&#125;&#44;&#32;&#123;&#50;&#49;&#57;&#44;&#32;&#49;&#56;&#51;&#125;&#44;&#32;&#123;&#50;&#50;&#48;&#44;&#32;&#49;&#56;&#53;&#125;&#44;&#32;&#10;&#32;&#10;&#62;&#32;&#32;&#32;&#123;&#50;&#50;&#49;&#44;&#32;&#49;&#56;&#55;&#125;&#44;&#32;&#123;&#50;&#50;&#50;&#44;&#32;&#49;&#56;&#57;&#125;&#44;&#32;&#123;&#50;&#50;&#51;&#44;&#32;&#49;&#57;&#49;&#125;&#44;&#32;&#123;&#50;&#50;&#52;&#44;&#32;&#49;&#57;&#51;&#125;&#44;&#32;&#123;&#50;&#50;&#53;&#44;&#32;&#49;&#57;&#53;&#125;&#44;&#32;&#123;&#50;&#50;&#54;&#44;&#32;&#49;&#57;&#55;&#125;&#44;&#32;&#123;&#50;&#50;&#55;&#44;&#32;&#49;&#57;&#57;&#125;&#44;&#32;&#10;&#32;&#10;&#62;&#32;&#32;&#32;&#123;&#50;&#50;&#56;&#44;&#32;&#50;&#48;&#49;&#125;&#44;&#32;&#123;&#50;&#50;&#57;&#44;&#32;&#50;&#48;&#51;&#125;&#44;&#32;&#123;&#50;&#51;&#48;&#44;&#32;&#50;&#48;&#53;&#125;&#44;&#32;&#123;&#50;&#51;&#49;&#44;&#32;&#50;&#48;&#55;&#125;&#44;&#32;&#123;&#50;&#51;&#50;&#44;&#32;&#50;&#48;&#57;&#125;&#44;&#32;&#123;&#50;&#51;&#51;&#44;&#32;&#50;&#49;&#49;&#125;&#44;&#32;&#123;&#50;&#51;&#52;&#44;&#32;&#50;&#49;&#51;&#125;&#44;&#32;&#10;&#32;&#10;&#62;&#32;&#32;&#32;&#123;&#50;&#51;&#53;&#44;&#32;&#50;&#49;&#53;&#125;&#44;&#32;&#123;&#50;&#51;&#54;&#44;&#32;&#50;&#49;&#55;&#125;&#44;&#32;&#123;&#50;&#51;&#55;&#44;&#32;&#50;&#49;&#57;&#125;&#44;&#32;&#123;&#50;&#51;&#56;&#44;&#32;&#50;&#50;&#49;&#125;&#44;&#32;&#123;&#50;&#51;&#57;&#44;&#32;&#50;&#50;&#51;&#125;&#44;&#32;&#123;&#50;&#52;&#48;&#44;&#32;&#50;&#50;&#53;&#125;&#44;&#32;&#123;&#50;&#52;&#49;&#44;&#32;&#50;&#50;&#55;&#125;&#44;&#32;&#10;&#32;&#10;&#62;&#32;&#32;&#32;&#123;&#50;&#52;&#50;&#44;&#32;&#50;&#50;&#57;&#125;&#44;&#32;&#123;&#50;&#52;&#51;&#44;&#32;&#50;&#51;&#49;&#125;&#44;&#32;&#123;&#50;&#52;&#52;&#44;&#32;&#50;&#51;&#51;&#125;&#44;&#32;&#123;&#50;&#52;&#53;&#44;&#32;&#50;&#51;&#53;&#125;&#44;&#32;&#123;&#50;&#52;&#54;&#44;&#32;&#50;&#51;&#55;&#125;&#44;&#32;&#123;&#50;&#52;&#55;&#44;&#32;&#50;&#51;&#57;&#125;&#44;&#32;&#123;&#50;&#52;&#56;&#44;&#32;&#50;&#52;&#49;&#125;&#44;&#32;&#10;&#32;&#10;&#62;&#32;&#32;&#32;&#123;&#50;&#52;&#57;&#44;&#32;&#50;&#52;&#51;&#125;&#44;&#32;&#123;&#50;&#53;&#48;&#44;&#32;&#50;&#52;&#53;&#125;&#44;&#32;&#123;&#50;&#53;&#49;&#44;&#32;&#50;&#52;&#55;&#125;&#44;&#32;&#123;&#50;&#53;&#50;&#44;&#32;&#50;&#52;&#57;&#125;&#44;&#32;&#123;&#50;&#53;&#51;&#44;&#32;&#50;&#53;&#49;&#125;&#44;&#32;&#123;&#50;&#53;&#52;&#44;&#32;&#50;&#53;&#51;&#125;&#44;&#32;&#123;&#50;&#53;&#53;&#44;&#32;&#50;&#53;&#53;&#125;&#125;</pre></div>"
      ],
      "text/plain": [
       "{{1, 128}, {2, 64}, {3, 192}, {4, 32}, {5, 96}, {6, 160}, {7, 224}, {8, 16}, {9, 48}, \n",
       " \n",
       ">   {10, 80}, {11, 112}, {12, 144}, {13, 176}, {14, 208}, {15, 240}, {16, 8}, {17, 24}, \n",
       " \n",
       ">   {18, 40}, {19, 56}, {20, 72}, {21, 88}, {22, 104}, {23, 120}, {24, 136}, {25, 152}, \n",
       " \n",
       ">   {26, 168}, {27, 184}, {28, 200}, {29, 216}, {30, 232}, {31, 248}, {32, 4}, {33, 12}, \n",
       " \n",
       ">   {34, 20}, {35, 28}, {36, 36}, {37, 44}, {38, 52}, {39, 60}, {40, 68}, {41, 76}, \n",
       " \n",
       ">   {42, 84}, {43, 92}, {44, 100}, {45, 108}, {46, 116}, {47, 124}, {48, 132}, \n",
       " \n",
       ">   {49, 140}, {50, 148}, {51, 156}, {52, 164}, {53, 172}, {54, 180}, {55, 188}, \n",
       " \n",
       ">   {56, 196}, {57, 204}, {58, 212}, {59, 220}, {60, 228}, {61, 236}, {62, 244}, \n",
       " \n",
       ">   {63, 252}, {64, 2}, {65, 6}, {66, 10}, {67, 14}, {68, 18}, {69, 22}, {70, 26}, \n",
       " \n",
       ">   {71, 30}, {72, 34}, {73, 38}, {74, 42}, {75, 46}, {76, 50}, {77, 54}, {78, 58}, \n",
       " \n",
       ">   {79, 62}, {80, 66}, {81, 70}, {82, 74}, {83, 78}, {84, 82}, {85, 86}, {86, 90}, \n",
       " \n",
       ">   {87, 94}, {88, 98}, {89, 102}, {90, 106}, {91, 110}, {92, 114}, {93, 118}, \n",
       " \n",
       ">   {94, 122}, {95, 126}, {96, 130}, {97, 134}, {98, 138}, {99, 142}, {100, 146}, \n",
       " \n",
       ">   {101, 150}, {102, 154}, {103, 158}, {104, 162}, {105, 166}, {106, 170}, {107, 174}, \n",
       " \n",
       ">   {108, 178}, {109, 182}, {110, 186}, {111, 190}, {112, 194}, {113, 198}, {114, 202}, \n",
       " \n",
       ">   {115, 206}, {116, 210}, {117, 214}, {118, 218}, {119, 222}, {120, 226}, {121, 230}, \n",
       " \n",
       ">   {122, 234}, {123, 238}, {124, 242}, {125, 246}, {126, 250}, {127, 254}, {128, 1}, \n",
       " \n",
       ">   {129, 3}, {130, 5}, {131, 7}, {132, 9}, {133, 11}, {134, 13}, {135, 15}, {136, 17}, \n",
       " \n",
       ">   {137, 19}, {138, 21}, {139, 23}, {140, 25}, {141, 27}, {142, 29}, {143, 31}, \n",
       " \n",
       ">   {144, 33}, {145, 35}, {146, 37}, {147, 39}, {148, 41}, {149, 43}, {150, 45}, \n",
       " \n",
       ">   {151, 47}, {152, 49}, {153, 51}, {154, 53}, {155, 55}, {156, 57}, {157, 59}, \n",
       " \n",
       ">   {158, 61}, {159, 63}, {160, 65}, {161, 67}, {162, 69}, {163, 71}, {164, 73}, \n",
       " \n",
       ">   {165, 75}, {166, 77}, {167, 79}, {168, 81}, {169, 83}, {170, 85}, {171, 87}, \n",
       " \n",
       ">   {172, 89}, {173, 91}, {174, 93}, {175, 95}, {176, 97}, {177, 99}, {178, 101}, \n",
       " \n",
       ">   {179, 103}, {180, 105}, {181, 107}, {182, 109}, {183, 111}, {184, 113}, {185, 115}, \n",
       " \n",
       ">   {186, 117}, {187, 119}, {188, 121}, {189, 123}, {190, 125}, {191, 127}, {192, 129}, \n",
       " \n",
       ">   {193, 131}, {194, 133}, {195, 135}, {196, 137}, {197, 139}, {198, 141}, {199, 143}, \n",
       " \n",
       ">   {200, 145}, {201, 147}, {202, 149}, {203, 151}, {204, 153}, {205, 155}, {206, 157}, \n",
       " \n",
       ">   {207, 159}, {208, 161}, {209, 163}, {210, 165}, {211, 167}, {212, 169}, {213, 171}, \n",
       " \n",
       ">   {214, 173}, {215, 175}, {216, 177}, {217, 179}, {218, 181}, {219, 183}, {220, 185}, \n",
       " \n",
       ">   {221, 187}, {222, 189}, {223, 191}, {224, 193}, {225, 195}, {226, 197}, {227, 199}, \n",
       " \n",
       ">   {228, 201}, {229, 203}, {230, 205}, {231, 207}, {232, 209}, {233, 211}, {234, 213}, \n",
       " \n",
       ">   {235, 215}, {236, 217}, {237, 219}, {238, 221}, {239, 223}, {240, 225}, {241, 227}, \n",
       " \n",
       ">   {242, 229}, {243, 231}, {244, 233}, {245, 235}, {246, 237}, {247, 239}, {248, 241}, \n",
       " \n",
       ">   {249, 243}, {250, 245}, {251, 247}, {252, 249}, {253, 251}, {254, 253}, {255, 255}}"
      ]
     },
     "execution_count": 2,
     "metadata": {
      "text/html": [],
      "text/plain": []
     },
     "output_type": "execute_result"
    }
   ],
   "source": [
    "Table[{n, indexBinary[n, 8]}, {n, 255}]"
   ]
  },
  {
   "cell_type": "code",
   "execution_count": 3,
   "metadata": {
    "vscode": {
     "languageId": "wolfram"
    }
   },
   "outputs": [
    {
     "data": {
      "text/html": [
       "<div><img alt=\"Output\" src=\"data:image/png;base64,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\"></div>"
      ],
      "text/plain": [
       "-Graphics-"
      ]
     },
     "execution_count": 3,
     "metadata": {
      "text/html": [],
      "text/plain": []
     },
     "output_type": "execute_result"
    }
   ],
   "source": [
    "ListPlot[Table[{n, indexBinary[n, 8]}, {n, 1, 255}]]"
   ]
  },
  {
   "cell_type": "code",
   "execution_count": 4,
   "metadata": {
    "vscode": {
     "languageId": "wolfram"
    }
   },
   "outputs": [
    {
     "data": {
      "text/html": [
       "<div><img alt=\"Output\" src=\"data:image/png;base64,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\"></div>"
      ],
      "text/plain": [
       "-Graphics-"
      ]
     },
     "execution_count": 4,
     "metadata": {
      "text/html": [],
      "text/plain": []
     },
     "output_type": "execute_result"
    }
   ],
   "source": [
    "ArrayPlot[\n",
    "    SparseArray[# -> 1 & /@ \n",
    "    Table[{256 - indexBinary[n, 8], n}, {n, 255}]], \n",
    "    PixelConstrained -> 1,\n",
    "    Frame -> False\n",
    "]"
   ]
  },
  {
   "cell_type": "code",
   "execution_count": 5,
   "metadata": {
    "vscode": {
     "languageId": "wolfram"
    }
   },
   "outputs": [],
   "source": [
    "binaryIndex[n_, len_] := FromDigits[\n",
    "    Prepend[SequenceCases[\n",
    "    PadLeft[IntegerDigits[n, 2], len], {seq__, 1, 0 ...} -> seq], 1], \n",
    "    2\n",
    "]"
   ]
  },
  {
   "cell_type": "code",
   "execution_count": 6,
   "metadata": {
    "vscode": {
     "languageId": "wolfram"
    }
   },
   "outputs": [
    {
     "data": {
      "text/html": [
       "<div><pre style=\"&#102;&#111;&#110;&#116;&#45;&#102;&#97;&#109;&#105;&#108;&#121;&#58;&#32;&#34;&#67;&#111;&#117;&#114;&#105;&#101;&#114;&#32;&#78;&#101;&#119;&#34;&#44;&#67;&#111;&#117;&#114;&#105;&#101;&#114;&#44;&#109;&#111;&#110;&#111;&#115;&#112;&#97;&#99;&#101;&#59;\">&#123;&#123;&#49;&#44;&#32;&#49;&#50;&#56;&#125;&#44;&#32;&#123;&#50;&#44;&#32;&#54;&#52;&#125;&#44;&#32;&#123;&#51;&#44;&#32;&#49;&#50;&#57;&#125;&#44;&#32;&#123;&#52;&#44;&#32;&#51;&#50;&#125;&#44;&#32;&#123;&#53;&#44;&#32;&#49;&#51;&#48;&#125;&#44;&#32;&#123;&#54;&#44;&#32;&#54;&#53;&#125;&#44;&#32;&#123;&#55;&#44;&#32;&#49;&#51;&#49;&#125;&#44;&#32;&#123;&#56;&#44;&#32;&#49;&#54;&#125;&#44;&#32;&#123;&#57;&#44;&#32;&#49;&#51;&#50;&#125;&#44;&#32;&#10;&#32;&#10;&#62;&#32;&#32;&#32;&#123;&#49;&#48;&#44;&#32;&#54;&#54;&#125;&#44;&#32;&#123;&#49;&#49;&#44;&#32;&#49;&#51;&#51;&#125;&#44;&#32;&#123;&#49;&#50;&#44;&#32;&#51;&#51;&#125;&#44;&#32;&#123;&#49;&#51;&#44;&#32;&#49;&#51;&#52;&#125;&#44;&#32;&#123;&#49;&#52;&#44;&#32;&#54;&#55;&#125;&#44;&#32;&#123;&#49;&#53;&#44;&#32;&#49;&#51;&#53;&#125;&#44;&#32;&#123;&#49;&#54;&#44;&#32;&#56;&#125;&#44;&#32;&#123;&#49;&#55;&#44;&#32;&#49;&#51;&#54;&#125;&#44;&#32;&#10;&#32;&#10;&#62;&#32;&#32;&#32;&#123;&#49;&#56;&#44;&#32;&#54;&#56;&#125;&#44;&#32;&#123;&#49;&#57;&#44;&#32;&#49;&#51;&#55;&#125;&#44;&#32;&#123;&#50;&#48;&#44;&#32;&#51;&#52;&#125;&#44;&#32;&#123;&#50;&#49;&#44;&#32;&#49;&#51;&#56;&#125;&#44;&#32;&#123;&#50;&#50;&#44;&#32;&#54;&#57;&#125;&#44;&#32;&#123;&#50;&#51;&#44;&#32;&#49;&#51;&#57;&#125;&#44;&#32;&#123;&#50;&#52;&#44;&#32;&#49;&#55;&#125;&#44;&#32;&#123;&#50;&#53;&#44;&#32;&#49;&#52;&#48;&#125;&#44;&#32;&#10;&#32;&#10;&#62;&#32;&#32;&#32;&#123;&#50;&#54;&#44;&#32;&#55;&#48;&#125;&#44;&#32;&#123;&#50;&#55;&#44;&#32;&#49;&#52;&#49;&#125;&#44;&#32;&#123;&#50;&#56;&#44;&#32;&#51;&#53;&#125;&#44;&#32;&#123;&#50;&#57;&#44;&#32;&#49;&#52;&#50;&#125;&#44;&#32;&#123;&#51;&#48;&#44;&#32;&#55;&#49;&#125;&#44;&#32;&#123;&#51;&#49;&#44;&#32;&#49;&#52;&#51;&#125;&#44;&#32;&#123;&#51;&#50;&#44;&#32;&#52;&#125;&#44;&#32;&#123;&#51;&#51;&#44;&#32;&#49;&#52;&#52;&#125;&#44;&#32;&#10;&#32;&#10;&#62;&#32;&#32;&#32;&#123;&#51;&#52;&#44;&#32;&#55;&#50;&#125;&#44;&#32;&#123;&#51;&#53;&#44;&#32;&#49;&#52;&#53;&#125;&#44;&#32;&#123;&#51;&#54;&#44;&#32;&#51;&#54;&#125;&#44;&#32;&#123;&#51;&#55;&#44;&#32;&#49;&#52;&#54;&#125;&#44;&#32;&#123;&#51;&#56;&#44;&#32;&#55;&#51;&#125;&#44;&#32;&#123;&#51;&#57;&#44;&#32;&#49;&#52;&#55;&#125;&#44;&#32;&#123;&#52;&#48;&#44;&#32;&#49;&#56;&#125;&#44;&#32;&#123;&#52;&#49;&#44;&#32;&#49;&#52;&#56;&#125;&#44;&#32;&#10;&#32;&#10;&#62;&#32;&#32;&#32;&#123;&#52;&#50;&#44;&#32;&#55;&#52;&#125;&#44;&#32;&#123;&#52;&#51;&#44;&#32;&#49;&#52;&#57;&#125;&#44;&#32;&#123;&#52;&#52;&#44;&#32;&#51;&#55;&#125;&#44;&#32;&#123;&#52;&#53;&#44;&#32;&#49;&#53;&#48;&#125;&#44;&#32;&#123;&#52;&#54;&#44;&#32;&#55;&#53;&#125;&#44;&#32;&#123;&#52;&#55;&#44;&#32;&#49;&#53;&#49;&#125;&#44;&#32;&#123;&#52;&#56;&#44;&#32;&#57;&#125;&#44;&#32;&#123;&#52;&#57;&#44;&#32;&#49;&#53;&#50;&#125;&#44;&#32;&#10;&#32;&#10;&#62;&#32;&#32;&#32;&#123;&#53;&#48;&#44;&#32;&#55;&#54;&#125;&#44;&#32;&#123;&#53;&#49;&#44;&#32;&#49;&#53;&#51;&#125;&#44;&#32;&#123;&#53;&#50;&#44;&#32;&#51;&#56;&#125;&#44;&#32;&#123;&#53;&#51;&#44;&#32;&#49;&#53;&#52;&#125;&#44;&#32;&#123;&#53;&#52;&#44;&#32;&#55;&#55;&#125;&#44;&#32;&#123;&#53;&#53;&#44;&#32;&#49;&#53;&#53;&#125;&#44;&#32;&#123;&#53;&#54;&#44;&#32;&#49;&#57;&#125;&#44;&#32;&#123;&#53;&#55;&#44;&#32;&#49;&#53;&#54;&#125;&#44;&#32;&#10;&#32;&#10;&#62;&#32;&#32;&#32;&#123;&#53;&#56;&#44;&#32;&#55;&#56;&#125;&#44;&#32;&#123;&#53;&#57;&#44;&#32;&#49;&#53;&#55;&#125;&#44;&#32;&#123;&#54;&#48;&#44;&#32;&#51;&#57;&#125;&#44;&#32;&#123;&#54;&#49;&#44;&#32;&#49;&#53;&#56;&#125;&#44;&#32;&#123;&#54;&#50;&#44;&#32;&#55;&#57;&#125;&#44;&#32;&#123;&#54;&#51;&#44;&#32;&#49;&#53;&#57;&#125;&#44;&#32;&#123;&#54;&#52;&#44;&#32;&#50;&#125;&#44;&#32;&#123;&#54;&#53;&#44;&#32;&#49;&#54;&#48;&#125;&#44;&#32;&#10;&#32;&#10;&#62;&#32;&#32;&#32;&#123;&#54;&#54;&#44;&#32;&#56;&#48;&#125;&#44;&#32;&#123;&#54;&#55;&#44;&#32;&#49;&#54;&#49;&#125;&#44;&#32;&#123;&#54;&#56;&#44;&#32;&#52;&#48;&#125;&#44;&#32;&#123;&#54;&#57;&#44;&#32;&#49;&#54;&#50;&#125;&#44;&#32;&#123;&#55;&#48;&#44;&#32;&#56;&#49;&#125;&#44;&#32;&#123;&#55;&#49;&#44;&#32;&#49;&#54;&#51;&#125;&#44;&#32;&#123;&#55;&#50;&#44;&#32;&#50;&#48;&#125;&#44;&#32;&#123;&#55;&#51;&#44;&#32;&#49;&#54;&#52;&#125;&#44;&#32;&#10;&#32;&#10;&#62;&#32;&#32;&#32;&#123;&#55;&#52;&#44;&#32;&#56;&#50;&#125;&#44;&#32;&#123;&#55;&#53;&#44;&#32;&#49;&#54;&#53;&#125;&#44;&#32;&#123;&#55;&#54;&#44;&#32;&#52;&#49;&#125;&#44;&#32;&#123;&#55;&#55;&#44;&#32;&#49;&#54;&#54;&#125;&#44;&#32;&#123;&#55;&#56;&#44;&#32;&#56;&#51;&#125;&#44;&#32;&#123;&#55;&#57;&#44;&#32;&#49;&#54;&#55;&#125;&#44;&#32;&#123;&#56;&#48;&#44;&#32;&#49;&#48;&#125;&#44;&#32;&#123;&#56;&#49;&#44;&#32;&#49;&#54;&#56;&#125;&#44;&#32;&#10;&#32;&#10;&#62;&#32;&#32;&#32;&#123;&#56;&#50;&#44;&#32;&#56;&#52;&#125;&#44;&#32;&#123;&#56;&#51;&#44;&#32;&#49;&#54;&#57;&#125;&#44;&#32;&#123;&#56;&#52;&#44;&#32;&#52;&#50;&#125;&#44;&#32;&#123;&#56;&#53;&#44;&#32;&#49;&#55;&#48;&#125;&#44;&#32;&#123;&#56;&#54;&#44;&#32;&#56;&#53;&#125;&#44;&#32;&#123;&#56;&#55;&#44;&#32;&#49;&#55;&#49;&#125;&#44;&#32;&#123;&#56;&#56;&#44;&#32;&#50;&#49;&#125;&#44;&#32;&#123;&#56;&#57;&#44;&#32;&#49;&#55;&#50;&#125;&#44;&#32;&#10;&#32;&#10;&#62;&#32;&#32;&#32;&#123;&#57;&#48;&#44;&#32;&#56;&#54;&#125;&#44;&#32;&#123;&#57;&#49;&#44;&#32;&#49;&#55;&#51;&#125;&#44;&#32;&#123;&#57;&#50;&#44;&#32;&#52;&#51;&#125;&#44;&#32;&#123;&#57;&#51;&#44;&#32;&#49;&#55;&#52;&#125;&#44;&#32;&#123;&#57;&#52;&#44;&#32;&#56;&#55;&#125;&#44;&#32;&#123;&#57;&#53;&#44;&#32;&#49;&#55;&#53;&#125;&#44;&#32;&#123;&#57;&#54;&#44;&#32;&#53;&#125;&#44;&#32;&#123;&#57;&#55;&#44;&#32;&#49;&#55;&#54;&#125;&#44;&#32;&#10;&#32;&#10;&#62;&#32;&#32;&#32;&#123;&#57;&#56;&#44;&#32;&#56;&#56;&#125;&#44;&#32;&#123;&#57;&#57;&#44;&#32;&#49;&#55;&#55;&#125;&#44;&#32;&#123;&#49;&#48;&#48;&#44;&#32;&#52;&#52;&#125;&#44;&#32;&#123;&#49;&#48;&#49;&#44;&#32;&#49;&#55;&#56;&#125;&#44;&#32;&#123;&#49;&#48;&#50;&#44;&#32;&#56;&#57;&#125;&#44;&#32;&#123;&#49;&#48;&#51;&#44;&#32;&#49;&#55;&#57;&#125;&#44;&#32;&#123;&#49;&#48;&#52;&#44;&#32;&#50;&#50;&#125;&#44;&#32;&#10;&#32;&#10;&#62;&#32;&#32;&#32;&#123;&#49;&#48;&#53;&#44;&#32;&#49;&#56;&#48;&#125;&#44;&#32;&#123;&#49;&#48;&#54;&#44;&#32;&#57;&#48;&#125;&#44;&#32;&#123;&#49;&#48;&#55;&#44;&#32;&#49;&#56;&#49;&#125;&#44;&#32;&#123;&#49;&#48;&#56;&#44;&#32;&#52;&#53;&#125;&#44;&#32;&#123;&#49;&#48;&#57;&#44;&#32;&#49;&#56;&#50;&#125;&#44;&#32;&#123;&#49;&#49;&#48;&#44;&#32;&#57;&#49;&#125;&#44;&#32;&#123;&#49;&#49;&#49;&#44;&#32;&#49;&#56;&#51;&#125;&#44;&#32;&#10;&#32;&#10;&#62;&#32;&#32;&#32;&#123;&#49;&#49;&#50;&#44;&#32;&#49;&#49;&#125;&#44;&#32;&#123;&#49;&#49;&#51;&#44;&#32;&#49;&#56;&#52;&#125;&#44;&#32;&#123;&#49;&#49;&#52;&#44;&#32;&#57;&#50;&#125;&#44;&#32;&#123;&#49;&#49;&#53;&#44;&#32;&#49;&#56;&#53;&#125;&#44;&#32;&#123;&#49;&#49;&#54;&#44;&#32;&#52;&#54;&#125;&#44;&#32;&#123;&#49;&#49;&#55;&#44;&#32;&#49;&#56;&#54;&#125;&#44;&#32;&#123;&#49;&#49;&#56;&#44;&#32;&#57;&#51;&#125;&#44;&#32;&#10;&#32;&#10;&#62;&#32;&#32;&#32;&#123;&#49;&#49;&#57;&#44;&#32;&#49;&#56;&#55;&#125;&#44;&#32;&#123;&#49;&#50;&#48;&#44;&#32;&#50;&#51;&#125;&#44;&#32;&#123;&#49;&#50;&#49;&#44;&#32;&#49;&#56;&#56;&#125;&#44;&#32;&#123;&#49;&#50;&#50;&#44;&#32;&#57;&#52;&#125;&#44;&#32;&#123;&#49;&#50;&#51;&#44;&#32;&#49;&#56;&#57;&#125;&#44;&#32;&#123;&#49;&#50;&#52;&#44;&#32;&#52;&#55;&#125;&#44;&#32;&#123;&#49;&#50;&#53;&#44;&#32;&#49;&#57;&#48;&#125;&#44;&#32;&#10;&#32;&#10;&#62;&#32;&#32;&#32;&#123;&#49;&#50;&#54;&#44;&#32;&#57;&#53;&#125;&#44;&#32;&#123;&#49;&#50;&#55;&#44;&#32;&#49;&#57;&#49;&#125;&#44;&#32;&#123;&#49;&#50;&#56;&#44;&#32;&#49;&#125;&#44;&#32;&#123;&#49;&#50;&#57;&#44;&#32;&#49;&#57;&#50;&#125;&#44;&#32;&#123;&#49;&#51;&#48;&#44;&#32;&#57;&#54;&#125;&#44;&#32;&#123;&#49;&#51;&#49;&#44;&#32;&#49;&#57;&#51;&#125;&#44;&#32;&#123;&#49;&#51;&#50;&#44;&#32;&#52;&#56;&#125;&#44;&#32;&#10;&#32;&#10;&#62;&#32;&#32;&#32;&#123;&#49;&#51;&#51;&#44;&#32;&#49;&#57;&#52;&#125;&#44;&#32;&#123;&#49;&#51;&#52;&#44;&#32;&#57;&#55;&#125;&#44;&#32;&#123;&#49;&#51;&#53;&#44;&#32;&#49;&#57;&#53;&#125;&#44;&#32;&#123;&#49;&#51;&#54;&#44;&#32;&#50;&#52;&#125;&#44;&#32;&#123;&#49;&#51;&#55;&#44;&#32;&#49;&#57;&#54;&#125;&#44;&#32;&#123;&#49;&#51;&#56;&#44;&#32;&#57;&#56;&#125;&#44;&#32;&#123;&#49;&#51;&#57;&#44;&#32;&#49;&#57;&#55;&#125;&#44;&#32;&#10;&#32;&#10;&#62;&#32;&#32;&#32;&#123;&#49;&#52;&#48;&#44;&#32;&#52;&#57;&#125;&#44;&#32;&#123;&#49;&#52;&#49;&#44;&#32;&#49;&#57;&#56;&#125;&#44;&#32;&#123;&#49;&#52;&#50;&#44;&#32;&#57;&#57;&#125;&#44;&#32;&#123;&#49;&#52;&#51;&#44;&#32;&#49;&#57;&#57;&#125;&#44;&#32;&#123;&#49;&#52;&#52;&#44;&#32;&#49;&#50;&#125;&#44;&#32;&#123;&#49;&#52;&#53;&#44;&#32;&#50;&#48;&#48;&#125;&#44;&#32;&#123;&#49;&#52;&#54;&#44;&#32;&#49;&#48;&#48;&#125;&#44;&#32;&#10;&#32;&#10;&#62;&#32;&#32;&#32;&#123;&#49;&#52;&#55;&#44;&#32;&#50;&#48;&#49;&#125;&#44;&#32;&#123;&#49;&#52;&#56;&#44;&#32;&#53;&#48;&#125;&#44;&#32;&#123;&#49;&#52;&#57;&#44;&#32;&#50;&#48;&#50;&#125;&#44;&#32;&#123;&#49;&#53;&#48;&#44;&#32;&#49;&#48;&#49;&#125;&#44;&#32;&#123;&#49;&#53;&#49;&#44;&#32;&#50;&#48;&#51;&#125;&#44;&#32;&#123;&#49;&#53;&#50;&#44;&#32;&#50;&#53;&#125;&#44;&#32;&#123;&#49;&#53;&#51;&#44;&#32;&#50;&#48;&#52;&#125;&#44;&#32;&#10;&#32;&#10;&#62;&#32;&#32;&#32;&#123;&#49;&#53;&#52;&#44;&#32;&#49;&#48;&#50;&#125;&#44;&#32;&#123;&#49;&#53;&#53;&#44;&#32;&#50;&#48;&#53;&#125;&#44;&#32;&#123;&#49;&#53;&#54;&#44;&#32;&#53;&#49;&#125;&#44;&#32;&#123;&#49;&#53;&#55;&#44;&#32;&#50;&#48;&#54;&#125;&#44;&#32;&#123;&#49;&#53;&#56;&#44;&#32;&#49;&#48;&#51;&#125;&#44;&#32;&#123;&#49;&#53;&#57;&#44;&#32;&#50;&#48;&#55;&#125;&#44;&#32;&#123;&#49;&#54;&#48;&#44;&#32;&#54;&#125;&#44;&#32;&#10;&#32;&#10;&#62;&#32;&#32;&#32;&#123;&#49;&#54;&#49;&#44;&#32;&#50;&#48;&#56;&#125;&#44;&#32;&#123;&#49;&#54;&#50;&#44;&#32;&#49;&#48;&#52;&#125;&#44;&#32;&#123;&#49;&#54;&#51;&#44;&#32;&#50;&#48;&#57;&#125;&#44;&#32;&#123;&#49;&#54;&#52;&#44;&#32;&#53;&#50;&#125;&#44;&#32;&#123;&#49;&#54;&#53;&#44;&#32;&#50;&#49;&#48;&#125;&#44;&#32;&#123;&#49;&#54;&#54;&#44;&#32;&#49;&#48;&#53;&#125;&#44;&#32;&#123;&#49;&#54;&#55;&#44;&#32;&#50;&#49;&#49;&#125;&#44;&#32;&#10;&#32;&#10;&#62;&#32;&#32;&#32;&#123;&#49;&#54;&#56;&#44;&#32;&#50;&#54;&#125;&#44;&#32;&#123;&#49;&#54;&#57;&#44;&#32;&#50;&#49;&#50;&#125;&#44;&#32;&#123;&#49;&#55;&#48;&#44;&#32;&#49;&#48;&#54;&#125;&#44;&#32;&#123;&#49;&#55;&#49;&#44;&#32;&#50;&#49;&#51;&#125;&#44;&#32;&#123;&#49;&#55;&#50;&#44;&#32;&#53;&#51;&#125;&#44;&#32;&#123;&#49;&#55;&#51;&#44;&#32;&#50;&#49;&#52;&#125;&#44;&#32;&#123;&#49;&#55;&#52;&#44;&#32;&#49;&#48;&#55;&#125;&#44;&#32;&#10;&#32;&#10;&#62;&#32;&#32;&#32;&#123;&#49;&#55;&#53;&#44;&#32;&#50;&#49;&#53;&#125;&#44;&#32;&#123;&#49;&#55;&#54;&#44;&#32;&#49;&#51;&#125;&#44;&#32;&#123;&#49;&#55;&#55;&#44;&#32;&#50;&#49;&#54;&#125;&#44;&#32;&#123;&#49;&#55;&#56;&#44;&#32;&#49;&#48;&#56;&#125;&#44;&#32;&#123;&#49;&#55;&#57;&#44;&#32;&#50;&#49;&#55;&#125;&#44;&#32;&#123;&#49;&#56;&#48;&#44;&#32;&#53;&#52;&#125;&#44;&#32;&#123;&#49;&#56;&#49;&#44;&#32;&#50;&#49;&#56;&#125;&#44;&#32;&#10;&#32;&#10;&#62;&#32;&#32;&#32;&#123;&#49;&#56;&#50;&#44;&#32;&#49;&#48;&#57;&#125;&#44;&#32;&#123;&#49;&#56;&#51;&#44;&#32;&#50;&#49;&#57;&#125;&#44;&#32;&#123;&#49;&#56;&#52;&#44;&#32;&#50;&#55;&#125;&#44;&#32;&#123;&#49;&#56;&#53;&#44;&#32;&#50;&#50;&#48;&#125;&#44;&#32;&#123;&#49;&#56;&#54;&#44;&#32;&#49;&#49;&#48;&#125;&#44;&#32;&#123;&#49;&#56;&#55;&#44;&#32;&#50;&#50;&#49;&#125;&#44;&#32;&#123;&#49;&#56;&#56;&#44;&#32;&#53;&#53;&#125;&#44;&#32;&#10;&#32;&#10;&#62;&#32;&#32;&#32;&#123;&#49;&#56;&#57;&#44;&#32;&#50;&#50;&#50;&#125;&#44;&#32;&#123;&#49;&#57;&#48;&#44;&#32;&#49;&#49;&#49;&#125;&#44;&#32;&#123;&#49;&#57;&#49;&#44;&#32;&#50;&#50;&#51;&#125;&#44;&#32;&#123;&#49;&#57;&#50;&#44;&#32;&#51;&#125;&#44;&#32;&#123;&#49;&#57;&#51;&#44;&#32;&#50;&#50;&#52;&#125;&#44;&#32;&#123;&#49;&#57;&#52;&#44;&#32;&#49;&#49;&#50;&#125;&#44;&#32;&#123;&#49;&#57;&#53;&#44;&#32;&#50;&#50;&#53;&#125;&#44;&#32;&#10;&#32;&#10;&#62;&#32;&#32;&#32;&#123;&#49;&#57;&#54;&#44;&#32;&#53;&#54;&#125;&#44;&#32;&#123;&#49;&#57;&#55;&#44;&#32;&#50;&#50;&#54;&#125;&#44;&#32;&#123;&#49;&#57;&#56;&#44;&#32;&#49;&#49;&#51;&#125;&#44;&#32;&#123;&#49;&#57;&#57;&#44;&#32;&#50;&#50;&#55;&#125;&#44;&#32;&#123;&#50;&#48;&#48;&#44;&#32;&#50;&#56;&#125;&#44;&#32;&#123;&#50;&#48;&#49;&#44;&#32;&#50;&#50;&#56;&#125;&#44;&#32;&#123;&#50;&#48;&#50;&#44;&#32;&#49;&#49;&#52;&#125;&#44;&#32;&#10;&#32;&#10;&#62;&#32;&#32;&#32;&#123;&#50;&#48;&#51;&#44;&#32;&#50;&#50;&#57;&#125;&#44;&#32;&#123;&#50;&#48;&#52;&#44;&#32;&#53;&#55;&#125;&#44;&#32;&#123;&#50;&#48;&#53;&#44;&#32;&#50;&#51;&#48;&#125;&#44;&#32;&#123;&#50;&#48;&#54;&#44;&#32;&#49;&#49;&#53;&#125;&#44;&#32;&#123;&#50;&#48;&#55;&#44;&#32;&#50;&#51;&#49;&#125;&#44;&#32;&#123;&#50;&#48;&#56;&#44;&#32;&#49;&#52;&#125;&#44;&#32;&#123;&#50;&#48;&#57;&#44;&#32;&#50;&#51;&#50;&#125;&#44;&#32;&#10;&#32;&#10;&#62;&#32;&#32;&#32;&#123;&#50;&#49;&#48;&#44;&#32;&#49;&#49;&#54;&#125;&#44;&#32;&#123;&#50;&#49;&#49;&#44;&#32;&#50;&#51;&#51;&#125;&#44;&#32;&#123;&#50;&#49;&#50;&#44;&#32;&#53;&#56;&#125;&#44;&#32;&#123;&#50;&#49;&#51;&#44;&#32;&#50;&#51;&#52;&#125;&#44;&#32;&#123;&#50;&#49;&#52;&#44;&#32;&#49;&#49;&#55;&#125;&#44;&#32;&#123;&#50;&#49;&#53;&#44;&#32;&#50;&#51;&#53;&#125;&#44;&#32;&#123;&#50;&#49;&#54;&#44;&#32;&#50;&#57;&#125;&#44;&#32;&#10;&#32;&#10;&#62;&#32;&#32;&#32;&#123;&#50;&#49;&#55;&#44;&#32;&#50;&#51;&#54;&#125;&#44;&#32;&#123;&#50;&#49;&#56;&#44;&#32;&#49;&#49;&#56;&#125;&#44;&#32;&#123;&#50;&#49;&#57;&#44;&#32;&#50;&#51;&#55;&#125;&#44;&#32;&#123;&#50;&#50;&#48;&#44;&#32;&#53;&#57;&#125;&#44;&#32;&#123;&#50;&#50;&#49;&#44;&#32;&#50;&#51;&#56;&#125;&#44;&#32;&#123;&#50;&#50;&#50;&#44;&#32;&#49;&#49;&#57;&#125;&#44;&#32;&#123;&#50;&#50;&#51;&#44;&#32;&#50;&#51;&#57;&#125;&#44;&#32;&#10;&#32;&#10;&#62;&#32;&#32;&#32;&#123;&#50;&#50;&#52;&#44;&#32;&#55;&#125;&#44;&#32;&#123;&#50;&#50;&#53;&#44;&#32;&#50;&#52;&#48;&#125;&#44;&#32;&#123;&#50;&#50;&#54;&#44;&#32;&#49;&#50;&#48;&#125;&#44;&#32;&#123;&#50;&#50;&#55;&#44;&#32;&#50;&#52;&#49;&#125;&#44;&#32;&#123;&#50;&#50;&#56;&#44;&#32;&#54;&#48;&#125;&#44;&#32;&#123;&#50;&#50;&#57;&#44;&#32;&#50;&#52;&#50;&#125;&#44;&#32;&#123;&#50;&#51;&#48;&#44;&#32;&#49;&#50;&#49;&#125;&#44;&#32;&#10;&#32;&#10;&#62;&#32;&#32;&#32;&#123;&#50;&#51;&#49;&#44;&#32;&#50;&#52;&#51;&#125;&#44;&#32;&#123;&#50;&#51;&#50;&#44;&#32;&#51;&#48;&#125;&#44;&#32;&#123;&#50;&#51;&#51;&#44;&#32;&#50;&#52;&#52;&#125;&#44;&#32;&#123;&#50;&#51;&#52;&#44;&#32;&#49;&#50;&#50;&#125;&#44;&#32;&#123;&#50;&#51;&#53;&#44;&#32;&#50;&#52;&#53;&#125;&#44;&#32;&#123;&#50;&#51;&#54;&#44;&#32;&#54;&#49;&#125;&#44;&#32;&#123;&#50;&#51;&#55;&#44;&#32;&#50;&#52;&#54;&#125;&#44;&#32;&#10;&#32;&#10;&#62;&#32;&#32;&#32;&#123;&#50;&#51;&#56;&#44;&#32;&#49;&#50;&#51;&#125;&#44;&#32;&#123;&#50;&#51;&#57;&#44;&#32;&#50;&#52;&#55;&#125;&#44;&#32;&#123;&#50;&#52;&#48;&#44;&#32;&#49;&#53;&#125;&#44;&#32;&#123;&#50;&#52;&#49;&#44;&#32;&#50;&#52;&#56;&#125;&#44;&#32;&#123;&#50;&#52;&#50;&#44;&#32;&#49;&#50;&#52;&#125;&#44;&#32;&#123;&#50;&#52;&#51;&#44;&#32;&#50;&#52;&#57;&#125;&#44;&#32;&#123;&#50;&#52;&#52;&#44;&#32;&#54;&#50;&#125;&#44;&#32;&#10;&#32;&#10;&#62;&#32;&#32;&#32;&#123;&#50;&#52;&#53;&#44;&#32;&#50;&#53;&#48;&#125;&#44;&#32;&#123;&#50;&#52;&#54;&#44;&#32;&#49;&#50;&#53;&#125;&#44;&#32;&#123;&#50;&#52;&#55;&#44;&#32;&#50;&#53;&#49;&#125;&#44;&#32;&#123;&#50;&#52;&#56;&#44;&#32;&#51;&#49;&#125;&#44;&#32;&#123;&#50;&#52;&#57;&#44;&#32;&#50;&#53;&#50;&#125;&#44;&#32;&#123;&#50;&#53;&#48;&#44;&#32;&#49;&#50;&#54;&#125;&#44;&#32;&#123;&#50;&#53;&#49;&#44;&#32;&#50;&#53;&#51;&#125;&#44;&#32;&#10;&#32;&#10;&#62;&#32;&#32;&#32;&#123;&#50;&#53;&#50;&#44;&#32;&#54;&#51;&#125;&#44;&#32;&#123;&#50;&#53;&#51;&#44;&#32;&#50;&#53;&#52;&#125;&#44;&#32;&#123;&#50;&#53;&#52;&#44;&#32;&#49;&#50;&#55;&#125;&#44;&#32;&#123;&#50;&#53;&#53;&#44;&#32;&#50;&#53;&#53;&#125;&#125;</pre></div>"
      ],
      "text/plain": [
       "{{1, 128}, {2, 64}, {3, 129}, {4, 32}, {5, 130}, {6, 65}, {7, 131}, {8, 16}, {9, 132}, \n",
       " \n",
       ">   {10, 66}, {11, 133}, {12, 33}, {13, 134}, {14, 67}, {15, 135}, {16, 8}, {17, 136}, \n",
       " \n",
       ">   {18, 68}, {19, 137}, {20, 34}, {21, 138}, {22, 69}, {23, 139}, {24, 17}, {25, 140}, \n",
       " \n",
       ">   {26, 70}, {27, 141}, {28, 35}, {29, 142}, {30, 71}, {31, 143}, {32, 4}, {33, 144}, \n",
       " \n",
       ">   {34, 72}, {35, 145}, {36, 36}, {37, 146}, {38, 73}, {39, 147}, {40, 18}, {41, 148}, \n",
       " \n",
       ">   {42, 74}, {43, 149}, {44, 37}, {45, 150}, {46, 75}, {47, 151}, {48, 9}, {49, 152}, \n",
       " \n",
       ">   {50, 76}, {51, 153}, {52, 38}, {53, 154}, {54, 77}, {55, 155}, {56, 19}, {57, 156}, \n",
       " \n",
       ">   {58, 78}, {59, 157}, {60, 39}, {61, 158}, {62, 79}, {63, 159}, {64, 2}, {65, 160}, \n",
       " \n",
       ">   {66, 80}, {67, 161}, {68, 40}, {69, 162}, {70, 81}, {71, 163}, {72, 20}, {73, 164}, \n",
       " \n",
       ">   {74, 82}, {75, 165}, {76, 41}, {77, 166}, {78, 83}, {79, 167}, {80, 10}, {81, 168}, \n",
       " \n",
       ">   {82, 84}, {83, 169}, {84, 42}, {85, 170}, {86, 85}, {87, 171}, {88, 21}, {89, 172}, \n",
       " \n",
       ">   {90, 86}, {91, 173}, {92, 43}, {93, 174}, {94, 87}, {95, 175}, {96, 5}, {97, 176}, \n",
       " \n",
       ">   {98, 88}, {99, 177}, {100, 44}, {101, 178}, {102, 89}, {103, 179}, {104, 22}, \n",
       " \n",
       ">   {105, 180}, {106, 90}, {107, 181}, {108, 45}, {109, 182}, {110, 91}, {111, 183}, \n",
       " \n",
       ">   {112, 11}, {113, 184}, {114, 92}, {115, 185}, {116, 46}, {117, 186}, {118, 93}, \n",
       " \n",
       ">   {119, 187}, {120, 23}, {121, 188}, {122, 94}, {123, 189}, {124, 47}, {125, 190}, \n",
       " \n",
       ">   {126, 95}, {127, 191}, {128, 1}, {129, 192}, {130, 96}, {131, 193}, {132, 48}, \n",
       " \n",
       ">   {133, 194}, {134, 97}, {135, 195}, {136, 24}, {137, 196}, {138, 98}, {139, 197}, \n",
       " \n",
       ">   {140, 49}, {141, 198}, {142, 99}, {143, 199}, {144, 12}, {145, 200}, {146, 100}, \n",
       " \n",
       ">   {147, 201}, {148, 50}, {149, 202}, {150, 101}, {151, 203}, {152, 25}, {153, 204}, \n",
       " \n",
       ">   {154, 102}, {155, 205}, {156, 51}, {157, 206}, {158, 103}, {159, 207}, {160, 6}, \n",
       " \n",
       ">   {161, 208}, {162, 104}, {163, 209}, {164, 52}, {165, 210}, {166, 105}, {167, 211}, \n",
       " \n",
       ">   {168, 26}, {169, 212}, {170, 106}, {171, 213}, {172, 53}, {173, 214}, {174, 107}, \n",
       " \n",
       ">   {175, 215}, {176, 13}, {177, 216}, {178, 108}, {179, 217}, {180, 54}, {181, 218}, \n",
       " \n",
       ">   {182, 109}, {183, 219}, {184, 27}, {185, 220}, {186, 110}, {187, 221}, {188, 55}, \n",
       " \n",
       ">   {189, 222}, {190, 111}, {191, 223}, {192, 3}, {193, 224}, {194, 112}, {195, 225}, \n",
       " \n",
       ">   {196, 56}, {197, 226}, {198, 113}, {199, 227}, {200, 28}, {201, 228}, {202, 114}, \n",
       " \n",
       ">   {203, 229}, {204, 57}, {205, 230}, {206, 115}, {207, 231}, {208, 14}, {209, 232}, \n",
       " \n",
       ">   {210, 116}, {211, 233}, {212, 58}, {213, 234}, {214, 117}, {215, 235}, {216, 29}, \n",
       " \n",
       ">   {217, 236}, {218, 118}, {219, 237}, {220, 59}, {221, 238}, {222, 119}, {223, 239}, \n",
       " \n",
       ">   {224, 7}, {225, 240}, {226, 120}, {227, 241}, {228, 60}, {229, 242}, {230, 121}, \n",
       " \n",
       ">   {231, 243}, {232, 30}, {233, 244}, {234, 122}, {235, 245}, {236, 61}, {237, 246}, \n",
       " \n",
       ">   {238, 123}, {239, 247}, {240, 15}, {241, 248}, {242, 124}, {243, 249}, {244, 62}, \n",
       " \n",
       ">   {245, 250}, {246, 125}, {247, 251}, {248, 31}, {249, 252}, {250, 126}, {251, 253}, \n",
       " \n",
       ">   {252, 63}, {253, 254}, {254, 127}, {255, 255}}"
      ]
     },
     "execution_count": 6,
     "metadata": {
      "text/html": [],
      "text/plain": []
     },
     "output_type": "execute_result"
    }
   ],
   "source": [
    "Table[{n, binaryIndex[n, 8]}, {n, 255}]"
   ]
  },
  {
   "cell_type": "code",
   "execution_count": 7,
   "metadata": {
    "vscode": {
     "languageId": "wolfram"
    }
   },
   "outputs": [
    {
     "data": {
      "text/html": [
       "<div><img alt=\"Output\" src=\"data:image/png;base64,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\"></div>"
      ],
      "text/plain": [
       "-Graphics-"
      ]
     },
     "execution_count": 7,
     "metadata": {
      "text/html": [],
      "text/plain": []
     },
     "output_type": "execute_result"
    }
   ],
   "source": [
    "ListPlot[Table[{n, binaryIndex[n, 8]}, {n, 255}]]"
   ]
  },
  {
   "cell_type": "code",
   "execution_count": 8,
   "metadata": {
    "vscode": {
     "languageId": "wolfram"
    }
   },
   "outputs": [
    {
     "data": {
      "text/html": [
       "<div><img alt=\"Output\" src=\"data:image/png;base64,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\"></div>"
      ],
      "text/plain": [
       "-Graphics-"
      ]
     },
     "execution_count": 8,
     "metadata": {
      "text/html": [],
      "text/plain": []
     },
     "output_type": "execute_result"
    }
   ],
   "source": [
    "ArrayPlot[\n",
    "    SparseArray[# -> 1 & /@ \n",
    "    Table[{256 - binaryIndex[n, 8], n}, {n, 255}]], \n",
    "    PixelConstrained -> 1,\n",
    "    Frame -> False\n",
    "]"
   ]
  },
  {
   "cell_type": "code",
   "execution_count": null,
   "metadata": {
    "vscode": {
     "languageId": "wolfram"
    }
   },
   "outputs": [],
   "source": []
  }
 ],
 "metadata": {
  "kernelspec": {
   "display_name": "Wolfram Language 13",
   "language": "Wolfram Language",
   "name": "wolframlanguage13"
  },
  "language_info": {
   "codemirror_mode": "mathematica",
   "file_extension": ".m",
   "mimetype": "application/vnd.wolfram.m",
   "name": "Wolfram Language",
   "pygments_lexer": "mathematica",
   "version": "12.0"
  },
  "orig_nbformat": 4
 },
 "nbformat": 4,
 "nbformat_minor": 2
}
