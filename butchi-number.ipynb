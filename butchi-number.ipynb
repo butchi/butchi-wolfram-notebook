{
 "cells": [
  {
   "cell_type": "markdown",
   "metadata": {},
   "source": [
    "# butchi number\n",
    "\n",
    "from butchi-number.nb"
   ]
  },
  {
   "cell_type": "code",
   "execution_count": 1,
   "metadata": {
    "vscode": {
     "languageId": "wolfram"
    }
   },
   "outputs": [],
   "source": [
    "butchiNumber[0] := butchiNumber[{{0}}]\n",
    "butchiNumber[x_?NumberQ] := normalize[butchiNumber[{{x}}]]"
   ]
  },
  {
   "cell_type": "code",
   "execution_count": 3,
   "metadata": {
    "vscode": {
     "languageId": "wolfram"
    }
   },
   "outputs": [],
   "source": [
    "butchiNumberForm[butchiNumber[li_]] := Grid[Reverse[li, {1, 2}], Dividers -> -1 -> True]"
   ]
  },
  {
   "cell_type": "code",
   "execution_count": 4,
   "metadata": {
    "vscode": {
     "languageId": "wolfram"
    }
   },
   "outputs": [],
   "source": [
    "Format[butchiNumber[li_]] := butchiNumberForm[butchiNumber[li]]"
   ]
  },
  {
   "cell_type": "code",
   "execution_count": 5,
   "metadata": {
    "vscode": {
     "languageId": "wolfram"
    }
   },
   "outputs": [],
   "source": [
    "listToPolynomial[li_, var_] := FromDigits[Reverse[li], var]"
   ]
  },
  {
   "cell_type": "code",
   "execution_count": 6,
   "metadata": {
    "vscode": {
     "languageId": "wolfram"
    }
   },
   "outputs": [],
   "source": [
    "butchiNumberToList[x_butchiNumber] := First[x]"
   ]
  },
  {
   "cell_type": "code",
   "execution_count": 7,
   "metadata": {
    "vscode": {
     "languageId": "wolfram"
    }
   },
   "outputs": [],
   "source": [
    "butchiNumberToPolynomial[x_butchiNumber, var1_, var2_] := \n",
    "    listToPolynomial[\n",
    "        Map[listToPolynomial[#, var1] &, butchiNumberToList[x], 1], var2\n",
    "    ]"
   ]
  },
  {
   "cell_type": "code",
   "execution_count": 8,
   "metadata": {
    "vscode": {
     "languageId": "wolfram"
    }
   },
   "outputs": [],
   "source": [
    "normalize[x_butchiNumber, max_: 99999] := \n",
    "   Module[{p, q}, \n",
    "      butchiNumber[\n",
    "         CoefficientList[\n",
    "            NestWhile[\n",
    "               Expand[\n",
    "                  ((# - PolynomialMod[#, 2]) / 2) * (p + q) + PolynomialMod[#, 2]\n",
    "               ] &,\n",
    "               butchiNumberToPolynomial[x, p, q],\n",
    "               UnsameQ,\n",
    "               2,\n",
    "               max\n",
    "            ],\n",
    "         {q, p}]\n",
    "      ]\n",
    "   ]"
   ]
  },
  {
   "cell_type": "code",
   "execution_count": 9,
   "metadata": {
    "vscode": {
     "languageId": "wolfram"
    }
   },
   "outputs": [],
   "source": [
    "(*\n",
    "increment[x_butchiNumber] :=\n",
    "   If[\n",
    "      Extract[butchiNumberToList[x], {1, 1}] == 0, \n",
    "      butchiNumber[ReplacePart[butchiNumberToList[x], {1, 1} -> 1]], \n",
    "      Module[{li, pp = {2, 1}, qq = {1, 2}},\n",
    "         li = ReplacePart[\n",
    "            PadRight[#, Dimensions[#] + 1] &[\n",
    "            butchiNumberToList[x]], {1, 1} -> 0\n",
    "         ];\n",
    "         While[\n",
    "            pp != qq,\n",
    "            If[li[[Sequence @@ pp]] == 1,\n",
    "               li[[Sequence @@ pp]] = 0; pp[[1]]++,\n",
    "               li[[Sequence @@ pp]] = 1; pp[[2]]++\n",
    "            ];\n",
    "            If[li[[Sequence @@ qq]] == 1,\n",
    "               li[[Sequence @@ qq]] = 0; qq[[2]]++,\n",
    "               li[[Sequence @@ qq]] = 1; qq[[1]]++\n",
    "            ]\n",
    "         ];\n",
    "\n",
    "         Return[\n",
    "            butchiNumber[\n",
    "               Transpose[Transpose[li\n",
    "               /. {a__, {0 ..}} -> {a}]\n",
    "               /. {a__, {0 ..}} -> {a}]\n",
    "            ]\n",
    "         ]\n",
    "      ]\n",
    "   ]\n",
    "*)"
   ]
  },
  {
   "cell_type": "code",
   "execution_count": 16,
   "metadata": {
    "vscode": {
     "languageId": "wolfram"
    }
   },
   "outputs": [],
   "source": [
    "construct[op_, x__butchiNumber] := \n",
    "    Module[{p, q}, \n",
    "        normalize[butchiNumber[CoefficientList[\n",
    "            Apply[\n",
    "                op, \n",
    "                Table[butchiNumberToPolynomial[bn, p, q], {bn, {x}}]\n",
    "            ],\n",
    "            {q, p}\n",
    "        ]]]\n",
    "    ]\n",
    "\n",
    "construct[op_, x_?NumberQ, y__butchiNumber] := \n",
    "    Module[{p, q}, \n",
    "        normalize[butchiNumber[CoefficientList[\n",
    "            Construct[\n",
    "                op,\n",
    "                x, \n",
    "                Table[butchiNumberToPolynomial[bn, p, q], {bn, {y}}]],\n",
    "            {q, p}\n",
    "        ]]]\n",
    "    ]\n",
    "\n",
    "construct[op_, x_butchiNumber, y__?NumberQ] := \n",
    "    Module[{p, q}, \n",
    "        normalize[butchiNumber[CoefficientList[\n",
    "            Construct[\n",
    "                op,\n",
    "                butchiNumberToPolynomial[x, p, q], y\n",
    "            ],\n",
    "            {q, p}\n",
    "        ]]]\n",
    "    ]"
   ]
  },
  {
   "cell_type": "code",
   "execution_count": 13,
   "metadata": {
    "vscode": {
     "languageId": "wolfram"
    }
   },
   "outputs": [],
   "source": [
    "Unprotect[{Plus, Times, Power}];\n",
    "\n",
    "\n",
    "Plus[x_Integer?Positive, y__butchiNumber] := construct[Plus, butchiNumber[{{x}}], y]\n",
    "\n",
    "Plus[x_?NumberQ, y__butchiNumber] := \n",
    "    construct[Plus, butchiNumber[{{x}}], y]\n",
    "\n",
    "Plus[x_butchiNumber, y__butchiNumber] := construct[Plus, x, y]\n",
    "\n",
    "\n",
    "Times[x_?NumberQ, y__butchiNumber] := \n",
    "    construct[Times, butchiNumber[{{x}}], y]\n",
    "\n",
    "Times[x_butchiNumber, y__butchiNumber] := construct[Times, x, y]\n",
    "\n",
    "\n",
    "Power[x_butchiNumber, y_] := construct[Power, x, y]\n",
    "\n",
    "\n",
    "Protect[{Plus, Times, Power}];"
   ]
  },
  {
   "cell_type": "code",
   "execution_count": 12,
   "metadata": {
    "vscode": {
     "languageId": "wolfram"
    }
   },
   "outputs": [],
   "source": [
    "butchiNumberPlot[x__butchiNumber] := \n",
    "    ArrayPlot[\n",
    "        Reverse[butchiNumberToList[x], {2, 1}]\n",
    "    ]\n"
   ]
  },
  {
   "cell_type": "code",
   "execution_count": 19,
   "metadata": {
    "vscode": {
     "languageId": "wolfram"
    }
   },
   "outputs": [
    {
     "data": {
      "text/html": [
       "<style>\n",
       "\t\t\t\t\t\t\t\t\t\t\t\t\t.grid-container {\n",
       "\t\t\t\t\t\t\t\t\t\t\t\t\t\tdisplay: inline-grid;\n",
       "\t\t\t\t\t\t\t\t\t\t\t\t\t\tgrid-template-columns: auto;\n",
       "\t\t\t\t\t\t\t\t\t\t\t\t\t}\n",
       "\t\t\t\t\t\t\t\t\t\t\t\t</style>\n",
       "\n",
       "\t\t\t\t\t\t\t\t\t\t\t\t<div><div class=\"grid-container\"><div class=\"grid-item\"><img alt=\"Output\" src=\"data:image/png;base64,iVBORw0KGgoAAAANSUhEUgAAACAAAAAvCAIAAAANTl92AAAAz3pUWHRSYXcgcHJvZmlsZSB0eXBlIGV4aWYAAHjabU9bjgMhDPvnFHsESIIDx2FaRuoNevw6M6wqVmuJxHFeJM3360w/ASk5WfWGDmTCunUZJC3fuH3J/bIXZKUYb3qSc+mDUv0mMJd+7LpjDWx/Bv2u0NhArrYa1iCVWy/jjo9VL6O1fVDPG/D9+r+xqQsqihutSXZHJ2+JlA5VcnWceAAsLHhKtgf9hDvb4FGhIxoDMn2vnglK4RknaDzRoYVsBGdrvhQeTGtqcpD3S4lzPkwJWq+/BCUdAAAACXBIWXMAAA7EAAAOxAGVKw4bAAAAPHRFWHRTb2Z0d2FyZQBDcmVhdGVkIHdpdGggdGhlIFdvbGZyYW0gTGFuZ3VhZ2UgOiB3d3cud29sZnJhbS5jb21coqaFAAAAIXRFWHRDcmVhdGlvbiBUaW1lADIwMjI6MTA6MjIgMDI6MDQ6NDRY1QAPAAABeklEQVRYhe2WPZKCQBCF3yAHMDEzsGY4ABfAUDmCZzCmjAxN4BSaCEcQgjGQY4hFcQqy3gBE90eBWma3iuJFVE/TX3fxgGZEBJXS1JVO0zTPc6ZuAsbY+Xx+TLBer9ldcRw3KWEYBmMsCII3OSXAtu0oioiIiFzXtSzrPcPzPMbYbrerbUIDEMdxGIZRFBWhzWYjhDgej6/uCYJASklE0+m0FoCiZSEE3XW5XKqj9yoyfd//8RRA+QyklIZhVN1ZluX7PoDb7VbfYJ0+2dTzvO12262v9OrKtm0A1+u1w+ooJuCch2HIOT+dTkU0yzIhBOe8G8B8PgfgOE4VlVIuFovfVwfuVhFCVEZyXRdAkiSduOjhxeVy+YX6SkmSfG/02ejPgD/8FinSABgAA6B3gCZrSNv8EtB8DWmbr6HtGtIyXwOwWq2qn2UTtcrvmYsGwL8A0HwNGdaWAdBbgL7f7w+Hg4rSpmmORiN9PB7PZjMVAACTyUThi1boAwBhksqap3Y1AAAAAElFTkSuQmCC\"></div><div class=\"grid-item\"><img alt=\"Output\" src=\"data:image/png;base64,iVBORw0KGgoAAAANSUhEUgAAADAAAABGCAIAAAAFG4AMAAAAznpUWHRSYXcgcHJvZmlsZSB0eXBlIGV4aWYAAHjabU9RDkMhCPv3FDsCAhY9jm9zyW6w46++Z7K4rIlQakFJ4/16ptuEZkleoqIBQnjzpp2kyoUrZ2lnPGHrivWmJ8fSO6XyvcBY+rHrsfxafwaJrpfmC+Tmq2ENMr303K/6WH7tte6DmmzA9+t/a7dQFORwRleJQCOviZQJRaUEnrgDNGY8VPzOPBDBNsR0WJ+NEzpid48Eo/CYK9g8at0yWZ+crXIqXJjRzfUgb6cy1/kADkVagh8jGR8AAAAJcEhZcwAADsQAAA7EAZUrDhsAAAA8dEVYdFNvZnR3YXJlAENyZWF0ZWQgd2l0aCB0aGUgV29sZnJhbSBMYW5ndWFnZSA6IHd3dy53b2xmcmFtLmNvbVyipoUAAAAhdEVYdENyZWF0aW9uIFRpbWUAMjAyMjoxMDoyMiAwMjowNDo0NFjVAA8AAAJRSURBVGiB7ZkxrrJAFIXvkLcMC8OwA2uMlbAESi21NlaWNlBp5Q6EJQgFmkhchRhj7RI09y/goS/+vpnBx0Axp5vJGfgycnEOlyAiNElfdQM8dL1eb7cbac4ODYfD8/msFePxeEy+lSQJzyUMwyCEBEHAeUsefw5k23YURYiIiK7rmqb5O5PneYSQ+XzOicLv1wAgSZIwDKMoyqam0ymldL1ev1sTBEEcx4jYarV4aIT8GgAcDgdKqa7r2VSSJGmarlard2scx9lsNjwoJfwaAMRxbBhGNg6CwDRN3/cB4HQ68d/1r6Q9DzzPm81m9dbd4z1k2zYAHI/H+mAAsh3SdT0MQ13Xi1/6crk8P1WygbrdLgBMJpNiNo7jfr8vnyYHchyHUloQeJ4XhuEzn1ThtyzLep38r9I0fb0OpfRD/2Aw6PV6Df4va4gUEEsKiCUFxJICYkkBsfQDSCjWiMYmTn8OJBprRGOTgB8Rfd+3LAsR9/s9APi+//vxI7OlaVrMUEpHo9GH/uz4Aa8rmUCu6z6fZrJV8P4UxenPgMo81KKxScj/UZWJxiYef/nPMaKxidNfZodEY5OQvwyQaGwS85eoMkSklBaF47ou/Kzqcv5H2YvGmkz8sYnTr2IQnxQQSwqIJQXEkgJiSQGxJC8GcV5fUgwS6waJdncq7R7l36mFujuVdo9kxCAhSY1BPJIXgzglIwZVDlRp96gMULXdIwkxSHWD/lQKiCUFxFLjgL4Wi8VyuawbAwDgfr93Oh2y3W53u13dMLna7XaDXoyZ/gHlRN3K9ogk2AAAAABJRU5ErkJggg==\"></div><div class=\"grid-item\"><img alt=\"Output\" src=\"data:image/png;base64,iVBORw0KGgoAAAANSUhEUgAAAGEAAABGCAIAAABTzW16AAAAz3pUWHRSYXcgcHJvZmlsZSB0eXBlIGV4aWYAAHjabU9BbgQhDLvzin1CSIIDz2F2Wak/6PPXDKgqVS1N4lh2mKTx/fVOjwnNkrxERQOE8OZNO0mVhdWztLvewO6cDz05tt4plV+BsfXr1GP7tf5ZJLqIzRfIzXdgLzJdeu5rvrZfe63noiYHID+//u/sFoqCHM7qKhFo5DWRsqGolMAbT4DGjJeKP9kHIhhDTIf1GZzQEad7JBiF1zzB5qfWLZP1yRmVW+HBrG6uF3m7lXnOBxQsWoZgul0WAAAACXBIWXMAAA7EAAAOxAGVKw4bAAAAPHRFWHRTb2Z0d2FyZQBDcmVhdGVkIHdpdGggdGhlIFdvbGZyYW0gTGFuZ3VhZ2UgOiB3d3cud29sZnJhbS5jb21coqaFAAAAIXRFWHRDcmVhdGlvbiBUaW1lADIwMjI6MTA6MjIgMDI6MDQ6NDRY1QAPAAADdUlEQVR4nO2bP1LrMBDG1y/vGDRIPkAuECYVyRHSpTY1UFHADI19AFKGCrvIAeIUpoiHlgvETIYz0IJe4Xka4jixVvGfjaNfRYzXq3xjS/qya0sIAYa9/Gl6AHT5+vpar9dgNNrDbDY7Pz8HyhpdXV1Z/4njWCXEtm3LsoIgUM+iEkJUo+FwuFgshBBCCNd1e73efpk8z7Ms6/HxUT2FeghFjeI4DsNwsVikH29vbznnLy8vu84PgiCKIiHE2dmZYgpUCEWN3t7eOOeMsfRjHMdJkkwmk13nj0aj+XyOSoEKoahRFEW2bad/B0HQ6/V83weAj4+PRsZDUSOJ53l3d3eN7+D+Npt+D8PhEABWq1XTAyF5HzHGwjBkjMkp4/Pz8/cMVTMUNbq4uACA6+treSSKosvLy6bGQ1Gj0WjEOZeieJ4XhuFvyepG1EK/339/f0eFDAYDxUEmSbL9vTjnB4ZMp9M0dX56x3Fk5HK5VPlKnHMA8H0/978A8Pr6qnIdOkiNcp61GnzAcZHVqAYfcHRkNarBBxwdWY2o+QAK7Fz7ifgACuR7ETo+gALZ+4iaD6BAViNqPoACWY3I+QAK5G4xS/cBcMz77Pw5W33LwxgTbV/7KPp+CaoWpFFrUgwhqhHWA2I9Ji6knmcbMPOR7/uDwUAIsVwuYfdvCZL0tCRJ5BHOueM4B4bs8/2Ng/WAWI+JDaGoERYNj4kKaYNGEg2PqRJCt3aERcNjKoa04T7S8JiokDZopOExcSGK6/GBgJYXUVz7hRCcc2mAXNeFzXVdL6SgLlI6KI00akEC4zEVQ4r3R9ieMI0esl2kHjBD4cw6n8/lyYqJFENyNML6gJOrHWFrQadYO8L6gFOsHRm2MRoVYzQqxmhUjNGoGKORAgf6gFOsHWFrQaZ21DBV144UUxDVqIba0XG/d4T1gNj+RGwKihrVUDs6+veOsFTdn9gGjSQV9SdurP3r9Tp9E7l0ut1up9Op4sqS6voTNzR6fn5+eHgoPUfK9/d3RVdmjE0mE8dxnp6e0iPl9iduPGv39/fVbVv7/X4pI96m6v7ENsxHlfcnVnfjaFND7Qj13hHFer+eB0RtqVAp2vCsVY3RqBijUTFGo2KMRsUYjYoht/bPZrObm5umRwEA8PPzk/66RE4j27bH43HTo9jA0titnRr/AE0JSLX/y/WyAAAAAElFTkSuQmCC\"></div></div></div>"
      ],
      "text/plain": [
       "0   1\n",
       "\n",
       "1   1\n",
       "0   1   1\n",
       "\n",
       "1   0   0\n",
       "\n",
       "1   0   1\n",
       "0   1 0   1   1\n",
       "\n",
       "1   1 1   0   0\n",
       "\n",
       "      1   0   1"
      ]
     },
     "execution_count": 19,
     "metadata": {
      "text/html": [],
      "text/plain": []
     },
     "output_type": "execute_result"
    }
   ],
   "source": [
    "bn3 = butchiNumber[3]\n",
    "bn5 = butchiNumber[5]\n",
    "bn3 * bn5"
   ]
  },
  {
   "cell_type": "code",
   "execution_count": 22,
   "metadata": {
    "vscode": {
     "languageId": "wolfram"
    }
   },
   "outputs": [
    {
     "data": {
      "text/html": [
       "<div><img alt=\"Output\" src=\"data:image/png;base64,iVBORw0KGgoAAAANSUhEUgAAAYsAAAAVCAIAAAA4mVVbAAAAznpUWHRSYXcgcHJvZmlsZSB0eXBlIGV4aWYAAHjabY9rbkQhCIX/u4pZAg896HK8M07SHXT5AxebxqYnET6OgLGs7693eYSEqdRmHQMgVx11yHTolMrMNO6Y1rWJT79wS+DpVvu9wNr+dfqGzNL/LCJJ0HjBWese2ItU0ueZ9bX7ZfZ+Lhp0CD/A/9dVTdDAVj1WITMM514cPaEJNcMbT8AbGS+h+vS8YOZjsOjQGYMhWXZ2rwJ14xVf0DiiU9lpBvso3Q5pyyiXx3FzfOcDWxtatMVsflEAAAAJcEhZcwAADsQAAA7EAZUrDhsAAAA8dEVYdFNvZnR3YXJlAENyZWF0ZWQgd2l0aCB0aGUgV29sZnJhbSBMYW5ndWFnZSA6IHd3dy53b2xmcmFtLmNvbVyipoUAAAAhdEVYdENyZWF0aW9uIFRpbWUAMjAyMjoxMDoyMiAwMjowNTowNfMCkvgAAAVJSURBVHic7Zu/brs+EMDN9zGqKqpwHiN0yBD8AB2gU6dKMFfJkjELqHORMmUqGfoAJQNDQXkKHFVR1dfwbzh9XRcI+QfEfH/+TKlt7s5nOO6MqzHGkEKhUEjJn0sboFAoFDtREUqhUMiLilAKhUJe/iCE0jTVNC1N09a0bjYbTdOWy+XeMf1+vwV7fN/XNK0FRUcB60IIubQhP0hoUrdQDjyWGnIo13Wb8Pj393excblc5hZYzuCSo9/va5qWs9N13er4+/X1dZq6vdG/1B45TeJd1ZcfyC5RFdqP4oIORM370HVd7S/FhKbah3s9vGuAvFXeYDBgjGVZVuzKsmyz2bRv0sn0+33G2LGfTS3LYoy9v79LYk/7JsHrZzabnS+/WlSWZYwxx3HOV1RNcw5EDfuQELJarUC+53mGYeSCVLUP93p41wB5I1QFj4+Pz8/Pl7ZC0SzL5TKOY8bY9fW1PKK6RV0TT9M0iqLVagV/jsdjjPHr62sdNu7hV4TiiZbruryRELKrqoLBQRBEUcTTP9/3RZkwHigmmYQQ6BJVwA5UsZ1zd3cXBEGxPVfxiftrvu8TQiBNJYRAtZhLKUW9OVPFWYjOQX/Tby6wlpITLC9VB3C/acJWnTgp27b5gFryzfZNsiyrrlyjRlEnc5E1rWvi6/UaY6zrOp8LpbT0GaydnwhlGMZsNmOMge5DSlZI+RzHMU2T/WU8HvMBhJDJZMK7FouFeLlt28PhEDRGUcQ16roO403T3KXacZxji+ooihBCSZJEUTSdTiEZFoVgjCmljLEwDG3b5jeB7/vz+ZzPIgiC3B1m2/ZisYBejHHp/XcUUOGCtGIvRG1uDy+EoYKAeYVhyAfwG+sfM6lbdNqBcRyLQdMwjDAMEUItbLb8RKgwDC3LQgjpum6aZi6anABkhkmS8JZcOPc8D8KZrusY44+Pj8OF39/fn2Dh09MT/OBl+Xa75b2UUlh48MPb2xu0TyYTUVcYhrm3h2mafGqj0Ygnww2RZZlsT7iEJnWLrjjQ933+dm+HnwglVqq6rpduUR8FZIaDwWDXgF6vd7JwEHvsCQl+E5SW5eItgjH+/PzkKgzD4Am2bdu5C4fDIf/98vJyvuuqmc1mQRBobR3FOAQJTeoWnXAgISSO46Zv7xyd3CkHHh4e2tmrQwglScJ+047eUiDzT5KEUirJPS2hSd1Ccgfquh5Fka7rvFbYbrfizlRzlEeozWYzGo24cWIXZBaH0Ov1KKXNVaqWZeWqrVxSdvLZE4QQpfT29hYhdHV1hRBar9cni2oI2NeglFJKazkrdD4SmtQtpHUgPAt8kwQhFMcxDxGNUhKhfN+Poohbc3NzE0URBBrf94sb+DCgWHBZloUxFqdx/hZyDsdx5vM5/xNqN1jaNE2L5diBEEIwxnxXznGcyWTS5pn7w4FzrbmiFWM8nU4vZFHbJkHp3cLqtKao/TXdO7Xcs5wLEc1SWrPkKhr+Tc00TdjDzw0Qz1l5nld6LRI+RlBK0e9vExhjx3Hgt+d5RTuhzgLt8MWNyxHtEa+FXrgQ2iGR5o3cWnE7H6ZZMUGEEDdVFFJBUWBRpqi39GAbn3WpZ3KUXlhtj2wm8cUVwRgXL8ytSJEDRVULOUTRBR3IGvYh+/0sV3igQsJeFcUBOzUpamRXRLgUstnDzjAJXlp7XxKHUP381KioIeT34QkRqsM75QoFQghqH/EUXtcVtY/MU1MRqg2yLKvruHktyGYPOskk+A8BhBA7+9Mq/DfFrkPSNSpqFJl9WN1bMUCT3OkKheL/jMqhFAqFvPwH8mm3A2uhZvMAAAAASUVORK5CYII=\"></div>"
      ],
      "text/plain": [
       "butchiNumber[List[List[1, 1], List[1, 0]]]"
      ]
     },
     "execution_count": 22,
     "metadata": {
      "text/html": [],
      "text/plain": []
     },
     "output_type": "execute_result"
    }
   ],
   "source": [
    "bn3 // FullForm"
   ]
  },
  {
   "cell_type": "code",
   "execution_count": 25,
   "metadata": {
    "vscode": {
     "languageId": "wolfram"
    }
   },
   "outputs": [
    {
     "data": {
      "text/html": [
       "<div><img alt=\"Output\" src=\"data:image/png;base64,iVBORw0KGgoAAAANSUhEUgAAAKQAAAAvCAIAAADioPYNAAAA0XpUWHRSYXcgcHJvZmlsZSB0eXBlIGV4aWYAAHjabY9hbgUhCIT/e4oeAUEHPY77npv0Bj1+h9W0sekkC58j4JLm1+edPkKaJZXqDR0QqvTSdRCaLK2cpT/x0Sj7Lp9+0nv7g1b9vcDc/nX6jpW1/RkkusDiBbLtF30PMl1+Hut87XodrZ2DuhyC/Pz6v+dirqjIXhiLijs6uSUiE6pKddx4ASzMeKuUF/OEO9vgUWEjGkM6/ayeCUbjHStYfGrDMmkEs5Urk6s5I1kvxv5wrPMNl3la4j6a4mwAAAAJcEhZcwAADsQAAA7EAZUrDhsAAAA8dEVYdFNvZnR3YXJlAENyZWF0ZWQgd2l0aCB0aGUgV29sZnJhbSBMYW5ndWFnZSA6IHd3dy53b2xmcmFtLmNvbVyipoUAAAAhdEVYdENyZWF0aW9uIFRpbWUAMjAyMjoxMDoyMiAwMTo1NzowMaduC4cAAAQLSURBVHic7ZsxUrNOGMbfdZyxtXZ0RlkO4AG0dTkC8QZQO9JYpoEDhDKxgsIDkMZCGIucITAewn6/gk/++QfYLOyycb7dX6Usw/s8edc3G31ElFIw6MHJsQUYVPD19fX9/f27ml0UBUKoKIpjC1HN1MZvbm7e3t64mu37PvohiqLdpaqq0A7TSD2akjRNEUK2be9dV+xalpjDzfZ9v6oqSimlNEmSIAjSNG3KYIzzPK9XMcZtKRJRrAQh9PHxQQjZu67YtUwxdCAYY0JI51KSJADQFB5Bnuf8T5hUSfMKEkIwxow7xWvRQ8bFxQDAcrn87yfbcZy+CbkLY+NcXl7ybFIebNuulfi+P6mSPtfb7fbu7o7nCRJdQ49xWWL+NttxnJeXl2aXBUHQd1hYr9eWZXUufX5+AsDFxQWjHqN5Dff39/P5nFJalmUcx82slqsEhrhmwFlLovHxYjqnAQCEYdi+7nke9EybsiwBoG+u7j6BsVpPsyRJmiuEkM5niitp0+maPTn5a0kxPloM7I5xnhNdFEVxHIdh2DlSMMYAkGXZ0M3YZncWWZa13W4nUiJ+qJboGjiMC4o5gZ8T3e7Wa9+XpmkQBJ7nPT8/t1frt896Z3XSvDXGcSz4iUVQSQOPazY8tSQaFxdzAgCbzQYAnp6e+m5K03Q2m3met1gsOsuUZVmWZd87KABkWdaeZjweqqp6eHiQqKThoGs2nLVkGZci5hR+psdms6lv3dt6RVHMZjNCSOfr6zhOWZZ5nvO8vkOJomi9Xje7Va4Stms2k7qGlnFpYuq9FoZhcyXPc0JIc1Rpf5CHn6NEfazYg/1BkH1Oae/63SW5Stiu6wOgxFoixsXFAMByuUTtMoZ/D4TQ/36pYvjnMc3WCNNsjTDN1gjTbI0wzdYI02yNMM3WCNNsjTDN1ojf1WwTJZ60imiUuKZOTo2I0QxFsZK+9O4UtRSIEYoSA0AURQih+Xw+VPoIFCvpS+9OUUuNmMPNXiwWTdLFdV2M8Wq1qr9N0/T9/Z1SKjdh+RuU2Lad53nnH84Vu5YoRihK7LqurPhVu8qgKPFoJSOixNO5huFR4kFiZEaJeVATJeZESpSYEzVRYjZ/m51lWbN36i/qBPIeteLHx0e5IvZIksR1XQCwLIsQ0sxq6Uo4XSuDx7gI0qLEEhGMEvNzlP/PYyAYJT6InCjxQZRFifkRjxLzoCxKzIOEKDEPaqLEgxCMEnOiJkrMiWiUeFIGRYmHIhIlnppBUeIB1HttXJS4U81RosQjlLBdM9K742pNFCXmFAMmSqwPJkqsHabZGmGarRGm2Rphmq0RptkacbparV5fX48twzAtt7e3Z2dnp+fn59fX18cWY5icq6sr80sVjfgDJeG1hbtp8REAAAAASUVORK5CYII=\"></div>"
      ],
      "text/plain": [
       "a22 + b22   a12 + b12\n",
       "\n",
       "a21 + b21   a11 + b11"
      ]
     },
     "execution_count": 25,
     "metadata": {
      "text/html": [],
      "text/plain": []
     },
     "output_type": "execute_result"
    }
   ],
   "source": [
    "butchiNumber[{\n",
    "  {a11, a21},\n",
    "  {a12, a22}\n",
    "}] + butchiNumber[{\n",
    "  {b11, b21},\n",
    "  {b12, b22}\n",
    "}]"
   ]
  },
  {
   "cell_type": "code",
   "execution_count": null,
   "metadata": {
    "vscode": {
     "languageId": "wolfram"
    }
   },
   "outputs": [
    {
     "ename": "",
     "evalue": "",
     "output_type": "error",
     "traceback": [
      "\u001b[1;31mCanceled future for execute_request message before replies were done"
     ]
    },
    {
     "ename": "",
     "evalue": "",
     "output_type": "error",
     "traceback": [
      "\u001b[1;31m現在のセルまたは前のセルでコードを実行中に、カーネルがクラッシュしました。エラーの原因を特定するには、セル内のコードを確認してください。詳細については、<a href='https://aka.ms/vscodeJupyterKernelCrash'>こちら</a> をクリックしてください。さらなる詳細については、Jupyter [log] (command:jupyter.viewOutput) を参照してください。"
     ]
    }
   ],
   "source": [
    "butchiNumber[{\n",
    "  {a11, a21},\n",
    "  {a12, a22}\n",
    "}] * butchiNumber[{\n",
    "  {b11, b21},\n",
    "  {b12, b22}\n",
    "}]"
   ]
  },
  {
   "cell_type": "code",
   "execution_count": null,
   "metadata": {
    "vscode": {
     "languageId": "wolfram"
    }
   },
   "outputs": [
    {
     "data": {
      "text/html": [
       "<div><img alt=\"Output\" src=\"data:image/png;base64,iVBORw0KGgoAAAANSUhEUgAAAhwAAABiCAIAAACUK52zAAAA0HpUWHRSYXcgcHJvZmlsZSB0eXBlIGV4aWYAAHjabY9hbkQhCIT/e4o9AgIOehzfWzfpDXr8HVebxqaTKB8jYEjj++uVHlOaJXmJigYI5c2bdkKVpRWztM+9klt0u4efoLug0yq/Dxjbv04/sKLWP4P2fLH5A9l8N+xBpsvPfeXXrtde6zmoySH8QP4/dwtFQQ7n7SoRaOSaiAwoKiXwwg2wMOOp4jfjQATbELPC+myc0hFn9UgwGs+5gs2j1i2T+mS2cmVy+ThmrhepkfnCdd5WjlqyjdZRCQAAAAlwSFlzAAAOxAAADsQBlSsOGwAAADx0RVh0U29mdHdhcmUAQ3JlYXRlZCB3aXRoIHRoZSBXb2xmcmFtIExhbmd1YWdlIDogd3d3LndvbGZyYW0uY29tXKKmhQAAACF0RVh0Q3JlYXRpb24gVGltZQAyMDIyOjEwOjIyIDAxOjUwOjM0Yf6UcgAADqtJREFUeJzt3T1u20gUB/BhsIcIAhcLUccwXZo8guQDBCBrI2zcGHBDIrVZrjuyWGCxneRChSmo0BlEIvAJgiDlAtxiYoKRpeHXG85Q+v+KRdZxZt4M3/CJFKUxiqJgAAAAFP5QHQAAAJyCnz9/fv/+/YPqMAAA4BT8/ffflmVJKSqe5xlv1uu1jC6gAxyXE5YkiWEY0+l07+d5nhsVnduvJk8YhjK6gNNYofRFxXGc5+fnoiiKogiCwLKs8c7OKcFxOWGGYby8vNi2vffzPM9N00zTlB930zTfV50mPM/L85w3Esex7/tJktB2AaezQgtSaZoyxrIsK39imqbrurS9QFs4LiesPKfbtm2apuA34zhmjJUFoE+Ptm1L7eLcnMYK/euvv/7880/iK5XNZmOa5mQy4f+7Xq+zLIuiiLYXaAvH5QQ4jnPwBtRut7u8vGzSwsXFRbcu9giuRWq7gINOaYUSF5XValUmXJIklmXxVy55ntN2BK3guIyd4zh3d3f89WCapr7vd7g3stlsGGOfPn3q2cVyuSxPf626gGNOaYXKevorDEOeoJLah25wXEZqsViUlyP8D/z03Vye577v27Z9rB407MLzPMbYzc1Nhy6g1gmsUCmfU3EchzG22+1kNA6d4biMF38/vE8L/J8vFos+XYRhGEVREAQHb7jVdgFip7FCia9UJpMJvzQuE+v19bV6rxCUwHEZNX66r75t27YFfmsly7I+XSRJ4vu+67pfvnzp0AUInNIKJS4qV1dXjLHb29vyJ6vV6vr6mrYXaAvHZdS22y37/fC1Mp1OsyzLskxwhqrtIkmS+Xzuuu7j42O3LkDgpFYo+VNlpmmWzzUGQcB+f04OVMFxGS/+vGkcx/x/+coNgmDv1w4+Usw/vFL7jK+4C/63xx4jbtgFiJ3ACuWPFNMXleItySQVLegMx2W8+FmGS9PUtu3yjO+67vsXi7w88GKw59hnWQRdvP9YZbcuQGzsK5QXFaMY82MGAACgiaenp/v7e3yhJAAAkEFRAQAAMigqAABABkUFAADIoKgAAAAZFBUAACCDogIAAGRQVAAAgAyKCgAAkEFRAQAAMigqAGw6nfI9dDtspwhwVmoXC4oKnLswDD9//lwURZqmlmWpDgdAX00Wi5SdHwFGpNxyCjurA4g1WSy4UgH4ZbvdHvyOdwDYI1gsUoqK53nGGw1vUidJYhgG3/20Ks9zo6Jz+9Xhh2EoowuSYDh+hzRJEvL2tRpsbTB5ns/n84PbGraiMLu4nge0rWPjpQpmyASTPRZBF8Mvlj7BiBcLfVFxHOf5+Znv2RIEgWVZWtUVwzBeXl7e11i+R3e5e51pmsdyS8zzvDzPeSNxHPu+X2YhVRckwTDGwjA0DOPh4UFG+1oNtjaY8hd67oarMLsYxQFt69h4qYIZMsFkj0XQxfCLpU8w9YuFYLuvCr4NXHUXTNM0Xdel7aWzcrIObrxaFccxo9gh1TTNY5uwUnXRLZg4jvmf9/aRpWp/j9rBioPJsozqWCvMLhkHtLb3Y+OVFIy8BBtgLMOnh4xgxIuF7/xIfKWy2WxM0ywr2Hq9zrIsiiLaXmo5jnPwknm3211eXjZp4eLiolsXewSvOGq7aK5DMLPZbLFYyGt/j9rBioP5+vUrY8yyrNo2xQGoza5WB7SVDuNtG8xgCaZwLITpoTCYRouFtgDatl196cQY4/+tXrvIZtt2WUj5i4v3dbW2PvP9uo+F3aQLjjF27EJN3AXX5CKvZzC1r78GG2zRYLxDBtM5ALXZ1eoFNcmEC8bbJJjBjqkmY+mZHiXZx65VMBy/UpFVVIIg4LEOX1T2MMaCINj7oXgq+SXesQvthl0UReG67rEV0rCLDncO2wbT9qJe3mCL9uOVGkznANRmF21RaRJMzxNxky4KCcdU1Vio0kP2sWsVDCfl9hfnOM5qtdrtdjIar9X/OQrTNBljgmveJl2EYRhFURAEBy8za7torn8wstvXarA9gxlFdhEa4KmkwY6pJmMRG3ixyAiGuKhMJpPlcjmZTMo4Xl9fq++yyMafTKjW8LYt8Pu2vER37iJJEt/3XdctPyvUqovyTmgUReKc6B+M2ACDZY3HO0wwAqPIriYIJ7ynwY6pJmMRG3ix9A/mIOKicnV1xRi7vb0tf7Jara6vr2l7Edhut3sBtDKdTrMsy7JMUAVru0iSZD6fu6578DnuJl0sFgueB7U50TOYWgMMljUe7zDBCOifXQ1RTXh/gx1THcYiNvBiIQnmIOKiMpvNTNMsq0gYhsvlUuqB3MOfVeATyhhrddHnOE6WZbUfVhB3sV6v5/O5bdsH10DDLprrE4zs9rUaLEkwmmcXuT7jJemC8JgqH4vYwItFbjCFBNUP1MhoX4w/rsClaWrbdvn2FH+vbw9/542/C7fn2FtYgi4OfniqQxdlwH3GKwjm4FXtwWAGG2yT8Q4ZTNsA1GZX8wNa1WfCBeNtFcxgx1TtWKjSoyTp2PVZLPyNeqOQcG8RAADOzdPT0/39Pb5QEgAAyKCoAAAAGRQVAAAgg6ICAABkUFQAAIAMigoAAJBBUQEAADIoKgAAQAZFBQAAyKCoAAAAmUZFxfO88juWD+4fOZ1ODcNIkqRbEIL2B9gCob8kSQzDeL/XKVXwsue/rWPjpQpm1Pkge3IEXSiZHIXJQNWFPqqDXa/XqsPpqL6oeJ6X5zn/vrA4jn3frx6/MAwNw3h4eOgcgaB9viVAudebaZqCTapVMQzj5eXl/TffUQUve/7bOjZeqmBGnQ+yJ0fQhZLJUZgMVF3ow3Gc5+fn8rsgLcsaa11p8t2TVaZpVneh53/usNFmk/b38J2Jj+1frUS5jGu3eqYKXvb81/Z+bLySghlRPgwwOcPnW7dgBkiG4ZNfKj6K6rbre1tsjcL+dsLlhmLHLjO56suf2WzWfKfJDu3v4TsEKHEs+N1u13A/19rgZc9/Kx3G2zaY8eaDwskhzDepwQyQDPKSX4nNZlPdIXe9XmdZFkWR2qi6+VVUHMe5u7vj1SZNU9/3j1158d2C23ZD0v5ms2GMffr0qW3vPTUPXkAcvOz5L3meV/s7JOOl6kK3fNBqcgQaTk5tPmg13p7Jr7PValWWzCRJLMvi15p5niuNq4tfRWWxWJQvOvgfeFLu4Sl4c3PTtpv+7ed57vu+bdvDZ1XD4AVqg5c9/630Hy9VFxrmgz6TI0A4OfqMd5jkVy4MQ15iVQfS3a+i0uS5kTAMoygKgqDhBXhV//ZN02SMKbng7f9QTW3wsue/lQEeIhpvPmgyOWKEk6PJeAdLfrUcx1mtVrvdTnUgvXxgb8+NVN8Uev97SZL4vu+67pcvX9r20b99fmF4cF9P2ZoEL1YbvOz5Z5V71lEUiVdv//HWGm8+aDI5Yk0mp2E+aDLensk/CpPJhN/cK18KvL6+Vt9lGZEPjLHtdssYu729PfZLSZLM53PXdR8fHzv00bP96XSaZVmWZUrmtzZ4sSbBy55/xthiseArtvYE0XO8TYw3H3SYHLGGk9MwH3QYb//kH4Wrqyv2+zysVqvr62t1EXX3gb09KMKPLmNs7zXLer2ez+e2bXc+qH3adxwny7I0TVVVbHHwYg2Dlz3/rfQZL0kXOueD8skRI58c5eMdOPkVms1mpmmWVSQMw+VyKbWcS8RfpARBUP4kTVPbtoMg4H918JNN/Knwg5fYBx+f79Y+f3a7SftSCYJ3XZckeNnzX2ry5Hu38bYKZrz5oHZyqPKtVJsP2iZDh+TXX3W8qmPpgn9OxSjG/JgBAABo4unp6f7+Hl8oCQAAZFBUAACADIoKAACQQVEBAAAyKCoAAEAGRQUAAMigqAAAABkUFQAAIIOiAgAAZFBUAACADIoKaGQ6nfKvYSffXhDgxGi7WFBUQBdhGH7+/LkoijRNLctSHQ6AvnReLH+oDgDgl3ILpoG3nQcYHZ0XC65UQDvb7fbgd54DwB4NF4uUouJ5XrlHqW73+xRKksQwDL7b63v8DmmSJN0ar855GIbk7Q8WTJ7n8/n85DdlUg6LVB+dzwx6Lhb6ouI4zvPzM9+zJQgCy7KQsowxwzBeXl4OvqYIw9AwjIeHh86Ne56X5zmf8ziOfd+vpmD/9gcLhu9YrnCjzzOBRaqPzmcGfRcL7c5ffPu5LMvKn5im2WS3wdPGj31RFLZt721OF8exbdvF29TxXe36d8fblNS+pGD4Xn58okAeLFJ9dD4z6LlY+M6PxFcqm83GNM2ycq7X6yzLoiii7UVbjuMcvO2z2+0uLy8P/pPZbLZYLHq2v6d6Hd2q/VbIg/n69StjzLKs2jahjzNfpEqQnxl0XizERWW1WpUnkSRJLMuK45gxluc5bUcachzn7u6OV+w0TX3fp72l0Lz95XLZ84rY87zhg3l8fKy+6imfbwFa57xIlZBxZtB5sch6+isMQz6PktrX0GKxKF908D9sNpvh2+f14ObmhrBrzYOBbs5wkSoh+8ygGymfU3EchzG22+1kNK4t/r6Z2vbDMIyiKAiCY9fUJxkMdHCei1QJ2WcG3RBfqUwmE367o7wb+Pr6Wr2Be6p43lTf7Ry+/SRJfN93XbfztXB55zeKovIWsKpgQJKzXaRKyD4zaIi4qFxdXTHGbm9vy5+sVqvr62vaXjS03W7Z7wMfuP0kSebzueu6fR5aXywWPO/Fa2CYYECSs12kSsg+M2iIuKjMZjPTNMsEDcNwuVyew4ReXFywtwRijB18gS+v/fV6PZ/Pbdse5iSuVTDQ1tkuUiVknxl01Olx5BrVD/LIaF9PQRCUo07T1LbtIAj4X7mu+37m+YPn/HnzPXtPrNe2f/CTU23br6r91MKQwYAM57lIlZB9ZtAH/5yKUZzBPT4AAJDt6enp/v4eXygJAABkUFQAAIAMigoAAJBBUQEAADIoKgAAQAZFBQAAyBj//PPPv//+qzoMAAAYtx8/fvz3339/fP/+/du3b6qDAQCA0fv48SM+/AgAAGT+Bz50c1qOcSbqAAAAAElFTkSuQmCC\"></div>"
      ],
      "text/plain": [
       "0         0                          a12 a22             0\n",
       "\n",
       "                                 2                                    2\n",
       "0         a12 a22 + a21 a22 + a22    a12 a21 + a11 a22   a11 a12 + a12\n",
       "\n",
       "a21 a22   a12 a21 + a11 a22          a11 a12 + a11 a21   0\n",
       "\n",
       "                       2                                    2\n",
       "0         a11 a21 + a21              0                   a11"
      ]
     },
     "execution_count": 27,
     "metadata": {
      "text/html": [],
      "text/plain": []
     },
     "output_type": "execute_result"
    }
   ],
   "source": [
    "butchiNumber[{\n",
    "  {a11, a21},\n",
    "  {a12, a22}\n",
    "}]^2"
   ]
  },
  {
   "cell_type": "code",
   "execution_count": null,
   "metadata": {
    "vscode": {
     "languageId": "wolfram"
    }
   },
   "outputs": [],
   "source": [
    "(* butchiNumber[{\n",
    "  {a11, a21},\n",
    "  {a12, a22}\n",
    "}]^3 *)"
   ]
  },
  {
   "cell_type": "code",
   "execution_count": null,
   "metadata": {
    "vscode": {
     "languageId": "wolfram"
    }
   },
   "outputs": [],
   "source": [
    "(* butchiNumber[{\n",
    "  {a11, a21, a31},\n",
    "  {a12, a22, a32},\n",
    "  {a13, a23, a33}\n",
    "}]^2 *)"
   ]
  },
  {
   "cell_type": "code",
   "execution_count": null,
   "metadata": {
    "vscode": {
     "languageId": "wolfram"
    }
   },
   "outputs": [
    {
     "data": {
      "text/html": [
       "<div><img alt=\"Output\" src=\"data:image/png;base64,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\"></div>"
      ],
      "text/plain": [
       "-Graphics-"
      ]
     },
     "execution_count": 30,
     "metadata": {
      "text/html": [],
      "text/plain": []
     },
     "output_type": "execute_result"
    }
   ],
   "source": [
    "butchiNumberPlot[butchiNumber[16]]"
   ]
  },
  {
   "cell_type": "code",
   "execution_count": null,
   "metadata": {
    "vscode": {
     "languageId": "wolfram"
    }
   },
   "outputs": [
    {
     "data": {
      "text/html": [
       "<div><img alt=\"Output\" src=\"data:image/png;base64,iVBORw0KGgoAAAANSUhEUgAAAeAAAAHgCAIAAADytinCAAAAz3pUWHRSYXcgcHJvZmlsZSB0eXBlIGV4aWYAAHjabY/ZjQMhEET/iWJD6AOqIRzGxpIzcPguhhmtWG1JUI++UKfxeb/Sz5SppFyiogFC5ZabdUKVpeUq7bxPjZt0j6c7oZ1efhMYy/XY44HlVv8MElvg8wey56vhGuS24trX+7jqrde6D2qyCTfo/+/sYSjQyLyzSQQauSYiDcWkBF54ACxUPE3ygz4QwTbErPA+G6dsxF49EpyB51zB5zHvrqQ+ma1cmVzOiDvsIDUyM1znC5ZRWuIlf0WvAAAACXBIWXMAAA7EAAAOxAGVKw4bAAAAPHRFWHRTb2Z0d2FyZQBDcmVhdGVkIHdpdGggdGhlIFdvbGZyYW0gTGFuZ3VhZ2UgOiB3d3cud29sZnJhbS5jb21coqaFAAAAIXRFWHRDcmVhdGlvbiBUaW1lADIwMjI6MTA6MjIgMDE6NTA6MzaP8PVeAAALzUlEQVR4nO3d0W4cuaFF0XYw/6pv8tc6Dz0JkqmeMU2T1buq13q5wEXUKknBBgGfFL/9+PHjAUDPH4/H4+vr692PAcBf/fH8P9+/f3/vcwDwv76+vv717mcA4DWBBogSaIAogQaIEmiAKIEGiBJogKg/Jr7m27dvy5/jivyPMIGtnKABogQaIEqgAaIEGiBKoAGifrLieDnYOK4Xbr/reDnYOP7Udh3AQk7QAFECDRAl0ABRAg0QJdAAUWvexfGBu47H2E9t1wFMc4IGiBJogCiBBogSaIAogQaIEmiAqJmZ3ZHh3dPgT217B4xwggaIEmiAKIEGiBJogCiBBohas+I4Gnxt0O2nHe7KAqY5QQNECTRAlEADRAk0QJRAA0TtWnEcDb6V4va7joe7soAxTtAAUQINECXQAFECDRAl0ABRAg0Qdd7M7iV3ZT0Z3gFHTtAAUQINECXQAFECDRAl0ABRb15xHLkr62lwzWLaATfmBA0QJdAAUQINECXQAFECDRCVW3EcuSvraXDNYtcBt+EEDRAl0ABRAg0QJdAAUQINEHWBFcdLrmJ5chUL3JgTNECUQANECTRAlEADRAk0QJRAA0RddWZ3ZHj35K4suA0naIAogQaIEmiAKIEGiBJogKj7rDiOBl8bdPtph7uy4KKcoAGiBBogSqABogQaIEqgAaLuvOI4Gnwrxe13HQ93ZcEVOEEDRAk0QJRAA0QJNECUQANECTRA1GfN7F6anpfdfo1neAfv5QQNECXQAFECDRAl0ABRAg0QNbPi8E/5Tzd7y9LIjzP4tilgCSdogCiBBogSaIAogQaIEmiAqJ+sOF7+A/3tX9Ew/QN+4K7j5f/zZv99gHdxggaIEmiAKIEGiBJogCiBBogSaICoNS9Luv3QavolQYM7xasY/HFu/98HOIcTNECUQANECTRAlEADRAk0QNTMiuPoA3cdD+9U+g93ZcEmTtAAUQINECXQAFECDRAl0ABRa1YcR4NDhZv9O75dx5O7smAJJ2iAKIEGiBJogCiBBogSaICoXSuOo8HLOG727/gLr2K52a7j4SoW+BknaIAogQaIEmiAKIEGiBJogCiBBog6b2b3kruynuaGdy8/6kLclQX/zAkaIEqgAaIEGiBKoAGiBBog6s0rjiN3ZT25K+vJXVl8MidogCiBBogSaIAogQaIEmiAqNyK48hdWU92Hf/lriw+hBM0QJRAA0QJNECUQANECTRAlEADRF1gZvfSB96VNf3SKHdl/d1XQZwTNECUQANECTRAlEADRAk0QNRVVxxHH7jreCx9p9LIh1/aJ9ydxs04QQNECTRAlEADRAk0QJRAA0TdZ8VxNHj5083+HX/hduVCt2dNP+onTH24LidogCiBBogSaIAogQaIEmiAKIEGiLrzzO5o+vIn06unC92eZXjHDThBA0QJNECUQANECTRAlEADRH3WiuOlkX/uv/RblnY//FXeqTQ9Qbn0X59Lc4IGiBJogCiBBogSaIAogQaIsuJ4YXCWcOmXNmx9+KvsOh5e2UGbEzRAlEADRAk0QJRAA0QJNECUFceQwdc4XPpf9k/edbz8jgV2HXQ4QQNECTRAlEADRAk0QJRAA0QJNECUmd28D7wra+2TX+WdSgvvyrrKn54IJ2iAKIEGiBJogCiBBogSaIAoK46Vbn9X1u5RylV2HY/ZR730qofzOUEDRAk0QJRAA0QJNECUQANEWXHs5a6s3+SuLD6ZEzRAlEADRAk0QJRAA0QJNECUQANEmdm9wdxdWReaXp1/V9bIM1zIpf/6LOQEDRAl0ABRAg0QJdAAUQINEGXFkTC363j5hU3nP3zh9qyFz3Dpvz7TnKABogQaIEqgAaIEGiBKoAGirDiiBgcAl35pw8kPX7g9a+0zXPqvzwgnaIAogQaIEmiAKIEGiBJogCgrjssYHAAMTgL8c//T7V/Z4Q99aU7QAFECDRAl0ABRAg0QJdAAUQINEGVmd23TC63mHqvwVLcf3r38fJqcoAGiBBogSqABogQaIEqgAaKsOO7m9ruOx+kP5q4s3sUJGiBKoAGiBBogSqABogQaIMqK4/6mBwDZf+svPNjtX9kR+Vt/OCdogCiBBogSaIAogQaIEmiAKIEGiDKz+1BzC63Cq4teKqzERr7j+VO8aYVfKU7QAFECDRAl0ABRAg0QJdAAUVYc/On2d2UVnmr37VlbX+GU3fDcmBM0QJRAA0QJNECUQANECTRAlBUHf+v2u45H48G2Ti9270aaf+vbcIIGiBJogCiBBogSaIAogQaIEmiAKDM7fsH0Zis7cWuuxLYO73Z/fvNXelFO0ABRAg0QJdAAUQINECXQAFFWHPyuhe9UGvnwz+SurM/kBA0QJdAAUQINECXQAFECDRBlxcF6CycB5w8ALvQqiZEHW/sSj4Uu9Ht+IydogCiBBogSaIAogQaIEmiAKCsOzrD2VRInDwAKS5Lz7b7V5ciu48gJGiBKoAGiBBogSqABogQaIEqgAaLM7Hibre9U2r3QWvgdRz5q+jezcOC4+9qtwQ//qO2dEzRAlEADRAk0QJRAA0QJNECUFQchdh2/9FELpx2Fjxr0Ue9UcoIGiBJogCiBBogSaIAogQaIsuIgbeF6oXBz1cJdx8tPW/vKjlUfvtuNdx1O0ABRAg0QJdAAUQINECXQAFECDRBlZsf1bH2n0si3i5iel20dzJ3/+qSj2wzvnKABogQaIEqgAaIEGiBKoAGirDi4g63LgYVvWRp8qt2Tg7lf1/SLq9be1zXn/FdlLeEEDRAl0ABRAg0QJdAAUQINEGXFwT3tfiPE1rc9LHzJxuAXTv+6zr8rqz+9WMgJGiBKoAGiBBogSqABogQaIMqKg0+x+40QJ+86Bj9/+gt3X84yshsZ/JNN/577F684QQNECTRAlEADRAk0QJRAA0QJNECUmR0f7fy7skaeYbeF87LptdzIR+3+jke14Z0TNECUQANECTRAlEADRAk0QJQVB/yf3XdlHS284Oro/BHC7gXFyE+9ddfxO5/2q5ygAaIEGiBKoAGiBBogSqABoqw44Cd235U18uG7Rwi7v+PIMyz8qOMXZt+L8s+coAGiBBogSqABogQaIEqgAaIEGiDKzA5mnPxOpfNXYtOvLpr+zSx8+OlnWPhTL+EEDRAl0ABRAg0QJdAAUQINEGXFAWucf1fW0cJbo3bfXLXwC0c+atra+cevcoIGiBJogCiBBogSaIAogQaIsuKAXZq7jpemJwdb74gavK9rxNpXangXB8CnE2iAKIEGiBJogCiBBogSaIAoMzs4z/Sri3bbenPV2qnf3K9rcLE3uJ8bedQlUzwnaIAogQaIEmiAKIEGiBJogCgrDnizwjuVRgYGa2/P2voz7v6Vjiw0XHkFcGcCDRAl0ABRAg0QJdAAUVYckLN7hDD3Dorzn2HwC6eNfMfpl3gM+ucfxwkaIEqgAaIEGiBKoAGiBBogyooDLmD36ywKm4qm6R/QuzgA7kygAaIEGiBKoAGiBBogSqABoszs4Kq2vs9o8MO3vmVp4YZveqc4+LKkTZygAaIEGiBKoAGiBBogSqABoqw44D5O3nW8/PzptyxNf9TIh++26Ts6QQNECTRAlEADRAk0QJRAA0RZccCdDa4LFo49Bo28xGPwC+f+My+/4/RTbeIEDRAl0ABRAg0QJdAAUQINECXQAFFmdsD8W5bO/8KFaqO6IydogCiBBogSaIAogQaIEmiAKCsO4IXCruOlkenF2u/4Rk7QAFECDRAl0ABRAg0QJdAAUVYcwJC1t2dNjzFGHqM/zxjkBA0QJdAAUQINECXQAFECDRBlxQGstHuMMXfxykV3HU7QAFECDRAl0ABRAg0QJdAAUQINEGVmB+y18C6r3/n8K3KCBogSaIAogQaIEmiAKIEGiLLiABJuPMaY5gQNECXQAFECDRAl0ABRAg0QZcUBXMlHjT2coAGiBBogSqABogQaIEqgAaIEGiBKoAGiBBogSqABov78XxJ+fX299zkA+It/Ax0Xibj71C8bAAAAAElFTkSuQmCC\"></div>"
      ],
      "text/plain": [
       "-Graphics-"
      ]
     },
     "execution_count": 31,
     "metadata": {
      "text/html": [],
      "text/plain": []
     },
     "output_type": "execute_result"
    }
   ],
   "source": [
    "butchiNumberPlot[butchiNumber[1024]]"
   ]
  },
  {
   "cell_type": "code",
   "execution_count": null,
   "metadata": {
    "vscode": {
     "languageId": "wolfram"
    }
   },
   "outputs": [],
   "source": []
  }
 ],
 "metadata": {
  "kernelspec": {
   "display_name": "Wolfram Language 13.1",
   "language": "Wolfram Language",
   "name": "wolframlanguage13.1"
  },
  "language_info": {
   "codemirror_mode": "mathematica",
   "file_extension": ".m",
   "mimetype": "application/vnd.wolfram.m",
   "name": "Wolfram Language",
   "pygments_lexer": "mathematica",
   "version": "12.0"
  },
  "orig_nbformat": 4,
  "vscode": {
   "interpreter": {
    "hash": "28512ef47dc95a211b5628f8653bfe09551e666171041014dfa106f456b0e211"
   }
  }
 },
 "nbformat": 4,
 "nbformat_minor": 2
}
