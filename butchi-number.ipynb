{
 "cells": [
  {
   "cell_type": "markdown",
   "metadata": {},
   "source": [
    "# butchi number\n",
    "\n",
    "from butchi-number.nb"
   ]
  },
  {
   "cell_type": "code",
   "execution_count": 1,
   "metadata": {
    "vscode": {
     "languageId": "wolfram"
    }
   },
   "outputs": [],
   "source": [
    "butchiNumber[0] := butchiNumber[{{0}}]\n",
    "butchiNumber[x_?NumberQ] := normalize[butchiNumber[{{x}}]]"
   ]
  },
  {
   "cell_type": "code",
   "execution_count": 3,
   "metadata": {
    "vscode": {
     "languageId": "wolfram"
    }
   },
   "outputs": [],
   "source": [
    "butchiNumberForm[butchiNumber[li_]] := Grid[Reverse[li, {1, 2}], Dividers -> -1 -> True]"
   ]
  },
  {
   "cell_type": "code",
   "execution_count": 4,
   "metadata": {
    "vscode": {
     "languageId": "wolfram"
    }
   },
   "outputs": [],
   "source": [
    "listToPolynomial[li_, var_] := FromDigits[Reverse[li], var]"
   ]
  },
  {
   "cell_type": "code",
   "execution_count": 5,
   "metadata": {
    "vscode": {
     "languageId": "wolfram"
    }
   },
   "outputs": [],
   "source": [
    "butchiNumberToList[x_butchiNumber] := First[x]"
   ]
  },
  {
   "cell_type": "code",
   "execution_count": 6,
   "metadata": {
    "vscode": {
     "languageId": "wolfram"
    }
   },
   "outputs": [],
   "source": [
    "butchiNumberToPolynomial[x_butchiNumber, var1_, var2_] := \n",
    "    listToPolynomial[\n",
    "        Map[listToPolynomial[#, var1] &, butchiNumberToList[x], 1], var2\n",
    "    ]"
   ]
  },
  {
   "cell_type": "code",
   "execution_count": 7,
   "metadata": {
    "vscode": {
     "languageId": "wolfram"
    }
   },
   "outputs": [],
   "source": [
    "normalize[x_butchiNumber, max_: 99999] := \n",
    "   Module[{p, q}, \n",
    "      butchiNumber[\n",
    "         CoefficientList[\n",
    "            NestWhile[\n",
    "               Expand[\n",
    "                  ((# - PolynomialMod[#, 2]) / 2) * (p + q) + PolynomialMod[#, 2]\n",
    "               ] &,\n",
    "               butchiNumberToPolynomial[x, p, q],\n",
    "               UnsameQ,\n",
    "               2,\n",
    "               max\n",
    "            ],\n",
    "         {q, p}]\n",
    "      ]\n",
    "   ]"
   ]
  },
  {
   "cell_type": "code",
   "execution_count": 8,
   "metadata": {
    "vscode": {
     "languageId": "wolfram"
    }
   },
   "outputs": [],
   "source": [
    "increment[x_butchiNumber] :=\n",
    "   If[\n",
    "      Extract[butchiNumberToList[x], {1, 1}] == 0, \n",
    "      butchiNumber[ReplacePart[butchiNumberToList[x], {1, 1} -> 1]], \n",
    "      Module[{li, pp = {2, 1}, qq = {1, 2}},\n",
    "         li = ReplacePart[\n",
    "            PadRight[#, Dimensions[#] + 1] &[\n",
    "            butchiNumberToList[x]], {1, 1} -> 0\n",
    "         ];\n",
    "         While[\n",
    "            pp != qq,\n",
    "            If[li[[Sequence @@ pp]] == 1,\n",
    "               li[[Sequence @@ pp]] = 0; pp[[1]]++,\n",
    "               li[[Sequence @@ pp]] = 1; pp[[2]]++\n",
    "            ];\n",
    "            If[li[[Sequence @@ qq]] == 1,\n",
    "               li[[Sequence @@ qq]] = 0; qq[[2]]++,\n",
    "               li[[Sequence @@ qq]] = 1; qq[[1]]++\n",
    "            ]\n",
    "         ];\n",
    "\n",
    "         Return[\n",
    "            butchiNumber[\n",
    "               Transpose[Transpose[li\n",
    "               /. {a__, {0 ..}} -> {a}]\n",
    "               /. {a__, {0 ..}} -> {a}]\n",
    "            ]\n",
    "         ]\n",
    "      ]\n",
    "   ]"
   ]
  },
  {
   "cell_type": "code",
   "execution_count": 9,
   "metadata": {
    "vscode": {
     "languageId": "wolfram"
    }
   },
   "outputs": [],
   "source": [
    "construct[op_, x__butchiNumber] := \n",
    "    Module[{p, q}, \n",
    "        normalize[butchiNumber[CoefficientList[\n",
    "            Apply[\n",
    "                op, \n",
    "                Table[butchiNumberToPolynomial[bn, p, q], {bn, {x}}]\n",
    "            ],\n",
    "            {q, p}\n",
    "        ]]]\n",
    "    ]\n",
    "\n",
    "construct[op_, x_?NumberQ, y__butchiNumber] := \n",
    "    Module[{p, q}, \n",
    "        normalize[butchiNumber[CoefficientList[\n",
    "            Construct[\n",
    "                op,\n",
    "                x, \n",
    "                Table[butchiNumberToPolynomial[bn, p, q], {bn, {y}}]],\n",
    "            {q, p}\n",
    "        ]]]\n",
    "    ]\n",
    "\n",
    "construct[op_, x_butchiNumber, y__?NumberQ] := \n",
    "    Module[{p, q}, \n",
    "        normalize[butchiNumber[CoefficientList[\n",
    "            Construct[\n",
    "                op,\n",
    "                butchiNumberToPolynomial[x, p, q], y\n",
    "            ],\n",
    "            {q, p}\n",
    "        ]]]\n",
    "    ]"
   ]
  },
  {
   "cell_type": "code",
   "execution_count": 12,
   "metadata": {
    "vscode": {
     "languageId": "wolfram"
    }
   },
   "outputs": [],
   "source": [
    "Unprotect[{Plus, Times, Power}];\n",
    "\n",
    "\n",
    "Plus[x_Integer?Positive, y__butchiNumber] := Nest[increment, y, x]\n",
    "\n",
    "Plus[x_?NumberQ, y__butchiNumber] := \n",
    "    construct[Plus, butchiNumber[{{x}}], y]\n",
    "\n",
    "Plus[x_butchiNumber, y__butchiNumber] := construct[Plus, x, y]\n",
    "\n",
    "\n",
    "Times[x_?NumberQ, y__butchiNumber] := \n",
    "    construct[Times, butchiNumber[{{x}}], y]\n",
    "\n",
    "Times[x_butchiNumber, y__butchiNumber] := construct[Times, x, y]\n",
    "\n",
    "\n",
    "Power[x_butchiNumber, y_] := construct[Power, x, y]\n",
    "\n",
    "\n",
    "Protect[{Plus, Times, Power}];"
   ]
  },
  {
   "cell_type": "code",
   "execution_count": 20,
   "metadata": {
    "vscode": {
     "languageId": "wolfram"
    }
   },
   "outputs": [],
   "source": [
    "Clear[butchiNumberPlot]"
   ]
  },
  {
   "cell_type": "code",
   "execution_count": 21,
   "metadata": {
    "vscode": {
     "languageId": "wolfram"
    }
   },
   "outputs": [],
   "source": [
    "butchiNumberPlot[x__butchiNumber] := \n",
    "    ArrayPlot[\n",
    "        Reverse[butchiNumberToList[x], {2, 1}]\n",
    "    ]\n"
   ]
  },
  {
   "cell_type": "code",
   "execution_count": 22,
   "metadata": {
    "vscode": {
     "languageId": "wolfram"
    }
   },
   "outputs": [
    {
     "data": {
      "text/html": [
       "<div><img alt=\"Output\" src=\"data:image/png;base64,iVBORw0KGgoAAAANSUhEUgAAAKQAAAAvCAIAAADioPYNAAAAzXpUWHRSYXcgcHJvZmlsZSB0eXBlIGV4aWYAAHjabU9bDgIhDPznFB6hD5jCcViXTbyBx7cVosE4Ce10+qJpPB9XugWEKeViFQ0gR265SXdSaWJ6pva2b/S8crzrSa6ld5fKN4Gx9GPXDdNL/RlEMonGBue6NtoapDJ17jM+Vr30WvdBjTaAPl//G2c1QQFbdpuFzNCc1+TUHYpQMVy4A17IOIXy3f2AmbfBokJ7NAZk2F49EtSFM07QeKJd2VlYlql21WVVDmfNOWmc8wKW31rdK+/u6gAAAAlwSFlzAAAOxAAADsQBlSsOGwAAADx0RVh0U29mdHdhcmUAQ3JlYXRlZCB3aXRoIHRoZSBXb2xmcmFtIExhbmd1YWdlIDogd3d3LndvbGZyYW0uY29tXKKmhQAAACF0RVh0Q3JlYXRpb24gVGltZQAyMDIyOjEwOjExIDIwOjMwOjMz5l0lugAABAtJREFUeJztmzFSs04Yxt91nLG1dnRGWQ7gAbR1OQLxBlA70limgQOEMrGCwgOQxkIYi5whMB7Cfr+CT/75B9gs7LJxvt1fpSzD+zx51zcbfUSUUjDowcmxBRhU8PX19f39/buaXRQFQqgoimMLUc3Uxm9ubt7e3ria7fs++iGKot2lqqrQDtNIPZqSNE0RQrZt711X7FqWmMPN9n2/qipKKaU0SZIgCNI0bcpgjPM8r1cxxm0pElGsBCH08fFBCNm7rti1TDF0IBhjQkjnUpIkANAUHkGe5/xPmFRJ8woSQjDGjDvFa9FDxsXFAMByufzvJ9txnL4JuQtj41xeXvJsUh5s266V+L4/qZI+19vt9u7ujucJEl1Dj3FZYv4223Gcl5eXZpcFQdB3WFiv15ZldS59fn4CwMXFBaMeo3kN9/f38/mcUlqWZRzHzayWqwSGuGbAWUui8fFiOqcBAIRh2L7ueR70TJuyLAGgb67uPoGxWk+zJEmaK4SQzmeKK2nT6Zo9OflrSTE+WgzsjnGeE10URXEch2HYOVIwxgCQZdnQzdhmdxZZlrXdbidSIn6olugaOIwLijmBnxPd7tZr35emaRAEnuc9Pz+3V+u3z3pnddK8NcZxLPiJRVBJA49rNjy1JBoXF3MCAJvNBgCenp76bkrTdDabeZ63WCw6y5RlWZZl3zsoAGRZ1p5mPB6qqnp4eJCopOGgazactWQZlyLmFH6mx2azqW/d23pFUcxmM0JI5+vrOE5Zlnme87y+Q4miaL1eN7tVrhK2azaTuoaWcWli6r0WhmFzJc9zQkhzVGl/kIefo0R9rNiD/UGQfU5p7/rdJblK2K7rA6DEWiLGxcUAwHK5RO0yhn8PhND/fqli+OcxzdYI02yNMM3WCNNsjTDN1gjTbI0wzdYI02yNMM3WiN/VbBMlnrSKaJS4pk5OjYjRDEWxkr707hS1FIgRihIDQBRFCKH5fD5U+ggUK+lL705RS42Yw81eLBZN0sV1XYzxarWqv03T9P39nVIqN2H5G5TYtp3neecfzhW7lihGKErsuq6s+FW7yqAo8WglI6LE07mG4VHiQWJkRol5UBMl5kRKlJgTNVFiNn+bnWVZs3fqL+oE8h614sfHR7ki9kiSxHVdALAsixDSzGrpSjhdK4PHuAjSosQSEYwS83OU/89jIBglPoicKPFBlEWJ+RGPEvOgLErMg4QoMQ9qosSDEIwSc6ImSsyJaJR4UgZFiYciEiWemkFR4gHUe21clLhTzVGixCOUsF0z0rvjak0UJeYUAyZKrA8mSqwdptkaYZqtEabZGmGarRGm2RpxulqtXl9fjy3DMC23t7dnZ2en5+fn19fXxxZjmJyrqyvzSxWN+AMl4bWFu2nxEQAAAABJRU5ErkJggg==\"></div>"
      ],
      "text/plain": [
       "a22 + b22   a12 + b12\n",
       "\n",
       "a21 + b21   a11 + b11"
      ]
     },
     "execution_count": 22,
     "metadata": {
      "text/html": [],
      "text/plain": []
     },
     "output_type": "execute_result"
    }
   ],
   "source": [
    "butchiNumber[{\n",
    "  {a11, a21},\n",
    "  {a12, a22}\n",
    "}] + butchiNumber[{\n",
    "  {b11, b21},\n",
    "  {b12, b22}\n",
    "}] // butchiNumberForm"
   ]
  },
  {
   "cell_type": "code",
   "execution_count": 23,
   "metadata": {
    "vscode": {
     "languageId": "wolfram"
    }
   },
   "outputs": [
    {
     "data": {
      "text/html": [
       "<div><img alt=\"Output\" src=\"data:image/png;base64,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\"></div>"
      ],
      "text/plain": [
       "a22 b22             a22 b12 + a12 b22                       a12 b12\n",
       "\n",
       "a22 b21 + a21 b22   a22 b11 + a21 b12 + a12 b21 + a11 b22   a12 b11 + a11 b12\n",
       "\n",
       "a21 b21             a21 b11 + a11 b21                       a11 b11"
      ]
     },
     "execution_count": 23,
     "metadata": {
      "text/html": [],
      "text/plain": []
     },
     "output_type": "execute_result"
    }
   ],
   "source": [
    "butchiNumber[{\n",
    "  {a11, a21},\n",
    "  {a12, a22}\n",
    "}] * butchiNumber[{\n",
    "  {b11, b21},\n",
    "  {b12, b22}\n",
    "}] // butchiNumberForm"
   ]
  },
  {
   "cell_type": "code",
   "execution_count": 24,
   "metadata": {
    "vscode": {
     "languageId": "wolfram"
    }
   },
   "outputs": [
    {
     "data": {
      "text/html": [
       "<div><img alt=\"Output\" src=\"data:image/png;base64,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\"></div>"
      ],
      "text/plain": [
       "0         0                          a12 a22             0\n",
       "\n",
       "                                 2                                    2\n",
       "0         a12 a22 + a21 a22 + a22    a12 a21 + a11 a22   a11 a12 + a12\n",
       "\n",
       "a21 a22   a12 a21 + a11 a22          a11 a12 + a11 a21   0\n",
       "\n",
       "                       2                                    2\n",
       "0         a11 a21 + a21              0                   a11"
      ]
     },
     "execution_count": 24,
     "metadata": {
      "text/html": [],
      "text/plain": []
     },
     "output_type": "execute_result"
    }
   ],
   "source": [
    "butchiNumber[{\n",
    "  {a11, a21},\n",
    "  {a12, a22}\n",
    "}]^2 // butchiNumberForm"
   ]
  },
  {
   "cell_type": "code",
   "execution_count": 25,
   "metadata": {
    "vscode": {
     "languageId": "wolfram"
    }
   },
   "outputs": [],
   "source": [
    "(* butchiNumber[{\n",
    "  {a11, a21},\n",
    "  {a12, a22}\n",
    "}]^3 // butchiNumberForm *)"
   ]
  },
  {
   "cell_type": "code",
   "execution_count": 26,
   "metadata": {
    "vscode": {
     "languageId": "wolfram"
    }
   },
   "outputs": [],
   "source": [
    "(* butchiNumber[{\n",
    "  {a11, a21, a31},\n",
    "  {a12, a22, a32},\n",
    "  {a13, a23, a33}\n",
    "}]^2 // butchiNumberForm *)"
   ]
  },
  {
   "cell_type": "code",
   "execution_count": 27,
   "metadata": {
    "vscode": {
     "languageId": "wolfram"
    }
   },
   "outputs": [
    {
     "data": {
      "text/html": [
       "<div><img alt=\"Output\" src=\"data:image/png;base64,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\"></div>"
      ],
      "text/plain": [
       "-Graphics-"
      ]
     },
     "execution_count": 27,
     "metadata": {
      "text/html": [],
      "text/plain": []
     },
     "output_type": "execute_result"
    }
   ],
   "source": [
    "butchiNumberPlot[butchiNumber[16]]"
   ]
  },
  {
   "cell_type": "code",
   "execution_count": 28,
   "metadata": {
    "vscode": {
     "languageId": "wolfram"
    }
   },
   "outputs": [
    {
     "data": {
      "text/html": [
       "<div><img alt=\"Output\" src=\"data:image/png;base64,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\"></div>"
      ],
      "text/plain": [
       "-Graphics-"
      ]
     },
     "execution_count": 28,
     "metadata": {
      "text/html": [],
      "text/plain": []
     },
     "output_type": "execute_result"
    }
   ],
   "source": [
    "butchiNumberPlot[butchiNumber[1024]]"
   ]
  },
  {
   "cell_type": "code",
   "execution_count": null,
   "metadata": {
    "vscode": {
     "languageId": "wolfram"
    }
   },
   "outputs": [],
   "source": []
  }
 ],
 "metadata": {
  "kernelspec": {
   "display_name": "Wolfram Language 13.1",
   "language": "Wolfram Language",
   "name": "wolframlanguage13.1"
  },
  "language_info": {
   "codemirror_mode": "mathematica",
   "file_extension": ".m",
   "mimetype": "application/vnd.wolfram.m",
   "name": "Wolfram Language",
   "pygments_lexer": "mathematica",
   "version": "12.0"
  },
  "orig_nbformat": 4,
  "vscode": {
   "interpreter": {
    "hash": "28512ef47dc95a211b5628f8653bfe09551e666171041014dfa106f456b0e211"
   }
  }
 },
 "nbformat": 4,
 "nbformat_minor": 2
}
