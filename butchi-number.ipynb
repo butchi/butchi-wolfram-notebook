{
 "cells": [
  {
   "cell_type": "markdown",
   "metadata": {},
   "source": [
    "# butchi number\n",
    "\n",
    "from butchi-number.nb"
   ]
  },
  {
   "cell_type": "code",
   "execution_count": 1,
   "metadata": {
    "vscode": {
     "languageId": "wolfram"
    }
   },
   "outputs": [],
   "source": [
    "butchiNumber[0] := butchiNumber[{{0}}]\n",
    "butchiNumber[x_?NumberQ] := normalize[butchiNumber[{{x}}]]"
   ]
  },
  {
   "cell_type": "code",
   "execution_count": 3,
   "metadata": {
    "vscode": {
     "languageId": "wolfram"
    }
   },
   "outputs": [],
   "source": [
    "butchiNumberForm[butchiNumber[li_]] := Grid[Reverse[li, {1, 2}], Dividers -> -1 -> True]"
   ]
  },
  {
   "cell_type": "code",
   "execution_count": 4,
   "metadata": {
    "vscode": {
     "languageId": "wolfram"
    }
   },
   "outputs": [],
   "source": [
    "Format[butchiNumber[li_]] := butchiNumberForm[butchiNumber[li]]"
   ]
  },
  {
   "cell_type": "code",
   "execution_count": 5,
   "metadata": {
    "vscode": {
     "languageId": "wolfram"
    }
   },
   "outputs": [],
   "source": [
    "listToPolynomial[li_, var_] := FromDigits[Reverse[li], var]"
   ]
  },
  {
   "cell_type": "code",
   "execution_count": 6,
   "metadata": {
    "vscode": {
     "languageId": "wolfram"
    }
   },
   "outputs": [],
   "source": [
    "butchiNumberToList[x_butchiNumber] := First[x]"
   ]
  },
  {
   "cell_type": "code",
   "execution_count": 7,
   "metadata": {
    "vscode": {
     "languageId": "wolfram"
    }
   },
   "outputs": [],
   "source": [
    "butchiNumberToPolynomial[x_butchiNumber, var1_, var2_] := \n",
    "    listToPolynomial[\n",
    "        Map[listToPolynomial[#, var1] &, butchiNumberToList[x], 1], var2\n",
    "    ]"
   ]
  },
  {
   "cell_type": "code",
   "execution_count": 8,
   "metadata": {
    "vscode": {
     "languageId": "wolfram"
    }
   },
   "outputs": [],
   "source": [
    "normalize[x_butchiNumber, max_: 99999] := \n",
    "   Module[{p, q}, \n",
    "      butchiNumber[\n",
    "         CoefficientList[\n",
    "            NestWhile[\n",
    "               Expand[\n",
    "                  ((# - PolynomialMod[#, 2]) / 2) * (p + q) + PolynomialMod[#, 2]\n",
    "               ] &,\n",
    "               butchiNumberToPolynomial[x, p, q],\n",
    "               UnsameQ,\n",
    "               2,\n",
    "               max\n",
    "            ],\n",
    "         {q, p}]\n",
    "      ]\n",
    "   ]"
   ]
  },
  {
   "cell_type": "code",
   "execution_count": 9,
   "metadata": {
    "vscode": {
     "languageId": "wolfram"
    }
   },
   "outputs": [],
   "source": [
    "increment[x_butchiNumber] :=\n",
    "   If[\n",
    "      Extract[butchiNumberToList[x], {1, 1}] == 0, \n",
    "      butchiNumber[ReplacePart[butchiNumberToList[x], {1, 1} -> 1]], \n",
    "      Module[{li, pp = {2, 1}, qq = {1, 2}},\n",
    "         li = ReplacePart[\n",
    "            PadRight[#, Dimensions[#] + 1] &[\n",
    "            butchiNumberToList[x]], {1, 1} -> 0\n",
    "         ];\n",
    "         While[\n",
    "            pp != qq,\n",
    "            If[li[[Sequence @@ pp]] == 1,\n",
    "               li[[Sequence @@ pp]] = 0; pp[[1]]++,\n",
    "               li[[Sequence @@ pp]] = 1; pp[[2]]++\n",
    "            ];\n",
    "            If[li[[Sequence @@ qq]] == 1,\n",
    "               li[[Sequence @@ qq]] = 0; qq[[2]]++,\n",
    "               li[[Sequence @@ qq]] = 1; qq[[1]]++\n",
    "            ]\n",
    "         ];\n",
    "\n",
    "         Return[\n",
    "            butchiNumber[\n",
    "               Transpose[Transpose[li\n",
    "               /. {a__, {0 ..}} -> {a}]\n",
    "               /. {a__, {0 ..}} -> {a}]\n",
    "            ]\n",
    "         ]\n",
    "      ]\n",
    "   ]"
   ]
  },
  {
   "cell_type": "code",
   "execution_count": 10,
   "metadata": {
    "vscode": {
     "languageId": "wolfram"
    }
   },
   "outputs": [],
   "source": [
    "construct[op_, x__butchiNumber] := \n",
    "    Module[{p, q}, \n",
    "        normalize[butchiNumber[CoefficientList[\n",
    "            Apply[\n",
    "                op, \n",
    "                Table[butchiNumberToPolynomial[bn, p, q], {bn, {x}}]\n",
    "            ],\n",
    "            {q, p}\n",
    "        ]]]\n",
    "    ]\n",
    "\n",
    "construct[op_, x_?NumberQ, y__butchiNumber] := \n",
    "    Module[{p, q}, \n",
    "        normalize[butchiNumber[CoefficientList[\n",
    "            Construct[\n",
    "                op,\n",
    "                x, \n",
    "                Table[butchiNumberToPolynomial[bn, p, q], {bn, {y}}]],\n",
    "            {q, p}\n",
    "        ]]]\n",
    "    ]\n",
    "\n",
    "construct[op_, x_butchiNumber, y__?NumberQ] := \n",
    "    Module[{p, q}, \n",
    "        normalize[butchiNumber[CoefficientList[\n",
    "            Construct[\n",
    "                op,\n",
    "                butchiNumberToPolynomial[x, p, q], y\n",
    "            ],\n",
    "            {q, p}\n",
    "        ]]]\n",
    "    ]"
   ]
  },
  {
   "cell_type": "code",
   "execution_count": 13,
   "metadata": {
    "vscode": {
     "languageId": "wolfram"
    }
   },
   "outputs": [],
   "source": [
    "Unprotect[{Plus, Times, Power}];\n",
    "\n",
    "\n",
    "Plus[x_Integer?Positive, y__butchiNumber] := Nest[increment, y, x]\n",
    "\n",
    "Plus[x_?NumberQ, y__butchiNumber] := \n",
    "    construct[Plus, butchiNumber[{{x}}], y]\n",
    "\n",
    "Plus[x_butchiNumber, y__butchiNumber] := construct[Plus, x, y]\n",
    "\n",
    "\n",
    "Times[x_?NumberQ, y__butchiNumber] := \n",
    "    construct[Times, butchiNumber[{{x}}], y]\n",
    "\n",
    "Times[x_butchiNumber, y__butchiNumber] := construct[Times, x, y]\n",
    "\n",
    "\n",
    "Power[x_butchiNumber, y_] := construct[Power, x, y]\n",
    "\n",
    "\n",
    "Protect[{Plus, Times, Power}];"
   ]
  },
  {
   "cell_type": "code",
   "execution_count": 21,
   "metadata": {
    "vscode": {
     "languageId": "wolfram"
    }
   },
   "outputs": [],
   "source": [
    "butchiNumberPlot[x__butchiNumber] := \n",
    "    ArrayPlot[\n",
    "        Reverse[butchiNumberToList[x], {2, 1}]\n",
    "    ]\n"
   ]
  },
  {
   "cell_type": "code",
   "execution_count": 22,
   "metadata": {
    "vscode": {
     "languageId": "wolfram"
    }
   },
   "outputs": [
    {
     "data": {
      "text/html": [
       "<style>\n",
       "\t\t\t\t\t\t\t\t\t\t\t\t\t.grid-container {\n",
       "\t\t\t\t\t\t\t\t\t\t\t\t\t\tdisplay: inline-grid;\n",
       "\t\t\t\t\t\t\t\t\t\t\t\t\t\tgrid-template-columns: auto;\n",
       "\t\t\t\t\t\t\t\t\t\t\t\t\t}\n",
       "\t\t\t\t\t\t\t\t\t\t\t\t</style>\n",
       "\n",
       "\t\t\t\t\t\t\t\t\t\t\t\t<div><div class=\"grid-container\"><div class=\"grid-item\"><img alt=\"Output\" src=\"data:image/png;base64,iVBORw0KGgoAAAANSUhEUgAAACAAAAAvCAIAAAANTl92AAAAznpUWHRSYXcgcHJvZmlsZSB0eXBlIGV4aWYAAHjabU/tbUQhDPvPFB0hJODAOLw7nnQbdPw6B9WJqpZIHOeLpPn9utNXQLOkUr2hA0KUXroOkiYLy2fpb/uG7hTjQ096b31Qqp8E5tavU3fsge3PoN8VFhvIreyGPch06Xms+Nr1Olo7B3U5gM/X/42LuaIie6EtKu7o5C2R0qGqVMeNB8DCjKdKedBPuLMNHhU2ojGg08/qmWAUnnGCxVMblsnCZl3qMDPQkuvFuJOLxTk/S9darFRzfA4AAAAJcEhZcwAADsQAAA7EAZUrDhsAAAA8dEVYdFNvZnR3YXJlAENyZWF0ZWQgd2l0aCB0aGUgV29sZnJhbSBMYW5ndWFnZSA6IHd3dy53b2xmcmFtLmNvbVyipoUAAAAhdEVYdENyZWF0aW9uIFRpbWUAMjAyMjoxMDoxMSAyMDozNjoyMEMkGp0AAAF6SURBVFiF7ZY9koJAEIXfIAcwMTOwZjgAF8BQOYJnMKaMDE3gFJoIRxCCMZBjiEVxCrLeAET3R4FaZreK4kVUT9Nfd/GAZkQEldLUlU7TNM9zpm4Cxtj5fH5MsF6v2V1xHDcpYRgGYywIgjc5JcC27SiKiIiIXNe1LOs9w/M8xthut6ttQgMQx3EYhlEUFaHNZiOEOB6Pr+4JgkBKSUTT6bQWgKJlIQTddblcqqP3KjJ93//xFED5DKSUhmFU3VmW5fs+gNvtVt9gnT7Z1PO87Xbbra/06sq2bQDX67XD6igm4JyHYcg5P51ORTTLMiEE57wbwHw+B+A4ThWVUi4Wi99XB+5WEUJURnJdF0CSJJ246OHF5XL5hfpKSZJ8b/TZ6M+AP/wWKdIAGAADoHeAJmtI2/wS0HwNaZuvoe0a0jJfA7BaraqfZRO1yu+ZiwbAvwDQfA0Z1pYB0FuAvt/vD4eDitKmaY5GI308Hs9mMxUAAJPJROGLVugDAGGSypqndjUAAAAASUVORK5CYII=\"></div><div class=\"grid-item\"><img alt=\"Output\" src=\"data:image/png;base64,iVBORw0KGgoAAAANSUhEUgAAADAAAABGCAIAAAAFG4AMAAAAz3pUWHRSYXcgcHJvZmlsZSB0eXBlIGV4aWYAAHjabVDtjUMhDPvPFB0hJMGBcXgtlW6DG7/mgVRxOkskjnHCRxq/P+/0mNAsyUtUNEAIb960k1RZWDlLu+MN21usDz05tt4ple8GxtavU4/t1/pnkOg+aZ5Abr4b9iDTpee+6mv7tdd6DmpyAN+r/1u7haIghzO6SgQaeU2kTCgqJfDGE6Ax46XiT+aBCLYhpsP6bJzQEad7JBiF13yCzaXWLZPNmHWp3czASK4X60Z+f3r6AA4TWn9srdL+AAAACXBIWXMAAA7EAAAOxAGVKw4bAAAAPHRFWHRTb2Z0d2FyZQBDcmVhdGVkIHdpdGggdGhlIFdvbGZyYW0gTGFuZ3VhZ2UgOiB3d3cud29sZnJhbS5jb21coqaFAAAAIXRFWHRDcmVhdGlvbiBUaW1lADIwMjI6MTA6MTEgMjA6MzY6MjBDJBqdAAACUUlEQVRoge2ZMa6yQBSF75C3DAvDsANrjJWwBEottTZWljZQaeUOhCUIBZpIXIUYY+0SNPcv4KEv/r6ZwcdAMaebyRn4MnJxDpcgIjRJX3UDPHS9Xm+3G2nODg2Hw/P5rBXj8XhMvpUkCc8lDMMghARBwHlLHn8OZNt2FEWIiIiu65qm+TuT53mEkPl8zonC79cAIEmSMAyjKMqmptMppXS9Xr9bEwRBHMeI2Gq1eGiE/BoAHA4HSqmu69lUkiRpmq5Wq3drHMfZbDY8KCX8GgDEcWwYRjYOgsA0Td/3AeB0OvHf9a+kPQ88z5vNZvXW3eM9ZNs2AByPx/pgALId0nU9DENd14tf+nK5PD9VsoG63S4ATCaTYjaO436/L58mB3Ich1JaEHieF4bhM59U4bcsy3qd/K/SNH29DqX0Q/9gMOj1eg3+L2uIFBBLCoglBcSSAmJJAbH0A0go1ojGJk5/DiQaa0Rjk4AfEX3ftywLEff7PQD4vv/78SOzpWlazFBKR6PRh/7s+AGvK5lArus+n2ayVfD+FMXpz4DKPNSisUnI/1GVicYmHn/5zzGisYnTX2aHRGOTkL8MkGhsEvOXqDJEpJQWheO6Lvys6nL+R9mLxppM/LGJ069iEJ8UEEsKiCUFxJICYkkBsSQvBnFeX1IMEusGiXZ3Ku0e5d+phbo7lXaPZMQgIUmNQTySF4M4JSMGVQ5UafeoDFC13SMJMUh1g/5UCoglBcRS44C+FovFcrmsGwMA4H6/dzodst1ud7td3TC52u12g16Mmf4B5UTdyvaIJNgAAAAASUVORK5CYII=\"></div><div class=\"grid-item\"><img alt=\"Output\" src=\"data:image/png;base64,iVBORw0KGgoAAAANSUhEUgAAAFIAAAB0CAIAAACZu/LnAAAAz3pUWHRSYXcgcHJvZmlsZSB0eXBlIGV4aWYAAHjabU/rjYMhDPvPFDdCSMCBcfhaKnWDjn9OQXeiqiUSx3mRNF/PR/oJaJZUqjd0QIjSS9dB0mRh+Sz9bd+ounP51JOXrQ9K9T+BufXr1B3La/sYJHuDxQZy24N9DzJdeh4rvna9jtbOQV0OQP6+/jUu5oqK7IW2qLijk7dESgeeXh0P3AAWZtxVyo1+wp1t8KiwEY0BnX5WzwSjcI8TLJ7asEwWNutSh5mBllwvxp1cLM75BRVcWoSBQxNHAAAACXBIWXMAAA7EAAAOxAGVKw4bAAAAPHRFWHRTb2Z0d2FyZQBDcmVhdGVkIHdpdGggdGhlIFdvbGZyYW0gTGFuZ3VhZ2UgOiB3d3cud29sZnJhbS5jb21coqaFAAAAIXRFWHRDcmVhdGlvbiBUaW1lADIwMjI6MTA6MTEgMjA6MzY6MjBDJBqdAAADV0lEQVR4nO2csVLyQBDHNxkew4LJ8RpYCqUlJZRaO1bO0NCQF7CkMzwCoUhDhqcwFta8w1lE74PxQ25XNsTb/VVO3Mven8zkyI/MRdZakEd86Qk0ym632+12ABCJutqTyQQAFovFv6t9f38ffVGWpc9Zer1eFEXL5dKzK7YeO8Q/wmfs4XC4Xq+ttdba+Xze7/d/HpamaRRFs9nMc/bYesIQVIQYAMqyzPN8vV7Xhx4fH40xLy8vx8Ysl8uiKKy1V1dXPhPC1hOGYCNA/dkYY+wXm83G/etn6sosy05W0ur9h3hGGI/H4/HYWhsDQFEUvV7Pfcz9fj/LMgB4e3vzvDgXBxvhYAFL0/Tp6cn+5Xu7Z4SO+2s4HALA6+sr77w48Y8QA0CSJHmeJ0myWq3qo+/v78aYJElYZ3lGsBFiALi+vgaAh4cHd7QoipubG/7Zng1shBgARqORMcYVpWma5/n+KdoPOoK7uQ8Gg+8H/0tVVd/Ps79+/LKeNsQnglvAxH8nF4XGloTGloTGloTGloTGlsRBbCY7Szs/a4vP2Kx2lnB+7hYx8NtZgjBmb7H/OHpeO/sdf2HM1OJAGGNpQDBzt/jVnbwBwczUonO65AgNCGa+FpSr3YBg5m5Bid2AYOZuQYndgGBmb2HZ7KyDdn6OFiqMRaKxJaGxJaGxJaGxJaGxJUEXxth6gv1tnTDmFsyEIezCmP3133YKY2w9wf62URhjIdjfVgtjLAT72zphjIVgf9sljLEQ7G8bhTEWgv1tozDGQrC/bRTG3IKZMESF8U+oMBaJxpaExpaExpaExpaExmYWwCEIY6zNbZswBmttlmWDwcB6m9C6rKoqd8QYc3d3d656whDPCO7Bs4k3jAMRxlibG5owxtrcEIQx1ub+eWGMtbmBCGOszW2hMCb+9GeMcXfa+XwOh4vN7+tpQ05GOFjAmhHAKowvhgpjkWhsSWhsSWhsSWhsSYiPHcAexv714exhjH7DOIA9jLH1MQBst9t9X1OWZVVVz8/Px8aMRiPnenzA1jfQIpA9jLGEtoexJ0HtYexPIHsYYwlkD2MsgexhjIbPzpLr+VqoMBaJxpaExpaE0NgwnU4vPYVGqdftzu3tbbfbvfRkmqN+xJb1dcXxAahJSPfw+9mYAAAAAElFTkSuQmCC\"></div></div></div>"
      ],
      "text/plain": [
       "0   1\n",
       "\n",
       "1   1\n",
       "0   1   1\n",
       "\n",
       "1   0   0\n",
       "\n",
       "1   0   1\n",
       "0   1   1   1   0\n",
       "\n",
       "1   0   1   0   1\n",
       "\n",
       "1   1   0   0   1\n",
       "\n",
       "1   0   0   0   1\n",
       "\n",
       "0   1   1   1   1"
      ]
     },
     "execution_count": 22,
     "metadata": {
      "text/html": [],
      "text/plain": []
     },
     "output_type": "execute_result"
    }
   ],
   "source": [
    "bn3 = butchiNumber[3]\n",
    "bn5 = butchiNumber[5]\n",
    "bn3 * bn5"
   ]
  },
  {
   "cell_type": "code",
   "execution_count": 25,
   "metadata": {
    "vscode": {
     "languageId": "wolfram"
    }
   },
   "outputs": [
    {
     "data": {
      "text/html": [
       "<div><img alt=\"Output\" src=\"data:image/png;base64,iVBORw0KGgoAAAANSUhEUgAAAKQAAAAvCAIAAADioPYNAAAAz3pUWHRSYXcgcHJvZmlsZSB0eXBlIGV4aWYAAHjabU/tbUQhDPvPFDdCSMCBcXh3PKkbdPxzDtSKqpZIHOeLpPn9dadHQLOkUr2hA0KUXroOkiYLy2fpH/vBKDuXTz3pvfVBqf4mMLd+nbpjeW1/BokuYrGB3PZG34NMl57Hiq9dr6O1c1CXA5Cfr/8bF3NFRfZCW1Tc0clbIqVDVamOG0+AhRkvlfKkn3BnGzwqbERjQKef1TPBKLziBIunNiyThc261GFmoCXXi3EnF4tz3pchWt8jw8iNAAAACXBIWXMAAA7EAAAOxAGVKw4bAAAAPHRFWHRTb2Z0d2FyZQBDcmVhdGVkIHdpdGggdGhlIFdvbGZyYW0gTGFuZ3VhZ2UgOiB3d3cud29sZnJhbS5jb21coqaFAAAAIXRFWHRDcmVhdGlvbiBUaW1lADIwMjI6MTA6MTEgMjA6MzY6MjBDJBqdAAAEC0lEQVR4nO2bMVKzThjG33WcsbV2dEZZDuABtHU5AvEGUDvSWKaBA4QysYLCA5DGQhiLnCEwHsJ+v4JP/vkH2CzssnG+3V+lLMP7PHnXNxt9RJRSMOjBybEFGFTw9fX1/f39u5pdFAVCqCiKYwtRzdTGb25u3t7euJrt+z76IYqi3aWqqtAO00g9mpI0TRFCtm3vXVfsWpaYw832fb+qKkoppTRJkiAI0jRtymCM8zyvVzHGbSkSUawEIfTx8UEI2buu2LVMMXQgGGNCSOdSkiQA0BQeQZ7n/E+YVEnzChJCMMaMO8Vr0UPGxcUAwHK5/O8n23Gcvgm5C2PjXF5e8mxSHmzbrpX4vj+pkj7X2+327u6O5wkSXUOPcVli/jbbcZyXl5dmlwVB0HdYWK/XlmV1Ln1+fgLAxcUFox6jeQ339/fz+ZxSWpZlHMfNrJarBIa4ZsBZS6Lx8WI6pwEAhGHYvu55HvRMm7IsAaBvru4+gbFaT7MkSZorhJDOZ4oradPpmj05+WtJMT5aDOyOcZ4TXRRFcRyHYdg5UjDGAJBl2dDN2GZ3FlmWtd1uJ1IifqiW6Bo4jAuKOYGfE93u1mvfl6ZpEASe5z0/P7dX67fPemd10rw1xnEs+IlFUEkDj2s2PLUkGhcXcwIAm80GAJ6envpuStN0Npt5nrdYLDrLlGVZlmXfOygAZFnWnmY8Hqqqenh4kKik4aBrNpy1ZBmXIuYUfqbHZrOpb93bekVRzGYzQkjn6+s4TlmWeZ7zvL5DiaJovV43u1WuErZrNpO6hpZxaWLqvRaGYXMlz3NCSHNUaX+Qh5+jRH2s2IP9QZB9Tmnv+t0luUrYrusDoMRaIsbFxQDAcrlE7TKGfw+E0P9+qWL45zHN1gjTbI0wzdYI02yNMM3WCNNsjTDN1gjTbI0wzdaI39VsEyWetIpolLimTk6NiNEMRbGSvvTuFLUUiBGKEgNAFEUIofl8PlT6CBQr6UvvTlFLjZjDzV4sFk3SxXVdjPFqtaq/TdP0/f2dUio3YfkblNi2ned55x/OFbuWKEYoSuy6rqz4VbvKoCjxaCUjosTTuYbhUeJBYmRGiXlQEyXmREqUmBM1UWI2f5udZVmzd+ov6gTyHrXix8dHuSL2SJLEdV0AsCyLENLMaulKOF0rg8e4CNKixBIRjBLzc5T/z2MgGCU+iJwo8UGURYn5EY8S86AsSsyDhCgxD2qixIMQjBJzoiZKzIlolHhSBkWJhyISJZ6aQVHiAdR7bVyUuFPNUaLEI5SwXTPSu+NqTRQl5hQDJkqsDyZKrB2m2Rphmq0RptkaYZqtEabZGnG6Wq1eX1+PLcMwLbe3t2dnZ6fn5+fX19fHFmOYnKurK/NLFY34AyXhtYW7afERAAAAAElFTkSuQmCC\"></div>"
      ],
      "text/plain": [
       "a22 + b22   a12 + b12\n",
       "\n",
       "a21 + b21   a11 + b11"
      ]
     },
     "execution_count": 25,
     "metadata": {
      "text/html": [],
      "text/plain": []
     },
     "output_type": "execute_result"
    }
   ],
   "source": [
    "butchiNumber[{\n",
    "  {a11, a21},\n",
    "  {a12, a22}\n",
    "}] + butchiNumber[{\n",
    "  {b11, b21},\n",
    "  {b12, b22}\n",
    "}]"
   ]
  },
  {
   "cell_type": "code",
   "execution_count": 26,
   "metadata": {
    "vscode": {
     "languageId": "wolfram"
    }
   },
   "outputs": [
    {
     "data": {
      "text/html": [
       "<div><img alt=\"Output\" src=\"data:image/png;base64,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\"></div>"
      ],
      "text/plain": [
       "a22 b22             a22 b12 + a12 b22                       a12 b12\n",
       "\n",
       "a22 b21 + a21 b22   a22 b11 + a21 b12 + a12 b21 + a11 b22   a12 b11 + a11 b12\n",
       "\n",
       "a21 b21             a21 b11 + a11 b21                       a11 b11"
      ]
     },
     "execution_count": 26,
     "metadata": {
      "text/html": [],
      "text/plain": []
     },
     "output_type": "execute_result"
    }
   ],
   "source": [
    "butchiNumber[{\n",
    "  {a11, a21},\n",
    "  {a12, a22}\n",
    "}] * butchiNumber[{\n",
    "  {b11, b21},\n",
    "  {b12, b22}\n",
    "}]"
   ]
  },
  {
   "cell_type": "code",
   "execution_count": 27,
   "metadata": {
    "vscode": {
     "languageId": "wolfram"
    }
   },
   "outputs": [
    {
     "data": {
      "text/html": [
       "<div><img alt=\"Output\" src=\"data:image/png;base64,iVBORw0KGgoAAAANSUhEUgAAAhwAAABiCAIAAACUK52zAAAAznpUWHRSYXcgcHJvZmlsZSB0eXBlIGV4aWYAAHjabU/RbUQhDPtnio4QEnBgHN47TroNbvxzClVFVUvEjnGCSPP9eqavgGZJpXpDB4QovXQdFE0WFmfp33U1t+h2Dz9Bd2DQqr8XmNu/Tt+xWNufRXu/WLxAbWUP7EWmy89j9dfO62jtXNTlAH5E/r8v5oqK7IW1qLijU7dESUJVqY4nboDBjIdKuckT7hyDR8JGDAZ0+pmeCUbjEV+wOGrDMlXUrMsdZgZWar3Yd2qx+M4HVmpasG2zf2wAAAAJcEhZcwAADsQAAA7EAZUrDhsAAAA8dEVYdFNvZnR3YXJlAENyZWF0ZWQgd2l0aCB0aGUgV29sZnJhbSBMYW5ndWFnZSA6IHd3dy53b2xmcmFtLmNvbVyipoUAAAAhdEVYdENyZWF0aW9uIFRpbWUAMjAyMjoxMDoxMSAyMDozNjoyMEMkGp0AAA6rSURBVHic7d09bttIFAfwYbCHCAIXC1HHMF2aPILkAwQgayNs3BhwQyK1Wa47slhgsZ3kQoUpqNAZRCLwCYIg5QLcYmKCkaXh1xvOUPr/ikXWcWbeDN/wiRSlMYqiYAAAABT+UB0AAACcgp8/f37//v2D6jAAAOAU/P3335ZlSSkqnucZb9brtYwuoAMclxOWJIlhGNPpdO/neZ4bFZ3bryZPGIYyuoDTWKH0RcVxnOfn56IoiqIIgsCyrPHOzinBcTlhhmG8vLzYtr338zzPTdNM05Qfd9M031edJjzPy/OcNxLHse/7SZLQdgGns0ILUmmaMsayLCt/Ypqm67q0vUBbOC4nrDyn27ZtmqbgN+M4ZoyVBaBPj7ZtS+3i3JzGCv3rr7/+/PNP4iuVzWZjmuZkMuH/u16vsyyLooi2F2gLx+UEOI5z8AbUbre7vLxs0sLFxUW3LvYIrkVqu4CDTmmFEheV1WpVJlySJJZl8VcueZ7TdgSt4LiMneM4d3d3/PVgmqa+73e4N7LZbBhjnz596tnFcrksT3+tuoBjTmmFynr6KwxDnqCS2oducFxGarFYlJcj/A/89N1cnue+79u2faweNOzC8zzG2M3NTYcuoNYJrFApn1NxHIcxttvtZDQOneG4jBd/P7xPC/yfLxaLPl2EYRhFURAEB2+41XYBYqexQomvVCaTCb80LhPr9fW1eq8QlMBxGTV+uq++bdu2BX5rJcuyPl0kSeL7vuu6X7586dAFCJzSCiUuKldXV4yx29vb8ier1er6+pq2F2gLx2XUttst+/3wtTKdTrMsy7JMcIaq7SJJkvl87rru4+Njty5A4KRWKPlTZaZpls81BkHAfn9ODlTBcRkv/rxpHMf8f/nKDYJg79cOPlLMP7xS+4yvuAv+t8ceI27YBYidwArljxTTF5XiLckkFS3oDMdlvPhZhkvT1Lbt8ozvuu77F4u8PPBisOfYZ1kEXbz/WGW3LkBs7CuUFxWjGPNjBgAAoImnp6f7+3t8oSQAAJBBUQEAADIoKgAAQAZFBQAAyKCoAAAAGRQVAAAgg6ICAABkUFQAAIAMigoAAJBBUQEAADIoKgBsOp3yPXQ7bKcIcFZqFwuKCpy7MAw/f/5cFEWappZlqQ4HQF9NFouUnR8BRqTccgo7qwOINVksuFIB+GW73R78jncA2CNYLFKKiud5xhsNb1InSWIYBt/9tCrPc6Oic/vV4YdhKKMLkmA4foc0SRLy9rUabG0weZ7P5/OD2xq2ojC7uJ4HtK1j46UKZsgEkz0WQRfDL5Y+wYgXC31RcRzn+fmZ79kSBIFlWVrVFcMwXl5e3tdYvkd3uXudaZrHckvM87w8z3kjcRz7vl9mIVUXJMEwxsIwNAzj4eFBRvtaDbY2mPIXeu6GqzC7GMUBbevYeKmCGTLBZI9F0MXwi6VPMPWLhWC7rwq+DVx1F0zTNF3Xpe2ls3KyDm68WhXHMaPYIdU0zWObsFJ10S2YOI75n/f2kaVqf4/awYqDybKM6lgrzC4ZB7S292PjlRSMvAQbYCzDp4eMYMSLhe/8SHylstlsTNMsK9h6vc6yLIoi2l5qOY5z8JJ5t9tdXl42aeHi4qJbF3sErzhqu2iuQzCz2WyxWMhrf4/awYqD+fr1K2PMsqzaNsUBqM2uVge0lQ7jbRvMYAmmcCyE6aEwmEaLhbYA2rZdfenEGOP/rV67yGbbdllI+YuL93W1tj7z/bqPhd2kC44xduxCTdwF1+Qir2cwta+/Bhts0WC8QwbTOQC12dXqBTXJhAvG2ySYwY6pJmPpmR4l2ceuVTAcv1KRVVSCIOCxDl9U9jDGgiDY+6F4Kvkl3rEL7YZdFEXhuu6xFdKwiw53DtsG0/aiXt5gi/bjlRpM5wDUZhdtUWkSTM8TcZMuCgnHVNVYqNJD9rFrFQwn5fYX5zjOarXa7XYyGq/V/zkK0zQZY4Jr3iZdhGEYRVEQBAcvM2u7aK5/MLLb12qwPYMZRXYRGuCppMGOqSZjERt4scgIhrioTCaT5XI5mUzKOF5fX6vvssjGn0yo1vC2LfD7trxEd+4iSRLf913XLT8r1KqL8k5oFEXinOgfjNgAg2WNxztMMAKjyK4mCCe8p8GOqSZjERt4sfQP5iDionJ1dcUYu729LX+yWq2ur69pexHYbrd7AbQynU6zLMuyTFAFa7tIkmQ+n7uue/A57iZdLBYLnge1OdEzmFoDDJY1Hu8wwQjon10NUU14f4MdUx3GIjbwYiEJ5iDiojKbzUzTLKtIGIbL5VLqgdzDn1XgE8oYa3XR5zhOlmW1H1YQd7Fer+fzuW3bB9dAwy6a6xOM7Pa1GixJMJpnF7k+4yXpgvCYKh+L2MCLRW4whQTVD9TIaF+MP67ApWlq23b59hR/r28Pf+eNvwu359hbWIIuDn54qkMXZcB9xisI5uBV7cFgBhtsk/EOGUzbANRmV/MDWtVnwgXjbRXMYMdU7Vio0qMk6dj1WSz8jXqjkHBvEQAAzs3T09P9/T2+UBIAAMigqAAAABkUFQAAIIOiAgAAZFBUAACADIoKAACQQVEBAAAyKCoAAEAGRQUAAMigqAAAAJlGRcXzvPI7lg/uHzmdTg3DSJKkWxCC9gfYAqG/JEkMw3i/1ylV8LLnv61j46UKZtT5IHtyBF0omRyFyUDVhT6qg12v16rD6ai+qHiel+c5/76wOI59368evzAMDcN4eHjoHIGgfb4lQLnXm2magk2qVTEM4+Xl5f0331EFL3v+2zo2XqpgRp0PsidH0IWSyVGYDFRd6MNxnOfn5/K7IC3LGmtdafLdk1WmaVZ3oed/7rDRZpP29/CdiY/tX61EuYxrt3qmCl72/Nf2fmy8koIZUT4MMDnD51u3YAZIhuGTXyo+iuq263tbbI3C/nbC5YZixy4zuerLn9ls1nynyQ7t7+E7BChxLPjdbtdwP9fa4GXPfysdxts2mPHmg8LJIcw3qcEMkAzykl+JzWZT3SF3vV5nWRZFkdqouvlVVBzHubu749UmTVPf949defHdgtt2Q9L+ZrNhjH369Klt7z01D15AHLzs+S95nlf7OyTjpepCt3zQanIEGk5ObT5oNd6eya+z1WpVlswkSSzL4teaeZ4rjauLX0VlsViULzr4H3hS7uEpeHNz07ab/u3nee77vm3bw2dVw+AFaoOXPf+t9B8vVRca5oM+kyNAODn6jHeY5FcuDENeYlUH0t2votLkuZEwDKMoCoKg4QV4Vf/2TdNkjCm54O3/UE1t8LLnv5UBHiIabz5oMjlihJOjyXgHS361HMdZrVa73U51IL18YG/PjVTfFHr/e0mS+L7vuu6XL1/a9tG/fX5heHBfT9maBC9WG7zs+WeVe9ZRFIlXb//x1hpvPmgyOWJNJqdhPmgy3p7JPwqTyYTf3CtfCry+vlbfZRmRD4yx7XbLGLu9vT32S0mSzOdz13UfHx879NGz/el0mmVZlmVK5rc2eLEmwcuef8bYYrHgK7b2BNFzvE2MNx90mByxhpPTMB90GG//5B+Fq6sr9vs8rFar6+trdRF194G9PSjCjy5jbO81y3q9ns/ntm13Pqh92nccJ8uyNE1VVWxx8GINg5c9/630GS9JFzrng/LJESOfHOXjHTj5FZrNZqZpllUkDMPlcim1nEvEX6QEQVD+JE1T27aDIOB/dfCTTfyp8IOX2Acfn+/WPn92u0n7UgmCd12XJHjZ819q8uR7t/G2Cma8+aB2cqjyrVSbD9omQ4fk1191vKpj6YJ/TsUoxvyYAQAAaOLp6en+/h5fKAkAAGRQVAAAgAyKCgAAkEFRAQAAMigqAABABkUFAADIoKgAAAAZFBUAACCDogIAAGRQVAAAgAyKCmhkOp3yr2En314Q4MRou1hQVEAXYRh+/vy5KIo0TS3LUh0OgL50Xix/qA4A4JdyC6aBt50HGB2dFwuuVEA72+324HeeA8AeDReLlKLieV65R6lu9/sUSpLEMAy+2+t7/A5pkiTdGq/OeRiG5O0PFkye5/P5/OQ3ZVIOi1Qfnc8Mei4W+qLiOM7z8zPfsyUIAsuykLKMMcMwXl5eDr6mCMPQMIyHh4fOjXuel+c5n/M4jn3fr6Zg//YHC4bvWK5wo88zgUWqj85nBn0XC+3OX3z7uSzLyp+Yptlkt8HTxo99URS2be9tThfHsW3bxdvU8V3t+nfH25TUvqRg+F5+fKJAHixSfXQ+M+i5WPjOj8RXKpvNxjTNsnKu1+ssy6Ioou1FW47jHLzts9vtLi8vD/6T2Wy2WCx6tr+neh3dqv1WyIP5+vUrY8yyrNo2oY8zX6RKkJ8ZdF4sxEVltVqVJ5EkSSzLiuOYMZbnOW1HGnIc5+7ujlfsNE1936e9pdC8/eVy2fOK2PO84YN5fHysvuopn28BWue8SJWQcWbQebHIevorDEM+j5La19BisShfdPA/bDab4dvn9eDm5oawa82DgW7OcJEqIfvMoBspn1NxHIcxttvtZDSuLf6+mdr2wzCMoigIgmPX1CcZDHRwnotUCdlnBt0QX6lMJhN+u6O8G/j6+lq9gXuqeN5U3+0cvv0kSXzfd12387Vweec3iqLyFrCqYECSs12kSsg+M2iIuKhcXV0xxm5vb8ufrFar6+tr2l40tN1u2e8DH7j9JEnm87nrun0eWl8sFjzvxWtgmGBAkrNdpErIPjNoiLiozGYz0zTLBA3DcLlcnsOEXlxcsLcEYowdfIEvr/31ej2fz23bHuYkrlUw0NbZLlIlZJ8ZdNTpceQa1Q/yyGhfT0EQlKNO09S27SAI+F+5rvt+5vmD5/x58z17T6zXtn/wk1Nt26+q/dTCkMGADOe5SJWQfWbQB/+cilGcwT0+AACQ7enp6f7+Hl8oCQAAZFBUAACADIoKAACQQVEBAAAyKCoAAEAGRQUAAMgY//zzz7///qs6DAAAGLcfP378999/f3z//v3bt2+qgwEAgNH7+PEjPvwIAABk/gc+dHNajnEm6gAAAABJRU5ErkJggg==\"></div>"
      ],
      "text/plain": [
       "0         0                          a12 a22             0\n",
       "\n",
       "                                 2                                    2\n",
       "0         a12 a22 + a21 a22 + a22    a12 a21 + a11 a22   a11 a12 + a12\n",
       "\n",
       "a21 a22   a12 a21 + a11 a22          a11 a12 + a11 a21   0\n",
       "\n",
       "                       2                                    2\n",
       "0         a11 a21 + a21              0                   a11"
      ]
     },
     "execution_count": 27,
     "metadata": {
      "text/html": [],
      "text/plain": []
     },
     "output_type": "execute_result"
    }
   ],
   "source": [
    "butchiNumber[{\n",
    "  {a11, a21},\n",
    "  {a12, a22}\n",
    "}]^2"
   ]
  },
  {
   "cell_type": "code",
   "execution_count": 28,
   "metadata": {
    "vscode": {
     "languageId": "wolfram"
    }
   },
   "outputs": [],
   "source": [
    "(* butchiNumber[{\n",
    "  {a11, a21},\n",
    "  {a12, a22}\n",
    "}]^3 *)"
   ]
  },
  {
   "cell_type": "code",
   "execution_count": 29,
   "metadata": {
    "vscode": {
     "languageId": "wolfram"
    }
   },
   "outputs": [],
   "source": [
    "(* butchiNumber[{\n",
    "  {a11, a21, a31},\n",
    "  {a12, a22, a32},\n",
    "  {a13, a23, a33}\n",
    "}]^2 *)"
   ]
  },
  {
   "cell_type": "code",
   "execution_count": 30,
   "metadata": {
    "vscode": {
     "languageId": "wolfram"
    }
   },
   "outputs": [
    {
     "data": {
      "text/html": [
       "<div><img alt=\"Output\" src=\"data:image/png;base64,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\"></div>"
      ],
      "text/plain": [
       "-Graphics-"
      ]
     },
     "execution_count": 30,
     "metadata": {
      "text/html": [],
      "text/plain": []
     },
     "output_type": "execute_result"
    }
   ],
   "source": [
    "butchiNumberPlot[butchiNumber[16]]"
   ]
  },
  {
   "cell_type": "code",
   "execution_count": 31,
   "metadata": {
    "vscode": {
     "languageId": "wolfram"
    }
   },
   "outputs": [
    {
     "data": {
      "text/html": [
       "<div><img alt=\"Output\" src=\"data:image/png;base64,iVBORw0KGgoAAAANSUhEUgAAAeAAAAHgCAIAAADytinCAAAAzXpUWHRSYXcgcHJvZmlsZSB0eXBlIGV4aWYAAHjabU/bDcMgDPxnio7gB5xhHNIQqRt0/NohUUXVk/Cdzw/kNN6vIz0CwpRysYoGkCO33KS7qDQxmamd8cS4Fa9+ugvcncu3gDGZt9U3TJb6s4hkCo0fXGu+Bq5FKtPnPvPt6pde67qo0QLcgv/nWU1QwJY9ZiEzNNc1uXRCESqGA0/AGxm7UH46D5j5GCw6tMdgQIat3SNB3djjBI0n2pVdRWSZbldVePSqbJ4316RxzgeWLVrgj0ljXQAAAAlwSFlzAAAOxAAADsQBlSsOGwAAADx0RVh0U29mdHdhcmUAQ3JlYXRlZCB3aXRoIHRoZSBXb2xmcmFtIExhbmd1YWdlIDogd3d3LndvbGZyYW0uY29tXKKmhQAAACF0RVh0Q3JlYXRpb24gVGltZQAyMDIyOjEwOjExIDIwOjM2OjIyrSp7sQAAC81JREFUeJzt3dFuHLmhRdF2MP+qb/LXOg89CZKpnjFNk9W7qtd6ucBF1CpJwQYBnxS//fjx4wFAzx+Px+Pr6+vdjwHAX/3x/D/fv39/73MA8L++vr7+9e5nAOA1gQaIEmiAKIEGiBJogCiBBogSaICoPya+5tu3b8uf44r8jzCBrZygAaIEGiBKoAGiBBogSqABon6y4ng52DiuF26/63g52Dj+1HYdwEJO0ABRAg0QJdAAUQINECXQAFFr3sXxgbuOx9hPbdcBTHOCBogSaIAogQaIEmiAKIEGiBJogKiZmd2R4d3T4E9teweMcIIGiBJogCiBBogSaIAogQaIWrPiOBp8bdDtpx3uygKmOUEDRAk0QJRAA0QJNECUQANE7VpxHA2+leL2u46Hu7KAMU7QAFECDRAl0ABRAg0QJdAAUQINEHXezO4ld2U9Gd4BR07QAFECDRAl0ABRAg0QJdAAUW9ecRy5K+tpcM1i2gE35gQNECXQAFECDRAl0ABRAg0QlVtxHLkr62lwzWLXAbfhBA0QJdAAUQINECXQAFECDRB1gRXHS65ieXIVC9yYEzRAlEADRAk0QJRAA0QJNECUQANEXXVmd2R49+SuLLgNJ2iAKIEGiBJogCiBBogSaICo+6w4jgZfG3T7aYe7suCinKABogQaIEqgAaIEGiBKoAGi7rziOBp8K8Xtdx0Pd2XBFThBA0QJNECUQANECTRAlEADRAk0QNRnzexemp6X3X6NZ3gH7+UEDRAl0ABRAg0QJdAAUQINEDWz4vBP+U83e8vSyI8z+LYpYAknaIAogQaIEmiAKIEGiBJogKifrDhe/gP97V/RMP0DfuCu4+X/82b/fYB3cYIGiBJogCiBBogSaIAogQaIEmiAqDUvS7r90Gr6JUGDO8WrGPxxbv/fBziHEzRAlEADRAk0QJRAA0QJNEDUzIrj6AN3HQ/vVPoPd2XBJk7QAFECDRAl0ABRAg0QJdAAUWtWHEeDQ4Wb/Tu+XceTu7JgCSdogCiBBogSaIAogQaIEmiAqF0rjqPByzhu9u/4C69iudmu4+EqFvgZJ2iAKIEGiBJogCiBBogSaIAogQaIOm9m95K7sp7mhncvP+pC3JUF/8wJGiBKoAGiBBogSqABogQaIOrNK44jd2U9uSvryV1ZfDInaIAogQaIEmiAKIEGiBJogKjciuPIXVlPdh3/5a4sPoQTNECUQANECTRAlEADRAk0QJRAA0RdYGb30gfelTX90ih3Zf3dV0GcEzRAlEADRAk0QJRAA0QJNEDUVVccRx+463gsfafSyIdf2ifcncbNOEEDRAk0QJRAA0QJNECUQANE3WfFcTR4+dPN/h1/4XblQrdnTT/qJ0x9uC4naIAogQaIEmiAKIEGiBJogCiBBoi688zuaPryJ9OrpwvdnmV4xw04QQNECTRAlEADRAk0QJRAA0R91orjpZF/7r/0W5Z2P/xV3qk0PUG59F+fS3OCBogSaIAogQaIEmiAKIEGiLLieGFwlnDplzZsffir7DoeXtlBmxM0QJRAA0QJNECUQANECTRAlBXHkMHXOFz6X/ZP3nW8/I4Fdh10OEEDRAk0QJRAA0QJNECUQANECTRAlJndvA+8K2vtk1/lnUoL78q6yp+eCCdogCiBBogSaIAogQaIEmiAKCuOlW5/V9buUcpVdh2P2Ue99KqH8zlBA0QJNECUQANECTRAlEADRFlx7OWurN/kriw+mRM0QJRAA0QJNECUQANECTRAlEADRJnZvcHcXVkXml6df1fWyDNcyKX/+izkBA0QJdAAUQINECXQAFECDRBlxZEwt+t4+YVN5z984fashc9w6b8+05ygAaIEGiBKoAGiBBogSqABoqw4ogYHAJd+acPJD1+4PWvtM1z6r88IJ2iAKIEGiBJogCiBBogSaIAoK47LGBwADE4C/HP/0+1f2eEPfWlO0ABRAg0QJdAAUQINECXQAFECDRBlZndt0wut5h6r8FS3H969/HyanKABogQaIEqgAaIEGiBKoAGirDju5va7jsfpD+auLN7FCRogSqABogQaIEqgAaIEGiDKiuP+pgcA2X/rLzzY7V/ZEflbfzgnaIAogQaIEmiAKIEGiBJogCiBBogys/tQcwutwquLXiqsxEa+4/lTvGmFXylO0ABRAg0QJdAAUQINECXQAFFWHPzp9ndlFZ5q9+1ZW1/hlN3w3JgTNECUQANECTRAlEADRAk0QJQVB3/r9ruOR+PBtk4vdu9Gmn/r23CCBogSaIAogQaIEmiAKIEGiBJogCgzO37B9GYrO3FrrsS2Du92f37zV3pRTtAAUQINECXQAFECDRAl0ABRVhz8roXvVBr58M/krqzP5AQNECXQAFECDRAl0ABRAg0QZcXBegsnAecPAC70KomRB1v7Eo+FLvR7fiMnaIAogQaIEmiAKIEGiBJogCgrDs6w9lUSJw8ACkuS8+2+1eXIruPICRogSqABogQaIEqgAaIEGiBKoAGizOx4m63vVNq90Fr4HUc+avo3s3DguPvarcEP/6jtnRM0QJRAA0QJNECUQANECTRAlBUHIXYdv/RRC6cdhY8a9FHvVHKCBogSaIAogQaIEmiAKIEGiLLiIG3heqFwc9XCXcfLT1v7yo5VH77bjXcdTtAAUQINECXQAFECDRAl0ABRAg0QZWbH9Wx9p9LIt4uYnpdtHcyd//qko9sM75ygAaIEGiBKoAGiBBogSqABoqw4uIOty4GFb1kafKrdk4O5X9f0i6vW3tc15/xXZS3hBA0QJdAAUQINECXQAFECDRBlxcE97X4jxNa3PSx8ycbgF07/us6/K6s/vVjICRogSqABogQaIEqgAaIEGiDKioNPsfuNECfvOgY/f/oLd1/OMrIbGfyTTf+e+xevOEEDRAk0QJRAA0QJNECUQANECTRAlJkdH+38u7JGnmG3hfOy6bXcyEft/o5HteGdEzRAlEADRAk0QJRAA0QJNECUFQf8n913ZR0tvODq6PwRwu4FxchPvXXX8Tuf9qucoAGiBBogSqABogQaIEqgAaKsOOAndt+VNfLhu0cIu7/jyDMs/KjjF2bfi/LPnKABogQaIEqgAaIEGiBKoAGiBBogyswOZpz8TqXzV2LTry6a/s0sfPjpZ1j4Uy/hBA0QJdAAUQINECXQAFECDRBlxQFrnH9X1tHCW6N231y18AtHPmra2vnHr3KCBogSaIAogQaIEmiAKIEGiLLigF2au46XpicHW++IGryva8TaV2p4FwfApxNogCiBBogSaIAogQaIEmiAKDM7OM/0q4t223pz1dqp39yva3CxN7ifG3nUJVM8J2iAKIEGiBJogCiBBogSaIAoKw54s8I7lUYGBmtvz9r6M+7+lY4sNFx5BXBnAg0QJdAAUQINECXQAFFWHJCze4Qw9w6K859h8AunjXzH6Zd4DPrnH8cJGiBKoAGiBBogSqABogQaIMqKAy5g9+ssCpuKpukf0Ls4AO5MoAGiBBogSqABogQaIEqgAaLM7OCqtr7PaPDDt75laeGGb3qnOPiypE2coAGiBBogSqABogQaIEqgAaKsOOA+Tt51vPz86bcsTX/UyIfvtuk7OkEDRAk0QJRAA0QJNECUQANEWXHAnQ2uCxaOPQaNvMRj8Avn/jMvv+P0U23iBA0QJdAAUQINECXQAFECDRAl0ABRZnbA/FuWzv/ChWqjuiMnaIAogQaIEmiAKIEGiBJogCgrDuCFwq7jpZHpxdrv+EZO0ABRAg0QJdAAUQINECXQAFFWHMCQtbdnTY8xRh6jP88Y5AQNECXQAFECDRAl0ABRAg0QZcUBrLR7jDF38cpFdx1O0ABRAg0QJdAAUQINECXQAFECDRBlZgfstfAuq9/5/CtyggaIEmiAKIEGiBJogCiBBoiy4gASbjzGmOYEDRAl0ABRAg0QJdAAUQINEGXFAVzJR409nKABogQaIEqgAaIEGiBKoAGiBBogSqABogQaIEqgAaL+/F8Sfn19vfc5APiLfwMdF4m4+9QvGwAAAABJRU5ErkJggg==\"></div>"
      ],
      "text/plain": [
       "-Graphics-"
      ]
     },
     "execution_count": 31,
     "metadata": {
      "text/html": [],
      "text/plain": []
     },
     "output_type": "execute_result"
    }
   ],
   "source": [
    "butchiNumberPlot[butchiNumber[1024]]"
   ]
  },
  {
   "cell_type": "code",
   "execution_count": null,
   "metadata": {
    "vscode": {
     "languageId": "wolfram"
    }
   },
   "outputs": [],
   "source": []
  }
 ],
 "metadata": {
  "kernelspec": {
   "display_name": "Wolfram Language 13.1",
   "language": "Wolfram Language",
   "name": "wolframlanguage13.1"
  },
  "language_info": {
   "codemirror_mode": "mathematica",
   "file_extension": ".m",
   "mimetype": "application/vnd.wolfram.m",
   "name": "Wolfram Language",
   "pygments_lexer": "mathematica",
   "version": "12.0"
  },
  "orig_nbformat": 4,
  "vscode": {
   "interpreter": {
    "hash": "28512ef47dc95a211b5628f8653bfe09551e666171041014dfa106f456b0e211"
   }
  }
 },
 "nbformat": 4,
 "nbformat_minor": 2
}
