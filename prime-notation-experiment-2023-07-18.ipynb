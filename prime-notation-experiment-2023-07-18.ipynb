{
 "cells": [
  {
   "cell_type": "markdown",
   "id": "211adfc0-9f87-4bce-afb3-abe3cb680ef8",
   "metadata": {},
   "source": [
    "# Prime Notation Experiment 2023-07-18\n",
    "\n",
    "「n番目の素数」だけで自然数を記述する試み"
   ]
  },
  {
   "cell_type": "code",
   "execution_count": 8,
   "id": "08d7fe76-54c1-4578-886a-81d31044d245",
   "metadata": {
    "tags": []
   },
   "outputs": [
    {
     "data": {
      "text/html": [
       "<style>\n",
       "\t\t\t\t\t\t\t\t\t\t\t\t\t.grid-container {\n",
       "\t\t\t\t\t\t\t\t\t\t\t\t\t\tdisplay: inline-grid;\n",
       "\t\t\t\t\t\t\t\t\t\t\t\t\t\tgrid-template-columns: auto;\n",
       "\t\t\t\t\t\t\t\t\t\t\t\t\t}\n",
       "\t\t\t\t\t\t\t\t\t\t\t\t</style>\n",
       "\n",
       "\t\t\t\t\t\t\t\t\t\t\t\t<div><div class=\"grid-container\"><div class=\"grid-item\"><pre style=\"&#102;&#111;&#110;&#116;&#45;&#102;&#97;&#109;&#105;&#108;&#121;&#58;&#32;&#34;&#67;&#111;&#117;&#114;&#105;&#101;&#114;&#32;&#78;&#101;&#119;&#34;&#44;&#67;&#111;&#117;&#114;&#105;&#101;&#114;&#44;&#109;&#111;&#110;&#111;&#115;&#112;&#97;&#99;&#101;&#59;\">&#49;</pre></div><div class=\"grid-item\"><pre style=\"&#102;&#111;&#110;&#116;&#45;&#102;&#97;&#109;&#105;&#108;&#121;&#58;&#32;&#34;&#67;&#111;&#117;&#114;&#105;&#101;&#114;&#32;&#78;&#101;&#119;&#34;&#44;&#67;&#111;&#117;&#114;&#105;&#101;&#114;&#44;&#109;&#111;&#110;&#111;&#115;&#112;&#97;&#99;&#101;&#59;\">&#50;</pre></div><div class=\"grid-item\"><pre style=\"&#102;&#111;&#110;&#116;&#45;&#102;&#97;&#109;&#105;&#108;&#121;&#58;&#32;&#34;&#67;&#111;&#117;&#114;&#105;&#101;&#114;&#32;&#78;&#101;&#119;&#34;&#44;&#67;&#111;&#117;&#114;&#105;&#101;&#114;&#44;&#109;&#111;&#110;&#111;&#115;&#112;&#97;&#99;&#101;&#59;\">&#51;</pre></div><div class=\"grid-item\"><pre style=\"&#102;&#111;&#110;&#116;&#45;&#102;&#97;&#109;&#105;&#108;&#121;&#58;&#32;&#34;&#67;&#111;&#117;&#114;&#105;&#101;&#114;&#32;&#78;&#101;&#119;&#34;&#44;&#67;&#111;&#117;&#114;&#105;&#101;&#114;&#44;&#109;&#111;&#110;&#111;&#115;&#112;&#97;&#99;&#101;&#59;\">&#52;</pre></div><div class=\"grid-item\"><pre style=\"&#102;&#111;&#110;&#116;&#45;&#102;&#97;&#109;&#105;&#108;&#121;&#58;&#32;&#34;&#67;&#111;&#117;&#114;&#105;&#101;&#114;&#32;&#78;&#101;&#119;&#34;&#44;&#67;&#111;&#117;&#114;&#105;&#101;&#114;&#44;&#109;&#111;&#110;&#111;&#115;&#112;&#97;&#99;&#101;&#59;\">&#53;</pre></div><div class=\"grid-item\"><pre style=\"&#102;&#111;&#110;&#116;&#45;&#102;&#97;&#109;&#105;&#108;&#121;&#58;&#32;&#34;&#67;&#111;&#117;&#114;&#105;&#101;&#114;&#32;&#78;&#101;&#119;&#34;&#44;&#67;&#111;&#117;&#114;&#105;&#101;&#114;&#44;&#109;&#111;&#110;&#111;&#115;&#112;&#97;&#99;&#101;&#59;\">&#54;</pre></div></div></div>"
      ],
      "text/plain": [
       "1\n",
       "2\n",
       "3\n",
       "4\n",
       "5\n",
       "6"
      ]
     },
     "execution_count": 8,
     "metadata": {
      "text/html": [],
      "text/plain": []
     },
     "output_type": "execute_result"
    }
   ],
   "source": [
    "1\n",
    "Prime[1]\n",
    "Prime[Prime[1]]\n",
    "Prime[1] ^ Prime[1]\n",
    "Prime[Prime[Prime[1]]]\n",
    "Prime[1] * Prime[Prime[1]]"
   ]
  },
  {
   "cell_type": "code",
   "execution_count": 14,
   "id": "859ca14b-9c3c-49f9-86be-d51dfa5c838f",
   "metadata": {
    "tags": []
   },
   "outputs": [
    {
     "data": {
      "text/html": [
       "<div><pre style=\"&#102;&#111;&#110;&#116;&#45;&#102;&#97;&#109;&#105;&#108;&#121;&#58;&#32;&#34;&#67;&#111;&#117;&#114;&#105;&#101;&#114;&#32;&#78;&#101;&#119;&#34;&#44;&#67;&#111;&#117;&#114;&#105;&#101;&#114;&#44;&#109;&#111;&#110;&#111;&#115;&#112;&#97;&#99;&#101;&#59;\">&#123;&#49;&#44;&#32;&#50;&#44;&#32;&#51;&#44;&#32;&#53;&#44;&#32;&#49;&#49;&#44;&#32;&#51;&#49;&#44;&#32;&#49;&#50;&#55;&#44;&#32;&#55;&#48;&#57;&#44;&#32;&#53;&#51;&#56;&#49;&#44;&#32;&#53;&#50;&#55;&#49;&#49;&#44;&#32;&#54;&#52;&#56;&#51;&#57;&#49;&#44;&#32;&#57;&#55;&#51;&#55;&#51;&#51;&#51;&#44;&#32;&#49;&#55;&#52;&#52;&#52;&#48;&#48;&#52;&#49;&#44;&#32;&#51;&#54;&#53;&#55;&#53;&#48;&#48;&#49;&#48;&#49;&#44;&#32;&#10;&#32;&#10;&#62;&#32;&#32;&#32;&#56;&#56;&#51;&#54;&#50;&#56;&#53;&#50;&#51;&#48;&#55;&#44;&#32;&#50;&#52;&#50;&#56;&#48;&#57;&#53;&#52;&#50;&#52;&#54;&#49;&#57;&#125;</pre></div>"
      ],
      "text/plain": [
       "{1, 2, 3, 5, 11, 31, 127, 709, 5381, 52711, 648391, 9737333, 174440041, 3657500101, \n",
       " \n",
       ">   88362852307, 2428095424619}"
      ]
     },
     "execution_count": 14,
     "metadata": {
      "text/html": [],
      "text/plain": []
     },
     "output_type": "execute_result"
    }
   ],
   "source": [
    "NestList[Prime, 1, 15]"
   ]
  },
  {
   "cell_type": "code",
   "execution_count": 20,
   "id": "adf3ff13-47ae-4116-aa68-5784510e177a",
   "metadata": {
    "tags": []
   },
   "outputs": [],
   "source": [
    "normalize[0] := 0\n",
    "normalize[1] := 1\n",
    "normalize[n_?PrimeQ] := p[normalize[PrimePi[n]]]\n",
    "normalize[n_?CompositeQ] := Times @@ (normalize[#[[1]]] ^ normalize[#[[2]]] &/@ FactorInteger[n])"
   ]
  },
  {
   "cell_type": "code",
   "execution_count": 97,
   "id": "31172395-f186-4b1c-91e8-78a68c726c8e",
   "metadata": {
    "tags": []
   },
   "outputs": [
    {
     "data": {
      "text/html": [
       "<div><img alt=\"Output\" src=\"data:image/png;base64,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\"></div>"
      ],
      "text/plain": [
       "1    1\n",
       "\n",
       "2    p[1]\n",
       "\n",
       "3    p[p[1]]\n",
       "\n",
       "         p[1]\n",
       "4    p[1]\n",
       "\n",
       "5    p[p[p[1]]]\n",
       "\n",
       "6    p[1] p[p[1]]\n",
       "\n",
       "           p[1]\n",
       "7    p[p[1]    ]\n",
       "\n",
       "         p[p[1]]\n",
       "8    p[1]\n",
       "\n",
       "            p[1]\n",
       "9    p[p[1]]\n",
       "\n",
       "10   p[1] p[p[p[1]]]\n",
       "\n",
       "11   p[p[p[p[1]]]]\n",
       "\n",
       "         p[1]\n",
       "12   p[1]     p[p[1]]\n",
       "\n",
       "13   p[p[1] p[p[1]]]\n",
       "\n",
       "                p[1]\n",
       "14   p[1] p[p[1]    ]\n",
       "\n",
       "15   p[p[1]] p[p[p[1]]]\n",
       "\n",
       "             p[1]\n",
       "         p[1]\n",
       "16   p[1]"
      ]
     },
     "execution_count": 97,
     "metadata": {
      "text/html": [],
      "text/plain": []
     },
     "output_type": "execute_result"
    }
   ],
   "source": [
    "Grid[Table[{n, normalize[n]}, {n, 16}]]"
   ]
  },
  {
   "cell_type": "code",
   "execution_count": null,
   "id": "d0f8de11-1dba-4d94-bbe4-85481d1545f9",
   "metadata": {},
   "outputs": [],
   "source": []
  }
 ],
 "metadata": {
  "kernelspec": {
   "display_name": "Wolfram Language 13.2",
   "language": "Wolfram Language",
   "name": "wolframlanguage13.2"
  },
  "language_info": {
   "codemirror_mode": "mathematica",
   "file_extension": ".m",
   "mimetype": "application/vnd.wolfram.m",
   "name": "Wolfram Language",
   "pygments_lexer": "mathematica",
   "version": "12.0"
  }
 },
 "nbformat": 4,
 "nbformat_minor": 5
}
