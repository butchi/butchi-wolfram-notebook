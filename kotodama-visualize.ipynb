{
 "cells": [
  {
   "cell_type": "markdown",
   "metadata": {},
   "source": [
    "temp"
   ]
  },
  {
   "cell_type": "code",
   "execution_count": null,
   "metadata": {
    "vscode": {
     "languageId": "wolfram"
    }
   },
   "outputs": [
    {
     "ename": "",
     "evalue": "",
     "output_type": "error",
     "traceback": [
      "\u001b[1;31mカーネルを起動できませんでした。 \n",
      "\u001b[1;31mThe kernel died. Error: ... View Jupyter <a href='command:jupyter.viewOutput'>log</a> for further details."
     ]
    }
   ],
   "source": [
    "(* 離散ユニットステップフィルタ *)\n",
    "step[n_Integer?Positive] := 1 + Sign[Sin[\\[Pi] Range[1, -1, -2/n] // Most]]\n",
    "(* 実関数の複素化 *)\n",
    "wind[li_List] := InverseFourier[Fourier[li]*step[Length[li]]]\n",
    "sampleRate = 8000\n",
    "audioLi = Reverse[Flatten[Table[LCM[x, y] / GCD[x, y], {y, 1024}, {x, 1024}]]] / (1024^2 / 2);\n",
    "len = audioLi // Length\n",
    "audioLiComp = wind[audioLi];\n",
    "fps = 30;\n",
    "totalSecond = N[len/sampleRate]\n",
    "totalFrame = Floor[len*fps/sampleRate]\n",
    "samplePerFrame = Floor[sampleRate/fps]"
   ]
  },
  {
   "cell_type": "code",
   "execution_count": null,
   "metadata": {
    "vscode": {
     "languageId": "wolfram"
    }
   },
   "outputs": [
    {
     "ename": "",
     "evalue": "",
     "output_type": "error",
     "traceback": [
      "\u001b[1;31mカーネルを起動できませんでした。 \n",
      "\u001b[1;31mThe kernel died. Error: ... View Jupyter <a href='command:jupyter.viewOutput'>log</a> for further details."
     ]
    }
   ],
   "source": [
    "imgLi = ParallelTable[ListPlot[\n",
    "    Take[\n",
    "        Reverse /@ ReIm[audioLiComp],\n",
    "    { frame * samplePerFrame + 1, (frame + 1) * samplePerFrame }],\n",
    "    Joined -> True, \n",
    "    PlotRange -> {{-1.6, 1.6}, {-0.1, 1.8}},\n",
    "    AspectRatio -> Automatic, \n",
    "    Axes -> False,\n",
    "    PlotStyle -> Black\n",
    "], {frame, 0, totalFrame - 1}];"
   ]
  },
  {
   "cell_type": "code",
   "execution_count": null,
   "metadata": {
    "vscode": {
     "languageId": "wolfram"
    }
   },
   "outputs": [
    {
     "ename": "",
     "evalue": "",
     "output_type": "error",
     "traceback": [
      "\u001b[1;31mカーネルを起動できませんでした。 \n",
      "\u001b[1;31mThe kernel died. Error: ... View Jupyter <a href='command:jupyter.viewOutput'>log</a> for further details."
     ]
    }
   ],
   "source": [
    "ListAnimate[imgLi]"
   ]
  },
  {
   "cell_type": "code",
   "execution_count": null,
   "metadata": {
    "vscode": {
     "languageId": "wolfram"
    }
   },
   "outputs": [
    {
     "ename": "",
     "evalue": "",
     "output_type": "error",
     "traceback": [
      "\u001b[1;31mカーネルを起動できませんでした。 \n",
      "\u001b[1;31mThe kernel died. Error: ... View Jupyter <a href='command:jupyter.viewOutput'>log</a> for further details."
     ]
    }
   ],
   "source": [
    "ParallelDo[Export[\"temp/image-\" <> ToString[frame] <> \".png\", \n",
    "   imgLi[[frame]]\n",
    "]], {frame, 0, totalFrame - 1}]"
   ]
  },
  {
   "cell_type": "code",
   "execution_count": null,
   "metadata": {
    "vscode": {
     "languageId": "wolfram"
    }
   },
   "outputs": [
    {
     "ename": "",
     "evalue": "",
     "output_type": "error",
     "traceback": [
      "\u001b[1;31mカーネルを起動できませんでした。 \n",
      "\u001b[1;31mThe kernel died. Error: ... View Jupyter <a href='command:jupyter.viewOutput'>log</a> for further details."
     ]
    }
   ],
   "source": [
    "Export[\"temp/audio.wav\", ListPlay[li, SampleRate -> sampleRate]]"
   ]
  },
  {
   "cell_type": "code",
   "execution_count": null,
   "metadata": {
    "vscode": {
     "languageId": "wolfram"
    }
   },
   "outputs": [
    {
     "ename": "",
     "evalue": "",
     "output_type": "error",
     "traceback": [
      "\u001b[1;31mカーネルを起動できませんでした。 \n",
      "\u001b[1;31mThe kernel died. Error: ... View Jupyter <a href='command:jupyter.viewOutput'>log</a> for further details."
     ]
    }
   ],
   "source": []
  }
 ],
 "metadata": {
  "kernelspec": {
   "display_name": "Wolfram Language 13.1",
   "language": "Wolfram Language",
   "name": "wolframlanguage13.1"
  },
  "language_info": {
   "codemirror_mode": "mathematica",
   "file_extension": ".m",
   "mimetype": "application/vnd.wolfram.m",
   "name": "Wolfram Language",
   "pygments_lexer": "mathematica",
   "version": "12.0"
  },
  "orig_nbformat": 4,
  "vscode": {
   "interpreter": {
    "hash": "28512ef47dc95a211b5628f8653bfe09551e666171041014dfa106f456b0e211"
   }
  }
 },
 "nbformat": 4,
 "nbformat_minor": 2
}
