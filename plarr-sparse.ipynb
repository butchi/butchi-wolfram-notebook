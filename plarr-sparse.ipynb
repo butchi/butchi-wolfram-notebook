{
 "cells": [
  {
   "cell_type": "markdown",
   "metadata": {},
   "source": [
    "# Sparse Plane Array\n",
    "\n",
    "疎な平配"
   ]
  },
  {
   "cell_type": "code",
   "execution_count": 3,
   "metadata": {
    "vscode": {
     "languageId": "wolfram"
    }
   },
   "outputs": [],
   "source": [
    "Format[splarr[{}]] := Grid[{{Item[0, Frame -> True]}}]\n",
    "\n",
    "Format[splarr[ruleLi_List]] := \n",
    "  With[\n",
    "    {\n",
    "      minPos = Min[#, 0] & /@ Min /@ Transpose[ReIm[First[#]] & /@ ruleLi], \n",
    "      maxPos = Max[#, 0] & /@ Max /@ Transpose[ReIm[First[#]] & /@ ruleLi]\n",
    "    }, \n",
    "    With[{\n",
    "      tbl = PadRight[\n",
    "        Normal[\n",
    "          SparseArray[(1 - minPos + ReIm[#[[1]]]) -> #[[2]] & /@ ruleLi]\n",
    "        ], maxPos + 1 - minPos\n",
    "      ]}, \n",
    "      Grid[\n",
    "        Transpose[\n",
    "          ReplacePart[tbl, \n",
    "            1 - minPos -> Item[\n",
    "              Extract[tbl, 1 - minPos], Frame -> True\n",
    "            ]\n",
    "          ]\n",
    "        ]\n",
    "      ]\n",
    "    ]\n",
    "  ]"
   ]
  },
  {
   "cell_type": "code",
   "execution_count": 5,
   "metadata": {
    "vscode": {
     "languageId": "wolfram"
    }
   },
   "outputs": [],
   "source": [
    "normal[splarr[ruleLi__List]] := \n",
    "    splarr[Normal[Select[Map[Plus @@ (Last[#] & /@ #) &, GroupBy[ruleLi, First]], !(# === 0) &]]]"
   ]
  },
  {
   "cell_type": "code",
   "execution_count": 6,
   "metadata": {
    "vscode": {
     "languageId": "wolfram"
    }
   },
   "outputs": [],
   "source": [
    "Unprotect[Plus];\n",
    "Plus[splarr[ruleLi1_List], splarr[ruleLi2_List]] := \n",
    "    normal[splarr[Join[ruleLi1, ruleLi2]]]\n",
    "Plus[sa1_splarr, b_] := Plus[sa1, splarr[{0 -> b}]]\n",
    "Protect[Plus];"
   ]
  },
  {
   "cell_type": "code",
   "execution_count": 10,
   "metadata": {
    "vscode": {
     "languageId": "wolfram"
    }
   },
   "outputs": [],
   "source": [
    "convApply[f_, li_List, val_] := f[#, val] & /@ li\n",
    "convApply[f_, li1_List, li2_List] := convApply[f, li1, #] & /@ li2\n",
    "\n",
    "Unprotect[Times];\n",
    "Times[splarr[ruleLi1_List], splarr[ruleLi2_List]] := \n",
    "    normal[splarr[\n",
    "        Join @@ convApply[\n",
    "            (#1[[1]] + #2[[1]]) -> (#1[[2]] #2[[2]]) &, ruleLi1, ruleLi2\n",
    "        ]\n",
    "    ]]\n",
    "Times[sa1_splarr, b_] := Times[sa1, splarr[{0 -> b}]]\n",
    "Protect[Times];"
   ]
  },
  {
   "cell_type": "code",
   "execution_count": 16,
   "metadata": {
    "vscode": {
     "languageId": "wolfram"
    }
   },
   "outputs": [],
   "source": [
    "Unprotect[Power];\n",
    "Power[a_splarr, b_?Positive] := normal[Fold[Times, Table[a, b]]]\n",
    "Protect[Power];"
   ]
  },
  {
   "cell_type": "code",
   "execution_count": 19,
   "metadata": {
    "vscode": {
     "languageId": "wolfram"
    }
   },
   "outputs": [
    {
     "data": {
      "text/html": [
       "<div><img alt=\"Output\" src=\"data:image/png;base64,iVBORw0KGgoAAAANSUhEUgAAAEsAAABcCAIAAACp/9+eAAAAz3pUWHRSYXcgcHJvZmlsZSB0eXBlIGV4aWYAAHjabU/tbQUhDPvPFB0hJMGBcbh7PKkbdPyaA7WiqiVi43xA0vj6fKePCc2SvERFA4Tw5k07RZWFxVnaEx/4tXP59FO5t99pld8Exvav0w8s1vpnkOgSNl+gNt8Ne5Dp8nNf92vXa6/1HNTkAOTn6//e3UJRkMMZXSUCjbomShKKSgm8cQMszHip+E0eiGAbYlZYn40TOuKsHglG4zVXsHncOtkYs3EjRlD7dppezLanZq7zDZnWWu5GRkp4AAAACXBIWXMAAA7EAAAOxAGVKw4bAAAAPHRFWHRTb2Z0d2FyZQBDcmVhdGVkIHdpdGggdGhlIFdvbGZyYW0gTGFuZ3VhZ2UgOiB3d3cud29sZnJhbS5jb21coqaFAAAAIXRFWHRDcmVhdGlvbiBUaW1lADIwMjQ6MDM6MTAgMTY6NDM6MTnl4mBjAAAD6klEQVR4nO2bv07rMBTG7UskRl6gQxVn4AEYW0bcF0DKK5QZdUKqkLokDwArE40ED9B0yEAqnoEhoQgxMDB0YGHyHaybm9umbvynbtzr31CpzTkn/pzY2B8JJISAvcZZLBaLxUJ53Var5TiO8rIiDIfDbZSdz+ekGTiHh4cnJycPDw+qtH1+fp6fn6uqJo/z8/Pz9fXVbrcVFv34+FBYTZJfu27A1rEKzWetQs/zIIRRFK0eiqIIQuh5HteZLi4u4B9ms5ny+HXNrlAYhiGEcDQaVZaAED49PWGMa56S0uv1ptMpnb6DIOh2u+xG88Yzmr2sMIqiJEkIIa1Wa7WK53lpmt7c3NQQ9ZfZbBbH8XQ6pV8HgwFC6P7+XlU8u9nLCn3fn0wm6wplWdbpdBhnquT5+Rkh5LpuISDP89vbW1Xx7GbrmGmSJCkGbRRF3W53PB4DAF5fX5XEs9E6l4ZheHV1RWqv9XnjK9G3OO71egCALMu2FL8OHdfQdd04jl3XLYbK+/t7eaRJxrPRofD09BQAcHl5WfySJMnZ2ZmqeDY6FPq+jxAqmhiGYRzHZQGS8RsYDoftdrvYTeV5vhqDEKJH+/3+6tHxeFzej83nc1C1PywvEurs67jiGc1eVijPOoW74j9eee8NVqH57L9C5+jo6Pj4+O7uTlXF7+/vTqcDIVRVUBIHQvjy8nJ9fa227sHBgdqCwkCy767+/o9Dq9B8NiikBtYSvD4iRYObWJ3Cu5BFCPX7fd4sjHGxQQmCAACQpqnCeEYKn0LqCG082RJpmgIA8jwvfmF3E288O4VPIcYYY8yVQggJgqDo3aI1jNuHN56dwqGQpvFeQPJvv9C7gH6Wu1wmnp3CMZeORiOEkIAjXKDBTVxNqesmUqeddowYGtzEypS615BeQN/365+vQIObyEqpM5CozxMEQd2R9y+rowhjzJgbeePZKbUUUoutTuQ6EEJLf6wY04ZAPCNlc7vpFCp8AQu26iYyUuzuyXysQvOxCs3HKjQfq9B8rELzqaVQ7DFBySL63EQBY0++iD43UcDYky+i1U0UMPbki2h1EwWMPfkiu3ETlTwm2Fw3Ucljgg11E5U8JthoN1HA2JMvottNFDD25ItodROJkLEnX8S6iXWxK2/zsQrNxyo0H6vQfKxC89mskL5ZW0bsPcDmem0IISX/xG+o10ZUKGy010ZUKGy010YIQQiV7/WN8as03WvLsqxcSHimAU322gomkwmE8PHxcTAYcCWCxnptlby9vXHF79Zr41NI70/6nm59NLwHzErhmjMAAAJPQZOGe23lrlp65ZcL67VtC7vyNh+r0Hx+AxLBe79F0AcnAAAAAElFTkSuQmCC\"></div>"
      ],
      "text/plain": [
       "Item[11, Frame -> True]   0   0   1\n",
       "\n",
       "7                         0   0   0\n",
       "\n",
       "0                         0   0   0\n",
       "\n",
       "5                         0   0   0"
      ]
     },
     "execution_count": 19,
     "metadata": {
      "text/html": [],
      "text/plain": []
     },
     "output_type": "execute_result"
    }
   ],
   "source": [
    "splarr[{\n",
    "    0 -> 3,\n",
    "    I -> 7\n",
    "}] + splarr[{\n",
    "    0 -> 8,\n",
    "    3 -> 1,\n",
    "    3I -> 5\n",
    "}]"
   ]
  },
  {
   "cell_type": "code",
   "execution_count": 20,
   "metadata": {
    "vscode": {
     "languageId": "wolfram"
    }
   },
   "outputs": [
    {
     "data": {
      "text/html": [
       "<div><img alt=\"Output\" src=\"data:image/png;base64,iVBORw0KGgoAAAANSUhEUgAAAC4AAAAvCAIAAAATh2/FAAAAz3pUWHRSYXcgcHJvZmlsZSB0eXBlIGV4aWYAAHjabU/RbQUhDPtnio4QkuDAONx7nNQNOn7NgVpR1RKJcZxA0vj6vNPHhGZJXqKiAUJ486adpMrCylnaEx/o2LV86knvrXdK5beA3ZCvUw/sgfXPINFFbL5Abr4b9iDTpee+7tf2a6/1HNTkAOTn6//e3UJRkMMZXSUCjbwmUiYUlRK48QJozHir+It5IIJtiOmwPhsndMTpHglG4T1XsHncOrMxZuNGjCD3rTS9WG2PZ67zDZtKWu9NNjNwAAAACXBIWXMAAA7EAAAOxAGVKw4bAAAAPHRFWHRTb2Z0d2FyZQBDcmVhdGVkIHdpdGggdGhlIFdvbGZyYW0gTGFuZ3VhZ2UgOiB3d3cud29sZnJhbS5jb21coqaFAAAAIXRFWHRDcmVhdGlvbiBUaW1lADIwMjQ6MDM6MTAgMTY6NDM6MTnl4mBjAAACaUlEQVRYhe2YMa6qQBSGD+YmFprYkJgYC8JQuABLMFbCEiitLayMNibGhAZWYSUkbkAoaCCuwcKhsLYgMRZW8wru5fEM4Q7gUwr/yhnnzPkYhuE/MIQQqIa+KMeFYRiGYYEEzWaTZVmqoYROq9WqAAcAjMdjyhS0q1Kv1/v9/m63y8UxnU4bjQblYFqU+/1+uVw4jsuFcr1eb7cb5eBarqn/qz4oafoHRRAEhmEsy6KJDIKASShX1tRE3yiGYTAMo2ka5VxBECCEPM+LnkOEkCAINIEZiWoAYFmW67qEkG63S4nC8zwhRBTFqKlpGsbY9/3sqOxENQBQVXW/31NCpIryGrITPWfbHg4HAOh0OmUmeQJKEASLxUKWZZ7n34yCEAKAkrf4CSjRg4MxLjlPWRRBEDDGGOOSt6YsiqIoGGPP857CAQBACEldXoTQg1/hOC5uep73awghZDgcJv1KdqIv+Dmvcl2AKIoFnGh2oqq+Dt+rD0qaKoRCa7NbrVav19tsNrlmZ1m23W4/GYVhmOPxuF6vc6EAAH2RwFSnUK3QXvmgpKl48VE4ZDKZxCVL0pkXLD6KhQCAoiiO40SvYl3XJUmKaQoWHwVCAMD3fdu2HceJmvP5HCG03W6//07ai8iFmKZJ+UUkb4iu60lPE5ueqPnSbeu6blxEWpYlSZJpmgAQBAG86wkyDGO5XD6crrQH/xOlKAoAnE6nh/6XrgrP87Zt8zwfF03n8xkhFBn1l6IMBgMAmM1mcY/ruqPRKPr9UhRVVRFCcW7DMGzb/kv2a02QqgIhsWRZjkOS/R+TkKYPSpoqhPIHNQs/qPomEwIAAAAASUVORK5CYII=\"></div>"
      ],
      "text/plain": [
       "1   Item[2, Frame -> True]   1\n",
       "\n",
       "1   1                        0"
      ]
     },
     "execution_count": 20,
     "metadata": {
      "text/html": [],
      "text/plain": []
     },
     "output_type": "execute_result"
    }
   ],
   "source": [
    "splarr[{\n",
    "    0 -> 1,\n",
    "    1 -> 1,\n",
    "    I -> 1\n",
    "}] splarr[{\n",
    "    0 -> 1,\n",
    "    -1 -> 1\n",
    "}]"
   ]
  },
  {
   "cell_type": "code",
   "execution_count": 204,
   "metadata": {
    "vscode": {
     "languageId": "wolfram"
    }
   },
   "outputs": [],
   "source": [
    "Unprotect[NonCommutativeMultiply];\n",
    "NonCommutativeMultiply[splarr[ruleLi1_List], splarr[ruleLi2_List]] := Sum[Sum[splarr[{ First[rule2] + First[rule1] Last[rule2] -> Last[rule1] }], {rule1, ruleLi1}], {rule2, ruleLi2}]\n",
    "Protect[NonCommutativeMultiply];"
   ]
  },
  {
   "cell_type": "code",
   "execution_count": 169,
   "metadata": {
    "vscode": {
     "languageId": "wolfram"
    }
   },
   "outputs": [
    {
     "data": {
      "text/html": [
       "<style>\n",
       "\t\t\t\t\t\t\t\t\t\t\t\t\t.grid-container {\n",
       "\t\t\t\t\t\t\t\t\t\t\t\t\t\tdisplay: inline-grid;\n",
       "\t\t\t\t\t\t\t\t\t\t\t\t\t\tgrid-template-columns: auto;\n",
       "\t\t\t\t\t\t\t\t\t\t\t\t\t}\n",
       "\t\t\t\t\t\t\t\t\t\t\t\t</style>\n",
       "\n",
       "\t\t\t\t\t\t\t\t\t\t\t\t<div><div class=\"grid-container\"><div class=\"grid-item\"><img alt=\"Output\" src=\"data:image/png;base64,iVBORw0KGgoAAAANSUhEUgAAACEAAABGCAIAAADNd2raAAAAz3pUWHRSYXcgcHJvZmlsZSB0eXBlIGV4aWYAAHjabU/RbUQhDPtnihshJMGBcXh3nNQNOv6ZB2pFVUskjnECSeP7650eE5oleYmKBgjhzZt2kioLK2dpd7yhO7M+9OTYeqdUfi8wtn6demy/1j+DRBex+QK5+W7Yg0yXnvuqr+3XXus5qMkByM/X/63dQlGQwxldJQKNvCZSJhSVEnjjCdCY8VLxJ/NABNsQ02F9Nk7oiNM9EozCa65g87h1ZmPMxo0Y4+ZgdGt68bbdnrnOBw/EWpEOuNqAAAAACXBIWXMAAA7EAAAOxAGVKw4bAAAAPHRFWHRTb2Z0d2FyZQBDcmVhdGVkIHdpdGggdGhlIFdvbGZyYW0gTGFuZ3VhZ2UgOiB3d3cud29sZnJhbS5jb21coqaFAAAAIXRFWHRDcmVhdGlvbiBUaW1lADIwMjQ6MDM6MTAgMTc6MTY6NDnB3ODQAAAB6ElEQVRYhe2WMa7iMBRF/UaRKECiiURDgewULIA2lJglQEcLBRUlEkKiSVZBF0tsABo3YREUJAU1RSREQeUpmO/PGCbjZDJfn8i3iBTn3XeS2IkvCCHQf5aVJEmSJDmctVrNtm2t0sVikQOAEBqNRkJPVqVS6XQ6m80mE2A6nVarVc1i63a7nc/nVquViXG5XK7Xq2bxj0yt86n0DMdxAIAxlqndS9cLhu/7ALBarTJ1T3GpDMYY51wI0Ww29QHpLpUxGAy2261+dx1X6deVYXwLRhzHAAAArusihIbDIQA4jpPeJd1lKdUY4xy7b7qrrPNhGH+WVa/X2+32er3OZLNtu9Fo6DIA4HA4LJfLrHenH2XgC7JoWeb83bLPZDKBD+33+88LzzHb8zyEUBAE96NmOKeUEkIeO4RheD9VGUEQUEqFEGEY6jPuxVEUyRFCyHg8fs1QbJoMz/PkQ0ivfEnFzDnnXO5IjDHXde+vOo5jVPi68n1/Pp+L379rdR/8F/X7fYTQ8XhUxot5DozxbrfDGMtEejqdCCEY48IY3W4XITSbzeQI57zX6/06KWRdCSEIIcr3IZeyyoii6Pk2H9dliiil0vI4bv7thmEYhvH2DJN9hBAm+2jIZJ+/ymSfolT6/+6bMX4CKk3pcj26ynAAAAAASUVORK5CYII=\"></div><div class=\"grid-item\"><img alt=\"Output\" src=\"data:image/png;base64,iVBORw0KGgoAAAANSUhEUgAAAEIAAABcCAIAAABV6vRUAAAA0HpUWHRSYXcgcHJvZmlsZSB0eXBlIGV4aWYAAHjabU/tbQUhDPvPFB0hJMGBcbh7PKkbdPyaA7WiqiUc43xA0vj6fKePCc2SvERFA4Tw5k07RZWFFbO0hx+47lw+/VTu7Xda5TeBsf3r9AMrav0zSPYLNl+gNt8Ne5Dp8nNf92vXa6/1HNTkAOTn6//e3UJRkMPJ3DMCjbomSgYUlRJ44wZYmPFS8ZtxIIJtiFlhfTZO6IizeiQYjddcweZx64xGzsaNyPFokN2aXsy2p2au8w1TclrCY+b2hgAAAAlwSFlzAAAOxAAADsQBlSsOGwAAADx0RVh0U29mdHdhcmUAQ3JlYXRlZCB3aXRoIHRoZSBXb2xmcmFtIExhbmd1YWdlIDogd3d3LndvbGZyYW0uY29tXKKmhQAAACF0RVh0Q3JlYXRpb24gVGltZQAyMDI0OjAzOjEwIDE3OjE2OjQ5wdzg0AAAAatJREFUeJztmDGKg0AYhTOLYGEgjWBjISaFB8gBPIalJ/AKIljlFCmFXCBVzpEmN0ghSIpUs90S3Kz4j8q+DO9r87/wfzDi+JTWevX5OG3btm1rkFyv177vz76QIWVZmgXzPNcwOK7r7vf70+kkciiKwvM8M/8lcJ7P5/1+j6JIFOu67vF4LLOSCV//vcA8UAOJPzV2u51Sqmka0d8ZpKSRt/NvNA6Hg1Kqruvxq5ilpJGB+b5G0zSXy0VrHYbh+IUMUtLI8HxfI8uy8/k8cpUpKWlkeN72R/yzoAYS1ICiLMsoin4u7rfb7ffMdrvt3e/TNH393hiZekUaGZ53ej/Ecazln7UGKWlkeN6SQ0UNJKiBhLPZbJIkOR6Popjv+0EQLLOSCY5S6nq9VlUlTUrLlEVRBm8JQCx5NqiBBAueySkWPH1Y8CBBDSSogYQlGquJvQtIwcOLOhLUQIIaSFADCWogQQ0kWPBMTrHg6cOCBwlqIEENJCzRYMGDhCWHihpIUAMJaiBBDSRs12AzslSEzcg42IzMAzWQoAYSlmiwGUHCkkNFDSQs0fgGRzaJbETd6ssAAAAASUVORK5CYII=\"></div><div class=\"grid-item\"><img alt=\"Output\" src=\"data:image/png;base64,iVBORw0KGgoAAAANSUhEUgAAAFkAAABcCAIAAACKpI5LAAAA0npUWHRSYXcgcHJvZmlsZSB0eXBlIGV4aWYAAHjabU9bbgQhDPvnFHuEkAQHjsPMslJv0OOvGWirqdYSsXEekDS+v17pMaFZkpeoaIAQ3rxpp6iysDhLu+KF0nYu3/1Uzu13WuUvgbH94+4HFmv9N0h0CZsvUJvvhj3IdPm5r/ux67XXeh/089UNyO/XP97dQlGQwxldJQKNuiZKEopKCbxwAizMeKr4SR6IYBtiVlifjRM64l49EozGc65g87h1sjFm40aMcWkwujU9mG1XzVznDV87Wso3fGZVAAAACXBIWXMAAA7EAAAOxAGVKw4bAAAAPHRFWHRTb2Z0d2FyZQBDcmVhdGVkIHdpdGggdGhlIFdvbGZyYW0gTGFuZ3VhZ2UgOiB3d3cud29sZnJhbS5jb21coqaFAAAAIXRFWHRDcmVhdGlvbiBUaW1lADIwMjQ6MDM6MTAgMTc6MTY6NDnB3ODQAAADwklEQVR4nO2csU7jQBCGd0+RKECiiUSTIvKmyAPQJqKK/QgpaaGgQlRIERKN/QK0VIklXiBO4SYRz0CBKagpIiEKKl/hw2PsJex6Z3Hubr4ChSie/fQrWWdnpPA0TRnBGGOstV6v1+t1jSv39vba7Ta6UJNMJpN6Fx4fH6f/Fq2dnZ3Dw8O7uzutIM7OznZ3d+uFuLW03t/fX15eut2u1mWvr69vb292lBrjV9MCWwRlAVAWwJdZ9Ho9znkYhibVT09P+Qer1apeEXMTRQ1JFkEQcM6vr69rr53hed5ischuV77vDwYD3ThQTNQ1ylmEYRjHcZqmnU7HxGC1WkVRtFgssn8vLi6EENPpVL0CiomWRjmL8Xg8n89rr51zf38vhHAcJ3dKkuTm5ka9AoqJloatvTOO416vlz0Ow3AwGMxmM8bY09OTpRXNNazfR4IguLy8TJs+AapotKwaeJ7HGHt8fLS6CpaGrfeF4zhRFDmOk3/mn5+fix/dn0FLw1YWw+GQMXZ+fp4/E8fxaDSytByKhq0sxuOxECJfNQiCKIqKTj+DnsZkMul2u/kZPkmS6muEEKWj/tHRkUr/wnXdvIhuN0HRRAVFjfLe6ThOirfnm3xBQDRR1KCzGUBZAJQFQFkAlAXQ2t/f7/f7t7e3Wpe12+2DgwM7So3R4pw/PDxcXV3pXqnbOt9+OOK3ib8d2i8AygKgLAB5Fii9fJQ6KCaqRaSnuvw46Ps+Y2y5XNY7HRrWQTFRL1LOYrlcMsaSJMmfEUKcnJzoGpjXQTHRKlLOwvf9Yo8gqyV9+2zGvA6KiVaR8rOu67qumz3O2ufZ32K0KpjXQTHRKvLlfQSrl29eB8Wk/kwAq5dvXgfFpOZMAKuXb14HxcRoJoDVyzevg2KiV6S6hQghSjdk3Y0Tqw6KiXoR+d3FpJePWwfFRLEIndkBOpsBlAVAWQCUBUBZAJQFQFkAlAVAWQCUBUBZADQTKCA91dFMIE1pJlCEZgIAzQQk0EzgDzQTYIxmAkVoJvAJmgl8gmYC/zt0NgMoC4CyACgLgLIAKAuAsgAoC4CyACgLwG4fXIrW799YMpE7SE8yKH3wKlm1vNf27ettmGxwsNUHrzKbzbLWY7bEt1nYMNnsYKsPvgHFLKyaSB3K+8WW/M5NIybW++Dm/JiJPAvP8+I41uo+e57HK5j76ZqYaKD1wefzefVjqSghpZ6JiYatPrg5DZhUU8Tqg3+F4n3EqonSPTUDqw9epN7v3+CabHagPjhAZzOAsgAoC4CyAH4DID7LLDX+sn0AAAAASUVORK5CYII=\"></div><div class=\"grid-item\"><img alt=\"Output\" src=\"data:image/png;base64,iVBORw0KGgoAAAANSUhEUgAAAEIAAABcCAIAAABV6vRUAAAA0HpUWHRSYXcgcHJvZmlsZSB0eXBlIGV4aWYAAHjabU/tbQUhDPvPFB0hJMGBcbh7PKkbdPyaA7WiqiUc43xA0vj6fKePCc2SvERFA4Tw5k07RZWFFbO0hx+47lw+/VTu7Xda5TeBsf3r9AMrav0zSPYLNl+gNt8Ne5Dp8nNf92vXa6/1HNTkAOTn6//e3UJRkMPJ3DMCjbomSgYUlRJ44wZYmPFS8ZtxIIJtiFlhfTZO6IizeiQYjddcweZx64xGzsaNyPFokN2aXsy2p2au8w1TclrCY+b2hgAAAAlwSFlzAAAOxAAADsQBlSsOGwAAADx0RVh0U29mdHdhcmUAQ3JlYXRlZCB3aXRoIHRoZSBXb2xmcmFtIExhbmd1YWdlIDogd3d3LndvbGZyYW0uY29tXKKmhQAAACF0RVh0Q3JlYXRpb24gVGltZQAyMDI0OjAzOjEwIDE3OjE2OjQ5wdzg0AAAAatJREFUeJztmDGKg0AYhTOLYGEgjWBjISaFB8gBPIalJ/AKIljlFCmFXCBVzpEmN0ghSIpUs90S3Kz4j8q+DO9r87/wfzDi+JTWevX5OG3btm1rkFyv177vz76QIWVZmgXzPNcwOK7r7vf70+kkciiKwvM8M/8lcJ7P5/1+j6JIFOu67vF4LLOSCV//vcA8UAOJPzV2u51Sqmka0d8ZpKSRt/NvNA6Hg1Kqruvxq5ilpJGB+b5G0zSXy0VrHYbh+IUMUtLI8HxfI8uy8/k8cpUpKWlkeN72R/yzoAYS1ICiLMsoin4u7rfb7ffMdrvt3e/TNH393hiZekUaGZ53ej/Ecazln7UGKWlkeN6SQ0UNJKiBhLPZbJIkOR6Popjv+0EQLLOSCY5S6nq9VlUlTUrLlEVRBm8JQCx5NqiBBAueySkWPH1Y8CBBDSSogYQlGquJvQtIwcOLOhLUQIIaSFADCWogQQ0kWPBMTrHg6cOCBwlqIEENJCzRYMGDhCWHihpIUAMJaiBBDSRs12AzslSEzcg42IzMAzWQoAYSlmiwGUHCkkNFDSQs0fgGRzaJbETd6ssAAAAASUVORK5CYII=\"></div><div class=\"grid-item\"><img alt=\"Output\" src=\"data:image/png;base64,iVBORw0KGgoAAAANSUhEUgAAAE8AAABcCAIAAACgFH/kAAAA0XpUWHRSYXcgcHJvZmlsZSB0eXBlIGV4aWYAAHjabU9bbgQhDPvnFHuEkAQHjsPMMlJv0OOvGVCrqWqJ2DgPSBrfX1d6TWiW5CUqGiCEN2/aKaosLM7S7njDr53LTz+Vc/udVvlNYGz/ePqBxVr/DBJdwuYL1Oa7YQ8yXX7u637seu21Pgc1eQDy8/V/726hKMjhjK4SgUZdEyUJRaUELpwACzPeKn6SByLYhpgV1mfjhI54Vo8Eo/GeK9g8bp1sjNm4EWPcGoxuTQ9m210z1/kAoAZa9sbi7FMAAAAJcEhZcwAADsQAAA7EAZUrDhsAAAA8dEVYdFNvZnR3YXJlAENyZWF0ZWQgd2l0aCB0aGUgV29sZnJhbSBMYW5ndWFnZSA6IHd3dy53b2xmcmFtLmNvbVyipoUAAAAhdEVYdENyZWF0aW9uIFRpbWUAMjAyNDowMzoxMCAxNzoxNjo0OcHc4NAAAAMpSURBVHic7ZqvzvIwFMY7sgQcFrmsCC4ACUi2GyDhFoZGkhAkXAUOEm4ADIhxEQgGCUEgEBMYDH3F8u0jMErbdYWU8xNvyOh5zp79ael5j0EIQT+DGYZhGIbZJSiVSoVCITt9Pvr9fqb6q9WKfA1mPp+vVquz2Uy6z9Pp1Gq1crmcdGVhzOv1ej6fLcvKQv14PN5utyyUxfiiC68AcKsLhmHsdrv7IxxuO52O8Y/1ei18Erw6svIihFC/37cs6+3c7TgOxjj6PBwOEUK+79ND9vs9elqBeHUE8lJgcuv7PkIoCIL4CMbY8zx61LNbXh2xvBSY3A6Hw/gCxyeBEKJHPbvl1RHLO5lM4ifXcZz7r5je2+VyWS6Xo8/T6bRer0eKD3OAdB2xvO12mxDieV4QBLZt33/FNyePRqNer0dSbyR4dWTlNdmHuq6LENputylT8urIyosY761t24vFwrbt+XweHTkcDhjjh+dEuo6svDFMbhuNBkKo2+3GR5bLZbPZ5E3GqyMr738Y11uM8cO6d78wJJK43vLqCOSNiGaph+WK1S0hxHGc+BqxjE90K6CTZvxDIMcsFb88KeHVkThe513BM+BWX8CtvpjFYrFSqYzHY+nSl8ulVquZJse0nzWmYRibzWYwGGSV4JvcGuSX/jPyW+8tuOXhuYr5zXzg3iqosL4MYdlVSERBhZUSotStggorPUTQLaWKSUFBhZUekureJtYHKDiOE1+a6HpFf1+VI3jHvw35zAqkoMKaGJLws8513cVi8XCQKxMdBRXWVyEJ93Y+nz8/IeyZKCiosNJDlD7JCiqsb0IYJ5hEeGcpoqTCSgkRdEupYnLFZjGeEgI7Pn0Bt/oCbvUF3OoLuNUXcKsLP9/Dyr6rkNJL+uEeVpZBsnpJP9/DyjJIrJc0vY70HlbW/TRvpVOKTpq8iXUV6GF9AfSwQg+rPB35PayME4xwL2lKHck9rOwnKlDplKIjsYcVKqz6Am71BdzqC7jVF3CrL9DVmTHQ1SltPD0EujoZgK7O90BXZybjX4VAVyd0dUoBujqhqzPdeEoI1Bz1Bdzqy2+5/QOPiRUGAAsqswAAAABJRU5ErkJggg==\"></div></div></div>"
      ],
      "text/plain": [
       "Item[1, Frame -> True]   1\n",
       "\n",
       "1                        0\n",
       "\n",
       "1                        0\n",
       "Item[1, Frame -> True]   1   1   1\n",
       "\n",
       "1                        1   1   1\n",
       "\n",
       "1                        1   1   1\n",
       "\n",
       "1                        1   1   1\n",
       "Item[1, Frame -> True]   0    1   0\n",
       "\n",
       "0                        0    0   0\n",
       "\n",
       "0                        0    0   0\n",
       "\n",
       "0                        -1   0   -1\n",
       "Item[1, Frame -> True]   1   1   1\n",
       "\n",
       "1                        1   1   1\n",
       "\n",
       "1                        1   1   1\n",
       "\n",
       "1                        1   1   1\n",
       "Item[0, Frame -> True]   0   0   I\n",
       "\n",
       "-I                       0   0   0\n",
       "\n",
       "0                        0   0   I\n",
       "\n",
       "-I                       0   0   0"
      ]
     },
     "execution_count": 169,
     "metadata": {
      "text/html": [],
      "text/plain": []
     },
     "output_type": "execute_result"
    }
   ],
   "source": [
    "splarr[{0 -> 1, 1 -> 1, I -> 1, 2I -> 1}]\n",
    "\n",
    "splarr[{0 -> 1, 1 -> 1, I -> 1, 2I -> 1}] ** splarr[{0 -> 1, 1 + 3I -> -1, 2 -> 1, 3 + 3I -> -1}]\n",
    "splarr[{0 -> 1, 1 + 3I -> -1, 2 -> 1, 3 + 3I -> -1}]\n",
    "\n",
    "splarr[{0 -> 1, 1 -> 1, I -> 1, 2I -> 1}] ** splarr[{I -> -I, 3 -> I, 3I -> -I, 3 + 2I -> I}]\n",
    "splarr[{I -> -I, 3 -> I, 3I -> -I, 3 + 2I -> I}]"
   ]
  },
  {
   "cell_type": "code",
   "execution_count": 200,
   "metadata": {
    "vscode": {
     "languageId": "wolfram"
    }
   },
   "outputs": [],
   "source": [
    "Unprotect[CircleTimes];\n",
    "CircleTimes[splarr[ruleLi1_List], splarr[ruleLi2_List]] := Sum[Sum[splarr[{ First[rule1] First[rule2] -> Last[rule1] Last[rule2] }], {rule1, ruleLi1}], {rule2, ruleLi2}]\n",
    "SetAttributes[CircleTimes, { Flat, Listable, NumericFunction, OneIdentity, Orderless, Protected }]\n",
    "Unprotect[CircleTimes];"
   ]
  },
  {
   "cell_type": "code",
   "execution_count": 33,
   "metadata": {
    "vscode": {
     "languageId": "wolfram"
    }
   },
   "outputs": [
    {
     "data": {
      "text/html": [
       "<div><img alt=\"Output\" src=\"data:image/png;base64,iVBORw0KGgoAAAANSUhEUgAAACEAAAAvCAIAAADijDRIAAAAz3pUWHRSYXcgcHJvZmlsZSB0eXBlIGV4aWYAAHjabU/RbQUhDPtnio4QkuDAONx7nNQNOn7NgVpR1RKJY5xA0vj6vNPHhGZJXqKiAUJ486adpMrCylnaEx/ozqwPPem99U6p/F5gbP069cAeWP8MEl3E5gvk5rthDzJdeu6rvrZfe63noCYHID9f/7d2C0VBDmd0lQg08ppImVBUSuDGC6Ax463iL+aBCLYhpsP6bJzQEad7JBiF91zB5nHrzMaYjRsxgtwfhQ69eNsez1znG044WrPNzk+0AAAACXBIWXMAAA7EAAAOxAGVKw4bAAAAPHRFWHRTb2Z0d2FyZQBDcmVhdGVkIHdpdGggdGhlIFdvbGZyYW0gTGFuZ3VhZ2UgOiB3d3cud29sZnJhbS5jb21coqaFAAAAIXRFWHRDcmVhdGlvbiBUaW1lADIwMjQ6MDM6MTAgMTY6NDM6MjC3E4sEAAABz0lEQVRYhe2Xv+rqMBTHT34IDgougotDyengA7jWUfII7ebs4CROgggu5gVcnTTgC5gOmYrP4NB2cHYoiINT7iC3CPdnf2n43T94/U5NyDefpic5OSVaa/jNqhiOy7IsyzILQL1eB22m2WxmAQCAwWBguo5qtdrtdne7XSnAaDSq1WqmjNvtdj6fHccpxbhcLtfr9aOUx04vyXBdlxAihDA0D4dD8lNRFH3B4JwTQhaLhfnbMcbCMLzv7OVy6XneM8wHAAghlFJa63a7bQiIokhKGYbhvTmZTBBxs9k8Zfi+v9/vzVcAAIfDAREppTkySZLVavWUYSGllOu692chhOd52+0WANI0/TZGLs75dDotTqym5/xTMcYAII7j4mGW66CUSikppXkgT6fTY4S+gdHr9QBgPB7nPUqpfr//6WBLhu/7iJhPyjmXUj4iH1UBgDRNETHvCoIgCAJELP7QcRwzxggh92ZB2CsAQCm1u3ENT9VL5t03o1CmuaTRaHQ6nfV6XWr2ZrPZarVMGYSQ4/E4n89LMQDAcRzyB2rRV4n5P1/7GFrsax9zi2XtU8piWfuUsrzkvnoz/joDtNZJkvzaj4gFv9KlLO/c/v8xfgC6mxuIWIY7SAAAAABJRU5ErkJggg==\"></div>"
      ],
      "text/plain": [
       "1   Item[0, Frame -> True]\n",
       "\n",
       "1   1"
      ]
     },
     "execution_count": 33,
     "metadata": {
      "text/html": [],
      "text/plain": []
     },
     "output_type": "execute_result"
    }
   ],
   "source": [
    "CircleTimes[splarr[{1 -> 1, 1 + I -> 1, I -> 1}], splarr[{I -> 1}]]"
   ]
  },
  {
   "cell_type": "code",
   "execution_count": 34,
   "metadata": {
    "vscode": {
     "languageId": "wolfram"
    }
   },
   "outputs": [
    {
     "data": {
      "text/html": [
       "<div><img alt=\"Output\" src=\"data:image/png;base64,iVBORw0KGgoAAAANSUhEUgAAAC4AAABCCAIAAACn7XNBAAAA0HpUWHRSYXcgcHJvZmlsZSB0eXBlIGV4aWYAAHjabU/RrQMhDPtnio4QkuDAOFxLpbfBG7/mDrWiqiUS4ziBpPH/90y3Cc2SvERFA4Tw5k07SZULV87SznhCx6rlXU+uS++UyqeA1ZCPXQ+sgfVrkKxBNl8gN18Na5Dpped+3Y/l117rPqjJBsj76z/vbqEoyOGMXCcCjbwmUiYUlRJ44g7QmPFQ8TvzQATbENNhfTZO6IjdPRKMwmOuYPO4dWZjzMaNGEHup0KHHqy20zPXeQFWDlq1YvBStAAAAAlwSFlzAAAOxAAADsQBlSsOGwAAADx0RVh0U29mdHdhcmUAQ3JlYXRlZCB3aXRoIHRoZSBXb2xmcmFtIExhbmd1YWdlIDogd3d3LndvbGZyYW0uY29tXKKmhQAAACF0RVh0Q3JlYXRpb24gVGltZQAyMDI0OjAzOjEwIDE2OjQzOjIwtxOLBAAAAiJJREFUaIHtmTGOskAYhj/MJhYWWlJYkBmMHsAWY6UcgdLawspYmWBhIxfwBkriBYSCingHEjHE2s5YWM0W/j9rdmfxY9ZdKeaplMw78wSHYT5HYYxBMSi9WuCDoqrouq4oiuu6+LxA5LvUPxXHcRRFmc/n+O4EItmpEgC4rhsEAWOsXq8jexSIPEyVAMCyrO12i+9RLPIwVdRp+1qkCg+pwoUxFsfx1+uUUvY9ApGHKUW+mTlIFR5Shccbsl2SJEmSCAygqmqr1UI1zV4JUmzbFvAAgMFggBwCe1fK5XK73d5sNrk8RqNRpVJBNsaqXK/X0+mkaVoulfP5fLlckI0LNG2lCo8f1UHD4VD5TxiG+FGfXAeZpun7/u05XCwWhmFgbJ5fB4Vh6Hme7/u3r5PJhFK6Wq2yU79SB+12O0opISQ1i+N4uVxmp36lDgqCQNf122fXdQ3DWK/XAHA4HMQ6FFdJcRxnOp0+ZSuIXW25mKYJAPv9/uceIHxXCCGe5xFC0t/+eDzez56/U+l0OgAwHo/TK0EQ9Ho9YQ9xFcuyKKXp2I7jeJ53byYCsqixbVvTtE87jH6/f9/PV7rd7v1+JXugNwAghIg9AnlXo+yBivo6fC1ShUeBVLALf61Wazabs9ksV+/ValVV1SerAEAURVEU5VIBgEajgWwp/1/hIVV4yEMYeQiDTRV12r4WqcJDqnBBFh+fkIcwf4VU4VEglXcLKDW2dSgRugAAAABJRU5ErkJggg==\"></div>"
      ],
      "text/plain": [
       "1   1                        1\n",
       "\n",
       "1   Item[0, Frame -> True]   1\n",
       "\n",
       "1   1                        1"
      ]
     },
     "execution_count": 34,
     "metadata": {
      "text/html": [],
      "text/plain": []
     },
     "output_type": "execute_result"
    }
   ],
   "source": [
    "CircleTimes[splarr[{1 -> 1, 1 + I -> 1}], splarr[{1 -> 1, I -> 1, -1 -> 1, -I -> 1}]]"
   ]
  },
  {
   "cell_type": "code",
   "execution_count": 35,
   "metadata": {
    "vscode": {
     "languageId": "wolfram"
    }
   },
   "outputs": [
    {
     "data": {
      "text/html": [
       "<div><img alt=\"Output\" src=\"data:image/png;base64,iVBORw0KGgoAAAANSUhEUgAAACEAAABGCAIAAADNd2raAAAAz3pUWHRSYXcgcHJvZmlsZSB0eXBlIGV4aWYAAHjabU/RbUQhDPtnihshJMGBcXh3nNQNOv6ZB2pFVUskjnECSeP7650eE5oleYmKBgjhzZt2kioLK2dpd7yhO7M+9OTYeqdUfi8wtn6demy/1j+DRBex+QK5+W7Yg0yXnvuqr+3XXus5qMkByM/X/63dQlGQwxldJQKNvCZSJhSVEnjjCdCY8VLxJ/NABNsQ02F9Nk7oiNM9EozCa65g87h1ZmPMxo0YQe63QodevG23Z67zAQ76WoWQrYKiAAAACXBIWXMAAA7EAAAOxAGVKw4bAAAAPHRFWHRTb2Z0d2FyZQBDcmVhdGVkIHdpdGggdGhlIFdvbGZyYW0gTGFuZ3VhZ2UgOiB3d3cud29sZnJhbS5jb21coqaFAAAAIXRFWHRDcmVhdGlvbiBUaW1lADIwMjQ6MDM6MTAgMTY6NDM6MjC3E4sEAAACFklEQVRYhe1Wsc6qMBj9ekPioIkLiSsBBh/AFeMkPIarDk6OJsQRX8DVrSS+gDqwQHwGB3BwdiAxDk7egdzGv5Ta8nsHTc8E9TucfvTwedDj8YD/DC3P8zzPazBbrZau60Klvu/XEACA0Wj0EIPWaDR6vd5ms5ESmE6nzWZTsFi73++Xy8UwDCmN6/V6u90Ei/9IPboevltjMpmgf0iSRPBZVSyGhud5+/2+sF0QBI7jiMjwWL7vG4ZBvBzHMQBkWUZWLMsaj8eU5QeDwfP3wWfRfRwOB8uyTNMsbpMkybJstVrxm+CzaI0oimzbLq7DMHQcB2MMAKfTiaPBZ1X6arlczudz2YnJZGnMUs/zACBNUymBKhbdh2mau93ONM3tdlusnM/n53fNBJ9Fa/T7fQCYzWZkJYqi4XDI7+AFi/JuYTvLsojT4acpmd7lsxjnkaap53kIoeJW8Ng5LPaZk9cqhSrWd89dpcGC1m63u93uer2Woum63ul0RDUQQsfjcbFYyO5OPMog2claA99y5p+WfQDAtm2EUBiGP1bLMdt1XWpKx3FcLqNQVBZ/4xjj559oDcHsQwFj7Louob/QCIKANEE4zHaZYGq8J/vw8ebsw8Q7s08V3pN95DTqZZ8XKHtDJPtI+YptStd1OZsoI8uy8u7JRtVsVxpKQ2l8tobKPir7/A4q+0ig7A2VfSrw3XP38zT+AjWU0elEDfPxAAAAAElFTkSuQmCC\"></div>"
      ],
      "text/plain": [
       "Item[0, Frame -> True]   0\n",
       "\n",
       "0                        1\n",
       "\n",
       "0                        1"
      ]
     },
     "execution_count": 35,
     "metadata": {
      "text/html": [],
      "text/plain": []
     },
     "output_type": "execute_result"
    }
   ],
   "source": [
    "Times[splarr[{1 -> 1, 1 + I -> 1}], splarr[{I -> 1}]]"
   ]
  },
  {
   "cell_type": "code",
   "execution_count": 36,
   "metadata": {
    "vscode": {
     "languageId": "wolfram"
    }
   },
   "outputs": [
    {
     "data": {
      "text/html": [
       "<div><img alt=\"Output\" src=\"data:image/png;base64,iVBORw0KGgoAAAANSUhEUgAAACEAAAAvCAIAAADijDRIAAAAz3pUWHRSYXcgcHJvZmlsZSB0eXBlIGV4aWYAAHjabU/RbQUhDPtnio4QkuDAONx7nNQNOn7NgVpR1RKJY5xA0vj6vNPHhGZJXqKiAUJ486adpMrCylnaEx/ozqwPPem99U6p/F5gbP069cAeWP8MEl3E5gvk5rthDzJdeu6rvrZfe63noCYHID9f/7d2C0VBDmd0lQg08ppImVBUSuDGC6Ax463iL+aBCLYhpsP6bJzQEad7JBiF91zB5nHrzMaYjRsxgtwfhQ69eNsez1znG044WrPNzk+0AAAACXBIWXMAAA7EAAAOxAGVKw4bAAAAPHRFWHRTb2Z0d2FyZQBDcmVhdGVkIHdpdGggdGhlIFdvbGZyYW0gTGFuZ3VhZ2UgOiB3d3cud29sZnJhbS5jb21coqaFAAAAIXRFWHRDcmVhdGlvbiBUaW1lADIwMjQ6MDM6MTAgMTY6NDM6MjC3E4sEAAAB2UlEQVRYhe2WsariQBSG/wkLFgo2go3FMEnhA9hGrCSPYJlWCytLQQQb8wK2dg74AmoxjcFnsMhYWFsExMJqttDNvXfd9Z4R9l5w/bsM+ebLZM4chhlj8I/zg/hemqZpmj4gKBQKMLQMBoMHBADCMKSuI5fL1Wq1+XxuJeh2u/l8nuo4n8+Hw4FzbuU4Ho+n08mxYh7L8zk6nQ77lTiOKTARuTqCIFitVpcyHY/Hvu9/qrFAjDHr9RqA1jo7Da7rttvt384H5zx7pCDGmEajEYahA2Cz2biuK4S4WOM41lpPJpM7i7BCHABKKc/zLs9SSt/3Z7MZgN1u9zeHFfKhrqIo6vf7Vl2Sgryd8yAIACRJQhcQEQeAEGK5XAohFovFZXS/37//3bexQhwA9XodQK/Xy0aVUs1m886n2SFZ5bmumxU7Ptblbe1SkKx2r/uRJEkQBIyxTHxnEbbI255nf5YeIvJ8fffl+CzUO0OxWKxWq9Pp1Gr2UqlULpepDsbYdrsdDodWDgCcc2bVZR/Ls+z5lzs8z2OMSSnpPAW5OqIoYoyNRiP67HTEASClVEoZYyqVClFghTgAWq2WbWO3Qp6yrl6Ob3fAGKO1vh3P7k5/jBXy6u3/n+MnFvLCta4guhAAAAAASUVORK5CYII=\"></div>"
      ],
      "text/plain": [
       "0   Item[0, Frame -> True]\n",
       "\n",
       "1   1"
      ]
     },
     "execution_count": 36,
     "metadata": {
      "text/html": [],
      "text/plain": []
     },
     "output_type": "execute_result"
    }
   ],
   "source": [
    "CircleTimes[splarr[{1 -> 1, 1 + I -> 1}], splarr[{I -> 1}]]"
   ]
  },
  {
   "cell_type": "code",
   "execution_count": 37,
   "metadata": {
    "vscode": {
     "languageId": "wolfram"
    }
   },
   "outputs": [],
   "source": [
    "li = normal[splarr[{0 -> #[[1]], 1 -> #[[2]], I -> #[[3]], -1 -> #[[4]], -I -> #[[5]] }]] & /@ Tuples[Prepend[I^Range[0, 3], 0], 5];"
   ]
  },
  {
   "cell_type": "code",
   "execution_count": 38,
   "metadata": {
    "vscode": {
     "languageId": "wolfram"
    }
   },
   "outputs": [
    {
     "data": {
      "text/html": [
       "<div><img alt=\"Output\" src=\"data:image/png;base64,iVBORw0KGgoAAAANSUhEUgAAADAAAAAcCAIAAACoDqudAAAA0HpUWHRSYXcgcHJvZmlsZSB0eXBlIGV4aWYAAHjabU9RjgUhCPv3FHsEBCx6HGeeL9kb7PG3jiYvbrbJUCgFhzR+vt/pa0KzJC9R0QAhvHnTzqTKwuIs7YkPbLdYH3rK99Y7pfJpYGz9OvXAYq1/Fonul+YLzM33wF5kuvTcV31tv/Zaz0VNDuDz6//WbqEoyOGMrhKBxrwmpiQUlRJ44wZozHip+E0eiOAYYjqsz8EJHXG6R4JReM0TbH5unWyM2XgRI5j7o9ChF7vt8cxzfgFIuFqvUaNXMAAAAAlwSFlzAAAOxAAADsQBlSsOGwAAADx0RVh0U29mdHdhcmUAQ3JlYXRlZCB3aXRoIHRoZSBXb2xmcmFtIExhbmd1YWdlIDogd3d3LndvbGZyYW0uY29tXKKmhQAAACF0RVh0Q3JlYXRpb24gVGltZQAyMDI0OjAzOjEwIDE2OjQzOjIwtxOLBAAAAdJJREFUSIntlz1uwjAUgJ2qx2CI7FyAPWZEPgLiBnhgQpm4ABkZkhsAR8AZnMWCkQvEIUKRuASSO1iNUpOCAxSqqt9EHo7f54f/cJRS4Dfxbt/0dDqVZXlbGtd1bZsqa/b7/W02rbI0VMjzPCmllBJCaHzV6XTm83m327VX2e124/H4PO44jha94j4ajaSUFyqUpqn9cJVSaZpeqBBCyIi8GX55np8X5ufo9/tGxBR6OX9RiFLqfCKEeLEQISRJEj0fZ7MZxvhOp7uEhBCMsSRJ9GMQBAihxWLxMqHNZoMQqlalEEJKGcfxI4VarXnOued5+vNqtcIYL5dLAECe55Y9uK5rNP4iRCkdDof2QhVhGE6n04Zt9xpBEFBKm4UopXEc+77ftlNCCOc8y7K2L1ZUZf4iFEWRUooQYt8RhJAxBiFcr9c6cjgc6rPqKrq09cHcNal7vR4AYDKZVBHO+flpcIGiKIzf5C6hwWCAEKoMwjBkjNX9bqDFBa2RLMsIIfouARqvE08WAgBUE+gh/MXD9bH8C13DFIqiSN9s7M+j29BZ9E5Wx1xlEMLvlq7jOL7vb7fboijsEx+Px8bj6Nss9jtHWZYYY3uVOvb/6VoIPYcP8suJyQSyCHEAAAAASUVORK5CYII=\"></div>"
      ],
      "text/plain": [
       "{Item[0, Frame -> True]}"
      ]
     },
     "execution_count": 38,
     "metadata": {
      "text/html": [],
      "text/plain": []
     },
     "output_type": "execute_result"
    }
   ],
   "source": [
    "Select[li, # + # == splarr[{}] &]"
   ]
  },
  {
   "cell_type": "code",
   "execution_count": 39,
   "metadata": {
    "vscode": {
     "languageId": "wolfram"
    }
   },
   "outputs": [
    {
     "data": {
      "text/html": [
       "<div><img alt=\"Output\" src=\"data:image/png;base64,iVBORw0KGgoAAAANSUhEUgAAADAAAAAcCAIAAACoDqudAAAA0HpUWHRSYXcgcHJvZmlsZSB0eXBlIGV4aWYAAHjabU9RjgUhCPv3FHsEBCx6HGeeL9kb7PG3jiYvbrbJUCgFhzR+vt/pa0KzJC9R0QAhvHnTzqTKwuIs7YkPbLdYH3rK99Y7pfJpYGz9OvXAYq1/Fonul+YLzM33wF5kuvTcV31tv/Zaz0VNDuDz6//WbqEoyOGMrhKBxrwmpiQUlRJ44wZozHip+E0eiOAYYjqsz8EJHXG6R4JReM0TbH5unWyM2XgRI5j7o6hlvdhtj2ee8wtIyFqwdG/fYAAAAAlwSFlzAAAOxAAADsQBlSsOGwAAADx0RVh0U29mdHdhcmUAQ3JlYXRlZCB3aXRoIHRoZSBXb2xmcmFtIExhbmd1YWdlIDogd3d3LndvbGZyYW0uY29tXKKmhQAAACF0RVh0Q3JlYXRpb24gVGltZQAyMDI0OjAzOjEwIDE2OjQzOjIxwBS7kgAAAdJJREFUSIntlz1uwjAUgJ2qx2CI7FyAPWZEPgLiBnhgQpm4ABkZkhsAR8AZnMWCkQvEIUKRuASSO1iNUpOCAxSqqt9EHo7f54f/cJRS4Dfxbt/0dDqVZXlbGtd1bZsqa/b7/W02rbI0VMjzPCmllBJCaHzV6XTm83m327VX2e124/H4PO44jha94j4ajaSUFyqUpqn9cJVSaZpeqBBCyIi8GX55np8X5ufo9/tGxBR6OX9RiFLqfCKEeLEQISRJEj0fZ7MZxvhOp7uEhBCMsSRJ9GMQBAihxWLxMqHNZoMQqlalEEJKGcfxI4VarXnOued5+vNqtcIYL5dLAECe55Y9uK5rNP4iRCkdDof2QhVhGE6n04Zt9xpBEFBKm4UopXEc+77ftlNCCOc8y7K2L1ZUZf4iFEWRUooQYt8RhJAxBiFcr9c6cjgc6rPqKrq09cHcNal7vR4AYDKZVBHO+flpcIGiKIzf5C6hwWCAEKoMwjBkjNX9bqDFBa2RLMsIIfouARqvE08WAgBUE+gh/MXD9bH8C13DFIqiSN9s7M+j29BZ9E5Wx1xlEMLvlq7jOL7vb7fboijsEx+Px8bj6Nss9jtHWZYYY3uVOvb/6VoIPYcP8suJyQSyCHEAAAAASUVORK5CYII=\"></div>"
      ],
      "text/plain": [
       "{Item[0, Frame -> True]}"
      ]
     },
     "execution_count": 39,
     "metadata": {
      "text/html": [],
      "text/plain": []
     },
     "output_type": "execute_result"
    }
   ],
   "source": [
    "Select[li, # * # == splarr[{}] &]"
   ]
  },
  {
   "cell_type": "code",
   "execution_count": 40,
   "metadata": {
    "vscode": {
     "languageId": "wolfram"
    }
   },
   "outputs": [
    {
     "data": {
      "text/html": [
       "<div><pre style=\"&#102;&#111;&#110;&#116;&#45;&#102;&#97;&#109;&#105;&#108;&#121;&#58;&#32;&#34;&#67;&#111;&#117;&#114;&#105;&#101;&#114;&#32;&#78;&#101;&#119;&#34;&#44;&#67;&#111;&#117;&#114;&#105;&#101;&#114;&#44;&#109;&#111;&#110;&#111;&#115;&#112;&#97;&#99;&#101;&#59;\">&#123;&#125;</pre></div>"
      ],
      "text/plain": [
       "{}"
      ]
     },
     "execution_count": 40,
     "metadata": {
      "text/html": [],
      "text/plain": []
     },
     "output_type": "execute_result"
    }
   ],
   "source": [
    "Select[li, # + # == splarr[{0 -> 1}] &]"
   ]
  },
  {
   "cell_type": "code",
   "execution_count": 41,
   "metadata": {
    "vscode": {
     "languageId": "wolfram"
    }
   },
   "outputs": [
    {
     "data": {
      "text/html": [
       "<div><img alt=\"Output\" src=\"data:image/png;base64,iVBORw0KGgoAAAANSUhEUgAAAGIAAAAcCAIAAAAV7/3oAAAA0HpUWHRSYXcgcHJvZmlsZSB0eXBlIGV4aWYAAHjabU/RbQUhDPtnio4QkuDAONw9ntQNOn7NgapS1dLFxjjhksbX5zt9TGiW5CUqGiCEN2/aKaosLM7SnvoAuu/y6ad8b7/TKr8axvav0w8s1vpnkOwXbL5Abb4b9iDT5ee+ztfOa6/1HNTkAOTn1/89u4WiIIezukoEGnVNlCQUlRJ44wYYzHip+E0eiGAbYiasz8YJHXGmR4LReM0VbH5unWys2bgRK6j9cdSyXrxtT2au8w1QKFq1rItAMgAAAAlwSFlzAAAOxAAADsQBlSsOGwAAADx0RVh0U29mdHdhcmUAQ3JlYXRlZCB3aXRoIHRoZSBXb2xmcmFtIExhbmd1YWdlIDogd3d3LndvbGZyYW0uY29tXKKmhQAAACF0RVh0Q3JlYXRpb24gVGltZQAyMDI0OjAzOjEwIDE2OjQzOjIxwBS7kgAAAjVJREFUaIHtmK+u6jAAxtvLFVgcYmIsfQEcYhAU7BEAha5ATk0SxCRiJDwA2SMsCBQJkhdgY2IJAoOHpEc0OWe3g1HWjnFz9lNN6fp9/VjXP5AQAkqe8Ze/6e12i6Iom4yqqtkelKL+lGq1Wq/X01oQbo7HY2Yf/Cp5qD+l2+2mq995mxBCvu/7vq9pGvOToijz+bzZbPI72O/3k8lEaBAC6jzMZrPz+UzLEEIAAEl8iNiYMMbr9ToZECWKolqt9tIMCsNQ1mTJoM7D9Xq9XC60TANCCB0Oh3ibP8wzQRA8yuj30Ov1mBo2ppK7lDFxIScmhBCE0HVdKb1JR9yeaEy2bUMIp9OpYD85IcueUEyu6242G0KIoiiCPvJAoj2hmAaDged5gg7yQ6I9NqZyNwAAUFU1CIJ4zT8xYYxHo9F7LX0ipmlijOM1PzFhjBeLha7rb3eVHcMwYAJZnSOEvss/MTmOQwgxDEOWzBvwPC95TBXv1rZty7Li55Uit5f0z99utwV6uEsYhsysKjKmfr8PAFitVgV64EQopiAI6BvRbrcBAMPhEEIYn9LpjMdjIOPGLid7cV64vUyiaZrIt8CyLACAaZoiHlIQtBenmEmHMX50AfaZFBMTXVWZq69PprxI4aKMiQs2Jsdx6OrAHGp+CXTsnU6HqWdXupTVAUKo6/putwvDkF/4dDpJOQBlU+fsudFo0PKjsb+wIahUKlEULZdLCdZeJ1f1VquV3gD+L0tysXwBaD1xdwz8WhUAAAAASUVORK5CYII=\"></div>"
      ],
      "text/plain": [
       "{Item[1, Frame -> True], Item[-1, Frame -> True]}"
      ]
     },
     "execution_count": 41,
     "metadata": {
      "text/html": [],
      "text/plain": []
     },
     "output_type": "execute_result"
    }
   ],
   "source": [
    "Select[li, # * # == splarr[{0 -> 1}] &]"
   ]
  },
  {
   "cell_type": "code",
   "execution_count": 51,
   "metadata": {
    "vscode": {
     "languageId": "wolfram"
    }
   },
   "outputs": [
    {
     "data": {
      "text/html": [
       "<div><img alt=\"Output\" src=\"data:image/png;base64,iVBORw0KGgoAAAANSUhEUgAAAGIAAAAcCAIAAAAV7/3oAAAA0XpUWHRSYXcgcHJvZmlsZSB0eXBlIGV4aWYAAHjabU/RbQUhDPtnio4QkuDAONw9ntQNOn7NgapS1dLFxjjhksbX5zt9TGiW5CUqGiCEN2/aKaosLM7SnvoAuu/y6ad8b7/TKr8axvav0w8s1vpnkOwXbL5Abb4b9iDT5ee+ztfOa6/1HNTkAOTn1/89u4WiIIezukoEGnVNlCQUlRJ44wYYzHip+E0eiGAbYiasz8YJHXGmR4LReM0VbH5unWys2bgRK6jdCqta1Yu37cnMdb4BUMRavs8KCYEAAAAJcEhZcwAADsQAAA7EAZUrDhsAAAA8dEVYdFNvZnR3YXJlAENyZWF0ZWQgd2l0aCB0aGUgV29sZnJhbSBMYW5ndWFnZSA6IHd3dy53b2xmcmFtLmNvbVyipoUAAAAhdEVYdENyZWF0aW9uIFRpbWUAMjAyNDowMzoxMCAxNjo0NToyOJyjXOoAAAI1SURBVGiB7ZivruowAMbbyxVYHGJiLH0BHGIQFOwRAIWuQE5NEsQkYiQ8ANkjLAgUCZIXYGNiCQKDh6RHNDlnt4NR1o5xc/ZTTen6ff1Y1z+QEAJKnvGXv+ntdouiKJuMqqrZHpSi/pRqtVqv19NaEG6Ox2NmH/wqeag/pdvtpqvfeZsQQr7v+76vaRrzk6Io8/m82WzyO9jv95PJRGgQAuo8zGaz8/lMyxBCAABJfIjYmDDG6/U6GRAliqJarfbSDArDUNZkyaDOw/V6vVwutEwDQggdDod4mz/MM0EQPMro99Dr9ZgaNqaSu5QxcSEnJoQQhNB1XSm9SUfcnmhMtm1DCKfTqWA/OSHLnlBMrutuNhtCiKIogj7yQKI9oZgGg4HneYIO8kOiPTamcjcAAFBVNQiCeM0/MWGMR6PRey19IqZpYozjNT8xYYwXi4Wu6293lR3DMGACWZ0jhL7LPzE5jkMIMQxDlswb8DwveUwV79a2bcuy4ueVIreX9M/fbrcFerhLGIbMrCoypn6/DwBYrVYFeuBEKKYgCOgb0W63AQDD4RBCGJ/S6YzHYyDjxi4ne3FeuL1MommayLfAsiwAgGmaIh5SELQXp5hJhzF+dAH2mRQTE11VmauvT6a8SOGijIkLNibHcejqwBxqfgl07J1Oh6lnV7qU1QFCqOv6brcLw5Bf+HQ6STkAZVPn7LnRaNDyo7G/sCGoVCpRFC2XSwnWXidX9Varld4A/i9LcrF8AWg9cXcM/FoVAAAAAElFTkSuQmCC\"></div>"
      ],
      "text/plain": [
       "{Item[1, Frame -> True], Item[-1, Frame -> True]}"
      ]
     },
     "execution_count": 51,
     "metadata": {
      "text/html": [],
      "text/plain": []
     },
     "output_type": "execute_result"
    }
   ],
   "source": [
    "Select[li, CircleTimes[#, #] == splarr[{0 -> 1}] &]"
   ]
  },
  {
   "cell_type": "code",
   "execution_count": 42,
   "metadata": {
    "vscode": {
     "languageId": "wolfram"
    }
   },
   "outputs": [
    {
     "data": {
      "text/html": [
       "<div><img alt=\"Output\" src=\"data:image/png;base64,iVBORw0KGgoAAAANSUhEUgAAADAAAAAcCAIAAACoDqudAAAA0HpUWHRSYXcgcHJvZmlsZSB0eXBlIGV4aWYAAHjabU9RjgUhCPv3FHsEBCx6HGeeL9kb7PG3jiYvbrbJUCgFhzR+vt/pa0KzJC9R0QAhvHnTzqTKwuIs7YkPbLdYH3rK99Y7pfJpYGz9OvXAYq1/Fonul+YLzM33wF5kuvTcV31tv/Zaz0VNDuDz6//WbqEoyOGMrhKBxrwmpiQUlRJ44wZozHip+E0eiOAYYjqsz8EJHXG6R4JReM0TbH5unWyM2XgRI5j7o6ipXuy2xzPP+QVI2Fqxt3X/3gAAAAlwSFlzAAAOxAAADsQBlSsOGwAAADx0RVh0U29mdHdhcmUAQ3JlYXRlZCB3aXRoIHRoZSBXb2xmcmFtIExhbmd1YWdlIDogd3d3LndvbGZyYW0uY29tXKKmhQAAACF0RVh0Q3JlYXRpb24gVGltZQAyMDI0OjAzOjEwIDE2OjQzOjIyWR3qKAAAAdJJREFUSIntlz1uwjAUgJ2qx2CI7FyAPWZEPgLiBnhgQpm4ABkZkhsAR8AZnMWCkQvEIUKRuASSO1iNUpOCAxSqqt9EHo7f54f/cJRS4Dfxbt/0dDqVZXlbGtd1bZsqa/b7/W02rbI0VMjzPCmllBJCaHzV6XTm83m327VX2e124/H4PO44jha94j4ajaSUFyqUpqn9cJVSaZpeqBBCyIi8GX55np8X5ufo9/tGxBR6OX9RiFLqfCKEeLEQISRJEj0fZ7MZxvhOp7uEhBCMsSRJ9GMQBAihxWLxMqHNZoMQqlalEEJKGcfxI4VarXnOued5+vNqtcIYL5dLAECe55Y9uK5rNP4iRCkdDof2QhVhGE6n04Zt9xpBEFBKm4UopXEc+77ftlNCCOc8y7K2L1ZUZf4iFEWRUooQYt8RhJAxBiFcr9c6cjgc6rPqKrq09cHcNal7vR4AYDKZVBHO+flpcIGiKIzf5C6hwWCAEKoMwjBkjNX9bqDFBa2RLMsIIfouARqvE08WAgBUE+gh/MXD9bH8C13DFIqiSN9s7M+j29BZ9E5Wx1xlEMLvlq7jOL7vb7fboijsEx+Px8bj6Nss9jtHWZYYY3uVOvb/6VoIPYcP8suJyQSyCHEAAAAASUVORK5CYII=\"></div>"
      ],
      "text/plain": [
       "{Item[0, Frame -> True]}"
      ]
     },
     "execution_count": 42,
     "metadata": {
      "text/html": [],
      "text/plain": []
     },
     "output_type": "execute_result"
    }
   ],
   "source": [
    "Select[li, # + # == # &]"
   ]
  },
  {
   "cell_type": "code",
   "execution_count": 43,
   "metadata": {
    "vscode": {
     "languageId": "wolfram"
    }
   },
   "outputs": [
    {
     "data": {
      "text/html": [
       "<div><img alt=\"Output\" src=\"data:image/png;base64,iVBORw0KGgoAAAANSUhEUgAAAFYAAAAcCAIAAAB099+qAAAA0HpUWHRSYXcgcHJvZmlsZSB0eXBlIGV4aWYAAHjaXU/REUIhDPtnCkeAtqQwDu+Jd27g+IYH6mHuaEOaFhr66/kItwFJMVj2ggpEwqpVaSQlTsycYr3ihYxVS7se0rn0Rin/CuhLP3bd1yApf4OiTKLjBXK11bAGqUw9tXk/ll9aKfugGjd8fv792d/d1AUZyY3RJLqjkpdAyoQsMTseOAEaE+4S7WTucGcbfDi0jcYB6b67e4BSuI8VdBzTxqyMSbkRI8jtUkRFDlbr5RnrvAFUolq51iN9tQAAAAlwSFlzAAAOxAAADsQBlSsOGwAAADx0RVh0U29mdHdhcmUAQ3JlYXRlZCB3aXRoIHRoZSBXb2xmcmFtIExhbmd1YWdlIDogd3d3LndvbGZyYW0uY29tXKKmhQAAACF0RVh0Q3JlYXRpb24gVGltZQAyMDI0OjAzOjEwIDE2OjQzOjIyWR3qKAAAAmdJREFUWIXtmT2yqjAUx5M3dwP2FEzIBuzBUlkCWlmnsHKwobSR0gJ2oCxBKFIxWroBQMZhxk04k1tkno+HlzuQ+DX3+qs0knNy/iY5JwEyxsDv5qP5o+fzuSgKMTeqqop1fIR31pjD4SA2glZeHu/9i1mAMU7TNE1ThFDlJ0VRlstlt9tt7n6/308mE+HR39A7hBAAwK4WflUCQkgURdfBc4qi6HQ6rWZ1nufCE/i23nnwGOMkScrP/Kn0ybKsLv6fQb/fr7RUJfiFvCW4hQSEEPiXOI7lDbYFYwwhDIJArLusBKZpRlHEs8tisTAM45EquK4LIZzP5zJGpCSI4zgMwyiK+FfbtjVNW61WMjabEwQBpZQxpiiKjB0pCbbbraZplwwSx3Gapr7vy9hsjmVZm81G3k5VglYZkVKKMeafgyAwDGO9XgMAsiyTH9mdUFW1Mrz/JCCEjEYjAbuu6zqOc114vSC2bRNCyi3/JCCE+L6v63pbo6ZpUkorJdeLc5m8oCyB53mMMdM0mxtCCIVhiBC6rMnj8VjeHV4QPmHLf5jUdtjr9QAA0+n00kIpva5A63hKKZHneWWmS0lgWZamaZeYXdcNw7CsyPcMBgMAwMOSaB2ypVGSJLw4gxDOZjPGWPNVMB6PgcRtSpZl3K9hGACA4XAIISwv8oa0uDWqQzg5O44DALBtW6w7QugmOeg5xyR+rABfXWA8nudIwLPPi+TR92H5LcG1BJ7n8W32let8MXhcvJYpU80I32yzEEJd13e7XZ7nzR2fTieBovse3mvjar4nF0XBM7AAMm8B7u29hQQ/lU/0eKSDBYhNbgAAAABJRU5ErkJggg==\"></div>"
      ],
      "text/plain": [
       "{Item[0, Frame -> True], Item[1, Frame -> True]}"
      ]
     },
     "execution_count": 43,
     "metadata": {
      "text/html": [],
      "text/plain": []
     },
     "output_type": "execute_result"
    }
   ],
   "source": [
    "Select[li, # * # == # &]"
   ]
  },
  {
   "cell_type": "code",
   "execution_count": 52,
   "metadata": {
    "vscode": {
     "languageId": "wolfram"
    }
   },
   "outputs": [
    {
     "data": {
      "text/html": [
       "<div><img alt=\"Output\" src=\"data:image/png;base64,iVBORw0KGgoAAAANSUhEUgAAAKYAAAAcCAIAAABku1MzAAAA0HpUWHRSYXcgcHJvZmlsZSB0eXBlIGV4aWYAAHjaXU/bDQMhDPtnio6QFwmMw12p1A06fs1BW1FLJMZxAkn99Xyk24AwJctRvLoTYNWqNJBCEzMz1SteaL5qvOuJz6U3SPlX8L70Y9djDZLyN4hkEh0vgKuthjVIZerc5v1Yfmml7IMqbfj8/Puzv7tpiGfnMEQTivAKXhIokmehHP7w0x1G9ruQncjdI9DmMRzaRuOA9NjdPblCuI8VdBzThqyIrNgI0cFN8xVZDlTr5RnrvAGV2lrofr0SSQAAAAlwSFlzAAAOxAAADsQBlSsOGwAAADx0RVh0U29mdHdhcmUAQ3JlYXRlZCB3aXRoIHRoZSBXb2xmcmFtIExhbmd1YWdlIDogd3d3LndvbGZyYW0uY29tXKKmhQAAACF0RVh0Q3JlYXRpb24gVGltZQAyMDI0OjAzOjEwIDE2OjQ1OjQxsyVDyAAAAzRJREFUaIHtmr1S6kAYhr89nkJLOgsKTHIDdBbEscJcAlpZb2HlhIbSYcaUFDDjBUjuAJIiVUZLL0ASM05mLGjsZWZPsXM4OYlAdjc/CHkqCNl9350X9ucLiBACFfvE7/S3LhaLMAz5ZBqNBl9DVso1KaK+kcPDw+Pj4ww6Iql5e3srQEWQck2KqG/k/Pxc3CEh5JtfuaIonud5nidJUuyjer0+GAyazWZ6oy8vLzc3N0JjZYTD5GQy6ff7Zamnod/vz+dzpiYIIQAgiYU7HjnG2LbtZNiUMAxrtRrTBBgEQX5z3bdwmDw6OsrKJId6Gr6+vj4/P5ma0LAVRZnNZtHrv2L3+b6/Ku+Kn0i73Y5diUdesfNUke8dGUSOMUZ/cV03ZStFURBCpmmKG9haRSb47HG0Eo1c0zTbtunu//7+XlXVjakbhoEQuru7E5ROT/GKTPDZ4x6UUOSu61qWZds2favruizLj4+Pa5qYpuk4DiGkXq+LSKeneEUm+OyJDEoo8qenJ1mWlzt813U9zxuNRmuadDqd6XQqIspK8YpM8NkTGVQ8cqYTmuM4iqLQ16Zpqqo6Ho8BwPd9PjcVmdNoNGJx/Bc5xvjq6oqjX8Mwer1estBTUTq6rmOMo1f+RY4xHo1GrVaLtVNN0xzHiZV4KpZomoYSFOxhORlDNPLhcEgI0TQtfUeSJFmWJUnScl15f3+Pru4VADCdTpPPNgpTpxNw9AcptH07OzsDgNvb2+UVx3GSFT5BWE/8u6QuThAEsZlbKPJOpyPL8jJjwzAsy4p+AzLh4uICANaf/fKjXPU8EC3FzGYzWgBCCHW7XULI+lnd9316s6qqAHB5eYkQiq40Sa6vr0Hg/wscihmq52RPZFAM/4pZBdMBUZIk1pWs1+sBgK7rbLYEFDNU3wifPZFBbfVjFVq9h++e8++8en5sdeT0EFHW8a9c9fzY6sgr8qCKfO+IRz4cDulWsKqT/3RojrR2EiW+Y1+zFUQItVqt5+fnIAjSC398fHAUcbnhM/n6+pqJST71lD2fnJwwNVmVI8Mh7eDgIAzDh4cHJuGCKddkruqnp6eZ9IN27ARSsZE/RFjDYCvSHxsAAAAASUVORK5CYII=\"></div>"
      ],
      "text/plain": [
       "{Item[0, Frame -> True]   1, Item[1, Frame -> True], Item[-1, Frame -> True]   1}"
      ]
     },
     "execution_count": 52,
     "metadata": {
      "text/html": [],
      "text/plain": []
     },
     "output_type": "execute_result"
    }
   ],
   "source": [
    "Select[li, CircleTimes[#, #] == # &]"
   ]
  },
  {
   "cell_type": "code",
   "execution_count": 44,
   "metadata": {
    "vscode": {
     "languageId": "wolfram"
    }
   },
   "outputs": [
    {
     "data": {
      "text/html": [
       "<div><pre style=\"&#102;&#111;&#110;&#116;&#45;&#102;&#97;&#109;&#105;&#108;&#121;&#58;&#32;&#34;&#67;&#111;&#117;&#114;&#105;&#101;&#114;&#32;&#78;&#101;&#119;&#34;&#44;&#67;&#111;&#117;&#114;&#105;&#101;&#114;&#44;&#109;&#111;&#110;&#111;&#115;&#112;&#97;&#99;&#101;&#59;\">&#123;&#125;</pre></div>"
      ],
      "text/plain": [
       "{}"
      ]
     },
     "execution_count": 44,
     "metadata": {
      "text/html": [],
      "text/plain": []
     },
     "output_type": "execute_result"
    }
   ],
   "source": [
    "Select[li, # + # == splarr[{1 -> 1}] &]"
   ]
  },
  {
   "cell_type": "code",
   "execution_count": 45,
   "metadata": {
    "vscode": {
     "languageId": "wolfram"
    }
   },
   "outputs": [
    {
     "data": {
      "text/html": [
       "<div><pre style=\"&#102;&#111;&#110;&#116;&#45;&#102;&#97;&#109;&#105;&#108;&#121;&#58;&#32;&#34;&#67;&#111;&#117;&#114;&#105;&#101;&#114;&#32;&#78;&#101;&#119;&#34;&#44;&#67;&#111;&#117;&#114;&#105;&#101;&#114;&#44;&#109;&#111;&#110;&#111;&#115;&#112;&#97;&#99;&#101;&#59;\">&#123;&#125;</pre></div>"
      ],
      "text/plain": [
       "{}"
      ]
     },
     "execution_count": 45,
     "metadata": {
      "text/html": [],
      "text/plain": []
     },
     "output_type": "execute_result"
    }
   ],
   "source": [
    "Select[li, # * # == splarr[{1 -> 1}] &]"
   ]
  },
  {
   "cell_type": "code",
   "execution_count": 53,
   "metadata": {
    "vscode": {
     "languageId": "wolfram"
    }
   },
   "outputs": [
    {
     "data": {
      "text/html": [
       "<div><img alt=\"Output\" src=\"data:image/png;base64,iVBORw0KGgoAAAANSUhEUgAAAPYAAAAcCAIAAADdr9V7AAAA0HpUWHRSYXcgcHJvZmlsZSB0eXBlIGV4aWYAAHjaXU9bjsQgDPvnFHsESIIDx6EtleYGe/w1hZ0RYwnHOA9I6L+vO/wMSIrBshdUIBJWrUqjKHFixhTrww9urFza/ZDO5Tda+ZNAX/6x+74GSfkaFGUKHS9Qq62GNUhl+qnN+7HqpZWyD6pxw//P3z/7upu6ICO5kU2iOyp1CZQMyBKz48YJsDDhkmgnY4c72+CjQttoHJDue3UPUBrXWEHHMW2MSk7Kjcigtofpy0Gujx7r/AGdKlrshlpTQQAAAAlwSFlzAAAOxAAADsQBlSsOGwAAADx0RVh0U29mdHdhcmUAQ3JlYXRlZCB3aXRoIHRoZSBXb2xmcmFtIExhbmd1YWdlIDogd3d3LndvbGZyYW0uY29tXKKmhQAAACF0RVh0Q3JlYXRpb24gVGltZQAyMDI0OjAzOjEwIDE2OjQ2OjAzK/JIDgAAA8lJREFUeJztnLFO6zAUhu1Lh65sDBlKkhdgY0gQE/QRChOzByYUli5ICImMDKnEAhPkEZoMWYhg5AWaEKFIDDAwsIGUO0S33Jv2IvvYaeLK30SDnP/8zt/WPU6Li6JACsXy0hF+xq+vrzzPYWN7vZ7QWrj4+Ph4e3sDDOx2u2tra1KrUyJFkagQzdPTU3uK4eHq6grmYnt7W3b1ZSpyzqu4aZpJkiRJous6zICmaRcXFxsbG/RDHh8fDw8PYXI10el0NE27u7tjGnV2dvb6+iq7OiXtKRJjjBAq5q26qxEnhIRhCA53SZ7nq6urTKuOLMvAy5uaKFdcrGunz8/P9/d32dUpaU+RZbhN05xMJpV//ao8TtOUM98KRVPs7OzMHqxGXKFYMlTEFUsOMOKmaWKMfd+nH0IIwX+I4ximKxxWI826AKsDrheYWqcIYIQ54q7rYoxPT0+ZRvX7/TAMyybO+fm5bduNpxxgpFkXMHXY9QJT3xSBjbBF3Pf9KIqKotA0jX5UHMdBEIRhWD50HMcwjJubGyZpsQCMNOsCpg67XmDqmyIeI2wRHwwG4/GYVeP+/t4wjGmjJo7jJElGoxHreQQCMNKsC5g67HqBqW+KeIxUI15HxzCKItM0y79937dt+/b2FiGUpqlwrfpo1oUUc9h4kb1eb1brn4gTQvb39+urwHXd4XA4dwtKIpp1IcUcNlWk4ziEkMrB791NQshoNPI8ryb5fr+PEJrdfKpJKwiCykEhM75IF21TpwRQpNjrVdnj/H4V9zyvKIqyPrHouh4Ega7r0+XU8/Pz34s24YzH49nbcTjPuXgX7VGnBFykqOtVvntUnl2L2PrZ2tpCCB0dHU2PRFE0d691Li1ppXO6QHxG+NUpkaLI/5FlmWVZlYOLiPhgMDAMY2rVdd0gCP6eiJ/Z3d1FCDXbZETcLhCfEX51SqQokgm2iKdpWj7LbdtGCO3t7WGMpx+if2AymZT7Uhjj4+Pjoijo32EPDg6Q6G9LwIzwuEDcRgDqAJuLL5IGcPAQ67d+dF0HL2rBfc3hcIgQchwHNnwuYCM8bWZ+I6zqAJuLL5IGnuC1+jas8m4HJKgZ0iBSGJGiSACtjnjZ5Gl5j4wGKYxIUSSAVkdcoeBHRVyx5FQj7nle+dG1VTc/KBQ/U4a2bMxXqHZUeD66TsUsy3p4eMiyjH7Uy8vLbNO+WbrdrmVZ19fXTKMwxuvr67KrU9KeIn8IrfifClpZWcnz/PLyUviZF0yn08nz/OTkhHXg5uam7OqUSFEkXrIOkUJR4TdCkfqh1Zn2SwAAAABJRU5ErkJggg==\"></div>"
      ],
      "text/plain": [
       "{1   Item[0, Frame -> True], -1   Item[0, Frame -> True], Item[0, Frame -> True]   1, \n",
       " \n",
       ">   Item[0, Frame -> True]   -1}"
      ]
     },
     "execution_count": 53,
     "metadata": {
      "text/html": [],
      "text/plain": []
     },
     "output_type": "execute_result"
    }
   ],
   "source": [
    "Select[li, CircleTimes[#, #] == splarr[{1 -> 1}] &]"
   ]
  },
  {
   "cell_type": "code",
   "execution_count": 46,
   "metadata": {
    "vscode": {
     "languageId": "wolfram"
    }
   },
   "outputs": [
    {
     "data": {
      "text/html": [
       "<div><img alt=\"Output\" src=\"data:image/png;base64,iVBORw0KGgoAAAANSUhEUgAAAHwAAAAcCAIAAAAsiEyzAAAA0HpUWHRSYXcgcHJvZmlsZSB0eXBlIGV4aWYAAHjabU/tbQUhDPvPFB0hJMGBcbh7PKkbdPyaA7WiqiVi43xA0vj6fKePCc2SvERFA4Tw5k07RZWFxVnaEx/EvXP59FPeidxpld8Exvav0w8s1vpnkOgSNl+gNt8Ne5Dp8nNf92vXa6/1HNTkAOTn6//e3UJRkMMZXSUCjbomShKKSgm8cQMszHip+E0eiGAbYlZYn40TOuKsHglG4zVXsHncOtkYs3EjRlD746iZXsy2p2au8w2Z61rpjY+G4QAAAAlwSFlzAAAOxAAADsQBlSsOGwAAADx0RVh0U29mdHdhcmUAQ3JlYXRlZCB3aXRoIHRoZSBXb2xmcmFtIExhbmd1YWdlIDogd3d3LndvbGZyYW0uY29tXKKmhQAAACF0RVh0Q3JlYXRpb24gVGltZQAyMDI0OjAzOjEwIDE2OjQzOjIzLhravgAAAtpJREFUaIHtmbFuqzAUhu2ru3TszkCBF8geMjY8Au2U2UOmiC4Zo0hh7EDeoOUNCgxMqB3zAAkERUh9iUq+g3UpJU2ufZwScsU3JQZz/vMj28cGU0pRR7P85r/14+OjKApYGFVVYR1FuQiRAqYXRXFzcwML09h4ugiR35huGEaapmmaappWu6QoyuPjY6/X4w+wWq3G47GURkEAIl9eXubz+cmVYIzRd++ybjohJIqifbsZRVFcX18LDcM8z8HjHQZA5NXV1U+IZHYbhrHZbKrtv2r3ZVl2yPEOGLe3t7WWuukdDdCZfgZOYDohBP8lSRLOXoZhYIx935cXwANMJA+ARGRNtywriiJKKaV0sViYpvnPlFzXxRjPZjPJ0PwARPIATkTK9CRJwjCMooj9dRxH1/Wnp6cjXXzfj+OYUqooikxofgAieZBJRMr019dXXdfLaidJkjRNl8vlkS62bQdBIBNUFIBIHmQSqZsuVC/GcWwYBvvt+75pms/PzwihLMtgan6Cs4tUVbUW64vphJD7+3vAc13XnU6nLT87O5dIx3EIIdWWT9MJIcvlst/viz7Usqw4jmubrrYhKtKyLLyHjIBytKGq6Z7nUUoty+J/kKZpYRhqmlbObrvdrjqBtgGYyCAI6B4wAWyEVd+31EI6GAwQQpPJpGyJ43h/1yuJZHHdjMgj5Hlemz+kTLdtW9f1MgHXdcMwrKZ3EobDIUIIXOQ1I1II2c3RZrNhWzKM8cPDA6X0+LDNsozdbJomQuju7g5jXJ3v9hmNRkjuC4OoSB4AiZQIfMQ4hFC5qmma6OQ4nU4RQo7jiMn6ysk3B4BESlp94MUOTFCD33SaodWms4Kq5cUogFab/r/SmX4G6qZ7nscW5Vadn1wozEm2UahSr16OLMoY436///b2luc5f+D393fA0QIYmMj1ev0TIg86yV8YFEXBalIA2+0W1lGUixApYHrHqfgDFZimyiB4cyoAAAAASUVORK5CYII=\"></div>"
      ],
      "text/plain": [
       "{Item[0, Frame -> True]   1, Item[0, Frame -> True]   -1}"
      ]
     },
     "execution_count": 46,
     "metadata": {
      "text/html": [],
      "text/plain": []
     },
     "output_type": "execute_result"
    }
   ],
   "source": [
    "Select[li, # * # == splarr[{2 -> 1}] &]"
   ]
  },
  {
   "cell_type": "code",
   "execution_count": 58,
   "metadata": {
    "vscode": {
     "languageId": "wolfram"
    }
   },
   "outputs": [
    {
     "data": {
      "text/html": [
       "<div><pre style=\"&#102;&#111;&#110;&#116;&#45;&#102;&#97;&#109;&#105;&#108;&#121;&#58;&#32;&#34;&#67;&#111;&#117;&#114;&#105;&#101;&#114;&#32;&#78;&#101;&#119;&#34;&#44;&#67;&#111;&#117;&#114;&#105;&#101;&#114;&#44;&#109;&#111;&#110;&#111;&#115;&#112;&#97;&#99;&#101;&#59;\">&#123;&#125;</pre></div>"
      ],
      "text/plain": [
       "{}"
      ]
     },
     "execution_count": 58,
     "metadata": {
      "text/html": [],
      "text/plain": []
     },
     "output_type": "execute_result"
    }
   ],
   "source": [
    "Select[li, CircleTimes[#, #] == splarr[{2 -> 1}] &]"
   ]
  },
  {
   "cell_type": "markdown",
   "metadata": {},
   "source": [
    "## 逆数の実験"
   ]
  },
  {
   "cell_type": "code",
   "execution_count": 212,
   "metadata": {
    "vscode": {
     "languageId": "wolfram"
    }
   },
   "outputs": [
    {
     "data": {
      "text/html": [
       "<div><img alt=\"Output\" src=\"data:image/png;base64,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\"></div>"
      ],
      "text/plain": [
       "                                         1\n",
       "                             --------------------------\n",
       "                             Item[0, Frame -> True]   1\n",
       "\n",
       "Item[0, Frame -> True]       1                        0\n",
       "\n",
       "            1\n",
       "--------------------------\n",
       "Item[0, Frame -> True]   1\n",
       "\n",
       "1                        0   0"
      ]
     },
     "execution_count": 212,
     "metadata": {
      "text/html": [],
      "text/plain": []
     },
     "output_type": "execute_result"
    }
   ],
   "source": [
    "splarr[{1 -> 1, I -> 1}] / splarr[{1 -> 1, I -> 1}]"
   ]
  },
  {
   "cell_type": "code",
   "execution_count": 219,
   "metadata": {
    "vscode": {
     "languageId": "wolfram"
    }
   },
   "outputs": [
    {
     "data": {
      "text/html": [
       "<div><img alt=\"Output\" src=\"data:image/png;base64,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\"></div>"
      ],
      "text/plain": [
       "                                               1\n",
       "                                 ------------------------------\n",
       "                                 0   1                        0\n",
       "\n",
       "                                 1   Item[0, Frame -> True]   1\n",
       "\n",
       "0                                0   1                        0\n",
       " \n",
       "\n",
       "\n",
       "\n",
       "\n",
       "\n",
       "\n",
       ">    0\n",
       "\n",
       "              1\n",
       "------------------------------\n",
       "0   1                        0\n",
       "\n",
       "1   Item[0, Frame -> True]   1\n",
       "\n",
       "0   1                        0   Item[0, Frame -> True]\n",
       " \n",
       "                   1\n",
       "     ------------------------------\n",
       "     0   1                        0\n",
       "\n",
       "     1   Item[0, Frame -> True]   1\n",
       "\n",
       ">    0   1                        0\n",
       "\n",
       "                                               1\n",
       "                                 ------------------------------\n",
       "                                 0   1                        0\n",
       "\n",
       "                                 1   Item[0, Frame -> True]   1\n",
       "\n",
       "0                                0   1                        0\n",
       " \n",
       "\n",
       "\n",
       "\n",
       "\n",
       "\n",
       "\n",
       ">    0"
      ]
     },
     "execution_count": 219,
     "metadata": {
      "text/html": [],
      "text/plain": []
     },
     "output_type": "execute_result"
    }
   ],
   "source": [
    "splarr[{1 -> 1, I -> 1, -1 -> 1, -I -> 1}] / splarr[{1 -> 1, I -> 1, -1 -> 1, -I -> 1}]"
   ]
  },
  {
   "cell_type": "code",
   "execution_count": 231,
   "metadata": {
    "vscode": {
     "languageId": "wolfram"
    }
   },
   "outputs": [
    {
     "data": {
      "text/html": [
       "<style>\n",
       "\t\t\t\t\t\t\t\t\t\t\t\t\t.grid-container {\n",
       "\t\t\t\t\t\t\t\t\t\t\t\t\t\tdisplay: inline-grid;\n",
       "\t\t\t\t\t\t\t\t\t\t\t\t\t\tgrid-template-columns: auto;\n",
       "\t\t\t\t\t\t\t\t\t\t\t\t\t}\n",
       "\t\t\t\t\t\t\t\t\t\t\t\t</style>\n",
       "\n",
       "\t\t\t\t\t\t\t\t\t\t\t\t<div><div class=\"grid-container\"><div class=\"grid-item\"><img alt=\"Output\" src=\"data:image/png;base64,iVBORw0KGgoAAAANSUhEUgAAAC8AAAA5CAIAAAApyuV9AAAA0XpUWHRSYXcgcHJvZmlsZSB0eXBlIGV4aWYAAHjabU9BjsQgDLvzinlCSIIDz6EzVNof7PPHFHZXXY2lOsY4KUnj++tMjwnNkrxERQOE8OZNO0WVhVWztIsv6Lnv8t1P1rbfaZW/C4ztH3c/sAfWf4NEl7D5B2rz3bAHmS4/93U+dl57rfdB+0U/gPw+/ePZLRQFOZzsKhFo1DVRsqColMCJJ8BgxkvFn6wDEWxDzIT12TihI+7pkWA0XnMFm59bZzVyNm5ErkuT1ZoeVO3KzHXeYARawQxoJbYAAAAJcEhZcwAADsQAAA7EAZUrDhsAAAA8dEVYdFNvZnR3YXJlAENyZWF0ZWQgd2l0aCB0aGUgV29sZnJhbSBMYW5ndWFnZSA6IHd3dy53b2xmcmFtLmNvbVyipoUAAAAhdEVYdENyZWF0aW9uIFRpbWUAMjAyNDowMzoxMCAxODoxMDoyOUSlaGMAAAHRSURBVFiF7ZgxroIwGID/vngMYwww6EzipKvhCFyhPYDG3aUcAI4AGyssXTBu3oAmxov0DU2MrwL6gEfxpd9CA7V8/P4t/UFCCBgNX7oFftCDjeM4CKEkSTTbBEGAEDoej909utokScIYE0JMp1P9Nr7vZ1nWl4fk32VxjxibeoxNA6ItnPPn0Wzbbj2gEAKZt2YtxqYeY1OPsalnIg9pmqZpqsXgcDgsl0vZNqtfPcamnk+wkYUSIUS/DSHker1SSgdWqbYJwzAMw+FV4DPyRhfGpoHnjbsym+I47lIG/Ir2FcyvKIoCADjntm3Lh8QY/6FN5eiKzT3SshajlCrdJsofd7lcbrebcnKxWNy3IF2I49j3fQCwLAtjzBjb7XaPHQbN4sevYPP5vCxLpYMaG9d1Xdd9/wae5+V5LttRFMmGaLuD6xqbLMue8+adHzLGHMdRTqqxGYYgCPI8f/6uMKjNZrO5t6tD2NcMb0bO8KIomruN680wLpvR11OEELkvRgh5nqfZBgD2+z3nXAhRluXpdNJsQym1LAsAttvt+XzWbPPIbDYbwEPywiaKotVqNYwKQNXqhzG+X325XvVLbd7Iy+v1eqiwAJjVr4lxxeYbp9eF7Oe/WaIAAAAASUVORK5CYII=\"></div><div class=\"grid-item\"><img alt=\"Output\" src=\"data:image/png;base64,iVBORw0KGgoAAAANSUhEUgAAADMAAAAsCAIAAABHQxczAAAAz3pUWHRSYXcgcHJvZmlsZSB0eXBlIGV4aWYAAHjabU/RbQUhDPtnio4QkuDAONw9ntQNOn7NgVpR1dLFxjjhksbX5zt9TGiW5CUqGiCEN2/aKaosLM7SnvrAbN/l0096b7/TKr8XGNu/Tj+wWOufQaL7pfkCtflu2INMl5/7Ol87r73Wc1CTA5CfX//37BaKghzO6ioRaNQ1UZJQVErgjRtgMOOl4jd5IIJtiJmwPhsndMSZHglG4zVXsPm5dbKxZuNGrHVpVrWmF1V7MnOdb07CWrihDA+LAAAACXBIWXMAAA7EAAAOxAGVKw4bAAAAPHRFWHRTb2Z0d2FyZQBDcmVhdGVkIHdpdGggdGhlIFdvbGZyYW0gTGFuZ3VhZ2UgOiB3d3cud29sZnJhbS5jb21coqaFAAAAIXRFWHRDcmVhdGlvbiBUaW1lADIwMjQ6MDM6MTAgMTg6MTA6MjlEpWhjAAABv0lEQVRYhe2YQZKCMBBFu6fmCCxdWMAxdI1H8ARWxXO4IRfwCHgE3WQTVl5AFoartIs4GQR0gGQgNeNfUaTyeTTphG4kIvBSH1MDPJUtWZ7niFiWZRzHiIiI2+3WCRmQnaSU2ifLMiJSSgFAmqaWtkTkhkxjaTHGkiSxtCUiN+tsNpuZ6/l8fr1e7T3/bgY0JYSI49je59PeoirO+el00nlgKTdky+XSXJOjrdvN15RSmpxyYgj/KwNcCR3G3638jdmbrL/8JbvvtJfLpSiKaVEAIAgCs2n7G7P3rtFfb7L+mpjMVFx5nteGpiTjnG82G13mVP/wtLzIzbIsoyiqkXixzs7nc5Ik9bvNQi+KIngsIX9VumhQStXuP8SMc46Iu91urGDdv6OUMgzD2tA32eFwEEIQUbWsHQdrsVi0DDfD22wIDJa2UkrpFQIAjDEzyhirktS6IbZk1Sc9s4JB/ZgxcjPLsvV6DQBhGDLGhBBdZo1BNqwfM5BstVrpU2W/3+OXhlk5Jjsej8111mVi936M447La/Xrx5g3bp2gjzP73Gw+7kfZdkNfS5NV+zHd5cWJ3ip/ybz4P2uVvzG7Ae0LNgsz3PyFAAAAAElFTkSuQmCC\"></div></div></div>"
      ],
      "text/plain": [
       "  1\n",
       "-----\n",
       "1\n",
       "- + p\n",
       "p\n",
       "  p\n",
       "------\n",
       "     2\n",
       "1 + p"
      ]
     },
     "execution_count": 231,
     "metadata": {
      "text/html": [],
      "text/plain": []
     },
     "output_type": "execute_result"
    }
   ],
   "source": [
    "1 / (p + 1 / p)\n",
    "p / (p^2 + 1)"
   ]
  },
  {
   "cell_type": "code",
   "execution_count": 535,
   "metadata": {
    "vscode": {
     "languageId": "wolfram"
    }
   },
   "outputs": [
    {
     "data": {
      "text/html": [
       "<div><img alt=\"Output\" src=\"data:image/png;base64,iVBORw0KGgoAAAANSUhEUgAAACwAAAAtCAIAAABauh7zAAAA0XpUWHRSYXcgcHJvZmlsZSB0eXBlIGV4aWYAAHjabY/hrcMgDIT/M0VHMDacYRySUKkbdPweAbXi6Z2EfXzYThz6+/UMjyGNElL2ggoIlWqq2miKTM0cpd7xlp7rLe486LV4I8q/B/TFj5071sDyZ5DoNDa+QG9pNaxBppPHNu/HqtdWyj6oyibI99f/vSdzRUb0xJhU3FHpS6BlQlbJjidOgIURl0o6mTvc2QYfFdZG45B236t7gBFcYwUbJ1ljNsZo3Igk3qQwqpke9PUmY50PlOpa4+qsIvkAAAAJcEhZcwAADsQAAA7EAZUrDhsAAAA8dEVYdFNvZnR3YXJlAENyZWF0ZWQgd2l0aCB0aGUgV29sZnJhbSBMYW5ndWFnZSA6IHd3dy53b2xmcmFtLmNvbVyipoUAAAAhdEVYdENyZWF0aW9uIFRpbWUAMjAyNDowMzoxMCAyMTowODoyM0ezwhIAAAE3SURBVFiF7ZcxjoQgFIZ5mzmGhRm4hr1H4AIWeA4qLsARpKPFhgaPoV6FLVg2ZmZ24iIZLfgajMH3vogRfvDeo7P5OlsAoYMShBAAUEqdIyGEAADO+cH26RJKKWut976qqtMkKKXGmCzt0yWyUyQiRSJyCQnk/8+yLM91MMYJpQJQNrAfikSkSESKROQWBq211vqTjbuua5omXJefVaRIRIpE5KoSucJdokTecJcikT3cpUhkD3cIoWmaAGBd17DEAND3/TuJNF4WfQBjzDkPJ2QppRAis8QehmGglCKE7vc7Y8xae4LE9iOr63qe5zwSbduGNZZSQiTZMlHCGBNyC2PsN8PsedBaSwh5uHlLk0hDCDGO44sAdzDcbd/EM865v9ptScmi+wkSzrn30666gX2ectCNfAPJ6rinI+/oCgAAAABJRU5ErkJggg==\"></div>"
      ],
      "text/plain": [
       "  1\n",
       "-----\n",
       "1 + p"
      ]
     },
     "execution_count": 535,
     "metadata": {
      "text/html": [],
      "text/plain": []
     },
     "output_type": "execute_result"
    }
   ],
   "source": [
    "Limit[Sum[- 1 / (-p)^i, {i, n}], {n -> Infinity}, Assumptions -> p > 1]"
   ]
  },
  {
   "cell_type": "code",
   "execution_count": 548,
   "metadata": {
    "vscode": {
     "languageId": "wolfram"
    }
   },
   "outputs": [
    {
     "data": {
      "text/html": [
       "<div><img alt=\"Output\" src=\"data:image/png;base64,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\"></div>"
      ],
      "text/plain": [
       "         2    3    4    5    6    7    8       9\n",
       "1 - x + x  - x  + x  - x  + x  - x  + x  + O[x]"
      ]
     },
     "execution_count": 548,
     "metadata": {
      "text/html": [],
      "text/plain": []
     },
     "output_type": "execute_result"
    }
   ],
   "source": [
    "Series[1 / (1 + x), {x, 0, 8}]"
   ]
  },
  {
   "cell_type": "code",
   "execution_count": 537,
   "metadata": {
    "vscode": {
     "languageId": "wolfram"
    }
   },
   "outputs": [
    {
     "data": {
      "text/html": [
       "<style>\n",
       "\t\t\t\t\t\t\t\t\t\t\t\t\t.grid-container {\n",
       "\t\t\t\t\t\t\t\t\t\t\t\t\t\tdisplay: inline-grid;\n",
       "\t\t\t\t\t\t\t\t\t\t\t\t\t\tgrid-template-columns: auto;\n",
       "\t\t\t\t\t\t\t\t\t\t\t\t\t}\n",
       "\t\t\t\t\t\t\t\t\t\t\t\t</style>\n",
       "\n",
       "\t\t\t\t\t\t\t\t\t\t\t\t<div><div class=\"grid-container\"><div class=\"grid-item\"><img alt=\"Output\" src=\"data:image/png;base64,iVBORw0KGgoAAAANSUhEUgAAAGkAAAAcCAIAAADtDwYfAAAAz3pUWHRSYXcgcHJvZmlsZSB0eXBlIGV4aWYAAHjabU9bDsMgDPvnFDtCXjhwHNoyaTfY8RcKm9Zplhob46Qk9efjnm4DwpQse0EFKGDVqrQQhSYmM9WznkBdd3z1E+/Lb2Hlr4a+/O3qOyZL+RlEMoWOP4RWWw1rkMr0uc3ztvLSSrkOej91AfR5+t+zqQsy2C2qCbmjhi4pZBCyUHbcsQMRZBxCtgd3uEcbfCS0jcYB6X5N9wQN4xgr6PhMW7BGZY2NwuGpz6qyhapnZqzzAlmNWrMzqOaGAAAACXBIWXMAAA7EAAAOxAGVKw4bAAAAPHRFWHRTb2Z0d2FyZQBDcmVhdGVkIHdpdGggdGhlIFdvbGZyYW0gTGFuZ3VhZ2UgOiB3d3cud29sZnJhbS5jb21coqaFAAAAIXRFWHRDcmVhdGlvbiBUaW1lADIwMjQ6MDM6MTAgMjE6MTA6MTOUSpCOAAABZElEQVRoge2ZvYmEQBiG7zsEAwWTARMDUQMLsABDSzC0AlsQwcgqDAUbMLIOEzswGBADo9nsAr2Vm8+Zu3N3ntj33ZcH/GEWGGMfChQapZRSikiapkkIET7oThRFgQtmWcbeG03X9SiKuq7jEpfnuWEYOOkvg7Zt2zzPrutyxZZlWddVzqTb8PnXA26McodHucPz1F0QBADQtq3wn+RtlrEE0XmMfOOurmsAqKpKwMZrzTKWIDqfRfbu2rYdhoEx5jjO1ZnXmmUsQXSeRPbu0jTt+17AzAO8zTKWIDpPIupdgUe5wyPMXZIkcEBU+f+coYkqkvSU5OU3Z6h7Fo9yd4GiKFzX/TqTmqbpeI3v+7ujqziOec/vftiMvl7GhvPI/nnneR6TcwrP2yxjCaLzJKLuWTzKHR7lDo9yh0e5w6NZlhWGYdM0XDFCiG3bcibdBg0AxnEsy5I3yfvX2usBkr7m3oEHFOtVy0w/eu4AAAAASUVORK5CYII=\"></div><div class=\"grid-item\"><img alt=\"Output\" src=\"data:image/png;base64,iVBORw0KGgoAAAANSUhEUgAAACEAAAAcCAIAAABgYkFLAAAAz3pUWHRSYXcgcHJvZmlsZSB0eXBlIGV4aWYAAHjabU9RbsUgDPvnFDtCSIIDx6F9PGk32PFnCtrENEuNHddJmzS+Pt/pY0KzJC9R0QAhvHnTTlFlYXGW9tQHupn94ad8b7/TKr8vMLZ/nX5gL6x/FokuYfML1OZ7YC8yXX7uq792Xnut56ImByA/v/5v7xaKghzO6ioRaNQ1UZJQVErgjRtgMOOl4jd5IIJjiJmwPgcndMSZHglG4zVPsPm4dbKxZuNFdPLSTzW9qNqTmed8A0fdWqeodlSKAAAACXBIWXMAAA7EAAAOxAGVKw4bAAAAPHRFWHRTb2Z0d2FyZQBDcmVhdGVkIHdpdGggdGhlIFdvbGZyYW0gTGFuZ3VhZ2UgOiB3d3cud29sZnJhbS5jb21coqaFAAAAIXRFWHRDcmVhdGlvbiBUaW1lADIwMjQ6MDM6MTAgMjE6MTA6MTOUSpCOAAAA9UlEQVRIie2WsQmEMBiF846AhYJNwMZCJIUD2LqHdk7gCiJYOYVlwAWsnMPKCSwCYmGV6+UuJMIdh9xfv+99gQTyQylFPjxUSimlvEB6nscYM4rWdX1BQAgpy1KZDXUcJ03TYRisBFVVua5rGKbHcazrGkWRlWPbtn3fDcMPq+prc3sH5xyAEMKq7iX1wtF1HYC2ba3aNdTZIYSYpkkpFYahuUBPnR15no/jaN5uQt3+Xf0dP+FYlgUAgCzLCCFFUQDgnOtb9BQ9peM4vvD76qm73sff8X6o7/tJkvR9b4UxxoIgMHUAmOe5aRrb05mvMvjCLvoEY0B9/5C9oLMAAAAASUVORK5CYII=\"></div><div class=\"grid-item\"><img alt=\"Output\" src=\"data:image/png;base64,iVBORw0KGgoAAAANSUhEUgAAAGIAAAAcCAIAAAAV7/3oAAAAzXpUWHRSYXcgcHJvZmlsZSB0eXBlIGV4aWYAAHjabU/bDQMhDPtnio6QFw6Mw12p1A06fsOBqlLV0sXGOOGS+uv5SLcBYUqWvaACFLBqVVqIQhOTmepVL0DWHe9+4nP5Laz81dCXf+y+Y7KUn0G0XtDxQmi11bAGqUyf2zwfKy+tlH1QpQ2gz6//PZu6IIPdopqQO2rokkIGIQtlxwMnEEHGXcjO4A73aIOPhLbROCDd93RP0DDuYwUdn2kL1qissVE4PPVVVY5Q9cqMdd5PPlqspowmjgAAAAlwSFlzAAAOxAAADsQBlSsOGwAAADx0RVh0U29mdHdhcmUAQ3JlYXRlZCB3aXRoIHRoZSBXb2xmcmFtIExhbmd1YWdlIDogd3d3LndvbGZyYW0uY29tXKKmhQAAACF0RVh0Q3JlYXRpb24gVGltZQAyMDI0OjAzOjEwIDIxOjEwOjEzlEqQjgAAAgdJREFUaIHtmbGq6kAQhmcvAQsFm4Bt2E3hA9hGrEwew1YLK0shCDabp7DbgC+gFmn0ISyMhbVFQCys9hThBG/0xN3cXa5y8lWy/H+c+ZGdCSLOOVS8wkiSJEmSEs5Go2GapvKC3hTf98sZB4MB/zUYtVqt0+ksl0upjMbjcb1eL5fvJ2Lcbrfz+WxZlpTtcrlcr1c9Jb0jf/53AZ9BFZMQVUxC/BiTbdsIoTAMxZ81Go3QN7vdTodFtz7lsfcnMQVBgBCaz+eCD03xPG+z2aTjk1LqOM7LsmQtuvVQ0Lvv+5ZlZQsCY8x1Xc75drsFAMbY0z2i1+vd702pOI7j7IQQMhwOCzYRWYtuPS/sPR9T7msEY6KUEkJyXgAoqEnWolt/z2Pvaq7wKIps204/h2HoOA5jDACOx6Mqi259MYonXRAE0+mUy7xOy1p0659i/Is5h+d5AHA4HPRZdOt/Qs2vCWO8Xq8xxqvVKj05nU6EEIyxKotufTFqYup2uwAwmUyykyiK+v2+Qotu/QuUTDrOOSEkmyyUUvh7GD9F1qJbn/F6IYjj+DHK+8ma8hgT59x13cwiUk0Ji1Z9Qe/5KxxjzMsOhewW0GfRqi/ovXr1FaKKSYgqJiGqmISoYhLCaDab7XZ7sVhI2UzTbLVaekp6RwyE0H6/n81msk7ZP2M+GlR6S/pVfAGv8XjDDEP6lwAAAABJRU5ErkJggg==\"></div></div></div>"
      ],
      "text/plain": [
       "Item[1, Frame -> True]   -1   1   -1   1\n",
       "Item[1, Frame -> True]   1\n",
       "Item[1, Frame -> True]   0   0   0   0   1"
      ]
     },
     "execution_count": 537,
     "metadata": {
      "text/html": [],
      "text/plain": []
     },
     "output_type": "execute_result"
    }
   ],
   "source": [
    "splarr[{0 -> 1, 1 -> -1, 2 -> 1, 3 -> -1, 4 -> 1}]\n",
    "splarr[{0 -> 1, 1 -> 1}]\n",
    "\n",
    "%% * %"
   ]
  },
  {
   "cell_type": "code",
   "execution_count": 542,
   "metadata": {
    "vscode": {
     "languageId": "wolfram"
    }
   },
   "outputs": [
    {
     "data": {
      "text/html": [
       "<style>\n",
       "\t\t\t\t\t\t\t\t\t\t\t\t\t.grid-container {\n",
       "\t\t\t\t\t\t\t\t\t\t\t\t\t\tdisplay: inline-grid;\n",
       "\t\t\t\t\t\t\t\t\t\t\t\t\t\tgrid-template-columns: auto;\n",
       "\t\t\t\t\t\t\t\t\t\t\t\t\t}\n",
       "\t\t\t\t\t\t\t\t\t\t\t\t</style>\n",
       "\n",
       "\t\t\t\t\t\t\t\t\t\t\t\t<div><div class=\"grid-container\"><div class=\"grid-item\"><img alt=\"Output\" src=\"data:image/png;base64,iVBORw0KGgoAAAANSUhEUgAAAR8AAAAcCAIAAADX1iwAAAAAznpUWHRSYXcgcHJvZmlsZSB0eXBlIGV4aWYAAHjabU9tbsUgDPvPKXYE8oEDx6F9VNoNdvyZB9PENEuNHeOkShpfn0/6mFDJyUtUNCAT3rxpp6h5YbHk9q6rebaS009y70CnVX4fMLZ/nX5gsdY/i7IuYfMP1OZ7YC8yXb701V87r73Wc1HLB/Aj5P/eLRQFEs7qmiPQqGuiJKFoLoEHN8Cg4KXZb/JABMcQM2F9Dk7oiDM9EozGa55g83PrZGMV40V0ZGlWtaoXVXtn5jnflkla4oVFd+oAAAAJcEhZcwAADsQAAA7EAZUrDhsAAAA8dEVYdFNvZnR3YXJlAENyZWF0ZWQgd2l0aCB0aGUgV29sZnJhbSBMYW5ndWFnZSA6IHd3dy53b2xmcmFtLmNvbVyipoUAAAAhdEVYdENyZWF0aW9uIFRpbWUAMjAyNDowMzoxMCAyMToxMDoyOCi1GsUAAALKSURBVHic7ZyxqupAEIY3l4CFB2wCtiGx8AFsFW1MHiOtFlaWglhq5RuolYIvkDQ2+hAWRsHaQhALq72FXAnqibvr7mhy5ysOEvK732QYImuOGqWUIAiiAP14PB6PR4Hkz8+PYRjShRAkNejD4bDX6wkkPc8bjUbShRAkNeiZTKZUKs3nc65Yq9XKZrOKnBAkHeiXy+VwOJimyRU7nU7n81mNEoKkhD+fFkCQ1ILThSCqwOlCEFX8Ol2FQkHTtNlsxv5ezWZT+8dqtVIUYYFLHkab93ryLgFQBYASI4npb7fbNU2TRuj3+4SQ6XR6/UufUa1WPc+LHnEcx7bt6Dssl8un2XciL2GRB9bmVRJYAqAKACUWktXf++maTqeO41BKl8sl+3RdTw7D8HbEtu1GoxHjJBB5CaM8pDavksASAFUAKLGQuP4+uXdFl2Gcrn6/fxv3W5YQElOGQIQdxqsPqc0+XbxLAFQBoMRFUvorZ1djsVgUCoXr69lsVi6XrzfK7XYrMSKd79TmXQKgCgAlFXy8v5L3DAeDQafToTxPBgtEpPOd2rxLAFQBoKSCT/VXfyd8h+u6hJDNZqMo4rpuEAR3B9/vnGptMXiXAKgC4PyU9VfOvcuyrCAILMvyff96ZL/f27ZtWZbEiO/7j593v19btRVAFQBKJI39lTNdlUqFENJut29HFotFvV6XG5HOd2rzLgFQBYCSCj7fXyl7hpRS27bvviWIbms+RSDCCPsGHZg2u5LAEgBVACixk5T+3k9XGIaPExjdo7zyOF2UUsdxbpGXNsKRGBjl33dgj4gpCVgBXHwApXgS11+t2+1OJpPdbvd4Ugy1Ws00TfzvSQSJAZ/iRRBV4HQhiCpwuhBEFThdCKIKnC4EUYWey+WKxeJ4POaKGYaRz+fVKCFIStA1TVuv1wI/acj7M1II8r+h0U8/v4wgaeUv9YSKjhCCYOEAAAAASUVORK5CYII=\"></div><div class=\"grid-item\"><img alt=\"Output\" src=\"data:image/png;base64,iVBORw0KGgoAAAANSUhEUgAAAEIAAAAcCAIAAABasv44AAAA0HpUWHRSYXcgcHJvZmlsZSB0eXBlIGV4aWYAAHjabU9tbsUgDPvPKXYE8oEDx6F9PGk32PFnCtrENEuNjXFCk8bX5zt9TKjk5CUqGpAJb960U9S8sFhye+oD130np5/k3n6nVX4vMLZ/nX5gsdY/g/J+weYL1Oa7YQ8yXb70db52Xnut56CWDyD//Pq/Z7dQFEg4K/eMQKOuiZKEorkE3rgBBgUvzX6TByLYhpgJ67NxQkec6ZFgNF5zBZufWycbqxg3oiNLs6pVvajak5nrfANMrFqwbDVm6wAAAAlwSFlzAAAOxAAADsQBlSsOGwAAADx0RVh0U29mdHdhcmUAQ3JlYXRlZCB3aXRoIHRoZSBXb2xmcmFtIExhbmd1YWdlIDogd3d3LndvbGZyYW0uY29tXKKmhQAAACF0RVh0Q3JlYXRpb24gVGltZQAyMDI0OjAzOjEwIDIxOjEwOjI4KLUaxQAAAdtJREFUWIXtmLGKwjAch5Oj4KDgUnBxKEkHH8C14qR9hI7ODk7iJBTBxbyAq5MGfAHTIVPxGRysg7NDQRyceoNckerl2phyKn6TFr/y+9E0/lsYRRF4fbQwDMMwlDBLpZKu68oDSeK6rpzY6XSip0ErFAr1en25XGbq0Ov1isWiXP880M7n8+FwMAwjk3Y8Hk+nUz6RZPj67wBq+NR4Jn6tYZomhJBSmv5c3W4X/uD7fk7K3WB3ahBCIITj8TjNSWNs2/Y877L9TSYTy7L+jJVVEQRL1qCUcs6jKKpWq+k7+L7PGPM87/J1MBhgjOfzuUJFHCxZw3Gc1WqVvsCF9XqNMUYIxRGDIJhOpwoVcTA1tzjn3DTNy2dKqWVZi8UCALDb7RQqAhTvVISQ4XAYZRk3JZRbtEfkBLZtAwC2222uyl3UXA2EEGMMIRQv3/1+f730lSgC1NRoNBoAgH6/Hx/hnLdaLbWKADU1HMfBGMchCCGMseuIShQRrusahhEP7kEQ3P4GY5yY75vN5u3zRrvdjpWUzwnpFXGw5C2OEJLeNCT+cNIr4mDvPhq+Fp8az8Sb1NDK5XKtVpvNZpk0XdcrlUo+kWTQIISbzWY0GmU1s75MyRX44Gj5JHwDNRL0ACRjLBcAAAAASUVORK5CYII=\"></div><div class=\"grid-item\"><img alt=\"Output\" src=\"data:image/png;base64,iVBORw0KGgoAAAANSUhEUgAAAUQAAAAcCAIAAACWIlG/AAAAznpUWHRSYXcgcHJvZmlsZSB0eXBlIGV4aWYAAHjabU/tbQUhDPvPFB2BfODAONw9ntQNOn7NQVVR1RKxMU5Q0vj6fKePCZWcvERFAzLhzZt2ipoXFktuT33gvpWcfpJ7Cem0yu8Dxvav0w8s1vpnUNYlbP5Abb4b9iDT5Utf92vntdd6Dmr5AH6E/H93C0WBhLO65gg06pooSSiaS+CNG2BQ8NLsN3kggm2ImbA+Gyd0xJkeCUbjNVewedw62VjFuBEdWZpVrepF1Z7MXOcbURVas69gz8QAAAAJcEhZcwAADsQAAA7EAZUrDhsAAAA8dEVYdFNvZnR3YXJlAENyZWF0ZWQgd2l0aCB0aGUgV29sZnJhbSBMYW5ndWFnZSA6IHd3dy53b2xmcmFtLmNvbVyipoUAAAAhdEVYdENyZWF0aW9uIFRpbWUAMjAyNDowMzoxMCAyMToxMDoyOCi1GsUAAALZSURBVHic7d2xiupAFAbgySVg4YKNYBsSCx/AVtHG5DFstbCyFMRSK99ArRR8gaSx0YewMArWFoJYWM0twpWgbsyMmTh3+L9iWcI5e87McHQ3oqtRSgkA/P/08/l8Pp85Mn9+fvL5fOINAQAffTweDwYDjsxmszmZTBJvCAD46JlMplwuL5dLprROp5PNZgX1BAAc9NvtdjqdDMNgSrtcLtfrVUxLAMDjz7cbAIBkYJgBFIFhBlDEr8NcLBY1TVssFvF/Vrvd1v7ZbDYiUkTHK1OCMJ5gCquISba25SxBXm5Uv983DIOGDIdDQsh8Pg++0ldqtVqz2QxfsW3bsqzwT1iv1y9zuVNExytTIs4JpryKOCRsW84Sv23U4zDP53Pbtiml6/U6/jAHwb7v369YltVqtSIaYk0RHa9MiZgnmOYq4pCwbTlLRGzUi2fmcJmYwzwcDu+PLvdcQkhET6wpouOVKfEQ/HYqUlgFE3nalrPEQ3B4o5K5AbZarYrFYvD9YrGoVCrB7wD7/T6pFNHxypRglcIqRJBz8797vgnfzR6NRr1ej7K8eYM1RXS8MiVYpbAKEeTc/K+cr/5J8gPHcQghu91OXIroeGVKsBK9CsdxPM97uPj5o4Ccm/+t803mmdk0Tc/zTNN0XTe4cjweLcsyTTOpFNHxypRglcIqCCGu6z7/1Sd523KWiJDMMFerVUJIt9u9X1mtVo1GI8EU0fHKlGCVwipEkHPzv3y+idzNppRalvXwcln4hvtLrCmi45UpEYh5W5ivBHdXb0nVtpwlAu9fmvJ9/3ngw3fPA8/DTCm1bfueEqcbjhTR8QqUiHmCH7bElxJB2rZlKxGxUVq/35/NZofD4TkiQr1eNwwDH04AIA+80QJAERhmAEVgmAEUgWEGUASGGUARei6XK5VK0+mUKS2fzxcKBTEtAQAPXdO07XbL8dHZrB/oCQBCaRT/ngZACX8BgcmRozkKnnoAAAAASUVORK5CYII=\"></div></div></div>"
      ],
      "text/plain": [
       "Item[1, Frame -> True]   0   0   -1   0   0   1   0   0   0   0   0   -1   0   0   1\n",
       "Item[1, Frame -> True]   0   0   1\n",
       "Item[1, Frame -> True]   0   0   0   0   0   0   0   0   1   0   0   -1   0   0   0\n",
       " \n",
       ">       0   0   1"
      ]
     },
     "execution_count": 542,
     "metadata": {
      "text/html": [],
      "text/plain": []
     },
     "output_type": "execute_result"
    }
   ],
   "source": [
    "splarr[{0 -> 1, 3 -> -1, 6 -> 1, 12 -> -1, 15 -> 1}]\n",
    "splarr[{0 -> 1, 3 -> 1}]\n",
    "\n",
    "%% * %"
   ]
  },
  {
   "cell_type": "code",
   "execution_count": 589,
   "metadata": {
    "vscode": {
     "languageId": "wolfram"
    }
   },
   "outputs": [
    {
     "data": {
      "text/html": [
       "<div><img alt=\"Output\" src=\"data:image/png;base64,iVBORw0KGgoAAAANSUhEUgAAANkAAAAVCAIAAABE9tzuAAAA03pUWHRSYXcgcHJvZmlsZSB0eXBlIGV4aWYAAHjabY9rbsQgDIT/c4o9gl/YcByyYaXeoMffcaCtUu1IsYcP28Flfn+9yiMlTMVqNO/uBFm3LgOm0dLKTP2Kl86+7/jOC9fNB1D9u/C5+XHn4StL+zeIZBnNP8Cr7YY9SGVxHut87HoZrd0H/Tx1y+n36R/PpiFencMQTSjCO3wrsEhehWr4y5/uKGQ/heyJPD0CbR5ZoSMbUzLjXj2LK8CZK2h+pgNZEVmxEQjDV7DkJgdiv3yu8wZel1q3qqm54gAAAAlwSFlzAAAOxAAADsQBlSsOGwAAADx0RVh0U29mdHdhcmUAQ3JlYXRlZCB3aXRoIHRoZSBXb2xmcmFtIExhbmd1YWdlIDogd3d3LndvbGZyYW0uY29tXKKmhQAAACF0RVh0Q3JlYXRpb24gVGltZQAyMDI0OjAzOjEwIDIxOjUwOjA05rWSrAAAA2tJREFUaIHtmr1OwzAQx888BxPOMzCgZsV5hISpUyXnAWBhZEnE3EpMTCSPkClLMvUZiFUx8BpmOAhRSlPn41xA+Q/ItVz/7pyz73DKtNYwa9Yv0NlJqI7jMMYYY2VZUrPKsmSMxXFMDQIA9iU7FM/zSEGkqmMgTVPsOUEsxnG8Wq201kVRuK5LjXNdVwhBTQEAxlhRFFpr0lQThmGSJDXFwmamUBiGGANa6yAIPnv16VRVFbUBUsokSaSUURSRgqIookbUIM65trJ6dOKcV1WFbXxGWuvT5GjUdrslPbHKslRK+b5Ph6iV5zl8ZU/S1Hl7e/v8/MwYu76+1n+21nccZ7vdAoBSarPZYOdZa0Qzf5NKKRUEwXq9pkMsl0vS+VvK8xw3OgDQrWGapq7raq0fHh4YY0qp8XN6nlfXoD8m/bq26zVtx7fW63UQBLijpJSfvbh8URQBQJIk+Jf6iMb8UldXFCqKouU/pjYiCSFqd0jztRCifkDN9mBxzoUQ2D4UAPWAAZJSdg8QQmC+PgOANE1xT5+fn/cK/GFSSnHOi6JYLBZ0lMVi0VyOKIpeX1/pcMvl8uXlBdtPT09XV1d0rLe3N2yM9yiO46qqsizDj77vSynv7+9HTtvLAAC4uLgAzNG+79fWTKIwDFvXKHhWY0J5fHwEANd1sXPkbUs3a0J1g3zfV0phz2q1GrnNOlhZlt3d3dWgkdVwnuffKRIAAG5ubqqqMvn3fMzKp2mKg3e73XfsNU9LzGuT5Gj0EM9ebA+exxrLGsimU90sAGiVE1g+tWLgUI42MdLE2U9jmh8mjEWttRCCc44lyODS0NCTSVjWQDadIo1FEyOpYvHHK5iu2QH2ve2lHp4MZf1LpwxZ42PxqJHmzva7X8yy7JAp+6rrht1u14sCjVuGzWZj8mJtDOtfOmXI4py3Jn9/fweAy8tLQ9AYI9tqPoBpczQASClHzmm4qyZhWQPZdKqbhXd5rfH7p2DHuXjUyNPXi1hGYBsdHlbxmHgyFcsayKZTR1kYTNg+VPYdikUTI/vFIpYILY25Geact8za7zHUUU8mZFkD2XTKJBSaz71+TdzUj7FoaKR5LDL9Z99pzrImz/MG30CHYWj4JvaUv42YNaup+VycdVyO49Q/UaP71hyLs36L5hw967foA+iqWrIyTIi4AAAAAElFTkSuQmCC\"></div>"
      ],
      "text/plain": [
       "     2    4    6    8       9\n",
       "1 - x  + x  - x  + x  + O[x]"
      ]
     },
     "execution_count": 589,
     "metadata": {
      "text/html": [],
      "text/plain": []
     },
     "output_type": "execute_result"
    }
   ],
   "source": [
    "Series[1 / (1 + x^2), {x, 0, 8}]"
   ]
  },
  {
   "cell_type": "code",
   "execution_count": 590,
   "metadata": {
    "vscode": {
     "languageId": "wolfram"
    }
   },
   "outputs": [
    {
     "data": {
      "text/html": [
       "<style>\n",
       "\t\t\t\t\t\t\t\t\t\t\t\t\t.grid-container {\n",
       "\t\t\t\t\t\t\t\t\t\t\t\t\t\tdisplay: inline-grid;\n",
       "\t\t\t\t\t\t\t\t\t\t\t\t\t\tgrid-template-columns: auto;\n",
       "\t\t\t\t\t\t\t\t\t\t\t\t\t}\n",
       "\t\t\t\t\t\t\t\t\t\t\t\t</style>\n",
       "\n",
       "\t\t\t\t\t\t\t\t\t\t\t\t<div><div class=\"grid-container\"><div class=\"grid-item\"><img alt=\"Output\" src=\"data:image/png;base64,iVBORw0KGgoAAAANSUhEUgAAAKsAAAAcCAIAAACRRdiDAAAA0XpUWHRSYXcgcHJvZmlsZSB0eXBlIGV4aWYAAHjabY/bbQUhDET/qSIl+IUN5bB7uVI6SPkZLygRUUbCHg62d13m1+e7fKSEqViN5t2dIOvWZcA0WlqZqT/x0bj2G5+88L35AKq/Dz43v04evrK0P4NIltH8ArzabtiDVBbnse7XrpfR2jmo0yGnn1//924a4tU5DNGEIrzDtwKL5FWohr/9dkch+0vIbuTpEWjzyAod2ZiSGWf1LK4Ar1xB85gOZEVkxUYgDF/Bkle5EPvjc51v1dpbDMLJmK4AAAAJcEhZcwAADsQAAA7EAZUrDhsAAAA8dEVYdFNvZnR3YXJlAENyZWF0ZWQgd2l0aCB0aGUgV29sZnJhbSBMYW5ndWFnZSA6IHd3dy53b2xmcmFtLmNvbVyipoUAAAAhdEVYdENyZWF0aW9uIFRpbWUAMjAyNDowMzoxMCAyMTo1MDowNZGyojoAAAJ1SURBVGiB7Zq9CuowGIaTQ8FBwaXg4lCaDl6Aa0UX7SU4Ojs4iZNQBJf2JtTFFryBtkMXexEO/oCzQ0EcnHqGckSsShJj7aF5Nku/fE/qi5pEGEUR4OQYIQzDMAwpKkulkiiKzIU4aaPrOl1hr9eLOP8/QqFQqNfrq9WK6O0fDAbFYpEuOpxMIVyv19PpJEkSUdn5fL5cLt9R4qTKn18LcH4MT0De4QnIOy8ToCgKhNC2bfyx+v0+/EcQBCz0aEwoNFJowVyDziHZ4kkCTNOEEE6nU8xBYzRN8zwvXmAYhqGq6uePhsKEVCOFFjiQalA4vGrxmADbtn3fj6KoWq1i2gAAgiBwXdfzvPjlaDRCCC2XS/wRklCYkGqk0AIHUg0Kh3ctdF2XJCm5UbBerwEAlmU93UZoNpv3O0KGYSCEHmoBAJ/sVGCa3EOtkUILHDA1PnFItmDzS9D3fUVRbnFTVdWyLADAfr9nMn52NLIwU7YOjNcCpmmOx+Po16dNKWhkYaZMHARWNgAATdMAANvtFv9+13UfLn7+TEk1vt0i49Nk8xkgy7LrurIsO44TXzkejwghWZbfVDmOk/yiSl/j2y0yPk02CWg0GgCA4XB4u+L7frvdZjJ4pjSyMFO2DmwS0O12EUI3CdM0Xde9V0yHFDSyMFPGDg+rwd1ul7znfu0R87AajOl0OrcSnJXJezBNkuBrpNACBzoNIoc3LaCu64vF4nA4PA/IC1qtliRJs9mMqIqTQfjJUN7hCcg7PAF5hycg7/AE5B2hXC7XarX5fE5UJopipVL5jhInVQQI4WazmUwmpJWkfy/mZBMY/focj/Nb/gLMu477K+vk8QAAAABJRU5ErkJggg==\"></div><div class=\"grid-item\"><img alt=\"Output\" src=\"data:image/png;base64,iVBORw0KGgoAAAANSUhEUgAAADEAAAAcCAIAAABHzMCjAAAAznpUWHRSYXcgcHJvZmlsZSB0eXBlIGV4aWYAAHjabU/bDQMhDPtnio6QByQwDnelUjfo+HUO1IqqlogdkwSSxuv5SLeAMKVcvFozIyC33KRDVJqYzNSueEEXI9/8xOfyO6zyvbCx/GP33SZL/RlE8nmJQ2teDWuQyvS5z/xY9dJr3Qc12mD0+frfPKuLFWPPiFnI3Rp0TZAgK0LF7WGnGQrZ7kL5BA9zR5t5VGiPxoAM36tHMoVxjxU0TtYOVkRWbASHoQu88IsciO3Ssc4bScVaraC7cKgAAAAJcEhZcwAADsQAAA7EAZUrDhsAAAA8dEVYdFNvZnR3YXJlAENyZWF0ZWQgd2l0aCB0aGUgV29sZnJhbSBMYW5ndWFnZSA6IHd3dy53b2xmcmFtLmNvbVyipoUAAAAhdEVYdENyZWF0aW9uIFRpbWUAMjAyNDowMzoxMCAyMTo1MDowNZGyojoAAAHGSURBVFiF7Ze/isJAEMZnj4CFgk3AxiLspvABbCNWmkdIaW1hJVZCEGzcF7C10gVfwE2xVfAZLIyFtUVALKxyhVw44hk3/9ADvyoJ+WZ+CTOZCQqCAN5Miu/7vu+ncFYqFVVVcwcCALBtO52x1+sFxUgplUrNZnO9XicCGgwG5XI53cM8lXK9Xk+nk6ZpiWzn8/lyuRSDBF8Fxc2iD5OcHjLpuo4QYozJx+r3++hHrutKuu4T/cFEKUUITadTeRoAME3TcZxbM89mM8MwnmI9ShRlYowJIYIgqNfr8kCu63LOHce5nY5GI0LIcrmMscQkijJZlrXZbORpbtput4QQjHGI6HnefD6PscQkyqfGhRC6rt+OGWOGYaxWKwA4HA4pouXcd5TS8Xicca4redEAgGmaALDf7zPGyec9YYw55xjjsESOx+PvCnsBU6vVAoDhcBheEUJ0Op100fJhsiyLEBJCUEo5578Rk8m2bU3Twt3F87z7ewghkRWn3W7f70/dbje0PF2SYhJFaxxjnLprEn3YYhL9qxn8Qn2Y5PSOTEq1Wm00GovFIpFNVdVarVYMEigIod1uN5lMkjqT/urIC2Wc4UXoG+piSYSf5TZpAAAAAElFTkSuQmCC\"></div><div class=\"grid-item\"><img alt=\"Output\" src=\"data:image/png;base64,iVBORw0KGgoAAAANSUhEUgAAALUAAAAcCAIAAACoImnYAAAA0XpUWHRSYXcgcHJvZmlsZSB0eXBlIGV4aWYAAHjabY/bbQUhDET/qSIl+IUN5bB7uVI6SPkZLygRUUbCnj3YXlzm1+e7fKSEqViN5t2dIOvWZcA0WlqZqT/x0VX3HZ+88L35AKq/Fz43v04evrK0P4NIltH8A7zabtiDVBbnsV+062W0dg7qdMjp5+n/fpuGeHUOQzShCO/wrcAieRWq4W+/3VHI/hKyG3l6BNo8skJHNqZkxlk9iyvAK1fQPKYDWRFZsREIw1ew5FUuxP74XOcblQ9a4AuampsAAAAJcEhZcwAADsQAAA7EAZUrDhsAAAA8dEVYdFNvZnR3YXJlAENyZWF0ZWQgd2l0aCB0aGUgV29sZnJhbSBMYW5ndWFnZSA6IHd3dy53b2xmcmFtLmNvbVyipoUAAAAhdEVYdENyZWF0aW9uIFRpbWUAMjAyNDowMzoxMCAyMTo1MDowNZGyojoAAAIvSURBVGiB7ZsxqupAGIVnHgELBZuAbcikcAG2ijbGZdhqYWUpDJZxE2qVgBvQJk1chIVRsLYIiIXV3CK8EHKTuY4vw9M7/1eIhHNyRuYw+BPFjDEEAAVoURRFUfSCs1ar6bpe+oKA94JS+ppxOBwy4LejVSqVVqu12WyEyjGZTKrV6mvFAj4I7fF4XK9XwzCEbLfb7X6/y1kS8Eb8+d8LAN4a6AfAA/oB8Cjsh2VZGGPP856/13g8xn/Z7/cyLLL1ykagoh2nlBqGkR5pHMdBCLmuG7/mjj3dbjcz39q2TQhJ3yEIAv7sJGqRrVc2grPj2X64rmvbNmMsCILn+xGLwzBMrhBCRqMRZ02iFtl6ZSP4O55zfqRjnuyH4zhJYRMvQojzMUQtsvXKRmSUmR0v5/up7/uWZcXvPc9rt9vxYXU6ncqyyNYrG8Gn5PllsVjMZjMm8sxP1CJbr2xELtq/mDMMBgOE0PF4lGeRrVc2oohyzg/TNHe7nWma2+02vnK5XAghpmmWZZGtVzaCTzn96HQ6CKHpdJpc8X2/3++XaJGtVzbiB0qZXxhjhJDMzJ0esXIRtcjWKxsR89R8G4bh9w6l56WY7/1gjNm2nVh+XM1rFtl6BSP4O44ppev1+nw+Fx0wufR6PcMwlsulkAv4OOD5HMAD+gHwgH4APKAfAA/oB8BDq9frzWZztVoJ2XRdbzQacpYEvBEaxvhwOMznc1Gn6E/egU8EM/h/JVDMF5+VpkIetnJPAAAAAElFTkSuQmCC\"></div><div class=\"grid-item\"><img alt=\"Output\" src=\"data:image/png;base64,iVBORw0KGgoAAAANSUhEUgAAAKsAAAAcCAIAAACRRdiDAAAA0XpUWHRSYXcgcHJvZmlsZSB0eXBlIGV4aWYAAHjabY/bbQUhDET/qSIl+IUN5bB7uVI6SPkZLygRUUbCHg62d13m1+e7fKSEqViN5t2dIOvWZcA0WlqZqT/x0bj2G5+88L35AKq/Dz43v04evrK0P4NIltH8ArzabtiDVBbnse7XrpfR2jmo0yGnn1//924a4tU5DNGEIrzDtwKL5FWohr/9dkch+0vIbuTpEWjzyAod2ZiSGWf1LK4Ar1xB85gOZEVkxUYgDF/Bkle5EPvjc51v1dpbDMLJmK4AAAAJcEhZcwAADsQAAA7EAZUrDhsAAAA8dEVYdFNvZnR3YXJlAENyZWF0ZWQgd2l0aCB0aGUgV29sZnJhbSBMYW5ndWFnZSA6IHd3dy53b2xmcmFtLmNvbVyipoUAAAAhdEVYdENyZWF0aW9uIFRpbWUAMjAyNDowMzoxMCAyMTo1MDowNZGyojoAAAI2SURBVGiB7Zq/rqJAGMW/MfsgytD6BqLSCK2lrZ3WliZa2MBT2A2PABbERAsfQiyMhZWxtJstvGt2MXvvN8MflZlfZUYO5xBPmBmEcM5BozC/Xh1Akw/n8/l2u0kIib4HVAPbttfrtYRQN6Ai9Pv9ZrM5HA6FVJZl6VmgIlyv11qtVq/XhVSn06lWTB7Nx6AboDq6Aaoj1gDTNAkhQRAgjx+Px+QP2+32TSxyjyGXoQQLjArbAN/3CSGLxQJ5PAC4rrtarTjnnHPP8yzL+j56CRYYRGNIZCjBQkDFETDGHMfhnG82GwBgjP0ouR+ZJMljhFI6Go1eaIFBNIZEhoIsut3ubDYTVWEbkDov5ufxPI9SmhJi7EqwwICMkSVDvhapBiBVUNxKMI5j0zTvn4MgsCyLMQYAh8PhgyzeIYOcBV5V+F7A9/3pdMqLfPJYgsU7ZJCz+FH19UzQdd0oilLfZb8e13UBYL/fZzxPXhaKXKaQ6useEIbh8wwkmxYAwDCMKIoMwwjD8D5yPB4ppYZhZDltRgtFLlNIVdQs0G63AWAymTxG4jju9XqfZfEOGeQsBFTfL0RT4BfqnHNK6WM56nke/Ls5eaEFBnwM6Qz5WqT2AkgVtgFJkjxX5+/Nxv9wHAdZtRIsMMjFEMpQkMVzAzAq0O8HVAbbtjudznw+F1IRQvQ/Q6qjG6A6ugGqoxugOroBqqPfFK0IjUbjcrksl0shVavV0rvBijAYDHa7nYRQN0B1fgP6cPXeobDccwAAAABJRU5ErkJggg==\"></div><div class=\"grid-item\"><img alt=\"Output\" src=\"data:image/png;base64,iVBORw0KGgoAAAANSUhEUgAAADEAAAAcCAIAAABHzMCjAAAAznpUWHRSYXcgcHJvZmlsZSB0eXBlIGV4aWYAAHjabU/bDQMhDPtnio6QByQwDnelUjfo+HUO1IqqlogdkwSSxuv5SLeAMKVcvFozIyC33KRDVJqYzNSueEEXI9/8xOfyO6zyvbCx/GP33SZL/RlE8nmJQ2teDWuQyvS5z/xY9dJr3Qc12mD0+frfPKuLFWPPiFnI3Rp0TZAgK0LF7WGnGQrZ7kL5BA9zR5t5VGiPxoAM36tHMoVxjxU0TtYOVkRWbASHoQu88IsciO3Ssc4bScVaraC7cKgAAAAJcEhZcwAADsQAAA7EAZUrDhsAAAA8dEVYdFNvZnR3YXJlAENyZWF0ZWQgd2l0aCB0aGUgV29sZnJhbSBMYW5ndWFnZSA6IHd3dy53b2xmcmFtLmNvbVyipoUAAAAhdEVYdENyZWF0aW9uIFRpbWUAMjAyNDowMzoxMCAyMTo1MDowNZGyojoAAAHGSURBVFiF7Ze/isJAEMZnj4CFgk3AxiLspvABbCNWmkdIaW1hJVZCEGzcF7C10gVfwE2xVfAZLIyFtUVALKxyhVw44hk3/9ADvyoJ+WZ+CTOZCQqCAN5Miu/7vu+ncFYqFVVVcwcCALBtO52x1+sFxUgplUrNZnO9XicCGgwG5XI53cM8lXK9Xk+nk6ZpiWzn8/lyuRSDBF8Fxc2iD5OcHjLpuo4QYozJx+r3++hHrutKuu4T/cFEKUUITadTeRoAME3TcZxbM89mM8MwnmI9ShRlYowJIYIgqNfr8kCu63LOHce5nY5GI0LIcrmMscQkijJZlrXZbORpbtput4QQjHGI6HnefD6PscQkyqfGhRC6rt+OGWOGYaxWKwA4HA4pouXcd5TS8Xicca4redEAgGmaALDf7zPGyec9YYw55xjjsESOx+PvCnsBU6vVAoDhcBheEUJ0Op100fJhsiyLEBJCUEo5578Rk8m2bU3Twt3F87z7ewghkRWn3W7f70/dbje0PF2SYhJFaxxjnLprEn3YYhL9qxn8Qn2Y5PSOTEq1Wm00GovFIpFNVdVarVYMEigIod1uN5lMkjqT/urIC2Wc4UXoG+piSYSf5TZpAAAAAElFTkSuQmCC\"></div><div class=\"grid-item\"><img alt=\"Output\" src=\"data:image/png;base64,iVBORw0KGgoAAAANSUhEUgAAAKAAAAAcCAIAAABppSN0AAAA0XpUWHRSYXcgcHJvZmlsZSB0eXBlIGV4aWYAAHjabY9hbgUhCIT/e4oeAUEHPY67z5f0Bj1+h9XkxaaTLIyfwEqaP9/v9BXSLKlUb+iAUKWXroOmydLKWfoTH419xfPBU743H0T1c4G5+XVyx8ra/gwSXcbiD/RWdsMeZLp43k+5dr2O1s5BXQ7h8/R/z8VcUZG9MBYVd3T6lmiZUFWq440bYGHGS6XczBPubINHhY1oDOn0s3omGMErVrD4ig1mY8zGjUgyfSULXvVi7I+PdX4BjDha2iHJYZIAAAAJcEhZcwAADsQAAA7EAZUrDhsAAAA8dEVYdFNvZnR3YXJlAENyZWF0ZWQgd2l0aCB0aGUgV29sZnJhbSBMYW5ndWFnZSA6IHd3dy53b2xmcmFtLmNvbVyipoUAAAAhdEVYdENyZWF0aW9uIFRpbWUAMjAyNDowMzoxMCAyMTo1MDowNZGyojoAAAIuSURBVGiB7ZqxjrJAFIWHzSYWmtiQ2BKG19BgIzS+A60WVpYmaomV8Qns4BGgwRgseQSx8AlIiIXVbMGuIfjv7h2E/MvNfIUx47mem5xhMgNIjDEiwMv7/25A8DtJkiRJUqKw0+mIgBvAdrtdr9clCi3LEgE3gFarNR6Pd7sdV9VsNmu32yLgBnC/39M0VRSFqypN09vt9lZPS4K/gggYOSJg5PAFrGmaJEmu6wL10+lU+uJ0OlWux2FRoqUMUBwMhm3bhBDHcbJPSIlhGJTSfHkYhhXqcVhA9MvlUtf1/AgkDl3XLcsCBew4jmEYjLEwDIEBZ8o4jh8jlNLJZFKVHocFUF8IGBgHR8CFhiAB27b9mJiPwh8WDF49Dgug/vkKzut/DriuTVYQBJqmZd9d1+33+9l6crlcKtHjsCjREi+176I3m81isWDgRxq8ehwWJVoC8nknyzRN3/cLv73uZ5omIeR8Ptekx2FRoiU4n1ew53nPi/gr/6uqqu/7qqp6npeNXK9XSqmqqpXocViUaImXupbowWBACJnP54+RIAhGo1FVehwWJVri5rsN3j+B76IZY5TSwgkvfx54XY/DAqJ/ZRcNCjiO4+eZkd/ff4dhGFwziVePw+JXfSFgYBxZwBITr+z8eVar1fF4PBwOXFXD4VBRFPGwATkiYOSIgJEjAkaOCBg54qW7BtDtdmVZ3u/3XFWyLPd6PRFwA5AkKYqiKIp4CxVFEedg5HwAZEvE6PCKmx4AAAAASUVORK5CYII=\"></div></div></div>"
      ],
      "text/plain": [
       "Item[1, Frame -> True]   0   -1   0   1   0   -1   0   1\n",
       "Item[1, Frame -> True]   0   1\n",
       "Item[1, Frame -> True]   0   0   0   0   0   0   0   0   0   1\n",
       "-1   0   1   0   -1   0   1   0   Item[0, Frame -> True]\n",
       "Item[1, Frame -> True]   0   1\n",
       "-1   0   0   0   0   0   0   0   Item[1, Frame -> True]"
      ]
     },
     "execution_count": 590,
     "metadata": {
      "text/html": [],
      "text/plain": []
     },
     "output_type": "execute_result"
    }
   ],
   "source": [
    "splarr[{0 -> 1, 2 -> -1, 4 -> 1, 6 -> -1, 8 -> 1}]\n",
    "splarr[{0 -> 1, 2 -> 1}]\n",
    "%% * %\n",
    "\n",
    "splarr[{-2 -> 1, -4 -> -1, -6 -> 1, -8 -> -1}]\n",
    "splarr[{0 -> 1, 2 -> 1}]\n",
    "%% * %"
   ]
  },
  {
   "cell_type": "code",
   "execution_count": 596,
   "metadata": {
    "vscode": {
     "languageId": "wolfram"
    }
   },
   "outputs": [
    {
     "data": {
      "text/html": [
       "<div><img alt=\"Output\" src=\"data:image/png;base64,iVBORw0KGgoAAAANSUhEUgAAALYAAAAVCAIAAABkGoMTAAAA0XpUWHRSYXcgcHJvZmlsZSB0eXBlIGV4aWYAAHjaXY/rkcMgDIT/U8WVoBcSlINjMpMOrvxb2VwyZGeQ1h+SLMr8fT3LT0qYitVo3t0Jsm5dBkyjW3dm6le8dPi6450XrosPoPq58Ln4sfNYg6R9DSK5jeYf4NVWwxqkcnMea6NVL6O1fVCnTf+bvzf7+jYN8eochmhCEd7hW4FF8ipUw5/+cEch+ylkD+TpEWjzyAod2ZiSGXv1LK4AZz5B85gOZEVkxYtAGL6CJe9yZLx8PucPV4hat5FlHqwAAAAJcEhZcwAADsQAAA7EAZUrDhsAAAA8dEVYdFNvZnR3YXJlAENyZWF0ZWQgd2l0aCB0aGUgV29sZnJhbSBMYW5ndWFnZSA6IHd3dy53b2xmcmFtLmNvbVyipoUAAAAhdEVYdENyZWF0aW9uIFRpbWUAMjAyNDowMzoxMCAyMTo1MDowOZgE7hEAAAKASURBVGiB7VrN0YIwEA2W4lKDJRgL8KInr7EOL9CAJYQSGA9esI04nGgj32HHyAcGAmSDzvBO+MO+t/FlNwlGWmu2YIEdq/CUWZZFL2RZFoYojmM6IsZYHMdRDaR50cFk8U+/ng9KKQCgiy+lFELQxbcBAJRS4XknQgiRJAle140xQxUxqKqKenKHR5Zl2+12vV7PLWQwbrfbfr/HayHEu5DMZVhkJ51tUkqTv5SSjqgOACiKIgyXX3DOcZSUUvURm7nRULskMJGUknPuKxrn3Fj8o+0AYMQ8t92Fo8QYAwAhxFdYRGvNOQ8z58JMbo8sAGDchuWwXQin2LF7lcY5NzNq/ioSgAiHmJqlKApfq+8kSRqChRDt4EQWSZKkHnnFGDufz1EUpWlqyhrufJ7P57iFT3fANE3xJeY8jsKFyxAdDgdSInx5Op0ul8tEFsT9fjfLNcTxeFRKPR6P6TptMGcEZVnmef7+wHiKvbo1Xo+2p9+ALrtW7+KpiXqTYoyZ/SeisYRE2KqIi07344D3zZxzAMCa7KWhegnomIl38aRE1BZx0TnGIvpVihviGsTtAtUVvS9gLwZkMpbrC5OabpFene4D+z46M72qLEtbu8rz3CalDZeANux2O+yL1+vVnGp3fH8K1xcmBQCN+FVVMcY2m40j1xSdTdQHRQhRFAXzdNDkJaCj2b2LJyXqTerjjqZdMzqqSK/OwY0GW1dd38SO7iugSybexVMTuSSFvzFe25YUNou46BxmETxuq0dpvzMIHgP2ZuJdfAAi99Jo8PFo+KNFHHWOXK4u+C3Qna7WMeeT3gU/gUgv/zr7WcRxbB5i0N21WGRBD5ZGs6AHf4qU6R7R+jcaAAAAAElFTkSuQmCC\"></div>"
      ],
      "text/plain": [
       "     3    5    7       9\n",
       "x - x  + x  - x  + O[x]"
      ]
     },
     "execution_count": 596,
     "metadata": {
      "text/html": [],
      "text/plain": []
     },
     "output_type": "execute_result"
    }
   ],
   "source": [
    "Series[1 / (x + x^(-1)), {x, 0, 8}]"
   ]
  },
  {
   "cell_type": "code",
   "execution_count": 627,
   "metadata": {
    "vscode": {
     "languageId": "wolfram"
    }
   },
   "outputs": [
    {
     "data": {
      "text/html": [
       "<style>\n",
       "\t\t\t\t\t\t\t\t\t\t\t\t\t.grid-container {\n",
       "\t\t\t\t\t\t\t\t\t\t\t\t\t\tdisplay: inline-grid;\n",
       "\t\t\t\t\t\t\t\t\t\t\t\t\t\tgrid-template-columns: auto;\n",
       "\t\t\t\t\t\t\t\t\t\t\t\t\t}\n",
       "\t\t\t\t\t\t\t\t\t\t\t\t</style>\n",
       "\n",
       "\t\t\t\t\t\t\t\t\t\t\t\t<div><div class=\"grid-container\"><div class=\"grid-item\"><img alt=\"Output\" src=\"data:image/png;base64,iVBORw0KGgoAAAANSUhEUgAAAJsAAAAcCAIAAAD5tlq7AAAAz3pUWHRSYXcgcHJvZmlsZSB0eXBlIGV4aWYAAHjabU/bDQMhDPtnio6QFwmMw12p1A06fs2BWlHVErFxHpDUX89Hug0IU7Icxas7AVatSoMoNDGZqV7xQj1Wjnc/8bn8Bit/E96Xf+x++GQpP4NIptDxArTaaliDVKbPbd6PVS+tlH1QpQ1On6//vZuGeHYOQzShCK/QJUGCPAvl8Ief7ihkvwvZCe4egTaPUaFtNA5Ij726J1cY97GCjmPawIrIio3gMHS+IqvJgWy9asY6b5riWuV/jHpsAAAACXBIWXMAAA7EAAAOxAGVKw4bAAAAPHRFWHRTb2Z0d2FyZQBDcmVhdGVkIHdpdGggdGhlIFdvbGZyYW0gTGFuZ3VhZ2UgOiB3d3cud29sZnJhbS5jb21coqaFAAAAIXRFWHRDcmVhdGlvbiBUaW1lADIwMjQ6MDM6MTAgMjE6NTE6MTRHEsSIAAACaUlEQVRoge2asa6yMBiG2z8kDpq4kLg4kJbBC3DFOCmX4ezgZJxMiIkLXIWTkHgDwMAiF+EgDs4OJMbBqWcwh/xBzrEtUk9In42G8j71K9ISICEESGqEkqZpmqYcPVutlqqqbxeSlMWyLL6Ok8mESP4eSqPR6Pf7u92OqZyz2azZbPJNBUmlKPf7/XK5aJrG1O16vd5ut2qUJKX492kByZuRFa0bsqJ1o7ii0+kUfhPHMf3ldF2HEHqeR3k+d9AbNfgcBETwORRU1DTNMAwfS2Hbtg3DoJFwHAdCuF6v6YX4gt6rweEgIOIlvzjkKxrHcRAEYRg+DheLBcZ4u93+HuB5XhRFhJBut0vpxBf0Xg0OBwERL3nhYFmWpmnZ/tS2bYxxdrjf7x+n5baxw+Gw8A3D43zXdV9uhCmD+KDUKOMgIILPIX+PRlGk63o2FwzDcF0XAHA6ncpMq2eEBX3WQfwwf1zrOo6zXC5J9e/xhQV91kHYMJXCVtM0AQDH47HqeKYg0zSDIMg1lv+NBAyWNaLMSPP3KEIoCAKEkO/7j5bz+YwxRghR2lDCEeT7/vOzRLCDmIgyI81XdDAYAADm83nWEkXRaDRiGAQdwoI+6/CBYebWuoQQjHG2PLNtGwCQJEluvpRf61IG8UGvwe0gIILPoaCihJDxeJyVvPBauYomSfI8V/5ftf/EyyAm+DSYHARElHQoXhllf/qUIIQI1yONNagKDSYHARElHeSb+rohK1o3ZEXrhqxo3ZAVrRtKu93u9XqbzYapm6qqnU6nGiVJKRQI4eFwWK1WrD1ZPx+UiAHy7SMlf5YvvtaIFDdSIhAAAAAASUVORK5CYII=\"></div><div class=\"grid-item\"><img alt=\"Output\" src=\"data:image/png;base64,iVBORw0KGgoAAAANSUhEUgAAAC4AAAAcCAIAAACRaRrGAAAA0HpUWHRSYXcgcHJvZmlsZSB0eXBlIGV4aWYAAHjabU/tbQUhDPvPFB0hH+DAONw9ntQNOn7NgVpR1RKJcZxA0vj6fKePCVNJuURFA4TILTfrJFUWVlZpT3xgY9f01JPeW++Uym8Bu0GvUw/sgfXPILFFfL5A7nk37EFuS9e+7tf2W6/1HNTkAOTn6//es4ehQCMzZpMINPKaSJlQTErgjRugUfEyyTfzQATbENPhfTZO2IjTPRKcwmuu4PNk78zOqM6NqCh5eaJ6sYvV9njmOt+VB1riOVH5CQAAAAlwSFlzAAAOxAAADsQBlSsOGwAAADx0RVh0U29mdHdhcmUAQ3JlYXRlZCB3aXRoIHRoZSBXb2xmcmFtIExhbmd1YWdlIDogd3d3LndvbGZyYW0uY29tXKKmhQAAACF0RVh0Q3JlYXRpb24gVGltZQAyMDI0OjAzOjEwIDIxOjUxOjE1MBX0HgAAAchJREFUSIntlyGPwjAUx18JCQISzBIMYmkn+ADYERTsI0yiESiCIiEkGPoFsChowhegE1ULnwHBEGjEEoJA9QR3C3dHlrced4fgr7bmvff/pWv7OqK1hudQHhkXx3EcxwYGpVLJsixUqMZpNBoZcABAp9NBWmBnpVAo1Ov11WqViaPX6xWLRWQwFuVyuRyPR9u2M6GcTqfz+YwMzmUq/at6odzTJxTHcQghQghkcrfbJR8KwxDvetfoHYVzTgiZTCb4cp7nBUFw3YfT6dR1XQxNilEOAIQQSimtdbVaRXKEYSilDILg+joYDBhji8UiPSvdKAcAvu+v12skxFWbzYYxRilNyKIoms1m6VnpRobLVinlOM71WQjhuu5yuQSA/X5vVtAcJRHnfDgcPqSnYk/bu/I8DwB2u93POcB4ViilUkpKafLtD4fD7er5O5RGowEA/X4/GVFKtVotYw5zFN/3GWOJN+dcSnlLZiKtdRRF38cZY1/uK7Ztf7lhtNvt2zrf1Ww2b+8r6UZ5AKCUmm2BrKdRutGztsP/1Qvlnp4IBXvwl8vlWq02n88zVbcsq1KpPBiFELLdbsfjcSYUAMD/JJCHNNWH6A0zvDeWw6jwBgAAAABJRU5ErkJggg==\"></div><div class=\"grid-item\"><img alt=\"Output\" src=\"data:image/png;base64,iVBORw0KGgoAAAANSUhEUgAAAKAAAAAcCAIAAABppSN0AAAA0HpUWHRSYXcgcHJvZmlsZSB0eXBlIGV4aWYAAHjabU/bbQQhEPunipTAPPBAOeweJ6WDlB+zIJ2IYomx8Txg0vj5fqevCZWcvERFAzLhzZt2ipoXFktuT3zQd4r3w09yb7/TKp8Exvav0w8s1vpnUNYlbL5Abb4b9iDT5cv+yrXrtdd6Dmr5AD5f//fuFooCCWd0zRFo1DVRklA0l8AbN8BCwUuz3+SBCLYhZoX12TihI87qkWA0XnMFm8etk41RjBvREeryRLGiF7PtqZnr/AKMYFrca5ToCAAAAAlwSFlzAAAOxAAADsQBlSsOGwAAADx0RVh0U29mdHdhcmUAQ3JlYXRlZCB3aXRoIHRoZSBXb2xmcmFtIExhbmd1YWdlIDogd3d3LndvbGZyYW0uY29tXKKmhQAAACF0RVh0Q3JlYXRpb24gVGltZQAyMDI0OjAzOjEwIDIxOjUxOjE1MBX0HgAAAkBJREFUaIHtm7GK8kAUhW9+AhYKNgHbkEnhA9gq2pg8hq0WVpZCsIwvoVYJ+AJJkyY+hIVRsLYIiIXVbBH+EDQbZtyZ3SHMV4gM5+ReOBO9Q1TBGIOkvqhpmqZp+oGz1Wppmsa8IQljHMf5zDiZTLBEeNRGo9Hr9fb7PVW68/m82Wx+tjMkv4n6fD5vt5uu61S2+/3+eDz4tCRhyb+/bkDCFxlwzZEB15xvAzZNU1EU3/fJrzWbzZT/HA4HHhbeejFLEFIemeM4uq4XB2vXdQHA87zstXT4Hg6HL8cky7IQQsUrxHFcPcHTWnjrxSxBQkVkrwF7nmdZFsY4jmPygDNxkiT5CkJoOp1W9ERr4a0XswQJ1ZGV3MHFVggDdl0335W5FwAq2qK18NaLWYKK0sjYDFlRFJmmmb33fb/f72cfF+fzmZWFt17MEj+H8RS9Xq+XyyWmeYBBa+GtF7PEx6gMr2XbNgCcTid+Ft56AUvYth2G4csi+c5gcwcbhhGGoWEYQRBkK9frFSFkGAYrC2+9mCUAIAiC96/b78TvsAl4MBgAwGKxyFeiKBqPxwwtvPVilmAAkykaY4wQejneFQ8DpdBaeOvFLEEO0TEpSZL3TVCc7DPeA8YYW5aVWwh7orXw1otZoprqyBTHcXa73eVyIb3lAQBgNBrpur7ZbKhckt9HPmyoOTLgmiMDrjky4JojA645arvd7na72+2WyqZpWqfT4dOShCWqoijH43G1WtE6aX+IKfkTFCz/ulJrvgBaMWJLrrYWuAAAAABJRU5ErkJggg==\"></div><div class=\"grid-item\"><img alt=\"Output\" src=\"data:image/png;base64,iVBORw0KGgoAAAANSUhEUgAAAJsAAAAcCAIAAAD5tlq7AAAA0HpUWHRSYXcgcHJvZmlsZSB0eXBlIGV4aWYAAHjabU9ZbgUhDPvnFD1CFnDgOMw8ntQb9Pg1A2pFVUvExlkgaXx9vtPHhKmkXKKiAULklpt1iioLi1XaEx+0a+f09JPe2++0ym8CY/vX6QcWW/0zSGwJny9Qe94Ne5Db8rWv+7Xrrdd6DmpyAPLz9X/v2cNQoJEZs0kEGnVNlCQUkxJ44wZYqHiZ5Js8EME2xKzwPhsnbMRZPRKcxmuu4PNk72RnVOdGdJS6PFG92MVse2rmOt+a8lrmqrfbMAAAAAlwSFlzAAAOxAAADsQBlSsOGwAAADx0RVh0U29mdHdhcmUAQ3JlYXRlZCB3aXRoIHRoZSBXb2xmcmFtIExhbmd1YWdlIDogd3d3LndvbGZyYW0uY29tXKKmhQAAACF0RVh0Q3JlYXRpb24gVGltZQAyMDI0OjAzOjEwIDIxOjUxOjE1MBX0HgAAAkZJREFUaIHtmr2OqkAYhgdC6QVQUBCG2isQExvlFrwFa2NlYmMDF2EpJLYWDAUWUnARoomxMDGxtnK2cM/mZN3Vb4YFRzJP5Q/D805eNJ8/CqUUSWqE9uoAkh+4XC7H45FjoaZpslERybKs0+lwLDRNUzYqIqqqGoaxWCx0XYevms1mURTJRkXker0eDgdd103ThK9SVfV0OqmlpZK8Btlo3ZCN1g22Rm3bVhQlDEPg8YPBQPlHmqaCKP48Bl8G1p0CRdBGfd9XFGU6ncL1ruvGcUwppZR6nuc4zuPdVqCAwBqDIwPHTuEiUKNhGCZJQik1DAOoT9OUEBLH8e3uaDTCGM/n8xcqILDG4MjAsVM2EWVhvV4jhIIgeHqk53kY428LIboKFBCAMYpkeKBYrVYIod1uxySaTCamaZY1GSVJYtv27XYYho7jBEGAENput2+kECcDXFT6rOv7/ng8pmX+HlCBQpwMT0Wf3xm5rksI+fZc8Xyu6yKENptNwfP8leJ9twkXfb5Goyi6fzcv4rYsixBiWVYURbdH9vs9xtiyrCKnLah4x22yisp612232wih4XD49UiSJN1u970U4mRgEEGmMsh4dg/G+Gs88zwPIZTnuQgKCPAY3BmYZl2I6DbrghrN8/z+Uvh/mP6NXq8HvHQqUEDgi8GUAaL4sdGnIoZGJRXzW6OPKffzqORVyEbrhmy0bshG64ZstG7If46JiKZprVZruVw2Gg34qvP53Gw2FSr/Uy8eWZb1+32OhYZhyEbrxgc9O6tawTBdywAAAABJRU5ErkJggg==\"></div><div class=\"grid-item\"><img alt=\"Output\" src=\"data:image/png;base64,iVBORw0KGgoAAAANSUhEUgAAAC4AAAAcCAIAAACRaRrGAAAA0HpUWHRSYXcgcHJvZmlsZSB0eXBlIGV4aWYAAHjabU/tbQUhDPvPFB0hH+DAONw9ntQNOn7NgVpR1RKJcZxA0vj6fKePCVNJuURFA4TILTfrJFUWVlZpT3xgY9f01JPeW++Uym8Bu0GvUw/sgfXPILFFfL5A7nk37EFuS9e+7tf2W6/1HNTkAOTn6//es4ehQCMzZpMINPKaSJlQTErgjRugUfEyyTfzQATbENPhfTZO2IjTPRKcwmuu4PNk78zOqM6NqCh5eaJ6sYvV9njmOt+VB1riOVH5CQAAAAlwSFlzAAAOxAAADsQBlSsOGwAAADx0RVh0U29mdHdhcmUAQ3JlYXRlZCB3aXRoIHRoZSBXb2xmcmFtIExhbmd1YWdlIDogd3d3LndvbGZyYW0uY29tXKKmhQAAACF0RVh0Q3JlYXRpb24gVGltZQAyMDI0OjAzOjEwIDIxOjUxOjE1MBX0HgAAAchJREFUSIntlyGPwjAUx18JCQISzBIMYmkn+ADYERTsI0yiESiCIiEkGPoFsChowhegE1ULnwHBEGjEEoJA9QR3C3dHlrced4fgr7bmvff/pWv7OqK1hudQHhkXx3EcxwYGpVLJsixUqMZpNBoZcABAp9NBWmBnpVAo1Ov11WqViaPX6xWLRWQwFuVyuRyPR9u2M6GcTqfz+YwMzmUq/at6odzTJxTHcQghQghkcrfbJR8KwxDvetfoHYVzTgiZTCb4cp7nBUFw3YfT6dR1XQxNilEOAIQQSimtdbVaRXKEYSilDILg+joYDBhji8UiPSvdKAcAvu+v12skxFWbzYYxRilNyKIoms1m6VnpRobLVinlOM71WQjhuu5yuQSA/X5vVtAcJRHnfDgcPqSnYk/bu/I8DwB2u93POcB4ViilUkpKafLtD4fD7er5O5RGowEA/X4/GVFKtVotYw5zFN/3GWOJN+dcSnlLZiKtdRRF38cZY1/uK7Ztf7lhtNvt2zrf1Ww2b+8r6UZ5AKCUmm2BrKdRutGztsP/1Qvlnp4IBXvwl8vlWq02n88zVbcsq1KpPBiFELLdbsfjcSYUAMD/JJCHNNWH6A0zvDeWw6jwBgAAAABJRU5ErkJggg==\"></div><div class=\"grid-item\"><img alt=\"Output\" src=\"data:image/png;base64,iVBORw0KGgoAAAANSUhEUgAAAKAAAAAcCAIAAABppSN0AAAA0HpUWHRSYXcgcHJvZmlsZSB0eXBlIGV4aWYAAHjabU/bbQQhEPunipTAPPBAOeweJ6WDlB+zIJ2IYomx8Txg0vj5fqevCZWcvERFAzLhzZt2ipoXFktuT3zQd4r3w09yb7/TKp8Exvav0w8s1vpnUNYlbL5Abb4b9iDT5cv+yrXrtdd6Dmr5AD5f//fuFooCCWd0zRFo1DVRklA0l8AbN8BCwUuz3+SBCLYhZoX12TihI87qkWA0XnMFm8etk41RjBvREeryRLGiF7PtqZnr/AKMYFrca5ToCAAAAAlwSFlzAAAOxAAADsQBlSsOGwAAADx0RVh0U29mdHdhcmUAQ3JlYXRlZCB3aXRoIHRoZSBXb2xmcmFtIExhbmd1YWdlIDogd3d3LndvbGZyYW0uY29tXKKmhQAAACF0RVh0Q3JlYXRpb24gVGltZQAyMDI0OjAzOjEwIDIxOjUxOjE1MBX0HgAAAi5JREFUaIHtmrGOskAUhYfNJhaa2JDYEobX0GAjNL4DrRZWliZqiZXxCezgEaDBGCx5BLHwCUiIhdVswa4h+O/uHYT8y818hTHjuZ6bnGEyA0iMMSLAy/v/bkDwO0mSJElSorDT6YiAG8B2u12v1yUKLcsSATeAVqs1Ho93ux1X1Ww2a7fbIuAGcL/f0zRVFIWrKk3T2+32Vk9Lgr+CCBg5ImDk8AWsaZokSa7rAvXT6VT64nQ6Va7HYVGipQxQHAyGbduEEMdxsk9IiWEYlNJ8eRiGFepxWED0y+VS1/X8CCQOXdctywIF7DiOYRiMsTAMgQFnyjiOHyOU0slkUpUehwVQXwgYGAdHwIWGIAHbtv2YmI/CHxYMXj0OC6D++QrO638OuK5NVhAEmqZl313X7ff72XpyuVwq0eOwKNESL7XvojebzWKxYOBHGrx6HBYlWgLyeSfLNE3f9wu/ve5nmiYh5Hw+16THYVGiJTifV7Dnec+L+Cv/q6qq7/uqqnqel41cr1dKqaqqlehxWJRoiZe6lujBYEAImc/nj5EgCEajUVV6HBYlWuLmuw3eP4HvohljlNLCCS9/Hnhdj8MCon9lFw0KOI7j55mR399/h2EYXDOJV4/D4ld9IWBgHFnAEhOv7Px5VqvV8Xg8HA5cVcPhUFEU8bABOSJg5IiAkSMCRo4IGDnipbsG0O12ZVne7/dcVbIs93o9EXADkCQpiqIoingLFUUR52DkfABkS8To8IqbHgAAAABJRU5ErkJggg==\"></div></div></div>"
      ],
      "text/plain": [
       "Item[0, Frame -> True]   1   0   -1   0   1   0   -1\n",
       "1   Item[0, Frame -> True]   1\n",
       "Item[1, Frame -> True]   0   0   0   0   0   0   0   -1\n",
       "-1   0   1   0   -1   0   1   Item[0, Frame -> True]\n",
       "1   Item[0, Frame -> True]   1\n",
       "-1   0   0   0   0   0   0   0   Item[1, Frame -> True]"
      ]
     },
     "execution_count": 627,
     "metadata": {
      "text/html": [],
      "text/plain": []
     },
     "output_type": "execute_result"
    }
   ],
   "source": [
    "splarr[{1 -> 1, 3 -> -1, 5 -> 1, 7 -> -1}]\n",
    "splarr[{1 -> 1, -1 -> 1}]\n",
    "%% * %\n",
    "\n",
    "splarr[{-1 -> 1, -3 -> -1, -5 -> 1, -7 -> -1}]\n",
    "splarr[{1 -> 1, -1 -> 1}]\n",
    "%% * %"
   ]
  },
  {
   "cell_type": "code",
   "execution_count": 633,
   "metadata": {
    "vscode": {
     "languageId": "wolfram"
    }
   },
   "outputs": [
    {
     "data": {
      "text/html": [
       "<div><img alt=\"Output\" src=\"data:image/png;base64,iVBORw0KGgoAAAANSUhEUgAAAPUAAAAVCAIAAAARlz+wAAAA0HpUWHRSYXcgcHJvZmlsZSB0eXBlIGV4aWYAAHjabU9ZbgUhDPvnFD1CFnDgOMx7jNQb9Pg1A2pFVUvExlkgaXx93uljwlRSLlHRACFyy806RZWFxSrtiQ/usnN6+kl3Qjut8pvA2P51+oHFVv8MElvC5wvUnnfDHuS2fO3rfu1667Weg5ocgPx8/d979jAUaGTGbBKBRl0TJQnFpARuvAAWKt4m+UUeiGAbYlZ4n40TNuKsHglO4z1X8Hmyd7IzqnMjOvY4yljc7aJujzPX+QZbq1q27udCxwAAAAlwSFlzAAAOxAAADsQBlSsOGwAAADx0RVh0U29mdHdhcmUAQ3JlYXRlZCB3aXRoIHRoZSBXb2xmcmFtIExhbmd1YWdlIDogd3d3LndvbGZyYW0uY29tXKKmhQAAACF0RVh0Q3JlYXRpb24gVGltZQAyMDI0OjAzOjEwIDIyOjAxOjUzRBIBwgAAA0BJREFUaIHtmjFyqzAQhlc5iqUzpIpbiwOkwFSuMiPOkDKNOAA+AhzB44IGKt8BxhXX4BX7IjNggzASnmj4Cg9m8P67YpF+MKRpGlhZcZS3VydghjRNyS9pmtqWK4qCEBJFkW0hAFB12ZNgjJEWCwygJVQhtxIatyjLklJqWwUAOOdSygWE8jy3rdKGUlqW5ZKKphBCqDOiGtuR+VtR1zVjzKpEGIZJkmw2G6sqABBFkZTy4+PDtpAiTdPdbrdAaTY4n8+fn5+4LYTAKdyd/g7DkBCy3W7jOLanUhRFVVW+79uTUGRZBr/+xPO8BRS/v7+DIFhAyAaMscvlAgBVVR2PR9z51jni79qvOI6bX39SVZUllcPhYPX66ZBlmVpwbZ+XNE0ZY6aWC8/zlKEviqJ/gPLKk8IO/CqO4/1+TwjZ7XZCiP97cfiklACQJAl+Lu6dTMI5t+RZ8zzvjKlVr98uREpp2+5TSk2NG6WUc47bj5pKHfAEQojhAzjneBcBmAGK4fn70/1dliUsctPcvpuxRJIk6kQabL675Hlu6lrFubK9RwjRD26vv6WUKvgbAPi+fzqdJi0Tw6AVbj8+wzVljm0YjhlFEX7FcZyT/KiWQYaFfN+vqgr3fH19zXQOw1qHw+Hn52dOfEWWZTd7AAAAQRCUZXnXpUxKchj1jPh6vd76ud34BudvrBDXCNzW+YnxmE9jSsu9okYrAoDOyoaLaqevHs3fOkmO5nBLpv3FrD/hnFNK0X7prK06SU+NOQcjWu4VZbu/dZK01d+c8/66MBQdoF/tIzSTnhSzzdTk52gp3Ctqgf4eTVK/v6c9/z6dTo9S6aM80/V6HYipHiQdj8fR/6I1Y85PfqaWe0XpV0Qp7QSv6xoA3t/fNbXmDEiX9riY9ScAIITQj6lzUU6NOQcjWu4VNVrR3ecn/dl6YP4eTfL1/hstFG5jwaNuT+eh5tSYT2NKy72i9K9Y3H5kox/1t06S0/ob7VGHOU9DKaWdtPp7+gwn/VzM5zCo5V5Rk+4okLsvbN3tb80k9fubNOv73yuvwPO8p/91CcNQ8y0Jd96vWlnps87fK6+BMaZeprD3q7W/V1xm9ScrLvMPdjE3/lBUM2EAAAAASUVORK5CYII=\"></div>"
      ],
      "text/plain": [
       "         3    4    6    7       9\n",
       "1 - x + x  - x  + x  - x  + O[x]"
      ]
     },
     "execution_count": 633,
     "metadata": {
      "text/html": [],
      "text/plain": []
     },
     "output_type": "execute_result"
    }
   ],
   "source": [
    "Series[1 / (1 + x + x^2), {x, 0, 8}]"
   ]
  },
  {
   "cell_type": "code",
   "execution_count": 662,
   "metadata": {
    "vscode": {
     "languageId": "wolfram"
    }
   },
   "outputs": [
    {
     "data": {
      "text/html": [
       "<style>\n",
       "\t\t\t\t\t\t\t\t\t\t\t\t\t.grid-container {\n",
       "\t\t\t\t\t\t\t\t\t\t\t\t\t\tdisplay: inline-grid;\n",
       "\t\t\t\t\t\t\t\t\t\t\t\t\t\tgrid-template-columns: auto;\n",
       "\t\t\t\t\t\t\t\t\t\t\t\t\t}\n",
       "\t\t\t\t\t\t\t\t\t\t\t\t</style>\n",
       "\n",
       "\t\t\t\t\t\t\t\t\t\t\t\t<div><div class=\"grid-container\"><div class=\"grid-item\"><img alt=\"Output\" src=\"data:image/png;base64,iVBORw0KGgoAAAANSUhEUgAAAIoAAAAcCAIAAAAx2rBtAAAA0HpUWHRSYXcgcHJvZmlsZSB0eXBlIGV4aWYAAHjabY9hbgUhCIT/e4oeAQEHPY67z5f0Bj1+x9W0sSmJzOwnsJLG1+c7fczQLMlLVDRAGN68aaepsmJplvbkhfq+yydP+d68E5XfC4zNr5MHlmr9M0h0GZt/oDffDXuQ6eJ5v+Ta9dprPQc1OQLy8/R/v91CUZDDmV0lAo2+JloKikoJvHEDLMx4qfhNHYhgG2JWWJ+NM3TEWT0SjOA1V7B53DrVmLNxIxJ9iD+k6kXfHjLX+QaYFVrm0dxu1QAAAAlwSFlzAAAOxAAADsQBlSsOGwAAADx0RVh0U29mdHdhcmUAQ3JlYXRlZCB3aXRoIHRoZSBXb2xmcmFtIExhbmd1YWdlIDogd3d3LndvbGZyYW0uY29tXKKmhQAAACF0RVh0Q3JlYXRpb24gVGltZQAyMDI0OjAzOjEwIDIyOjA0OjE4gHLtfAAAAiNJREFUaIHtmr+q6jAAh5tLwUHBpeDiUJIOPoBrxUn7CB2dHZzESSiCi30BVyct+AJth0zFZ3CwDs4OBXFwyhnk9pxT77kn6UloDuSbbGl++cqPhv4REEI0hazoWZZlWVZiZKPRMAyDu5DiE57nlRs4Go2IQjB6rVbrdrv7/Z6pm8lkUq/Xy/WqoEd/PB7X69U0TaZht9vtfr+LUVK886dqAcX/UPVIjapHar6sx7IsAEAQBNynZEoej8fgL0mSiJhCRCYv7X/U4/s+AGC5XFKG0sOa7DhOHMfPW8zVamXb9renKkK+Qu1iPUEQYIwJIe12m9KGEtbkJEmiKIrj+Lk5m80QQtvtluMUNFSrXazHdd0wDKnlGWBNPhwOCCEI4XMzSZI0TdfrNccpaKhWW95bA4yxZVnP30EQ2La92+00TTufz5V6fQNfbXnryfF9fz6fk9/26paLNrd6HMcBL3CJxRifTqefR32VL7M2t3rCMHx9o/eTQAhhFEUQwnxdvlwuH5d1LkiuLe/i1uv1NE2bTqf5HozxYDCozogKvtry1uO6LkIoPzHf96Mo+njacsJZ2/M80zTz6zpN09djEEKFy7/f77N+76FMLjAcDvODBU0hs7Ze2AshJGLukcolMz1ziJCvVlvexU2hqXokR9UjNaoeqVH1SI3ebDY7nc5ms2EaZhhGq9USo6R4RwcAHI/HxWLBOpL1zz2KEgBBTzkKLrwBJorNJi8LKjwAAAAASUVORK5CYII=\"></div><div class=\"grid-item\"><img alt=\"Output\" src=\"data:image/png;base64,iVBORw0KGgoAAAANSUhEUgAAADEAAAAcCAIAAABHzMCjAAAAznpUWHRSYXcgcHJvZmlsZSB0eXBlIGV4aWYAAHjabY/rDcMwCIT/e4qOgAEf9jhO4kjdoOMXP9TKVU8KB1+AhNBezzs8ujhS0GQZBSCXFi1cPck0NT1SGXFIlnu98RDPxauj9H2Btvixc8N0zj+LiD9fij0XXQNrkfDksc76WP1cc94XFdoE+vz631rFGAnR1KMymaF4noOnbkhMyXDjBLwx4mLS073BzMdgvUNqH+ziZnt3CxAHVz9B+qNS3cVjFL/ICQ+ig2Q+PC+D9HPeSgNasWQmYqkAAAAJcEhZcwAADsQAAA7EAZUrDhsAAAA8dEVYdFNvZnR3YXJlAENyZWF0ZWQgd2l0aCB0aGUgV29sZnJhbSBMYW5ndWFnZSA6IHd3dy53b2xmcmFtLmNvbVyipoUAAAAhdEVYdENyZWF0aW9uIFRpbWUAMjAyNDowMzoxMCAyMjowNDoxOIBy7XwAAAEdSURBVFiF7ZcxioQwFEDzl4CFgk3AxiKohQfwAB7D0hN4hSBYeQrLgBew8hw23sAiIBZWmW4YnBk3ya7sLOSV4vs8icgXpJTow8BCCCGEgel5HiHk14MQQogxZiaWZSmvATuOk2VZ3/daQVVVua5r9jDfgvd9X5aFUqqlreu6bds1Sejrork/wTap8bYpSRIA4JxrjTOwnpUXTW3bAkDTNFo1BtY75djEOR/HUUoZhqH6dAPrRDk2FUUxDIN6jbF1ovyrd/wPsU1q2CZFGGOU0vvuMs/z8z1xHB9WnDzPH/cnReuREwUfrkZRJPW3YQPrRPnEs7NNatgmNbDv+2madl2npRFCgiC4JglhAJimqa5rXVP3V0cdMPgaXc0N6gMDYusSy9MAAAAASUVORK5CYII=\"></div><div class=\"grid-item\"><img alt=\"Output\" src=\"data:image/png;base64,iVBORw0KGgoAAAANSUhEUgAAAJQAAAAcCAIAAAAIvQE2AAAAz3pUWHRSYXcgcHJvZmlsZSB0eXBlIGV4aWYAAHjabY9rDgMhCIT/e4oeAQEHPY676ya9QY9ffKSNTScRxk9ECe31vMOjiyMFTZZRAHJp0cLVTaapmSOVEYeKrrO48xDPxauj9D1AW/zYuWFmzj+NiKeR/oJ7WS/aaiQ8eaxzf6x6rjnvjQptAn2+/nevYoyEaOpRmcxQ3Ofg1hMSUzLcOAEvjLiY9PTcYObXYL1Car/Yxc326hYgDq4+gvSlUj2Lxyg+kRMeRAfJfLgvg/Rx3ldKWrq1swbNAAAACXBIWXMAAA7EAAAOxAGVKw4bAAAAPHRFWHRTb2Z0d2FyZQBDcmVhdGVkIHdpdGggdGhlIFdvbGZyYW0gTGFuZ3VhZ2UgOiB3d3cud29sZnJhbS5jb21coqaFAAAAIXRFWHRDcmVhdGlvbiBUaW1lADIwMjQ6MDM6MTAgMjI6MDQ6MTiAcu18AAACMElEQVRoge2aMYrCQBSGZ5aAhYJNwDZkUngAW0Ubx2PYamFlKQTLeAm1SsALaJMmHsLCKFhbBMTCarYIG7JZ152RN7ME5iuChP+f95jfgZcQzBhDmnJiJEmSJMkbzlqtZpomeEMaAVzXfc84HA6Z5l8xKpVKq9XabDZCyU0mk2q1+l7qGiiMx+NxvV4tyxKy3W63+/0upyUNLx//3YDmfXR4JUaHV2J+Dc9xHIxxEAT8a43HY/zFfr+XYZGtV1MCiW/vc73rupZl5QdQz/MQQr7vp9enQ2q32y08KlBKCSH5FaIoej3pilpk69WU4NleTn0xPN/3KaWMsSiK+MNLxXEcZ3cIIaPR6EVPohbZejUlOLeXU//k5OU74wzP87zsD5h5EUIv2hK1yNarKVEQ85y8F3qYgSUMQ8dx0t9BELTb7fSYn04nKItsvZoSsABPm4vFYjabMZGX3aIW2Xo1JUAwANcaDAYIoePxKM8iW6+mBBQwJ8+27d1uZ9v2drtN71wuF0KIbdtQFtl6NSVggQmv0+kghKbTaXYnDMN+vw9oka1XUwIYkGmTMUYIKTzx5Gfop4haZOvVlEgBmTaL4cVx/DPg/ECc8jM8xhilNLNw9iRqka2XXYJzezn12HXd9Xp9Pp//OKHf6fV6lmUtl0shlwYW/WK6xOjwSowOr8To8EqMDq/EGPV6vdlsrlYrIZtpmo1GQ05LGl4MjPHhcJjP56JO0Q/ONOBgpj93Ly2ffYJQ+s8TeFAAAAAASUVORK5CYII=\"></div></div></div>"
      ],
      "text/plain": [
       "Item[1, Frame -> True]   -1   0   1   -1   0   1\n",
       "Item[1, Frame -> True]   1   1\n",
       "Item[1, Frame -> True]   0   0   0   0   0   0   1   1"
      ]
     },
     "execution_count": 662,
     "metadata": {
      "text/html": [],
      "text/plain": []
     },
     "output_type": "execute_result"
    }
   ],
   "source": [
    "splarr[{0 -> 1, 1 -> -1, 3 -> 1, 4 -> -1, 6 -> 1}]\n",
    "splarr[{0 -> 1, 1 -> 1, 2 -> 1}]\n",
    "%% * %"
   ]
  },
  {
   "cell_type": "code",
   "execution_count": 865,
   "metadata": {
    "vscode": {
     "languageId": "wolfram"
    }
   },
   "outputs": [
    {
     "data": {
      "text/html": [
       "<div><img alt=\"Output\" src=\"data:image/png;base64,iVBORw0KGgoAAAANSUhEUgAAAdYAAAAVCAIAAAB0c1ijAAAAz3pUWHRSYXcgcHJvZmlsZSB0eXBlIGV4aWYAAHjabU/tbQUhDPvPFB2BfODAONw7ntQNOn7NQVVR1RKxMU5Q0vj6fKePCZWcvERFAzLhzZt2ipoXFktuT31wYys5/SRlCem0yu8Dxvav0w8s1vpnUNYlbP5Abb4b9iDT5Utf92vntdd6Dmr5AH6E/H93C0WBhLO65gg06pooSSiaS+CNF8Cg4NbsL/JABNsQM2F9Nk7oiDM9EozGPVewedw62VjFuBEdfXSwqlW9+NqezFznG1xdWr90+FPqAAAACXBIWXMAAA7EAAAOxAGVKw4bAAAAPHRFWHRTb2Z0d2FyZQBDcmVhdGVkIHdpdGggdGhlIFdvbGZyYW0gTGFuZ3VhZ2UgOiB3d3cud29sZnJhbS5jb21coqaFAAAAIXRFWHRDcmVhdGlvbiBUaW1lADIwMjQ6MDM6MTAgMjI6MTc6MjiEijjhAAAFeElEQVR4nO2cMZKyShDHh3cMIws4wwZbkgpHwI2MtgoOgIkhiZSxVhmZSeABdINNoAw8A0NZ1pbX4AVdO48HiCj0jN/n/CKLxfl300zPTM+sSpZlRCKRSCQi+EeIqq7riqIoihLHMbZWHMeKogRBgKoShqHyi67reELs0QFhGOJpMRXLsvBUgCAIFEVxXbfSgDRN+atbloX9hK+pu64r1nd2HbuHVqpDn+Xz4uFRcC1NU+X/QGQFpOAgCD4/P7Msi6LIMAxsOcMwTNPEViGEOI6TZVmWZUmS4KkkSZL9omna29sbkpDrupvNBoQIIahd0XXd0+k0m83yFy3LAgOiKBoOh5zVdV0fj8cc3pxK9cViAU9+s9nM53PO6oSQOI5Xq5WmaXjS19TjODYMA9zf7XaoBuBRdk1VVdZzKaWapqmqSoSkYM/zPM8jhPR6PWwtyCPg6l9GGIbD4RDPtX6/P51OCSFpmu73+8FggCRECFksFovFIn8FRG3bJoQcDgdKKd4YUFYnhCRJAurYVKozzudzv9/nrz4ej7++vvB0a9R934+iCFsam/qwzudz3/fhs5hCBHA8HlFnGXEcp2nKpyMRQpbLJYfiAGM6nX58fOC173neer1WFGU4HPLfMLhcLvBuuK77/f1tmubPzw9nG8QCFafVagXzFZ7AOlXUxGW/3x8OB+hK2PVDIaRpulwuWV4SloLTNB2NRjUDRXvG4zFq+3ls22ZLjNFohF2/C8NQ13XUmWkYhrAe9H2fQ0WyEqij/bmr0TZAxcn3fdSthTJpmgrJ+wWgN00mk05ePCjr1+8/sV2Wu1p+4Fvz+TxfoBCTgtM01TQtiiK8kTaOYyi4KIqyXC4nkwmfV1lVVU3TLpcLqsp0OoUqAR7r9Xqz2RBCbNs2TfN4PKLKFej1evv9vt/vwyCaJAle1fuZsW2bUspTcbvdUkohrVBKDcMo79RhwwYA0zTbdyXo+Ky2bhhG5TpV13W289EcGCkdx2l4P0yB8yOcgBTM8i/qJG4wGLDit+M4s9kMdZeMEYYhpRTVNRjGUSWA8/kMH/g8ujyqqpqm+f7+TgiBDvNXFvRvEoYhn81khud5+f3eKIq4LSUBx3Eg4p1sQgRBQCllCynbth3HwZ6+1LDdbov5mqXw2WzGHj38iVKaPUR9gwUL8rd1rsXuaalyUyi/smgpdFNL0zR2VgFVqKsY3RQq7ImDd/nZH3/1QuJ7uC/cNKBe3TTNNrqPqTMgBfNXZ1faq5umyY4qAbDXV265/KibJ8aCRFb7She+TvJi+RR5l59lumqw7BueFjeh13SKm0f81Z8qoPzVxYa+Xp2UJhCQB8uTmMrRrqHlTV6AqxbmLYDpVSeDT1cNNvStc+NRhV7WKW4ecVZ/toByVhcbetQUnDWzvJsUnP1Os2tWnZVlqbrWbzV4k+a+PawlnWojxGjoVHuhPPzdrIRDQMvc63u36nmEhL6hevsUnDWwvE0K/m87jh3+OJ1O5dACu93umn1lmjR4DXaIhB22rT/20UZLOsXNqTZClXBzsxKeAS1zl++dqxPRoW+ormlaQRGOWDQ/YNO55UXywXMcB2rVnez2dNJg8wG2W+NRhV7WKW4ecVZ/toByVhcb+np12BYr3F854b02C25ieQeFCKh35I1uWa/pqsHmZab2WtyEXtMpbh7xV3+qgPJXFxv6m+ok9/stNSXda3m5ieVtUzD8GEe+6fKVu+iwwZu+dW48B6EXdIqbR0LUnyegQtTFhr7hHJxx7XxhOQU3t7xNClay2vqRRCKRvAKWZT38r/Cu6z78Dywif6ZHIpFIXhw5C5ZIJBKi6zqcV7srJT72rTwyBUskEokwZCFCIpFIhPEvEklLtUe3TMwAAAAASUVORK5CYII=\"></div>"
      ],
      "text/plain": [
       "     2    4    5    7    8    10    11    13    14    16       17\n",
       "x - x  + x  - x  + x  - x  + x   - x   + x   - x   + x   + O[x]"
      ]
     },
     "execution_count": 865,
     "metadata": {
      "text/html": [],
      "text/plain": []
     },
     "output_type": "execute_result"
    }
   ],
   "source": [
    "Series[1 / (1 + x + x^(-1)), {x, 0, 16}]"
   ]
  },
  {
   "cell_type": "code",
   "execution_count": 875,
   "metadata": {
    "vscode": {
     "languageId": "wolfram"
    }
   },
   "outputs": [
    {
     "data": {
      "text/html": [
       "<style>\n",
       "\t\t\t\t\t\t\t\t\t\t\t\t\t.grid-container {\n",
       "\t\t\t\t\t\t\t\t\t\t\t\t\t\tdisplay: inline-grid;\n",
       "\t\t\t\t\t\t\t\t\t\t\t\t\t\tgrid-template-columns: auto;\n",
       "\t\t\t\t\t\t\t\t\t\t\t\t\t}\n",
       "\t\t\t\t\t\t\t\t\t\t\t\t</style>\n",
       "\n",
       "\t\t\t\t\t\t\t\t\t\t\t\t<div><div class=\"grid-container\"><div class=\"grid-item\"><img alt=\"Output\" src=\"data:image/png;base64,iVBORw0KGgoAAAANSUhEUgAAAVIAAAAcCAIAAAC8kqAQAAAAznpUWHRSYXcgcHJvZmlsZSB0eXBlIGV4aWYAAHjabU/tbQUhDPvPFB2BfODAONw9ntQNOn7NQVVR1RKxMU5Q0vj6fKePCZWcvERFAzLhzZt2ipoXFktuT31QdCs5/ST3EtJpld8HjO1fpx9YrPXPoKxL2PyB2nw37EGmy5e+7tfOa6/1HNTyAfwI+f/uFooCCWd1zRFo1DVRksDVS+CNG2BQ8NLsN3kggm2ImbA+Gyd0xJkeCUbjNVewedw62VjFuBEdfXRlJfTia3syc51vUCtat4vJmQcAAAAJcEhZcwAADsQAAA7EAZUrDhsAAAA8dEVYdFNvZnR3YXJlAENyZWF0ZWQgd2l0aCB0aGUgV29sZnJhbSBMYW5ndWFnZSA6IHd3dy53b2xmcmFtLmNvbVyipoUAAAAhdEVYdENyZWF0aW9uIFRpbWUAMjAyNDowMzoxMCAyMjoxODozM1IgwH4AAAKwSURBVHic7dw/r/lQHMfxc35pYiCxSCyGpjV4AFbCQh+C0WwwiUnSSCw6eQZYkHgCaujCgzD4k5gNEjGYzm+QK/enQnuqpb/zeW162+9539wccjVQxhgBAJFIx+PxeDxyXBmLxRKJxNuDAMBvUq/Xa7fbHFdWq9V+v//2IADwmxSJRLLZ7HQ6dXVZvV6PRqM+NQGAr6TL5XI4HGRZdnXZ6XQ6n8/+JAGAv/58OgAAgoZtDyAcbHsA4Tze9rVajf5YLpfOx6XTaUrpZDJ5Ux7PTI54ZHOPFSfb7RJ+zHxX9oNtr2nafD5njDHGut1uLpdzsoBhGJTSTqfjMMUJjplu45HtZawg2RxLOPHB7Pttv1wuTdOcz+fXh81mU1XV0Wj0fPpkMrEsizGWSqUc/g4vccx0G49sL2MFyeZYwokPZ+u6Lssy+9HtdlVVvT1cLBbX09i/CoVCtVplNtfzx+Ox/UfcnM90GO9lCedCmu18rGjZzpdw5SPZ96/2lmWl0+nbs0UulxuPx4SQ7Xb7+hnp00Iaj+wgIZs8eSffMIxWq8XC+UGdkMYjO0giZ0sPj2qaRghZr9deRr+kaZppmncHvf8Z/I5H9t1YguxH8785+/7VXlEU0zQVRZnNZtcj+/1eVVVFUTyuZDebzez/h3gZGEw8sq+Q/cSXZ99v+3w+TwhpNBq3I5ZllUol3tpAhTQe2UFCNrFv+0qloqrqbZxhGKZp/l7sm4U0HtlBQjYhtht4V+Vy+XbCgxsCtht4m83GPvn3/QYO3DNfxiP7jWP/+2yfyj+bTXVdHw6Hu93OfsYTxWJRlmV8zQZAGOGjOADCwbYHEA62PYBwsO0BhINtDyAcKR6PZzKZwWDg6rJEIpFMJv1JAgB/SZTS1WrF8VX5br9sFwC+BGVh+wQSAHj0F2XKFTqPacJnAAAAAElFTkSuQmCC\"></div><div class=\"grid-item\"><img alt=\"Output\" src=\"data:image/png;base64,iVBORw0KGgoAAAANSUhEUgAAAC4AAAAcCAIAAACRaRrGAAAA0HpUWHRSYXcgcHJvZmlsZSB0eXBlIGV4aWYAAHjabU/RbQUhDPtnio4QkuDAONw9ntQNOn7NgVpR1RKJcZxA0vj6fKePCc2SvERFA4Tw5k07SZWFlbO0Jz7QsWv51FO+t94pld8CdkO+Tj2wB9Y/g0QXsfkCuflu2INMl577ul/br73Wc1CTA5Cfr/97dwtFQQ5ndJUINPKaSJlQVErgjRugMeOl4jfzQATbENNhfTZO6IjTPRKMwmuuYPO4dWZjzMaNqOjDK6OZ68VqezxznW+VcVrnGp79AAAAAAlwSFlzAAAOxAAADsQBlSsOGwAAADx0RVh0U29mdHdhcmUAQ3JlYXRlZCB3aXRoIHRoZSBXb2xmcmFtIExhbmd1YWdlIDogd3d3LndvbGZyYW0uY29tXKKmhQAAACF0RVh0Q3JlYXRpb24gVGltZQAyMDI0OjAzOjEwIDIyOjE4OjM0zERV3QAAASNJREFUSIntlz+KhTAQhyfywELBJmBjEdTCA3gAj2HpCbyCCFaewjLgBaw8h403sAiIhdW8Zln2j/uchF3Wwl+XMN/kI1pMGCLCNfIg1imllFIGB7iuyzknlSItVVUZeABAURTEI6i3Ytt2mqZ932t5lGXpOA6xmKqy7/uyLEIILZV1XbdtIxZbWq3/NLfKUT6pxHHMGJNS0nkD5CfqTaVtW8ZY0zT0dgbIa8oCACnlOI6IGAQBsaMBckpZAJDn+TAM9I5myCl11d/2f3OrHOVWOQwizvP8fT+Koi/zihDifUlBEDHLso/zymvqAQBhGOqOlQbIKXWhD3SrHOVWOQp1zPY8L0mSruu0unPOfd//ZRXG2DRNdV1rqQAA/ZHArvNQfQIa1/FlNXPhqgAAAABJRU5ErkJggg==\"></div><div class=\"grid-item\"><img alt=\"Output\" src=\"data:image/png;base64,iVBORw0KGgoAAAANSUhEUgAAASgAAAAcCAIAAABd+bVBAAAAznpUWHRSYXcgcHJvZmlsZSB0eXBlIGV4aWYAAHjabU/bDQMhDPtnio6QFwmMw12p1A06fs1B1SLVEonjOEFJ/fV8pNuAMCXLUby6E2DVqjSQQhMzM9UrXpCyGO964nMSbpDyt+F96ceuh/8s/F1EMomOH8DV1sBapDJ1brM+ll9aKfuiShv8Q/h/bRri2TkM0YQivIKXBIrkWSiHP/x0h5H9LmQncvcIjHkMh7YxOCA9dndPrhDu4wQdz7QhKyIrLoIiFy+IqiYHuvXyjHPeVKNau1jea+cAAAAJcEhZcwAADsQAAA7EAZUrDhsAAAA8dEVYdFNvZnR3YXJlAENyZWF0ZWQgd2l0aCB0aGUgV29sZnJhbSBMYW5ndWFnZSA6IHd3dy53b2xmcmFtLmNvbVyipoUAAAAhdEVYdENyZWF0aW9uIFRpbWUAMjAyNDowMzoxMCAyMjoxODozNMxEVd0AAAJiSURBVHic7Zy9ivJAGIUnHwELBZuAbUhSeAG2ijbGy0irhZWlECxj5R2oVQLegDZp4kVYGAVri4BYWM0W4QvBv/wwY0DPUyxLeJ+ctzkbmNUIlFICAPgsYhAEQRDkMCuViiRJzBcC4BcQZ7PZZDLJYRqGMZ/PmS8EwC8glkqlRqOxWq0yacPhsFwuc9oJgK9HvN1u5/NZluVM2uVyuV6vfFYC4Pv5V/QCAPwiKB4ABYDiAVAAL4unaZogCI7jpL/XYDAQ/rPdbnkovOcRgYhEclTjiWKapizLNIZlWYQQ27bDn/QZ7XbbMIz4FV3XVVWN38HzvKduboX3PCIQ8V5JU42Uyn3xbNvWdZ1S6nle+uKFw77vR1dUVe33+28WyqrwnkcEIt4rKauRUnnyxIuvlbJ4lmVFfzkilxDyZqesCu95RCAiUYlPpnzivVLYHK64rqtpWvi74zjNZjN8th4OB1YK73lEICJRYQjjU83pdDoej2mWD15nVXjPIwIRH0BkeK9er0cI2e/3/BTe84hAxGdg88RTFGWz2SiKsl6vwyun00lVVUVRWCm85xGBiESFIWyK12q1CCGj0Si64rput9tlqPCeRwQiEhWWMDnVpJSqqnr3L5H4Qe1Tsiq85xGBiESFMjrVvC+e7/uP5YyfuoY8Fo9Squt6pKRcKKvCex4RiHhFymqkVATTNJfL5fF4fJx4Q6fTkWUZX4QFIB/4kDQABYDiAVAAKB4ABYDiAVAAKB4ABSBWq9V6vb5YLDJpkiTVajU+KwHw/YiCIOx2uxyv1sz6YjIAQIRA8Qp3AD7OHzmjAmrcFQ1eAAAAAElFTkSuQmCC\"></div><div class=\"grid-item\"><img alt=\"Output\" src=\"data:image/png;base64,iVBORw0KGgoAAAANSUhEUgAAAVIAAAAcCAIAAAC8kqAQAAAAz3pUWHRSYXcgcHJvZmlsZSB0eXBlIGV4aWYAAHjabU/tbQUhDPvPFB2BfODAONw9ntQNOn7NQVVR1RKxMU5Q0vj6fKePCZWcvERFAzLhzZt2ipoXFktuT31QdCs5/ST3EtJpld8HjO1fpx9YrPXPoKxL2PyB2nw37EGmy5e+7tfOa6/1HNTyAfwI+f/uFooCCWd1zRFo1DVRksDVS+CNG2BQ8NLsN3kggm2ImbA+Gyd0xJkeCUbjNVewedw62VjFuBEdfXRlNXO9+NqezFznG1A7Wrjea3HnAAAACXBIWXMAAA7EAAAOxAGVKw4bAAAAPHRFWHRTb2Z0d2FyZQBDcmVhdGVkIHdpdGggdGhlIFdvbGZyYW0gTGFuZ3VhZ2UgOiB3d3cud29sZnJhbS5jb21coqaFAAAAIXRFWHRDcmVhdGlvbiBUaW1lADIwMjQ6MDM6MTAgMjI6MTg6MzTMRFXdAAACkklEQVR4nO3cv46iUBiH4YPZW7CzEA61VyBTKjdgYmNMLK2NlYkWNnAVVsIlAAWNXIZ/iKEwMbGyNDlbMGtcZ3bn8LkysvyeaiR8xzcmJ2REVYQQDADK5Md3BwAAUZIkl8uFMKjgag9QUKqqxnFMGMTVHqCoqtVqr9cbDAbyI4fDodPpYNsDFNXxeKxUKvV6PdNUkiSV5/QAwOvCtgcoHWx7gNL5bdvruq4oiuu6MpPD4VD5JYqifxWUqYEwgmxyA2HkSdlZM7KeX9DslEz8+7a3bVtRlPl8Lrm0aZpBEAghhBCWZRmG8firk7WBMIJscgNh5BnZhIySZKck4yuMMdd1wzAUQtRqNZmloyjyfT8IgvTheDzmnC+Xy0x9d7I2EEaQTW4gjDwjm5BRkuxUhnhxY7VaMcYcxxF/ZVkW5/xu6m4pMskGwgiyyQ2Ekadmy2dkPb9Y2fV6fTqdXh/KxO92O0Z7Sy8MQ13X079d1zUMw3Ecxth2uyWslhtk5wnZ+ZOPf+idfNu2J5OJKNrHe5GdJ2Tn78t4+qf0TNNkjK3Xa8mTfd+/O/gtr2mmbPYy5cjOU0GzrzHsq3jK1V7TNN/3NU3zPC89st/vOeeapv1pxPO8j/+ZEJ76EYRs9gLlyM6l911Bs1Py8ZRt//b2xhgbjUbXI2EYtlotam1OkJ0nZOdPPp6y7bvdLuf8upxt277v3z7Za0J2npCdvwzxQojNZvPx+O2dgE+12+3bRR5EaEB22bIJGf939t0NPJn49AYefmYDoKhUVe33+7PZTH4kjmNVVfFVHIDSwbYHKB1se4DSwbYHKB1se4DSwU9oAhRVo9E4nU6LxUJ+5Hw+N5tN3MADKCrDMJIkIQxi2wOUzk91wBnzfA2AVQAAAABJRU5ErkJggg==\"></div><div class=\"grid-item\"><img alt=\"Output\" src=\"data:image/png;base64,iVBORw0KGgoAAAANSUhEUgAAAC4AAAAcCAIAAACRaRrGAAAA0HpUWHRSYXcgcHJvZmlsZSB0eXBlIGV4aWYAAHjabU/RbQUhDPtnio4QkuDAONw9ntQNOn7NgVpR1RKJcZxA0vj6fKePCc2SvERFA4Tw5k07SZWFlbO0Jz7QsWv51FO+t94pld8CdkO+Tj2wB9Y/g0QXsfkCuflu2INMl577ul/br73Wc1CTA5Cfr/97dwtFQQ5ndJUINPKaSJlQVErgjRugMeOl4jfzQATbENNhfTZO6IjTPRKMwmuuYPO4dWZjzMaNqOjDK6OZ68VqezxznW+VcVrnGp79AAAAAAlwSFlzAAAOxAAADsQBlSsOGwAAADx0RVh0U29mdHdhcmUAQ3JlYXRlZCB3aXRoIHRoZSBXb2xmcmFtIExhbmd1YWdlIDogd3d3LndvbGZyYW0uY29tXKKmhQAAACF0RVh0Q3JlYXRpb24gVGltZQAyMDI0OjAzOjEwIDIyOjE4OjM0zERV3QAAASNJREFUSIntlz+KhTAQhyfywELBJmBjEdTCA3gAj2HpCbyCCFaewjLgBaw8h403sAiIhdW8Zln2j/uchF3Wwl+XMN/kI1pMGCLCNfIg1imllFIGB7iuyzknlSItVVUZeABAURTEI6i3Ytt2mqZ932t5lGXpOA6xmKqy7/uyLEIILZV1XbdtIxZbWq3/NLfKUT6pxHHMGJNS0nkD5CfqTaVtW8ZY0zT0dgbIa8oCACnlOI6IGAQBsaMBckpZAJDn+TAM9I5myCl11d/2f3OrHOVWOQwizvP8fT+Koi/zihDifUlBEDHLso/zymvqAQBhGOqOlQbIKXWhD3SrHOVWOQp1zPY8L0mSruu0unPOfd//ZRXG2DRNdV1rqQAA/ZHArvNQfQIa1/FlNXPhqgAAAABJRU5ErkJggg==\"></div><div class=\"grid-item\"><img alt=\"Output\" src=\"data:image/png;base64,iVBORw0KGgoAAAANSUhEUgAAASgAAAAcCAIAAABd+bVBAAAAznpUWHRSYXcgcHJvZmlsZSB0eXBlIGV4aWYAAHjabU/bDQMhDPtnio6QFwmMw12p1A06fs1B1SLVEonjOEFJ/fV8pNuAMCXLUby6E2DVqjSQQhMzM9UrXpCyGO964nMSbpDyt+F96ceuh/8s/F1EMomOH8DV1sBapDJ1brM+ll9aKfuiShv8Q/h/bRri2TkM0YQivIKXBIrkWSiHP/x0h5H9LmQncvcIjHkMh7YxOCA9dndPrhDu4wQdz7QhKyIrLoIiFy+IqiYHuvXyjHPeVKNau1jea+cAAAAJcEhZcwAADsQAAA7EAZUrDhsAAAA8dEVYdFNvZnR3YXJlAENyZWF0ZWQgd2l0aCB0aGUgV29sZnJhbSBMYW5ndWFnZSA6IHd3dy53b2xmcmFtLmNvbVyipoUAAAAhdEVYdENyZWF0aW9uIFRpbWUAMjAyNDowMzoxMCAyMjoxODozNMxEVd0AAAI0SURBVHic7ZwxztowHMXtqhdgZyBxLsCeIFgwV4GBiZELhJFLJEeAJUEKEiMXIBAhS1wCyR3SpinQYucLtiq934CQ9X96b3mx5FihUkoCADDLd9sBAPhfud/vQohmWhQPgIYIIRzHaaZF8QBoTrfbXa/X/X5fXXI8HufzOYoHQHOEEJ1Op9frqUuKohBCfPtYJADAX0HxALAAigeABf4onud5lNI4jhXFWvOz2Yz+Yr/ff0ICC1jYjVTxvhpSSillGIaEkCiKyl/5Dt15zjljrK7NsqxdCSxgYTjS5XIhhKRpWl98W400TX8WL4oizrmUMssylSLpzpdjeZ5XK4yx6XTaogQWsDAf6bl4KtX4XbwHM5UdTGs+DMPqyVGpHqy/KIEFLMxHernj1ef/UTwThytJknieV/6P4zgIgnIjPp/PbUlgAQu7kXQxeqq5Wq2Wy6XUuZatK4EFLOxGUsTczZXJZEIIOZ1On5PAAhZ2I6ljYsdzXXe73bquu9lsypXr9coYc123LQksYGE3ki4mijcYDAghi8WiWkmSZDwetyiBBSzsRtJG8SjmJerzjLGHVyL1g9pWJLCAheFIXznVJFLKPM+fC1k/S31Ad76Ec/6y7S1KYAELk5Gei6dSjbJ4VOLTDwA0oigKx3HSNB0Oh+qq3W43Go1wSRoAC6B4AFgAxQPAAigeABZA8QCwAD52BEBDKKW+7x8Oh6Io1FW32833fbxOAKAhQoggCJppUTwALPADb6kKtqiK9dEAAAAASUVORK5CYII=\"></div><div class=\"grid-item\"><img alt=\"Output\" src=\"data:image/png;base64,iVBORw0KGgoAAAANSUhEUgAAAQEAAAAcCAIAAADusZ1bAAAA0XpUWHRSYXcgcHJvZmlsZSB0eXBlIGV4aWYAAHjabU9RjkQhCPv3FHsEBCx6HN8bJ9kbzPGnPs3svs2SSEspGNJ4fT/T1wzNkrxERQOE4c2bdpIqKxZmaVeWXeUP/tJTPne/Uyo/DYytH3c9sFDrn0Wii9j8gdx8D+xFpkvPfdXH9muv9b6oyS0gnxP+rd1CUZDDmV0lAo28JlICikoJPHECNGY8VPwkDkRwDDEd1ufgDB1xd48Eo/CYJ9h8bp1ozNl4ERW9eGU2cz3YbZdnnvMGR2BasmZAdagAAAAJcEhZcwAADsQAAA7EAZUrDhsAAAA8dEVYdFNvZnR3YXJlAENyZWF0ZWQgd2l0aCB0aGUgV29sZnJhbSBMYW5ndWFnZSA6IHd3dy53b2xmcmFtLmNvbVyipoUAAAAhdEVYdENyZWF0aW9uIFRpbWUAMjAyNDowMzoxMCAyMjoxODozNMxEVd0AAAKuSURBVHic7Zy/zvFQHMdPnxgMBoPR0D8GN0F0oTcgMXaxmMUgEotFb6Im7SW0HUqig4vAYDIYbAyS8w7e19uHPA/n9PS00t9nosnvfD/91S+qlIAxRgCQYXJJC2SCw+FwuVwoCkulUqFQYO4DhBHgfYADqqoul0uKQtM0dV1nbAN8B94HeFAsFrvd7nA4JKpqt9u5HByg2IEW8+B0OhWLRVEUiaqOx+P1eo3HCPjPV9ICAJAwMANA1oEZALLOtxmoVCqCINi2zTCAaM1eryf8IwiCOCLiWJNOmzQlYhZzEz4tYujwU8nfGTAMQxCEyWTCSo5iTU3TPM/DGGOMp9NprVZ72awP1aZIiZLF3IRPi9g6/FLyhRCybdv3fYxxuVyOaHaHdM0gCFzX9Tzv9nQwGCiKMp/PGUa8AwdtipQoWcxN+LSIrcOLEhxitVohhCzLwux4c83pdKooykPVg17ECCLYajcaDV3XSVNEUTRNkzSLDooecjiyrBx+L0nLZ2Lf9yuVyu2xbdu1Ws2yLITQbrdL1OsFPLWhRTGRlhm4YxjGaDTCn/YLDp7a0CK2UM6ApmnCE9FtNE3zfX+z2URf6qf1P1GbOium/aUgzdqUM+A4zvOZVhQPWZZd15Vl2XGc25b9fq8oiizLUZZ94EO1qbOY7y8F6ddOy7lQvV5HCPX7/fsW3/ebzWZyRm/BUxtaFBNpmYFOp6Moyr01hmG4rhtuXDrhqQ0tiguM8Xa7fd4evp5FAd2arVYrLBZHRCLaD9dG30x5uDb6ZhYRFPvL4chy1oZ7aHigqurtBU1UJUnSeDyGe2jiJi3nQgCQFDADQNaBGQCyDswAkHVgBoCsA/fU80CSJITQbDYjqqpWq/l8PhYhIATMAA/O5/N6vV4sFqSF8N8qHIDvB4Cs8wdRGMtgyXlyggAAAABJRU5ErkJggg==\"></div><div class=\"grid-item\"><img alt=\"Output\" src=\"data:image/png;base64,iVBORw0KGgoAAAANSUhEUgAAAC4AAAAcCAIAAACRaRrGAAAA0HpUWHRSYXcgcHJvZmlsZSB0eXBlIGV4aWYAAHjabU/RbQUhDPtnio4QkuDAONw9ntQNOn7NgVpR1RKJcZxA0vj6fKePCc2SvERFA4Tw5k07SZWFlbO0Jz7QsWv51FO+t94pld8CdkO+Tj2wB9Y/g0QXsfkCuflu2INMl577ul/br73Wc1CTA5Cfr/97dwtFQQ5ndJUINPKaSJlQVErgjRugMeOl4jfzQATbENNhfTZO6IjTPRKMwmuuYPO4dWZjzMaNqOjDK6OZ68VqezxznW+VcVrnGp79AAAAAAlwSFlzAAAOxAAADsQBlSsOGwAAADx0RVh0U29mdHdhcmUAQ3JlYXRlZCB3aXRoIHRoZSBXb2xmcmFtIExhbmd1YWdlIDogd3d3LndvbGZyYW0uY29tXKKmhQAAACF0RVh0Q3JlYXRpb24gVGltZQAyMDI0OjAzOjEwIDIyOjE4OjM0zERV3QAAASNJREFUSIntlz+KhTAQhyfywELBJmBjEdTCA3gAj2HpCbyCCFaewjLgBaw8h403sAiIhdW8Zln2j/uchF3Wwl+XMN/kI1pMGCLCNfIg1imllFIGB7iuyzknlSItVVUZeABAURTEI6i3Ytt2mqZ932t5lGXpOA6xmKqy7/uyLEIILZV1XbdtIxZbWq3/NLfKUT6pxHHMGJNS0nkD5CfqTaVtW8ZY0zT0dgbIa8oCACnlOI6IGAQBsaMBckpZAJDn+TAM9I5myCl11d/2f3OrHOVWOQwizvP8fT+Koi/zihDifUlBEDHLso/zymvqAQBhGOqOlQbIKXWhD3SrHOVWOQp1zPY8L0mSruu0unPOfd//ZRXG2DRNdV1rqQAA/ZHArvNQfQIa1/FlNXPhqgAAAABJRU5ErkJggg==\"></div><div class=\"grid-item\"><img alt=\"Output\" src=\"data:image/png;base64,iVBORw0KGgoAAAANSUhEUgAAAPMAAAAcCAIAAAA7hh4/AAAA0XpUWHRSYXcgcHJvZmlsZSB0eXBlIGV4aWYAAHjabU9bbgQhDPvnFHuEkAQHjsPMMlJv0OOvGVCrqWqJ2DgPSBrfX1d6TWiW5CUqGiCEN2/aKaosLM7S7njjsp3LTz/lc/udVvlNYGz/ePqBxVr/DBJdwuYL1Oa7YQ8yXX7u637seu21Pgc1eQDy8/V/726hKMjhjK4SgUZdEyUJRaUELpwACzPeKn6SByLYhpgV1mfjhI54Vo8Eo/GeK9g8bp1sjNm4ER29dWU0cz2YbXfNXOcDmJda6Q/Il3YAAAAJcEhZcwAADsQAAA7EAZUrDhsAAAA8dEVYdFNvZnR3YXJlAENyZWF0ZWQgd2l0aCB0aGUgV29sZnJhbSBMYW5ndWFnZSA6IHd3dy53b2xmcmFtLmNvbVyipoUAAAAhdEVYdENyZWF0aW9uIFRpbWUAMjAyNDowMzoxMCAyMjoxODozNMxEVd0AAAJ8SURBVHic7Zy9zqpAEIaXEwsLCwovAFgKb0IjjXgD9jQWWlsZE2u8CezgErRBEyy8CLGwsrCw08JkT0EO4aifHz+LyDhPYcxmxnd2fFnCIgqMMYIg4KgUXQA0jsfj9XpNkViv12u1Gvd6vhYB12y+aJq2Xq9TJFqWZRgG52q+GFyzOSOKYr/fH4/HibJ6vV6lgt8FT7CbnDmfz6IoSpKUKOt0Ot1ut3wq+lL+FF0AguQCOhuBCTobgcl/zlZVVRAEx3HiZA6HQ+Efm82GezwYiYBEvX1bbTAkyNP2MsYYY6ZpEkJs2w5e2W/ouk4pjeZ6nscxvrwS7XbbMIzoSJzeSpJkWVbetWVM+UyJn9pLGGO2beu6zhjzPC+Os4Mw3/fDEUrpYDDgFV9qiTtnx+ztnbPLO/03S7xoL3n86F+dbZpmeGCFWeHynz2+1BKPa3Y0Pqazyzv9N0vcBUfbm+YK0nVdVVWD947jNJvN4Fyw3++5xIORSA2M6Rfb4Ux7I7PZbDKZsNj355PGg5FIDYzpF9Lh9Pcgu90uIWS32+UUD0YiNTCmX1SH06zZiqIsl0tFURaLRTByOBwopYqicIkHI5EaGNMvtsNpnN1qtQgho9EoHHFdt9Pp8IoHI5EaGNMvuMOvLzB/glJ6t+8Y3azJHl9eCS57IznVljHlMyUCnu/6+b7/6Pjo/stTdF1/enjwii+pxJ2zY/b20dl51JY95dMkXrQXnzzgjKZpgU0TZcmyPJ1O8ckDjuAvohCYoLMRmKCzEZigsxGYoLMRmOATvpyRZZkQMp/PE2U1Go1qtZpLQd8KOpszl8tlu92uVqukifivDHzB/WwEJn8B3kQWv9p/SkEAAAAASUVORK5CYII=\"></div></div></div>"
      ],
      "text/plain": [
       "Item[0, Frame -> True]   1   -1   0   1   -1   0   1   -1   0   1   -1   0   1   -1\n",
       " \n",
       ">       0   1\n",
       "1   Item[1, Frame -> True]   1\n",
       "Item[1, Frame -> True]   0   0   0   0   0   0   0   0   0   0   0   0   0   0   0   1\n",
       " \n",
       ">       1\n",
       "1   0   -1   1   0   -1   1   0   -1   1   0   -1   1   0   -1   1   Item[0, \n",
       " \n",
       ">    Frame -> True]\n",
       "1   Item[1, Frame -> True]   1\n",
       "1   1   0   0   0   0   0   0   0   0   0   0   0   0   0   0   0   Item[1, \n",
       " \n",
       ">    Frame -> True]\n",
       "1   -1   0   1   -1   0   Item[1, Frame -> True]   0   -1   1   0   -1   1\n",
       "1   Item[1, Frame -> True]   1\n",
       "1   0   0   0   0   0   0   Item[1, Frame -> True]   0   0   0   0   0   0   1"
      ]
     },
     "execution_count": 875,
     "metadata": {
      "text/html": [],
      "text/plain": []
     },
     "output_type": "execute_result"
    }
   ],
   "source": [
    "splarr[{1 -> 1, 2 -> -1, 4 -> 1, 5 -> -1, 7 -> 1, 8 -> -1, 10 -> 1, 11 -> -1, 13 -> 1, 14 -> -1, 16 -> 1}]\n",
    "splarr[{0 -> 1, 1 -> 1, -1 -> 1}]\n",
    "%% * %\n",
    "\n",
    "splarr[{-1 -> 1, -2 -> -1, -4 -> 1, -5 -> -1, -7 -> 1, -8 -> -1, -10 -> 1, -11 -> -1, -13 -> 1, -14 -> -1, -16 -> 1}]\n",
    "splarr[{0 -> 1, 1 -> 1, -1 -> 1}]\n",
    "\n",
    "%% * %\n",
    "\n",
    "splarr[{0 -> 1, 2 -> -1, -2 -> -1, 3 -> 1, -3 -> 1, 5 -> -1, -5 -> -1, 6 -> 1, -6 -> 1}]\n",
    "splarr[{0 -> 1, 1 -> 1, -1 -> 1}]\n",
    "\n",
    "%% * %"
   ]
  },
  {
   "cell_type": "code",
   "execution_count": 528,
   "metadata": {
    "vscode": {
     "languageId": "wolfram"
    }
   },
   "outputs": [
    {
     "data": {
      "text/html": [
       "<div><img alt=\"Output\" src=\"data:image/png;base64,iVBORw0KGgoAAAANSUhEUgAAA6wAAAAvCAIAAABoldD4AAAAz3pUWHRSYXcgcHJvZmlsZSB0eXBlIGV4aWYAAHjabU9bbgQhDPvnFHuEvHDgOMwsI/UGPf6GR1VR1RK2MUlQUv/+etJrQJiSZS+oAAWsWpUWptDCUqY6eaLdpDs98iTPMtwiyr8P6Du/ztyxVMqfQSTL6PghvNpu2INUVs5t3a9dL62Uc1ClA/gx/P/d1AUZ7BZsQu6o4UsKG4IslB0PbiAKGW8hu0M73KMNPiq0jcYB6X5W9wSN4D1W0HFMW6gGs8ZGkfBMfLLJFVynH+t8AOFLWxXtohLLAAAACXBIWXMAAA7EAAAOxAGVKw4bAAAAPHRFWHRTb2Z0d2FyZQBDcmVhdGVkIHdpdGggdGhlIFdvbGZyYW0gTGFuZ3VhZ2UgOiB3d3cud29sZnJhbS5jb21coqaFAAAAIXRFWHRDcmVhdGlvbiBUaW1lADIwMjQ6MDM6MTAgMjE6MDc6MDSzgiVlAAATAklEQVR4nO2dT2gbx9vHZ/vTwRTTqLEOIjWN0Ari1qU1FJISW1S4pRIk4BQMlWofdAjCMpT+IdiGFpxDSiKRQyDBLqauE0htBVxqQwI2+F8i9dBQg0NbcKlWcYPjukGmMhWxKYZ9D/NmUaXd1WpnRzO7O5+TI+3OPtmvnplnZ595hhNFETAYDAaDwWAwGHbiOdIG2J1isbi/v0/aClOSz+dJm/Af9vf3mZSVFAoF0iYwGAwGgyGDniDY5/NxHJdKpQy3xoZ8+eWXhrRjQ1GuXbtGVYB16dIlLUGw3ZRaW1ubnp4mbUV1Pv30U0PasZu+wLhbh5WffvppZmam6mF2k69QKFy5coW0FdW5cuVKNps1pCm7SXzp0qXt7W3SVtCLYhAs268lk0mO4y5cuIDTJCooFArnz5/HfZW1tbVjx441NDSgNGIfUcro6+tLJBKkrfh/stmsy+VyOp0qx9hTqUAg8OOPPx4cHJA2RI2ZmZlTp04hNmJPfQEAXV1dWuJLsszOzp45c0blAHvK53Q69/f3KQ+SCoXCX3/95fP5ENuxp8RUDZQUIh8Eyw4JqVRqaWlJFMXm5mb8hhHG6XS6XC6jHj2VuHHjRm9vL0oLthKlDLfbDQCgpPseHx8/e/asygF2Vqqnp+fmzZukrVBjcXHx3XffRWnBzvoGAoG7d++StkKNhYWFt99+W+UAO8vX19f31VdfkbZCjWvXrn388ceIjdhWYqfT2dTUhDuYMS/yQbDskBAOh+fm5vCbRAtnz54dHx/H134+nz906JDD4UBpxG6ilPHBBx/Q8FYLZgOrz+jbWam2trbV1VXSViiSyWTeeOMNxEbsrC8A4M0338xkMqStUGR2dlb9IcfO8jmdzt3dXWrXMxwcHPzxxx9wygMFO0scjUZv3LhB2gpKkQmCDRkSLEBDQ4PD4cC3+mpmZgZx8onR1tb24MED0laAubk59Jfp1sbpdNK2kFGi6otyRlVOnz5969Yt0lbIUywWGxsbSVtBNadOnaI2oWVlZeXEiROkrTA3zc3Nm5ubpK2gFJkgmA0JEsFgEF/X8MMPP3R0dGBq3D64XC7i0dXi4mIgECBrA+XQPMrm83mXy0XaCnPjdDopSUyqZHp6mj2jqhMIBBYXF0lbIc+3337LAhJ0Wltbf/nlF9JW0IhMEMyGBIm33nprfn4eU+PUvn4yF62trWtra2RtKBQKiGktlqelpYWGOftKCoUCmyY0BLfbTeds04MHD1paWkhbQTUOh4PapassIDGEtrY24gMlnZQHwWxIKAVf11AoFBCLQjAgHo+HbMr/wcEBe56pitPppDNCymazR48eJW2FFTh69Oj6+jppK2TY3t5mUVRVDg4O6IyD2UBpCB6P57fffiNtBY2UB8FsSCjD7XbjeNu+vr7O87zhzdoQj8cjCAJBA9bX1+223FgfxWKRtAkyZLNZj8dD2gor4PP56FyBTmdsRxs8z1Mo3/b2NvqSOAag2D2JIxMEo1fjMxfcM2S/xdQ1sMipJlQ08ng8ZHOCYZUPggbQg7orIcYisMQ9x3HGViGABZ4NbNDaqEiMkhacSqWklg2v90LVljoEUXdPj8eDmNWdyWQ4jksmkyiNlJHNZpuamgxs0NqoS6x7Tr3UPc0eH1beIpkgWKngfy6Xgyf7/X4AQCQSscYdSafToiiKoih7QB2qBaNgSVHKqKoR2SnGQqGgvkcGxPJKVZUJhWQyGYvFRFFMp9PwBhqFUdOEltcXVJNYixcoEQ6HYbOCIHzxxRcINsqgRWLLy6fFPRE7Ur/fHwwGUVqoxMBZfCYxir7xeBy2THM4VBXZW1S+mkflN+f1enEMbwRJJpOJRKJqiQaa36ZZT5QytGhEdiZYYxBsbaW0yAQzi/RNuw4MDMA/jhw5osc+VQyZCba2vkCDxE6nc2dnB/EqW1tbhsclWvS1tnwaRzqUjrS/v39qaurevXu6W1DCqBc1TGLiZZTIonSLZKpD2CcFZ2lpCTybHg+FQrLHYHpVurGxwTIRtaBFIwZxtMjU0NCAPmd///59Y2ebHj9+zJYCa0GLxCj69vf3w1m6kZER3Y1Usrm5yfTF3YtmMplcLhcOhw1vmcmnEdwSj46OYspWqhtKt6g8CH78+DHBxZihUEjK2JDN/JPyAmtqVuUsuI8ifECUVbexsZHOVe1EqL9AQINGZNE4E1xPqsoESLgSOrlcLhKJGBsk0fyeRwXreeLIyAhMh+B5PpfLGdUsnfpSONKhEI1GjfVKCTrlqwqmHpiUe5ZmK0UiEUPck55BqjwIJvibg2/BoIlTU1N+v79SSJ/PpyPpMJvNiqIYj8crv5Lyzzo7Ox89eiR7ukn90HCICAS0aUQQ2oJgLTIBQq6EQi6X43k+nU57vV7DGzcXFvZEr9cbDAa3trZwNE4J1I50+shkMvDRheO40dHRwcFBKyXa6gBfD0yDe/I8j+6eVA1SMukQREgmk4IgSFt7h8PheDxu+AqJMqLR6OTkJPx7bGzs5MmTWC9naogIBJhGNWJVmaQImG2yaFWJIblcbn5+3sIqW2+k6+joEJ8Rj8cTiYSp104hYm33TKVSgiAguidtt4iWIHhpaakscv/www8FQahaDsnn85U9dyaTSY7jtMzYh8NhacVoLBazcM+Ljm6BAGmNYK5haeEe2JqBr1zpwaoyXb58GQDg9/vhh8aWYTIXlpQYmsFxHM/zFl69BEw70tmqF0XB2u4ZiUTQ3RPlFqH8DhVvkfhfotHow4cPRaOR6msoAQBIJBKln8AdEKampko/DAaDZSdOTU0BAKSyF6Io8jxf1pRGG2RZXl4eHh7WcmRN7Q8PDy8vL+uwBxP4BBI1a6RPIFEUA4GA+gHQ5QRBkP6uerz2q9dZSnXbNMokknClqn1LrTKptGOgVXXGvJ748OHDaDSqfkz9JdZilYGYd6SbmJiYmJhQOYCIe1a1qv4Q74HpGShV2lH5FuUWaTdS+12iZSZYN+FwmOd5aZYb5id1d3eTtYpRCnGNRkZGgsHge++9l0qlRkdH0+l03S5tIphMlodJbF6YdpaHSawFw40srxMsy9OnT+fn55W+dblcxpavr5VYLDY4OAhXp05OTsbjcZMunQmFQpX3Wfzv24d8Pq9D9WAw+PzzzyMZhwZxjebm5uDbHC31Mg1hfn7+6dOnNZ3S0tLyyiuvYLJHCzaUSRYtnvjo0aPV1dVaW37//feRLEOGSQxZXV2tdfEQG+ko0U6Le6oHLUr4/X6y+0cyibVgrJF4Z4KlKhhSkTmlahc8z29sbJR+AlcgHj9+vOpV4KMSXF04Ojp67tw5dMu1o/3/WJW5uTnZdwf4qI9AgLRGAAApZ6jsf1GKgVIajkbb7CCTEswTtVyISYwDO4x0gBrt6u+egPXAGqjPLUI0UoayXxKpnOBEIlFmTDwer8wIkc0RkQ6emppSOkCLDbKwnGAIokCiBo3wpTqJoggAiMfjcBK9MvcIxRKqcoI1yiSScCUtfUtNMilh7Zxgaj1RY/ZtnSWmLSeY2pFOS/Zt/d3TdDnBdeiB6RkolcB9i7QYqf0u0RIEi8/+Y/DvygxxiNJNkTIEKk+pyYZKWBAsgSKQqEEjfL4dDAbhqnPxmQeq/E5qtYSqIFjUJpNIwpWq9i21ymSIeaYLgkVaPVFLuFl/iWkLgkVaR7qq4SYR9zRdECzi74HpGSiVwHqLNBqp/S5pygmuD6Iowol0+E9BELRnw3R0dPA8D//AZZ/tQREIkNPI5/MJgiD1LAMDA2NjY36/36pFZ5lMlodJbGrMONIx7bTD3LMqum8RDiPrFARr3FNRRMvsicViKKcjgmnfyPpQH4EACY0qK7dXreVOs5RabLOJTErQLF9VmCdqgVqJrTrS2UE7jbAeuCr4bpGBRkqYvkQaJBQKAQAGBgZIG0IF0t7ZWqpP1w2rauRyufL5vI4TU6mUtHrA2K3eUbCqTKTIZDIcZbt7MIm1UOqe9OwDzLQzFqqWV0KYxHWmPAh2OChKkKgkm82W/WSlf6o8EMCgUJp7rxUc98ThcBwcHBjeLAAgmUzGYjFRFNPpdP0L+lQKBDRohCgQWRobG4vFoo4Tw+EwzEkSBKEOm0aWQcSVKAR3j+f3+4PBINZLyGJDT5QFRV8prbD++wAz94RgdU+O46R0UnxXUUKHxNbTVx3ZTqwqtd6l8l/YSy+9tL+/X9Ml60nlj0PLzxelCysWi83NzbpPV6K5uXlzc9PwZkHJE+SRI0dwtK+O7K2uqpGd95oHAGxtbdV/qomIKzU2Nuo+HRNYe7z+/v6pqal79+5hal8FIp5Iob7Nzc00j2hK1N896aS5uXl9fR1Hy8lkkmwpXB0SW09fdfT9f2s9SyYdYnt7W8eFrYq+N900cP/+fSJTUPWHbHlzl8tVKBT0nQt3Qvf7/WbPk9NCPp8nq5QSmHq8TCaTy+XC4TCOximkUCg0NTWRtkIG3fpK5U7pyVbCiq3cc2lpCTybfIUZCJaHTn2JY7J0CCJgSocwvM1ScrlcJBKxQ2gFSM8/NTY26g6CR0ZGYDoEz/NSAXBGPcHnidFo1CYOCNHtBbjRJ3FptlIkErGDe1I4kY91oFxaWpJyIezwnEOhvjRQHgT7fD5q+zIi5PN5HK+qW1pajNnsRI5cLsfzfDqdNun20TWxsbFB9gHX7Xbv7u6itOD1eoPBINw1x8I0NDSQNkEGTD1eJpOBzzYwO21wcJCexVWYKBQKdE41IVrl9Xp5nre8exLvSGXx+Xw7OzuYGpdWYnR2dta6h7YZ0bd2xfLIBMFKwZnP5yvrx5PJJMdx1n5EFgQBUxAsCILhzYKSCNgm5Ruz2SysqkiKlpYWxBd2uVxufn7e8no5nU7SJsig0uOh0NHRUVq2PZFIWD6fb2Njg85AH3E2MZVKCYJgeffENNIh4na7MaVDRKPRyclJ+PfY2NjJkydxXIUestkshfrSgEwQrBScXbhwQRCE0qpbY2NjiUTC2tONmBIZEV9MqDyQXL58GQDg9/ththNVtZlwsLGx8dprr5G1QWmUVX9uhH9zHAf3v6mHoeTI5/Nut5u0FTKo9HhazrXhvIASgiAQ90RZlIoYanTPSCRiefcEADgcDjrf1aCgInE4HM7lclDiWCxm+YecjY2N1tZW0lZQSeUmciqbTPI8L1WNgZt2CIKgaWc60yJlhhlOX1+f7nMrdxrkeT6RSBhhl8kYGhr6+++/ydrQ19e3t7dX+TmTSSKdTtO2/amE7m11mb6l4OsqEZmYmJDdWJXJVwrKeISVaDT6zz//6DuXSSxx9erVn3/+mbQVNCJTHUJltXssFpOqr01OTsbjcWtPA2cymXfeeQdT4+3t7bo3swiHwzzPS29zYAJid3e3cdaZhkKhQPw9ezAYXFhYqPycySSxsLBw+vRp0lbIo7u+B9NXolgsUphRCunu7p6fn6/8nMknkclk2tvbSVshT09Pz8zMjL5zmcQSv/76K50vaogjEwR3dXXdvn1b9mj464HrKEdHR8+dO4fVOOIsLCycOXMGU+OhUGh2dlb36XZ7IJFlbW3t2LFjpK0AoVBocXFR9ismE2RnZ4faIEmlx6sK0xdy+/btrq4u0lbI09jYqFQqmMkHuXPnDr6RDpFAIHD37l3dpzOJAQD5fJ6VhlBCJgju6OhQ+s15vd54PH79+vVUKhUMBq39Yzo4ONjd3cU3crtcrv39fd2F3O32QCLLrVu3aKjD2tDQ4HA4ZGcTmUwAgLW1tRMnTpC2QhGVHq8qTF/I6upqIBAgbYUi7e3tKysrlZ8z+QAAcAyiNkhyOBwoy+OYxACAmzdv9vT0kLaCUv53/vz5yk///fffJ0+eeDyeyq8OHTr0+eeff/fdd9evX3/55Zdx20eQsbGxcDh8+PBhfJfwer3T09PHjx/Xce6LL7745MmT5eVlh8NRLBY/+ugjw82jnO3t7fX1dUrqnL/66qvffPNN5eoKJhMAIJFIfPbZZ889J/PITQkqPZ46TF8AwMrKyuHDh2l+2drS0jI+Pt7Z2Vn2OZMPAPD111/39va+8MILpA1R5PXXXx8ZGdH3lMUk3t/fv3PnTm9vL2lDaEUpWfiTTz5R+ornebie3cLs7e0NDQ3V4UJDQ0Oya6q0ANcmgv8m/tuH4eFh4kviSlGyx+YyLS8vf//996StqI5Kj6eOzfUVEW5dPVleXl5eXq783Oby7e3tXbx4kbQV1bl48eKff/6p71ybS3z16tXff/+dtBX0wom1F3/x+XyxWGxgYAA1AGcgA+u/WL4EqdlhMlkbpq+pYfJZHiYxQ4maX1DCt88sAqaHWCxG2gRGdZhM1obpa2qYfJaHScyQpYaZYI7jAADBYHBubg6nSQythEKhbDbLnm4ph8lkbZi+pobJZ3mYxAwVapgJhvkTLAKmAbjPDWDvd+iGyWRtmL6mhslneZjEjKroyQlmMBgMBoPBYDBMDb1FixgMBoPBYDAYDEz8H3rZr39jJ1exAAAAAElFTkSuQmCC\"></div>"
      ],
      "text/plain": [
       " 1       6       -2       6        -3       6   2      -4       6   3\n",
       "(- + O[y] ) + (-y   + O[y] ) x + (y   + O[y] ) x  + (-y   + O[y] ) x  + \n",
       " y\n",
       " \n",
       "      -5       6   4      -6       6   5       6\n",
       ">   (y   + O[y] ) x  + (-y   + O[y] ) x  + O[x]"
      ]
     },
     "execution_count": 528,
     "metadata": {
      "text/html": [],
      "text/plain": []
     },
     "output_type": "execute_result"
    }
   ],
   "source": [
    "Series[1 / (x + y), {x, 0, 5}, {y, 0, 5}]"
   ]
  },
  {
   "cell_type": "code",
   "execution_count": 436,
   "metadata": {
    "vscode": {
     "languageId": "wolfram"
    }
   },
   "outputs": [
    {
     "data": {
      "text/html": [
       "<style>\n",
       "\t\t\t\t\t\t\t\t\t\t\t\t\t.grid-container {\n",
       "\t\t\t\t\t\t\t\t\t\t\t\t\t\tdisplay: inline-grid;\n",
       "\t\t\t\t\t\t\t\t\t\t\t\t\t\tgrid-template-columns: auto;\n",
       "\t\t\t\t\t\t\t\t\t\t\t\t\t}\n",
       "\t\t\t\t\t\t\t\t\t\t\t\t</style>\n",
       "\n",
       "\t\t\t\t\t\t\t\t\t\t\t\t<div><div class=\"grid-container\"><div class=\"grid-item\"><img alt=\"Output\" src=\"data:image/png;base64,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\"></div><div class=\"grid-item\"><img alt=\"Output\" src=\"data:image/png;base64,iVBORw0KGgoAAAANSUhEUgAAACEAAAAvCAIAAADijDRIAAAA0HpUWHRSYXcgcHJvZmlsZSB0eXBlIGV4aWYAAHjabU/RbQUhDPtnio4QkuDAONx7nNQNOn7NgVpR1RKxY5JA0vj6vNPHhGZJXqKiAUJ486adosrC4iztiQ90M/PDT3pvv9MqvxcY279OP7AH1j+DRJew+QK1+W7Yg0yXn/vKr12vvdZzUJMDkJ+v/5u7haIghzO6SgQadU2UJBSVErjxAliY8VbxF3kggm2IWWF9Nk7oiLN6JBiN91zB5nHrZGPMxo0YG7VZMDqdi7ftqZnrfANO8Fq7WFI0sQAAAAlwSFlzAAAOxAAADsQBlSsOGwAAADx0RVh0U29mdHdhcmUAQ3JlYXRlZCB3aXRoIHRoZSBXb2xmcmFtIExhbmd1YWdlIDogd3d3LndvbGZyYW0uY29tXKKmhQAAACF0RVh0Q3JlYXRpb24gVGltZQAyMDI0OjAzOjEwIDE5OjM3OjQwKkMXLAAAAiZJREFUWIXtlr+uokAUxmc2Jhaa2JDYWJg5FD6ALZbCI0Bnq4WVsTIxJjbwArZWQuILCAUNxGewAAprCxJjYTW3IDsxiDiw7G7ivV83f878ZjiHmQ9TStFfVi2O4ziOS0Q2m01BELimLpfLEgCE0Gg0onyq1ev1fr+/3+8LAabTaaPR4Jxcu9/vl8ul2+0WYlyv19vtxjn5V6Gly+mzGZPJBP+W7/v8y4miiDG2LOsNQ1EUx3GSstN1XZIkHoxhGBjj9Xr9PJRm+L5v27bjOElzPp8DwG63ywdYluW6LqW00+m8ZxyPRwAghDBkGIabzSafoarq4XB4NZpmuK4riiLbnSRJpmkihKIoysfk6GVdGYaxWCwquTFrmb2KoiCEgiD4cwB6PgchxLZtQgj7vufz+TFDFTAGgwFCaDabsR7XdYfDYWlABkNVVQBgixqGYdv2I7KEMvIRBIGiKBjjpMmT9iiKAIA1NU3TNA0Akoxm5zyn2DNFCMnZymffuz+MLNVarVav19tut4XCBEFot9u8DIzx6XRarVZFd8dvZfA/8KKfkvP/ysh0Mfl66Ziebbau6wih5Bk3TZPTnMuyDACPK3ielzTTDNM0ZVmmlHqex89IJodhyHoAYDweZzNSYZwMXdfZIVgs+0jV5DzfMVVcV5mOKfsdLKdXjqmac+Q7pmoYbxxTJXVFKQWA1P/BSjnNCMPweZuPdZkjWZZZyGP/z93+/RhfWtV09wxOkusAAAAASUVORK5CYII=\"></div><div class=\"grid-item\"><img alt=\"Output\" src=\"data:image/png;base64,iVBORw0KGgoAAAANSUhEUgAAAGIAAACJCAIAAABYRHoYAAAA0npUWHRSYXcgcHJvZmlsZSB0eXBlIGV4aWYAAHjabU/RjUMhDPtnihshJMGBcXgtlW6DG//Mg1Z9VS0RB8cJJI2/30f6mdAsyUtUNEAIb960M6mysDhLO+MJ6K7lq55q23qnVN4axtaPqx5YrPVjkOwXbL7A3Hw37EGmS8993Y/t117rddD+0ROQ19e/3t1CUZDDGV0lAo15TUxJKCol8MANoDHjruI38kAE2xDTYX02TuiIq3skGIX7XMHmcetkY8zGjRgbc7NgdCoHq+30zHX+ASC3WpkCvO4EAAAACXBIWXMAAA7EAAAOxAGVKw4bAAAAPHRFWHRTb2Z0d2FyZQBDcmVhdGVkIHdpdGggdGhlIFdvbGZyYW0gTGFuZ3VhZ2UgOiB3d3cud29sZnJhbS5jb21coqaFAAAAIXRFWHRDcmVhdGlvbiBUaW1lADIwMjQ6MDM6MTAgMTk6Mzc6NDAqQxcsAAAD+0lEQVR4nO2dvU7jQBhFx6tIdBQ8AdjuaGgRSpQ0GR6DggbqlEjUyYvYJXSkcZO0NNRxCh4gVRok0GwxWm80/smdwaPNmnsKFFnfsayLfzK+SARKKUH28etfH8D/AWOCqI7p/v4++MNyuQT35WDZKr7nNXEcB0GQpunfTaqElDKKIv15Op0KIRaLRXns+5at4nu+GEuSRP8stpsxLRYLIUSe58WWKIru7u6a9+5g2Sq+55VSSZJIKQu3KabpdFr8Bgqh8qT7pmWr+J7fpRyTeW/KsiyOY/05TdN+v6/PwPV63XAxO1i2iu/5ZmqfdLPZ7OHhQVl+q3KwbBXf85X0KrdeX18LIVarldW+HCxbxfd8HebZFIbhfD4Pw/Dl5UVveX9/j6IoDMOGvThYtorv+WbMmAaDgRBiMpkUW7IsG4/HzXtxsGwV3/N7KN/noygyvm7sPlbrcLBsFd/zBfu/EGiklA051uFg2Spe5/M8L59GOuhA8Q0BAJe+EIwJgjFBMCYIxgTBmCAYEwRjgmBMEIwJgs0KplQuF39ss1KnsFmBFDYrkGJqUkrdVSmlilZP7Huh5WDZKr7nmxU2K5DCZgVS2KxginF9li9gKeXeJ52DZav4nm9W2KxACpsVSGGzAsGlLwRjgmBMEIwJgjFBMCYIxgTBmCAYEwRjgmBMECygMKVyicwCSrGAclBYQEEKCyhIYQEFKSygIIUFFKYY1ycLKBZQLKA8HxILKAgufSEYEwRjgmBMEIwJgjFBMCYIxgTBmCAYEwSbFUypXPuxWVFsVhwUNiuQwmYFUtisQAqbFUhhs4IpxvXJZoXNCpsVz4fEZgWCS18IxgTBmCAYEwRjgmBMEIwJgjFBMCYIxgTBZgVTKtd+bFYUmxUHhc0KpLBZgRQ2K5DCZgVS2KxginF9sllhs8JmxfMhsVmB4NIXgjFBMCYIxgTBmCAYE0Tv6enp+fnZwby6urq9vW39gA6T3mq1ent7Oz4+ttK22+3JyYmnYzpAetvtdrPZvL6+Wmmj0Wiz2Xg6pgOE9yYIxgTBmCBqY4rjOAiCNE3xfXW5p3t8fDw9Pd19k6DfsxTvzCvfNgyHw5ubG+P9Q5d7OiOmJEl0u1D+T8m7GDF1v6crn027DhhT53u6dm7hWZbFcaw/p2na7/f1Nbter9tSfM83Ky0/6X5WT+fGD+rp3Oh8T9dOTIPBQAgxmUyKLVmWjcfjFhXf83uUVp50qvM9nRFTnuflmHcfk5pyTKrTPZ15Cw/DULk2d8Ul7U/xPV+ncOkLwZggGBMEY4JgTBCMCaJ3dHT0+fl5dnZmpX19fZ2fn3s6pgOkd3l5+fHx4WBeXFy0fjQHC/8MDOI3tUsaO/CwfWUAAAAASUVORK5CYII=\"></div><div class=\"grid-item\"><img alt=\"Output\" src=\"data:image/png;base64,iVBORw0KGgoAAAANSUhEUgAAAHoAAAByCAIAAAATaFLeAAAA0HpUWHRSYXcgcHJvZmlsZSB0eXBlIGV4aWYAAHjabU/trQMhDPvPFB0hJMGBcbiWSm+DN37NHWpFVUs4xvmApPH/90y3Cc2SvERFA4Tw5k07RZULV8zSTj4RfeXy7qfQ5Xda5ZPAWP6x+4Erav0aJGuQzReozVfDGmR6+Xn95Fj12mvdBzXZAHl//efdLRQFOZzsKhFo1DVRMqColMATd4CFGQ8VvzMORLANMSusz8YJHbFXjwSj8Zgr2DxundHI2bgRuVGbBdnpHMy2s2au8wJcZ1rBOyGGPwAAAAlwSFlzAAAOxAAADsQBlSsOGwAAADx0RVh0U29mdHdhcmUAQ3JlYXRlZCB3aXRoIHRoZSBXb2xmcmFtIExhbmd1YWdlIDogd3d3LndvbGZyYW0uY29tXKKmhQAAACF0RVh0Q3JlYXRpb24gVGltZQAyMDI0OjAzOjEwIDE5OjM3OjQwKkMXLAAABB9JREFUeJztnLFOKkEUhmfJbUx8AAoL3eUxwNLlVbS2tDbBl7CExNZEaGjgLRBJzDyGydxi711WVmTmzHA4O/t/hTHI/Of4gzDu+YfEGKMAF39O3UDz+Pr60lrT1sJuZ7TWV1dXtLWwm8LFxcXLy0u327Vf8vb29vj4CLspaK273e7l5aX9krOzM61152gtgR+A3azAbla2dt/d3SX/WS6XBK04FAp6vV6SJJPJJHBpY4wxJs/zLMuK70ejkVJqsVgYF+JQKBeOx+Pia/0Om81GKbXZbJxKPz8//7N7sVgopdbrdfmzLMtub2/tW4xDwRgzHo/zPC/VLO22Kb21ezQalY9Mubh84tsQh0IVJ7ttShd2d5RS8/m81+sV95hMJoPBoPhT+vj4sHzZikOBjH3pbzuTp6enh4cH43HRKg6F45Xe/lc5HA6VUu/v7+RicSgctXRHKZWm6Ww2S9N0Op0Wt35+fmZZlqapZaU4FMjYl+4opa6vr5VS9/f35a3z+fzm5sa+XhwKZBxKF++bWZbtbBur2xob4lAocdqZ2JTebgQL8jzfeQxciUBhvV7Xn5HVTZ7ZY/fB0rt2A0v22f072303YAN2swK7WYHdrMBuVjAadiZJkn6///r6en5+br9qtVr1+/3EIEXliNZ6MBjQ1sJuVvDazQrsZgV2sxJb8OFHXFMMtDZaF3yoczDFEKoNy1XxBB/q2KQYgrRhvyqe4MMv2NtNa8N+VTzBhyDQ2mh18CEItDYiDz4Mh8PZbLZzo/9DRftF4g8+TKfT+uujZcWAbbQx+BAEWhstDT7sw35nQm7DclVswYcqNimGgG3YrMIFWFZwiYoV2M0K7GYFdrMCu1mB3azAblZgNyuwmxXYzQrsZkVW8EGRPmoheA+tCD4QQgrBeyCLNCz4QAgpBO+BLNK84MPOWoLdQXpoS/DBnyA9tC744E+QHloRfPAnSA/xBx/8CdJDW4IP/gTpoUXBh+rbOm3fHaSHVgQfyCGFgD14iiD4IA5comIFdrMCu1mB3azAblZgNyuwmxXYzQrsZgV2sxJyEv8jTpN1IWmABkzi67hO1iWkAcgirJP4Oq6TdQlpALII9yT+YCsH7RaSBmjGJN4fIWmAhk3i/RGSBpA1iRd19j+sAlnkiJN4IWf/wyqQRbgn8f4ISQM0ZhK/D/vJupA0QGMm8VVok3UhH2KASXwk4BIVK7CbFdjNCuxmBXazArtZgd2swG5WYDcrsJsV2M3KN7tPfvxfggJZxCH4IOH4vwQFsohD8EHC8X8JCmQRt+DDzrKTHP+XoEAWcQs++CMhttC84IM/EmILzQg++CMhttCA4IM/EmILjQk++CMhttCk4EP1LfVUx/8lKJBFHIIPco7/S1AgiyD4IA5comIFdrMCu1n5C6uIFEuIkoNOAAAAAElFTkSuQmCC\"></div><div class=\"grid-item\"><img alt=\"Output\" src=\"data:image/png;base64,iVBORw0KGgoAAAANSUhEUgAAACEAAAAvCAIAAADijDRIAAAA0HpUWHRSYXcgcHJvZmlsZSB0eXBlIGV4aWYAAHjabU/RbQUhDPtnio4QkuDAONx7nNQNOn7NgVpR1RKxY5JA0vj6vNPHhGZJXqKiAUJ486adosrC4iztiQ90M/PDT3pvv9MqvxcY279OP7AH1j+DRJew+QK1+W7Yg0yXn/vKr12vvdZzUJMDkJ+v/5u7haIghzO6SgQadU2UJBSVErjxAliY8VbxF3kggm2IWWF9Nk7oiLN6JBiN91zB5nHrZGPMxo0YG7VZMDqdi7ftqZnrfANO8Fq7WFI0sQAAAAlwSFlzAAAOxAAADsQBlSsOGwAAADx0RVh0U29mdHdhcmUAQ3JlYXRlZCB3aXRoIHRoZSBXb2xmcmFtIExhbmd1YWdlIDogd3d3LndvbGZyYW0uY29tXKKmhQAAACF0RVh0Q3JlYXRpb24gVGltZQAyMDI0OjAzOjEwIDE5OjM3OjQwKkMXLAAAAiZJREFUWIXtlr+uokAUxmc2Jhaa2JDYWJg5FD6ALZbCI0Bnq4WVsTIxJjbwArZWQuILCAUNxGewAAprCxJjYTW3IDsxiDiw7G7ivV83f878ZjiHmQ9TStFfVi2O4ziOS0Q2m01BELimLpfLEgCE0Gg0onyq1ev1fr+/3+8LAabTaaPR4Jxcu9/vl8ul2+0WYlyv19vtxjn5V6Gly+mzGZPJBP+W7/v8y4miiDG2LOsNQ1EUx3GSstN1XZIkHoxhGBjj9Xr9PJRm+L5v27bjOElzPp8DwG63ywdYluW6LqW00+m8ZxyPRwAghDBkGIabzSafoarq4XB4NZpmuK4riiLbnSRJpmkihKIoysfk6GVdGYaxWCwquTFrmb2KoiCEgiD4cwB6PgchxLZtQgj7vufz+TFDFTAGgwFCaDabsR7XdYfDYWlABkNVVQBgixqGYdv2I7KEMvIRBIGiKBjjpMmT9iiKAIA1NU3TNA0Akoxm5zyn2DNFCMnZymffuz+MLNVarVav19tut4XCBEFot9u8DIzx6XRarVZFd8dvZfA/8KKfkvP/ysh0Mfl66Ziebbau6wih5Bk3TZPTnMuyDACPK3ielzTTDNM0ZVmmlHqex89IJodhyHoAYDweZzNSYZwMXdfZIVgs+0jV5DzfMVVcV5mOKfsdLKdXjqmac+Q7pmoYbxxTJXVFKQWA1P/BSjnNCMPweZuPdZkjWZZZyGP/z93+/RhfWtV09wxOkusAAAAASUVORK5CYII=\"></div><div class=\"grid-item\"><img alt=\"Output\" src=\"data:image/png;base64,iVBORw0KGgoAAAANSUhEUgAAAGIAAACJCAIAAABYRHoYAAAA0npUWHRSYXcgcHJvZmlsZSB0eXBlIGV4aWYAAHjabU/RjUMhDPtnihshJMGBcXgtlW6DG//Mg1Z9VS0RB8cJJI2/30f6mdAsyUtUNEAIb960M6mysDhLO+MJ6K7lq55q23qnVN4axtaPqx5YrPVjkOwXbL7A3Hw37EGmS8993Y/t117rddD+0ROQ19e/3t1CUZDDGV0lAo15TUxJKCol8MANoDHjruI38kAE2xDTYX02TuiIq3skGIX7XMHmcetkY8zGjRgbc7NgdCoHq+30zHX+ASC3WpkCvO4EAAAACXBIWXMAAA7EAAAOxAGVKw4bAAAAPHRFWHRTb2Z0d2FyZQBDcmVhdGVkIHdpdGggdGhlIFdvbGZyYW0gTGFuZ3VhZ2UgOiB3d3cud29sZnJhbS5jb21coqaFAAAAIXRFWHRDcmVhdGlvbiBUaW1lADIwMjQ6MDM6MTAgMTk6Mzc6NDAqQxcsAAADvUlEQVR4nO2dPU7rQBSFr6PXsQBax3bBJpIywwboTUEBdSrEBsImoLOXkDROEZaBU1CilFCiecXoGZPfM7bHSG/OVyAU5nCjjyTj8SkItNZCTvHnt59Ar2w2m4+PjyZJ7RNpmjbz69er6ezs7Obm5v7+3ip1dXXll6bPz08RCcPQKrXZbAZOns5/BzVBUBPEt6a7u7vgHy8vLyeTrtf3M8KQJEkQBHmeH1xhdkqlVBzH5vvZbCYiq9XqyM7qer2jEWmapmlaf8SszLLMfN37m8MwFK31arUSkbIsqx/EcXx7e3voCble727ElqYsy5RSVfyEptlsVv0dqowcvvJ0vd7diN1XU339EU0DESmKIkkS83vzPB+NRuZFuF6v975PXa/vZ4QVP3a6x8fHh4cHDR+GXa/vZwTC91X45eWliLy+voJJ1+v7GQEyEJEoihaLRRRF8/ncPPr29hbHcRRFezOu1/czwoqBiIzHYxGZTqfVo0VRTCaTQxnX6/sZYYf5MI/jeOuio7657uJ6vaMRjXe67y1TKbXl7jiu17sYsaWpLMvd1039wsIQhmGgfbrJe319LSJPT09WqeFwyKMvBDVBUBMENUFQE4RflcH5+fn7+/vz87NV6uLiwi9NX19fy+VyuVzaBv26bmoMP5sgqAmCmiBYQGGp6mztQwHVOOVXAdU45VcB1TglWmullGn1tNZV/ymH7xa6Xt/PCKsUCygoxQIKSnldQFmkqrdl/Q2plDqyTbhe388Iq5RfBVTjlF8FVOMUb6RA8OgLQU0Q1ARBTRDUBEFNENQEQU0Q1ARBTRDUBMECigUUC6j2I6xSLKBYQLGA6nAEkmIBxQKKBVT7EVYpFlAsoLqbwgIKgkdfCGqCoCYIaoKgJghqgqAmCGqCoCYIaoJgs8Jmhc1K+xFWKTYrbFbYrHQ4AkmxWWGzwmal/QirFJsVNivdTWGzAsGjLwQ1QVATBDVBUBMENUFQEwQ1QVATBDVBUBMECygWUCyg2o+wSrGAYgHFAqrDEUiKBRQLKBZQ7UdYpVhAsYDqbgoLKAgefSGoCYKaIKgJgpogqAmCmiCoCYKaIKgJ4oemJEmCIMjzHEn62KyYw3F1oxM5LnrXrGRZZm4JH/9nyRWeNitbsZOaPGxWmnyEF0WRJIn5Ps/z0Whk3q3r9bqT9f2MsEq12ul8bFZs8a5ZscXDZqWJpvF4LCLT6bR6pCiKyWTS1fp+Rtil6p/n4E6n/WxWyrLc1VffKffCZoVsw6MvBDVBUBMENUH8BfBCAE/b+Y3bAAAAAElFTkSuQmCC\"></div></div></div>"
      ],
      "text/plain": [
       "0                        0    0   0    1\n",
       "\n",
       "0                        0    0   -1   0\n",
       "\n",
       "0                        0    1   0    0\n",
       "\n",
       "0                        -1   0   0    0\n",
       "\n",
       "1                        0    0   0    0\n",
       "\n",
       "Item[0, Frame -> True]   0    0   0    0\n",
       "Item[0, Frame -> True]   1\n",
       "\n",
       "1                        0\n",
       "0                        0   0   0   0   1\n",
       "\n",
       "0                        0   0   0   0   0\n",
       "\n",
       "0                        0   0   0   0   0\n",
       "\n",
       "0                        0   0   0   0   0\n",
       "\n",
       "0                        0   0   0   0   0\n",
       "\n",
       "Item[1, Frame -> True]   0   0   0   0   0\n",
       "0   0    0   0    1   Item[0, Frame -> True]\n",
       "\n",
       "0   0    0   -1   0   0\n",
       "\n",
       "0   0    1   0    0   0\n",
       "\n",
       "0   -1   0   0    0   0\n",
       "\n",
       "1   0    0   0    0   0\n",
       "Item[0, Frame -> True]   1\n",
       "\n",
       "1                        0\n",
       "0   0   0   0   0   Item[1, Frame -> True]\n",
       "\n",
       "0   0   0   0   0   0\n",
       "\n",
       "0   0   0   0   0   0\n",
       "\n",
       "0   0   0   0   0   0\n",
       "\n",
       "0   0   0   0   0   0\n",
       "\n",
       "1   0   0   0   0   0"
      ]
     },
     "execution_count": 436,
     "metadata": {
      "text/html": [],
      "text/plain": []
     },
     "output_type": "execute_result"
    }
   ],
   "source": [
    "splarr[{-I -> 1, 1 - 2I -> -1, 2 - 3I -> 1, 3 - 4I -> -1, 4 - 5I -> 1}]\n",
    "splarr[{1 -> 1, I -> 1}]\n",
    "%% * %\n",
    "\n",
    "splarr[{-1 -> 1, -2 + I -> -1, -3 + 2I -> 1, -4 + 3I -> -1, -5 + 4I -> 1}]\n",
    "splarr[{1 -> 1, I -> 1}]\n",
    "%% * %"
   ]
  },
  {
   "cell_type": "code",
   "execution_count": 514,
   "metadata": {
    "vscode": {
     "languageId": "wolfram"
    }
   },
   "outputs": [
    {
     "data": {
      "text/html": [
       "<div><img alt=\"Output\" src=\"data:image/png;base64,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\"></div>"
      ],
      "text/plain": [
       "       1            6   2     -2        2       6   3      -3   1        3       6   4\n",
       "x + (-(-) - y + O[y] ) x  + (y   + 1 + y  + O[y] ) x  + (-y   - - - y - y  + O[y] ) x  + \n",
       "       y                                                        y\n",
       " \n",
       "      -4    -2        2    4       6   5       6\n",
       ">   (y   + y   + 1 + y  + y  + O[y] ) x  + O[x]"
      ]
     },
     "execution_count": 514,
     "metadata": {
      "text/html": [],
      "text/plain": []
     },
     "output_type": "execute_result"
    }
   ],
   "source": [
    "Series[1 / (x + x^(-1) + y + y^(-1)), {x, 0, 5}, {y, 0, 5}]"
   ]
  },
  {
   "cell_type": "code",
   "execution_count": 511,
   "metadata": {
    "vscode": {
     "languageId": "wolfram"
    }
   },
   "outputs": [
    {
     "data": {
      "text/html": [
       "<style>\n",
       "\t\t\t\t\t\t\t\t\t\t\t\t\t.grid-container {\n",
       "\t\t\t\t\t\t\t\t\t\t\t\t\t\tdisplay: inline-grid;\n",
       "\t\t\t\t\t\t\t\t\t\t\t\t\t\tgrid-template-columns: auto;\n",
       "\t\t\t\t\t\t\t\t\t\t\t\t\t}\n",
       "\t\t\t\t\t\t\t\t\t\t\t\t</style>\n",
       "\n",
       "\t\t\t\t\t\t\t\t\t\t\t\t<div><div class=\"grid-container\"><div class=\"grid-item\"><img alt=\"Output\" src=\"data:image/png;base64,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\"></div><div class=\"grid-item\"><img alt=\"Output\" src=\"data:image/png;base64,iVBORw0KGgoAAAANSUhEUgAAAC4AAABCCAIAAACn7XNBAAAAz3pUWHRSYXcgcHJvZmlsZSB0eXBlIGV4aWYAAHjabU/trQMhDPvPFB0hXzgwDtdS6W3wxm9yh1pR1RKJcRJDyvz/e5ZbQpiKVW/oAAWsW5cRpNGFKzP1M56QuWq868Vk6SOk+ilgDfCx645l2L6MaBlpvhBcbQ0sI5VL53Hdj9Uvo7XdqNMG0PvrP++mLqhgt4ixjjt68FaCRkIVqo4n7kA0Mh5Cdo884R5j8OzQkYMJmb53zwIN4ZEraB7TEVkjssZGofCpZDRlOYL3U8l1XlVIWq7YFNyKAAAACXBIWXMAAA7EAAAOxAGVKw4bAAAAPHRFWHRTb2Z0d2FyZQBDcmVhdGVkIHdpdGggdGhlIFdvbGZyYW0gTGFuZ3VhZ2UgOiB3d3cud29sZnJhbS5jb21coqaFAAAAIXRFWHRDcmVhdGlvbiBUaW1lADIwMjQ6MDM6MTAgMjE6MDE6NDGC70syAAACkElEQVRoge2ZMa6qQBSGD8TEwkJLCgvCcKMLsMVYiUugtNXCyliZYGEDG3AHSuIGhIJG4h5IxBBrO2NhNa/g3dH7Lo4DD6PF/IVBcs78nxPODMcRMMbwGRLfDXDTR6IMh0PhW0EQMOarqioIguM47JYPjTDGGGNd1xFCybVlWQCw3W4xVUnYarVKPunBRBQjwBhvt1sAiKKIJCCEBoMBZcTVaqXrOsllRKEbQUJHSEkCmTCW0RlR6EYiAPi+r6pqctdxHE3Tkmk/HA7sTwCL6EY/Ksi27el0il+/0qQalchVr9cDgP1+/2qOR0YiACiK4rquoiibzSa5ezweEUKKohQLQTcSAaDdbgPAeDwmOb7vd7vdYjmeG5Gi+qfc70uuqAqiG90qVtd1Avt0xCiKfv/o+0Kl6JGRgPnO/FscJU0cJU2l5yEAABDHcRzHOQwkSWo2m0yhjEuTaZo5OACg3+8zWrDOSrlcbrVa6/U6E8doNKpUKozBrCjX6/V0OsmynAnlfD5fLhfG4A96bDlKmn6gZG1q8rVOj4z+oti2LQjCfD5nH67X63mel9ShZVmaprHQUIxEAHAcx/d9jHG9XmfkCILAdV3P85Kvk8kEIbRcLulZdCMRAAzDIC+bjNrtdvcvv0EQRFG0WCzoWXSjnI/tK1qn/62gAlsn1tU2VcW2Tjln5RWtU06UV7ROOVEMw0AIEW/btl3XvSfLI8amxjRNWZYZOxqiTqdz/75CNyoBgKIo+Uog62pEN/rU7fC94ihp+iAU1oW/Vqs1Go3ZbJZp9Gq1KklSwSgAEIZhGIaZUADg6+uLMZL/v5ImjpImfgiTZsQPYdKM+CEMP4S5iR/CPBA/hMmoj9wO3y6OkqY/0WQNvDOoRO4AAAAASUVORK5CYII=\"></div><div class=\"grid-item\"><img alt=\"Output\" src=\"data:image/png;base64,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\"></div></div></div>"
      ],
      "text/plain": [
       "0                        0   0    0   0    1\n",
       "\n",
       "0                        0   0    0   -1   0\n",
       "\n",
       "0                        0   0    1   0    1\n",
       "\n",
       "0                        0   -1   0   -1   0\n",
       "\n",
       "Item[0, Frame -> True]   1   0    1   0    1\n",
       "\n",
       "0                        0   -1   0   -1   0\n",
       "\n",
       "0                        0   0    1   0    1\n",
       "\n",
       "0                        0   0    0   -1   0\n",
       "\n",
       "0                        0   0    0   0    1\n",
       "0   1                        0\n",
       "\n",
       "1   Item[0, Frame -> True]   1\n",
       "\n",
       "0   1                        0\n",
       "0                        0   0   0   0   1   0\n",
       "\n",
       "0                        0   0   0   0   0   1\n",
       "\n",
       "0                        0   0   0   0   1   0\n",
       "\n",
       "0                        0   0   0   0   0   1\n",
       "\n",
       "0                        0   0   0   0   1   0\n",
       "\n",
       "Item[1, Frame -> True]   0   0   0   0   0   1\n",
       "\n",
       "0                        0   0   0   0   1   0\n",
       "\n",
       "0                        0   0   0   0   0   1\n",
       "\n",
       "0                        0   0   0   0   1   0\n",
       "\n",
       "0                        0   0   0   0   0   1\n",
       "\n",
       "0                        0   0   0   0   1   0"
      ]
     },
     "execution_count": 511,
     "metadata": {
      "text/html": [],
      "text/plain": []
     },
     "output_type": "execute_result"
    }
   ],
   "source": [
    "splarr[{1 -> 1, 2 + I -> -1, 2 - I -> -1, 3 + 2I -> 1, 3 -> 1, 3 - 2I -> 1, 4 + 3I -> -1, 4 + I -> -1, 4 - I -> -1, 4 - 3I -> -1, 5 + 4I -> 1, 5 + 2I -> 1, 5 -> 1, 5 - 2I -> 1, 5 - 4I -> 1}]\n",
    "splarr[{1 -> 1, I -> 1, -1 -> 1, -I -> 1}]\n",
    "%% * %"
   ]
  },
  {
   "cell_type": "code",
   "execution_count": 951,
   "metadata": {
    "vscode": {
     "languageId": "wolfram"
    }
   },
   "outputs": [
    {
     "data": {
      "text/html": [
       "<style>\n",
       "\t\t\t\t\t\t\t\t\t\t\t\t\t.grid-container {\n",
       "\t\t\t\t\t\t\t\t\t\t\t\t\t\tdisplay: inline-grid;\n",
       "\t\t\t\t\t\t\t\t\t\t\t\t\t\tgrid-template-columns: auto;\n",
       "\t\t\t\t\t\t\t\t\t\t\t\t\t}\n",
       "\t\t\t\t\t\t\t\t\t\t\t\t</style>\n",
       "\n",
       "\t\t\t\t\t\t\t\t\t\t\t\t<div><div class=\"grid-container\"><div class=\"grid-item\"><img alt=\"Output\" src=\"data:image/png;base64,iVBORw0KGgoAAAANSUhEUgAAACEAAAAvCAIAAADijDRIAAAA0HpUWHRSYXcgcHJvZmlsZSB0eXBlIGV4aWYAAHjabU/RbQUhDPtnio4QkuDAONx7nNQNOn7NgVpR1RKxY5JA0vj6vNPHhGZJXqKiAUJ486adosrC4iztiQ90M/PDT3pvv9MqvxcY279OP7AH1j+DRJew+QK1+W7Yg0yXn/vKr12vvdZzUJMDkJ+v/5u7haIghzO6SgQadU2UJBSVErjxAliY8VbxF3kggm2IWWF9Nk7oiLN6JBiN91zB5nHrZGPMxo3oKHUxMLoVvXjbnpq5zjdOtFq7X2GzvgAAAAlwSFlzAAAOxAAADsQBlSsOGwAAADx0RVh0U29mdHdhcmUAQ3JlYXRlZCB3aXRoIHRoZSBXb2xmcmFtIExhbmd1YWdlIDogd3d3LndvbGZyYW0uY29tXKKmhQAAACF0RVh0Q3JlYXRpb24gVGltZQAyMDI0OjAzOjEwIDIyOjU2OjQ14V0ifwAAAiZJREFUWIXtlr+uokAUxmc2Jhaa2JDYWJg5FD6ALZbCI0Bnq4WVsTIxJjbwArZWQuILCAUNxGewAAprCxJjYTW3IDsxiDiw7G7ivV83f878ZjiHmQ9TStFfVi2O4ziOS0Q2m01BELimLpfLEgCE0Gg0onyq1ev1fr+/3+8LAabTaaPR4Jxcu9/vl8ul2+0WYlyv19vtxjn5V6Gly+mzGZPJBP+W7/v8y4miiDG2LOsNQ1EUx3GSstN1XZIkHoxhGBjj9Xr9PJRm+L5v27bjOElzPp8DwG63ywdYluW6LqW00+m8ZxyPRwAghDBkGIabzSafoarq4XB4NZpmuK4riiLbnSRJpmkihKIoysfk6GVdGYaxWCwquTFrmb2KoiCEgiD4cwB6PgchxLZtQgj7vufz+TFDFTAGgwFCaDabsR7XdYfDYWlABkNVVQBgixqGYdv2I7KEMvIRBIGiKBjjpMmT9iiKAIA1NU3TNA0Akoxm5zyn2DNFCMnZymffuz+MLNVarVav19tut4XCBEFot9u8DIzx6XRarVZFd8dvZfA/8KKfkvP/ysh0Mfl66Ziebbau6wih5Bk3TZPTnMuyDACPK3ielzTTDNM0ZVmmlHqex89IJodhyHoAYDweZzNSYZwMXdfZIVgs+0jV5DzfMVVcV5mOKfsdLKdXjqmac+Q7pmoYbxxTJXVFKQWA1P/BSjnNCMPweZuPdZkjWZZZyGP/z93+/RhfWtV09wxOkusAAAAASUVORK5CYII=\"></div><div class=\"grid-item\"><img alt=\"Output\" src=\"data:image/png;base64,iVBORw0KGgoAAAANSUhEUgAAACEAAAAvCAIAAADijDRIAAAA0HpUWHRSYXcgcHJvZmlsZSB0eXBlIGV4aWYAAHjabU/RbQUhDPtnio4QkuDAONx7nNQNOn7NgVpR1RKxY5JA0vj6vNPHhGZJXqKiAUJ486adosrC4iztiQ90M/PDT3pvv9MqvxcY279OP7AH1j+DRJew+QK1+W7Yg0yXn/vKr12vvdZzUJMDkJ+v/5u7haIghzO6SgQadU2UJBSVErjxAliY8VbxF3kggm2IWWF9Nk7oiLN6JBiN91zB5nHrZGPMxo3oKHUxMLoVvXjbnpq5zjdOtFq7X2GzvgAAAAlwSFlzAAAOxAAADsQBlSsOGwAAADx0RVh0U29mdHdhcmUAQ3JlYXRlZCB3aXRoIHRoZSBXb2xmcmFtIExhbmd1YWdlIDogd3d3LndvbGZyYW0uY29tXKKmhQAAACF0RVh0Q3JlYXRpb24gVGltZQAyMDI0OjAzOjEwIDIyOjU2OjQ14V0ifwAAAilJREFUWIXtl7GuqkAQhndvTCwstKSwMDuc6APYYik8AnS2WlgZKxMtbOAFfAMh8QWEggbiO5AAIdZ2xsJqb8E9e72IuBLOPcmJf0HYZWa/XWaWHTClFH2xfn014LsZoihijC3L4h9rMpngT/m+//cBvZOu6wgh0zTT671BrmRZBoDbETzPS5tZhmmasixTSj3P42ekxlEUsR4AGI/H+YyMGydD13W2CObLXlI1MXddVxTF9N6yLEmS0lcdxzGqPK8Mw1gsFvTfPVerEKAoCkIoDMNMfzXrIITYtk0I2e/3ac/xeAQAQkhljMFggBCazWasx3Xd4XD4p1FJXlFKASCzP1gqZxlRFN1P8zYvCyTLMnO57cf0/d19M6pXLUmSJElKeAqC0Ov1uEyXy2UJAEJoNBpxbs9avV7v9/u73e4lwHQ6bTQanMa16/V6Op06nc5LjPP5fLlcOI1/Sl59H+NhpfRMuVVZDkNRFMdx2EkgSRIPxjAMjPF6vb5/lGX4vm/btuM4aXM+nwPAdrstBliW5boupbTdbj9nHA4Hdg6nyCiKNptNMUNVVXaSP2cUV0rl9DCvciulcsqvrx5VSuWUXUdxpVQN40mlVAlDVVUAYIMahmHb9i2yhHLiEYahoigY47TJE/Y4jgGANTVN0zQNANKI5se8INlzRQgpmMrP/u6+GXmqtVqtbre7Wq1ecms2m4Ig8DIQQkEQBEHw6uw+Pj44Lf/H/8dvx5F1okgxiQ0AAAAASUVORK5CYII=\"></div><div class=\"grid-item\"><img alt=\"Output\" src=\"data:image/png;base64,iVBORw0KGgoAAAANSUhEUgAAADEAAABCCAIAAABxSKkkAAAA0HpUWHRSYXcgcHJvZmlsZSB0eXBlIGV4aWYAAHjabU/RbUQhDPtnio4QkuDAOLw7TroNOn7NA11FVUvEiXECSeP7/UpfE5oleYmKBgjhzZt2JlUWFmdpd7xhm1kfenLdeqdUfi8wtn6demCx1j+DRD8v5Zmb74Y9yHTpua/62n7ttZ6DmhyAfL7+b+0WioIczsh1ItCY18SUhKJSAi88ABoznir+IA9EsA0xHdZn44SOON0jwSg85wo2j1snG2M2bkRFmRcDo1vRi7ft9sx1fgALcFqK7N+iSwAAAAlwSFlzAAAOxAAADsQBlSsOGwAAADx0RVh0U29mdHdhcmUAQ3JlYXRlZCB3aXRoIHRoZSBXb2xmcmFtIExhbmd1YWdlIDogd3d3LndvbGZyYW0uY29tXKKmhQAAACF0RVh0Q3JlYXRpb24gVGltZQAyMDI0OjAzOjEwIDIyOjU2OjQ14V0ifwAAApNJREFUaIHtmbHK8jAUhk9/BAcHHR0cJFH0AlwVJ9tLcHTVwUmcBB1c2hvwDmzBG7Aduli8h4IVcXYTB6d+Q/mLtDWelogKeQdpS07ex5iT5hjJ9334Mv37NECCfodpNBpJ/+U4Dr67Wq0mSZJhGMj2yUZ+TLIsU0qDa1VVAWC328WbRRS01HU9+HzZnmEUZdrtdgDgeV74hFI6HA7Zveu6LstyGI5hYhhFmVRVDdnDyMThZDhhmBhG0flk23atVguuDcNot9vBz3E8HvGzCiOG0dO80zRtNpv571+94ka5xHaKogDA4XB4N1CiUXScCCGmaRJCtttt8OR8PlNKCSF8aRhGUaZOpwMAk8kkfGLbdq/X4wv0wiieEZTSyLLxmLG88o5hlJzksiyH+JjePc+Lj8Rjqj9TopHki30BRoIJJ8GEU+50Op1OpwyR5XK52Wzy5gEAgPl8ni1wMBhglq4MyuXz+VartdlsUgGNx+NCoZDty7xU7n6/Xy6XarWaKux6vd5ut/cgfeUcF0w4PWVKW6lB1qowbpTApGmaJEnL5RJPAwCKoliWFSSzqqrtdvsl1jOjKJNhGLZt+75fqVTwQI7jmKZpWVZwO51OKaXr9ZoRwjCKMvX7/XCDjNd+v3/cszuO43nearVihDCM+MxxvlUh57zjUhUm13fZxKsq5DNOfKtCPkx8q0I+TP1+n1IaQmiaZprmI2I6zefzarUa7l2QlVq3243vn1JVhQyj6BwnhGTOmlQLG8Pop97BH5RgwukbmXKlUqnRaCwWi1RhxWKxXC6/BwlyAOC6ruu6aSPr9fobeAAAxP9POAkmnMRZGc5InJXhjMRZGc5InJXhjMRZGc5InJXh9Dvv4M9KMOH0B8p1eVA+A8UvAAAAAElFTkSuQmCC\"></div></div></div>"
      ],
      "text/plain": [
       "Item[0, Frame -> True]   1\n",
       "\n",
       "1                        0\n",
       "1                        0\n",
       "\n",
       "Item[0, Frame -> True]   1\n",
       "0                        1   0\n",
       "\n",
       "Item[1, Frame -> True]   0   1\n",
       "\n",
       "0                        1   0"
      ]
     },
     "execution_count": 951,
     "metadata": {
      "text/html": [],
      "text/plain": []
     },
     "output_type": "execute_result"
    }
   ],
   "source": [
    "splarr[{1 -> 1, I -> 1}]\n",
    "splarr[{1 -> 1, -I -> 1}]\n",
    "\n",
    "%% * %"
   ]
  },
  {
   "cell_type": "code",
   "execution_count": 515,
   "metadata": {
    "vscode": {
     "languageId": "wolfram"
    }
   },
   "outputs": [
    {
     "data": {
      "text/html": [
       "<div><img alt=\"Output\" src=\"data:image/png;base64,iVBORw0KGgoAAAANSUhEUgAAA7AAAABmCAIAAAB9UOo6AAAA0HpUWHRSYXcgcHJvZmlsZSB0eXBlIGV4aWYAAHjabY/RDcMgDET/maIjGNvYMA5pqNQNOn7Pgaqi6kmxj5ezE9J4PR/pFuJMSYtXa2YEadPGHabS1OyZ2lUvHUSy6MbTXIFzByrfFzYWP3buK8/1ZxHxNBJfgBddA2uR8OS5rz9aee617osabbKPyf/PKs5WLLuiKpO7NfiaYNGsMBW3h93NEMx2MukdfZg7xswjIT0GQzx8T49kAnDGFSQelY4uqFlwI5B8keBI8AHfLhLXeQNa0FqyIDd7xwAAAAlwSFlzAAAOxAAADsQBlSsOGwAAADx0RVh0U29mdHdhcmUAQ3JlYXRlZCB3aXRoIHRoZSBXb2xmcmFtIExhbmd1YWdlIDogd3d3LndvbGZyYW0uY29tXKKmhQAAACF0RVh0Q3JlYXRpb24gVGltZQAyMDI0OjAzOjEwIDIxOjA0OjIwlGwsEAAAHitJREFUeJzt3W+IG8f5B/DZ/K5UOAc+w0GvzuE7tAt1wNDQggnxqTnc4BWtIXlhqHTpi3thRPeSQEqNROhBU1AxUq+0FOfkHCk+QnNSwSUOpHB64TOxVENNA6ZtwKXarWsu1yPcCxmUVtCD/b2YZqucpNX+mZ0Znb6fV/4jzTxazT47mp2dUWzbJgAAAAAAo+ox0QEARKjZbIoOAcCfdrvdbrdFRwEAMFqGpkOsaZqiKJVKRXQgMDTa7XahUBj4Mp5Ny7IspQOHGmHotNvtn/zkJ6KjAAAYLfw6xPv7+9///vcDvLFYLCqKks/nmYcEgV25cqXRaIiOYoArV6689NJLLi/g3LQsy1JVtVar2bZt27aqqpqm8akahsjExMQXv/hF+c8vAIDDhF+H+Ne//vV3vvMdv++qVCpbW1u2bU9PT0cRFQRz8eLFn/3sZ6KjcNNqtR49euTSbPg3rXg8btv23Nwc/Ws+nzdNs16v86kdhsjLL7/8xhtviI4CAGCEcOoQt9vtjz766Omnn/b7xlQqtbm5GUVIEEYsFvvKV75y79490YH0dePGDV3XXV4gvGnhNx70MzExsb+/32q1RAcCADAqOHWI6/X6mTNn+NQFfFy8ePFXv/qV6Cj6+sMf/uCMxcrpzp07hJDjx4+LDgRk9Pzzz2MsAACAG04d4vfee++5557jUxfwMT4+3m639/f3RQfSQ6vVisVioqNwY1lWLpfTdT0ej4uOBWQ0Pz9/8+ZN0VEAAIwKTh3iVqs1Pj7Opy7g5syZM3JOgW00Gk888YToKNyoqkoIwRAg9DM2NobF1wAAuOHRId7e3sZ0yUPp1KlTck4jbjQas7OzoqPoiy4uYZqm6EBAanLefgEAOJR4dIjv378/MzPDoSLgbHZ2Vs5encwdYk3TTNM0TROTJcDd5OTk7u6u6CgAAEYCjw5xo9HAeqvDy2UXicnJyb29vTCF000xFEVhO/Xir3/968TEBMMCWUkmk6Zp1mo19IZDiqjlcOa+RcvRo0cDr0ZcqVScwrGfEQDAQDw6xLu7u4GH65ydvRKJBCEknU4rioLuNTeKojgbSfR8QZgOcbFYzGQytm3XajX6/TI0sEPMv2nV6/VqtUoISSQSTmcFjTmASFsONwNPLhJi1kQqlaIlm6a5vLwcNEYAgFExxqGOTz/9NPB76V4GDIMB74rFYqFQcF+8LMw0x2w2S/8QxdJjAzvE/JvW3NwcGjMTkbYcPrycXFNTU+Er2tnZwY8uAICBeIwQh7yrDqJsbW2Rz+7qJpPJnq+ZnJwMX9Hdu3fdN9Hw68GDBwxLA2kxbznceDm5YrHY9vZ24CqWlpboDZDV1dXAhQAAjAh+WzfLjM5HlHymXTKZdO6z95s36Uys9FWyy7vo5sZ0XLPn8Wk2m77q6mZZVjqdZnvNlnMCcdScSSAB2gCfAtli2HLkPLlIuDswq6urdMqEqqqWZQUuBwBgFPDoEMu8CHGxWFQUJZ/Piw5kAHrTk14+y+VyIpHoeQXVNM19SmJPjUbDtm3DMLr/y5l9ePbs2YcPH3a/IOTKUJZlqarK/CGzEewQO0eSNgBVVUPeKGdeIFsMW460JxcT8Xhc1/WdnZ2IygcAOBw4TZlgcmOduUqlQgdpJF8muVgsmqbpbOKQSqUMw+DwoMzi4uLGxgb989ra2jPPPMO2fKdPI/key0OBTol2jmQ+nzdNM8wKDMwLZIhhyzmsJ5fDsqxqtYpTDADA3WPks6lmxWLR+Vd6j+/Q32VLpVLMtwrTNO3AQBodhA5zMLe2tg6MMC0sLHjsnYSJJ5VKOTfNM5lMgGuqe9NaWVkhHUsudL4MQmL+G8+lwCjavHuZDFvOYT25aCSKoqiqikc5AQAGozcB6SXBNE3nz7YrwzDcX9Bpfn7e+4uFqNVqhJByuRy+qHK5TAhxbjTbtq2qaqFQcH+X+/EkhBwogW6H0R2wruuB4/H1nToGfrl+m5ZLOd5fvLi4GKyWAIIdt6hrKRQKzmFnUqZLgVG0+WBlBqhI5pPr2rVr165dc3mBkJMLAOBQ+u+UidXVVV3Xz507V6lUSqUS7SBCAKlUSlVV52ZovV43TfPChQsjGw+aFn+WZeVyOV3XWc3Mdi8wijYmvN16ITxInFwAAKz8bx3izc1NRVHS6fTA1TGZSCaTdJOCTvbnb+09fPjwww8/7FfCyZMnn3zyycCF++W9zEwmk8vl6MPvGxsbhmGI3ZZMeDycm1Y/e3t7AXoMuq4fOXIkZNX/+te/uhuPY3Jyku3uEqqqEkIYTgcaWGAUbUx4u/VCeJCSnFwAAMPufw/VOfPeXNZwdRYnKpVKIRdj2tzc7B6vDlYUn8K9l0mHiOiD6qVS6dKlS/3K9Hg8VVU98KXQZ8ZPnz7tJXLv8UTES9Pqh2GTY4tPYAFqobNa6X1/JmUOLJBE0OZ9lRmmIpxcEp5cAAACdPbtDMPwOJsWc4jdGYah63q5XO6ed9jv9S7/S6dvdpff/cp+1XmJJ6I5xLbPptUP5hB7eRkdynWfOuyrTO8Fsm3zwcoMUJHMJ9fAOcS2iJMLAOBQ+u+UiWQyqaoqvfFXKBTS6fT09DRuwAW2sLCQSCSq1SqTWX3ZbDaXyy0tLdEvKMB8Qbbx+IKmxU0ymTRNk+Gizr4KjKKNcWi3OLkAAIDQOcSaptHLHv2nbDa7traWSCQO/QKxdDVT56/pdDqdTquq2mg0QpY8NzdHS2Z1AG3bpnc26V9N0/TV6WEej0cj27T4q9frdJpy53TkMI3Zb4FRtDE+7RYnFwAAjBFCuq9wAy+ibDfaFYVuPRBd+ZlMxuMrvRzP8KF6j4eVAE2rH2mbHJ/ABtYyNzfnt4W4lxmgQMK6zfstM3BFOLlChwMAMNx47FQ3OTm5t7fHoSJ5JJNJQkg2mxUdyH/JFk/UArc3TdPoo0WSbMk2RKJoY0PRbociSAAAcMejQzw+Pt5qtThUJAPnSe3w8y4CaDQaBx4V9xIP7QU6t4x9GRsbG/wi7trtdoB3FYvFTCZj23atVmO7DtrhFkWbF3se9cT/5CKynl8AAIcPsi1jkc7BGKj7wuwlnjB9jomJicDvjU6wjYudQb7jx48zDeeQi6LNiz2PeuJ/crVarVOnTgV+OwAAeMdpygSHWkAIaSfDNJvNwO+9e/eurusMgwEIQNqTCwDg8OExQvz4449zqAWEkPOW7tjYWLPZDDZ6bVlWOp1234cCgA85zy8AgMOHxwjx1NRUgF2UYCjIOfyvqmqwEWK6Eh/DpXwBAnv06BHdJhAAAKLGo0OsaVrgiXSaph24JBSLRUVRnA1LQaBmsylnh1jTtAC/wZzecETLuKIxgy97e3tTU1OiowAAGAk8OsQnT578xz/+Eey9+XzeNM3ONbDW1tYKhQIG8GTQaDQ6dzaRh8tvMJde6crKCiEkkUjQ1QOKxSLbqNCYAQAA5MSjQzw9PR346ZBUKqWq6sbGBv1rvV43TfPChQvsooPg7t+//9RTT4mOogdN0/r9BnPpla6urnZua858ZVk0ZvCu3W7LuYQLAMChxKNDTAiJxWLBloYlhGQyGWcVz42NDcMwMKImiQ8++EDOTWLHx8f7tTexvVI0ZvBoc3Pzm9/8pugoAABGBacO8bPPPru5uRnsvbSzUqlUCCGlUunSpUssI4OgWq1WLBaT9in4Z599tt9ucwJ7pWjM4FG1WqV74AEAAAf/9/rrr3OoZnZ29s033/zWt74V4L3Hjh375JNPbt26NTY21mq1XnnlFebhQQBvv/32/Pz8iRMnRAfSWzwef+ONN3p2Kb785S//8pe/PHny5KlTp86fP/+b3/zm2LFjfKJCYwYvms3m73//+/Pnz4sOBABgVHAa3ovFYl/96lfv3bsXbMrpwsJCIpGoVqu1Wo15bBDA/v7+Rx99dPHiRdGB9DU+Pj4zM9NoNLoXrorH44ZhrK+vE0J0Xec8aQGNGQa6evXqD37wA9FRAACMEIXbFqn7+/uvvfbaT3/602Bvp92aMPugAkPr6+tPPfWUnE/UOdrt9o9//OPLly93/1e9Xk8kEoSQ6BZZc4HGDC6azeYvfvELPvfuAACA4tchDknTtEwmw/zBfxhZAnulaMwAAABS4fRQXUh0Jig6EMBWJpPhXykaMwAAgGxk7xDTLRII7i8DU0J6pWjMAAAAcpJ0zSzHsMzogGFBu6S6rvPvlaIxAwAAyGlo5hADAAAAAERB9ikTAAAAAACRQocYAAAAAEYaOsQAAAAAMNLQIQYAAACAkYYOMQAAAACMNHSIAQAAAGCkoUMMAAAAACMNHWIAAAAAGGnoEAMAAADASEOHGAAAAABGWsAO8f3795vNJttQAEA2f/zjH0WHMFi73f7LX/4iOgoAAKkNRT4XKGCH+M0335yYmAhfvaZpiqJUKpXwRQWol9I0jVu9yWRSUZSlpSVuNQKE8d5778n/0/ett96KxWIDXyYq21Ccz/1isah04ZPr+h1ny7KcSJLJJIdIAKBTq9W6ceOG6CjkFaRDfOPGjeeffz5kxTRf5/P5kOUE02g07M9omsbnOlGpVKrVKoeKAFh56aWXrl69KjoKN81mc29vz/0UFpttiIhzP5vN2p+nquq5c+cirdTlONfrdVVVy+UyDaZaraJPDMDZ/Pz8Bx98IDoKeQXpEN+8eXN+fj5MrZVKZWtry7bt6enpMOUwsbi4aJqmZVlRV7S8vFwoFFRVjboiAFampqY+/fTTVqslOpC+rl69evHiRZcXyJBthJ/7lUrFNM2FhYVIq3A5zvl83jCMVCpF/1oul6vVKoesCwCdvv3tb2OQuB/fHeJGozEzMxOy1lQqtbm5GbIQtuLxeKTlF4tF0zSz2WyktQAwp+u6zAn0448/du/pCs82Mpz76+vruq7Pzc1FV4X7ca5Wq9/4xjc64yGEXL9+Pbp4AKDbc889d/PmTdFRSMp3h7hSqbzwwgtRhCJKOp0uFAqRVmFZVi6XK5fLkdYCEIWnn376ww8/FB1Fb41GQ/JbLjKc+/V6vVqtLi8vCwyAEOL8btE07ezZs6qqPnjwQFRIACNrfHxc5pt+AvnuEJumyfMptOg4z9Wpqhr14M3Kyoqu687tQoAhMjY2Ju1zdTdu3JB8KqoM534+n1dVNdLhYe/oJGPcKwMQ5cyZM7LdopeE7w7x/v5+FHHw5zxXl8lkFEWhYxhRqNfrpVJJ4PAMQEhTU1NyDuaZpjk7Oys6ir5kOPfp8LDABwodd+7cURSlVqthaABAIE3TGo2G6Chk5K9D3Gw2x8fHIwpFlGw2q6rqxsZGROUvLi4ahiHJ8AxAADMzM3Iu9NtqtbwsuCaKDOc+HR4W2wc9fvw4ISSXy5mm6RwN0zQ7ZxUDAB+zs7OmaYqOQkb+OsTyz9gLLKJxJsuyTNMslUrOApzOX4vFYhQ1AjA3Ozt7//590VH0IPNMOBnOfcuyqtVqJpPhU10/8XhcVVXDMJxnl+kdudOnTwuNC2AUxWIxaWfBieWvQ9xqtSYnJyMKRZSlpaXongGPx+Pdq4EahmHbNmbRRceZIB7dTBiqUqk43R1ROz6w4nyQ7v+KxWIhu571ej2KjqDMaV2Gc39lZYUQIkOqyefzpVLJOUcSiURn/xikwi1/esQ5zUaUrDhzyeeEkL29vcAld34dQ/1EWfch8tch3t3dZRKHs2VRIpEghKTTaZ5HtnPDJHosbNvmUzVwUCwWM5mMbdu1Wo02sOikUina1zFNc6inidPJnfSzRFF+IpHQdT2KkgcSm20EojOYo15Cx+F+nFOpVK1Wo/+oKEqhUFhdXeUTGPjCM396xDnNCkxWrESdz+kPe9u2h3cucs9DNOariHa7zSQUOnbCpKihq314G9CwcMbD6MxFPnZ2doa3j1UsFguFgstU19nZ2Y8//jhw+UtLS+Vy+fbt24FL6KndbnuZ6ST2fO/E+dyfm5vj+cEHHmfO8UAwQvKnRxzSbETJiqeB+Zx0rIE4mvodoiA71QEMhbt373L4ob+0tERHxYZ3xGtra4t8dv+o3ypmgZeXqdfrlmVF8VAXqxtWANCNT/70iE+ajS5Z8eQln29vb4epwnk0YkgnCvY7RL6nTExNTTEODcJx5ns5GG6ImkwmFUVZWlpiVeBAnR8nzGCAZVnpdJpDJ3V1dZXey1NVlcmRp8fcZQ6fc4h8Fev+LrrpLh3AY5vjFhcXh/enAgwR2sJ7tl4665Ht4GK/6jqn5HFeJLtYLCpdgn3qKPJnmKsJ8zTbUxTJamA+JxGk9OjyOfn8DJZ0Oh3+65DnEPnrELfbbZkXORpZhUKh89kdVo+qVCqVarXKpCjvnPWhbdvWNC1wNldVtVarcXtqJx6P67q+s7MTshz6eenHL5fLiUSiO51pmhZgchg9sIZh9PxfZ2be2bNnHz586D/w3ur1Or2GKYpSKpVyudzwTiwBadGOYL+1lhVFuX37NsPBTpfq6vW6qqrlcpmeodVqlWefOJvNdj/Hee7cOb/lRJE/mVxNWKXZnqJIVl7yOYkgpUeUzw+gq8eE/DqkOkSYMgF9LS8vFwoFgQvtLS4umqbp9weok815rv9K17cKWWOxWDRN09lDKJVKGYbB4SGSxcVFZx3utbW1Z555hlXJdNooZRhGoVDAHHpgq1Kp0MGentMiNU2r1WoMh/3cq8vn84ZhOPfcy+VytVqNbkTTXaVSMU1zYWHB17siyp9MriZM0mw/zJPV4cvnB9AGFubrkO0QoUMMvdGW6rJgU/fwLR04YZ79e45SuNROl5pKJBL0XknI1XPcP6Zzj1JV1fAPDG1tbR34LbuwsGCappfFj8J8HalUyrnPm8lkAiQ4OsOv81Azn70D0FMqlXLZh7bRaLDtP7lXV61WO3cbWV9fJ4Rcv369+5Uc8uf6+rqu690f371qtvnTKT/M1YRtmuV25Tqs+dz5OtLpdMivI8whCnPR6XuIbD9+9KMf3bp1y9dbIGoHfnMzKZNuY0Nv/DmLpx5QLpcJIc7CJfSVByZvhES6ZoPwrJ15RT0PY6fuz9v5RTh0XQ8c58AYevr73/++uLjo/hqa10zTdP4coCLbT4ReomIo2KFD1dwCqNVq3SeLQ9d12p1iVWN3dfRfnHOQnoAM86ev7+JAMCGrDhMS56vJwJC41eUxn9u9Urr3IIOdofPz8+4v4JPPwxwi70F6P0QYIR56nZNudV1n8kt3ZWVF13X3h21TqVTnltd0AtaFCxdCVk06JsKrqtpvUCG62kVVFJLwOFdXV3VdP3fuXKVSKZVK9HoMMJroJGOXMdGoT1i6ZXfP0UHOuULs1URsXYEJD3Io8jnzIP2tQ9xTMpnsnixvf34g/dGjRwFmcS0tLR09ejRwpY7Lly/7rfrFF188ceJEpFUfPXq03/O2vqrotLm5qSjK9evXuxOx9zLpev5e2lYmk8nlcvSb3djYcNl6ytcncmZu0Vsz/Wazea89ZEghK+JGeJy0+aXT6YGrYEbq/fff//Of/+zrLSdOnHjxxRfDV12r1fxu7uWSB3z505/+9Lvf/c7vu1577bXwVT98+PCdd94J9l6XJD+k7ty5k0gkvMzBje6Erdfr1WqVjjJyrro7EuZXk/CEp0ovhAcpST53xzZIBh1ilwlVjiNHjrzwwgt+Sz5y5EiYSh0BqnbZoZpV1V/4wheYVNHtwYMHYcpcXFw0DMNL27pw4UIul6tUKqlUqlQq0ZsdPQX7RNlsdm1tbWNjo2cw3msPGVLIijp73qVSif6hZ89bVdUD3x19gPf06dMc4gzPuTXRswW6836UBvr617/u99mdxx9/nElgTz75pN/N7V3ygK+qZ2ZmAiQ6JlVPTk4GrrpfkmfYHjwKXyPdySKXy5mm6fRdTNPsnFXcyeMJGyAwOjzsMijLLadFcTUJGRK3upDP6Z+jO0Qhg+zB49QKCnOIJddv/o3fEnrqN4FJ1/Vyudxzik947rO7oq6dbUUDZzLRXXa76z3wMpcYBsYZ3Rxi27YJIYZhuE/lHAhziFF1sACEzyG2u+bI0tfQOY796vKeWDwGRnP4wEmxHHKakKuJx6PEoS6P+dzun9K9BBnRHGKbSz4Pf4i8BOn9EKFDfKgQQph3Dfs9BkE598J6Pr0R0sC5/JHWzrwiL6cl6dgmvvu5CsrlKx4YZ3Qd4s4OB01zwY4VOsSoOlgAMnSI6Tnr/GPn6exSiMeTxXtXz8tQF7ec1onD1cTX1xd1XV7yud0/pXsJMqIOMbd8HuYQeQwSHeIR0vmzO8zYcD/uKYy+wOOVZqADIwpe2jHD2qOuyONp2XkEeo4tuf/mcY8zog4xnaJw4JnoYDkUHWJU7SuAnsOQzinQc01+9zwZYNSz84zrnC/rZe0C74nFy3dBa/e4ZgK3nNZZY9RXE+8h8alrYD63XVP6wCCj6BBzzufBDpH3IL0fIgZziEEsO8p5daTjETcXmUyGSV3xeDzAx2FVe9QVeXyuNPwXyu2AOLobSeA17aXd51lgYKNZtccA3JPG6uqq34/g/vqBOYru7+CrRo8nrJcP4rd2PjnNweFq4iskDnUhnw98TbBDxDBIh79l16anp7e3t0NW2RPda55ivvX2QM46X36fEAe6ManL6kKHo3axH9O7YYlTBvV6ndW+A94h0UEngSeshLmCZ0gSfvxuQxHkYeKvQzw2Nra/vx9FHKlUig5Zm6bJYeO+TsViMZPJ2LZdq9USiQTPqocavbISFj/LZK5d7MfsqdFoOFE5BsZJO0POA7+HwPj4eJi3JxIJXddZBeMREh1QAhOLhDmNZ0gSfvzulO4lyDApPWTy5K/nVW8gv4dIuikTOzs7B3YsjJrz84sumgMeRT1VQ5LaxX7MnnqmyIFxhsn+e3t7flcT42BycrLZbAZ779LSUrlcvn37NtuQvEOiG3ECE4uEOY1nSBJ+/O7k7CVIeTr0HAT7sH7f5XvKhK/X+0J3pk4kEqJmrd29e5f/iBGA/FqtlstKvQIF6xDX63XLsty3zooOEh0AiNVqtUSHICPfUyba7XZEoayurtI7iaqqht982C/LstLptPAnSADAu2A3/hYXF8U+poZEBwACDd2UCT78TZnQNK17t1u24vG4rus7Ozs8dym0LEtV1VqtJuH+jQDC7e7unjx5UnQUPQRI6/V6nXZGnX9ZW1vjf/MRiQ4AREGHuCdZVplwWJZVrVZ5bpztXCQiqlTTtAOTBYvFoqIo/AeHAIJ58OCBnB3isTHfT0HQdamc9SkLhYKQqXiHL9F1QtIDkNbu7m6k01+Hl78OMQl0BXK4ZEn6B0VR6BrUgasIUPXKygohJJFI0ACYL8OUz+dN0+xc52htba1QKGCQBoaFaZpydoj7/UQX2CFzrzrSROdeddSJrhOSHoC0Go1G5y0y+B+PG3g4Xn311X//+99+30V178unqqrHPXVCEli1/fnteQbubg8gm+9973uiQ+jt3Xfffffdd7v/fTRTjdgsdwCSHoCcfv7zn//tb38THYWMfI8Q67q+ubkZrPOdSqVUVd3Y2KB/pZP5Lly4EKy0YamaEJLJZJyV8DY2NgzDwEgJDIvt7e0nnnhCdBS9JZPJmzdvdv/7aKYasVnuACQ9ADmZpsl5zcdh4btDPD8/H+a5OoFZUmDV9JpEN6YqlUqXLl3iUy9AeO+//76oFcoGisVi/XYLGs1UI083FEkPQELb29tf+tKXREchqwCjysvLy//85z+DjUibpkkIKZfLtm0TvjfRBFZt27ZhGLqul8tlXdd51gsQxn/+859XX31VdBRubt26de3ate5/H81UIzbLHYCkByCby5cvB+6/HXr/9/rrr/vtQ3/ta1+7cuXK/Px8gP73sWPHPvnkk1u3bo2NjbVarVdeeSVAIcEIrJoQcvTo0R/+8Ie//e1v19fXT5w4wbNqgMDefvvtZDI5NTUlOpC+Zmdn33nnnbNnzz722Ofud41mqhGb5Q5A0gOQSrPZrNfr58+fFx2IpBQ70JPOb7311ne/+91YLBbgvfV6PZFIEEL4LAAkSdWEEDprZ6S2W4Rhd+XKlZdffll0FAPcu3ev1Wp1n9GjmWrEZrkDkPQA5HH9+vW5uTmZBzjECtghDklglhRbdSaTyWaz/KsGGE0jm2pEVd0dCZIeAAwF3w/VsZLJZEaq6mQySQjBhQGAs1FLNcKrdiDpAcAQETBCnEwmG42GkNELIVUrikLCLVcHAAGMWqoRXrUDSQ8Ahg7XEWK6QxIRcS9PYNX06UVcGAC4Gc1UI7DqA5D0AGDoiJlDDAAAAAAgCWFziAEAAAAAZPD/Nf65xnqCjX0AAAAASUVORK5CYII=\"></div>"
      ],
      "text/plain": [
       "       1                6   2     -2   2              2       6   3\n",
       "x + (-(-) - 1 - y + O[y] ) x  + (y   + - + 2 + 2 y + y  + O[y] ) x  + \n",
       "       y                               y\n",
       " \n",
       "       -3   3    4                2    3       6   4\n",
       ">   (-y   - -- - - - 5 - 4 y - 3 y  - y  + O[y] ) x  + \n",
       "             2   y\n",
       "            y\n",
       " \n",
       "      -4   4    7    10                  2      3    4       6   5       6\n",
       ">   (y   + -- + -- + -- + 11 + 10 y + 7 y  + 4 y  + y  + O[y] ) x  + O[x]\n",
       "            3    2   y\n",
       "           y    y"
      ]
     },
     "execution_count": 515,
     "metadata": {
      "text/html": [],
      "text/plain": []
     },
     "output_type": "execute_result"
    }
   ],
   "source": [
    "Series[1 / (1 + x + x^(-1) + y + y^(-1)), {x, 0, 5}, {y, 0, 5}]"
   ]
  },
  {
   "cell_type": "code",
   "execution_count": 947,
   "metadata": {
    "vscode": {
     "languageId": "wolfram"
    }
   },
   "outputs": [
    {
     "data": {
      "text/html": [
       "<style>\n",
       "\t\t\t\t\t\t\t\t\t\t\t\t\t.grid-container {\n",
       "\t\t\t\t\t\t\t\t\t\t\t\t\t\tdisplay: inline-grid;\n",
       "\t\t\t\t\t\t\t\t\t\t\t\t\t\tgrid-template-columns: auto;\n",
       "\t\t\t\t\t\t\t\t\t\t\t\t\t}\n",
       "\t\t\t\t\t\t\t\t\t\t\t\t</style>\n",
       "\n",
       "\t\t\t\t\t\t\t\t\t\t\t\t<div><div class=\"grid-container\"><div class=\"grid-item\"><img alt=\"Output\" src=\"data:image/png;base64,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\"></div><div class=\"grid-item\"><img alt=\"Output\" src=\"data:image/png;base64,iVBORw0KGgoAAAANSUhEUgAAAC4AAABCCAIAAACn7XNBAAAA0XpUWHRSYXcgcHJvZmlsZSB0eXBlIGV4aWYAAHjabU/RrQMhDPtnio4QkuDAOFxLpbfBG7/mDrWiqiUSYxzfJY3/v2e6TWiW5CUqGiCEN2/aSapcuHqWdtYTOtZb3vXkuvROqXwesAbyseuBFVi/gmQF2fwCufkaWEGml577dT+WX3ute1CTDZD3r/+8u4WiIIezcp0INPKaSNlQVErgiTtAY8ZDxe/sAxEcQ0yH9Tk4oSN290gwCo+5gs3j1tmNNRs3oqLkTq1TDT3I2umZ67wAVfxatylIGRIAAAAJcEhZcwAADsQAAA7EAZUrDhsAAAA8dEVYdFNvZnR3YXJlAENyZWF0ZWQgd2l0aCB0aGUgV29sZnJhbSBMYW5ndWFnZSA6IHd3dy53b2xmcmFtLmNvbVyipoUAAAAhdEVYdENyZWF0aW9uIFRpbWUAMjAyNDowMzoxMCAyMjo0MDozN1gZo/gAAAI5SURBVGiB7ZkxrqpAGIUPxMTCQksKCzJwowuw1ViJS7C01cLK0gQLG9mIJG5AGxrcBIkYYm1nLKzmFbw3et8dh4F4I8WcwgD5z5xP5AfG0SilKIf0TwM8VEqU6XSq/dPhcJD027ataZrv+/KRL4MopZRSx3Esy0q31+s1gDAMqVBp2WazST/FxUyCIFBKwzAEEMcxM1iWNZlMBCNuNhvHcZhXEkUchJSOkTIDO2Eyo0uiiIN0AEEQ2LadHvV9v9vtpqf9dDrJXwEyEgd96yDP8xaLBf39Ow03qMK2hsMhgOPx+Nscr4J0AISQ/X5PCNntdunR8/lsWRYh5L0Q4iAdQK/XAzCfz5knCILBYPBejuwg1lT/tftzy72rg8RBj451HIfBZo4Yx/HPL/3cqAK9CtKoejL/lELhSaHwVMkuAQAkSZIkSYEAwzDa7bZUqeStyXXdAhwAxuOxZITsWalWq51OZ7vd5uKYzWa1Wk2yWBblfr9fLhfTNHOhXK/X2+0mWVyiy1ah8PQNpcCkpoDllesviud5mqatViv54QpYxC4dgO/7QRBQSpvNpuSIBSyZLh3AaDRiL5uSKmDJdJX1sv2sFApPCoUryUmN67qmabJdyXlQv99/fl8RuyoACCF5Z0MFLJmuEv1ACoUnhcKT7Gt2o9FotVrL5TLX6PV63TCMN6MAiKIoiqJcKAC+vr4kK9X/KzwpFJ7UIgwvSC3C8ILUIoxahHlILcK8kFqEyalSPg4/LoXC0x8JYMeLzgKetQAAAABJRU5ErkJggg==\"></div><div class=\"grid-item\"><img alt=\"Output\" src=\"data:image/png;base64,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\"></div></div></div>"
      ],
      "text/plain": [
       "0   0    1   1                        1   0    0\n",
       "\n",
       "0   0    0   -1                       0   0    0\n",
       "\n",
       "1   0    0   0                        0   0    1\n",
       "\n",
       "1   -1   0   Item[1, Frame -> True]   0   -1   1\n",
       "\n",
       "1   0    0   0                        0   0    1\n",
       "\n",
       "0   0    0   -1                       0   0    0\n",
       "\n",
       "0   0    1   1                        1   0    0\n",
       "0   1                        0\n",
       "\n",
       "1   Item[1, Frame -> True]   1\n",
       "\n",
       "0   1                        0\n",
       "0   0   0   1   1                        1   0   0   0\n",
       "\n",
       "0   0   1   2   2                        2   1   0   0\n",
       "\n",
       "0   1   0   0   0                        0   0   1   0\n",
       "\n",
       "1   2   0   0   0                        0   0   2   1\n",
       "\n",
       "1   2   0   0   Item[1, Frame -> True]   0   0   2   1\n",
       "\n",
       "1   2   0   0   0                        0   0   2   1\n",
       "\n",
       "0   1   0   0   0                        0   0   1   0\n",
       "\n",
       "0   0   1   2   2                        2   1   0   0\n",
       "\n",
       "0   0   0   1   1                        1   0   0   0"
      ]
     },
     "execution_count": 947,
     "metadata": {
      "text/html": [],
      "text/plain": []
     },
     "output_type": "execute_result"
    }
   ],
   "source": [
    "splarr[{0 -> 1, 2 -> -1, 2I -> -1, -2 -> -1, -2I -> -1, 3 -> 1, 3 + I -> 1, 3 - I -> 1, 3I -> 1, 1 + 3I -> 1, -1 + 3I -> 1, -3 -> 1, -3 - I -> 1, -3 + I -> 1, -3I -> 1, -1 - 3I -> 1, 1 - 3I -> 1}]\n",
    "splarr[{0 -> 1, 1 -> 1, I -> 1, -1 -> 1, -I -> 1}]\n",
    "%% * %"
   ]
  },
  {
   "cell_type": "code",
   "execution_count": null,
   "metadata": {
    "vscode": {
     "languageId": "wolfram"
    }
   },
   "outputs": [],
   "source": []
  }
 ],
 "metadata": {
  "kernelspec": {
   "display_name": "Wolfram Language 14",
   "language": "Wolfram Language",
   "name": "wolframlanguage14"
  },
  "language_info": {
   "codemirror_mode": "mathematica",
   "file_extension": ".m",
   "mimetype": "application/vnd.wolfram.m",
   "name": "Wolfram Language",
   "pygments_lexer": "mathematica",
   "version": "12.0"
  }
 },
 "nbformat": 4,
 "nbformat_minor": 2
}
