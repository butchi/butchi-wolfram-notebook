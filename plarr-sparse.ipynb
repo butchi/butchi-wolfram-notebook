{
 "cells": [
  {
   "cell_type": "markdown",
   "metadata": {},
   "source": [
    "# Sparse Plane Array\n",
    "\n",
    "疎な平配"
   ]
  },
  {
   "cell_type": "code",
   "execution_count": 19,
   "metadata": {
    "vscode": {
     "languageId": "wolfram"
    }
   },
   "outputs": [],
   "source": [
    "Format[splarr[ruleLi_]] := \n",
    "  With[\n",
    "    {\n",
    "      minPos = Min[#, 0] & /@ Min /@ Transpose[First /@ ruleLi], \n",
    "      maxPos = Max[#, 0] & /@ Max /@ Transpose[First /@ ruleLi]\n",
    "    },\n",
    "    With[{\n",
    "      tbl = PadRight[\n",
    "        Normal[\n",
    "          SparseArray[(1 - minPos + #[[1]]) -> #[[2]] & /@ ruleLi]\n",
    "        ], maxPos + 1 - minPos\n",
    "      ]}, \n",
    "      Grid[\n",
    "        Transpose[\n",
    "          ReplacePart[tbl, \n",
    "            1 - minPos -> Item[\n",
    "              Extract[tbl, 1 - minPos], Frame -> True\n",
    "            ]\n",
    "          ]\n",
    "        ]\n",
    "      ]\n",
    "    ]\n",
    "  ]"
   ]
  },
  {
   "cell_type": "code",
   "execution_count": 20,
   "metadata": {
    "vscode": {
     "languageId": "wolfram"
    }
   },
   "outputs": [],
   "source": [
    "convApply[f_, li1_, li2_] := \n",
    " Join @@ Function[x, Function[y, f[x, y]] /@ li2] /@ li1\n",
    "\n",
    "listConv1[f_, li_, val_] := f[#, val] & /@ li\n",
    "\n",
    "listConv2[f_, li1_, li2_] := listConv1[f, li1, #] & /@ li2\n",
    "\n",
    "convApply[f_, sa1_splarr, sa2_splarr] := \n",
    " splarr[Join @@ listConv2[f, First[sa1], First[sa2]]]\n",
    "convApply[f_, saSeq__splarr] := \n",
    " convApply[f, First[{saSeq}], convApply[f, Sequence @@ Most[{saSeq}]]]\n",
    "\n",
    "combApply[f_, sa__splarr] := \n",
    " splarr[Normal[\n",
    "   f @@ (Last /@ #) & /@ \n",
    "      GroupBy[#, First] &@(Join @@ (First /@ {sa}))]]\n",
    "\n",
    "Unprotect[Plus];\n",
    "Plus[sa__splarr] := combApply[Plus, sa]\n",
    "Protect[Plus];\n",
    "\n",
    "Unprotect[Times];\n",
    "Times[sa__splarr] := \n",
    " convApply[(#1[[1]] + #2[[1]]) -> (#1[[2]] #2[[2]]) &, sa]\n",
    "Protect[Times];"
   ]
  },
  {
   "cell_type": "code",
   "execution_count": 32,
   "metadata": {
    "vscode": {
     "languageId": "wolfram"
    }
   },
   "outputs": [
    {
     "data": {
      "text/html": [
       "<div><img alt=\"Output\" src=\"data:image/png;base64,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\"></div>"
      ],
      "text/plain": [
       "Item[0, Frame -> True]   0   0   0\n",
       "\n",
       "0                        3   0   0\n",
       "\n",
       "0                        0   0   0\n",
       "\n",
       "0                        7   0   5\n",
       "\n",
       "0                        0   0   0\n",
       "\n",
       "0                        0   0   0\n",
       "\n",
       "0                        0   0   0\n",
       "\n",
       "0                        0   0   1"
      ]
     },
     "execution_count": 32,
     "metadata": {
      "text/html": [],
      "text/plain": []
     },
     "output_type": "execute_result"
    }
   ],
   "source": [
    "splarr[{\n",
    "    {1, 1} -> 3,\n",
    "    {1, 3} -> 7\n",
    "}] + splarr[{\n",
    "    {3, 7} -> 1,\n",
    "    {3, 3} -> 5\n",
    "}]"
   ]
  },
  {
   "cell_type": "code",
   "execution_count": 33,
   "metadata": {
    "vscode": {
     "languageId": "wolfram"
    }
   },
   "outputs": [
    {
     "data": {
      "text/html": [
       "<div><img alt=\"Output\" src=\"data:image/png;base64,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\"></div>"
      ],
      "text/plain": [
       "b c   0   Item[a c, Frame -> True]   0   0\n",
       "\n",
       "0     0   0                          0   0\n",
       "\n",
       "0     0   b d                        0   a d"
      ]
     },
     "execution_count": 33,
     "metadata": {
      "text/html": [],
      "text/plain": []
     },
     "output_type": "execute_result"
    }
   ],
   "source": [
    "splarr[{\n",
    "    {1, 1} -> a,\n",
    "    {-1, 1} -> b\n",
    "}] splarr[{\n",
    "    {-1, -1} -> c,\n",
    "    {1, 1} -> d\n",
    "}]"
   ]
  },
  {
   "cell_type": "code",
   "execution_count": null,
   "metadata": {
    "vscode": {
     "languageId": "wolfram"
    }
   },
   "outputs": [],
   "source": []
  }
 ],
 "metadata": {
  "kernelspec": {
   "display_name": "Wolfram Language 14",
   "language": "Wolfram Language",
   "name": "wolframlanguage14"
  },
  "language_info": {
   "codemirror_mode": "mathematica",
   "file_extension": ".m",
   "mimetype": "application/vnd.wolfram.m",
   "name": "Wolfram Language",
   "pygments_lexer": "mathematica",
   "version": "12.0"
  }
 },
 "nbformat": 4,
 "nbformat_minor": 2
}
