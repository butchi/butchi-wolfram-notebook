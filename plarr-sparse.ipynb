{
 "cells": [
  {
   "cell_type": "markdown",
   "metadata": {},
   "source": [
    "# Sparse Plane Array\n",
    "\n",
    "疎な平配"
   ]
  },
  {
   "cell_type": "code",
   "execution_count": 66,
   "metadata": {
    "vscode": {
     "languageId": "wolfram"
    }
   },
   "outputs": [],
   "source": [
    "Format[splarr[ruleLi_List]] := \n",
    "  With[\n",
    "    {\n",
    "      minPos = Min[#, 0] & /@ Min /@ Transpose[ReIm[First[#]] & /@ ruleLi], \n",
    "      maxPos = Max[#, 0] & /@ Max /@ Transpose[ReIm[First[#]] & /@ ruleLi]\n",
    "    }, \n",
    "    With[{\n",
    "      tbl = PadRight[\n",
    "        Normal[\n",
    "          SparseArray[(1 - minPos + ReIm[#[[1]]]) -> #[[2]] & /@ ruleLi]\n",
    "        ], maxPos + 1 - minPos\n",
    "      ]}, \n",
    "      Grid[\n",
    "        Transpose[\n",
    "          ReplacePart[tbl, \n",
    "            1 - minPos -> Item[\n",
    "              Extract[tbl, 1 - minPos], Frame -> True\n",
    "            ]\n",
    "          ]\n",
    "        ]\n",
    "      ]\n",
    "    ]\n",
    "  ]"
   ]
  },
  {
   "cell_type": "code",
   "execution_count": 67,
   "metadata": {
    "vscode": {
     "languageId": "wolfram"
    }
   },
   "outputs": [],
   "source": [
    "normal[splarr[ruleLi__List]] := \n",
    "    splarr[Normal[Map[Plus @@ (Last[#] & /@ #) &, GroupBy[ruleLi, First]]]]"
   ]
  },
  {
   "cell_type": "code",
   "execution_count": 68,
   "metadata": {
    "vscode": {
     "languageId": "wolfram"
    }
   },
   "outputs": [],
   "source": [
    "Unprotect[Plus];\n",
    "Plus[splarr[ruleLi1_List], splarr[ruleLi2_List]] := \n",
    "    normal[splarr[Join[ruleLi1, ruleLi2]]]\n",
    "Plus[sa1_splarr, b_] := Plus[sa1, splarr[{0 -> b}]]\n",
    "Protect[Plus];"
   ]
  },
  {
   "cell_type": "code",
   "execution_count": 72,
   "metadata": {
    "vscode": {
     "languageId": "wolfram"
    }
   },
   "outputs": [],
   "source": [
    "convApply[f_, li_List, val_] := f[#, val] & /@ li\n",
    "convApply[f_, li1_List, li2_List] := convApply[f, li1, #] & /@ li2\n",
    "\n",
    "Unprotect[Times];\n",
    "Times[splarr[ruleLi1_List], splarr[ruleLi2_List]] := \n",
    "    normal[splarr[\n",
    "        Join @@ convApply[\n",
    "            (#1[[1]] + #2[[1]]) -> (#1[[2]] #2[[2]]) &, ruleLi1, ruleLi2\n",
    "        ]\n",
    "    ]]\n",
    "Times[sa1_splarr, b_] := Times[sa1, splarr[{0 -> b}]]\n",
    "Protect[Times];"
   ]
  },
  {
   "cell_type": "code",
   "execution_count": 78,
   "metadata": {
    "vscode": {
     "languageId": "wolfram"
    }
   },
   "outputs": [],
   "source": [
    "Unprotect[Power];\n",
    "Power[a_splarr, b_?Positive] := normal[Fold[Times, Table[a, b]]]\n",
    "Protect[Power];"
   ]
  },
  {
   "cell_type": "code",
   "execution_count": 81,
   "metadata": {
    "vscode": {
     "languageId": "wolfram"
    }
   },
   "outputs": [
    {
     "data": {
      "text/html": [
       "<div><img alt=\"Output\" src=\"data:image/png;base64,iVBORw0KGgoAAAANSUhEUgAAAEsAAABcCAIAAACp/9+eAAAA0HpUWHRSYXcgcHJvZmlsZSB0eXBlIGV4aWYAAHjabU9BDgMhCLz7ij4BAQd9jru1SX/Q5xdW08amY5aBccAljdfzkW4BzpS0WEUDyKFNG3dPKk1MztSueEGPdZd3PZVz6d2l8r3AWPqx64bJXH8GEc9E4gXPRVfDGiQ89dxnfSw/91r3QY02gD6//rdWMUZBNvWoTGZontfkqRMKUzE8cAJuzLgz6ek8YOZtsHBIj8YAD9vdI0FcuMcKEp9KdxaPWXwjidNdDaVI4cPrdnlinTeZGFrnJ1R2OAAAAAlwSFlzAAAOxAAADsQBlSsOGwAAADx0RVh0U29mdHdhcmUAQ3JlYXRlZCB3aXRoIHRoZSBXb2xmcmFtIExhbmd1YWdlIDogd3d3LndvbGZyYW0uY29tXKKmhQAAACF0RVh0Q3JlYXRpb24gVGltZQAyMDI0OjAzOjEwIDAwOjQzOjU1J0Lc6AAAA+pJREFUeJztm79O6zAUxu1LJEZeoEMVZ+ABGFtG3BdAyiuUGXVCqpC6JA8AKxONBA/QdMhAKp6BIaEIMTAwdGBh8h2sm5vbpm78p27c699Qqc05J/6c2NgfCSSEgL3GWSwWi8VCed1Wq+U4jvKyIgyHw22Unc/npBk4h4eHJycnDw8PqrR9fn6en5+rqiaP8/Pz8/X11W63FRb9+PhQWE2SX7tuwNaxCs1nrULP8yCEURStHoqiCELoeR7XmS4uLuAfZrOZ8vh1za5QGIYhhHA0GlWWgBA+PT1hjGuektLr9abTKZ2+gyDodrvsRvPGM5q9rDCKoiRJCCGtVmu1iud5aZre3NzUEPWX2WwWx/F0OqVfB4MBQuj+/l5VPLvZywp9359MJusKZVnW6XQYZ6rk+fkZIeS6biEgz/Pb21tV8exm65hpkiQpBm0URd1udzweAwBeX1+VxLPROpeGYXh1dUVqr/V54yvRtzju9XoAgCzLthS/Dh3X0HXdOI5d1y2Gyvv7e3mkScaz0aHw9PQUAHB5eVn8kiTJ2dmZqng2OhT6vo8QKpoYhmEcx2UBkvEbGA6H7Xa72E3leb4agxCiR/v9/urR8Xhc3o/N53NQtT8sLxLq7Ou44hnNXlYozzqFu+I/XnnvDVah+ey/Qufo6Oj4+Pju7k5Vxe/v706nAyFUVVASB0L48vJyfX2ttu7BwYHagsJAsu+u/v6PQ6vQfDYopAbWErw+IkWDm1idwruQRQj1+33eLIxxsUEJggAAkKapwnhGCp9C6ghtPNkSaZoCAPI8L35hdxNvPDuFTyHGGGPMlUIICYKg6N2iNYzbhzeencKhkKbxXkDyb7/Qu4B+lrtcJp6dwjGXjkYjhJCAI1ygwU1cTanrJlKnnXaMGBrcxMqUuteQXkDf9+ufr0CDm8hKqTOQqM8TBEHdkfcvq6MIY8yYG3nj2Sm1FFKLrU7kOhBCS3+sGNOGQDwjZXO76RQqfAELtuomMlLs7sl8rELzsQrNxyo0H6vQfKxC86mlUOwxQcki+txEAWNPvog+N1HA2JMvotVNFDD25ItodRMFjD35IrtxE5U8JthcN1HJY4INdROVPCbYaDdRwNiTL6LbTRQw9uSLaHUTiZCxJ1/Euol1sStv87EKzccqNB+r0HysQvPZrJC+WVtG7D3A5nptCCEl/8RvqNdGVChstNdGVChstNdGCEEIle/1jfGrNN1ry7KsXEh4pgFN9toKJpMJhPDx8XEwGHAlgsZ6bZW8vb1xxe/Wa+NTSO9P+p5ufTS8B8xK4ZozAAACT0GThntt5a5aeuWXC+u1bQu78jYfq9B8fgMSwXu/RdAHJwAAAABJRU5ErkJggg==\"></div>"
      ],
      "text/plain": [
       "Item[11, Frame -> True]   0   0   1\n",
       "\n",
       "7                         0   0   0\n",
       "\n",
       "0                         0   0   0\n",
       "\n",
       "5                         0   0   0"
      ]
     },
     "execution_count": 81,
     "metadata": {
      "text/html": [],
      "text/plain": []
     },
     "output_type": "execute_result"
    }
   ],
   "source": [
    "splarr[{\n",
    "    0 -> 3,\n",
    "    I -> 7\n",
    "}] + splarr[{\n",
    "    0 -> 8,\n",
    "    3 -> 1,\n",
    "    3I -> 5\n",
    "}]"
   ]
  },
  {
   "cell_type": "code",
   "execution_count": 82,
   "metadata": {
    "vscode": {
     "languageId": "wolfram"
    }
   },
   "outputs": [
    {
     "data": {
      "text/html": [
       "<div><img alt=\"Output\" src=\"data:image/png;base64,iVBORw0KGgoAAAANSUhEUgAAAC4AAAAvCAIAAAATh2/FAAAA0HpUWHRSYXcgcHJvZmlsZSB0eXBlIGV4aWYAAHjabU9BDgMhCLz7ij4BAQd9jtu6SX/Q5xdW08amYxaGccAljdfzTLcAZ0parKIB5NCmjbuTShMzZ2pXvMBj3eVdT3wuvbtUvhdYDfnYdcMaWH8GEU8i8YJz0dWwBglPPfdZH8vPvdZ9UKMNoM+v/61VjFGQTT0qkxma85qcekJhKoYTd8CNGQ8mvXseMPM2WDikR2OAh+3ukSAuPGIFiU+lexaPWXwjidNdDaUI+PC6XZ5Y5w2anFrpu0zmPwAAAAlwSFlzAAAOxAAADsQBlSsOGwAAADx0RVh0U29mdHdhcmUAQ3JlYXRlZCB3aXRoIHRoZSBXb2xmcmFtIExhbmd1YWdlIDogd3d3LndvbGZyYW0uY29tXKKmhQAAACF0RVh0Q3JlYXRpb24gVGltZQAyMDI0OjAzOjEwIDAwOjQzOjU2vkuNUgAAAmlJREFUWIXtmDGuqkAUhg/mJhaa2JCYGAvCULgASzBWwhIorS2sjDYmxoQGVmElJG5AKGggrsHCobC2IDEWVvMK7uXxDOEO4FMK/8oZ58z5GIbhPzCEEKiGvijHhWEYhmGBBM1mk2VZqqGETqvVqgAHAIzHY8oUtKtSr9f7/f5ut8vFMZ1OG40G5WBalPv9frlcOI7LhXK9Xm+3G+XgWq6p/6s+KGn6B0UQBIZhLMuiiQyCgEkoV9bURN8ohmEwDKNpGuVcQRAghDzPi55DhJAgCDSBGYlqAGBZluu6hJBut0uJwvM8IUQUxaipaRrG2Pf97KjsRDUAUFV1v99TQqSK8hqyEz1n2x4OBwDodDplJnkCShAEi8VClmWe59+MghACgJK3+Ako0YODMS45T1kUQRAwxhjjkremLIqiKBhjz/OewgEAQAhJXV6E0INf4Tgubnqe92sIIWQ4HCb9SnaiL/g5r3JdgCiKBZxodqKqvg7fqw9KmiqEQmuzW61Wr9fbbDa5ZmdZtt1uPxmFYZjj8bher3OhAAB9kcBUp1Ct0F75oKSpePFROGQymcQlS9KZFyw+ioUAgKIojuNEr2Jd1yVJimkKFh8FQgDA933bth3HiZrz+RwhtN1uv/9O2ovIhZimSflFJG+IrutJTxObnqj50m3rum5cRFqWJUmSaZoAEAQBvOsJMgxjuVw+nK60B/8TpSgKAJxOp4f+l64Kz/O2bfM8HxdN5/MZIRQZ9ZeiDAYDAJjNZnGP67qj0Sj6/VIUVVURQnFuwzBs2/5L9mtNkKoCIbFkWY5Dkv0fk5CmD0qaKoTyBzULP6j6JhMCAAAAAElFTkSuQmCC\"></div>"
      ],
      "text/plain": [
       "1   Item[2, Frame -> True]   1\n",
       "\n",
       "1   1                        0"
      ]
     },
     "execution_count": 82,
     "metadata": {
      "text/html": [],
      "text/plain": []
     },
     "output_type": "execute_result"
    }
   ],
   "source": [
    "splarr[{\n",
    "    0 -> 1,\n",
    "    1 -> 1,\n",
    "    I -> 1\n",
    "}] splarr[{\n",
    "    0 -> 1,\n",
    "    -1 -> 1\n",
    "}]"
   ]
  }
 ],
 "metadata": {
  "kernelspec": {
   "display_name": "Wolfram Language 14",
   "language": "Wolfram Language",
   "name": "wolframlanguage14"
  },
  "language_info": {
   "codemirror_mode": "mathematica",
   "file_extension": ".m",
   "mimetype": "application/vnd.wolfram.m",
   "name": "Wolfram Language",
   "pygments_lexer": "mathematica",
   "version": "12.0"
  }
 },
 "nbformat": 4,
 "nbformat_minor": 2
}
