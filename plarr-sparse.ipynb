{
 "cells": [
  {
   "cell_type": "markdown",
   "metadata": {},
   "source": [
    "# Sparse Plane Array\n",
    "\n",
    "疎な平配"
   ]
  },
  {
   "cell_type": "code",
   "execution_count": 490,
   "metadata": {
    "vscode": {
     "languageId": "wolfram"
    }
   },
   "outputs": [],
   "source": [
    "Format[splarr[ruleLi_List]] := \n",
    "  With[\n",
    "    {\n",
    "      minPos = Min[#, 0] & /@ Min /@ Transpose[ReIm[First[#]] & /@ ruleLi], \n",
    "      maxPos = Max[#, 0] & /@ Max /@ Transpose[ReIm[First[#]] & /@ ruleLi]\n",
    "    }, \n",
    "    With[{\n",
    "      tbl = PadRight[\n",
    "        Normal[\n",
    "          SparseArray[(1 - minPos + ReIm[#[[1]]]) -> #[[2]] & /@ ruleLi]\n",
    "        ], maxPos + 1 - minPos\n",
    "      ]}, \n",
    "      Grid[\n",
    "        Transpose[\n",
    "          ReplacePart[tbl, \n",
    "            1 - minPos -> Item[\n",
    "              Extract[tbl, 1 - minPos], Frame -> True\n",
    "            ]\n",
    "          ]\n",
    "        ]\n",
    "      ]\n",
    "    ]\n",
    "  ]"
   ]
  },
  {
   "cell_type": "code",
   "execution_count": 491,
   "metadata": {
    "vscode": {
     "languageId": "wolfram"
    }
   },
   "outputs": [],
   "source": [
    "normal[splarr[ruleLi__Li]] := \n",
    "    splarr[Normal[Map[Plus @@ (Last /@ #) &, GroupBy[ruleLi, First]]]]"
   ]
  },
  {
   "cell_type": "code",
   "execution_count": 492,
   "metadata": {
    "vscode": {
     "languageId": "wolfram"
    }
   },
   "outputs": [],
   "source": [
    "Unprotect[Plus];\n",
    "Plus[splarr[ruleLi1_List], splarr[ruleLi2_List]] := \n",
    "    normal[splarr[Join[ruleLi1, ruleLi2]]]\n",
    "Plus[sa1_splarr, b_] := Plus[sa1, splarr[{0 -> b}]]\n",
    "Protect[Plus];"
   ]
  },
  {
   "cell_type": "code",
   "execution_count": 496,
   "metadata": {
    "vscode": {
     "languageId": "wolfram"
    }
   },
   "outputs": [],
   "source": [
    "convApply[f_, li_List, val_] := f[#, val] & /@ li\n",
    "convApply[f_, li1_List, li2_List] := convApply[f, li1, #] & /@ li2\n",
    "\n",
    "Unprotect[Times];\n",
    "Times[splarr[ruleLi1_List], splarr[ruleLi2_List]] := \n",
    "    normal[splarr[\n",
    "        Join @@ convApply[\n",
    "            (#1[[1]] + #2[[1]]) -> (#1[[2]] #2[[2]]) &, ruleLi1, ruleLi2\n",
    "        ]\n",
    "    ]]\n",
    "Times[sa1_splarr, b_] := Times[sa1, splarr[{0 -> b}]]\n",
    "Protect[Times];"
   ]
  },
  {
   "cell_type": "code",
   "execution_count": 502,
   "metadata": {
    "vscode": {
     "languageId": "wolfram"
    }
   },
   "outputs": [],
   "source": [
    "Unprotect[Power];\n",
    "Power[a_splarr, b_?Positive] := normal[Fold[Times, Table[a, b]]]\n",
    "Protect[Power];"
   ]
  },
  {
   "cell_type": "code",
   "execution_count": 505,
   "metadata": {
    "vscode": {
     "languageId": "wolfram"
    }
   },
   "outputs": [
    {
     "data": {
      "text/html": [
       "<div><img alt=\"Output\" src=\"data:image/png;base64,iVBORw0KGgoAAAANSUhEUgAAAEsAAABcCAIAAACp/9+eAAAAz3pUWHRSYXcgcHJvZmlsZSB0eXBlIGV4aWYAAHjabU9BDgMhCLz7ij4BAQd9jru1SX/Q5xdW08amY5aBccAljdfzkW4BzpS0WEUDyKFNG3dPKk1MztSueEGPdZd3PZVz6d2l8r3AWPqx64bJXH8GEc9E4gXPRVfDGiQ89dxnfSw/91r3QY02gD6//rdWMUZBNvWoTGZontfkqRMKUzE8cAJuzLgz6ek8YOZtsHBIj8YAD9vdI0FcuMcKEp9KdxaPWXwjidOXLqJ8eN0uT6zzBpjKWuMQj3KLAAAACXBIWXMAAA7EAAAOxAGVKw4bAAAAPHRFWHRTb2Z0d2FyZQBDcmVhdGVkIHdpdGggdGhlIFdvbGZyYW0gTGFuZ3VhZ2UgOiB3d3cud29sZnJhbS5jb21coqaFAAAAIXRFWHRDcmVhdGlvbiBUaW1lADIwMjQ6MDM6MTAgMDA6MjQ6MzQUiIbhAAAD6klEQVR4nO2bv07rMBTG7UskRl6gQxVn4AEYW0bcF0DKK5QZdUKqkLokDwArE40ED9B0yEAqnoEhoQgxMDB0YGHyHaybm9umbvynbtzr31CpzTkn/pzY2B8JJISAvcZZLBaLxUJ53Var5TiO8rIiDIfDbZSdz+ekGTiHh4cnJycPDw+qtH1+fp6fn6uqJo/z8/Pz9fXVbrcVFv34+FBYTZJfu27A1rEKzWetQs/zIIRRFK0eiqIIQuh5HteZLi4u4B9ms5ny+HXNrlAYhiGEcDQaVZaAED49PWGMa56S0uv1ptMpnb6DIOh2u+xG88Yzmr2sMIqiJEkIIa1Wa7WK53lpmt7c3NQQ9ZfZbBbH8XQ6pV8HgwFC6P7+XlU8u9nLCn3fn0wm6wplWdbpdBhnquT5+Rkh5LpuISDP89vbW1Xx7GbrmGmSJCkGbRRF3W53PB4DAF5fX5XEs9E6l4ZheHV1RWqv9XnjK9G3OO71egCALMu2FL8OHdfQdd04jl3XLYbK+/t7eaRJxrPRofD09BQAcHl5WfySJMnZ2ZmqeDY6FPq+jxAqmhiGYRzHZQGS8RsYDoftdrvYTeV5vhqDEKJH+/3+6tHxeFzej83nc1C1PywvEurs67jiGc1eVijPOoW74j9eee8NVqH57L9C5+jo6Pj4+O7uTlXF7+/vTqcDIVRVUBIHQvjy8nJ9fa227sHBgdqCwkCy767+/o9Dq9B8NiikBtYSvD4iRYObWJ3Cu5BFCPX7fd4sjHGxQQmCAACQpqnCeEYKn0LqCG082RJpmgIA8jwvfmF3E288O4VPIcYYY8yVQggJgqDo3aI1jNuHN56dwqGQpvFeQPJvv9C7gH6Wu1wmnp3CMZeORiOEkIAjXKDBTVxNqesmUqeddowYGtzEypS615BeQN/365+vQIObyEqpM5CozxMEQd2R9y+rowhjzJgbeePZKbUUUoutTuQ6EEJLf6wY04ZAPCNlc7vpFCp8AQu26iYyUuzuyXysQvOxCs3HKjQfq9B8rELzqaVQ7DFBySL63EQBY0++iD43UcDYky+i1U0UMPbki2h1EwWMPfkiu3ETlTwm2Fw3Ucljgg11E5U8JthoN1HA2JMvottNFDD25ItodROJkLEnX8S6iXWxK2/zsQrNxyo0H6vQfKxC89mskL5ZW0bsPcDmem0IISX/xG+o10ZUKGy010ZUKGy010YIQQiV7/WN8as03WvLsqxcSHimAU322gomkwmE8PHxcTAYcCWCxnptlby9vXHF79Zr41NI70/6nm59NLwHzErhmjMAAAJPQZOGe23lrlp65ZcL67VtC7vyNh+r0Hx+AxLBe79F0AcnAAAAAElFTkSuQmCC\"></div>"
      ],
      "text/plain": [
       "Item[11, Frame -> True]   0   0   1\n",
       "\n",
       "7                         0   0   0\n",
       "\n",
       "0                         0   0   0\n",
       "\n",
       "5                         0   0   0"
      ]
     },
     "execution_count": 505,
     "metadata": {
      "text/html": [],
      "text/plain": []
     },
     "output_type": "execute_result"
    }
   ],
   "source": [
    "splarr[{\n",
    "    0 -> 3,\n",
    "    I -> 7\n",
    "}] + splarr[{\n",
    "    0 -> 8,\n",
    "    3 -> 1,\n",
    "    3I -> 5\n",
    "}]"
   ]
  },
  {
   "cell_type": "code",
   "execution_count": 506,
   "metadata": {
    "vscode": {
     "languageId": "wolfram"
    }
   },
   "outputs": [
    {
     "data": {
      "text/html": [
       "<div><img alt=\"Output\" src=\"data:image/png;base64,iVBORw0KGgoAAAANSUhEUgAAAC4AAAAvCAIAAAATh2/FAAAAz3pUWHRSYXcgcHJvZmlsZSB0eXBlIGV4aWYAAHjabU9BDgMhCLz7ij4BAQd9jtu6SX/Q5xdW08amYxaGccAljdfzTLcAZ0parKIB5NCmjbuTShMzZ2pXvMBj3eVdT3wuvbtUvhdYDfnYdcMaWH8GEU8i8YJz0dWwBglPPfdZH8vPvdZ9UKMNoM+v/61VjFGQTT0qkxma85qcekJhKoYTd8CNGQ8mvXseMPM2WDikR2OAh+3ukSAuPGIFiU+lexaPWXwjidOXLqJ8eN0uT6zzBpo+WuQyK7o6AAAACXBIWXMAAA7EAAAOxAGVKw4bAAAAPHRFWHRTb2Z0d2FyZQBDcmVhdGVkIHdpdGggdGhlIFdvbGZyYW0gTGFuZ3VhZ2UgOiB3d3cud29sZnJhbS5jb21coqaFAAAAIXRFWHRDcmVhdGlvbiBUaW1lADIwMjQ6MDM6MTAgMDA6MjQ6MzQUiIbhAAACaUlEQVRYhe2YMa6qQBSGD+YmFprYkJgYC8JQuABLMFbCEiitLayMNibGhAZWYSUkbkAoaCCuwcKhsLYgMRZW8wru5fEM4Q7gUwr/yhnnzPkYhuE/MIQQqIa+KMeFYRiGYYEEzWaTZVmqoYROq9WqAAcAjMdjyhS0q1Kv1/v9/m63y8UxnU4bjQblYFqU+/1+uVw4jsuFcr1eb7cb5eBarqn/qz4oafoHRRAEhmEsy6KJDIKASShX1tRE3yiGYTAMo2ka5VxBECCEPM+LnkOEkCAINIEZiWoAYFmW67qEkG63S4nC8zwhRBTFqKlpGsbY9/3sqOxENQBQVXW/31NCpIryGrITPWfbHg4HAOh0OmUmeQJKEASLxUKWZZ7n34yCEAKAkrf4CSjRg4MxLjlPWRRBEDDGGOOSt6YsiqIoGGPP857CAQBACEldXoTQg1/hOC5uep73awghZDgcJv1KdqIv+Dmvcl2AKIoFnGh2oqq+Dt+rD0qaKoRCa7NbrVav19tsNrlmZ1m23W4/GYVhmOPxuF6vc6EAAH2RwFSnUK3QXvmgpKl48VE4ZDKZxCVL0pkXLD6KhQCAoiiO40SvYl3XJUmKaQoWHwVCAMD3fdu2HceJmvP5HCG03W6//07ai8iFmKZJ+UUkb4iu60lPE5ueqPnSbeu6blxEWpYlSZJpmgAQBAG86wkyDGO5XD6crrQH/xOlKAoAnE6nh/6XrgrP87Zt8zwfF03n8xkhFBn1l6IMBgMAmM1mcY/ruqPRKPr9UhRVVRFCcW7DMGzb/kv2a02QqgIhsWRZjkOS/R+TkKYPSpoqhPIHNQs/qPomEwIAAAAASUVORK5CYII=\"></div>"
      ],
      "text/plain": [
       "1   Item[2, Frame -> True]   1\n",
       "\n",
       "1   1                        0"
      ]
     },
     "execution_count": 506,
     "metadata": {
      "text/html": [],
      "text/plain": []
     },
     "output_type": "execute_result"
    }
   ],
   "source": [
    "splarr[{\n",
    "    0 -> 1,\n",
    "    1 -> 1,\n",
    "    I -> 1\n",
    "}] splarr[{\n",
    "    0 -> 1,\n",
    "    -1 -> 1\n",
    "}]"
   ]
  },
  {
   "cell_type": "code",
   "execution_count": null,
   "metadata": {
    "vscode": {
     "languageId": "wolfram"
    }
   },
   "outputs": [],
   "source": []
  }
 ],
 "metadata": {
  "kernelspec": {
   "display_name": "Wolfram Language 14",
   "language": "Wolfram Language",
   "name": "wolframlanguage14"
  },
  "language_info": {
   "codemirror_mode": "mathematica",
   "file_extension": ".m",
   "mimetype": "application/vnd.wolfram.m",
   "name": "Wolfram Language",
   "pygments_lexer": "mathematica",
   "version": "12.0"
  }
 },
 "nbformat": 4,
 "nbformat_minor": 2
}
