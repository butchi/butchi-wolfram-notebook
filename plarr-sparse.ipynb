{
 "cells": [
  {
   "cell_type": "markdown",
   "metadata": {},
   "source": [
    "# Sparse Plane Array\n",
    "\n",
    "疎な平配"
   ]
  },
  {
   "cell_type": "code",
   "execution_count": 3,
   "metadata": {
    "vscode": {
     "languageId": "wolfram"
    }
   },
   "outputs": [],
   "source": [
    "Format[splarr[{}]] := Grid[{{Item[0, Frame -> True]}}]\n",
    "\n",
    "Format[splarr[ruleLi_List]] := \n",
    "  With[\n",
    "    {\n",
    "      minPos = Min[#, 0] & /@ Min /@ Transpose[ReIm[First[#]] & /@ ruleLi], \n",
    "      maxPos = Max[#, 0] & /@ Max /@ Transpose[ReIm[First[#]] & /@ ruleLi]\n",
    "    }, \n",
    "    With[{\n",
    "      tbl = PadRight[\n",
    "        Normal[\n",
    "          SparseArray[(1 - minPos + ReIm[#[[1]]]) -> #[[2]] & /@ ruleLi]\n",
    "        ], maxPos + 1 - minPos\n",
    "      ]}, \n",
    "      Grid[\n",
    "        Transpose[\n",
    "          ReplacePart[tbl, \n",
    "            1 - minPos -> Item[\n",
    "              Extract[tbl, 1 - minPos], Frame -> True\n",
    "            ]\n",
    "          ]\n",
    "        ]\n",
    "      ]\n",
    "    ]\n",
    "  ]"
   ]
  },
  {
   "cell_type": "code",
   "execution_count": 5,
   "metadata": {
    "vscode": {
     "languageId": "wolfram"
    }
   },
   "outputs": [],
   "source": [
    "normal[splarr[ruleLi__List]] := \n",
    "    splarr[Normal[Select[Map[Plus @@ (Last[#] & /@ #) &, GroupBy[ruleLi, First]], !(# === 0) &]]]"
   ]
  },
  {
   "cell_type": "code",
   "execution_count": 6,
   "metadata": {
    "vscode": {
     "languageId": "wolfram"
    }
   },
   "outputs": [],
   "source": [
    "Unprotect[Plus];\n",
    "Plus[splarr[ruleLi1_List], splarr[ruleLi2_List]] := \n",
    "    normal[splarr[Join[ruleLi1, ruleLi2]]]\n",
    "Plus[sa1_splarr, b_] := Plus[sa1, splarr[{0 -> b}]]\n",
    "Protect[Plus];"
   ]
  },
  {
   "cell_type": "code",
   "execution_count": 10,
   "metadata": {
    "vscode": {
     "languageId": "wolfram"
    }
   },
   "outputs": [],
   "source": [
    "convApply[f_, li_List, val_] := f[#, val] & /@ li\n",
    "convApply[f_, li1_List, li2_List] := convApply[f, li1, #] & /@ li2\n",
    "\n",
    "Unprotect[Times];\n",
    "Times[splarr[ruleLi1_List], splarr[ruleLi2_List]] := \n",
    "    normal[splarr[\n",
    "        Join @@ convApply[\n",
    "            (#1[[1]] + #2[[1]]) -> (#1[[2]] #2[[2]]) &, ruleLi1, ruleLi2\n",
    "        ]\n",
    "    ]]\n",
    "Times[sa1_splarr, b_] := Times[sa1, splarr[{0 -> b}]]\n",
    "Protect[Times];"
   ]
  },
  {
   "cell_type": "code",
   "execution_count": 16,
   "metadata": {
    "vscode": {
     "languageId": "wolfram"
    }
   },
   "outputs": [],
   "source": [
    "Unprotect[Power];\n",
    "Power[a_splarr, b_?Positive] := normal[Fold[Times, Table[a, b]]]\n",
    "Protect[Power];"
   ]
  },
  {
   "cell_type": "code",
   "execution_count": 19,
   "metadata": {
    "vscode": {
     "languageId": "wolfram"
    }
   },
   "outputs": [
    {
     "data": {
      "text/html": [
       "<div><img alt=\"Output\" src=\"data:image/png;base64,iVBORw0KGgoAAAANSUhEUgAAAEsAAABcCAIAAACp/9+eAAAAz3pUWHRSYXcgcHJvZmlsZSB0eXBlIGV4aWYAAHjabU/tbQUhDPvPFB0hJMGBcbh7PKkbdPyaA7WiqiVi43xA0vj6fKePCc2SvERFA4Tw5k07RZWFxVnaEx/4tXP59FO5t99pld8Exvav0w8s1vpnkOgSNl+gNt8Ne5Dp8nNf92vXa6/1HNTkAOTn6//e3UJRkMMZXSUCjbomShKKSgm8cQMszHip+E0eiGAbYlZYn40TOuKsHglG4zVXsHncOtkYs3EjRlD7dppezLanZq7zDZnWWu5GRkp4AAAACXBIWXMAAA7EAAAOxAGVKw4bAAAAPHRFWHRTb2Z0d2FyZQBDcmVhdGVkIHdpdGggdGhlIFdvbGZyYW0gTGFuZ3VhZ2UgOiB3d3cud29sZnJhbS5jb21coqaFAAAAIXRFWHRDcmVhdGlvbiBUaW1lADIwMjQ6MDM6MTAgMTY6NDM6MTnl4mBjAAAD6klEQVR4nO2bv07rMBTG7UskRl6gQxVn4AEYW0bcF0DKK5QZdUKqkLokDwArE40ED9B0yEAqnoEhoQgxMDB0YGHyHaybm9umbvynbtzr31CpzTkn/pzY2B8JJISAvcZZLBaLxUJ53Var5TiO8rIiDIfDbZSdz+ekGTiHh4cnJycPDw+qtH1+fp6fn6uqJo/z8/Pz9fXVbrcVFv34+FBYTZJfu27A1rEKzWetQs/zIIRRFK0eiqIIQuh5HteZLi4u4B9ms5ny+HXNrlAYhiGEcDQaVZaAED49PWGMa56S0uv1ptMpnb6DIOh2u+xG88Yzmr2sMIqiJEkIIa1Wa7WK53lpmt7c3NQQ9ZfZbBbH8XQ6pV8HgwFC6P7+XlU8u9nLCn3fn0wm6wplWdbpdBhnquT5+Rkh5LpuISDP89vbW1Xx7GbrmGmSJCkGbRRF3W53PB4DAF5fX5XEs9E6l4ZheHV1RWqv9XnjK9G3OO71egCALMu2FL8OHdfQdd04jl3XLYbK+/t7eaRJxrPRofD09BQAcHl5WfySJMnZ2ZmqeDY6FPq+jxAqmhiGYRzHZQGS8RsYDoftdrvYTeV5vhqDEKJH+/3+6tHxeFzej83nc1C1PywvEurs67jiGc1eVijPOoW74j9eee8NVqH57L9C5+jo6Pj4+O7uTlXF7+/vTqcDIVRVUBIHQvjy8nJ9fa227sHBgdqCwkCy767+/o9Dq9B8NiikBtYSvD4iRYObWJ3Cu5BFCPX7fd4sjHGxQQmCAACQpqnCeEYKn0LqCG082RJpmgIA8jwvfmF3E288O4VPIcYYY8yVQggJgqDo3aI1jNuHN56dwqGQpvFeQPJvv9C7gH6Wu1wmnp3CMZeORiOEkIAjXKDBTVxNqesmUqeddowYGtzEypS615BeQN/365+vQIObyEqpM5CozxMEQd2R9y+rowhjzJgbeePZKbUUUoutTuQ6EEJLf6wY04ZAPCNlc7vpFCp8AQu26iYyUuzuyXysQvOxCs3HKjQfq9B8rELzqaVQ7DFBySL63EQBY0++iD43UcDYky+i1U0UMPbki2h1EwWMPfkiu3ETlTwm2Fw3Ucljgg11E5U8JthoN1HA2JMvottNFDD25ItodROJkLEnX8S6iXWxK2/zsQrNxyo0H6vQfKxC89mskL5ZW0bsPcDmem0IISX/xG+o10ZUKGy010ZUKGy010YIQQiV7/WN8as03WvLsqxcSHimAU322gomkwmE8PHxcTAYcCWCxnptlby9vXHF79Zr41NI70/6nm59NLwHzErhmjMAAAJPQZOGe23lrlp65ZcL67VtC7vyNh+r0Hx+AxLBe79F0AcnAAAAAElFTkSuQmCC\"></div>"
      ],
      "text/plain": [
       "Item[11, Frame -> True]   0   0   1\n",
       "\n",
       "7                         0   0   0\n",
       "\n",
       "0                         0   0   0\n",
       "\n",
       "5                         0   0   0"
      ]
     },
     "execution_count": 19,
     "metadata": {
      "text/html": [],
      "text/plain": []
     },
     "output_type": "execute_result"
    }
   ],
   "source": [
    "splarr[{\n",
    "    0 -> 3,\n",
    "    I -> 7\n",
    "}] + splarr[{\n",
    "    0 -> 8,\n",
    "    3 -> 1,\n",
    "    3I -> 5\n",
    "}]"
   ]
  },
  {
   "cell_type": "code",
   "execution_count": 20,
   "metadata": {
    "vscode": {
     "languageId": "wolfram"
    }
   },
   "outputs": [
    {
     "data": {
      "text/html": [
       "<div><img alt=\"Output\" src=\"data:image/png;base64,iVBORw0KGgoAAAANSUhEUgAAAC4AAAAvCAIAAAATh2/FAAAAz3pUWHRSYXcgcHJvZmlsZSB0eXBlIGV4aWYAAHjabU/RbQUhDPtnio4QkuDAONx7nNQNOn7NgVpR1RKJcZxA0vj6vNPHhGZJXqKiAUJ486adpMrCylnaEx/o2LV86knvrXdK5beA3ZCvUw/sgfXPINFFbL5Abr4b9iDTpee+7tf2a6/1HNTkAOTn6//e3UJRkMMZXSUCjbwmUiYUlRK48QJozHir+It5IIJtiOmwPhsndMTpHglG4T1XsHncOrMxZuNGjCD3rTS9WG2PZ67zDZtKWu9NNjNwAAAACXBIWXMAAA7EAAAOxAGVKw4bAAAAPHRFWHRTb2Z0d2FyZQBDcmVhdGVkIHdpdGggdGhlIFdvbGZyYW0gTGFuZ3VhZ2UgOiB3d3cud29sZnJhbS5jb21coqaFAAAAIXRFWHRDcmVhdGlvbiBUaW1lADIwMjQ6MDM6MTAgMTY6NDM6MTnl4mBjAAACaUlEQVRYhe2YMa6qQBSGD+YmFprYkJgYC8JQuABLMFbCEiitLayMNibGhAZWYSUkbkAoaCCuwcKhsLYgMRZW8wru5fEM4Q7gUwr/yhnnzPkYhuE/MIQQqIa+KMeFYRiGYYEEzWaTZVmqoYROq9WqAAcAjMdjyhS0q1Kv1/v9/m63y8UxnU4bjQblYFqU+/1+uVw4jsuFcr1eb7cb5eBarqn/qz4oafoHRRAEhmEsy6KJDIKASShX1tRE3yiGYTAMo2ka5VxBECCEPM+LnkOEkCAINIEZiWoAYFmW67qEkG63S4nC8zwhRBTFqKlpGsbY9/3sqOxENQBQVXW/31NCpIryGrITPWfbHg4HAOh0OmUmeQJKEASLxUKWZZ7n34yCEAKAkrf4CSjRg4MxLjlPWRRBEDDGGOOSt6YsiqIoGGPP857CAQBACEldXoTQg1/hOC5uep73awghZDgcJv1KdqIv+Dmvcl2AKIoFnGh2oqq+Dt+rD0qaKoRCa7NbrVav19tsNrlmZ1m23W4/GYVhmOPxuF6vc6EAAH2RwFSnUK3QXvmgpKl48VE4ZDKZxCVL0pkXLD6KhQCAoiiO40SvYl3XJUmKaQoWHwVCAMD3fdu2HceJmvP5HCG03W6//07ai8iFmKZJ+UUkb4iu60lPE5ueqPnSbeu6blxEWpYlSZJpmgAQBAG86wkyDGO5XD6crrQH/xOlKAoAnE6nh/6XrgrP87Zt8zwfF03n8xkhFBn1l6IMBgMAmM1mcY/ruqPRKPr9UhRVVRFCcW7DMGzb/kv2a02QqgIhsWRZjkOS/R+TkKYPSpoqhPIHNQs/qPomEwIAAAAASUVORK5CYII=\"></div>"
      ],
      "text/plain": [
       "1   Item[2, Frame -> True]   1\n",
       "\n",
       "1   1                        0"
      ]
     },
     "execution_count": 20,
     "metadata": {
      "text/html": [],
      "text/plain": []
     },
     "output_type": "execute_result"
    }
   ],
   "source": [
    "splarr[{\n",
    "    0 -> 1,\n",
    "    1 -> 1,\n",
    "    I -> 1\n",
    "}] splarr[{\n",
    "    0 -> 1,\n",
    "    -1 -> 1\n",
    "}]"
   ]
  },
  {
   "cell_type": "code",
   "execution_count": 21,
   "metadata": {
    "vscode": {
     "languageId": "wolfram"
    }
   },
   "outputs": [],
   "source": [
    "Unprotect[NonCommutativeMultiply];\n",
    "NonCommutativeMultiply[splarr[ruleLi1_List], splarr[ruleLi2_List]] := Sum[Sum[splarr[{ First[rule2] + First[rule1] Last[rule2] -> Last[rule1] }], {rule1, ruleLi1}], {rule2, ruleLi2}]\n",
    "Protect[NonCommutativeMultiply];"
   ]
  },
  {
   "cell_type": "code",
   "execution_count": 24,
   "metadata": {
    "vscode": {
     "languageId": "wolfram"
    }
   },
   "outputs": [
    {
     "data": {
      "text/html": [
       "<style>\n",
       "\t\t\t\t\t\t\t\t\t\t\t\t\t.grid-container {\n",
       "\t\t\t\t\t\t\t\t\t\t\t\t\t\tdisplay: inline-grid;\n",
       "\t\t\t\t\t\t\t\t\t\t\t\t\t\tgrid-template-columns: auto;\n",
       "\t\t\t\t\t\t\t\t\t\t\t\t\t}\n",
       "\t\t\t\t\t\t\t\t\t\t\t\t</style>\n",
       "\n",
       "\t\t\t\t\t\t\t\t\t\t\t\t<div><div class=\"grid-container\"><div class=\"grid-item\"><img alt=\"Output\" src=\"data:image/png;base64,iVBORw0KGgoAAAANSUhEUgAAACEAAABGCAIAAADNd2raAAAAznpUWHRSYXcgcHJvZmlsZSB0eXBlIGV4aWYAAHjabU/RbUQhDPtnihshJMGBcXh3nNQNOv6ZB2pFVUskjnECSeP7650eE5oleYmKBgjhzZt2kioLK2dpd7yhO7M+9OTYeqdUfi8wtn6demy/1j+DRBex+QK5+W7Yg0yXnvuqr+3XXus5qMkByM/X/63dQlGQwxldJQKNvCZSJhSVEnjjCdCY8VLxJ/NABNsQ02F9Nk7oiNM9EozCa65g87h1ZmPMxo0YQe5baXrxtt2euc4HD3hajSVu19EAAAAJcEhZcwAADsQAAA7EAZUrDhsAAAA8dEVYdFNvZnR3YXJlAENyZWF0ZWQgd2l0aCB0aGUgV29sZnJhbSBMYW5ndWFnZSA6IHd3dy53b2xmcmFtLmNvbVyipoUAAAAhdEVYdENyZWF0aW9uIFRpbWUAMjAyNDowMzoxMCAxNjo0MzoxOeXiYGMAAAHoSURBVFiF7ZYxruIwFEX9RpEoQKKJREOB7BQsgDaUmCVARwsFFSUSQqJJVkEXS2wAGjdhERQkBTVFJERB5SmY788YJuNkMl+fyLeIFOfdd5LYiS8IIdB/lpUkSZIkOZy1Ws22ba3SxWKRA4AQGo1GQk9WpVLpdDqbzSYTYDqdVqtVzWLrdrudz+dWq5WJcblcrterZvGPTK3zqfQMx3EAgDGWqd1L1wuG7/sAsFqtMnVPcakMxhjnXAjRbDb1AekulTEYDLbbrX53HVfp15VhfAtGHMcAAACu6yKEhsMhADiOk94l3WUp1RjjHLtvuqus82EYf5ZVr9fb7fZ6vc5ks2270WjoMgDgcDgsl8usd6cfZeALsmhZ5vzdss9kMoEP7ff7zwvPMdvzPIRQEAT3o2Y4p5QSQh47hGF4P1UZQRBQSoUQYRjqM+7FURTJEULIeDx+zVBsmgzP8+RDSK98ScXMOedc7kiMMdd17686jmNU+LryfX8+n4vfv2t1H/wX9ft9hNDxeFTGi3kOjPFut8MYy0R6Op0IIRjjwhjdbhchNJvN5AjnvNfr/TopZF0JIQghyvchl7LKiKLo+TYf12WKKKXS8jhu/u2GYRiG8fYMk32EECb7aMhkn7/KZJ+iVPr/7psxfgIqTelyPbrKcAAAAABJRU5ErkJggg==\"></div><div class=\"grid-item\"><img alt=\"Output\" src=\"data:image/png;base64,iVBORw0KGgoAAAANSUhEUgAAAEIAAABcCAIAAABV6vRUAAAAz3pUWHRSYXcgcHJvZmlsZSB0eXBlIGV4aWYAAHjabU/RbQUhDPtnio4QkuDAONw9ntQNOn7NgVpR1RJxcJxA0vj6fKePCc2SvERFA4Tw5k07kyoLi7O0Jz5w3bV86qncW++Uym8BY+vXqQcWa/0zSPYLNl9gbr4b9iDTpee+7tf2a6/1HNTkAOTn6//e3UJRkMMZuWcEGvOamJJQVErgjRugMeOl4jd5IIJtiOmwPhsndMTpHglG4TVXsHncOtkYs3EjRjD3rTS9WG2PZ67zDVMmWr5HxTl7AAAACXBIWXMAAA7EAAAOxAGVKw4bAAAAPHRFWHRTb2Z0d2FyZQBDcmVhdGVkIHdpdGggdGhlIFdvbGZyYW0gTGFuZ3VhZ2UgOiB3d3cud29sZnJhbS5jb21coqaFAAAAIXRFWHRDcmVhdGlvbiBUaW1lADIwMjQ6MDM6MTAgMTY6NDM6MTnl4mBjAAABq0lEQVR4nO2YMYqDQBiFM4tgYSCNYGMhJoUHyAE8hqUn8AoiWOUUKYVcIFXOkSY3SCFIilSz3RLcrPiPyr4M72vzv/B/MOL4lNZ69fk4bdu2bWuQXK/Xvu/PvpAhZVmaBfM81zA4ruvu9/vT6SRyKIrC8zwz/yVwns/n/X6PokgU67ru8Xgss5IJX/+9wDxQA4k/NXa7nVKqaRrR3xmkpJG38280DoeDUqqu6/GrmKWkkYH5vkbTNJfLRWsdhuH4hQxS0sjwfF8jy7Lz+TxylSkpaWR43vZH/LOgBhLUgKIsyyiKfi7ut9vt98x2u+3d79M0ff3eGJl6RRoZnnd6P8RxrOWftQYpaWR43pJDRQ0kqIGEs9lskiQ5Ho+imO/7QRAss5IJjlLqer1WVSVNSsuURVEGbwlALHk2qIEEC57JKRY8fVjwIEENJKiBhCUaq4m9C0jBw4s6EtRAghpIUAMJaiBBDSRY8ExOseDpw4IHCWogQQ0kLNFgwYOEJYeKGkhQAwlqIEENJGzXYDOyVITNyDjYjMwDNZCgBhKWaLAZQcKSQ0UNJCzR+AZHNolsRN3qywAAAABJRU5ErkJggg==\"></div><div class=\"grid-item\"><img alt=\"Output\" src=\"data:image/png;base64,iVBORw0KGgoAAAANSUhEUgAAAFkAAABcCAIAAACKpI5LAAAA0XpUWHRSYXcgcHJvZmlsZSB0eXBlIGV4aWYAAHjabU9bbgQhDPvnFHuEkAQHjsPMslJv0OOvGWirqdYSsXEekDS+v17pMaFZkpeoaIAQ3rxpp6iysDhLu+KF0nYu3/1Uzu13WuUvgbH94+4HFmv9N0h0CZsvUJvvhj3IdPm5r/ux67XXeh/089UNyO/XP97dQlGQwxldJQKNuiZKEopKCbxwAizMeKr4SR6IYBtiVlifjRM64l49EozGc65g87h1sjFm40aMoPbtND2YbVfNXOcNXu9axjHr7yUAAAAJcEhZcwAADsQAAA7EAZUrDhsAAAA8dEVYdFNvZnR3YXJlAENyZWF0ZWQgd2l0aCB0aGUgV29sZnJhbSBMYW5ndWFnZSA6IHd3dy53b2xmcmFtLmNvbVyipoUAAAAhdEVYdENyZWF0aW9uIFRpbWUAMjAyNDowMzoxMCAxNjo0MzoxOeXiYGMAAAPCSURBVHic7ZyxTuNAEIZ3T5EoQKKJRJMi8qbIA9Amoor9CClpoaBCVEgREo39ArRUiSVeIE7hJhHPQIEpqCkiIQoqX+HDY+wl7Hpnce5uvgKFKJ799CtZZ2ek8DRNGcEYY6y1Xq/X63WNK/f29trtNrpQk0wmk3oXHh8fp/8WrZ2dncPDw7u7O60gzs7Odnd364W4tbTe399fXl663a7WZa+vr29vb3aUGuNX0wJbBGUBUBbAl1n0ej3OeRiGJtVPT0/5B6vVql4RcxNFDUkWQRBwzq+vr2uvneF53mKxyG5Xvu8PBgPdOFBM1DXKWYRhGMdxmqadTsfEYLVaRVG0WCyyfy8uLoQQ0+lUvQKKiZZGOYvxeDyfz2uvnXN/fy+EcBwnd0qS5ObmRr0CiomWhq29M47jXq+XPQ7DcDAYzGYzxtjT05OlFc01rN9HgiC4vLxMmz4Bqmi0rBp4nscYe3x8tLoKloat94XjOFEUOY6Tf+afn5+LH92fQUvDVhbD4ZAxdn5+nj8Tx/FoNLK0HIqGrSzG47EQIl81CIIoiopOP4OexmQy6Xa7+Rk+SZLqa4QQpaP+0dGRSv/Cdd28iG43QdFEBUWN8t7pOE6Kt+ebfEFANFHUoLMZQFkAlAVAWQCUBdDa39/v9/u3t7dal7Xb7YODAztKjdHinD88PFxdXeleqds633444reJvx3aLwDKAqAsAHkWKL18lDooJqpFpKe6/Djo+z5jbLlc1jsdGtZBMVEvUs5iuVwyxpIkyZ8RQpycnOgamNdBMdEqUs7C9/1ijyCrJX37bMa8DoqJVpHys67ruq6bPc7a59nfYrQqmNdBMdEq8uV9BKuXb14HxaT+TACrl29eB8Wk5kwAq5dvXgfFxGgmgNXLN6+DYqJXpLqFCCFKN2TdjROrDoqJehH53cWkl49bB8VEsQid2QE6mwGUBUBZAJQFQFkAlAVAWQCUBUBZAJQFQFkANBMoID3V0UwgTWkmUIRmAgDNBCTQTOAPNBNgjGYCRWgm8AmaCXyCZgL/O3Q2AygLgLIAKAuAsgAoC4CyACgLgLIAKAvAbh9citbv31gykTtITzIoffAqWbW81/bt622YbHCw1QevMpvNstZjtsS3Wdgw2exgqw++AcUsrJpIHcr7xZb8zk0jJtb74Ob8mIk8C8/z4jjW6j57nscrmPvpmphooPXB5/N59WOpKCGlnomJhq0+uDkNmFRTxOqDf4XifcSqidI9NQOrD16k3u/f4JpsdqA+OEBnM4CyACgLgLIAfgMgPsssNf6yfQAAAABJRU5ErkJggg==\"></div><div class=\"grid-item\"><img alt=\"Output\" src=\"data:image/png;base64,iVBORw0KGgoAAAANSUhEUgAAAEIAAABcCAIAAABV6vRUAAAAz3pUWHRSYXcgcHJvZmlsZSB0eXBlIGV4aWYAAHjabU/RbQUhDPtnio4QkuDAONw9ntQNOn7NgVpR1RJxcJxA0vj6fKePCc2SvERFA4Tw5k07kyoLi7O0Jz5w3bV86qncW++Uym8BY+vXqQcWa/0zSPYLNl9gbr4b9iDTpee+7tf2a6/1HNTkAOTn6//e3UJRkMMZuWcEGvOamJJQVErgjRugMeOl4jd5IIJtiOmwPhsndMTpHglG4TVXsHncOtkYs3EjRjD3rTS9WG2PZ67zDVMmWr5HxTl7AAAACXBIWXMAAA7EAAAOxAGVKw4bAAAAPHRFWHRTb2Z0d2FyZQBDcmVhdGVkIHdpdGggdGhlIFdvbGZyYW0gTGFuZ3VhZ2UgOiB3d3cud29sZnJhbS5jb21coqaFAAAAIXRFWHRDcmVhdGlvbiBUaW1lADIwMjQ6MDM6MTAgMTY6NDM6MTnl4mBjAAABq0lEQVR4nO2YMYqDQBiFM4tgYSCNYGMhJoUHyAE8hqUn8AoiWOUUKYVcIFXOkSY3SCFIilSz3RLcrPiPyr4M72vzv/B/MOL4lNZ69fk4bdu2bWuQXK/Xvu/PvpAhZVmaBfM81zA4ruvu9/vT6SRyKIrC8zwz/yVwns/n/X6PokgU67ru8Xgss5IJX/+9wDxQA4k/NXa7nVKqaRrR3xmkpJG38280DoeDUqqu6/GrmKWkkYH5vkbTNJfLRWsdhuH4hQxS0sjwfF8jy7Lz+TxylSkpaWR43vZH/LOgBhLUgKIsyyiKfi7ut9vt98x2u+3d79M0ff3eGJl6RRoZnnd6P8RxrOWftQYpaWR43pJDRQ0kqIGEs9lskiQ5Ho+imO/7QRAss5IJjlLqer1WVSVNSsuURVEGbwlALHk2qIEEC57JKRY8fVjwIEENJKiBhCUaq4m9C0jBw4s6EtRAghpIUAMJaiBBDSRY8ExOseDpw4IHCWogQQ0kLNFgwYOEJYeKGkhQAwlqIEENJGzXYDOyVITNyDjYjMwDNZCgBhKWaLAZQcKSQ0UNJCzR+AZHNolsRN3qywAAAABJRU5ErkJggg==\"></div><div class=\"grid-item\"><img alt=\"Output\" src=\"data:image/png;base64,iVBORw0KGgoAAAANSUhEUgAAAE8AAABcCAIAAACgFH/kAAAA0HpUWHRSYXcgcHJvZmlsZSB0eXBlIGV4aWYAAHjabU9bbgQhDPvnFHuEkAQHjsPMMlJv0OOvGVCrqWqJ2DgPSBrfX1d6TWiW5CUqGiCEN2/aKaosLM7S7njDr53LTz+Vc/udVvlNYGz/ePqBxVr/DBJdwuYL1Oa7YQ8yXX7u637seu21Pgc1eQDy8/V/726hKMjhjK4SgUZdEyUJRaUELpwACzPeKn6SByLYhpgV1mfjhI54Vo8Eo/GeK9g8bp1sjNm4ESOofTtND2bbXTPX+QCfulryxLYXewAAAAlwSFlzAAAOxAAADsQBlSsOGwAAADx0RVh0U29mdHdhcmUAQ3JlYXRlZCB3aXRoIHRoZSBXb2xmcmFtIExhbmd1YWdlIDogd3d3LndvbGZyYW0uY29tXKKmhQAAACF0RVh0Q3JlYXRpb24gVGltZQAyMDI0OjAzOjEwIDE2OjQzOjE55eJgYwAAAylJREFUeJztmq/O8jAUxjuyBBwWuawILgAJSLYbIOEWhkaSECRcBQ4SbgAMiHERCAYJQSAQExgMfcXy7SMwStt1hZTzE2/I6HnOnv1p6XmPQQhBP4MZhmEYhtklKJVKhUIhO30++v1+pvqr1Yp8DWY+n69Wq7PZTLrP0+nUarVyuZx0ZWHM6/V6Pp8ty8pC/Xg83m63LJTF+KILrwBwqwuGYex2u/sjHG47nY7xj/V6LXwSvDqy8iKEUL/ftyzr7dztOA7GOPo8HA4RQr7v00P2+z16WoF4dQTyUmBy6/s+QigIgvgIxtjzPHrUs1teHbG8FJjcDofD+ALHJ4EQokc9u+XVEcs7mUziJ9dxnPuvmN7b5XJZLpejz9PptF6vR4oPc4B0HbG87XabEOJ5XhAEtm3ff8U3J49Go16vR1JvJHh1ZOU12Ye6rosQ2m63KVPy6sjKixjvrW3bi8XCtu35fB4dORwOGOOH50S6jqy8MUxuG40GQqjb7cZHlstls9nkTcarIyvvfxjXW4zxw7p3vzAkkrje8uoI5I2IZqmH5YrVLSHEcZz4GrGMT3QroJNm/EMgxywVvzwp4dWROF7nXcEz4FZfwK2+mMVisVKpjMdj6dKXy6VWq5kmx7SfNaZhGJvNZjAYZJXgm9wa5Jf+M/Jb7y245eG5ivnNfODeKqiwvgxh2VVIREGFlRKi1K2CCis9RNAtpYpJQUGFlR6S6t4m1gcoOI4TX5roekV/X5UjeMe/DfnMCqSgwpoYkvCzznXdxWLxcJArEx0FFdZXIQn3dj6fPz8h7JkoKKiw0kOUPskKKqxvQhgnmER4ZymipMJKCRF0S6licsVmMZ4SAjs+fQG3+gJu9QXc6gu41Rdwqws/38PKvquQ0kv64R5WlkGyekk/38PKMkislzS9jvQeVtb9NG+lU4pOmryJdRXoYX0B9LBCD6s8Hfk9rIwTjHAvaUodyT2s7CcqUOmUoiOxhxUqrPoCbvUF3OoLuNUXcKsv0NWZMdDVKW08PQS6OhmArs73QFdnJuNfhUBXJ3R1SgG6OqGrM914SgjUHPUF3OrLb7n9A4+JFQYACyqzAAAAAElFTkSuQmCC\"></div></div></div>"
      ],
      "text/plain": [
       "Item[1, Frame -> True]   1\n",
       "\n",
       "1                        0\n",
       "\n",
       "1                        0\n",
       "Item[1, Frame -> True]   1   1   1\n",
       "\n",
       "1                        1   1   1\n",
       "\n",
       "1                        1   1   1\n",
       "\n",
       "1                        1   1   1\n",
       "Item[1, Frame -> True]   0    1   0\n",
       "\n",
       "0                        0    0   0\n",
       "\n",
       "0                        0    0   0\n",
       "\n",
       "0                        -1   0   -1\n",
       "Item[1, Frame -> True]   1   1   1\n",
       "\n",
       "1                        1   1   1\n",
       "\n",
       "1                        1   1   1\n",
       "\n",
       "1                        1   1   1\n",
       "Item[0, Frame -> True]   0   0   I\n",
       "\n",
       "-I                       0   0   0\n",
       "\n",
       "0                        0   0   I\n",
       "\n",
       "-I                       0   0   0"
      ]
     },
     "execution_count": 24,
     "metadata": {
      "text/html": [],
      "text/plain": []
     },
     "output_type": "execute_result"
    }
   ],
   "source": [
    "splarr[{0 -> 1, 1 -> 1, I -> 1, 2I -> 1}]\n",
    "\n",
    "splarr[{0 -> 1, 1 -> 1, I -> 1, 2I -> 1}] ** splarr[{0 -> 1, 1 + 3I -> -1, 2 -> 1, 3 + 3I -> -1}]\n",
    "splarr[{0 -> 1, 1 + 3I -> -1, 2 -> 1, 3 + 3I -> -1}]\n",
    "\n",
    "splarr[{0 -> 1, 1 -> 1, I -> 1, 2I -> 1}] ** splarr[{I -> -I, 3 -> I, 3I -> -I, 3 + 2I -> I}]\n",
    "splarr[{I -> -I, 3 -> I, 3I -> -I, 3 + 2I -> I}]"
   ]
  },
  {
   "cell_type": "code",
   "execution_count": 29,
   "metadata": {
    "vscode": {
     "languageId": "wolfram"
    }
   },
   "outputs": [],
   "source": [
    "Unprotect[CircleTimes];\n",
    "CircleTimes[splarr[ruleLi1_List], splarr[ruleLi2_List]] := Sum[Sum[splarr[{ First[rule1] First[rule2] -> Last[rule1] Last[rule2] }], {rule1, ruleLi1}], {rule2, ruleLi2}]\n",
    "SetAttributes[CircleTimes, { Flat, Listable, NumericFunction, OneIdentity, Orderless, Protected }]\n",
    "Unprotect[CircleTimes];"
   ]
  },
  {
   "cell_type": "code",
   "execution_count": 33,
   "metadata": {
    "vscode": {
     "languageId": "wolfram"
    }
   },
   "outputs": [
    {
     "data": {
      "text/html": [
       "<div><img alt=\"Output\" src=\"data:image/png;base64,iVBORw0KGgoAAAANSUhEUgAAACEAAAAvCAIAAADijDRIAAAAz3pUWHRSYXcgcHJvZmlsZSB0eXBlIGV4aWYAAHjabU/RbQUhDPtnio4QkuDAONx7nNQNOn7NgVpR1RKJY5xA0vj6vNPHhGZJXqKiAUJ486adpMrCylnaEx/ozqwPPem99U6p/F5gbP069cAeWP8MEl3E5gvk5rthDzJdeu6rvrZfe63noCYHID9f/7d2C0VBDmd0lQg08ppImVBUSuDGC6Ax463iL+aBCLYhpsP6bJzQEad7JBiF91zB5nHrzMaYjRsxgtwfhQ69eNsez1znG044WrPNzk+0AAAACXBIWXMAAA7EAAAOxAGVKw4bAAAAPHRFWHRTb2Z0d2FyZQBDcmVhdGVkIHdpdGggdGhlIFdvbGZyYW0gTGFuZ3VhZ2UgOiB3d3cud29sZnJhbS5jb21coqaFAAAAIXRFWHRDcmVhdGlvbiBUaW1lADIwMjQ6MDM6MTAgMTY6NDM6MjC3E4sEAAABz0lEQVRYhe2Xv+rqMBTHT34IDgougotDyengA7jWUfII7ebs4CROgggu5gVcnTTgC5gOmYrP4NB2cHYoiINT7iC3CPdnf2n43T94/U5NyDefpic5OSVaa/jNqhiOy7IsyzILQL1eB22m2WxmAQCAwWBguo5qtdrtdne7XSnAaDSq1WqmjNvtdj6fHccpxbhcLtfr9aOUx04vyXBdlxAihDA0D4dD8lNRFH3B4JwTQhaLhfnbMcbCMLzv7OVy6XneM8wHAAghlFJa63a7bQiIokhKGYbhvTmZTBBxs9k8Zfi+v9/vzVcAAIfDAREppTkySZLVavWUYSGllOu692chhOd52+0WANI0/TZGLs75dDotTqym5/xTMcYAII7j4mGW66CUSikppXkgT6fTY4S+gdHr9QBgPB7nPUqpfr//6WBLhu/7iJhPyjmXUj4iH1UBgDRNETHvCoIgCAJELP7QcRwzxggh92ZB2CsAQCm1u3ENT9VL5t03o1CmuaTRaHQ6nfV6XWr2ZrPZarVMGYSQ4/E4n89LMQDAcRzyB2rRV4n5P1/7GFrsax9zi2XtU8piWfuUsrzkvnoz/joDtNZJkvzaj4gFv9KlLO/c/v8xfgC6mxuIWIY7SAAAAABJRU5ErkJggg==\"></div>"
      ],
      "text/plain": [
       "1   Item[0, Frame -> True]\n",
       "\n",
       "1   1"
      ]
     },
     "execution_count": 33,
     "metadata": {
      "text/html": [],
      "text/plain": []
     },
     "output_type": "execute_result"
    }
   ],
   "source": [
    "CircleTimes[splarr[{1 -> 1, 1 + I -> 1, I -> 1}], splarr[{I -> 1}]]"
   ]
  },
  {
   "cell_type": "code",
   "execution_count": 34,
   "metadata": {
    "vscode": {
     "languageId": "wolfram"
    }
   },
   "outputs": [
    {
     "data": {
      "text/html": [
       "<div><img alt=\"Output\" src=\"data:image/png;base64,iVBORw0KGgoAAAANSUhEUgAAAC4AAABCCAIAAACn7XNBAAAA0HpUWHRSYXcgcHJvZmlsZSB0eXBlIGV4aWYAAHjabU/RrQMhDPtnio4QkuDAOFxLpbfBG7/mDrWiqiUS4ziBpPH/90y3Cc2SvERFA4Tw5k07SZULV87SznhCx6rlXU+uS++UyqeA1ZCPXQ+sgfVrkKxBNl8gN18Na5Dpped+3Y/l117rPqjJBsj76z/vbqEoyOGMXCcCjbwmUiYUlRJ44g7QmPFQ8TvzQATbENNhfTZO6IjdPRKMwmOuYPO4dWZjzMaNGEHup0KHHqy20zPXeQFWDlq1YvBStAAAAAlwSFlzAAAOxAAADsQBlSsOGwAAADx0RVh0U29mdHdhcmUAQ3JlYXRlZCB3aXRoIHRoZSBXb2xmcmFtIExhbmd1YWdlIDogd3d3LndvbGZyYW0uY29tXKKmhQAAACF0RVh0Q3JlYXRpb24gVGltZQAyMDI0OjAzOjEwIDE2OjQzOjIwtxOLBAAAAiJJREFUaIHtmTGOskAYhj/MJhYWWlJYkBmMHsAWY6UcgdLawspYmWBhIxfwBkriBYSCingHEjHE2s5YWM0W/j9rdmfxY9ZdKeaplMw78wSHYT5HYYxBMSi9WuCDoqrouq4oiuu6+LxA5LvUPxXHcRRFmc/n+O4EItmpEgC4rhsEAWOsXq8jexSIPEyVAMCyrO12i+9RLPIwVdRp+1qkCg+pwoUxFsfx1+uUUvY9ApGHKUW+mTlIFR5Shccbsl2SJEmSCAygqmqr1UI1zV4JUmzbFvAAgMFggBwCe1fK5XK73d5sNrk8RqNRpVJBNsaqXK/X0+mkaVoulfP5fLlckI0LNG2lCo8f1UHD4VD5TxiG+FGfXAeZpun7/u05XCwWhmFgbJ5fB4Vh6Hme7/u3r5PJhFK6Wq2yU79SB+12O0opISQ1i+N4uVxmp36lDgqCQNf122fXdQ3DWK/XAHA4HMQ6FFdJcRxnOp0+ZSuIXW25mKYJAPv9/uceIHxXCCGe5xFC0t/+eDzez56/U+l0OgAwHo/TK0EQ9Ho9YQ9xFcuyKKXp2I7jeJ53byYCsqixbVvTtE87jH6/f9/PV7rd7v1+JXugNwAghIg9AnlXo+yBivo6fC1ShUeBVLALf61Wazabs9ksV+/ValVV1SerAEAURVEU5VIBgEajgWwp/1/hIVV4yEMYeQiDTRV12r4WqcJDqnBBFh+fkIcwf4VU4VEglXcLKDW2dSgRugAAAABJRU5ErkJggg==\"></div>"
      ],
      "text/plain": [
       "1   1                        1\n",
       "\n",
       "1   Item[0, Frame -> True]   1\n",
       "\n",
       "1   1                        1"
      ]
     },
     "execution_count": 34,
     "metadata": {
      "text/html": [],
      "text/plain": []
     },
     "output_type": "execute_result"
    }
   ],
   "source": [
    "CircleTimes[splarr[{1 -> 1, 1 + I -> 1}], splarr[{1 -> 1, I -> 1, -1 -> 1, -I -> 1}]]"
   ]
  },
  {
   "cell_type": "code",
   "execution_count": 35,
   "metadata": {
    "vscode": {
     "languageId": "wolfram"
    }
   },
   "outputs": [
    {
     "data": {
      "text/html": [
       "<div><img alt=\"Output\" src=\"data:image/png;base64,iVBORw0KGgoAAAANSUhEUgAAACEAAABGCAIAAADNd2raAAAAz3pUWHRSYXcgcHJvZmlsZSB0eXBlIGV4aWYAAHjabU/RbUQhDPtnihshJMGBcXh3nNQNOv6ZB2pFVUskjnECSeP7650eE5oleYmKBgjhzZt2kioLK2dpd7yhO7M+9OTYeqdUfi8wtn6demy/1j+DRBex+QK5+W7Yg0yXnvuqr+3XXus5qMkByM/X/63dQlGQwxldJQKNvCZSJhSVEnjjCdCY8VLxJ/NABNsQ02F9Nk7oiNM9EozCa65g87h1ZmPMxo0YQe63QodevG23Z67zAQ76WoWQrYKiAAAACXBIWXMAAA7EAAAOxAGVKw4bAAAAPHRFWHRTb2Z0d2FyZQBDcmVhdGVkIHdpdGggdGhlIFdvbGZyYW0gTGFuZ3VhZ2UgOiB3d3cud29sZnJhbS5jb21coqaFAAAAIXRFWHRDcmVhdGlvbiBUaW1lADIwMjQ6MDM6MTAgMTY6NDM6MjC3E4sEAAACFklEQVRYhe1Wsc6qMBj9ekPioIkLiSsBBh/AFeMkPIarDk6OJsQRX8DVrSS+gDqwQHwGB3BwdiAxDk7egdzGv5Ta8nsHTc8E9TucfvTwedDj8YD/DC3P8zzPazBbrZau60Klvu/XEACA0Wj0EIPWaDR6vd5ms5ESmE6nzWZTsFi73++Xy8UwDCmN6/V6u90Ei/9IPboevltjMpmgf0iSRPBZVSyGhud5+/2+sF0QBI7jiMjwWL7vG4ZBvBzHMQBkWUZWLMsaj8eU5QeDwfP3wWfRfRwOB8uyTNMsbpMkybJstVrxm+CzaI0oimzbLq7DMHQcB2MMAKfTiaPBZ1X6arlczudz2YnJZGnMUs/zACBNUymBKhbdh2mau93ONM3tdlusnM/n53fNBJ9Fa/T7fQCYzWZkJYqi4XDI7+AFi/JuYTvLsojT4acpmd7lsxjnkaap53kIoeJW8Ng5LPaZk9cqhSrWd89dpcGC1m63u93uer2Woum63ul0RDUQQsfjcbFYyO5OPMog2claA99y5p+WfQDAtm2EUBiGP1bLMdt1XWpKx3FcLqNQVBZ/4xjj559oDcHsQwFj7Louob/QCIKANEE4zHaZYGq8J/vw8ebsw8Q7s08V3pN95DTqZZ8XKHtDJPtI+YptStd1OZsoI8uy8u7JRtVsVxpKQ2l8tobKPir7/A4q+0ig7A2VfSrw3XP38zT+AjWU0elEDfPxAAAAAElFTkSuQmCC\"></div>"
      ],
      "text/plain": [
       "Item[0, Frame -> True]   0\n",
       "\n",
       "0                        1\n",
       "\n",
       "0                        1"
      ]
     },
     "execution_count": 35,
     "metadata": {
      "text/html": [],
      "text/plain": []
     },
     "output_type": "execute_result"
    }
   ],
   "source": [
    "Times[splarr[{1 -> 1, 1 + I -> 1}], splarr[{I -> 1}]]"
   ]
  },
  {
   "cell_type": "code",
   "execution_count": 36,
   "metadata": {
    "vscode": {
     "languageId": "wolfram"
    }
   },
   "outputs": [
    {
     "data": {
      "text/html": [
       "<div><img alt=\"Output\" src=\"data:image/png;base64,iVBORw0KGgoAAAANSUhEUgAAACEAAAAvCAIAAADijDRIAAAAz3pUWHRSYXcgcHJvZmlsZSB0eXBlIGV4aWYAAHjabU/RbQUhDPtnio4QkuDAONx7nNQNOn7NgVpR1RKJY5xA0vj6vNPHhGZJXqKiAUJ486adpMrCylnaEx/ozqwPPem99U6p/F5gbP069cAeWP8MEl3E5gvk5rthDzJdeu6rvrZfe63noCYHID9f/7d2C0VBDmd0lQg08ppImVBUSuDGC6Ax463iL+aBCLYhpsP6bJzQEad7JBiF91zB5nHrzMaYjRsxgtwfhQ69eNsez1znG044WrPNzk+0AAAACXBIWXMAAA7EAAAOxAGVKw4bAAAAPHRFWHRTb2Z0d2FyZQBDcmVhdGVkIHdpdGggdGhlIFdvbGZyYW0gTGFuZ3VhZ2UgOiB3d3cud29sZnJhbS5jb21coqaFAAAAIXRFWHRDcmVhdGlvbiBUaW1lADIwMjQ6MDM6MTAgMTY6NDM6MjC3E4sEAAAB2UlEQVRYhe2WsariQBSG/wkLFgo2go3FMEnhA9hGrCSPYJlWCytLQQQb8wK2dg74AmoxjcFnsMhYWFsExMJqttDNvXfd9Z4R9l5w/bsM+ebLZM4chhlj8I/zg/hemqZpmj4gKBQKMLQMBoMHBADCMKSuI5fL1Wq1+XxuJeh2u/l8nuo4n8+Hw4FzbuU4Ho+n08mxYh7L8zk6nQ77lTiOKTARuTqCIFitVpcyHY/Hvu9/qrFAjDHr9RqA1jo7Da7rttvt384H5zx7pCDGmEajEYahA2Cz2biuK4S4WOM41lpPJpM7i7BCHABKKc/zLs9SSt/3Z7MZgN1u9zeHFfKhrqIo6vf7Vl2Sgryd8yAIACRJQhcQEQeAEGK5XAohFovFZXS/37//3bexQhwA9XodQK/Xy0aVUs1m886n2SFZ5bmumxU7Ptblbe1SkKx2r/uRJEkQBIyxTHxnEbbI255nf5YeIvJ8fffl+CzUO0OxWKxWq9Pp1Gr2UqlULpepDsbYdrsdDodWDgCcc2bVZR/Ls+z5lzs8z2OMSSnpPAW5OqIoYoyNRiP67HTEASClVEoZYyqVClFghTgAWq2WbWO3Qp6yrl6Ob3fAGKO1vh3P7k5/jBXy6u3/n+MnFvLCta4guhAAAAAASUVORK5CYII=\"></div>"
      ],
      "text/plain": [
       "0   Item[0, Frame -> True]\n",
       "\n",
       "1   1"
      ]
     },
     "execution_count": 36,
     "metadata": {
      "text/html": [],
      "text/plain": []
     },
     "output_type": "execute_result"
    }
   ],
   "source": [
    "CircleTimes[splarr[{1 -> 1, 1 + I -> 1}], splarr[{I -> 1}]]"
   ]
  },
  {
   "cell_type": "code",
   "execution_count": 37,
   "metadata": {
    "vscode": {
     "languageId": "wolfram"
    }
   },
   "outputs": [],
   "source": [
    "li = normal[splarr[{0 -> #[[1]], 1 -> #[[2]], I -> #[[3]], -1 -> #[[4]], -I -> #[[5]] }]] & /@ Tuples[Prepend[I^Range[0, 3], 0], 5];"
   ]
  },
  {
   "cell_type": "code",
   "execution_count": 38,
   "metadata": {
    "vscode": {
     "languageId": "wolfram"
    }
   },
   "outputs": [
    {
     "data": {
      "text/html": [
       "<div><img alt=\"Output\" src=\"data:image/png;base64,iVBORw0KGgoAAAANSUhEUgAAADAAAAAcCAIAAACoDqudAAAA0HpUWHRSYXcgcHJvZmlsZSB0eXBlIGV4aWYAAHjabU9RjgUhCPv3FHsEBCx6HGeeL9kb7PG3jiYvbrbJUCgFhzR+vt/pa0KzJC9R0QAhvHnTzqTKwuIs7YkPbLdYH3rK99Y7pfJpYGz9OvXAYq1/Fonul+YLzM33wF5kuvTcV31tv/Zaz0VNDuDz6//WbqEoyOGMrhKBxrwmpiQUlRJ44wZozHip+E0eiOAYYjqsz8EJHXG6R4JReM0TbH5unWyM2XgRI5j7o9ChF7vt8cxzfgFIuFqvUaNXMAAAAAlwSFlzAAAOxAAADsQBlSsOGwAAADx0RVh0U29mdHdhcmUAQ3JlYXRlZCB3aXRoIHRoZSBXb2xmcmFtIExhbmd1YWdlIDogd3d3LndvbGZyYW0uY29tXKKmhQAAACF0RVh0Q3JlYXRpb24gVGltZQAyMDI0OjAzOjEwIDE2OjQzOjIwtxOLBAAAAdJJREFUSIntlz1uwjAUgJ2qx2CI7FyAPWZEPgLiBnhgQpm4ABkZkhsAR8AZnMWCkQvEIUKRuASSO1iNUpOCAxSqqt9EHo7f54f/cJRS4Dfxbt/0dDqVZXlbGtd1bZsqa/b7/W02rbI0VMjzPCmllBJCaHzV6XTm83m327VX2e124/H4PO44jha94j4ajaSUFyqUpqn9cJVSaZpeqBBCyIi8GX55np8X5ufo9/tGxBR6OX9RiFLqfCKEeLEQISRJEj0fZ7MZxvhOp7uEhBCMsSRJ9GMQBAihxWLxMqHNZoMQqlalEEJKGcfxI4VarXnOued5+vNqtcIYL5dLAECe55Y9uK5rNP4iRCkdDof2QhVhGE6n04Zt9xpBEFBKm4UopXEc+77ftlNCCOc8y7K2L1ZUZf4iFEWRUooQYt8RhJAxBiFcr9c6cjgc6rPqKrq09cHcNal7vR4AYDKZVBHO+flpcIGiKIzf5C6hwWCAEKoMwjBkjNX9bqDFBa2RLMsIIfouARqvE08WAgBUE+gh/MXD9bH8C13DFIqiSN9s7M+j29BZ9E5Wx1xlEMLvlq7jOL7vb7fboijsEx+Px8bj6Nss9jtHWZYYY3uVOvb/6VoIPYcP8suJyQSyCHEAAAAASUVORK5CYII=\"></div>"
      ],
      "text/plain": [
       "{Item[0, Frame -> True]}"
      ]
     },
     "execution_count": 38,
     "metadata": {
      "text/html": [],
      "text/plain": []
     },
     "output_type": "execute_result"
    }
   ],
   "source": [
    "Select[li, # + # == splarr[{}] &]"
   ]
  },
  {
   "cell_type": "code",
   "execution_count": 39,
   "metadata": {
    "vscode": {
     "languageId": "wolfram"
    }
   },
   "outputs": [
    {
     "data": {
      "text/html": [
       "<div><img alt=\"Output\" src=\"data:image/png;base64,iVBORw0KGgoAAAANSUhEUgAAADAAAAAcCAIAAACoDqudAAAA0HpUWHRSYXcgcHJvZmlsZSB0eXBlIGV4aWYAAHjabU9RjgUhCPv3FHsEBCx6HGeeL9kb7PG3jiYvbrbJUCgFhzR+vt/pa0KzJC9R0QAhvHnTzqTKwuIs7YkPbLdYH3rK99Y7pfJpYGz9OvXAYq1/Fonul+YLzM33wF5kuvTcV31tv/Zaz0VNDuDz6//WbqEoyOGMrhKBxrwmpiQUlRJ44wZozHip+E0eiOAYYjqsz8EJHXG6R4JReM0TbH5unWyM2XgRI5j7o6hlvdhtj2ee8wtIyFqwdG/fYAAAAAlwSFlzAAAOxAAADsQBlSsOGwAAADx0RVh0U29mdHdhcmUAQ3JlYXRlZCB3aXRoIHRoZSBXb2xmcmFtIExhbmd1YWdlIDogd3d3LndvbGZyYW0uY29tXKKmhQAAACF0RVh0Q3JlYXRpb24gVGltZQAyMDI0OjAzOjEwIDE2OjQzOjIxwBS7kgAAAdJJREFUSIntlz1uwjAUgJ2qx2CI7FyAPWZEPgLiBnhgQpm4ABkZkhsAR8AZnMWCkQvEIUKRuASSO1iNUpOCAxSqqt9EHo7f54f/cJRS4Dfxbt/0dDqVZXlbGtd1bZsqa/b7/W02rbI0VMjzPCmllBJCaHzV6XTm83m327VX2e124/H4PO44jha94j4ajaSUFyqUpqn9cJVSaZpeqBBCyIi8GX55np8X5ufo9/tGxBR6OX9RiFLqfCKEeLEQISRJEj0fZ7MZxvhOp7uEhBCMsSRJ9GMQBAihxWLxMqHNZoMQqlalEEJKGcfxI4VarXnOued5+vNqtcIYL5dLAECe55Y9uK5rNP4iRCkdDof2QhVhGE6n04Zt9xpBEFBKm4UopXEc+77ftlNCCOc8y7K2L1ZUZf4iFEWRUooQYt8RhJAxBiFcr9c6cjgc6rPqKrq09cHcNal7vR4AYDKZVBHO+flpcIGiKIzf5C6hwWCAEKoMwjBkjNX9bqDFBa2RLMsIIfouARqvE08WAgBUE+gh/MXD9bH8C13DFIqiSN9s7M+j29BZ9E5Wx1xlEMLvlq7jOL7vb7fboijsEx+Px8bj6Nss9jtHWZYYY3uVOvb/6VoIPYcP8suJyQSyCHEAAAAASUVORK5CYII=\"></div>"
      ],
      "text/plain": [
       "{Item[0, Frame -> True]}"
      ]
     },
     "execution_count": 39,
     "metadata": {
      "text/html": [],
      "text/plain": []
     },
     "output_type": "execute_result"
    }
   ],
   "source": [
    "Select[li, # * # == splarr[{}] &]"
   ]
  },
  {
   "cell_type": "code",
   "execution_count": 40,
   "metadata": {
    "vscode": {
     "languageId": "wolfram"
    }
   },
   "outputs": [
    {
     "data": {
      "text/html": [
       "<div><pre style=\"&#102;&#111;&#110;&#116;&#45;&#102;&#97;&#109;&#105;&#108;&#121;&#58;&#32;&#34;&#67;&#111;&#117;&#114;&#105;&#101;&#114;&#32;&#78;&#101;&#119;&#34;&#44;&#67;&#111;&#117;&#114;&#105;&#101;&#114;&#44;&#109;&#111;&#110;&#111;&#115;&#112;&#97;&#99;&#101;&#59;\">&#123;&#125;</pre></div>"
      ],
      "text/plain": [
       "{}"
      ]
     },
     "execution_count": 40,
     "metadata": {
      "text/html": [],
      "text/plain": []
     },
     "output_type": "execute_result"
    }
   ],
   "source": [
    "Select[li, # + # == splarr[{0 -> 1}] &]"
   ]
  },
  {
   "cell_type": "code",
   "execution_count": 41,
   "metadata": {
    "vscode": {
     "languageId": "wolfram"
    }
   },
   "outputs": [
    {
     "data": {
      "text/html": [
       "<div><img alt=\"Output\" src=\"data:image/png;base64,iVBORw0KGgoAAAANSUhEUgAAAGIAAAAcCAIAAAAV7/3oAAAA0HpUWHRSYXcgcHJvZmlsZSB0eXBlIGV4aWYAAHjabU/RbQUhDPtnio4QkuDAONw9ntQNOn7NgapS1dLFxjjhksbX5zt9TGiW5CUqGiCEN2/aKaosLM7SnvoAuu/y6ad8b7/TKr8axvav0w8s1vpnkOwXbL5Abb4b9iDT5ee+ztfOa6/1HNTkAOTn1/89u4WiIIezukoEGnVNlCQUlRJ44wYYzHip+E0eiGAbYiasz8YJHXGmR4LReM0VbH5unWys2bgRK6j9cdSyXrxtT2au8w1QKFq1rItAMgAAAAlwSFlzAAAOxAAADsQBlSsOGwAAADx0RVh0U29mdHdhcmUAQ3JlYXRlZCB3aXRoIHRoZSBXb2xmcmFtIExhbmd1YWdlIDogd3d3LndvbGZyYW0uY29tXKKmhQAAACF0RVh0Q3JlYXRpb24gVGltZQAyMDI0OjAzOjEwIDE2OjQzOjIxwBS7kgAAAjVJREFUaIHtmK+u6jAAxtvLFVgcYmIsfQEcYhAU7BEAha5ATk0SxCRiJDwA2SMsCBQJkhdgY2IJAoOHpEc0OWe3g1HWjnFz9lNN6fp9/VjXP5AQAkqe8Ze/6e12i6Iom4yqqtkelKL+lGq1Wq/X01oQbo7HY2Yf/Cp5qD+l2+2mq995mxBCvu/7vq9pGvOToijz+bzZbPI72O/3k8lEaBAC6jzMZrPz+UzLEEIAAEl8iNiYMMbr9ToZECWKolqt9tIMCsNQ1mTJoM7D9Xq9XC60TANCCB0Oh3ibP8wzQRA8yuj30Ov1mBo2ppK7lDFxIScmhBCE0HVdKb1JR9yeaEy2bUMIp9OpYD85IcueUEyu6242G0KIoiiCPvJAoj2hmAaDged5gg7yQ6I9NqZyNwAAUFU1CIJ4zT8xYYxHo9F7LX0ipmlijOM1PzFhjBeLha7rb3eVHcMwYAJZnSOEvss/MTmOQwgxDEOWzBvwPC95TBXv1rZty7Li55Uit5f0z99utwV6uEsYhsysKjKmfr8PAFitVgV64EQopiAI6BvRbrcBAMPhEEIYn9LpjMdjIOPGLid7cV64vUyiaZrIt8CyLACAaZoiHlIQtBenmEmHMX50AfaZFBMTXVWZq69PprxI4aKMiQs2Jsdx6OrAHGp+CXTsnU6HqWdXupTVAUKo6/putwvDkF/4dDpJOQBlU+fsudFo0PKjsb+wIahUKlEULZdLCdZeJ1f1VquV3gD+L0tysXwBaD1xdwz8WhUAAAAASUVORK5CYII=\"></div>"
      ],
      "text/plain": [
       "{Item[1, Frame -> True], Item[-1, Frame -> True]}"
      ]
     },
     "execution_count": 41,
     "metadata": {
      "text/html": [],
      "text/plain": []
     },
     "output_type": "execute_result"
    }
   ],
   "source": [
    "Select[li, # * # == splarr[{0 -> 1}] &]"
   ]
  },
  {
   "cell_type": "code",
   "execution_count": 51,
   "metadata": {
    "vscode": {
     "languageId": "wolfram"
    }
   },
   "outputs": [
    {
     "data": {
      "text/html": [
       "<div><img alt=\"Output\" src=\"data:image/png;base64,iVBORw0KGgoAAAANSUhEUgAAAGIAAAAcCAIAAAAV7/3oAAAA0XpUWHRSYXcgcHJvZmlsZSB0eXBlIGV4aWYAAHjabU/RbQUhDPtnio4QkuDAONw9ntQNOn7NgapS1dLFxjjhksbX5zt9TGiW5CUqGiCEN2/aKaosLM7SnvoAuu/y6ad8b7/TKr8axvav0w8s1vpnkOwXbL5Abb4b9iDT5ee+ztfOa6/1HNTkAOTn1/89u4WiIIezukoEGnVNlCQUlRJ44wYYzHip+E0eiGAbYiasz8YJHXGmR4LReM0VbH5unWys2bgRK6jdCqta1Yu37cnMdb4BUMRavs8KCYEAAAAJcEhZcwAADsQAAA7EAZUrDhsAAAA8dEVYdFNvZnR3YXJlAENyZWF0ZWQgd2l0aCB0aGUgV29sZnJhbSBMYW5ndWFnZSA6IHd3dy53b2xmcmFtLmNvbVyipoUAAAAhdEVYdENyZWF0aW9uIFRpbWUAMjAyNDowMzoxMCAxNjo0NToyOJyjXOoAAAI1SURBVGiB7ZivruowAMbbyxVYHGJiLH0BHGIQFOwRAIWuQE5NEsQkYiQ8ANkjLAgUCZIXYGNiCQKDh6RHNDlnt4NR1o5xc/ZTTen6ff1Y1z+QEAJKnvGXv+ntdouiKJuMqqrZHpSi/pRqtVqv19NaEG6Ox2NmH/wqeag/pdvtpqvfeZsQQr7v+76vaRrzk6Io8/m82WzyO9jv95PJRGgQAuo8zGaz8/lMyxBCAABJfIjYmDDG6/U6GRAliqJarfbSDArDUNZkyaDOw/V6vVwutEwDQggdDod4mz/MM0EQPMro99Dr9ZgaNqaSu5QxcSEnJoQQhNB1XSm9SUfcnmhMtm1DCKfTqWA/OSHLnlBMrutuNhtCiKIogj7yQKI9oZgGg4HneYIO8kOiPTamcjcAAFBVNQiCeM0/MWGMR6PRey19IqZpYozjNT8xYYwXi4Wu6293lR3DMGACWZ0jhL7LPzE5jkMIMQxDlswb8DwveUwV79a2bcuy4ueVIreX9M/fbrcFerhLGIbMrCoypn6/DwBYrVYFeuBEKKYgCOgb0W63AQDD4RBCGJ/S6YzHYyDjxi4ne3FeuL1MommayLfAsiwAgGmaIh5SELQXp5hJhzF+dAH2mRQTE11VmauvT6a8SOGijIkLNibHcejqwBxqfgl07J1Oh6lnV7qU1QFCqOv6brcLw5Bf+HQ6STkAZVPn7LnRaNDyo7G/sCGoVCpRFC2XSwnWXidX9Varld4A/i9LcrF8AWg9cXcM/FoVAAAAAElFTkSuQmCC\"></div>"
      ],
      "text/plain": [
       "{Item[1, Frame -> True], Item[-1, Frame -> True]}"
      ]
     },
     "execution_count": 51,
     "metadata": {
      "text/html": [],
      "text/plain": []
     },
     "output_type": "execute_result"
    }
   ],
   "source": [
    "Select[li, CircleTimes[#, #] == splarr[{0 -> 1}] &]"
   ]
  },
  {
   "cell_type": "code",
   "execution_count": 42,
   "metadata": {
    "vscode": {
     "languageId": "wolfram"
    }
   },
   "outputs": [
    {
     "data": {
      "text/html": [
       "<div><img alt=\"Output\" src=\"data:image/png;base64,iVBORw0KGgoAAAANSUhEUgAAADAAAAAcCAIAAACoDqudAAAA0HpUWHRSYXcgcHJvZmlsZSB0eXBlIGV4aWYAAHjabU9RjgUhCPv3FHsEBCx6HGeeL9kb7PG3jiYvbrbJUCgFhzR+vt/pa0KzJC9R0QAhvHnTzqTKwuIs7YkPbLdYH3rK99Y7pfJpYGz9OvXAYq1/Fonul+YLzM33wF5kuvTcV31tv/Zaz0VNDuDz6//WbqEoyOGMrhKBxrwmpiQUlRJ44wZozHip+E0eiOAYYjqsz8EJHXG6R4JReM0TbH5unWyM2XgRI5j7o6ipXuy2xzPP+QVI2Fqxt3X/3gAAAAlwSFlzAAAOxAAADsQBlSsOGwAAADx0RVh0U29mdHdhcmUAQ3JlYXRlZCB3aXRoIHRoZSBXb2xmcmFtIExhbmd1YWdlIDogd3d3LndvbGZyYW0uY29tXKKmhQAAACF0RVh0Q3JlYXRpb24gVGltZQAyMDI0OjAzOjEwIDE2OjQzOjIyWR3qKAAAAdJJREFUSIntlz1uwjAUgJ2qx2CI7FyAPWZEPgLiBnhgQpm4ABkZkhsAR8AZnMWCkQvEIUKRuASSO1iNUpOCAxSqqt9EHo7f54f/cJRS4Dfxbt/0dDqVZXlbGtd1bZsqa/b7/W02rbI0VMjzPCmllBJCaHzV6XTm83m327VX2e124/H4PO44jha94j4ajaSUFyqUpqn9cJVSaZpeqBBCyIi8GX55np8X5ufo9/tGxBR6OX9RiFLqfCKEeLEQISRJEj0fZ7MZxvhOp7uEhBCMsSRJ9GMQBAihxWLxMqHNZoMQqlalEEJKGcfxI4VarXnOued5+vNqtcIYL5dLAECe55Y9uK5rNP4iRCkdDof2QhVhGE6n04Zt9xpBEFBKm4UopXEc+77ftlNCCOc8y7K2L1ZUZf4iFEWRUooQYt8RhJAxBiFcr9c6cjgc6rPqKrq09cHcNal7vR4AYDKZVBHO+flpcIGiKIzf5C6hwWCAEKoMwjBkjNX9bqDFBa2RLMsIIfouARqvE08WAgBUE+gh/MXD9bH8C13DFIqiSN9s7M+j29BZ9E5Wx1xlEMLvlq7jOL7vb7fboijsEx+Px8bj6Nss9jtHWZYYY3uVOvb/6VoIPYcP8suJyQSyCHEAAAAASUVORK5CYII=\"></div>"
      ],
      "text/plain": [
       "{Item[0, Frame -> True]}"
      ]
     },
     "execution_count": 42,
     "metadata": {
      "text/html": [],
      "text/plain": []
     },
     "output_type": "execute_result"
    }
   ],
   "source": [
    "Select[li, # + # == # &]"
   ]
  },
  {
   "cell_type": "code",
   "execution_count": 43,
   "metadata": {
    "vscode": {
     "languageId": "wolfram"
    }
   },
   "outputs": [
    {
     "data": {
      "text/html": [
       "<div><img alt=\"Output\" src=\"data:image/png;base64,iVBORw0KGgoAAAANSUhEUgAAAFYAAAAcCAIAAAB099+qAAAA0HpUWHRSYXcgcHJvZmlsZSB0eXBlIGV4aWYAAHjaXU/REUIhDPtnCkeAtqQwDu+Jd27g+IYH6mHuaEOaFhr66/kItwFJMVj2ggpEwqpVaSQlTsycYr3ihYxVS7se0rn0Rin/CuhLP3bd1yApf4OiTKLjBXK11bAGqUw9tXk/ll9aKfugGjd8fv792d/d1AUZyY3RJLqjkpdAyoQsMTseOAEaE+4S7WTucGcbfDi0jcYB6b67e4BSuI8VdBzTxqyMSbkRI8jtUkRFDlbr5RnrvAFUolq51iN9tQAAAAlwSFlzAAAOxAAADsQBlSsOGwAAADx0RVh0U29mdHdhcmUAQ3JlYXRlZCB3aXRoIHRoZSBXb2xmcmFtIExhbmd1YWdlIDogd3d3LndvbGZyYW0uY29tXKKmhQAAACF0RVh0Q3JlYXRpb24gVGltZQAyMDI0OjAzOjEwIDE2OjQzOjIyWR3qKAAAAmdJREFUWIXtmT2yqjAUx5M3dwP2FEzIBuzBUlkCWlmnsHKwobSR0gJ2oCxBKFIxWroBQMZhxk04k1tkno+HlzuQ+DX3+qs0knNy/iY5JwEyxsDv5qP5o+fzuSgKMTeqqop1fIR31pjD4SA2glZeHu/9i1mAMU7TNE1ThFDlJ0VRlstlt9tt7n6/308mE+HR39A7hBAAwK4WflUCQkgURdfBc4qi6HQ6rWZ1nufCE/i23nnwGOMkScrP/Kn0ybKsLv6fQb/fr7RUJfiFvCW4hQSEEPiXOI7lDbYFYwwhDIJArLusBKZpRlHEs8tisTAM45EquK4LIZzP5zJGpCSI4zgMwyiK+FfbtjVNW61WMjabEwQBpZQxpiiKjB0pCbbbraZplwwSx3Gapr7vy9hsjmVZm81G3k5VglYZkVKKMeafgyAwDGO9XgMAsiyTH9mdUFW1Mrz/JCCEjEYjAbuu6zqOc114vSC2bRNCyi3/JCCE+L6v63pbo6ZpUkorJdeLc5m8oCyB53mMMdM0mxtCCIVhiBC6rMnj8VjeHV4QPmHLf5jUdtjr9QAA0+n00kIpva5A63hKKZHneWWmS0lgWZamaZeYXdcNw7CsyPcMBgMAwMOSaB2ypVGSJLw4gxDOZjPGWPNVMB6PgcRtSpZl3K9hGACA4XAIISwv8oa0uDWqQzg5O44DALBtW6w7QugmOeg5xyR+rABfXWA8nudIwLPPi+TR92H5LcG1BJ7n8W32let8MXhcvJYpU80I32yzEEJd13e7XZ7nzR2fTieBovse3mvjar4nF0XBM7AAMm8B7u29hQQ/lU/0eKSDBYhNbgAAAABJRU5ErkJggg==\"></div>"
      ],
      "text/plain": [
       "{Item[0, Frame -> True], Item[1, Frame -> True]}"
      ]
     },
     "execution_count": 43,
     "metadata": {
      "text/html": [],
      "text/plain": []
     },
     "output_type": "execute_result"
    }
   ],
   "source": [
    "Select[li, # * # == # &]"
   ]
  },
  {
   "cell_type": "code",
   "execution_count": 52,
   "metadata": {
    "vscode": {
     "languageId": "wolfram"
    }
   },
   "outputs": [
    {
     "data": {
      "text/html": [
       "<div><img alt=\"Output\" src=\"data:image/png;base64,iVBORw0KGgoAAAANSUhEUgAAAKYAAAAcCAIAAABku1MzAAAA0HpUWHRSYXcgcHJvZmlsZSB0eXBlIGV4aWYAAHjaXU/bDQMhDPtnio6QFwmMw12p1A06fs1BW1FLJMZxAkn99Xyk24AwJctRvLoTYNWqNJBCEzMz1SteaL5qvOuJz6U3SPlX8L70Y9djDZLyN4hkEh0vgKuthjVIZerc5v1Yfmml7IMqbfj8/Puzv7tpiGfnMEQTivAKXhIokmehHP7w0x1G9ruQncjdI9DmMRzaRuOA9NjdPblCuI8VdBzThqyIrNgI0cFN8xVZDlTr5RnrvAGV2lrofr0SSQAAAAlwSFlzAAAOxAAADsQBlSsOGwAAADx0RVh0U29mdHdhcmUAQ3JlYXRlZCB3aXRoIHRoZSBXb2xmcmFtIExhbmd1YWdlIDogd3d3LndvbGZyYW0uY29tXKKmhQAAACF0RVh0Q3JlYXRpb24gVGltZQAyMDI0OjAzOjEwIDE2OjQ1OjQxsyVDyAAAAzRJREFUaIHtmr1S6kAYhr89nkJLOgsKTHIDdBbEscJcAlpZb2HlhIbSYcaUFDDjBUjuAJIiVUZLL0ASM05mLGjsZWZPsXM4OYlAdjc/CHkqCNl9350X9ucLiBACFfvE7/S3LhaLMAz5ZBqNBl9DVso1KaK+kcPDw+Pj4ww6Iql5e3srQEWQck2KqG/k/Pxc3CEh5JtfuaIonud5nidJUuyjer0+GAyazWZ6oy8vLzc3N0JjZYTD5GQy6ff7Zamnod/vz+dzpiYIIQAgiYU7HjnG2LbtZNiUMAxrtRrTBBgEQX5z3bdwmDw6OsrKJId6Gr6+vj4/P5ma0LAVRZnNZtHrv2L3+b6/Ku+Kn0i73Y5diUdesfNUke8dGUSOMUZ/cV03ZStFURBCpmmKG9haRSb47HG0Eo1c0zTbtunu//7+XlXVjakbhoEQuru7E5ROT/GKTPDZ4x6UUOSu61qWZds2favruizLj4+Pa5qYpuk4DiGkXq+LSKeneEUm+OyJDEoo8qenJ1mWlzt813U9zxuNRmuadDqd6XQqIspK8YpM8NkTGVQ8cqYTmuM4iqLQ16Zpqqo6Ho8BwPd9PjcVmdNoNGJx/Bc5xvjq6oqjX8Mwer1estBTUTq6rmOMo1f+RY4xHo1GrVaLtVNN0xzHiZV4KpZomoYSFOxhORlDNPLhcEgI0TQtfUeSJFmWJUnScl15f3+Pru4VADCdTpPPNgpTpxNw9AcptH07OzsDgNvb2+UVx3GSFT5BWE/8u6QuThAEsZlbKPJOpyPL8jJjwzAsy4p+AzLh4uICANaf/fKjXPU8EC3FzGYzWgBCCHW7XULI+lnd9316s6qqAHB5eYkQiq40Sa6vr0Hg/wscihmq52RPZFAM/4pZBdMBUZIk1pWs1+sBgK7rbLYEFDNU3wifPZFBbfVjFVq9h++e8++8en5sdeT0EFHW8a9c9fzY6sgr8qCKfO+IRz4cDulWsKqT/3RojrR2EiW+Y1+zFUQItVqt5+fnIAjSC398fHAUcbnhM/n6+pqJST71lD2fnJwwNVmVI8Mh7eDgIAzDh4cHJuGCKddkruqnp6eZ9IN27ARSsZE/RFjDYCvSHxsAAAAASUVORK5CYII=\"></div>"
      ],
      "text/plain": [
       "{Item[0, Frame -> True]   1, Item[1, Frame -> True], Item[-1, Frame -> True]   1}"
      ]
     },
     "execution_count": 52,
     "metadata": {
      "text/html": [],
      "text/plain": []
     },
     "output_type": "execute_result"
    }
   ],
   "source": [
    "Select[li, CircleTimes[#, #] == # &]"
   ]
  },
  {
   "cell_type": "code",
   "execution_count": 44,
   "metadata": {
    "vscode": {
     "languageId": "wolfram"
    }
   },
   "outputs": [
    {
     "data": {
      "text/html": [
       "<div><pre style=\"&#102;&#111;&#110;&#116;&#45;&#102;&#97;&#109;&#105;&#108;&#121;&#58;&#32;&#34;&#67;&#111;&#117;&#114;&#105;&#101;&#114;&#32;&#78;&#101;&#119;&#34;&#44;&#67;&#111;&#117;&#114;&#105;&#101;&#114;&#44;&#109;&#111;&#110;&#111;&#115;&#112;&#97;&#99;&#101;&#59;\">&#123;&#125;</pre></div>"
      ],
      "text/plain": [
       "{}"
      ]
     },
     "execution_count": 44,
     "metadata": {
      "text/html": [],
      "text/plain": []
     },
     "output_type": "execute_result"
    }
   ],
   "source": [
    "Select[li, # + # == splarr[{1 -> 1}] &]"
   ]
  },
  {
   "cell_type": "code",
   "execution_count": 45,
   "metadata": {
    "vscode": {
     "languageId": "wolfram"
    }
   },
   "outputs": [
    {
     "data": {
      "text/html": [
       "<div><pre style=\"&#102;&#111;&#110;&#116;&#45;&#102;&#97;&#109;&#105;&#108;&#121;&#58;&#32;&#34;&#67;&#111;&#117;&#114;&#105;&#101;&#114;&#32;&#78;&#101;&#119;&#34;&#44;&#67;&#111;&#117;&#114;&#105;&#101;&#114;&#44;&#109;&#111;&#110;&#111;&#115;&#112;&#97;&#99;&#101;&#59;\">&#123;&#125;</pre></div>"
      ],
      "text/plain": [
       "{}"
      ]
     },
     "execution_count": 45,
     "metadata": {
      "text/html": [],
      "text/plain": []
     },
     "output_type": "execute_result"
    }
   ],
   "source": [
    "Select[li, # * # == splarr[{1 -> 1}] &]"
   ]
  },
  {
   "cell_type": "code",
   "execution_count": 53,
   "metadata": {
    "vscode": {
     "languageId": "wolfram"
    }
   },
   "outputs": [
    {
     "data": {
      "text/html": [
       "<div><img alt=\"Output\" src=\"data:image/png;base64,iVBORw0KGgoAAAANSUhEUgAAAPYAAAAcCAIAAADdr9V7AAAA0HpUWHRSYXcgcHJvZmlsZSB0eXBlIGV4aWYAAHjaXU9bjsQgDPvnFHsESIIDx6EtleYGe/w1hZ0RYwnHOA9I6L+vO/wMSIrBshdUIBJWrUqjKHFixhTrww9urFza/ZDO5Tda+ZNAX/6x+74GSfkaFGUKHS9Qq62GNUhl+qnN+7HqpZWyD6pxw//P3z/7upu6ICO5kU2iOyp1CZQMyBKz48YJsDDhkmgnY4c72+CjQttoHJDue3UPUBrXWEHHMW2MSk7Kjcigtofpy0Gujx7r/AGdKlrshlpTQQAAAAlwSFlzAAAOxAAADsQBlSsOGwAAADx0RVh0U29mdHdhcmUAQ3JlYXRlZCB3aXRoIHRoZSBXb2xmcmFtIExhbmd1YWdlIDogd3d3LndvbGZyYW0uY29tXKKmhQAAACF0RVh0Q3JlYXRpb24gVGltZQAyMDI0OjAzOjEwIDE2OjQ2OjAzK/JIDgAAA8lJREFUeJztnLFO6zAUhu1Lh65sDBlKkhdgY0gQE/QRChOzByYUli5ICImMDKnEAhPkEZoMWYhg5AWaEKFIDDAwsIGUO0S33Jv2IvvYaeLK30SDnP/8zt/WPU6Li6JACsXy0hF+xq+vrzzPYWN7vZ7QWrj4+Ph4e3sDDOx2u2tra1KrUyJFkagQzdPTU3uK4eHq6grmYnt7W3b1ZSpyzqu4aZpJkiRJous6zICmaRcXFxsbG/RDHh8fDw8PYXI10el0NE27u7tjGnV2dvb6+iq7OiXtKRJjjBAq5q26qxEnhIRhCA53SZ7nq6urTKuOLMvAy5uaKFdcrGunz8/P9/d32dUpaU+RZbhN05xMJpV//ao8TtOUM98KRVPs7OzMHqxGXKFYMlTEFUsOMOKmaWKMfd+nH0IIwX+I4ximKxxWI826AKsDrheYWqcIYIQ54q7rYoxPT0+ZRvX7/TAMyybO+fm5bduNpxxgpFkXMHXY9QJT3xSBjbBF3Pf9KIqKotA0jX5UHMdBEIRhWD50HMcwjJubGyZpsQCMNOsCpg67XmDqmyIeI2wRHwwG4/GYVeP+/t4wjGmjJo7jJElGoxHreQQCMNKsC5g67HqBqW+KeIxUI15HxzCKItM0y79937dt+/b2FiGUpqlwrfpo1oUUc9h4kb1eb1brn4gTQvb39+urwHXd4XA4dwtKIpp1IcUcNlWk4ziEkMrB791NQshoNPI8ryb5fr+PEJrdfKpJKwiCykEhM75IF21TpwRQpNjrVdnj/H4V9zyvKIqyPrHouh4Ega7r0+XU8/Pz34s24YzH49nbcTjPuXgX7VGnBFykqOtVvntUnl2L2PrZ2tpCCB0dHU2PRFE0d691Li1ppXO6QHxG+NUpkaLI/5FlmWVZlYOLiPhgMDAMY2rVdd0gCP6eiJ/Z3d1FCDXbZETcLhCfEX51SqQokgm2iKdpWj7LbdtGCO3t7WGMpx+if2AymZT7Uhjj4+Pjoijo32EPDg6Q6G9LwIzwuEDcRgDqAJuLL5IGcPAQ67d+dF0HL2rBfc3hcIgQchwHNnwuYCM8bWZ+I6zqAJuLL5IGnuC1+jas8m4HJKgZ0iBSGJGiSACtjnjZ5Gl5j4wGKYxIUSSAVkdcoeBHRVyx5FQj7nle+dG1VTc/KBQ/U4a2bMxXqHZUeD66TsUsy3p4eMiyjH7Uy8vLbNO+WbrdrmVZ19fXTKMwxuvr67KrU9KeIn8IrfifClpZWcnz/PLyUviZF0yn08nz/OTkhHXg5uam7OqUSFEkXrIOkUJR4TdCkfqh1Zn2SwAAAABJRU5ErkJggg==\"></div>"
      ],
      "text/plain": [
       "{1   Item[0, Frame -> True], -1   Item[0, Frame -> True], Item[0, Frame -> True]   1, \n",
       " \n",
       ">   Item[0, Frame -> True]   -1}"
      ]
     },
     "execution_count": 53,
     "metadata": {
      "text/html": [],
      "text/plain": []
     },
     "output_type": "execute_result"
    }
   ],
   "source": [
    "Select[li, CircleTimes[#, #] == splarr[{1 -> 1}] &]"
   ]
  },
  {
   "cell_type": "code",
   "execution_count": 46,
   "metadata": {
    "vscode": {
     "languageId": "wolfram"
    }
   },
   "outputs": [
    {
     "data": {
      "text/html": [
       "<div><img alt=\"Output\" src=\"data:image/png;base64,iVBORw0KGgoAAAANSUhEUgAAAHwAAAAcCAIAAAAsiEyzAAAA0HpUWHRSYXcgcHJvZmlsZSB0eXBlIGV4aWYAAHjabU/tbQUhDPvPFB0hJMGBcbh7PKkbdPyaA7WiqiVi43xA0vj6fKePCc2SvERFA4Tw5k07RZWFxVnaEx/EvXP59FPeidxpld8Exvav0w8s1vpnkOgSNl+gNt8Ne5Dp8nNf92vXa6/1HNTkAOTn6//e3UJRkMMZXSUCjbomShKKSgm8cQMszHip+E0eiGAbYlZYn40TOuKsHglG4zVXsHncOtkYs3EjRlD746iZXsy2p2au8w2Z61rpjY+G4QAAAAlwSFlzAAAOxAAADsQBlSsOGwAAADx0RVh0U29mdHdhcmUAQ3JlYXRlZCB3aXRoIHRoZSBXb2xmcmFtIExhbmd1YWdlIDogd3d3LndvbGZyYW0uY29tXKKmhQAAACF0RVh0Q3JlYXRpb24gVGltZQAyMDI0OjAzOjEwIDE2OjQzOjIzLhravgAAAtpJREFUaIHtmbFuqzAUhu2ru3TszkCBF8geMjY8Au2U2UOmiC4Zo0hh7EDeoOUNCgxMqB3zAAkERUh9iUq+g3UpJU2ufZwScsU3JQZz/vMj28cGU0pRR7P85r/14+OjKApYGFVVYR1FuQiRAqYXRXFzcwML09h4ugiR35huGEaapmmaappWu6QoyuPjY6/X4w+wWq3G47GURkEAIl9eXubz+cmVYIzRd++ybjohJIqifbsZRVFcX18LDcM8z8HjHQZA5NXV1U+IZHYbhrHZbKrtv2r3ZVl2yPEOGLe3t7WWuukdDdCZfgZOYDohBP8lSRLOXoZhYIx935cXwANMJA+ARGRNtywriiJKKaV0sViYpvnPlFzXxRjPZjPJ0PwARPIATkTK9CRJwjCMooj9dRxH1/Wnp6cjXXzfj+OYUqooikxofgAieZBJRMr019dXXdfLaidJkjRNl8vlkS62bQdBIBNUFIBIHmQSqZsuVC/GcWwYBvvt+75pms/PzwihLMtgan6Cs4tUVbUW64vphJD7+3vAc13XnU6nLT87O5dIx3EIIdWWT9MJIcvlst/viz7Usqw4jmubrrYhKtKyLLyHjIBytKGq6Z7nUUoty+J/kKZpYRhqmlbObrvdrjqBtgGYyCAI6B4wAWyEVd+31EI6GAwQQpPJpGyJ43h/1yuJZHHdjMgj5Hlemz+kTLdtW9f1MgHXdcMwrKZ3EobDIUIIXOQ1I1II2c3RZrNhWzKM8cPDA6X0+LDNsozdbJomQuju7g5jXJ3v9hmNRkjuC4OoSB4AiZQIfMQ4hFC5qmma6OQ4nU4RQo7jiMn6ysk3B4BESlp94MUOTFCD33SaodWms4Kq5cUogFab/r/SmX4G6qZ7nscW5Vadn1wozEm2UahSr16OLMoY436///b2luc5f+D393fA0QIYmMj1ev0TIg86yV8YFEXBalIA2+0W1lGUixApYHrHqfgDFZimyiB4cyoAAAAASUVORK5CYII=\"></div>"
      ],
      "text/plain": [
       "{Item[0, Frame -> True]   1, Item[0, Frame -> True]   -1}"
      ]
     },
     "execution_count": 46,
     "metadata": {
      "text/html": [],
      "text/plain": []
     },
     "output_type": "execute_result"
    }
   ],
   "source": [
    "Select[li, # * # == splarr[{2 -> 1}] &]"
   ]
  },
  {
   "cell_type": "code",
   "execution_count": 58,
   "metadata": {
    "vscode": {
     "languageId": "wolfram"
    }
   },
   "outputs": [
    {
     "data": {
      "text/html": [
       "<div><pre style=\"&#102;&#111;&#110;&#116;&#45;&#102;&#97;&#109;&#105;&#108;&#121;&#58;&#32;&#34;&#67;&#111;&#117;&#114;&#105;&#101;&#114;&#32;&#78;&#101;&#119;&#34;&#44;&#67;&#111;&#117;&#114;&#105;&#101;&#114;&#44;&#109;&#111;&#110;&#111;&#115;&#112;&#97;&#99;&#101;&#59;\">&#123;&#125;</pre></div>"
      ],
      "text/plain": [
       "{}"
      ]
     },
     "execution_count": 58,
     "metadata": {
      "text/html": [],
      "text/plain": []
     },
     "output_type": "execute_result"
    }
   ],
   "source": [
    "Select[li, CircleTimes[#, #] == splarr[{2 -> 1}] &]"
   ]
  },
  {
   "cell_type": "code",
   "execution_count": null,
   "metadata": {
    "vscode": {
     "languageId": "wolfram"
    }
   },
   "outputs": [],
   "source": []
  }
 ],
 "metadata": {
  "kernelspec": {
   "display_name": "Wolfram Language 14",
   "language": "Wolfram Language",
   "name": "wolframlanguage14"
  },
  "language_info": {
   "codemirror_mode": "mathematica",
   "file_extension": ".m",
   "mimetype": "application/vnd.wolfram.m",
   "name": "Wolfram Language",
   "pygments_lexer": "mathematica",
   "version": "12.0"
  }
 },
 "nbformat": 4,
 "nbformat_minor": 2
}
