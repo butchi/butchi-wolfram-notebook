{
 "cells": [
  {
   "cell_type": "markdown",
   "metadata": {},
   "source": [
    "# Sparse Plane Array\n",
    "\n",
    "疎な平配"
   ]
  },
  {
   "cell_type": "code",
   "execution_count": 3,
   "metadata": {
    "vscode": {
     "languageId": "wolfram"
    }
   },
   "outputs": [],
   "source": [
    "Format[splarr[ruleLi_]] := \n",
    "  With[\n",
    "    {\n",
    "      minPos = Min[#, 0] & /@ Min /@ Transpose[First /@ ruleLi], \n",
    "      maxPos = Max[#, 0] & /@ Max /@ Transpose[First /@ ruleLi]\n",
    "    },\n",
    "    With[{\n",
    "      tbl = PadRight[\n",
    "        Normal[\n",
    "          SparseArray[(1 - minPos + #[[1]]) -> #[[2]] & /@ ruleLi]\n",
    "        ], maxPos + 1 - minPos\n",
    "      ]}, \n",
    "      Grid[\n",
    "        Transpose[\n",
    "          ReplacePart[tbl, \n",
    "            1 - minPos -> Item[\n",
    "              Extract[tbl, 1 - minPos], Frame -> True\n",
    "            ]\n",
    "          ]\n",
    "        ]\n",
    "      ]\n",
    "    ]\n",
    "  ]"
   ]
  },
  {
   "cell_type": "code",
   "execution_count": 4,
   "metadata": {
    "vscode": {
     "languageId": "wolfram"
    }
   },
   "outputs": [],
   "source": [
    "convApply[f_, li1_, li2_] := \n",
    " Join @@ Function[x, Function[y, f[x, y]] /@ li2] /@ li1"
   ]
  },
  {
   "cell_type": "code",
   "execution_count": 5,
   "metadata": {
    "vscode": {
     "languageId": "wolfram"
    }
   },
   "outputs": [],
   "source": [
    "listConv1[f_, li_, val_] := f[#, val] & /@ li\n",
    "\n",
    "listConv2[f_, li1_, li2_] := listConv1[f, li1, #] & /@ li2\n",
    "\n",
    "convApply[f_, sa1_splarr, sa2_splarr] := \n",
    " splarr[Join @@ listConv2[f, First[sa1], First[sa2]]]\n",
    "convApply[f_, saSeq__splarr] := \n",
    " convApply[f, First[{saSeq}], convApply[f, Sequence @@ Most[{saSeq}]]]"
   ]
  },
  {
   "cell_type": "code",
   "execution_count": 9,
   "metadata": {
    "vscode": {
     "languageId": "wolfram"
    }
   },
   "outputs": [],
   "source": [
    "combApply[f_, sa__splarr] := \n",
    "  splarr[Normal[\n",
    "    Map[f @@ (Last /@ #) &, \n",
    "      GroupBy[#, First] &@ (Join @@ (First /@ {sa}))\n",
    "    ]\n",
    "  ]\n",
    "]"
   ]
  },
  {
   "cell_type": "code",
   "execution_count": 10,
   "metadata": {
    "vscode": {
     "languageId": "wolfram"
    }
   },
   "outputs": [],
   "source": [
    "Unprotect[Plus];\n",
    "Plus[sa__splarr] := combApply[Plus, sa]\n",
    "Protect[Plus];"
   ]
  },
  {
   "cell_type": "code",
   "execution_count": 13,
   "metadata": {
    "vscode": {
     "languageId": "wolfram"
    }
   },
   "outputs": [],
   "source": [
    "Unprotect[Times];\n",
    "Times[sa__splarr] := \n",
    "    convApply[(#1[[1]] + #2[[1]]) -> (#1[[2]] #2[[2]]) &, sa]\n",
    "Protect[Times];"
   ]
  },
  {
   "cell_type": "code",
   "execution_count": 16,
   "metadata": {
    "vscode": {
     "languageId": "wolfram"
    }
   },
   "outputs": [
    {
     "data": {
      "text/html": [
       "<div><img alt=\"Output\" src=\"data:image/png;base64,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\"></div>"
      ],
      "text/plain": [
       "Item[0, Frame -> True]   0   0   0\n",
       "\n",
       "0                        3   0   0\n",
       "\n",
       "0                        0   0   0\n",
       "\n",
       "0                        7   0   5\n",
       "\n",
       "0                        0   0   0\n",
       "\n",
       "0                        0   0   0\n",
       "\n",
       "0                        0   0   0\n",
       "\n",
       "0                        0   0   1"
      ]
     },
     "execution_count": 16,
     "metadata": {
      "text/html": [],
      "text/plain": []
     },
     "output_type": "execute_result"
    }
   ],
   "source": [
    "splarr[{\n",
    "    {1, 1} -> 3,\n",
    "    {1, 3} -> 7\n",
    "}] + splarr[{\n",
    "    {3, 7} -> 1,\n",
    "    {3, 3} -> 5\n",
    "}]"
   ]
  },
  {
   "cell_type": "code",
   "execution_count": 17,
   "metadata": {
    "vscode": {
     "languageId": "wolfram"
    }
   },
   "outputs": [
    {
     "data": {
      "text/html": [
       "<div><img alt=\"Output\" src=\"data:image/png;base64,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\"></div>"
      ],
      "text/plain": [
       "b c   0   Item[a c, Frame -> True]   0   0\n",
       "\n",
       "0     0   0                          0   0\n",
       "\n",
       "0     0   b d                        0   a d"
      ]
     },
     "execution_count": 17,
     "metadata": {
      "text/html": [],
      "text/plain": []
     },
     "output_type": "execute_result"
    }
   ],
   "source": [
    "splarr[{\n",
    "    {1, 1} -> a,\n",
    "    {-1, 1} -> b\n",
    "}] splarr[{\n",
    "    {-1, -1} -> c,\n",
    "    {1, 1} -> d\n",
    "}]"
   ]
  },
  {
   "cell_type": "code",
   "execution_count": null,
   "metadata": {
    "vscode": {
     "languageId": "wolfram"
    }
   },
   "outputs": [],
   "source": []
  }
 ],
 "metadata": {
  "kernelspec": {
   "display_name": "Wolfram Language 14",
   "language": "Wolfram Language",
   "name": "wolframlanguage14"
  },
  "language_info": {
   "codemirror_mode": "mathematica",
   "file_extension": ".m",
   "mimetype": "application/vnd.wolfram.m",
   "name": "Wolfram Language",
   "pygments_lexer": "mathematica",
   "version": "12.0"
  }
 },
 "nbformat": 4,
 "nbformat_minor": 2
}
