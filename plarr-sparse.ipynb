{
 "cells": [
  {
   "cell_type": "markdown",
   "metadata": {},
   "source": [
    "# Sparse Plane Array\n",
    "\n",
    "疎な平配"
   ]
  },
  {
   "cell_type": "code",
   "execution_count": 5,
   "metadata": {
    "vscode": {
     "languageId": "wolfram"
    }
   },
   "outputs": [],
   "source": [
    "Format[splarr[ruleLi_List]] := \n",
    "  With[\n",
    "    {\n",
    "      minPos = Min[#, 0] & /@ Min /@ Transpose[ReIm[First[#]] & /@ ruleLi], \n",
    "      maxPos = Max[#, 0] & /@ Max /@ Transpose[ReIm[First[#]] & /@ ruleLi]\n",
    "    }, \n",
    "    With[{\n",
    "      tbl = PadRight[\n",
    "        Normal[\n",
    "          SparseArray[(1 - minPos + ReIm[#[[1]]]) -> #[[2]] & /@ ruleLi]\n",
    "        ], maxPos + 1 - minPos\n",
    "      ]}, \n",
    "      Grid[\n",
    "        Transpose[\n",
    "          ReplacePart[tbl, \n",
    "            1 - minPos -> Item[\n",
    "              Extract[tbl, 1 - minPos], Frame -> True\n",
    "            ]\n",
    "          ]\n",
    "        ]\n",
    "      ]\n",
    "    ]\n",
    "  ]"
   ]
  },
  {
   "cell_type": "code",
   "execution_count": 6,
   "metadata": {
    "vscode": {
     "languageId": "wolfram"
    }
   },
   "outputs": [],
   "source": [
    "normal[splarr[ruleLi__List]] := \n",
    "    splarr[Normal[Map[Plus @@ (Last[#] & /@ #) &, GroupBy[ruleLi, First]]]]"
   ]
  },
  {
   "cell_type": "code",
   "execution_count": 7,
   "metadata": {
    "vscode": {
     "languageId": "wolfram"
    }
   },
   "outputs": [],
   "source": [
    "Unprotect[Plus];\n",
    "Plus[splarr[ruleLi1_List], splarr[ruleLi2_List]] := \n",
    "    normal[splarr[Join[ruleLi1, ruleLi2]]]\n",
    "Plus[sa1_splarr, b_] := Plus[sa1, splarr[{0 -> b}]]\n",
    "Protect[Plus];"
   ]
  },
  {
   "cell_type": "code",
   "execution_count": 11,
   "metadata": {
    "vscode": {
     "languageId": "wolfram"
    }
   },
   "outputs": [],
   "source": [
    "convApply[f_, li_List, val_] := f[#, val] & /@ li\n",
    "convApply[f_, li1_List, li2_List] := convApply[f, li1, #] & /@ li2\n",
    "\n",
    "Unprotect[Times];\n",
    "Times[splarr[ruleLi1_List], splarr[ruleLi2_List]] := \n",
    "    normal[splarr[\n",
    "        Join @@ convApply[\n",
    "            (#1[[1]] + #2[[1]]) -> (#1[[2]] #2[[2]]) &, ruleLi1, ruleLi2\n",
    "        ]\n",
    "    ]]\n",
    "Times[sa1_splarr, b_] := Times[sa1, splarr[{0 -> b}]]\n",
    "Protect[Times];"
   ]
  },
  {
   "cell_type": "code",
   "execution_count": 17,
   "metadata": {
    "vscode": {
     "languageId": "wolfram"
    }
   },
   "outputs": [],
   "source": [
    "Unprotect[Power];\n",
    "Power[a_splarr, b_?Positive] := normal[Fold[Times, Table[a, b]]]\n",
    "Protect[Power];"
   ]
  },
  {
   "cell_type": "code",
   "execution_count": 20,
   "metadata": {
    "vscode": {
     "languageId": "wolfram"
    }
   },
   "outputs": [
    {
     "data": {
      "text/html": [
       "<div><img alt=\"Output\" src=\"data:image/png;base64,iVBORw0KGgoAAAANSUhEUgAAAEsAAABcCAIAAACp/9+eAAAAz3pUWHRSYXcgcHJvZmlsZSB0eXBlIGV4aWYAAHjabU9BDgMhCLz7ij4BAQd9jru1SX/Q5xdW08amY5aBccAljdfzkW4BzpS0WEUDyKFNG3dPKk1MztSueEGPdZd3PZVz6d2l8r3AWPqx64bJXH8GEc9E4gXPRVfDGiQ89dxnfSw/91r3QY02gD6//rdWMUZBNvWoTGZontfkqRMKUzE8cAJuzLgz6ek8YOZtsHBIj8YAD9vdI0FcuMcKEp9KdxaPWXwjidNdxRWVD6/b5Yl13pk4WugLuIsVAAAACXBIWXMAAA7EAAAOxAGVKw4bAAAAPHRFWHRTb2Z0d2FyZQBDcmVhdGVkIHdpdGggdGhlIFdvbGZyYW0gTGFuZ3VhZ2UgOiB3d3cud29sZnJhbS5jb21coqaFAAAAIXRFWHRDcmVhdGlvbiBUaW1lADIwMjQ6MDM6MTAgMDA6NDY6NDR+gC0NAAAD6klEQVR4nO2bv07rMBTG7UskRl6gQxVn4AEYW0bcF0DKK5QZdUKqkLokDwArE40ED9B0yEAqnoEhoQgxMDB0YGHyHaybm9umbvynbtzr31CpzTkn/pzY2B8JJISAvcZZLBaLxUJ53Var5TiO8rIiDIfDbZSdz+ekGTiHh4cnJycPDw+qtH1+fp6fn6uqJo/z8/Pz9fXVbrcVFv34+FBYTZJfu27A1rEKzWetQs/zIIRRFK0eiqIIQuh5HteZLi4u4B9ms5ny+HXNrlAYhiGEcDQaVZaAED49PWGMa56S0uv1ptMpnb6DIOh2u+xG88Yzmr2sMIqiJEkIIa1Wa7WK53lpmt7c3NQQ9ZfZbBbH8XQ6pV8HgwFC6P7+XlU8u9nLCn3fn0wm6wplWdbpdBhnquT5+Rkh5LpuISDP89vbW1Xx7GbrmGmSJCkGbRRF3W53PB4DAF5fX5XEs9E6l4ZheHV1RWqv9XnjK9G3OO71egCALMu2FL8OHdfQdd04jl3XLYbK+/t7eaRJxrPRofD09BQAcHl5WfySJMnZ2ZmqeDY6FPq+jxAqmhiGYRzHZQGS8RsYDoftdrvYTeV5vhqDEKJH+/3+6tHxeFzej83nc1C1PywvEurs67jiGc1eVijPOoW74j9eee8NVqH57L9C5+jo6Pj4+O7uTlXF7+/vTqcDIVRVUBIHQvjy8nJ9fa227sHBgdqCwkCy767+/o9Dq9B8NiikBtYSvD4iRYObWJ3Cu5BFCPX7fd4sjHGxQQmCAACQpqnCeEYKn0LqCG082RJpmgIA8jwvfmF3E288O4VPIcYYY8yVQggJgqDo3aI1jNuHN56dwqGQpvFeQPJvv9C7gH6Wu1wmnp3CMZeORiOEkIAjXKDBTVxNqesmUqeddowYGtzEypS615BeQN/365+vQIObyEqpM5CozxMEQd2R9y+rowhjzJgbeePZKbUUUoutTuQ6EEJLf6wY04ZAPCNlc7vpFCp8AQu26iYyUuzuyXysQvOxCs3HKjQfq9B8rELzqaVQ7DFBySL63EQBY0++iD43UcDYky+i1U0UMPbki2h1EwWMPfkiu3ETlTwm2Fw3Ucljgg11E5U8JthoN1HA2JMvottNFDD25ItodROJkLEnX8S6iXWxK2/zsQrNxyo0H6vQfKxC89mskL5ZW0bsPcDmem0IISX/xG+o10ZUKGy010ZUKGy010YIQQiV7/WN8as03WvLsqxcSHimAU322gomkwmE8PHxcTAYcCWCxnptlby9vXHF79Zr41NI70/6nm59NLwHzErhmjMAAAJPQZOGe23lrlp65ZcL67VtC7vyNh+r0Hx+AxLBe79F0AcnAAAAAElFTkSuQmCC\"></div>"
      ],
      "text/plain": [
       "Item[11, Frame -> True]   0   0   1\n",
       "\n",
       "7                         0   0   0\n",
       "\n",
       "0                         0   0   0\n",
       "\n",
       "5                         0   0   0"
      ]
     },
     "execution_count": 20,
     "metadata": {
      "text/html": [],
      "text/plain": []
     },
     "output_type": "execute_result"
    }
   ],
   "source": [
    "splarr[{\n",
    "    0 -> 3,\n",
    "    I -> 7\n",
    "}] + splarr[{\n",
    "    0 -> 8,\n",
    "    3 -> 1,\n",
    "    3I -> 5\n",
    "}]"
   ]
  },
  {
   "cell_type": "code",
   "execution_count": 21,
   "metadata": {
    "vscode": {
     "languageId": "wolfram"
    }
   },
   "outputs": [
    {
     "data": {
      "text/html": [
       "<div><img alt=\"Output\" src=\"data:image/png;base64,iVBORw0KGgoAAAANSUhEUgAAAC4AAAAvCAIAAAATh2/FAAAA0HpUWHRSYXcgcHJvZmlsZSB0eXBlIGV4aWYAAHjabU9BDgMhCLz7ij4BAQd9jtu6SX/Q5xdW08amYxaGccAljdfzTLcAZ0parKIB5NCmjbuTShMzZ2pXvMBj3eVdT3wuvbtUvhdYDfnYdcMaWH8GEU8i8YJz0dWwBglPPfdZH8vPvdZ9UKMNoM+v/61VjFGQTT0qkxma85qcekJhKoYTd8CNGQ8mvXseMPM2WDikR2OAh+3ukSAuPGIFiU+lexaPWXwjidNdxRULH163yxPrvAGavFrqbf9qkgAAAAlwSFlzAAAOxAAADsQBlSsOGwAAADx0RVh0U29mdHdhcmUAQ3JlYXRlZCB3aXRoIHRoZSBXb2xmcmFtIExhbmd1YWdlIDogd3d3LndvbGZyYW0uY29tXKKmhQAAACF0RVh0Q3JlYXRpb24gVGltZQAyMDI0OjAzOjEwIDAwOjQ2OjQ1CYcdmwAAAmlJREFUWIXtmDGuqkAUhg/mJhaa2JCYGAvCULgASzBWwhIorS2sjDYmxoQGVmElJG5AKGggrsHCobC2IDEWVvMK7uXxDOEO4FMK/8oZ58z5GIbhPzCEEKiGvijHhWEYhmGBBM1mk2VZqqGETqvVqgAHAIzHY8oUtKtSr9f7/f5ut8vFMZ1OG40G5WBalPv9frlcOI7LhXK9Xm+3G+XgWq6p/6s+KGn6B0UQBIZhLMuiiQyCgEkoV9bURN8ohmEwDKNpGuVcQRAghDzPi55DhJAgCDSBGYlqAGBZluu6hJBut0uJwvM8IUQUxaipaRrG2Pf97KjsRDUAUFV1v99TQqSK8hqyEz1n2x4OBwDodDplJnkCShAEi8VClmWe59+MghACgJK3+Ako0YODMS45T1kUQRAwxhjjkremLIqiKBhjz/OewgEAQAhJXV6E0INf4Tgubnqe92sIIWQ4HCb9SnaiL/g5r3JdgCiKBZxodqKqvg7fqw9KmiqEQmuzW61Wr9fbbDa5ZmdZtt1uPxmFYZjj8bher3OhAAB9kcBUp1Ct0F75oKSpePFROGQymcQlS9KZFyw+ioUAgKIojuNEr2Jd1yVJimkKFh8FQgDA933bth3HiZrz+RwhtN1uv/9O2ovIhZimSflFJG+IrutJTxObnqj50m3rum5cRFqWJUmSaZoAEAQBvOsJMgxjuVw+nK60B/8TpSgKAJxOp4f+l64Kz/O2bfM8HxdN5/MZIRQZ9ZeiDAYDAJjNZnGP67qj0Sj6/VIUVVURQnFuwzBs2/5L9mtNkKoCIbFkWY5Dkv0fk5CmD0qaKoTyBzULP6j6JhMCAAAAAElFTkSuQmCC\"></div>"
      ],
      "text/plain": [
       "1   Item[2, Frame -> True]   1\n",
       "\n",
       "1   1                        0"
      ]
     },
     "execution_count": 21,
     "metadata": {
      "text/html": [],
      "text/plain": []
     },
     "output_type": "execute_result"
    }
   ],
   "source": [
    "splarr[{\n",
    "    0 -> 1,\n",
    "    1 -> 1,\n",
    "    I -> 1\n",
    "}] splarr[{\n",
    "    0 -> 1,\n",
    "    -1 -> 1\n",
    "}]"
   ]
  },
  {
   "cell_type": "code",
   "execution_count": null,
   "metadata": {
    "vscode": {
     "languageId": "wolfram"
    }
   },
   "outputs": [],
   "source": [
    "Unprotect[NonCommutativeMultiply];\n",
    "NonCommutativeMultiply[splarr[ruleLi1_List], splarr[ruleLi2_List]] := Sum[Sum[splarr[{ First[rule2] + First[rule1] Last[rule2] -> Last[rule1] }], {rule1, ruleLi1}], {rule2, ruleLi2}]\n",
    "Protect[NonCommutativeMultiply];"
   ]
  },
  {
   "cell_type": "code",
   "execution_count": null,
   "metadata": {
    "vscode": {
     "languageId": "wolfram"
    }
   },
   "outputs": [
    {
     "data": {
      "text/html": [
       "<style>\n",
       "\t\t\t\t\t\t\t\t\t\t\t\t\t.grid-container {\n",
       "\t\t\t\t\t\t\t\t\t\t\t\t\t\tdisplay: inline-grid;\n",
       "\t\t\t\t\t\t\t\t\t\t\t\t\t\tgrid-template-columns: auto;\n",
       "\t\t\t\t\t\t\t\t\t\t\t\t\t}\n",
       "\t\t\t\t\t\t\t\t\t\t\t\t</style>\n",
       "\n",
       "\t\t\t\t\t\t\t\t\t\t\t\t<div><div class=\"grid-container\"><div class=\"grid-item\"><img alt=\"Output\" src=\"data:image/png;base64,iVBORw0KGgoAAAANSUhEUgAAACEAAABGCAIAAADNd2raAAAAz3pUWHRSYXcgcHJvZmlsZSB0eXBlIGV4aWYAAHjabU/RbUQhDPtnihshJMGBcXh3nNQNOv6ZB2pFVUskjnECSeP7650eE5oleYmKBgjhzZt2kioLK2dpd7yhO7M+9OTYeqdUfi8wtn6demy/1j+DRBex+QK5+W7Yg0yXnvuqr+3XXus5qMkByM/X/63dQlGQwxldJQKNvCZSJhSVEnjjCdCY8VLxJ/NABNsQ02F9Nk7oiNM9EozCa65g87h1ZmPMxo0Y/ebK6Fb14m27PXOdDw8IWommMv8hAAAACXBIWXMAAA7EAAAOxAGVKw4bAAAAPHRFWHRTb2Z0d2FyZQBDcmVhdGVkIHdpdGggdGhlIFdvbGZyYW0gTGFuZ3VhZ2UgOiB3d3cud29sZnJhbS5jb21coqaFAAAAIXRFWHRDcmVhdGlvbiBUaW1lADIwMjQ6MDM6MTAgMTQ6MTI6NDgIUV2MAAAB6ElEQVRYhe2WMa7iMBRF/UaRKECiiURDgewULIA2lJglQEcLBRUlEkKiSVZBF0tsABo3YREUJAU1RSREQeUpmO/PGCbjZDJfn8i3iBTn3XeS2IkvCCHQf5aVJEmSJDmctVrNtm2t0sVikQOAEBqNRkJPVqVS6XQ6m80mE2A6nVarVc1i63a7nc/nVquViXG5XK7Xq2bxj0yt86n0DMdxAIAxlqndS9cLhu/7ALBarTJ1T3GpDMYY51wI0Ww29QHpLpUxGAy2261+dx1X6deVYXwLRhzHAAAArusihIbDIQA4jpPeJd1lKdUY4xy7b7qrrPNhGH+WVa/X2+32er3OZLNtu9Fo6DIA4HA4LJfLrHenH2XgC7JoWeb83bLPZDKBD+33+88LzzHb8zyEUBAE96NmOKeUEkIeO4RheD9VGUEQUEqFEGEY6jPuxVEUyRFCyHg8fs1QbJoMz/PkQ0ivfEnFzDnnXO5IjDHXde+vOo5jVPi68n1/Pp+L379rdR/8F/X7fYTQ8XhUxot5DozxbrfDGMtEejqdCCEY48IY3W4XITSbzeQI57zX6/06KWRdCSEIIcr3IZeyyoii6Pk2H9dliiil0vI4bv7thmEYhvH2DJN9hBAm+2jIZJ+/ymSfolT6/+6bMX4CKk3pcj26ynAAAAAASUVORK5CYII=\"></div><div class=\"grid-item\"><img alt=\"Output\" src=\"data:image/png;base64,iVBORw0KGgoAAAANSUhEUgAAAEIAAABcCAIAAABV6vRUAAAA0HpUWHRSYXcgcHJvZmlsZSB0eXBlIGV4aWYAAHjabU/tbQUhDPvPFB0hJMGBcbh7PKkbdPyaA7WiqiUc43xA0vj6fKePCc2SvERFA4Tw5k07RZWFFbO0hx+47lw+/VTu7Xda5TeBsf3r9AMrav0zSPYLNl+gNt8Ne5Dp8nNf92vXa6/1HNTkAOTn6//e3UJRkMPJ3DMCjbomSgYUlRJ44wZYmPFS8ZtxIIJtiFlhfTZO6IizeiQYjddcweZx64xGzsaNyP5oJbtVvZhtT81c5xtStlq6iN31JQAAAAlwSFlzAAAOxAAADsQBlSsOGwAAADx0RVh0U29mdHdhcmUAQ3JlYXRlZCB3aXRoIHRoZSBXb2xmcmFtIExhbmd1YWdlIDogd3d3LndvbGZyYW0uY29tXKKmhQAAACF0RVh0Q3JlYXRpb24gVGltZQAyMDI0OjAzOjEwIDE0OjEyOjQ4CFFdjAAAAatJREFUeJztmDGKg0AYhTOLYGEgjWBjISaFB8gBPIalJ/AKIljlFCmFXCBVzpEmN0ghSIpUs90S3Kz4j8q+DO9r87/wfzDi+JTWevX5OG3btm1rkFyv177vz76QIWVZmgXzPNcwOK7r7vf70+kkciiKwvM8M/8lcJ7P5/1+j6JIFOu67vF4LLOSCV//vcA8UAOJPzV2u51Sqmka0d8ZpKSRt/NvNA6Hg1Kqruvxq5ilpJGB+b5G0zSXy0VrHYbh+IUMUtLI8HxfI8uy8/k8cpUpKWlkeN72R/yzoAYS1ICiLMsoin4u7rfb7ffMdrvt3e/TNH393hiZekUaGZ53ej/Ecazln7UGKWlkeN6SQ0UNJKiBhLPZbJIkOR6Popjv+0EQLLOSCY5S6nq9VlUlTUrLlEVRBm8JQCx5NqiBBAueySkWPH1Y8CBBDSSogYQlGquJvQtIwcOLOhLUQIIaSFADCWogQQ0kWPBMTrHg6cOCBwlqIEENJCzRYMGDhCWHihpIUAMJaiBBDSRs12AzslSEzcg42IzMAzWQoAYSlmiwGUHCkkNFDSQs0fgGRzaJbETd6ssAAAAASUVORK5CYII=\"></div><div class=\"grid-item\"><img alt=\"Output\" src=\"data:image/png;base64,iVBORw0KGgoAAAANSUhEUgAAAFkAAABcCAIAAACKpI5LAAAA0npUWHRSYXcgcHJvZmlsZSB0eXBlIGV4aWYAAHjabU9bbgQhDPvnFHuEkAQHjsPMslJv0OOvGWirqdYSsXEekDS+v17pMaFZkpeoaIAQ3rxpp6iysDhLu+KF0nYu3/1Uzu13WuUvgbH94+4HFmv9N0h0CZsvUJvvhj3IdPm5r/ux67XXeh/089UNyO/XP97dQlGQwxldJQKNuiZKEopKCbxwAizMeKr4SR6IYBtiVlifjRM64l49EozGc65g87h1sjFm40aMfmlldKt6MNuumrnOG15/WsIdTsniAAAACXBIWXMAAA7EAAAOxAGVKw4bAAAAPHRFWHRTb2Z0d2FyZQBDcmVhdGVkIHdpdGggdGhlIFdvbGZyYW0gTGFuZ3VhZ2UgOiB3d3cud29sZnJhbS5jb21coqaFAAAAIXRFWHRDcmVhdGlvbiBUaW1lADIwMjQ6MDM6MTAgMTQ6MTI6NDgIUV2MAAADwklEQVR4nO2csU7jQBCGd0+RKECiiUSTIvKmyAPQJqKK/QgpaaGgQlRIERKN/QK0VIklXiBO4SYRz0CBKagpIiEKKl/hw2PsJex6Z3Hubr4ChSie/fQrWWdnpPA0TRnBGGOstV6v1+t1jSv39vba7Ta6UJNMJpN6Fx4fH6f/Fq2dnZ3Dw8O7uzutIM7OznZ3d+uFuLW03t/fX15eut2u1mWvr69vb292lBrjV9MCWwRlAVAWwJdZ9Ho9znkYhibVT09P+Qer1apeEXMTRQ1JFkEQcM6vr69rr53hed5ischuV77vDwYD3ThQTNQ1ylmEYRjHcZqmnU7HxGC1WkVRtFgssn8vLi6EENPpVL0CiomWRjmL8Xg8n89rr51zf38vhHAcJ3dKkuTm5ka9AoqJloatvTOO416vlz0Ow3AwGMxmM8bY09OTpRXNNazfR4IguLy8TJs+AapotKwaeJ7HGHt8fLS6CpaGrfeF4zhRFDmOk3/mn5+fix/dn0FLw1YWw+GQMXZ+fp4/E8fxaDSytByKhq0sxuOxECJfNQiCKIqKTj+DnsZkMul2u/kZPkmS6muEEKWj/tHRkUr/wnXdvIhuN0HRRAVFjfLe6ThOirfnm3xBQDRR1KCzGUBZAJQFQFkAlAXQ2t/f7/f7t7e3Wpe12+2DgwM7So3R4pw/PDxcXV3pXqnbOt9+OOK3ib8d2i8AygKgLAB5Fii9fJQ6KCaqRaSnuvw46Ps+Y2y5XNY7HRrWQTFRL1LOYrlcMsaSJMmfEUKcnJzoGpjXQTHRKlLOwvf9Yo8gqyV9+2zGvA6KiVaR8rOu67qumz3O2ufZ32K0KpjXQTHRKvLlfQSrl29eB8Wk/kwAq5dvXgfFpOZMAKuXb14HxcRoJoDVyzevg2KiV6S6hQghSjdk3Y0Tqw6KiXoR+d3FpJePWwfFRLEIndkBOpsBlAVAWQCUBUBZAJQFQFkAlAVAWQCUBUBZADQTKCA91dFMIE1pJlCEZgIAzQQk0EzgDzQTYIxmAkVoJvAJmgl8gmYC/zt0NgMoC4CyACgLgLIAKAuAsgAoC4CyACgLwG4fXIrW799YMpE7SE8yKH3wKlm1vNf27ettmGxwsNUHrzKbzbLWY7bEt1nYMNnsYKsPvgHFLKyaSB3K+8WW/M5NIybW++Dm/JiJPAvP8+I41uo+e57HK5j76ZqYaKD1wefzefVjqSghpZ6JiYatPrg5DZhUU8Tqg3+F4n3EqonSPTUDqw9epN7v3+CabHagPjhAZzOAsgAoC4CyAH4DID7LLDX+sn0AAAAASUVORK5CYII=\"></div><div class=\"grid-item\"><img alt=\"Output\" src=\"data:image/png;base64,iVBORw0KGgoAAAANSUhEUgAAAEIAAABcCAIAAABV6vRUAAAA0HpUWHRSYXcgcHJvZmlsZSB0eXBlIGV4aWYAAHjabU/tbQUhDPvPFB0hJMGBcbh7PKkbdPyaA7WiqiUc43xA0vj6fKePCc2SvERFA4Tw5k07RZWFFbO0hx+47lw+/VTu7Xda5TeBsf3r9AMrav0zSPYLNl+gNt8Ne5Dp8nNf92vXa6/1HNTkAOTn6//e3UJRkMPJ3DMCjbomSgYUlRJ44wZYmPFS8ZtxIIJtiFlhfTZO6IizeiQYjddcweZx64xGzsaNyP5oJbtVvZhtT81c5xtStlq6iN31JQAAAAlwSFlzAAAOxAAADsQBlSsOGwAAADx0RVh0U29mdHdhcmUAQ3JlYXRlZCB3aXRoIHRoZSBXb2xmcmFtIExhbmd1YWdlIDogd3d3LndvbGZyYW0uY29tXKKmhQAAACF0RVh0Q3JlYXRpb24gVGltZQAyMDI0OjAzOjEwIDE0OjEyOjQ4CFFdjAAAAatJREFUeJztmDGKg0AYhTOLYGEgjWBjISaFB8gBPIalJ/AKIljlFCmFXCBVzpEmN0ghSIpUs90S3Kz4j8q+DO9r87/wfzDi+JTWevX5OG3btm1rkFyv177vz76QIWVZmgXzPNcwOK7r7vf70+kkciiKwvM8M/8lcJ7P5/1+j6JIFOu67vF4LLOSCV//vcA8UAOJPzV2u51Sqmka0d8ZpKSRt/NvNA6Hg1Kqruvxq5ilpJGB+b5G0zSXy0VrHYbh+IUMUtLI8HxfI8uy8/k8cpUpKWlkeN72R/yzoAYS1ICiLMsoin4u7rfb7ffMdrvt3e/TNH393hiZekUaGZ53ej/Ecazln7UGKWlkeN6SQ0UNJKiBhLPZbJIkOR6Popjv+0EQLLOSCY5S6nq9VlUlTUrLlEVRBm8JQCx5NqiBBAueySkWPH1Y8CBBDSSogYQlGquJvQtIwcOLOhLUQIIaSFADCWogQQ0kWPBMTrHg6cOCBwlqIEENJCzRYMGDhCWHihpIUAMJaiBBDSRs12AzslSEzcg42IzMAzWQoAYSlmiwGUHCkkNFDSQs0fgGRzaJbETd6ssAAAAASUVORK5CYII=\"></div><div class=\"grid-item\"><img alt=\"Output\" src=\"data:image/png;base64,iVBORw0KGgoAAAANSUhEUgAAAE8AAABcCAIAAACgFH/kAAAA0XpUWHRSYXcgcHJvZmlsZSB0eXBlIGV4aWYAAHjabU9bbgQhDPvnFHuEkAQHjsPMMlJv0OOvGVCrqWqJ2DgPSBrfX1d6TWiW5CUqGiCEN2/aKaosLM7S7njDr53LTz+Vc/udVvlNYGz/ePqBxVr/DBJdwuYL1Oa7YQ8yXX7u637seu21Pgc1eQDy8/V/726hKMjhjK4SgUZdEyUJRaUELpwACzPeKn6SByLYhpgV1mfjhI54Vo8Eo/GeK9g8bp1sjNm4EaPfWhndqh7MtrtmrvMBn0pa7sKfI1gAAAAJcEhZcwAADsQAAA7EAZUrDhsAAAA8dEVYdFNvZnR3YXJlAENyZWF0ZWQgd2l0aCB0aGUgV29sZnJhbSBMYW5ndWFnZSA6IHd3dy53b2xmcmFtLmNvbVyipoUAAAAhdEVYdENyZWF0aW9uIFRpbWUAMjAyNDowMzoxMCAxNDoxMjo0OAhRXYwAAAMpSURBVHic7ZqvzvIwFMY7sgQcFrmsCC4ACUi2GyDhFoZGkhAkXAUOEm4ADIhxEQgGCUEgEBMYDH3F8u0jMErbdYWU8xNvyOh5zp79ael5j0EIQT+DGYZhGIbZJSiVSoVCITt9Pvr9fqb6q9WKfA1mPp+vVquz2Uy6z9Pp1Gq1crmcdGVhzOv1ej6fLcvKQv14PN5utyyUxfiiC68AcKsLhmHsdrv7IxxuO52O8Y/1ei18Erw6svIihFC/37cs6+3c7TgOxjj6PBwOEUK+79ND9vs9elqBeHUE8lJgcuv7PkIoCIL4CMbY8zx61LNbXh2xvBSY3A6Hw/gCxyeBEKJHPbvl1RHLO5lM4ifXcZz7r5je2+VyWS6Xo8/T6bRer0eKD3OAdB2xvO12mxDieV4QBLZt33/FNyePRqNer0dSbyR4dWTlNdmHuq6LENputylT8urIyosY761t24vFwrbt+XweHTkcDhjjh+dEuo6svDFMbhuNBkKo2+3GR5bLZbPZ5E3GqyMr738Y11uM8cO6d78wJJK43vLqCOSNiGaph+WK1S0hxHGc+BqxjE90K6CTZvxDIMcsFb88KeHVkThe513BM+BWX8CtvpjFYrFSqYzHY+nSl8ulVquZJse0nzWmYRibzWYwGGSV4JvcGuSX/jPyW+8tuOXhuYr5zXzg3iqosL4MYdlVSERBhZUSotStggorPUTQLaWKSUFBhZUekureJtYHKDiOE1+a6HpFf1+VI3jHvw35zAqkoMKaGJLws8513cVi8XCQKxMdBRXWVyEJ93Y+nz8/IeyZKCiosNJDlD7JCiqsb0IYJ5hEeGcpoqTCSgkRdEupYnLFZjGeEgI7Pn0Bt/oCbvUF3OoLuNUXcKsLP9/Dyr6rkNJL+uEeVpZBsnpJP9/DyjJIrJc0vY70HlbW/TRvpVOKTpq8iXUV6GF9AfSwQg+rPB35PayME4xwL2lKHck9rOwnKlDplKIjsYcVKqz6Am71BdzqC7jVF3CrL9DVmTHQ1SltPD0EujoZgK7O90BXZybjX4VAVyd0dUoBujqhqzPdeEoI1Bz1Bdzqy2+5/QOPiRUGAAsqswAAAABJRU5ErkJggg==\"></div></div></div>"
      ],
      "text/plain": [
       "Item[1, Frame -> True]   1\n",
       "\n",
       "1                        0\n",
       "\n",
       "1                        0\n",
       "Item[1, Frame -> True]   1   1   1\n",
       "\n",
       "1                        1   1   1\n",
       "\n",
       "1                        1   1   1\n",
       "\n",
       "1                        1   1   1\n",
       "Item[1, Frame -> True]   0    1   0\n",
       "\n",
       "0                        0    0   0\n",
       "\n",
       "0                        0    0   0\n",
       "\n",
       "0                        -1   0   -1\n",
       "Item[1, Frame -> True]   1   1   1\n",
       "\n",
       "1                        1   1   1\n",
       "\n",
       "1                        1   1   1\n",
       "\n",
       "1                        1   1   1\n",
       "Item[0, Frame -> True]   0   0   I\n",
       "\n",
       "-I                       0   0   0\n",
       "\n",
       "0                        0   0   I\n",
       "\n",
       "-I                       0   0   0"
      ]
     },
     "metadata": {},
     "output_type": "display_data"
    }
   ],
   "source": [
    "splarr[{0 -> 1, 1 -> 1, I -> 1, 2I -> 1}]\n",
    "\n",
    "splarr[{0 -> 1, 1 -> 1, I -> 1, 2I -> 1}] ** splarr[{0 -> 1, 1 + 3I -> -1, 2 -> 1, 3 + 3I -> -1}]\n",
    "splarr[{0 -> 1, 1 + 3I -> -1, 2 -> 1, 3 + 3I -> -1}]\n",
    "\n",
    "splarr[{0 -> 1, 1 -> 1, I -> 1, 2I -> 1}] ** splarr[{I -> -I, 3 -> I, 3I -> -I, 3 + 2I -> I}]\n",
    "splarr[{I -> -I, 3 -> I, 3I -> -I, 3 + 2I -> I}]"
   ]
  },
  {
   "cell_type": "code",
   "execution_count": 142,
   "metadata": {
    "vscode": {
     "languageId": "wolfram"
    }
   },
   "outputs": [],
   "source": [
    "Unprotect[CircleTimes];\n",
    "CircleTimes[splarr[ruleLi1_List], splarr[ruleLi2_List]] := Sum[Sum[splarr[{ First[rule1] First[rule2] -> Last[rule1] Last[rule2] }], {rule1, ruleLi1}], {rule2, ruleLi2}]\n",
    "SetAttributes[CircleTimes, { Flat, Listable, NumericFunction, OneIdentity, Orderless, Protected }]\n",
    "Unprotect[CircleTimes];"
   ]
  },
  {
   "cell_type": "code",
   "execution_count": 146,
   "metadata": {
    "vscode": {
     "languageId": "wolfram"
    }
   },
   "outputs": [
    {
     "data": {
      "text/html": [
       "<div><img alt=\"Output\" src=\"data:image/png;base64,iVBORw0KGgoAAAANSUhEUgAAACEAAAAvCAIAAADijDRIAAAA0XpUWHRSYXcgcHJvZmlsZSB0eXBlIGV4aWYAAHjabY9rjsMwCIT/+xR7BAz2YB/HaR2pN+jxd/zQrlx1pMDwBUgI/f26w8+QRgkpe0EFhEo1VW00RZZWjlJnnNKdWR886L15I8r/L9A3v07u2AvLxyLRZWx8gd7SHtiLTBePbdXX7tdWyrmoyiHI369/rZO5IiN6Ykwq7qj0JdAyIatkx40HwMaIp0p6MHe4cww+OqyNwSHtfnb3ACN4jhNsPMkaszFG40WMNkmcxPSir5OMc34BTXZarMXuxpIAAAAJcEhZcwAADsQAAA7EAZUrDhsAAAA8dEVYdFNvZnR3YXJlAENyZWF0ZWQgd2l0aCB0aGUgV29sZnJhbSBMYW5ndWFnZSA6IHd3dy53b2xmcmFtLmNvbVyipoUAAAAhdEVYdENyZWF0aW9uIFRpbWUAMjAyNDowMzoxMCAxMzowMToxMwiGyJEAAAHPSURBVFiF7Ze/6uowFMdPfggOCi6Ci0PJ6eADuNZR8gjt5uzgJE6CCC7mBVydNOALmA6Zis/g0HZwdiiIg1PuILcI92d/afjdP3j9Tk3IN5+mJzk5JVpr+M2qGI7LsizLMgtAvV4HbabZbGYBAIDBYGC6jmq12u12d7tdKcBoNKrVaqaM2+12Pp8dxynFuFwu1+v1o5THTi/JcF2XECKEMDQPh0PyU1EUfcHgnBNCFouF+dsxxsIwvO/s5XLped4zzAcACCGUUlrrdrttCIiiSEoZhuG9OZlMEHGz2Txl+L6/3+/NVwAAh8MBESmlOTJJktVq9ZRhIaWU67r3ZyGE53nb7RYA0jT9NkYuzvl0Oi1OrKbn/FMxxgAgjuPiYZbroJRKKSmleSBPp9NjhL6B0ev1AGA8Huc9Sql+v//pYEuG7/uImE/KOZdSPiIfVQGANE0RMe8KgiAIAkQs/tBxHDPGCCH3ZkHYKwBAKbW7cQ1P1Uvm3TejUKa5pNFodDqd9XpdavZms9lqtUwZhJDj8Tifz0sxAMBxHPIHatFXifk/X/sYWuxrH3OLZe1TymJZ+5SyvOS+ejP+OgO01kmS/NqPiAW/0qUs79z+/zF+ALqbG4hYhjtIAAAAAElFTkSuQmCC\"></div>"
      ],
      "text/plain": [
       "1   Item[0, Frame -> True]\n",
       "\n",
       "1   1"
      ]
     },
     "execution_count": 146,
     "metadata": {
      "text/html": [],
      "text/plain": []
     },
     "output_type": "execute_result"
    }
   ],
   "source": [
    "CircleTimes[splarr[{1 -> 1, 1 + I -> 1, I -> 1}], splarr[{I -> 1}]]"
   ]
  },
  {
   "cell_type": "code",
   "execution_count": 147,
   "metadata": {
    "vscode": {
     "languageId": "wolfram"
    }
   },
   "outputs": [
    {
     "data": {
      "text/html": [
       "<div><img alt=\"Output\" src=\"data:image/png;base64,iVBORw0KGgoAAAANSUhEUgAAAC4AAABCCAIAAACn7XNBAAAAz3pUWHRSYXcgcHJvZmlsZSB0eXBlIGV4aWYAAHjabU/tbUQhDPvPFDcC+cCBcXh3nNQNOv4ZHmpFVUskxkkMSeP7650eEyo5eYmKBmTCmzftJDXfuLPktuKCjl2TU0+uW++Uym8Be0CuUw9sw/rHKG8jmy+Qm++BbWR669Lv+7X7tdd6GrV8APnn6//e3UJRIOGMXCcCjbwmUiYUzSXwxhNgo+Cl2Z/MAxEcQ8wO63NwQkec3SPBKLzmCjaPW2c2RjFuxGhLkaW4XuRtKXOdD1VcWq9YXWgUAAAACXBIWXMAAA7EAAAOxAGVKw4bAAAAPHRFWHRTb2Z0d2FyZQBDcmVhdGVkIHdpdGggdGhlIFdvbGZyYW0gTGFuZ3VhZ2UgOiB3d3cud29sZnJhbS5jb21coqaFAAAAIXRFWHRDcmVhdGlvbiBUaW1lADIwMjQ6MDM6MTAgMTM6MDE6MTSW4l0yAAACIklEQVRoge2ZMY6yQBiGP8wmFhZaUliQGYwewBZjpRyB0trCyliZYGEjF/AGSuIFhIKKeAcSMcTazlhYzRb+P2t2Z/Fj1l0p5qmUzDvzBIdhPkdhjEExKL1a4IOiqui6riiK67r4vEDku9Q/FcdxFEWZz+f47gQi2akSALiuGwQBY6xeryN7FIg8TJUAwLKs7XaL71Es8jBV1Gn7WqQKD6nChTEWx/HX65RS9j0CkYcpRb6ZOUgVHlKFxxuyXZIkSZIIDKCqaqvVQjXNXglSbNsW8ACAwWCAHAJ7V8rlcrvd3mw2uTxGo1GlUkE2xqpcr9fT6aRpWi6V8/l8uVyQjQs0baUKjx/VQcPhUPlPGIb4UZ9cB5mm6fv+7TlcLBaGYWBsnl8HhWHoeZ7v+7evk8mEUrparbJTv1IH7XY7SikhJDWL43i5XGanfqUOCoJA1/XbZ9d1DcNYr9cAcDgcxDoUV0lxHGc6nT5lK4hdbbmYpgkA+/3+5x4gfFcIIZ7nEULS3/54PN7Pnr9T6XQ6ADAej9MrQRD0ej1hD3EVy7IopenYjuN4nndvJgKyqLFtW9O0TzuMfr9/389Xut3u/X4le6A3ACCEiD0CeVej7IGK+jp8LVKFR4FUsAt/rVZrNpuz2SxX79VqVVXVJ6sAQBRFURTlUgGARqOBbCn/X+EhVXjIQxh5CINNFXXavhapwkOqcEEWH5+QhzB/hVThUSCVdwsoNbZ1KBG6AAAAAElFTkSuQmCC\"></div>"
      ],
      "text/plain": [
       "1   1                        1\n",
       "\n",
       "1   Item[0, Frame -> True]   1\n",
       "\n",
       "1   1                        1"
      ]
     },
     "execution_count": 147,
     "metadata": {
      "text/html": [],
      "text/plain": []
     },
     "output_type": "execute_result"
    }
   ],
   "source": [
    "CircleTimes[splarr[{1 -> 1, 1 + I -> 1}], splarr[{1 -> 1, I -> 1, -1 -> 1, -I -> 1}]]"
   ]
  },
  {
   "cell_type": "code",
   "execution_count": 156,
   "metadata": {
    "vscode": {
     "languageId": "wolfram"
    }
   },
   "outputs": [
    {
     "data": {
      "text/html": [
       "<div><img alt=\"Output\" src=\"data:image/png;base64,iVBORw0KGgoAAAANSUhEUgAAACEAAABGCAIAAADNd2raAAAAznpUWHRSYXcgcHJvZmlsZSB0eXBlIGV4aWYAAHjabU/RbUQhDPtnihshJMGBcXh3nNQNOv6ZB2pFVUskjnECSeP7650eE5oleYmKBgjhzZt2kioLK2dpd7yhO7M+9OTYeqdUfi8wtn6demy/1j+DRBex+QK5+W7Yg0yXnvuqr+3XXus5qMkByM/X/63dQlGQwxldJQKNvCZSJhSVEnjjCdCY8VLxJ/NABNsQ02F9Nk7oiNM9EozCa65g87h1ZmPMxo0YF487Qi/ettsz1/kADwRaiDOw9/kAAAAJcEhZcwAADsQAAA7EAZUrDhsAAAA8dEVYdFNvZnR3YXJlAENyZWF0ZWQgd2l0aCB0aGUgV29sZnJhbSBMYW5ndWFnZSA6IHd3dy53b2xmcmFtLmNvbVyipoUAAAAhdEVYdENyZWF0aW9uIFRpbWUAMjAyNDowMzoxMCAxMzoxNzoxNmDnSnIAAAIWSURBVFiF7VaxzqowGP16Q+KgiQuJKwEGH8AV4yQ8hqsOTo4mxBFfwNWtJL6AOrBAfAYHcHB2IDEOTt6B3Ma/lNryewdNzwT1O5x+9PB50OPxgP8MLc/zPM9rMFutlq7rQqW+79cQAIDRaPQQg9ZoNHq93mazkRKYTqfNZlOwWLvf75fLxTAMKY3r9Xq73QSL/0g9uh6+W2MymaB/SJJE8FlVLIaG53n7/b6wXRAEjuOIyPBYvu8bhkG8HMcxAGRZRlYsyxqPx5TlB4PB8/fBZ9F9HA4Hy7JM0yxukyTJsmy1WvGb4LNojSiKbNsursMwdBwHYwwAp9OJo8FnVfpquVzO53PZiclkacxSz/MAIE1TKYEqFt2HaZq73c40ze12W6ycz+fnd80En0Vr9Pt9AJjNZmQliqLhcMjv4AWL8m5hO8uyiNPhpymZ3uWzGOeRpqnneQih4lbw2Dks9pmT1yqFKtZ3z12lwYLWbre73e56vZai6bre6XRENRBCx+NxsVjI7k48yiDZyVoD33Lmn5Z9AMC2bYRQGIY/Vssx23VdakrHcVwuo1BUFn/jGOPnn2gNwexDAWPsui6hv9AIgoA0QTjMdplgarwn+/Dx5uzDxDuzTxXek33kNOplnxcoe0Mk+0j5im1K13U5mygjy7Ly7slG1WxXGkpDaXy2hso+Kvv8Dir7SKDsDZV9KvDdc/fzNP4CNZTR6UQN8/EAAAAASUVORK5CYII=\"></div>"
      ],
      "text/plain": [
       "Item[0, Frame -> True]   0\n",
       "\n",
       "0                        1\n",
       "\n",
       "0                        1"
      ]
     },
     "execution_count": 156,
     "metadata": {
      "text/html": [],
      "text/plain": []
     },
     "output_type": "execute_result"
    }
   ],
   "source": [
    "Times[splarr[{1 -> 1, 1 + I -> 1}], splarr[{I -> 1}]]"
   ]
  },
  {
   "cell_type": "code",
   "execution_count": 155,
   "metadata": {
    "vscode": {
     "languageId": "wolfram"
    }
   },
   "outputs": [
    {
     "data": {
      "text/html": [
       "<div><img alt=\"Output\" src=\"data:image/png;base64,iVBORw0KGgoAAAANSUhEUgAAACEAAAAvCAIAAADijDRIAAAAzXpUWHRSYXcgcHJvZmlsZSB0eXBlIGV4aWYAAHjabU9RbsUgDPvnFDtCSIIDx6HvUWk32PFnCtrENEu1HTdJmzS+Pu/0MaFZkpeoaIAQ3rxpp6mysDRLe/iBbmV95EnvnXdG5fcFxs6vMw/shfXPItFlbH6B3nwP7EWmK8991dfu117ruajJAcjPr/9bu4WiIIeTXSUCjb4mWgqKSgnceAFszHir+Is6EMExxOywPgcndMTZPRKMwXueYPNx61QjZ+NF5OVj5XqR2+PnOd9OAFqy2zR6XgAAAAlwSFlzAAAOxAAADsQBlSsOGwAAADx0RVh0U29mdHdhcmUAQ3JlYXRlZCB3aXRoIHRoZSBXb2xmcmFtIExhbmd1YWdlIDogd3d3LndvbGZyYW0uY29tXKKmhQAAACF0RVh0Q3JlYXRpb24gVGltZQAyMDI0OjAzOjEwIDEzOjE3OjAzCZaPvAAAAdlJREFUWIXtlrGq4kAUhv8JCxYKNoKNxTBJ4QPYRqwkj2CZVgsrS0EEG/MCtnYO+AJqMY3BZ7DIWFhbBMTCarbQzb133fWeEfZecP27DPnmy2TOHIYZY/CP84P4XpqmaZo+ICgUCjC0DAaDBwQAwjCkriOXy9Vqtfl8biXodrv5fJ7qOJ/Ph8OBc27lOB6Pp9PJsWIey/M5Op0O+5U4jikwEbk6giBYrVaXMh2Px77vf6qxQIwx6/UagNY6Ow2u67bb7d/OB+c8e6QgxphGoxGGoQNgs9m4riuEuFjjONZaTyaTO4uwQhwASinP8y7PUkrf92ezGYDdbvc3hxXyoa6iKOr3+1ZdkoK8nfMgCAAkSUIXEBEHgBBiuVwKIRaLxWV0v9+//923sUIcAPV6HUCv18tGlVLNZvPOp9khWeW5rpsVOz7W5W3tUpCsdq/7kSRJEASMsUx8ZxG2yNueZ3+WHiLyfH335fgs1DtDsVisVqvT6dRq9lKpVC6XqQ7G2Ha7HQ6HVg4AnHNm1WUfy7Ps+Zc7PM9jjEkp6TwFuTqiKGKMjUYj+ux0xAEgpVRKGWMqlQpRYIU4AFqtlm1jt0Kesq5ejm93wBijtb4dz+5Of4wV8urt/5/jJxbywrWuILoQAAAAAElFTkSuQmCC\"></div>"
      ],
      "text/plain": [
       "0   Item[0, Frame -> True]\n",
       "\n",
       "1   1"
      ]
     },
     "execution_count": 155,
     "metadata": {
      "text/html": [],
      "text/plain": []
     },
     "output_type": "execute_result"
    }
   ],
   "source": [
    "CircleTimes[splarr[{1 -> 1, 1 + I -> 1}], splarr[{I -> 1}]]"
   ]
  },
  {
   "cell_type": "code",
   "execution_count": null,
   "metadata": {
    "vscode": {
     "languageId": "wolfram"
    }
   },
   "outputs": [],
   "source": [
    "\n"
   ]
  }
 ],
 "metadata": {
  "kernelspec": {
   "display_name": "Wolfram Language 14",
   "language": "Wolfram Language",
   "name": "wolframlanguage14"
  },
  "language_info": {
   "codemirror_mode": "mathematica",
   "file_extension": ".m",
   "mimetype": "application/vnd.wolfram.m",
   "name": "Wolfram Language",
   "pygments_lexer": "mathematica",
   "version": "12.0"
  }
 },
 "nbformat": 4,
 "nbformat_minor": 2
}
