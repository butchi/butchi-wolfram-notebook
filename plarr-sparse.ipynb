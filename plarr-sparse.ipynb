{
 "cells": [
  {
   "cell_type": "markdown",
   "metadata": {},
   "source": [
    "# Sparse Plane Array\n",
    "\n",
    "疎な平配"
   ]
  },
  {
   "cell_type": "code",
   "execution_count": 2,
   "metadata": {
    "vscode": {
     "languageId": "wolfram"
    }
   },
   "outputs": [],
   "source": [
    "Format[splarr[ruleLi_List]] := \n",
    "  With[\n",
    "    {\n",
    "      minPos = Min[#, 0] & /@ Min /@ Transpose[First /@ ruleLi], \n",
    "      maxPos = Max[#, 0] & /@ Max /@ Transpose[First /@ ruleLi]\n",
    "    }, \n",
    "    With[{\n",
    "      tbl = PadRight[\n",
    "        Normal[\n",
    "          SparseArray[(1 - minPos + #[[1]]) -> #[[2]] & /@ ruleLi]\n",
    "        ], maxPos + 1 - minPos\n",
    "      ]}, \n",
    "      Grid[\n",
    "        Transpose[\n",
    "          ReplacePart[tbl, \n",
    "            1 - minPos -> Item[\n",
    "              Extract[tbl, 1 - minPos], Frame -> True\n",
    "            ]\n",
    "          ]\n",
    "        ]\n",
    "      ]\n",
    "    ]\n",
    "  ]"
   ]
  },
  {
   "cell_type": "code",
   "execution_count": 3,
   "metadata": {
    "vscode": {
     "languageId": "wolfram"
    }
   },
   "outputs": [],
   "source": [
    "normal[splarr[{ruleSeq__Rule}]] := \n",
    "    splarr[Normal[Map[Plus @@ (Last /@ #) &, GroupBy[{ruleSeq}, First]]]]"
   ]
  },
  {
   "cell_type": "code",
   "execution_count": 4,
   "metadata": {
    "vscode": {
     "languageId": "wolfram"
    }
   },
   "outputs": [],
   "source": [
    "Unprotect[Plus];\n",
    "Plus[splarr[ruleLi1_List], splarr[ruleLi2_List]] := \n",
    "    normal[splarr[Join[ruleLi1, ruleLi2]]]\n",
    "Plus[sa1_splarr, b_] := Plus[sa1, splarr[{{0, 0} -> b}]]\n",
    "Protect[Plus];"
   ]
  },
  {
   "cell_type": "code",
   "execution_count": 8,
   "metadata": {
    "vscode": {
     "languageId": "wolfram"
    }
   },
   "outputs": [],
   "source": [
    "convApply[f_, li_List, val_] := f[#, val] & /@ li\n",
    "convApply[f_, li1_List, li2_List] := convApply[f, li1, #] & /@ li2\n",
    "\n",
    "Unprotect[Times];\n",
    "Times[splarr[ruleLi1_List], splarr[ruleLi2_List]] := \n",
    "    normal[splarr[\n",
    "        Join @@ convApply[\n",
    "            (#1[[1]] + #2[[1]]) -> (#1[[2]] #2[[2]]) &, ruleLi1, ruleLi2\n",
    "        ]\n",
    "    ]]\n",
    "Times[sa1_splarr, b_] := Times[sa1, splarr[{{0, 0} -> b}]]\n",
    "Protect[Times];"
   ]
  },
  {
   "cell_type": "code",
   "execution_count": 14,
   "metadata": {
    "vscode": {
     "languageId": "wolfram"
    }
   },
   "outputs": [],
   "source": [
    "Unprotect[Power];\n",
    "Power[a_splarr, b_?Positive] := normal[Fold[Times, Table[a, b]]]\n",
    "Protect[Power];"
   ]
  },
  {
   "cell_type": "code",
   "execution_count": 22,
   "metadata": {
    "vscode": {
     "languageId": "wolfram"
    }
   },
   "outputs": [
    {
     "data": {
      "text/html": [
       "<div><img alt=\"Output\" src=\"data:image/png;base64,iVBORw0KGgoAAAANSUhEUgAAAEsAAABcCAIAAACp/9+eAAAA0HpUWHRSYXcgcHJvZmlsZSB0eXBlIGV4aWYAAHjabY/rjQMhDIT/U8WVYGwzhnLYDZGugyv/bECJiDIS9vD5sUsaf7/P9BPiTEmLVTSAXNq0cXdTaWnlTG3GKb12LZ88lXvz7qi8CxibXyc3rMz1YxHxMhJfcC+6B/Yi4cVzX/dr93Ov9VzU6BDo9etf7yrGKMimHpXJDM19TW49oTAVwxM34I0ZDya9PQ+Y+RgsOqTHYIiHnd0jQRw84gkSR6V7lhkbB8nu8+RFKl/BZzWe8w+afFrzG6vPmAAAAAlwSFlzAAAOxAAADsQBlSsOGwAAADx0RVh0U29mdHdhcmUAQ3JlYXRlZCB3aXRoIHRoZSBXb2xmcmFtIExhbmd1YWdlIDogd3d3LndvbGZyYW0uY29tXKKmhQAAACF0RVh0Q3JlYXRpb24gVGltZQAyMDI0OjAzOjA5IDIxOjE0OjU41Q3vXwAAA+pJREFUeJztm79O6zAUxu1LJEZeoEMVZ+ABGFtG3BdAyiuUGXVCqpC6JA8AKxONBA/QdMhAKp6BIaEIMTAwdGBh8h2sm5vbpm78p27c699Qqc05J/6c2NgfCSSEgL3GWSwWi8VCed1Wq+U4jvKyIgyHw22Unc/npBk4h4eHJycnDw8PqrR9fn6en5+rqiaP8/Pz8/X11W63FRb9+PhQWE2SX7tuwNaxCs1nrULP8yCEURStHoqiCELoeR7XmS4uLuAfZrOZ8vh1za5QGIYhhHA0GlWWgBA+PT1hjGuektLr9abTKZ2+gyDodrvsRvPGM5q9rDCKoiRJCCGtVmu1iud5aZre3NzUEPWX2WwWx/F0OqVfB4MBQuj+/l5VPLvZywp9359MJusKZVnW6XQYZ6rk+fkZIeS6biEgz/Pb21tV8exm65hpkiQpBm0URd1udzweAwBeX1+VxLPROpeGYXh1dUVqr/V54yvRtzju9XoAgCzLthS/Dh3X0HXdOI5d1y2Gyvv7e3mkScaz0aHw9PQUAHB5eVn8kiTJ2dmZqng2OhT6vo8QKpoYhmEcx2UBkvEbGA6H7Xa72E3leb4agxCiR/v9/urR8Xhc3o/N53NQtT8sLxLq7Ou44hnNXlYozzqFu+I/XnnvDVah+ey/Qufo6Oj4+Pju7k5Vxe/v706nAyFUVVASB0L48vJyfX2ttu7BwYHagsJAsu+u/v6PQ6vQfDYopAbWErw+IkWDm1idwruQRQj1+33eLIxxsUEJggAAkKapwnhGCp9C6ghtPNkSaZoCAPI8L35hdxNvPDuFTyHGGGPMlUIICYKg6N2iNYzbhzeencKhkKbxXkDyb7/Qu4B+lrtcJp6dwjGXjkYjhJCAI1ygwU1cTanrJlKnnXaMGBrcxMqUuteQXkDf9+ufr0CDm8hKqTOQqM8TBEHdkfcvq6MIY8yYG3nj2Sm1FFKLrU7kOhBCS3+sGNOGQDwjZXO76RQqfAELtuomMlLs7sl8rELzsQrNxyo0H6vQfKxC86mlUOwxQcki+txEAWNPvog+N1HA2JMvotVNFDD25ItodRMFjD35IrtxE5U8JthcN1HJY4INdROVPCbYaDdRwNiTL6LbTRQw9uSLaHUTiZCxJ1/Euol1sStv87EKzccqNB+r0HysQvPZrJC+WVtG7D3A5nptCCEl/8RvqNdGVChstNdGVChstNdGCEEIle/1jfGrNN1ry7KsXEh4pgFN9toKJpMJhPDx8XEwGHAlgsZ6bZW8vb1xxe/Wa+NTSO9P+p5ufTS8B8xK4ZozAAACT0GThntt5a5aeuWXC+u1bQu78jYfq9B8fgMSwXu/RdAHJwAAAABJRU5ErkJggg==\"></div>"
      ],
      "text/plain": [
       "Item[11, Frame -> True]   0   0   1\n",
       "\n",
       "7                         0   0   0\n",
       "\n",
       "0                         0   0   0\n",
       "\n",
       "5                         0   0   0"
      ]
     },
     "execution_count": 22,
     "metadata": {
      "text/html": [],
      "text/plain": []
     },
     "output_type": "execute_result"
    }
   ],
   "source": [
    "splarr[{\n",
    "    {0, 0} -> 3,\n",
    "    {0, 1} -> 7\n",
    "}] + splarr[{\n",
    "    {0, 0} -> 8,\n",
    "    {3, 0} -> 1,\n",
    "    {0, 3} -> 5\n",
    "}]"
   ]
  },
  {
   "cell_type": "code",
   "execution_count": 18,
   "metadata": {
    "vscode": {
     "languageId": "wolfram"
    }
   },
   "outputs": [
    {
     "data": {
      "text/html": [
       "<div><img alt=\"Output\" src=\"data:image/png;base64,iVBORw0KGgoAAAANSUhEUgAAAC4AAAAvCAIAAAATh2/FAAAAz3pUWHRSYXcgcHJvZmlsZSB0eXBlIGV4aWYAAHjabY/rjQMhDIT/U8WV4AeMoRw2YaV0kPLPBnQnooyEPXx+7JLG+3Wnn5AwpVysogHkyi036W4qLa3M1GackrFrfPIk9+bdUfkvYA/wdXLDXlg/FpEso/EF95r3wF6ksjj3db92v/Raz0WNDoH+fv3rPasJCtiyxyxkhua+JreeUISK4cYD8EbGUyg/PA+Y+RgsOrTHYEiGnd0jQR084wkaJ2v3rDM2CcLuecbi5Ao+q/GcX5u+WvJ+FSVnAAAACXBIWXMAAA7EAAAOxAGVKw4bAAAAPHRFWHRTb2Z0d2FyZQBDcmVhdGVkIHdpdGggdGhlIFdvbGZyYW0gTGFuZ3VhZ2UgOiB3d3cud29sZnJhbS5jb21coqaFAAAAIXRFWHRDcmVhdGlvbiBUaW1lADIwMjQ6MDM6MDkgMjE6MTE6NTmV1C/7AAACaUlEQVRYhe2YMa6qQBSGD+YmFprYkJgYC8JQuABLMFbCEiitLayMNibGhAZWYSUkbkAoaCCuwcKhsLYgMRZW8wru5fEM4Q7gUwr/yhnnzPkYhuE/MIQQqIa+KMeFYRiGYYEEzWaTZVmqoYROq9WqAAcAjMdjyhS0q1Kv1/v9/m63y8UxnU4bjQblYFqU+/1+uVw4jsuFcr1eb7cb5eBarqn/qz4oafoHRRAEhmEsy6KJDIKASShX1tRE3yiGYTAMo2ka5VxBECCEPM+LnkOEkCAINIEZiWoAYFmW67qEkG63S4nC8zwhRBTFqKlpGsbY9/3sqOxENQBQVXW/31NCpIryGrITPWfbHg4HAOh0OmUmeQJKEASLxUKWZZ7n34yCEAKAkrf4CSjRg4MxLjlPWRRBEDDGGOOSt6YsiqIoGGPP857CAQBACEldXoTQg1/hOC5uep73awghZDgcJv1KdqIv+Dmvcl2AKIoFnGh2oqq+Dt+rD0qaKoRCa7NbrVav19tsNrlmZ1m23W4/GYVhmOPxuF6vc6EAAH2RwFSnUK3QXvmgpKl48VE4ZDKZxCVL0pkXLD6KhQCAoiiO40SvYl3XJUmKaQoWHwVCAMD3fdu2HceJmvP5HCG03W6//07ai8iFmKZJ+UUkb4iu60lPE5ueqPnSbeu6blxEWpYlSZJpmgAQBAG86wkyDGO5XD6crrQH/xOlKAoAnE6nh/6XrgrP87Zt8zwfF03n8xkhFBn1l6IMBgMAmM1mcY/ruqPRKPr9UhRVVRFCcW7DMGzb/kv2a02QqgIhsWRZjkOS/R+TkKYPSpoqhPIHNQs/qPomEwIAAAAASUVORK5CYII=\"></div>"
      ],
      "text/plain": [
       "1   Item[2, Frame -> True]   1\n",
       "\n",
       "1   1                        0"
      ]
     },
     "execution_count": 18,
     "metadata": {
      "text/html": [],
      "text/plain": []
     },
     "output_type": "execute_result"
    }
   ],
   "source": [
    "splarr[{\n",
    "    {0, 0} -> 1,\n",
    "    {1, 0} -> 1,\n",
    "    {0, 1} -> 1\n",
    "}] splarr[{\n",
    "    {0, 0} -> 1,\n",
    "    {-1, 0} -> 1\n",
    "}]"
   ]
  },
  {
   "cell_type": "code",
   "execution_count": null,
   "metadata": {
    "vscode": {
     "languageId": "wolfram"
    }
   },
   "outputs": [],
   "source": []
  }
 ],
 "metadata": {
  "kernelspec": {
   "display_name": "Wolfram Language 14",
   "language": "Wolfram Language",
   "name": "wolframlanguage14"
  },
  "language_info": {
   "codemirror_mode": "mathematica",
   "file_extension": ".m",
   "mimetype": "application/vnd.wolfram.m",
   "name": "Wolfram Language",
   "pygments_lexer": "mathematica",
   "version": "12.0"
  }
 },
 "nbformat": 4,
 "nbformat_minor": 2
}
