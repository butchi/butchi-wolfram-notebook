{
 "cells": [
  {
   "attachments": {},
   "cell_type": "markdown",
   "metadata": {},
   "source": [
    "# 97分の1などに関するハルヒ小数\n",
    "\n",
    "divide-97-haruhi-fraction\n",
    "\n",
    "[オンライン数学デー20230208](https://miro.com/welcomeonboard/RnZVSnpGN3d0Qld3bXRrbk91MTNIWWV1dmdITUN3SnllQnZxcXZqTjR6d0o3aGhvdWlqTGZuRk1DUjBEM0F6SnwzMDc0NDU3MzQ3MzE4NzE2NTk2fDI=?share_link_id=719921673428)"
   ]
  },
  {
   "cell_type": "code",
   "execution_count": null,
   "metadata": {
    "vscode": {
     "languageId": "wolfram"
    }
   },
   "outputs": [
    {
     "data": {
      "text/html": [
       "<div><img alt=\"Output\" src=\"data:image/png;base64,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\"></div>"
      ],
      "text/plain": [
       "1   2   3   4   5   6   7   8   9   10   11   12   13   14   15   16   17   18   19\n",
       " \n",
       ">       20   21   22   23   24   25   26   27   28   29   30   31   32   33   34   35\n",
       " \n",
       ">       36   37   38   39   40   41   42   43   44   45   46   47   48   49   50   51\n",
       " \n",
       ">       52   53   54   55   56   57   58   59   60   61   62   63   64   65   66   67\n",
       " \n",
       ">       68   69   70   71   72   73   74   75   76   77   78   79   80   81   82   83\n",
       " \n",
       ">       84   85   86   87   88   89   90   91   92   93   94   95   96   97   98   99\n",
       "\n",
       "0   0   1   0   0   1   6   0   1   0    2    1    6    6    1    0    16   1    18\n",
       " \n",
       ">    0    6    2    22   1    0    6    3    6    28   1    15   0    2    16   6\n",
       " \n",
       ">    1    3    18   6    0    5    6    21   2    1    22   46   1    42   0    16\n",
       " \n",
       ">    6    13   3    2    6    18   28   58   1    60   15   6    0    6    2    33\n",
       " \n",
       ">       16   22   6    35   1    8    3    1    18   6    6    13   0    9    5    41\n",
       " \n",
       ">       6    16   21   28   2    44   1    6    22   15   46   18   1    96   42   2"
      ]
     },
     "metadata": {},
     "output_type": "display_data"
    }
   ],
   "source": [
    "Grid[Transpose[Table[{n, Length[RealDigits[1 / n][[1, -1]]]}, {n, 99}]]]"
   ]
  },
  {
   "attachments": {},
   "cell_type": "markdown",
   "metadata": {},
   "source": [
    "1/69は99とかかわりがありそう"
   ]
  },
  {
   "cell_type": "code",
   "execution_count": null,
   "metadata": {
    "vscode": {
     "languageId": "wolfram"
    }
   },
   "outputs": [
    {
     "data": {
      "text/html": [
       "<div><pre style=\"&#102;&#111;&#110;&#116;&#45;&#102;&#97;&#109;&#105;&#108;&#121;&#58;&#32;&#34;&#67;&#111;&#117;&#114;&#105;&#101;&#114;&#32;&#78;&#101;&#119;&#34;&#44;&#67;&#111;&#117;&#114;&#105;&#101;&#114;&#44;&#109;&#111;&#110;&#111;&#115;&#112;&#97;&#99;&#101;&#59;\">&#48;&#46;&#48;&#49;&#52;&#52;&#57;&#50;&#55;&#53;&#51;&#54;&#50;&#51;&#49;&#56;&#56;&#52;&#48;&#53;&#55;&#57;&#55;&#49;&#48;&#49;&#52;&#52;&#57;&#50;&#55;&#53;&#51;&#54;&#50;&#51;&#49;&#56;&#56;&#52;&#48;&#53;&#55;&#57;&#55;&#49;&#48;&#49;&#52;&#52;&#57;</pre></div>"
      ],
      "text/plain": [
       "0.0144927536231884057971014492753623188405797101449"
      ]
     },
     "metadata": {},
     "output_type": "display_data"
    }
   ],
   "source": [
    "N[1 / 69, 48]"
   ]
  },
  {
   "cell_type": "code",
   "execution_count": 26,
   "metadata": {
    "vscode": {
     "languageId": "wolfram"
    }
   },
   "outputs": [
    {
     "data": {
      "text/html": [
       "<style>\n",
       "\t\t\t\t\t\t\t\t\t\t\t\t\t.grid-container {\n",
       "\t\t\t\t\t\t\t\t\t\t\t\t\t\tdisplay: inline-grid;\n",
       "\t\t\t\t\t\t\t\t\t\t\t\t\t\tgrid-template-columns: auto;\n",
       "\t\t\t\t\t\t\t\t\t\t\t\t\t}\n",
       "\t\t\t\t\t\t\t\t\t\t\t\t</style>\n",
       "\n",
       "\t\t\t\t\t\t\t\t\t\t\t\t<div><div class=\"grid-container\"><div class=\"grid-item\"><pre style=\"&#102;&#111;&#110;&#116;&#45;&#102;&#97;&#109;&#105;&#108;&#121;&#58;&#32;&#34;&#67;&#111;&#117;&#114;&#105;&#101;&#114;&#32;&#78;&#101;&#119;&#34;&#44;&#67;&#111;&#117;&#114;&#105;&#101;&#114;&#44;&#109;&#111;&#110;&#111;&#115;&#112;&#97;&#99;&#101;&#59;\">&#123;&#49;&#44;&#32;&#52;&#44;&#32;&#52;&#44;&#32;&#57;&#44;&#32;&#50;&#44;&#32;&#55;&#44;&#32;&#53;&#44;&#32;&#51;&#44;&#32;&#54;&#44;&#32;&#50;&#44;&#32;&#51;&#44;&#32;&#49;&#44;&#32;&#56;&#44;&#32;&#56;&#44;&#32;&#52;&#44;&#32;&#48;&#44;&#32;&#53;&#44;&#32;&#55;&#44;&#32;&#57;&#44;&#32;&#55;&#44;&#32;&#49;&#44;&#32;&#48;&#125;</pre></div><div class=\"grid-item\"><pre style=\"&#102;&#111;&#110;&#116;&#45;&#102;&#97;&#109;&#105;&#108;&#121;&#58;&#32;&#34;&#67;&#111;&#117;&#114;&#105;&#101;&#114;&#32;&#78;&#101;&#119;&#34;&#44;&#67;&#111;&#117;&#114;&#105;&#101;&#114;&#44;&#109;&#111;&#110;&#111;&#115;&#112;&#97;&#99;&#101;&#59;\">&#123;&#49;&#52;&#44;&#32;&#52;&#57;&#44;&#32;&#50;&#55;&#44;&#32;&#53;&#51;&#44;&#32;&#54;&#50;&#44;&#32;&#51;&#49;&#44;&#32;&#56;&#56;&#44;&#32;&#52;&#48;&#44;&#32;&#53;&#55;&#44;&#32;&#57;&#55;&#44;&#32;&#49;&#48;&#125;</pre></div><div class=\"grid-item\"><pre style=\"&#102;&#111;&#110;&#116;&#45;&#102;&#97;&#109;&#105;&#108;&#121;&#58;&#32;&#34;&#67;&#111;&#117;&#114;&#105;&#101;&#114;&#32;&#78;&#101;&#119;&#34;&#44;&#67;&#111;&#117;&#114;&#105;&#101;&#114;&#44;&#109;&#111;&#110;&#111;&#115;&#112;&#97;&#99;&#101;&#59;\">&#123;&#49;&#44;&#32;&#52;&#52;&#44;&#32;&#57;&#50;&#44;&#32;&#55;&#53;&#44;&#32;&#51;&#54;&#44;&#32;&#50;&#51;&#44;&#32;&#49;&#56;&#44;&#32;&#56;&#52;&#44;&#32;&#53;&#44;&#32;&#55;&#57;&#44;&#32;&#55;&#49;&#125;</pre></div></div></div>"
      ],
      "text/plain": [
       "{1, 4, 4, 9, 2, 7, 5, 3, 6, 2, 3, 1, 8, 8, 4, 0, 5, 7, 9, 7, 1, 0}\n",
       "{14, 49, 27, 53, 62, 31, 88, 40, 57, 97, 10}\n",
       "{1, 44, 92, 75, 36, 23, 18, 84, 5, 79, 71}"
      ]
     },
     "execution_count": 26,
     "metadata": {
      "text/html": [],
      "text/plain": []
     },
     "output_type": "execute_result"
    }
   ],
   "source": [
    "rd = RealDigits[1 / 69][[1, -1]]\n",
    "FromDigits /@ Partition[rd, 2]\n",
    "FromDigits /@ Partition[RotateRight[rd], 2]"
   ]
  },
  {
   "cell_type": "code",
   "execution_count": null,
   "metadata": {
    "vscode": {
     "languageId": "wolfram"
    }
   },
   "outputs": [
    {
     "data": {
      "text/html": [
       "<div><pre style=\"&#102;&#111;&#110;&#116;&#45;&#102;&#97;&#109;&#105;&#108;&#121;&#58;&#32;&#34;&#67;&#111;&#117;&#114;&#105;&#101;&#114;&#32;&#78;&#101;&#119;&#34;&#44;&#67;&#111;&#117;&#114;&#105;&#101;&#114;&#44;&#109;&#111;&#110;&#111;&#115;&#112;&#97;&#99;&#101;&#59;\">&#48;&#46;&#48;&#49;&#48;&#51;&#48;&#57;&#50;&#55;&#56;&#51;&#53;&#48;&#53;&#49;&#53;&#52;&#54;&#51;&#57;&#49;&#55;&#53;&#50;&#53;&#55;&#55;&#51;&#49;&#57;&#53;&#56;&#55;&#54;&#50;&#56;&#56;&#54;&#53;&#57;&#55;&#57;&#51;&#56;&#49;&#52;&#52;&#51;&#50;&#57;&#56;&#57;&#54;&#57;&#48;&#55;&#50;&#49;&#54;&#52;&#57;&#52;&#56;&#52;&#53;&#51;&#54;&#48;&#56;&#50;&#52;&#55;&#52;&#50;&#50;&#54;&#56;&#48;&#52;&#49;&#50;&#51;&#55;&#49;&#49;&#51;&#52;&#92;&#10;&#32;&#10;&#62;&#32;&#32;&#32;&#48;&#50;&#48;&#54;&#49;&#56;&#53;&#53;&#54;&#55;&#48;&#49;&#48;&#51;</pre></div>"
      ],
      "text/plain": [
       "0.01030927835051546391752577319587628865979381443298969072164948453608247422680412371134\\\n",
       " \n",
       ">   02061855670103"
      ]
     },
     "metadata": {},
     "output_type": "display_data"
    }
   ],
   "source": [
    "N[1 / 97, 99]"
   ]
  },
  {
   "attachments": {},
   "cell_type": "markdown",
   "metadata": {},
   "source": [
    "1/97の循環節は33と66と99以外を含む"
   ]
  },
  {
   "cell_type": "code",
   "execution_count": null,
   "metadata": {
    "vscode": {
     "languageId": "wolfram"
    }
   },
   "outputs": [
    {
     "data": {
      "text/html": [
       "<div><pre style=\"&#102;&#111;&#110;&#116;&#45;&#102;&#97;&#109;&#105;&#108;&#121;&#58;&#32;&#34;&#67;&#111;&#117;&#114;&#105;&#101;&#114;&#32;&#78;&#101;&#119;&#34;&#44;&#67;&#111;&#117;&#114;&#105;&#101;&#114;&#44;&#109;&#111;&#110;&#111;&#115;&#112;&#97;&#99;&#101;&#59;\">&#123;&#51;&#51;&#44;&#32;&#54;&#54;&#44;&#32;&#57;&#57;&#125;</pre></div>"
      ],
      "text/plain": [
       "{33, 66, 99}"
      ]
     },
     "metadata": {},
     "output_type": "display_data"
    }
   ],
   "source": [
    "li = Table[FromDigits[RotateLeft[Prepend[RealDigits[1 / 97][[1, -1]], 0], r][[1;;2]]], {r, 99}];\n",
    "Complement[Range[99], li]"
   ]
  },
  {
   "attachments": {},
   "cell_type": "markdown",
   "metadata": {},
   "source": [
    "1/7は3と6と9以外を含む"
   ]
  },
  {
   "cell_type": "code",
   "execution_count": null,
   "metadata": {
    "vscode": {
     "languageId": "wolfram"
    }
   },
   "outputs": [
    {
     "data": {
      "text/html": [
       "<div><pre style=\"&#102;&#111;&#110;&#116;&#45;&#102;&#97;&#109;&#105;&#108;&#121;&#58;&#32;&#34;&#67;&#111;&#117;&#114;&#105;&#101;&#114;&#32;&#78;&#101;&#119;&#34;&#44;&#67;&#111;&#117;&#114;&#105;&#101;&#114;&#44;&#109;&#111;&#110;&#111;&#115;&#112;&#97;&#99;&#101;&#59;\">&#48;&#46;&#49;&#52;&#50;&#56;&#53;&#55;</pre></div>"
      ],
      "text/plain": [
       "0.142857"
      ]
     },
     "metadata": {},
     "output_type": "display_data"
    }
   ],
   "source": [
    "N[1 / 7, 6]"
   ]
  },
  {
   "attachments": {},
   "cell_type": "markdown",
   "metadata": {},
   "source": [
    "[Twitter: 昨日の #オンライン数学デー で議論した、循環小数の循環節にN桁の数をなるべく多く含む小数についてのアニメーションGIFを作りました！](https://twitter.com/i/status/1623570902553182218)"
   ]
  },
  {
   "cell_type": "code",
   "execution_count": null,
   "metadata": {
    "vscode": {
     "languageId": "wolfram"
    }
   },
   "outputs": [],
   "source": [
    "(* 1080p *)\n",
    "Do[\n",
    "    g = Graphics[{\n",
    "        Black,\n",
    "        Text[Style[1 / 97, FontSize -> 38], {-2.5, 0}], Text[Style[\"= 0.\", FontSize -> 38], {-1.2, 0}],\n",
    "        Green,\n",
    "        Table[If[\n",
    "            n === 33 || n === 66 || n === 99,\n",
    "            Null,\n",
    "            Rectangle[{1, -1} * (Reverse[#] - 1 / 2), {1, -1} * (Reverse[#] + 1 / 2)] & @ IntegerDigits[#, 10, 2] & /@ (First[SequencePosition[Prepend[IntegerDigits[Floor[10^97 * 1 / 97], 10], 0], IntegerDigits[n, 10, 2]]] - 1)\n",
    "        ], {n, 99}][[k]],\n",
    "        Black,\n",
    "        Disk[{1, -1} * {1, 0} - {0, -0.35}, 0.05],\n",
    "        Disk[{1, -1} * {6, 9} - {0, -0.35}, 0.05],\n",
    "        MapIndexed[\n",
    "            Text[Style[If[#2[[1]] === 9 + 1 && #2[[2]] > 7 , \"…\", #1], FontSize -> 38], {1, -1} * (Reverse[#2] - 1)] &,\n",
    "            Partition[PadRight[Prepend[IntegerDigits[Floor[10^97 * 1 / 97], 10], 0], 99 + 1], 9 + 1],\n",
    "            {2}\n",
    "        ],\n",
    "        If[k === 33 || k === 66 || k === 99, Gray, Green],\n",
    "        Apply[Join, MapIndexed[\n",
    "            Rectangle[{11, 0} + {1, -1} * (Reverse[#2] - 1 - 1 / 2), {11, 0} + {1, -1} * (Reverse[#2] - 1 + 1 / 2)] &,\n",
    "            Table[IntegerString[10 m + n, 10, 2], {m, 0, 9}, {n, 0, 9}],\n",
    "            {2}\n",
    "        ]][[k + 1]],\n",
    "        Black,\n",
    "        MapIndexed[\n",
    "            Text[Style[#1, FontSize -> 38], {11, 0} + {1, -1} * (Reverse[#2] - 1)] &,\n",
    "            Table[IntegerString[10 m + n, 10, 2], {m, 0, 9}, {n, 0, 9}],\n",
    "            {2}\n",
    "        ]\n",
    "    }, ImageSize -> {1920, 1080}, PlotRange -> {{-5, 25}, {-12, 3}}];\n",
    "    Export[\"temp/\" <> IntegerString[k, 10, 2] <> \".png\", g,  ImageSize -> {1920, 1080}],\n",
    "{k, 1, 99}]"
   ]
  },
  {
   "cell_type": "code",
   "execution_count": null,
   "metadata": {
    "vscode": {
     "languageId": "wolfram"
    }
   },
   "outputs": [],
   "source": [
    "(* 720p *)\n",
    "Do[\n",
    "    g = Graphics[{\n",
    "        Black,\n",
    "        Text[Style[1 / 97, FontSize -> 24], {-2.5, 0}], Text[Style[\"= 0.\", FontSize -> 24], {-1.2, 0}],\n",
    "        Green,\n",
    "        Table[If[\n",
    "            n === 33 || n === 66 || n === 99,\n",
    "            Null,\n",
    "            Rectangle[{1, -1} * (Reverse[#] - 1 / 2), {1, -1} * (Reverse[#] + 1 / 2)] & @ IntegerDigits[#, 10, 2] & /@ (First[SequencePosition[Prepend[IntegerDigits[Floor[10^97 * 1 / 97], 10], 0], IntegerDigits[n, 10, 2]]] - 1)\n",
    "        ], {n, 99}][[k]],\n",
    "        Black,\n",
    "        Disk[{1, -1} * {1, 0} - {0, -0.35}, 0.05],\n",
    "        Disk[{1, -1} * {6, 9} - {0, -0.35}, 0.05],\n",
    "        MapIndexed[\n",
    "            Text[Style[If[#2[[1]] === 9 + 1 && #2[[2]] > 7 , \"…\", #1], FontSize -> 24], {1, -1} * (Reverse[#2] - 1)] &,\n",
    "            Partition[PadRight[Prepend[IntegerDigits[Floor[10^97 * 1 / 97], 10], 0], 99 + 1], 9 + 1],\n",
    "            {2}\n",
    "        ],\n",
    "        If[k === 33 || k === 66 || k === 99, Gray, Green],\n",
    "        Apply[Join, MapIndexed[\n",
    "            Rectangle[{11, 0} + {1, -1} * (Reverse[#2] - 1 - 1 / 2), {11, 0} + {1, -1} * (Reverse[#2] - 1 + 1 / 2)] &,\n",
    "            Table[IntegerString[10 m + n, 10, 2], {m, 0, 9}, {n, 0, 9}],\n",
    "            {2}\n",
    "        ]][[k + 1]],\n",
    "        Black,\n",
    "        MapIndexed[\n",
    "            Text[Style[#1, FontSize -> 24], {11, 0} + {1, -1} * (Reverse[#2] - 1)] &,\n",
    "            Table[IntegerString[10 m + n, 10, 2], {m, 0, 9}, {n, 0, 9}],\n",
    "            {2}\n",
    "        ]\n",
    "    }, ImageSize -> {1280, 720}, PlotRange -> {{-5, 25}, {-12, 3}}];\n",
    "    Export[\"temp/\" <> IntegerString[k, 10, 2] <> \".png\", g, ImageSize -> {1280, 720}],\n",
    "{k, 1, 99}]"
   ]
  },
  {
   "cell_type": "code",
   "execution_count": null,
   "metadata": {
    "vscode": {
     "languageId": "wolfram"
    }
   },
   "outputs": [
    {
     "data": {
      "text/html": [
       "<div><img alt=\"Output\" src=\"data:image/png;base64,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\"></div>"
      ],
      "text/plain": [
       "   1           1           1           1           1           1           1\n",
       "{{---, 982}, {---, 976}, {---, 970}, {---, 952}, {---, 940}, {---, 936}, {---, 886}, \n",
       "  983         977         971         953         941         937         887\n",
       " \n",
       "      1           1\n",
       ">   {---, 862}, {---, 856}}\n",
       "     863         857"
      ]
     },
     "metadata": {},
     "output_type": "display_data"
    }
   ],
   "source": [
    "MaximalBy[Table[{1 / n, Length[RealDigits[1 / n][[1, -1]]]}, {n, 999}], Last, 9]"
   ]
  },
  {
   "cell_type": "code",
   "execution_count": null,
   "metadata": {
    "vscode": {
     "languageId": "wolfram"
    }
   },
   "outputs": [
    {
     "data": {
      "text/html": [
       "<div><pre style=\"&#102;&#111;&#110;&#116;&#45;&#102;&#97;&#109;&#105;&#108;&#121;&#58;&#32;&#34;&#67;&#111;&#117;&#114;&#105;&#101;&#114;&#32;&#78;&#101;&#119;&#34;&#44;&#67;&#111;&#117;&#114;&#105;&#101;&#114;&#44;&#109;&#111;&#110;&#111;&#115;&#112;&#97;&#99;&#101;&#59;\">&#123;&#49;&#53;&#44;&#32;&#51;&#49;&#44;&#32;&#52;&#55;&#44;&#32;&#54;&#51;&#44;&#32;&#55;&#57;&#44;&#32;&#57;&#53;&#44;&#32;&#49;&#49;&#49;&#44;&#32;&#49;&#50;&#54;&#44;&#32;&#49;&#52;&#50;&#44;&#32;&#49;&#53;&#56;&#44;&#32;&#49;&#55;&#52;&#44;&#32;&#49;&#57;&#48;&#44;&#32;&#50;&#48;&#54;&#44;&#32;&#50;&#50;&#50;&#44;&#32;&#50;&#51;&#56;&#44;&#32;&#50;&#53;&#51;&#44;&#32;&#50;&#54;&#57;&#44;&#32;&#50;&#56;&#53;&#44;&#32;&#10;&#32;&#10;&#62;&#32;&#32;&#32;&#51;&#48;&#49;&#44;&#32;&#51;&#49;&#55;&#44;&#32;&#51;&#51;&#51;&#44;&#32;&#51;&#52;&#57;&#44;&#32;&#51;&#54;&#53;&#44;&#32;&#51;&#56;&#48;&#44;&#32;&#51;&#57;&#54;&#44;&#32;&#52;&#49;&#50;&#44;&#32;&#52;&#50;&#56;&#44;&#32;&#52;&#52;&#52;&#44;&#32;&#52;&#54;&#48;&#44;&#32;&#52;&#55;&#54;&#44;&#32;&#52;&#57;&#50;&#44;&#32;&#53;&#48;&#55;&#44;&#32;&#53;&#50;&#51;&#44;&#32;&#53;&#51;&#57;&#44;&#32;&#53;&#53;&#53;&#44;&#32;&#10;&#32;&#10;&#62;&#32;&#32;&#32;&#53;&#55;&#49;&#44;&#32;&#53;&#56;&#55;&#44;&#32;&#54;&#48;&#51;&#44;&#32;&#54;&#49;&#57;&#44;&#32;&#54;&#51;&#52;&#44;&#32;&#54;&#53;&#48;&#44;&#32;&#54;&#54;&#54;&#44;&#32;&#54;&#56;&#50;&#44;&#32;&#54;&#57;&#56;&#44;&#32;&#55;&#49;&#52;&#44;&#32;&#55;&#51;&#48;&#44;&#32;&#55;&#52;&#54;&#44;&#32;&#55;&#54;&#49;&#44;&#32;&#55;&#55;&#55;&#44;&#32;&#55;&#57;&#51;&#44;&#32;&#56;&#48;&#57;&#44;&#32;&#56;&#50;&#53;&#44;&#32;&#10;&#32;&#10;&#62;&#32;&#32;&#32;&#56;&#52;&#49;&#44;&#32;&#56;&#53;&#55;&#44;&#32;&#56;&#55;&#51;&#44;&#32;&#56;&#56;&#56;&#44;&#32;&#57;&#48;&#52;&#44;&#32;&#57;&#50;&#48;&#44;&#32;&#57;&#51;&#54;&#44;&#32;&#57;&#53;&#50;&#44;&#32;&#57;&#54;&#56;&#44;&#32;&#57;&#56;&#52;&#44;&#32;&#57;&#57;&#57;&#125;</pre></div>"
      ],
      "text/plain": [
       "{15, 31, 47, 63, 79, 95, 111, 126, 142, 158, 174, 190, 206, 222, 238, 253, 269, 285, \n",
       " \n",
       ">   301, 317, 333, 349, 365, 380, 396, 412, 428, 444, 460, 476, 492, 507, 523, 539, 555, \n",
       " \n",
       ">   571, 587, 603, 619, 634, 650, 666, 682, 698, 714, 730, 746, 761, 777, 793, 809, 825, \n",
       " \n",
       ">   841, 857, 873, 888, 904, 920, 936, 952, 968, 984, 999}"
      ]
     },
     "metadata": {},
     "output_type": "display_data"
    }
   ],
   "source": [
    "li = Table[FromDigits[RotateLeft[Prepend[RealDigits[1 / 937][[1, -1]], 0], r][[1;;3]]], {r, 999}];\n",
    "Complement[Range[999], li]"
   ]
  },
  {
   "cell_type": "code",
   "execution_count": null,
   "metadata": {
    "vscode": {
     "languageId": "wolfram"
    }
   },
   "outputs": [
    {
     "data": {
      "text/html": [
       "<div><pre style=\"&#102;&#111;&#110;&#116;&#45;&#102;&#97;&#109;&#105;&#108;&#121;&#58;&#32;&#34;&#67;&#111;&#117;&#114;&#105;&#101;&#114;&#32;&#78;&#101;&#119;&#34;&#44;&#67;&#111;&#117;&#114;&#105;&#101;&#114;&#44;&#109;&#111;&#110;&#111;&#115;&#112;&#97;&#99;&#101;&#59;\">&#49;&#48;&#54;&#55;&#50;&#51;&#53;&#56;&#53;&#57;&#49;&#50;&#52;&#56;&#54;&#54;&#53;&#57;&#53;&#53;&#49;&#55;&#54;&#48;&#57;&#51;&#57;&#49;&#54;&#55;&#53;&#53;&#54;&#48;&#50;&#57;&#56;&#56;&#50;&#54;&#48;&#52;&#48;&#53;&#53;&#52;&#57;&#54;&#50;&#54;&#52;&#54;&#55;&#52;&#52;&#57;&#51;&#48;&#54;&#50;&#57;&#54;&#54;&#57;&#49;&#53;&#54;&#56;&#56;&#51;&#54;&#55;&#49;&#50;&#57;&#49;&#51;&#53;&#53;&#51;&#56;&#57;&#53;&#52;&#49;&#48;&#56;&#56;&#92;&#10;&#32;&#10;&#62;&#32;&#32;&#32;&#53;&#56;&#48;&#53;&#55;&#54;&#51;&#48;&#55;&#51;&#54;&#51;&#57;&#50;&#55;&#52;&#50;&#55;&#57;&#54;&#49;&#53;&#55;&#57;&#53;&#48;&#57;&#48;&#55;&#49;&#53;&#48;&#52;&#56;&#48;&#50;&#53;&#54;&#49;&#51;&#54;&#54;&#48;&#54;&#49;&#56;&#57;&#57;&#54;&#55;&#57;&#56;&#50;&#57;&#50;&#52;&#50;&#50;&#54;&#50;&#53;&#52;&#48;&#48;&#50;&#49;&#51;&#52;&#52;&#55;&#49;&#55;&#49;&#56;&#50;&#52;&#57;&#55;&#51;&#51;&#49;&#57;&#49;&#48;&#92;&#10;&#32;&#10;&#62;&#32;&#32;&#32;&#51;&#53;&#50;&#49;&#56;&#55;&#56;&#51;&#51;&#53;&#49;&#49;&#50;&#48;&#53;&#57;&#55;&#54;&#53;&#50;&#48;&#56;&#49;&#49;&#48;&#57;&#57;&#50;&#53;&#50;&#57;&#51;&#52;&#56;&#57;&#56;&#54;&#49;&#50;&#53;&#57;&#51;&#51;&#56;&#51;&#49;&#51;&#55;&#54;&#55;&#51;&#52;&#50;&#53;&#56;&#50;&#55;&#49;&#48;&#55;&#55;&#57;&#48;&#56;&#50;&#49;&#55;&#55;&#49;&#54;&#49;&#49;&#53;&#50;&#54;&#49;&#52;&#55;&#50;&#55;&#56;&#53;&#52;&#56;&#92;&#10;&#32;&#10;&#62;&#32;&#32;&#32;&#53;&#53;&#57;&#50;&#51;&#49;&#53;&#57;&#48;&#49;&#56;&#49;&#52;&#51;&#48;&#48;&#57;&#54;&#48;&#53;&#49;&#50;&#50;&#55;&#51;&#50;&#49;&#50;&#51;&#55;&#57;&#57;&#51;&#53;&#57;&#54;&#53;&#56;&#52;&#56;&#52;&#53;&#50;&#53;&#48;&#56;&#48;&#48;&#52;&#50;&#54;&#56;&#57;&#52;&#51;&#52;&#51;&#54;&#52;&#57;&#57;&#52;&#54;&#54;&#51;&#56;&#50;&#48;&#55;&#48;&#52;&#51;&#55;&#53;&#54;&#54;&#55;&#48;&#50;&#50;&#52;&#49;&#49;&#57;&#92;&#10;&#32;&#10;&#62;&#32;&#32;&#32;&#53;&#51;&#48;&#52;&#49;&#54;&#50;&#50;&#49;&#57;&#56;&#53;&#48;&#53;&#56;&#54;&#57;&#55;&#57;&#55;&#50;&#50;&#53;&#49;&#56;&#54;&#55;&#54;&#54;&#50;&#55;&#53;&#51;&#52;&#54;&#56;&#53;&#49;&#54;&#53;&#52;&#50;&#49;&#53;&#53;&#56;&#49;&#54;&#52;&#51;&#53;&#52;&#51;&#50;&#50;&#51;&#48;&#53;&#50;&#50;&#57;&#52;&#53;&#53;&#55;&#48;&#57;&#55;&#49;&#49;&#56;&#52;&#54;&#51;&#49;&#56;&#48;&#51;&#54;&#50;&#56;&#54;&#48;&#49;&#92;&#10;&#32;&#10;&#62;&#32;&#32;&#32;&#57;&#50;&#49;&#48;&#50;&#52;&#53;&#52;&#54;&#52;&#50;&#52;&#55;&#53;&#57;&#56;&#55;&#49;&#57;&#51;&#49;&#54;&#57;&#54;&#57;&#48;&#53;&#48;&#49;&#54;&#48;&#48;&#56;&#53;&#51;&#55;&#56;&#56;&#54;&#56;&#55;&#50;&#57;&#57;&#56;&#57;&#51;&#50;&#55;&#54;&#52;&#49;&#52;&#48;&#56;&#55;&#53;&#49;&#51;&#51;&#52;&#48;&#52;&#52;&#56;&#50;&#51;&#57;&#48;&#54;&#48;&#56;&#51;&#50;&#52;&#52;&#51;&#57;&#55;&#48;&#49;&#49;&#55;&#51;&#92;&#10;&#32;&#10;&#62;&#32;&#32;&#32;&#57;&#53;&#57;&#52;&#52;&#53;&#48;&#51;&#55;&#51;&#53;&#51;&#50;&#53;&#53;&#48;&#54;&#57;&#51;&#55;&#48;&#51;&#51;&#48;&#56;&#52;&#51;&#49;&#49;&#54;&#51;&#50;&#56;&#55;&#48;&#56;&#54;&#52;&#52;&#54;&#49;&#48;&#52;&#53;&#56;&#57;&#49;&#49;&#52;&#49;&#57;&#52;&#50;&#51;&#54;&#57;&#50;&#54;&#51;&#54;&#48;&#55;&#50;&#53;&#55;&#50;&#48;&#51;&#56;&#52;&#50;&#48;&#52;&#57;&#48;&#57;&#50;&#56;&#52;&#57;&#53;&#49;&#57;&#55;&#92;&#10;&#32;&#10;&#62;&#32;&#32;&#32;&#52;&#51;&#56;&#54;&#51;&#51;&#57;&#51;&#56;&#49;&#48;&#48;&#51;&#50;&#48;&#49;&#55;&#48;&#55;&#53;&#55;&#55;&#51;&#55;&#52;&#53;&#57;&#57;&#55;&#56;&#54;&#53;&#53;&#50;&#56;&#50;&#56;&#49;&#55;&#53;&#48;&#50;&#54;&#54;&#56;&#48;&#56;&#57;&#54;&#52;&#55;&#56;&#49;&#50;&#49;&#54;&#54;&#52;&#56;&#56;&#55;&#57;&#52;&#48;&#50;&#51;&#52;&#55;&#57;&#49;&#56;&#56;&#57;&#48;&#48;&#55;&#52;&#55;&#48;&#54;&#53;&#49;&#48;&#49;&#92;&#10;&#32;&#10;&#62;&#32;&#32;&#32;&#51;&#56;&#55;&#52;&#48;&#54;&#54;&#49;&#54;&#56;&#54;&#50;&#51;&#50;&#54;&#53;&#55;&#52;&#49;&#55;&#50;&#56;&#57;&#50;&#50;&#48;&#57;&#49;&#55;&#56;&#50;&#50;&#56;&#51;&#56;&#56;&#52;&#55;&#51;&#56;&#53;&#50;&#55;&#50;&#49;&#52;&#53;&#49;&#52;&#52;&#48;&#55;&#54;&#56;&#52;&#48;&#57;&#56;&#49;&#56;&#53;&#54;&#57;&#57;&#48;&#51;&#57;&#52;&#56;&#55;&#55;&#50;&#54;&#55;&#56;&#55;&#54;&#50;&#48;&#48;&#54;&#52;&#48;&#51;&#92;&#10;&#32;&#10;&#62;&#32;&#32;&#32;&#52;&#49;&#53;&#49;&#53;&#52;&#55;&#52;&#57;&#49;&#57;&#57;&#53;&#55;&#51;&#49;&#48;&#53;&#54;&#53;&#54;&#51;&#53;&#48;&#48;&#53;&#51;&#51;&#54;&#49;&#55;&#57;&#50;&#57;&#53;&#54;&#50;&#52;&#51;&#51;&#50;&#57;&#55;&#55;&#53;&#56;&#56;&#48;&#52;&#54;&#57;&#53;&#56;&#51;&#55;&#55;&#56;&#48;&#49;&#52;&#57;&#52;&#49;&#51;&#48;&#50;&#48;&#50;&#55;&#55;&#52;&#56;&#49;&#51;&#50;&#51;&#51;&#55;&#50;&#52;&#54;&#53;&#51;&#49;&#92;&#10;&#32;&#10;&#62;&#32;&#32;&#32;&#52;&#56;&#51;&#52;&#53;&#55;&#56;&#52;&#52;&#49;&#56;&#51;&#53;&#54;&#52;&#53;&#54;&#55;&#55;&#54;&#57;&#52;&#55;&#55;&#48;&#53;&#52;&#52;&#50;&#57;&#48;&#50;&#56;&#56;&#49;&#53;&#51;&#54;&#56;&#49;&#57;&#54;&#51;&#55;&#49;&#51;&#57;&#56;&#48;&#55;&#56;&#57;&#55;&#53;&#52;&#53;&#51;&#53;&#55;&#53;&#50;&#52;&#48;&#49;&#50;&#56;&#48;&#54;&#56;&#51;&#48;&#51;&#48;&#57;&#52;&#57;&#56;&#51;&#57;&#57;&#49;&#52;&#54;&#50;&#92;&#10;&#32;&#10;&#62;&#32;&#32;&#32;&#49;&#49;&#51;&#49;&#50;&#55;&#48;&#48;</pre></div>"
      ],
      "text/plain": [
       "1067235859124866595517609391675560298826040554962646744930629669156883671291355389541088\\\n",
       " \n",
       ">   580576307363927427961579509071504802561366061899679829242262540021344717182497331910\\\n",
       " \n",
       ">   352187833511205976520811099252934898612593383137673425827107790821771611526147278548\\\n",
       " \n",
       ">   559231590181430096051227321237993596584845250800426894343649946638207043756670224119\\\n",
       " \n",
       ">   530416221985058697972251867662753468516542155816435432230522945570971184631803628601\\\n",
       " \n",
       ">   921024546424759871931696905016008537886872998932764140875133404482390608324439701173\\\n",
       " \n",
       ">   959445037353255069370330843116328708644610458911419423692636072572038420490928495197\\\n",
       " \n",
       ">   438633938100320170757737459978655282817502668089647812166488794023479188900747065101\\\n",
       " \n",
       ">   387406616862326574172892209178228388473852721451440768409818569903948772678762006403\\\n",
       " \n",
       ">   415154749199573105656350053361792956243329775880469583778014941302027748132337246531\\\n",
       " \n",
       ">   483457844183564567769477054429028815368196371398078975453575240128068303094983991462\\\n",
       " \n",
       ">   11312700"
      ]
     },
     "metadata": {},
     "output_type": "display_data"
    }
   ],
   "source": [
    "FromDigits[RealDigits[1 / 937][[1, -1]]]"
   ]
  },
  {
   "cell_type": "code",
   "execution_count": null,
   "metadata": {
    "vscode": {
     "languageId": "wolfram"
    }
   },
   "outputs": [
    {
     "data": {
      "text/html": [
       "<div><pre style=\"&#102;&#111;&#110;&#116;&#45;&#102;&#97;&#109;&#105;&#108;&#121;&#58;&#32;&#34;&#67;&#111;&#117;&#114;&#105;&#101;&#114;&#32;&#78;&#101;&#119;&#34;&#44;&#67;&#111;&#117;&#114;&#105;&#101;&#114;&#44;&#109;&#111;&#110;&#111;&#115;&#112;&#97;&#99;&#101;&#59;\">&#123;&#53;&#56;&#44;&#32;&#49;&#49;&#55;&#44;&#32;&#49;&#55;&#54;&#44;&#32;&#50;&#51;&#53;&#44;&#32;&#50;&#57;&#52;&#44;&#32;&#51;&#53;&#50;&#44;&#32;&#52;&#49;&#49;&#44;&#32;&#52;&#55;&#48;&#44;&#32;&#53;&#50;&#57;&#44;&#32;&#53;&#56;&#56;&#44;&#32;&#54;&#52;&#55;&#44;&#32;&#55;&#48;&#53;&#44;&#32;&#55;&#54;&#52;&#44;&#32;&#56;&#50;&#51;&#44;&#32;&#56;&#56;&#50;&#44;&#32;&#57;&#52;&#49;&#44;&#32;&#57;&#57;&#57;&#125;</pre></div>"
      ],
      "text/plain": [
       "{58, 117, 176, 235, 294, 352, 411, 470, 529, 588, 647, 705, 764, 823, 882, 941, 999}"
      ]
     },
     "metadata": {},
     "output_type": "display_data"
    }
   ],
   "source": [
    "li = Table[FromDigits[RotateLeft[Prepend[RealDigits[1 / 983][[1, -1]], 0], r][[1;;3]]], {r, 999}];\n",
    "Complement[Range[999], li]"
   ]
  },
  {
   "cell_type": "code",
   "execution_count": null,
   "metadata": {
    "vscode": {
     "languageId": "wolfram"
    }
   },
   "outputs": [
    {
     "data": {
      "text/html": [
       "<div><pre style=\"&#102;&#111;&#110;&#116;&#45;&#102;&#97;&#109;&#105;&#108;&#121;&#58;&#32;&#34;&#67;&#111;&#117;&#114;&#105;&#101;&#114;&#32;&#78;&#101;&#119;&#34;&#44;&#67;&#111;&#117;&#114;&#105;&#101;&#114;&#44;&#109;&#111;&#110;&#111;&#115;&#112;&#97;&#99;&#101;&#59;\">&#123;&#51;&#48;&#51;&#44;&#32;&#54;&#48;&#54;&#44;&#32;&#57;&#48;&#57;&#44;&#32;&#49;&#50;&#49;&#50;&#44;&#32;&#49;&#53;&#49;&#53;&#44;&#32;&#49;&#56;&#49;&#56;&#44;&#32;&#50;&#49;&#50;&#49;&#44;&#32;&#50;&#52;&#50;&#52;&#44;&#32;&#50;&#55;&#50;&#55;&#44;&#32;&#51;&#48;&#51;&#48;&#44;&#32;&#51;&#51;&#51;&#51;&#44;&#32;&#51;&#54;&#51;&#54;&#44;&#32;&#51;&#57;&#51;&#57;&#44;&#32;&#52;&#50;&#52;&#50;&#44;&#32;&#52;&#53;&#52;&#53;&#44;&#32;&#10;&#32;&#10;&#62;&#32;&#32;&#32;&#52;&#56;&#52;&#56;&#44;&#32;&#53;&#49;&#53;&#49;&#44;&#32;&#53;&#52;&#53;&#52;&#44;&#32;&#53;&#55;&#53;&#55;&#44;&#32;&#54;&#48;&#54;&#48;&#44;&#32;&#54;&#51;&#54;&#51;&#44;&#32;&#54;&#54;&#54;&#54;&#44;&#32;&#54;&#57;&#54;&#57;&#44;&#32;&#55;&#50;&#55;&#50;&#44;&#32;&#55;&#53;&#55;&#53;&#44;&#32;&#55;&#56;&#55;&#56;&#44;&#32;&#56;&#49;&#56;&#49;&#44;&#32;&#56;&#52;&#56;&#52;&#44;&#32;&#56;&#55;&#56;&#55;&#44;&#32;&#10;&#32;&#10;&#62;&#32;&#32;&#32;&#57;&#48;&#57;&#48;&#44;&#32;&#57;&#51;&#57;&#51;&#44;&#32;&#57;&#54;&#57;&#54;&#44;&#32;&#57;&#57;&#57;&#57;&#125;</pre></div>"
      ],
      "text/plain": [
       "{303, 606, 909, 1212, 1515, 1818, 2121, 2424, 2727, 3030, 3333, 3636, 3939, 4242, 4545, \n",
       " \n",
       ">   4848, 5151, 5454, 5757, 6060, 6363, 6666, 6969, 7272, 7575, 7878, 8181, 8484, 8787, \n",
       " \n",
       ">   9090, 9393, 9696, 9999}"
      ]
     },
     "metadata": {},
     "output_type": "display_data"
    }
   ],
   "source": [
    "li = Table[FromDigits[RotateLeft[Prepend[RealDigits[1 / 9967][[1, -1]], 0], r][[1;;4]]], {r, 9999}];\n",
    "Complement[Range[9999], li]"
   ]
  },
  {
   "cell_type": "code",
   "execution_count": null,
   "metadata": {
    "vscode": {
     "languageId": "wolfram"
    }
   },
   "outputs": [
    {
     "data": {
      "text/html": [
       "<div><pre style=\"&#102;&#111;&#110;&#116;&#45;&#102;&#97;&#109;&#105;&#108;&#121;&#58;&#32;&#34;&#67;&#111;&#117;&#114;&#105;&#101;&#114;&#32;&#78;&#101;&#119;&#34;&#44;&#67;&#111;&#117;&#114;&#105;&#101;&#114;&#44;&#109;&#111;&#110;&#111;&#115;&#112;&#97;&#99;&#101;&#59;\">&#123;&#123;&#56;&#49;&#44;&#32;&#57;&#125;&#44;&#32;&#123;&#49;&#54;&#50;&#44;&#32;&#57;&#125;&#44;&#32;&#123;&#51;&#50;&#52;&#44;&#32;&#57;&#125;&#44;&#32;&#123;&#52;&#48;&#53;&#44;&#32;&#57;&#125;&#44;&#32;&#123;&#54;&#52;&#56;&#44;&#32;&#57;&#125;&#44;&#32;&#123;&#56;&#49;&#48;&#44;&#32;&#57;&#125;&#44;&#32;&#123;&#49;&#50;&#57;&#54;&#44;&#32;&#57;&#125;&#44;&#32;&#123;&#49;&#54;&#50;&#48;&#44;&#32;&#57;&#125;&#44;&#32;&#10;&#32;&#10;&#62;&#32;&#32;&#32;&#123;&#50;&#48;&#50;&#53;&#44;&#32;&#57;&#125;&#44;&#32;&#123;&#50;&#53;&#57;&#50;&#44;&#32;&#57;&#125;&#44;&#32;&#123;&#50;&#57;&#57;&#55;&#44;&#32;&#57;&#125;&#44;&#32;&#123;&#51;&#50;&#52;&#48;&#44;&#32;&#57;&#125;&#44;&#32;&#123;&#52;&#48;&#53;&#48;&#44;&#32;&#57;&#125;&#44;&#32;&#123;&#53;&#49;&#56;&#52;&#44;&#32;&#57;&#125;&#44;&#32;&#123;&#53;&#57;&#57;&#52;&#44;&#32;&#57;&#125;&#44;&#32;&#10;&#32;&#10;&#62;&#32;&#32;&#32;&#123;&#54;&#52;&#56;&#48;&#44;&#32;&#57;&#125;&#44;&#32;&#123;&#56;&#49;&#48;&#48;&#44;&#32;&#57;&#125;&#125;</pre></div>"
      ],
      "text/plain": [
       "{{81, 9}, {162, 9}, {324, 9}, {405, 9}, {648, 9}, {810, 9}, {1296, 9}, {1620, 9}, \n",
       " \n",
       ">   {2025, 9}, {2592, 9}, {2997, 9}, {3240, 9}, {4050, 9}, {5184, 9}, {5994, 9}, \n",
       " \n",
       ">   {6480, 9}, {8100, 9}}"
      ]
     },
     "metadata": {},
     "output_type": "display_data"
    }
   ],
   "source": [
    "Cases[Table[{n, Length[RealDigits[1 / n][[1, -1]]]}, {n, 9999}], {_, 9}]"
   ]
  },
  {
   "cell_type": "code",
   "execution_count": null,
   "metadata": {
    "vscode": {
     "languageId": "wolfram"
    }
   },
   "outputs": [
    {
     "data": {
      "text/html": [
       "<div><pre style=\"&#102;&#111;&#110;&#116;&#45;&#102;&#97;&#109;&#105;&#108;&#121;&#58;&#32;&#34;&#67;&#111;&#117;&#114;&#105;&#101;&#114;&#32;&#78;&#101;&#119;&#34;&#44;&#67;&#111;&#117;&#114;&#105;&#101;&#114;&#44;&#109;&#111;&#110;&#111;&#115;&#112;&#97;&#99;&#101;&#59;\">&#123;&#123;&#49;&#57;&#57;&#44;&#32;&#57;&#57;&#125;&#44;&#32;&#123;&#51;&#57;&#55;&#44;&#32;&#57;&#57;&#125;&#44;&#32;&#123;&#51;&#57;&#56;&#44;&#32;&#57;&#57;&#125;&#44;&#32;&#123;&#53;&#57;&#55;&#44;&#32;&#57;&#57;&#125;&#44;&#32;&#123;&#55;&#57;&#52;&#44;&#32;&#57;&#57;&#125;&#44;&#32;&#123;&#55;&#57;&#54;&#44;&#32;&#57;&#57;&#125;&#44;&#32;&#123;&#57;&#57;&#53;&#44;&#32;&#57;&#57;&#125;&#44;&#32;&#10;&#32;&#10;&#62;&#32;&#32;&#32;&#123;&#49;&#49;&#57;&#49;&#44;&#32;&#57;&#57;&#125;&#44;&#32;&#123;&#49;&#49;&#57;&#52;&#44;&#32;&#57;&#57;&#125;&#44;&#32;&#123;&#49;&#53;&#56;&#56;&#44;&#32;&#57;&#57;&#125;&#44;&#32;&#123;&#49;&#53;&#57;&#50;&#44;&#32;&#57;&#57;&#125;&#44;&#32;&#123;&#49;&#55;&#57;&#49;&#44;&#32;&#57;&#57;&#125;&#44;&#32;&#123;&#49;&#57;&#56;&#53;&#44;&#32;&#57;&#57;&#125;&#44;&#32;&#123;&#49;&#57;&#57;&#48;&#44;&#32;&#57;&#57;&#125;&#44;&#32;&#10;&#32;&#10;&#62;&#32;&#32;&#32;&#123;&#50;&#51;&#56;&#50;&#44;&#32;&#57;&#57;&#125;&#44;&#32;&#123;&#50;&#51;&#56;&#56;&#44;&#32;&#57;&#57;&#125;&#44;&#32;&#123;&#50;&#57;&#56;&#53;&#44;&#32;&#57;&#57;&#125;&#44;&#32;&#123;&#51;&#49;&#55;&#54;&#44;&#32;&#57;&#57;&#125;&#44;&#32;&#123;&#51;&#49;&#56;&#52;&#44;&#32;&#57;&#57;&#125;&#44;&#32;&#123;&#51;&#53;&#55;&#51;&#44;&#32;&#57;&#57;&#125;&#44;&#32;&#123;&#51;&#53;&#56;&#50;&#44;&#32;&#57;&#57;&#125;&#44;&#32;&#10;&#32;&#10;&#62;&#32;&#32;&#32;&#123;&#51;&#57;&#55;&#48;&#44;&#32;&#57;&#57;&#125;&#44;&#32;&#123;&#51;&#57;&#56;&#48;&#44;&#32;&#57;&#57;&#125;&#44;&#32;&#123;&#52;&#55;&#54;&#52;&#44;&#32;&#57;&#57;&#125;&#44;&#32;&#123;&#52;&#55;&#55;&#54;&#44;&#32;&#57;&#57;&#125;&#44;&#32;&#123;&#52;&#57;&#55;&#53;&#44;&#32;&#57;&#57;&#125;&#44;&#32;&#123;&#53;&#51;&#55;&#51;&#44;&#32;&#57;&#57;&#125;&#44;&#32;&#123;&#53;&#52;&#50;&#55;&#44;&#32;&#57;&#57;&#125;&#44;&#32;&#10;&#32;&#10;&#62;&#32;&#32;&#32;&#123;&#53;&#57;&#53;&#53;&#44;&#32;&#57;&#57;&#125;&#44;&#32;&#123;&#53;&#57;&#55;&#48;&#44;&#32;&#57;&#57;&#125;&#44;&#32;&#123;&#54;&#51;&#53;&#50;&#44;&#32;&#57;&#57;&#125;&#44;&#32;&#123;&#54;&#51;&#54;&#56;&#44;&#32;&#57;&#57;&#125;&#44;&#32;&#123;&#55;&#49;&#52;&#54;&#44;&#32;&#57;&#57;&#125;&#44;&#32;&#123;&#55;&#49;&#54;&#52;&#44;&#32;&#57;&#57;&#125;&#44;&#32;&#123;&#55;&#51;&#54;&#51;&#44;&#32;&#57;&#57;&#125;&#44;&#32;&#10;&#32;&#10;&#62;&#32;&#32;&#32;&#123;&#55;&#57;&#52;&#48;&#44;&#32;&#57;&#57;&#125;&#44;&#32;&#123;&#55;&#57;&#54;&#48;&#44;&#32;&#57;&#57;&#125;&#44;&#32;&#123;&#56;&#57;&#53;&#53;&#44;&#32;&#57;&#57;&#125;&#44;&#32;&#123;&#57;&#53;&#50;&#56;&#44;&#32;&#57;&#57;&#125;&#44;&#32;&#123;&#57;&#53;&#53;&#50;&#44;&#32;&#57;&#57;&#125;&#44;&#32;&#123;&#57;&#57;&#50;&#53;&#44;&#32;&#57;&#57;&#125;&#44;&#32;&#123;&#57;&#57;&#53;&#48;&#44;&#32;&#57;&#57;&#125;&#125;</pre></div>"
      ],
      "text/plain": [
       "{{199, 99}, {397, 99}, {398, 99}, {597, 99}, {794, 99}, {796, 99}, {995, 99}, \n",
       " \n",
       ">   {1191, 99}, {1194, 99}, {1588, 99}, {1592, 99}, {1791, 99}, {1985, 99}, {1990, 99}, \n",
       " \n",
       ">   {2382, 99}, {2388, 99}, {2985, 99}, {3176, 99}, {3184, 99}, {3573, 99}, {3582, 99}, \n",
       " \n",
       ">   {3970, 99}, {3980, 99}, {4764, 99}, {4776, 99}, {4975, 99}, {5373, 99}, {5427, 99}, \n",
       " \n",
       ">   {5955, 99}, {5970, 99}, {6352, 99}, {6368, 99}, {7146, 99}, {7164, 99}, {7363, 99}, \n",
       " \n",
       ">   {7940, 99}, {7960, 99}, {8955, 99}, {9528, 99}, {9552, 99}, {9925, 99}, {9950, 99}}"
      ]
     },
     "metadata": {},
     "output_type": "display_data"
    }
   ],
   "source": [
    "Cases[Table[{n, Length[RealDigits[1/n][[1, -1]]]}, {n, 9999}], {_, 99}]"
   ]
  },
  {
   "cell_type": "code",
   "execution_count": null,
   "metadata": {
    "vscode": {
     "languageId": "wolfram"
    }
   },
   "outputs": [
    {
     "data": {
      "text/html": [
       "<div><pre style=\"&#102;&#111;&#110;&#116;&#45;&#102;&#97;&#109;&#105;&#108;&#121;&#58;&#32;&#34;&#67;&#111;&#117;&#114;&#105;&#101;&#114;&#32;&#78;&#101;&#119;&#34;&#44;&#67;&#111;&#117;&#114;&#105;&#101;&#114;&#44;&#109;&#111;&#110;&#111;&#115;&#112;&#97;&#99;&#101;&#59;\">&#48;&#46;&#48;&#48;&#49;&#48;&#49;&#55;&#50;&#57;&#51;&#57;&#57;&#55;&#57;&#54;&#53;&#52;&#49;&#50;&#48;&#48;&#52;&#48;&#54;&#57;&#49;&#55;&#53;&#57;&#57;&#49;&#56;&#54;&#49;&#54;&#52;&#56;&#48;&#49;&#54;&#50;&#55;&#54;&#55;&#48;&#51;&#57;&#54;&#55;&#52;&#52;&#54;&#53;&#57;&#50;&#48;&#54;&#53;&#49;&#48;&#54;&#56;&#49;&#53;&#56;&#54;&#57;&#55;&#56;&#54;&#51;&#54;&#56;&#50;&#54;&#48;&#52;&#50;&#55;&#50;&#54;&#51;&#52;&#55;&#57;&#49;&#52;&#92;&#10;&#32;&#10;&#62;&#32;&#32;&#32;&#53;&#52;&#55;&#51;&#48;&#52;&#49;&#55;&#48;&#57;&#48;&#53;&#51;&#57;&#49;&#54;&#53;&#56;&#49;&#56;&#57;&#50;&#49;&#54;&#54;&#56;&#51;&#54;&#50;&#49;&#53;&#54;&#54;&#54;&#51;&#50;&#55;&#53;&#54;&#56;&#54;&#54;&#55;&#51;&#52;&#52;&#56;&#54;&#50;&#54;&#54;&#53;&#51;&#49;&#48;&#50;&#55;&#52;&#54;&#54;&#57;&#51;&#55;&#57;&#52;&#53;&#48;&#54;&#54;&#49;&#50;&#52;&#49;&#48;&#57;&#56;&#54;&#55;&#55;&#53;&#49;&#55;&#56;&#48;&#92;&#10;&#32;&#10;&#62;&#32;&#32;&#32;&#50;&#54;&#52;&#52;&#57;&#54;&#52;&#51;&#57;&#52;&#55;&#49;&#48;&#48;&#55;&#49;&#50;&#49;&#48;&#53;&#55;&#57;&#56;&#53;&#55;&#53;&#55;&#56;&#56;&#52;&#48;&#50;&#56;&#52;&#56;&#52;&#50;&#51;&#49;&#57;&#52;&#51;&#48;&#51;&#49;&#53;&#51;&#54;&#49;&#49;&#51;&#57;&#51;&#54;&#57;&#50;&#55;&#55;&#55;&#50;&#49;&#50;&#54;&#49;&#52;&#52;&#52;&#53;&#53;&#55;&#52;&#55;&#55;&#49;&#49;&#48;&#56;&#56;&#53;&#48;&#52;&#53;&#55;&#55;&#92;&#10;&#32;&#10;&#62;&#32;&#32;&#32;&#56;&#50;&#50;&#57;&#57;&#48;&#56;&#52;&#52;&#51;&#53;&#52;&#48;&#49;&#56;&#51;&#49;&#49;&#50;&#57;&#49;&#57;&#54;&#51;&#51;&#55;&#55;&#52;&#49;&#54;&#48;&#55;&#51;&#50;&#52;&#53;&#49;&#54;&#55;&#56;&#53;&#51;&#53;&#48;&#57;&#54;&#54;&#52;&#50;&#57;&#50;&#57;&#56;&#48;&#54;&#55;&#49;&#52;&#49;&#52;&#48;&#51;&#56;&#54;&#53;&#55;&#49;&#55;&#49;&#57;&#50;&#50;&#54;&#56;&#53;&#54;&#53;&#54;&#49;&#53;&#52;&#54;&#50;&#56;&#92;&#10;&#32;&#10;&#62;&#32;&#32;&#32;&#54;&#56;&#55;&#54;&#57;&#48;&#55;&#52;&#50;&#54;&#50;&#52;&#54;&#49;&#56;&#53;&#49;&#52;&#55;&#53;&#48;&#55;&#54;&#50;&#57;&#55;&#48;&#52;&#57;&#56;&#52;&#55;&#52;&#48;&#53;&#57;&#48;&#48;&#51;&#48;&#53;&#49;&#56;&#56;&#49;&#57;&#57;&#51;&#56;&#57;&#54;&#50;&#51;&#54;&#48;&#49;&#50;&#50;&#48;&#55;&#53;&#50;&#55;&#57;&#55;&#53;&#53;&#56;&#52;&#57;&#52;&#52;&#48;&#52;&#56;&#56;&#51;&#48;&#49;&#49;&#49;&#57;&#48;&#50;&#92;&#10;&#32;&#10;&#62;&#32;&#32;&#32;&#51;&#51;&#57;&#55;&#55;&#54;&#49;&#57;&#53;&#51;&#50;&#48;&#52;&#52;&#55;&#54;&#48;&#57;&#51;&#53;&#57;&#49;&#48;&#52;&#55;&#56;&#49;&#50;&#56;&#49;&#55;&#57;&#48;&#52;&#51;&#55;&#52;&#51;&#54;&#52;&#49;&#57;&#49;&#50;&#53;&#49;&#50;&#55;&#49;&#54;&#49;&#55;&#52;&#57;&#55;&#52;&#53;&#54;&#55;&#54;&#53;&#48;&#48;&#53;&#48;&#56;&#54;&#52;&#54;&#57;&#57;&#56;&#57;&#56;&#50;&#55;&#48;&#54;&#48;&#48;&#50;&#48;&#51;&#52;&#92;&#10;&#32;&#10;&#62;&#32;&#32;&#32;&#53;&#56;&#55;&#57;&#57;&#53;&#57;&#51;&#48;&#56;&#50;&#52;&#48;&#48;&#56;&#49;&#51;&#56;&#51;&#53;&#49;&#57;&#56;&#51;&#55;&#50;&#51;&#50;&#57;&#54;&#48;&#51;&#50;&#53;&#53;&#51;&#52;&#48;&#55;&#57;&#51;&#52;&#56;&#57;&#51;&#49;&#56;&#52;&#49;&#51;&#48;&#50;&#49;&#51;&#54;&#51;&#49;&#55;&#51;&#57;&#53;&#55;&#50;&#55;&#51;&#54;&#53;&#50;&#48;&#56;&#53;&#52;&#53;&#50;&#54;&#57;&#53;&#56;&#50;&#57;&#48;&#57;&#52;&#54;&#92;&#10;&#32;&#10;&#62;&#32;&#32;&#32;&#48;&#56;&#51;&#52;&#49;&#56;&#49;&#48;&#55;&#56;&#51;&#51;&#49;&#54;&#51;&#55;&#56;&#52;&#51;&#51;&#51;&#54;&#55;&#50;&#52;&#51;&#49;&#51;&#51;&#50;&#54;&#53;&#53;&#49;&#51;&#55;&#51;&#51;&#52;&#54;&#56;&#57;&#55;&#50;&#53;&#51;&#51;&#48;&#54;&#50;&#48;&#53;&#52;&#57;&#51;&#51;&#56;&#55;&#53;&#56;&#57;&#48;&#49;&#51;&#50;&#50;&#52;&#56;&#50;&#49;&#57;&#55;&#51;&#53;&#53;&#48;&#51;&#53;&#54;&#48;&#53;&#50;&#56;&#57;&#92;&#10;&#32;&#10;&#62;&#32;&#32;&#32;&#57;&#50;&#56;&#55;&#56;&#57;&#52;&#50;&#48;&#49;&#52;&#50;&#52;&#50;&#49;&#49;&#53;&#57;&#55;&#49;&#53;&#49;&#53;&#55;&#54;&#56;&#48;&#53;&#54;&#57;&#54;&#56;&#52;&#54;&#51;&#56;&#56;&#54;&#48;&#54;&#51;&#48;&#55;&#50;&#50;&#50;&#55;&#56;&#55;&#51;&#56;&#53;&#53;&#53;&#52;&#52;&#50;&#53;&#50;&#50;&#56;&#56;&#57;&#49;&#49;&#52;&#57;&#53;&#52;&#50;&#50;&#49;&#55;&#55;&#48;&#48;&#57;&#49;&#53;&#53;&#54;&#52;&#53;&#57;&#92;&#10;&#32;&#10;&#62;&#32;&#32;&#32;&#56;&#49;&#54;&#56;&#56;&#55;&#48;&#56;&#48;&#51;&#54;&#54;&#50;&#50;&#53;&#56;&#51;&#57;&#50;&#54;&#55;&#53;&#52;&#56;&#51;&#50;&#49;&#52;&#54;&#52;&#57;&#48;&#51;&#51;&#53;&#55;&#48;&#55;&#48;&#49;&#57;&#51;&#50;&#56;&#53;&#56;&#53;&#57;&#54;&#49;&#51;&#52;&#50;&#56;&#50;&#56;&#48;&#55;&#55;&#51;&#49;&#52;&#51;&#52;&#51;&#56;&#52;&#53;&#51;&#55;&#49;&#51;&#49;&#50;&#51;&#48;&#57;&#50;&#53;&#55;&#51;&#55;&#53;&#51;&#92;&#10;&#32;&#10;&#62;&#32;&#32;&#32;&#56;&#49;&#52;&#56;&#53;&#50;&#52;&#57;&#50;&#51;&#55;&#48;&#50;&#57;&#53;&#48;&#49;&#53;&#50;&#53;&#57;&#52;&#48;&#57;&#57;&#54;&#57;&#52;&#56;&#49;&#49;&#56;&#48;&#48;&#54;&#49;&#48;&#51;&#55;&#54;&#51;&#57;&#56;&#55;&#55;&#57;&#50;&#52;&#55;&#50;&#48;&#50;&#52;&#52;&#49;&#53;&#48;&#53;&#53;&#57;&#53;&#49;&#49;&#54;&#57;&#56;&#56;&#56;&#48;&#57;&#55;&#54;&#54;&#48;&#50;&#50;&#51;&#56;&#48;&#52;&#54;&#55;&#57;&#53;&#92;&#10;&#32;&#10;&#62;&#32;&#32;&#32;&#53;&#50;&#51;&#57;&#48;&#54;&#52;&#48;&#56;&#57;&#53;&#50;&#49;&#56;&#55;&#49;&#56;&#50;&#48;&#57;&#53;&#54;&#50;&#53;&#54;&#51;&#53;&#56;&#48;&#56;&#55;&#52;&#56;&#55;&#50;&#56;&#51;&#56;&#50;&#53;&#48;&#50;&#53;&#52;&#51;&#50;&#51;&#52;&#57;&#57;&#52;&#57;&#49;&#51;&#53;&#51;&#48;&#48;&#49;&#48;&#49;&#55;&#50;&#57;&#51;&#57;&#57;&#55;&#57;&#54;&#53;&#52;&#49;&#50;&#48;</pre></div>"
      ],
      "text/plain": [
       "0.00101729399796541200406917599186164801627670396744659206510681586978636826042726347914\\\n",
       " \n",
       ">   547304170905391658189216683621566632756866734486266531027466937945066124109867751780\\\n",
       " \n",
       ">   264496439471007121057985757884028484231943031536113936927772126144455747711088504577\\\n",
       " \n",
       ">   822990844354018311291963377416073245167853509664292980671414038657171922685656154628\\\n",
       " \n",
       ">   687690742624618514750762970498474059003051881993896236012207527975584944048830111902\\\n",
       " \n",
       ">   339776195320447609359104781281790437436419125127161749745676500508646998982706002034\\\n",
       " \n",
       ">   587995930824008138351983723296032553407934893184130213631739572736520854526958290946\\\n",
       " \n",
       ">   083418107833163784333672431332655137334689725330620549338758901322482197355035605289\\\n",
       " \n",
       ">   928789420142421159715157680569684638860630722278738555442522889114954221770091556459\\\n",
       " \n",
       ">   816887080366225839267548321464903357070193285859613428280773143438453713123092573753\\\n",
       " \n",
       ">   814852492370295015259409969481180061037639877924720244150559511698880976602238046795\\\n",
       " \n",
       ">   523906408952187182095625635808748728382502543234994913530010172939979654120"
      ]
     },
     "metadata": {},
     "output_type": "display_data"
    }
   ],
   "source": [
    "N[1 / 983, 999]"
   ]
  }
 ],
 "metadata": {
  "kernelspec": {
   "display_name": "Wolfram Language 13.2",
   "language": "Wolfram Language",
   "name": "wolframlanguage13.2"
  },
  "language_info": {
   "codemirror_mode": "mathematica",
   "file_extension": ".m",
   "mimetype": "application/vnd.wolfram.m",
   "name": "Wolfram Language",
   "pygments_lexer": "mathematica",
   "version": "12.0"
  },
  "orig_nbformat": 4
 },
 "nbformat": 4,
 "nbformat_minor": 2
}
