{
 "cells": [
  {
   "cell_type": "markdown",
   "metadata": {},
   "source": [
    "# media-export-for-jupyter-notebook.ipynb\n",
    "\n",
    "created at 2022-08-26"
   ]
  },
  {
   "cell_type": "code",
   "execution_count": null,
   "metadata": {
    "vscode": {
     "languageId": "wolfram"
    }
   },
   "outputs": [],
   "source": [
    "mimeTypeAssoc = <|\n",
    "  \"BMP\" -> \"image/bmp\",\n",
    "  \"PNG\" -> \"image/png\",\n",
    "  \"JPEG\" -> \"image/jpeg\",\n",
    "  \"WebP\" -> \"image/webp\",\n",
    "  \"GIF\" -> \"image/gif\",\n",
    "  \"SVG\" -> \"image/svg+xml\",\n",
    "  \"HTML\" -> \"text/html\",\n",
    "  \"JSON\" -> \"application/json\",\n",
    "  \"Text\" -> \"text/plain\",\n",
    "  \"CSV\" -> \"text/csv\",\n",
    "  \"PDF\" -> \"application/pdf\",\n",
    "  \"AVI\" -> \"video/x-msvideo\",\n",
    "  \"MP4\" -> \"video/mp4\",\n",
    "  \"MIDI\" -> \"audio/midi\",\n",
    "  \"MP3\" -> \"audio/mpeg\",\n",
    "  \"WAV\" -> \"audio/wav\"\n",
    "|>"
   ]
  },
  {
   "cell_type": "code",
   "execution_count": null,
   "metadata": {
    "vscode": {
     "languageId": "wolfram"
    }
   },
   "outputs": [],
   "source": [
    "headAssoc = <|\n",
    "  Image -> \"JPEG\",\n",
    "  Graphics -> \"PDF\",\n",
    "  Manipulate -> \"GIF\",\n",
    "  Video -> \"GIF\"\n",
    "  Audio -> \"MP3\",\n",
    "  Sound -> \"MP3\",\n",
    "  String -> \"Text\",\n",
    "  List -> \"JSON\"\n",
    "|>"
   ]
  },
  {
   "cell_type": "code",
   "execution_count": null,
   "metadata": {
    "vscode": {
     "languageId": "wolfram"
    }
   },
   "outputs": [],
   "source": [
    "exportDataUri[expr_, format_String] := \n",
    " \"data:\" <> Lookup[mimeTypeAssoc, format, \"text/html\"] <> \";base64,\" <>\n",
    "   ExportString[ExportString[expr, format], \"Base64\"]\n",
    "exportDataUri[expr_] := \n",
    " exportDataUri[expr, Lookup[headAssoc, Head[expr], \"HTML\"]]"
   ]
  },
  {
   "cell_type": "code",
   "execution_count": null,
   "metadata": {
    "vscode": {
     "languageId": "wolfram"
    }
   },
   "outputs": [],
   "source": [
    "txt = \"Hello, world!\""
   ]
  },
  {
   "cell_type": "code",
   "execution_count": null,
   "metadata": {
    "vscode": {
     "languageId": "wolfram"
    }
   },
   "outputs": [],
   "source": [
    "li = ( {\n",
    "   {1, 2, 3},\n",
    "   {4, 5, 6},\n",
    "   {7, 8, 9}\n",
    "  } )"
   ]
  },
  {
   "cell_type": "code",
   "execution_count": null,
   "metadata": {
    "vscode": {
     "languageId": "wolfram"
    }
   },
   "outputs": [],
   "source": [
    "img = ExampleData[{\"TestImage\", \"House\"}]"
   ]
  },
  {
   "cell_type": "code",
   "execution_count": null,
   "metadata": {
    "vscode": {
     "languageId": "wolfram"
    }
   },
   "outputs": [],
   "source": [
    "g = Plot[x^2, {x, -5, 5}]"
   ]
  },
  {
   "cell_type": "code",
   "execution_count": null,
   "metadata": {
    "vscode": {
     "languageId": "wolfram"
    }
   },
   "outputs": [],
   "source": [
    "gLi = Table[Plot[Sin[n x], {x, 0, 10}], {n, 5}];\n",
    "ListAnimate[gLi]"
   ]
  },
  {
   "cell_type": "code",
   "execution_count": null,
   "metadata": {
    "vscode": {
     "languageId": "wolfram"
    }
   },
   "outputs": [],
   "source": [
    "audio = ExampleData[{\"Audio\", \"PianoScale\"}]"
   ]
  },
  {
   "cell_type": "code",
   "execution_count": null,
   "metadata": {
    "vscode": {
     "languageId": "wolfram"
    }
   },
   "outputs": [],
   "source": [
    "snd = ExampleData[{\"Sound\", \"PianoScale\"}]"
   ]
  },
  {
   "cell_type": "code",
   "execution_count": null,
   "metadata": {
    "vscode": {
     "languageId": "wolfram"
    }
   },
   "outputs": [],
   "source": [
    "CopyToClipboard[exportDataUri[g]]"
   ]
  },
  {
   "cell_type": "code",
   "execution_count": null,
   "metadata": {
    "vscode": {
     "languageId": "wolfram"
    }
   },
   "outputs": [],
   "source": [
    "(* Mathematicaでは右クリックでURLをコピーできるがVSCodeではできない *)\n",
    "Hyperlink[\"Text\", exportDataUri[txt]]\n",
    "Hyperlink[\"List\", exportDataUri[li]]\n",
    "Hyperlink[\"Image\", exportDataUri[img]]\n",
    "Hyperlink[\"Graphics\", exportDataUri[g]]\n",
    "Hyperlink[\"Video\", exportDataUri[gLi]]\n",
    "Hyperlink[\"Audio\", exportDataUri[audio]]\n",
    "Hyperlink[\"Sound\", exportDataUri[snd]]"
   ]
  },
  {
   "cell_type": "code",
   "execution_count": null,
   "metadata": {
    "vscode": {
     "languageId": "wolfram"
    }
   },
   "outputs": [],
   "source": [
    "(* 原始的or非圧縮系のワンライナー *)\n",
    "\n",
    "exportBmp[expr_] := \"data:image/bmp;base64,\" <> ExportString[ExportString[expr, \"BMP\"], \"Base64\"]\n",
    "\n",
    "exportSvg[expr_] := \"data:image/svg+xml;base64,\" <> ExportString[ExportString[expr, \"SVG\"], \"Base64\"]\n",
    "\n",
    "exportAvi[expr_] := \"data:video/avi;base64,\" <> ExportString[ExportString[expr, \"AVI\"], \"Base64\"]\n",
    "\n",
    "exportWav[expr_] := \"data:audio/wav;base64,\" <> ExportString[ExportString[expr, \"MP3\"], \"Base64\"]"
   ]
  },
  {
   "cell_type": "code",
   "execution_count": null,
   "metadata": {
    "vscode": {
     "languageId": "wolfram"
    }
   },
   "outputs": [],
   "source": [
    "CopyToClipboard[exportMp3[snd]]"
   ]
  },
  {
   "cell_type": "code",
   "execution_count": null,
   "metadata": {
    "vscode": {
     "languageId": "wolfram"
    }
   },
   "outputs": [],
   "source": [
    "(* 汎用or軽量系のワンライナー *)\n",
    "\n",
    "exportJpeg[expr_] := \"data:image/jpeg;base64,\" <> ExportString[ExportString[expr, \"JPEG\"], \"Base64\"]\n",
    "\n",
    "exportPng[expr_] := \"data:image/png;base64,\" <> ExportString[ExportString[expr, \"PNG\"], \"Base64\"]\n",
    "\n",
    "exportPdf[expr_] := \"data:application/pdf;base64,\" <> ExportString[ExportString[expr, \"PDF\"], \"Base64\"]\n",
    "\n",
    "exportGif[expr_] := \"data:image/gif;base64,\" <> ExportString[ExportString[expr, \"GIF\"], \"Base64\"]\n",
    "\n",
    "exportMp4[expr_] := \"data:video/mp4;base64,\" <> ExportString[ExportString[expr, \"MP3\"], \"Base64\"]\n",
    "\n",
    "exportMp3[expr_] := \"data:audio/mpeg;base64,\" <> ExportString[ExportString[expr, \"MP3\"], \"Base64\"]"
   ]
  },
  {
   "cell_type": "code",
   "execution_count": null,
   "metadata": {
    "vscode": {
     "languageId": "wolfram"
    }
   },
   "outputs": [],
   "source": [
    "exportMp3[expr_] := \"data:audio/mpeg;base64,\" <> ExportString[ExportString[expr, \"MP3\"], \"Base64\"]"
   ]
  },
  {
   "cell_type": "code",
   "execution_count": null,
   "metadata": {
    "vscode": {
     "languageId": "wolfram"
    }
   },
   "outputs": [],
   "source": [
    "CopyToClipboard[exportMp3[snd]]"
   ]
  },
  {
   "cell_type": "code",
   "execution_count": null,
   "metadata": {
    "vscode": {
     "languageId": "wolfram"
    }
   },
   "outputs": [],
   "source": [
    "exportMp3[expr_] := \"data:audio/mpeg;base64,\" <> ExportString[ExportString[expr, \"MP3\"], \"Base64\"]"
   ]
  },
  {
   "cell_type": "code",
   "execution_count": null,
   "metadata": {
    "vscode": {
     "languageId": "wolfram"
    }
   },
   "outputs": [],
   "source": []
  }
 ],
 "metadata": {
  "kernelspec": {
   "display_name": "Wolfram Language 12",
   "language": "Wolfram Language",
   "name": "wolframlanguage12"
  },
  "language_info": {
   "codemirror_mode": "mathematica",
   "file_extension": ".m",
   "mimetype": "application/vnd.wolfram.m",
   "name": "Wolfram Language",
   "pygments_lexer": "mathematica",
   "version": "12.0"
  },
  "orig_nbformat": 4
 },
 "nbformat": 4,
 "nbformat_minor": 2
}
