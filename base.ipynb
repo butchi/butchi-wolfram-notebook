{
 "cells": [],
 "metadata": {
  "kernelspec": {
   "display_name": "Wolfram Language 13",
   "language": "Wolfram Language",
   "name": "wolframlanguage13"
  },
  "language_info": {
   "name": "Wolfram Language"
  },
  "orig_nbformat": 4
 },
 "nbformat": 4,
 "nbformat_minor": 2
}
