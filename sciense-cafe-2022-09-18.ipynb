{
 "cells": [
  {
   "cell_type": "code",
   "execution_count": null,
   "metadata": {
    "vscode": {
     "languageId": "wolfram"
    }
   },
   "outputs": [],
   "source": [
    "imgOrig = Import[\n",
    "\"https://content.wolfram.com/uploads/sites/10/2016/06/wolfram-language-logo.png\"\n",
    "]\n",
    "imgCrop = ImageCrop[imgOrig]\n",
    "imgPad = ImagePad[imgCrop, 5, White]\n",
    "colorLi = { Black, Red, White }\n",
    "binImgLi = ColorNegate[Binarize[ColorDistance[imgPad, #], 0.5]]& /@ colorLi\n",
    "mcImgLi = MorphologicalComponents /@ binImgLi;\n",
    "Colorize[\n",
    "#,\n",
    "ColorRules -> { 0 -> White, 1 -> Black, 2 -> Blue, 3 -> Red }\n",
    "] & /@ mcImgLi\n",
    "Colorize[\n",
    "#,\n",
    "ColorRules -> { 0 -> White, 1 -> Black, 2 -> Red, 3 -> Blue }\n",
    "] & /@ mcImgLi"
   ]
  }
 ],
 "metadata": {
  "kernelspec": {
   "display_name": "Wolfram Language 13.1",
   "language": "Wolfram Language",
   "name": "wolframlanguage13.1"
  },
  "language_info": {
   "codemirror_mode": "mathematica",
   "file_extension": ".m",
   "mimetype": "application/vnd.wolfram.m",
   "name": "Wolfram Language",
   "pygments_lexer": "mathematica",
   "version": "12.0"
  },
  "orig_nbformat": 4
 },
 "nbformat": 4,
 "nbformat_minor": 2
}
