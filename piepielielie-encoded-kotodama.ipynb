{
 "cells": [
  {
   "cell_type": "markdown",
   "metadata": {},
   "source": [
    "# piepielielie-encoded-kotodama.nb\n",
    "created at 2021-09-16"
   ]
  },
  {
   "cell_type": "code",
   "execution_count": 1,
   "metadata": {
    "vscode": {
     "languageId": "wolfram"
    }
   },
   "outputs": [
    {
     "data": {
      "text/html": [
       "<div><pre style=\"&#102;&#111;&#110;&#116;&#45;&#102;&#97;&#109;&#105;&#108;&#121;&#58;&#32;&#34;&#67;&#111;&#117;&#114;&#105;&#101;&#114;&#32;&#78;&#101;&#119;&#34;&#44;&#67;&#111;&#117;&#114;&#105;&#101;&#114;&#44;&#109;&#111;&#110;&#111;&#115;&#112;&#97;&#99;&#101;&#59;\">&#123;&#50;&#50;&#55;&#44;&#32;&#49;&#50;&#57;&#44;&#32;&#49;&#56;&#55;&#44;&#32;&#50;&#50;&#55;&#44;&#32;&#49;&#50;&#57;&#44;&#32;&#49;&#52;&#54;&#44;&#32;&#50;&#50;&#55;&#44;&#32;&#49;&#51;&#48;&#44;&#32;&#49;&#51;&#48;&#44;&#32;&#50;&#50;&#55;&#44;&#32;&#49;&#50;&#57;&#125;</pre></div>"
      ],
      "text/plain": [
       "{227, 129, 187, 227, 129, 146, 227, 130, 130, 227, 129}"
      ]
     },
     "execution_count": 1,
     "metadata": {
      "text/html": [],
      "text/plain": []
     },
     "output_type": "execute_result"
    }
   ],
   "source": [
    "ToCharacterCode[\"縺ｻ縺偵ｂ縺\", \"ShiftJIS\"]"
   ]
  },
  {
   "cell_type": "code",
   "execution_count": 2,
   "metadata": {
    "vscode": {
     "languageId": "wolfram"
    }
   },
   "outputs": [
    {
     "data": {
      "text/html": [
       "<div><pre style=\"&#102;&#111;&#110;&#116;&#45;&#102;&#97;&#109;&#105;&#108;&#121;&#58;&#32;&#34;&#67;&#111;&#117;&#114;&#105;&#101;&#114;&#32;&#78;&#101;&#119;&#34;&#44;&#67;&#111;&#117;&#114;&#105;&#101;&#114;&#44;&#109;&#111;&#110;&#111;&#115;&#112;&#97;&#99;&#101;&#59;\">&#123;&#50;&#50;&#55;&#44;&#32;&#49;&#50;&#57;&#44;&#32;&#49;&#56;&#55;&#44;&#32;&#50;&#50;&#55;&#44;&#32;&#49;&#50;&#57;&#44;&#32;&#49;&#52;&#54;&#44;&#32;&#50;&#50;&#55;&#44;&#32;&#49;&#51;&#48;&#44;&#32;&#49;&#51;&#48;&#44;&#32;&#50;&#50;&#55;&#44;&#32;&#49;&#50;&#57;&#44;&#32;&#49;&#52;&#52;&#125;</pre></div>"
      ],
      "text/plain": [
       "{227, 129, 187, 227, 129, 146, 227, 130, 130, 227, 129, 144}"
      ]
     },
     "execution_count": 2,
     "metadata": {
      "text/html": [],
      "text/plain": []
     },
     "output_type": "execute_result"
    }
   ],
   "source": [
    "ToCharacterCode[\"ほげもぐ\", \"UTF-8\"]"
   ]
  },
  {
   "cell_type": "code",
   "execution_count": 3,
   "metadata": {
    "vscode": {
     "languageId": "wolfram"
    }
   },
   "outputs": [
    {
     "data": {
      "text/html": [
       "<div><pre style=\"&#102;&#111;&#110;&#116;&#45;&#102;&#97;&#109;&#105;&#108;&#121;&#58;&#32;&#34;&#67;&#111;&#117;&#114;&#105;&#101;&#114;&#32;&#78;&#101;&#119;&#34;&#44;&#67;&#111;&#117;&#114;&#105;&#101;&#114;&#44;&#109;&#111;&#110;&#111;&#115;&#112;&#97;&#99;&#101;&#59;\">&#123;&#50;&#50;&#55;&#44;&#32;&#49;&#50;&#57;&#44;&#32;&#49;&#56;&#55;&#44;&#32;&#50;&#50;&#55;&#44;&#32;&#49;&#50;&#57;&#44;&#32;&#49;&#52;&#54;&#44;&#32;&#50;&#50;&#55;&#44;&#32;&#49;&#51;&#48;&#44;&#32;&#49;&#51;&#48;&#44;&#32;&#50;&#50;&#55;&#44;&#32;&#49;&#50;&#57;&#44;&#32;&#49;&#52;&#54;&#125;</pre></div>"
      ],
      "text/plain": [
       "{227, 129, 187, 227, 129, 146, 227, 130, 130, 227, 129, 146}"
      ]
     },
     "execution_count": 3,
     "metadata": {
      "text/html": [],
      "text/plain": []
     },
     "output_type": "execute_result"
    }
   ],
   "source": [
    "ToCharacterCode[\"ほげもげ\", \"UTF-8\"]"
   ]
  },
  {
   "cell_type": "code",
   "execution_count": 4,
   "metadata": {
    "vscode": {
     "languageId": "wolfram"
    }
   },
   "outputs": [
    {
     "data": {
      "text/html": [
       "<div><pre style=\"&#102;&#111;&#110;&#116;&#45;&#102;&#97;&#109;&#105;&#108;&#121;&#58;&#32;&#34;&#67;&#111;&#117;&#114;&#105;&#101;&#114;&#32;&#78;&#101;&#119;&#34;&#44;&#67;&#111;&#117;&#114;&#105;&#101;&#114;&#44;&#109;&#111;&#110;&#111;&#115;&#112;&#97;&#99;&#101;&#59;\">&#32314;&#65403;&#32314;&#20597;&#65346;&#32314;</pre></div>"
      ],
      "text/plain": [
       "縺ｻ縺偵ｂ縺"
      ]
     },
     "execution_count": 4,
     "metadata": {
      "text/html": [],
      "text/plain": []
     },
     "output_type": "execute_result"
    }
   ],
   "source": [
    "FromCharacterCode[{227, 129, 187, 227, 129, 146, 227, 130, 130, 227, 129}, \"ShiftJIS\"]"
   ]
  },
  {
   "cell_type": "code",
   "execution_count": 5,
   "metadata": {
    "vscode": {
     "languageId": "wolfram"
    }
   },
   "outputs": [
    {
     "ename": "$CharacterEncoding::sjis",
     "evalue": "The byte sequence {144} could not be interpreted as a character in the ShiftJIS character encoding.",
     "output_type": "error",
     "traceback": [
      "\u001b[0;31m$CharacterEncoding::sjis: The byte sequence {144} could not be interpreted as a character in the ShiftJIS character encoding.\u001b[0m"
     ]
    },
    {
     "data": {
      "text/html": [
       "<div><img alt=\"Output\" src=\"data:image/png;base64,iVBORw0KGgoAAAANSUhEUgAAAEYAAAAPCAIAAADWGy53AAAAhXpUWHRSYXcgcHJvZmlsZSB0eXBlIGV4aWYAAHjaVYvBDcMwDAP/mqIjyLJM2uMYiQNkg45fuu0n9yApgbT1vi97felp2dgxABc5csRU6P6juNciDXn+X9MfZGWgoRhTluEkhnJXkqKFN+LCAahYcIbnIV8gNQN3o86928QyPusLVffpbh/5eCey76LuBgAAAAlwSFlzAAALEwAACxMBAJqcGAAAADx0RVh0U29mdHdhcmUAQ3JlYXRlZCB3aXRoIHRoZSBXb2xmcmFtIExhbmd1YWdlIDogd3d3LndvbGZyYW0uY29tXKKmhQAAACF0RVh0Q3JlYXRpb24gVGltZQAyMDIyOjA4OjI2IDE3OjQ2OjMy8Qvg7gAAAUxJREFUSIndVrsRwjAMjXyMAg3HBGQCqJgCShiCAaAMI9ADE8ASZBdRKAidLDtK4A6OV+TsWO9ZPzsBRCz+C+HbDnweTUgAwE/5xoRa8nBNigedHGsMEBEAuP1iglyisbLvxI0tlQMqHo+4QpCOsp18ZuDkmh7jE++I1/sSFFaXQEkiPmdClZsM1KB4JjjPjR1VUik4xZdnfOG+m/JZ4ujjlHBG1UDuneGaDWPWhxOtjDPihMuKytNMg8qZrHX7QXRwna5TNQhSwePYrELE+3jbBBVk4rnQqiYp9OOaVUodNpd4vS9htJksZhSSunyKdLvzqtlUea6EWSXTzClen4635RkriqgYxFqx6354uGZGPNulxIfrq5wn/x7MDZxx5m1S1wC/b+12OT3M4YXR5kafWvZV3ZhKIrVZKxesb3Re0y9uUHp014/jD39bHzzEkj728l39AAAAAElFTkSuQmCC\"></div>"
      ],
      "text/plain": [
       "縺ｻ縺偵ｂ縺"
      ]
     },
     "execution_count": 5,
     "metadata": {
      "text/html": [],
      "text/plain": []
     },
     "output_type": "execute_result"
    }
   ],
   "source": [
    "FromCharacterCode[ToCharacterCode[\"ほげもぐ\", \"UTF-8\"], \"ShiftJIS\"]"
   ]
  },
  {
   "cell_type": "code",
   "execution_count": 6,
   "metadata": {
    "vscode": {
     "languageId": "wolfram"
    }
   },
   "outputs": [
    {
     "ename": "$CharacterEncoding::sjis",
     "evalue": "The byte sequence {146} could not be interpreted as a character in the ShiftJIS character encoding.",
     "output_type": "error",
     "traceback": [
      "\u001b[0;31m$CharacterEncoding::sjis: The byte sequence {146} could not be interpreted as a character in the ShiftJIS character encoding.\u001b[0m"
     ]
    },
    {
     "data": {
      "text/html": [
       "<div><img alt=\"Output\" src=\"data:image/png;base64,iVBORw0KGgoAAAANSUhEUgAAAEYAAAAPCAIAAADWGy53AAAAhXpUWHRSYXcgcHJvZmlsZSB0eXBlIGV4aWYAAHjaVYvBDcMwDAP/mqIjyLJM2uMYiQNkg45fuu0n9yApgbT1vi97felp2dgxABc5csRU6P6juNciDXn+X9MfZGWgoRhTluEkhnJXkqKFN+LCAahYcIbnIV8gNQN3o86928QyPusLVffpbh/5eCey76LuBgAAAAlwSFlzAAALEwAACxMBAJqcGAAAADx0RVh0U29mdHdhcmUAQ3JlYXRlZCB3aXRoIHRoZSBXb2xmcmFtIExhbmd1YWdlIDogd3d3LndvbGZyYW0uY29tXKKmhQAAACF0RVh0Q3JlYXRpb24gVGltZQAyMDIyOjA4OjI2IDE3OjQ2OjU4R4SudgAAAUxJREFUSIndVrsRwjAMjXyMAg3HBGQCqJgCShiCAaAMI9ADE8ASZBdRKAidLDtK4A6OV+TsWO9ZPzsBRCz+C+HbDnweTUgAwE/5xoRa8nBNigedHGsMEBEAuP1iglyisbLvxI0tlQMqHo+4QpCOsp18ZuDkmh7jE++I1/sSFFaXQEkiPmdClZsM1KB4JjjPjR1VUik4xZdnfOG+m/JZ4ujjlHBG1UDuneGaDWPWhxOtjDPihMuKytNMg8qZrHX7QXRwna5TNQhSwePYrELE+3jbBBVk4rnQqiYp9OOaVUodNpd4vS9htJksZhSSunyKdLvzqtlUea6EWSXTzClen4635RkriqgYxFqx6354uGZGPNulxIfrq5wn/x7MDZxx5m1S1wC/b+12OT3M4YXR5kafWvZV3ZhKIrVZKxesb3Re0y9uUHp014/jD39bHzzEkj728l39AAAAAElFTkSuQmCC\"></div>"
      ],
      "text/plain": [
       "縺ｻ縺偵ｂ縺"
      ]
     },
     "execution_count": 6,
     "metadata": {
      "text/html": [],
      "text/plain": []
     },
     "output_type": "execute_result"
    }
   ],
   "source": [
    "FromCharacterCode[ToCharacterCode[\"ほげもげ\", \"UTF-8\"], \"ShiftJIS\"]"
   ]
  },
  {
   "cell_type": "code",
   "execution_count": null,
   "metadata": {
    "vscode": {
     "languageId": "wolfram"
    }
   },
   "outputs": [],
   "source": []
  }
 ],
 "metadata": {
  "kernelspec": {
   "display_name": "Wolfram Language 12",
   "language": "Wolfram Language",
   "name": "wolframlanguage12"
  },
  "language_info": {
   "codemirror_mode": "mathematica",
   "file_extension": ".m",
   "mimetype": "application/vnd.wolfram.m",
   "name": "Wolfram Language",
   "pygments_lexer": "mathematica",
   "version": "12.0"
  },
  "orig_nbformat": 4
 },
 "nbformat": 4,
 "nbformat_minor": 2
}
