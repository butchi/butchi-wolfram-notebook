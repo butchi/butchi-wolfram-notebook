{
 "cells": [
  {
   "cell_type": "markdown",
   "metadata": {},
   "source": [
    "[素数大富豪って直感的にかなりの確率で初手全部出しできる気がするんだけどどうなんだろう？](https://twitter.com/coilgun_9/status/1579131945836953601)\n",
    "に対する解答"
   ]
  },
  {
   "cell_type": "code",
   "execution_count": 1,
   "metadata": {
    "vscode": {
     "languageId": "wolfram"
    }
   },
   "outputs": [],
   "source": [
    "(* 再現性のためシードを固定 *)\n",
    "SeedRandom[0];"
   ]
  },
  {
   "cell_type": "code",
   "execution_count": 4,
   "metadata": {
    "vscode": {
     "languageId": "wolfram"
    }
   },
   "outputs": [
    {
     "data": {
      "text/html": [
       "<div><pre style=\"&#102;&#111;&#110;&#116;&#45;&#102;&#97;&#109;&#105;&#108;&#121;&#58;&#32;&#34;&#67;&#111;&#117;&#114;&#105;&#101;&#114;&#32;&#78;&#101;&#119;&#34;&#44;&#67;&#111;&#117;&#114;&#105;&#101;&#114;&#44;&#109;&#111;&#110;&#111;&#115;&#112;&#97;&#99;&#101;&#59;\">&#123;&#49;&#44;&#32;&#49;&#44;&#32;&#49;&#44;&#32;&#49;&#44;&#32;&#50;&#44;&#32;&#50;&#44;&#32;&#50;&#44;&#32;&#50;&#44;&#32;&#51;&#44;&#32;&#51;&#44;&#32;&#51;&#44;&#32;&#51;&#44;&#32;&#52;&#44;&#32;&#52;&#44;&#32;&#52;&#44;&#32;&#52;&#44;&#32;&#53;&#44;&#32;&#53;&#44;&#32;&#53;&#44;&#32;&#53;&#44;&#32;&#54;&#44;&#32;&#54;&#44;&#32;&#54;&#44;&#32;&#54;&#44;&#32;&#55;&#44;&#32;&#55;&#44;&#32;&#55;&#44;&#32;&#55;&#44;&#32;&#56;&#44;&#32;&#10;&#32;&#10;&#62;&#32;&#32;&#32;&#56;&#44;&#32;&#56;&#44;&#32;&#56;&#44;&#32;&#57;&#44;&#32;&#57;&#44;&#32;&#57;&#44;&#32;&#57;&#44;&#32;&#49;&#48;&#44;&#32;&#49;&#48;&#44;&#32;&#49;&#48;&#44;&#32;&#49;&#48;&#44;&#32;&#49;&#49;&#44;&#32;&#49;&#49;&#44;&#32;&#49;&#49;&#44;&#32;&#49;&#49;&#44;&#32;&#49;&#50;&#44;&#32;&#49;&#50;&#44;&#32;&#49;&#50;&#44;&#32;&#49;&#50;&#44;&#32;&#49;&#51;&#44;&#32;&#49;&#51;&#44;&#32;&#49;&#51;&#44;&#32;&#49;&#51;&#125;</pre></div>"
      ],
      "text/plain": [
       "{1, 1, 1, 1, 2, 2, 2, 2, 3, 3, 3, 3, 4, 4, 4, 4, 5, 5, 5, 5, 6, 6, 6, 6, 7, 7, 7, 7, 8, \n",
       " \n",
       ">   8, 8, 8, 9, 9, 9, 9, 10, 10, 10, 10, 11, 11, 11, 11, 12, 12, 12, 12, 13, 13, 13, 13}"
      ]
     },
     "execution_count": 4,
     "metadata": {
      "text/html": [],
      "text/plain": []
     },
     "output_type": "execute_result"
    }
   ],
   "source": [
    "(* デッキ ジョーカーは除く *)\n",
    "deck = Sort[Join @@ Table[Range[13], 4]]"
   ]
  },
  {
   "cell_type": "code",
   "execution_count": 5,
   "metadata": {
    "vscode": {
     "languageId": "wolfram"
    }
   },
   "outputs": [],
   "source": [
    "(* 手札listを数値化する関数 *)\n",
    "handToInteger[li_] := FromDigits[StringJoin @@ (ToString /@ li)]"
   ]
  },
  {
   "cell_type": "code",
   "execution_count": 7,
   "metadata": {
    "vscode": {
     "languageId": "wolfram"
    }
   },
   "outputs": [],
   "source": [
    "(* cLen枚のカードをデッキからランダムに引く関数 *)\n",
    "randomHand[cLen_: 11] := RandomSample[deck, cLen]"
   ]
  },
  {
   "cell_type": "code",
   "execution_count": 10,
   "metadata": {
    "vscode": {
     "languageId": "wolfram"
    }
   },
   "outputs": [
    {
     "data": {
      "text/html": [
       "<div><pre style=\"&#102;&#111;&#110;&#116;&#45;&#102;&#97;&#109;&#105;&#108;&#121;&#58;&#32;&#34;&#67;&#111;&#117;&#114;&#105;&#101;&#114;&#32;&#78;&#101;&#119;&#34;&#44;&#67;&#111;&#117;&#114;&#105;&#101;&#114;&#44;&#109;&#111;&#110;&#111;&#115;&#112;&#97;&#99;&#101;&#59;\">&#123;&#56;&#44;&#32;&#49;&#44;&#32;&#52;&#44;&#32;&#49;&#51;&#44;&#32;&#51;&#44;&#32;&#49;&#49;&#44;&#32;&#49;&#50;&#44;&#32;&#49;&#49;&#44;&#32;&#49;&#51;&#44;&#32;&#53;&#44;&#32;&#49;&#49;&#125;</pre></div>"
      ],
      "text/plain": [
       "{8, 1, 4, 13, 3, 11, 12, 11, 13, 5, 11}"
      ]
     },
     "execution_count": 10,
     "metadata": {
      "text/html": [],
      "text/plain": []
     },
     "output_type": "execute_result"
    }
   ],
   "source": [
    "(* 試しに11枚引いてみる *)\n",
    "randomHand[11]"
   ]
  },
  {
   "cell_type": "code",
   "execution_count": 11,
   "metadata": {
    "vscode": {
     "languageId": "wolfram"
    }
   },
   "outputs": [],
   "source": [
    "(* 手札をランダムにシャッフルする関数 *)\n",
    "shuffleHand[li_] := RandomSample[li, Length[li]]\n",
    "\n",
    "(* (* 全部試すなら以下のコードを使える *) *)\n",
    "(* shuffleHandList[li_] := Permutations[li] *)"
   ]
  },
  {
   "cell_type": "code",
   "execution_count": 18,
   "metadata": {
    "vscode": {
     "languageId": "wolfram"
    }
   },
   "outputs": [
    {
     "data": {
      "text/html": [
       "<div><img alt=\"Output\" src=\"data:image/png;base64,iVBORw0KGgoAAAANSUhEUgAAAtcAAAAVCAIAAAACU1WcAAAA0HpUWHRSYXcgcHJvZmlsZSB0eXBlIGV4aWYAAHjabY9rDgIhDIT/cwqP0Ae0cBzWZRNv4PGdCsZgnIT2Y/ogpPF8XOkWEqaUi1drZgTllpt0QKWpmZnaO751OslyNz9xmcAdVvkWbCz/2H23maX+LFr7SeMFsOY1sBapTJ/7vB+rX3qt+6JGm+wD/P+e1cWKsWfELORuDVwTEMmKUHG77G6GRrZTKN+Rh7ljzDw6tMdgSIbv3SOZwjjjCxpHtCuDIrKEo+CijihwDtQamDS+8wJe0Vq8dbM8SgAAAAlwSFlzAAAOxAAADsQBlSsOGwAAADx0RVh0U29mdHdhcmUAQ3JlYXRlZCB3aXRoIHRoZSBXb2xmcmFtIExhbmd1YWdlIDogd3d3LndvbGZyYW0uY29tXKKmhQAAACF0RVh0Q3JlYXRpb24gVGltZQAyMDIyOjEwOjExIDIzOjU3OjIxMjeiUwAACL1JREFUeJztnb1u2zwXgKn3MoqgCExdQ4fC9ZAhyiVYnjIZkObAXjJ6sZHZBjplijX0AiIPGSwhQ69BFIKi98FvOCg/Vj+0RR7TSsNnKBBLPjwkz59IyvU458ThcDgcDofDOv+dWwGHw+FwOBwfFFeFOBwOh8PhOA+uCnE4HA6Hw3EeXBXicDgcDofjPFSrkLIsPc/zfb/xbsVV3/c9z0uSpPErwM3NjbaishzP87TlCNoU1uDm5sbzvDiOTYTEcSx6V5alhoTVauXVaJtKNTA4MnoqVQQ2jnaSJNp6HtMKyBcYzvipOyKPfKMosJM8z01awUJhtLLDNroGiteYo4545l6J6EqyqNVqpSekIu3ULkmQJtqCtijDi5unZJX0JCAmBXLImA+GprYbqlXIw8MD57woikYpjVehn4vFon5/nueU0u12yznnnKdpqleIlGVJKc2yDORQSk1sTqGwBkmSpGlqIgEMlxDC/zAYDDTkzGYz/jeU0uvraz2tlsulLEpPJXJotD3P2+/3QRDoCT+mlfF4LHqRZVkYhnqFiJ2OFEUhtPV9v27n6/Wac45lvdqojTaOY0opYwwurdfrytfNvQaLtoiH5ZUEyZV837++vhZmPJ/PtTOlHUsGzCfajrYow4ubpzzPm06nICqKIr1CBDcpEKUxHwxNbTc0rIUoNKhfTZLk5eWFc35xcVG/f7FYRFE0Ho/hz+12m6apxqPAYDDgnA+HQyGWMab3OKhWWIP7+/vlckkp1ZYQx3EURfVIbUiSJIyxyWSCK7arDorR9n0/yzLzjh8/p8PhkFK63+9xm8DqSIXb21vGWKO/aGdELBRGm+f5ZrNhjCmUNPcaLNrC0Ym8Uo88z2VfHg6HQRC8vb1piLJsyYYTbUdbrOFFzFOr1YpSOpvN4E/oo/nKvYWkcDA01W8wPRcyHo+fn5/brqZpOhqNxJ+Pj4+EkB8/fhg2alJAqBXuymq1YowJW9GgLMs0Te/u7rBUEjw+PgZBIFziLKhHuygKFPW6zunl5SVuE1gdacR+wdG4eL5arUTCVhvt09NTFEUKtRVe09h0kiSWd6BO55V6fPr0iRDy+/dv8UlRFBpmTOxasnl4tKMt4vDKmOSpt7e3yjpKEAQaj08V+pAU6pzwdCoEDjETvu9fXV1RSvVKeJnX11fyx3TOSFmW8/l8u92aCPn58yf8q95E70qe52ma3t/fa0uYz+dYu5v9wTws2iQMw+VyabNF2PetPCrBkrj8idpod7vd5eWlvIUsrzeovebu7q5ucuPxeLFYtB0LOAW4XmnuSoPBIIqiMAxhm8D3/f6bMUp4tMOJhtcwTzXuEproY54UyGnygqV3ZGBjD8VtwLiDIDj7ovTDw0MQBGK/SY9fv34RQvb7PWyzMcY2m4350bPFYkEp1a555dMJQRB4xqdTz4s4oPouwqLI3/KS7KmBFne7nbykDKfJCCGc89lsJjxObbSMsfl8DqJgS1tekFd7Daxpc84rYe75+Zlzvt/v7dQiiF6J5Urr9RrOK8DpQt7737xGCY/WQB9ewzw1mUwYY8LUUc5RGSYFcrK88FcVkiTJ1dVV263qq228vr56npdlGZY5QkRD3FXRAza/DetKgdjahKr8+/fvJtKg5sU6wAhDbb6PdkbkA6phGJq8q2UB4erT6bTtzPlkMjEvVQF4haFy1gzqttFoBPVH4xcVRrtcLoUo2NeAeHq814haRJ4sON0GtQhK+FPHNFyvJGauFMfxt2/f4MBvmqY9fzDADY8WQB9ewzw1HA63220YhlCOwwlckwdv3KRA2o35YGiq3/D/KiTP8zAMv3792vhN9dVGYCVqPp8zxkT9xRiTT4p0BbbKGGPaErC4vb2Nosh8g+3z58+VT8z3I6HmxX0KMd9H6wnaR6TtM5vNKKVPT0/1S8Ph0OQtCQBKDSh65M993w/DUPHkoDbaylFEOXR29RrOeVEUlfWP9XoNBx4Nq0lFTDuFVwo0XClJks1mk2UZDCa86XD2l5wVYIVHO6APL0qekp+d1ut1URQmqfMUSYE0GfPB0FS/4T/5Gue8MeQdvNrIYDCglMrn1OCp7suXL8cLkYHtOvXZezuUZQmLtGKHTPzZNTHAuRn5ebd+LqmrbmmaTqdTbQl1gYQQEwfoIWc3oeNpzH9xHCtWKY4Ewtxut6tsf0BdojiKoTZa3/dfXl7EJbCfi4uLrl4jbxKJ6ClvEhkuiCpiGrpXAtquBDtE8gkD3/fbfk/h7CCGRzvgDu8p8hS8xaNdQ6AnBdJuzAdDU8MNlZeJgyDg7SiuZllGCBE/DQLAHrz4kBASRVHli6CGeMda0fTB244UpVBYQw4A9ZaeqCAIKKWyVvX7j1cpiqL6tGrIkb/SOO9Yo83/HoHTtcI5h6eTyivvnVqx0xFAMZWNxqbdkPxF8SMfsg71EVMYbWWIgiBoixuNXiOeIOstqidX7sXx3W/T7aBX2nQlUECMFQyRdiyVZdqx5MaJ7o+2iMOLnqc453BEvd53rKSgoRJvN2ZFaGq7wbQKaVx0kg0CJhioxzL+Z9rUqstCGls5XtRBhY+UU6GtCjlSlPyrO5U00EkODFTjOHeSIw+OwvMNRxt8o0KlOfRW9Ib3LB1R3Ky4pGG9MpTSumdBHKwEKYXRyg6r0KTuNY3pBB5mjgyRXbuviHhqr7TsSpUYqB1L7Vhyhcbw2CttUYYXMU9xyXLaCiyspKChksKYz1CFmAMhRj1GlkX9wyr1sGsfpBXcJhSubmfEekvX7mvHtB660vtylvelLaKovsnBFYVQhahFaD9gKYCzbL0S9Q+r1MOufZBWcJtQLzBYGLHe0rX7JotGfXOl9+Us70tbRFF9k4MrSqMKqf5eyGg08tr/txv11a7IB816IuofVqmHXfsgreA2IaSduqF3h173NWJaD13pfTnL+9IWUVTf5JxIVNcbvI8ZsBwOh8PhcJwdS7+d6nA4HA6Hw1HhfworV6AUxvyzAAAAAElFTkSuQmCC\"></div>"
      ],
      "text/plain": [
       "{{10, 2, 1, 4, 6, 7, 5, 11, 13, 11, 3}, <<664>>, {6, 5, 8, <<7>>, 5}}"
      ]
     },
     "execution_count": 18,
     "metadata": {
      "text/html": [],
      "text/plain": []
     },
     "output_type": "execute_result"
    }
   ],
   "source": [
    "(* 十分大きな回数ランダムにhandのリストを作り、3の倍数チェックをパスする手札のみ抽出 *)\n",
    "handLi = Table[randomHand[11], 999];\n",
    "handLiPass3Check = Select[handLi, !Divisible[handToInteger[#], 3] &];\n",
    "handLiPass3Check // Short"
   ]
  },
  {
   "cell_type": "code",
   "execution_count": 21,
   "metadata": {
    "vscode": {
     "languageId": "wolfram"
    }
   },
   "outputs": [
    {
     "data": {
      "text/html": [
       "<div><img alt=\"Output\" src=\"data:image/png;base64,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\"></div>"
      ],
      "text/plain": [
       "{{8, 12, 4, 13, 7, 3, 5, 3, 4, 3, 6}, <<48>>, {10, 10, 8, <<7>>, 2}}"
      ]
     },
     "execution_count": 21,
     "metadata": {
      "text/html": [],
      "text/plain": []
     },
     "output_type": "execute_result"
    }
   ],
   "source": [
    "(* 手札を適当にシャッフルして素数になったものだけを抽出 *)\n",
    "handRandomPrimeLi = Select[\n",
    "    handLiPass3Check,\n",
    "    PrimeQ[handToInteger[shuffleHand[#]]] &\n",
    "];\n",
    "Short[handRandomPrimeLi]"
   ]
  },
  {
   "cell_type": "code",
   "execution_count": 23,
   "metadata": {
    "vscode": {
     "languageId": "wolfram"
    }
   },
   "outputs": [
    {
     "data": {
      "text/html": [
       "<div><img alt=\"Output\" src=\"data:image/png;base64,iVBORw0KGgoAAAANSUhEUgAAADsAAAAVCAIAAAB34QGiAAAA0npUWHRSYXcgcHJvZmlsZSB0eXBlIGV4aWYAAHjabY/rjQMhDIT/U8WVYGwYQzlsQqR0kPJvHNCdiDLS2sPnB0uar+cj/YQ0SyrVGzogVOml66BpsrRylv6Ob9m1a/nkKdfNB1H9L2Bufp3csbK2j0Wi+6a4gd7KHtiLTBfPY52v3a+jtXNRl0OQv1//ei7miorshbGouKPTt0TLhKpSHQ/cADZm3FXKjXnCnWPw6LARgyGdfnbPBCO4xxMsPrVhmS5i1iBGX80ZleRirdOLxXN+AVLcWrRHuYJPAAAACXBIWXMAAA7EAAAOxAGVKw4bAAAAPHRFWHRTb2Z0d2FyZQBDcmVhdGVkIHdpdGggdGhlIFdvbGZyYW0gTGFuZ3VhZ2UgOiB3d3cud29sZnJhbS5jb21coqaFAAAAIXRFWHRDcmVhdGlvbiBUaW1lADIwMjI6MTA6MTEgMjM6NTc6MjEyN6JTAAABtElEQVRIie1WMa7CMAw1/yRV02MwsZgzMLGGA3CHVj1EJ5IrwFqukQxcpAwWlrHzUfkIfSHxBtTEjvPy/BKxmKYJPgo//03gaXwZvx+fybjruoVB0zRz1jdNoxbmnGXCg4Lr9Zqju92uWLaw5VSCc857XwzZzLZti6GUEgBw1DnnnOMoIiKizOQdvfcpJU5TZQuuiDGmlDabzRyNH6Dve0Tc7/c0HIYhpXQ+nwEg53w8HrfbLYXquvbey+bUda0+GAXGwzAg4nK5fJHx6XRarVY8PBwO/Es8LpcLR3POTK6qqhgjAMQYq6qiSZoBMK4YxxEAxnGcYwnqtWSpLBFC4OZ676UT2raFmxMQEQDYCWQMjlJlpqQZI6J021OQG0vG7HXJmHMAoLgjR9X83ZgEZmH+ALhdNb52SmmlMSlHjWIVQwh8DNvtO8avCMyM+cqrbk5CbCsNbx1CoAp0ZuqbzNTO++2pmgPrXesBOgCpKA9DxpXV5PMq68CDNRLURPs6SqgEElK+x+oBvuNhikvG8huK1S3oPNYz8qGwF4Bvj3SLDdmoSpCVF9P3//G78WX8fnwe4ytkmm01OgwIiQAAAABJRU5ErkJggg==\"></div>"
      ],
      "text/plain": [
       "7.508%"
      ]
     },
     "execution_count": 23,
     "metadata": {
      "text/html": [],
      "text/plain": []
     },
     "output_type": "execute_result"
    }
   ],
   "source": [
    "(* 3倍チェックだけして適当に出した全出しが素数になる確率 *)\n",
    "PercentForm[N[Length[handRandomPrimeLi] / Length[handLiPass3Check]]]"
   ]
  },
  {
   "cell_type": "code",
   "execution_count": 26,
   "metadata": {
    "vscode": {
     "languageId": "wolfram"
    }
   },
   "outputs": [
    {
     "data": {
      "text/html": [
       "<div><img alt=\"Output\" src=\"data:image/png;base64,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\"></div>"
      ],
      "text/plain": [
       "{{10, 2, 1, 4, 6, 7, 5, 11, 13, 11, 3}, <<656>>, {6, 5, 8, <<7>>, 5}}"
      ]
     },
     "execution_count": 26,
     "metadata": {
      "text/html": [],
      "text/plain": []
     },
     "output_type": "execute_result"
    }
   ],
   "source": [
    "(* 手札を十分大きな回数シャッフルしていずれかが素数になるものだけを抽出 *)\n",
    "handIncludePrimeLi = Select[\n",
    "    handLiPass3Check,\n",
    "    AnyTrue[\n",
    "        Table[shuffleHand[#], 99], \n",
    "        PrimeQ[handToInteger[#]] &\n",
    "    ] &\n",
    "];\n",
    "Short[handIncludePrimeLi]\n"
   ]
  },
  {
   "cell_type": "code",
   "execution_count": 28,
   "metadata": {
    "vscode": {
     "languageId": "wolfram"
    }
   },
   "outputs": [
    {
     "data": {
      "text/html": [
       "<div><img alt=\"Output\" src=\"data:image/png;base64,iVBORw0KGgoAAAANSUhEUgAAADEAAAAVCAIAAABgw5FrAAAAz3pUWHRSYXcgcHJvZmlsZSB0eXBlIGV4aWYAAHjabU/rjYMhDPvPFDdCSMCBcfhaKnWDjl+noJ44nSVix3kAab6ej/QT0CypVG/ogBCll66DosnC4iz9Ez+wzcwPP+W6/UGr/hYwt3+dvmOxtj+LRL835dBW9sBeZLr8PFZ+7X4drZ2LuhyAfJ/+b17MFRXZC2NRcUenbomShKpSHQ/cADZm3FXKjTzhzjF4dNiIwYBOP7tngtG4xxcsjtqwTBUxazhGXc0ZWdWLtU4tFt95AwrDWoRjv9fsAAAACXBIWXMAAA7EAAAOxAGVKw4bAAAAPHRFWHRTb2Z0d2FyZQBDcmVhdGVkIHdpdGggdGhlIFdvbGZyYW0gTGFuZ3VhZ2UgOiB3d3cud29sZnJhbS5jb21coqaFAAAAIXRFWHRDcmVhdGlvbiBUaW1lADIwMjI6MTA6MTEgMjM6NTc6MjKrPvPpAAABoUlEQVRIie1WMZLCMAxUeEaqDM4bKJihRW/xU8wH+EHsgg/QkjwDMxQM39AVOwidw4V0R8FWQfZKWq3toRIR+jAs/ruBF/j2NA+f3VPbttUDxaaUUmUwP/swDJZ4uVzsqlYsaSKCqxdCwLf3XuMiEmMkopwzfjKzXZ1A3/dE1Pe9Tat5vPc2pyWSiIQQnHO/okQxRiVYDippugl4723anHPRot1piQsiul6vbdva4THz6XTC93K5PJ/PunS73RB8a1zTNOgDuN/vRFTXta6mlIgopdQ0DYKI0FhQMRvNKw8f1eW3ADHnjOkW84CbCGInpkhqh5qFwoXHOEZ2+DOBwja/hRX8VGL7ALz3zKyaQMPPEMJY7gRU21gnIvCn0Pn6BjnnVJZzbpxrzrSY2R4J60aMEcIgGCZoxRc9gWy12sEURk+gEIPyxVm0mXVz+Y7vdrvNZmOtZOb9fq/PXdd1RLRarSwLT98wDDa43W6Px6MGD4cDEa3Xa/oDz7uswwCKC6gKLLlY1XM6Hp4ecGD8qtnHQumVfP8/zcG3p3n4xJ5+AIW9n177CnUoAAAAAElFTkSuQmCC\"></div>"
      ],
      "text/plain": [
       "98.8%"
      ]
     },
     "execution_count": 28,
     "metadata": {
      "text/html": [],
      "text/plain": []
     },
     "output_type": "execute_result"
    }
   ],
   "source": [
    "(* 3倍チェックだけして全出しが素数になる確率（概算） *)\n",
    "PercentForm[N[Length[handIncludePrimeLi] / Length[handLiPass3Check]]]"
   ]
  },
  {
   "cell_type": "code",
   "execution_count": null,
   "metadata": {
    "vscode": {
     "languageId": "wolfram"
    }
   },
   "outputs": [],
   "source": []
  }
 ],
 "metadata": {
  "kernelspec": {
   "display_name": "Wolfram Language 13.1",
   "language": "Wolfram Language",
   "name": "wolframlanguage13.1"
  },
  "language_info": {
   "codemirror_mode": "mathematica",
   "file_extension": ".m",
   "mimetype": "application/vnd.wolfram.m",
   "name": "Wolfram Language",
   "pygments_lexer": "mathematica",
   "version": "12.0"
  },
  "orig_nbformat": 4
 },
 "nbformat": 4,
 "nbformat_minor": 2
}
